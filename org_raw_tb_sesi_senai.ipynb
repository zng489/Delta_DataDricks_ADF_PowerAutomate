{
 "cells": [
  {
   "cell_type": "code",
   "execution_count": 0,
   "metadata": {
    "application/vnd.databricks.v1+cell": {
     "cellMetadata": {
      "byteLimit": 2048000,
      "rowLimit": 10000
     },
     "inputWidgets": {},
     "nuid": "286ebec2-9f10-45a5-ac02-3af21c597c07",
     "showTitle": false,
     "title": ""
    }
   },
   "outputs": [
    {
     "output_type": "stream",
     "name": "stdout",
     "output_type": "stream",
     "text": [
      "fornecedor_dev\ndev-execution\n"
     ]
    }
   ],
   "source": [
    "from cni_connectors import adls_gen1_connector as adls_conn\n",
    "from pyspark.sql.functions import udf, from_utc_timestamp, current_timestamp, lit, input_file_name, monotonically_increasing_id, substring_index\n",
    "var_adls_uri = adls_conn.adls_gen1_connect(spark, dbutils, scope=\"adls_gen2\", dynamic_overwrite=\"dynamic\")"
   ]
  },
  {
   "cell_type": "code",
   "execution_count": 0,
   "metadata": {
    "application/vnd.databricks.v1+cell": {
     "cellMetadata": {
      "byteLimit": 2048000,
      "rowLimit": 10000
     },
     "inputWidgets": {},
     "nuid": "dbac3683-2a10-43c0-a3ed-3e9015f59538",
     "showTitle": false,
     "title": ""
    }
   },
   "outputs": [],
   "source": [
    "import crawler.functions as cf\n",
    "import json\n",
    "import re\n",
    "from unicodedata import normalize"
   ]
  },
  {
   "cell_type": "code",
   "execution_count": 0,
   "metadata": {
    "application/vnd.databricks.v1+cell": {
     "cellMetadata": {
      "byteLimit": 2048000,
      "rowLimit": 10000
     },
     "inputWidgets": {},
     "nuid": "ada32f5c-2470-42ec-bd38-a7654cd75582",
     "showTitle": false,
     "title": ""
    }
   },
   "outputs": [],
   "source": [
    "try:\n",
    "  var_file = json.loads(re.sub(\"\\'\", '\\\"', dbutils.widgets.get(\"file\")))\n",
    "  var_dls = json.loads(re.sub(\"\\'\", '\\\"', dbutils.widgets.get(\"dls\")))\n",
    "  var_adf = json.loads(re.sub(\"\\'\", '\\\"', dbutils.widgets.get(\"adf\")))\n",
    "except: \n",
    "  var_adf = {\"adf_factory_name\":\"cnibigdatafactory\",\"adf_pipeline_name\":\"org_raw_tse_resultados_2022\",\"adf_pipeline_run_id\":\"181ed1d1-3bce-471e-b9fb-f2062f021296\",\"adf_trigger_id\":\"9a3958e25cd44c95bb1be066e9ee53d2\",\"adf_trigger_name\":\"Sandbox\",\"adf_trigger_time\":\"2023-08-18T21:16:02.5764238Z\",\"adf_trigger_type\":\"Manual\"}\n",
    "  \n",
    "  var_dls = {\"folders\":{\"landing\":\"/tmp/dev/uld\",\"error\":\"/tmp/dev/err\",\"staging\":\"/tmp/dev/stg\",\"log\":\"/tmp/dev/log\",\"raw\":\"/tmp/dev/raw\",\"archive\":\"/tmp/dev/ach\"},\"systems\":{\"raw\":\"usr\"},\"path_prefix\":\"/tmp/dev/\"}\n",
    "  \n",
    "  var_file = { 'namespace': '/oni', 'file_folder': '/inteligencia_eleitoral', 'file_folder_raw':'/oni/observatorio_nacional/escolas/unificada/tb_sesi_senai', 'extension': 'csv', 'column_delimiter': ';', 'encoding': 'UTF-8', 'null_value': '' }"
   ]
  },
  {
   "cell_type": "code",
   "execution_count": 0,
   "metadata": {
    "application/vnd.databricks.v1+cell": {
     "cellMetadata": {
      "byteLimit": 2048000,
      "rowLimit": 10000
     },
     "inputWidgets": {},
     "nuid": "455a40c3-14b3-4773-91e7-ba3ed14527b7",
     "showTitle": false,
     "title": ""
    }
   },
   "outputs": [],
   "source": [
    "uld_path = f\"{var_dls['folders']['landing']}{var_file['namespace']}{var_file['file_folder']}\"\n",
    "raw_path = f\"{var_dls['folders']['raw']}/{var_dls['systems']['raw']}{var_file['file_folder_raw']}\""
   ]
  },
  {
   "cell_type": "code",
   "execution_count": 0,
   "metadata": {
    "application/vnd.databricks.v1+cell": {
     "cellMetadata": {
      "byteLimit": 2048000,
      "rowLimit": 10000
     },
     "inputWidgets": {},
     "nuid": "b62e75d9-3a76-43d2-9f3d-026588b67199",
     "showTitle": false,
     "title": ""
    }
   },
   "outputs": [],
   "source": [
    "path_lnd = f\"{var_adls_uri}{uld_path}\"\n",
    "path_raw = f\"{var_adls_uri}{raw_path}\""
   ]
  },
  {
   "cell_type": "code",
   "execution_count": 0,
   "metadata": {
    "application/vnd.databricks.v1+cell": {
     "cellMetadata": {
      "byteLimit": 2048000,
      "rowLimit": 10000
     },
     "inputWidgets": {},
     "nuid": "5030b417-5f09-41b0-b0da-01472daefe38",
     "showTitle": false,
     "title": ""
    }
   },
   "outputs": [],
   "source": [
    "import crawler.functions as cf\n",
    " \n",
    "if not cf.directory_exists(dbutils, uld_path):\n",
    "  dbutils.notebook.exit('Path \"%s\" not exist or is empty' % uld_path)"
   ]
  },
  {
   "cell_type": "code",
   "execution_count": 0,
   "metadata": {
    "application/vnd.databricks.v1+cell": {
     "cellMetadata": {
      "byteLimit": 2048000,
      "rowLimit": 10000
     },
     "inputWidgets": {},
     "nuid": "dbbb34b8-882c-4a0d-bb62-c575f27f23b0",
     "showTitle": false,
     "title": ""
    }
   },
   "outputs": [],
   "source": [
    "df = spark.read.format(\"csv\").option(\"header\",\"true\").option(\"encoding\", \"UTF-8\").option('sep', ';').load(path_lnd, mode=\"FAILFAST\", ignoreLeadingWhiteSpace=True, ignoreTrailingWhiteSpace=True,inferSchema=True)"
   ]
  },
  {
   "cell_type": "code",
   "execution_count": 0,
   "metadata": {
    "application/vnd.databricks.v1+cell": {
     "cellMetadata": {
      "byteLimit": 2048000,
      "rowLimit": 10000
     },
     "inputWidgets": {},
     "nuid": "432d22fc-acab-4399-ab35-4708ad008efe",
     "showTitle": false,
     "title": ""
    }
   },
   "outputs": [],
   "source": [
    "dh_insertion_raw = var_adf[\"adf_trigger_time\"].split(\".\")[0]\n",
    "df = cf.append_control_columns(df, dh_insercao_raw=dh_insertion_raw)"
   ]
  },
  {
   "cell_type": "code",
   "execution_count": 0,
   "metadata": {
    "application/vnd.databricks.v1+cell": {
     "cellMetadata": {
      "byteLimit": 2048000,
      "rowLimit": 10000
     },
     "inputWidgets": {},
     "nuid": "b40cfde7-f045-4255-a61b-abcf79690f72",
     "showTitle": false,
     "title": ""
    }
   },
   "outputs": [],
   "source": [
    "df.write.format('parquet').save(path_raw, header = True, mode='overwrite')"
   ]
  }
 ],
 "metadata": {
  "application/vnd.databricks.v1+notebook": {
   "dashboards": [],
   "language": "python",
   "notebookMetadata": {
    "pythonIndentUnit": 2
   },
   "notebookName": "org_raw_tb_sesi_senai",
   "widgets": {}
  }
 },
 "nbformat": 4,
 "nbformat_minor": 0
}
