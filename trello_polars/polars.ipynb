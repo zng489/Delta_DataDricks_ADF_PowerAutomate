{
 "cells": [
  {
   "cell_type": "code",
   "execution_count": 12,
   "metadata": {},
   "outputs": [
    {
     "data": {
      "text/html": [
       "<div><style>\n",
       ".dataframe > thead > tr,\n",
       ".dataframe > tbody > tr {\n",
       "  text-align: right;\n",
       "  white-space: pre-wrap;\n",
       "}\n",
       "</style>\n",
       "<small>shape: (1, 11)</small><table border=\"1\" class=\"dataframe\"><thead><tr><th>area</th><th>idBoard</th><th>idOrganizations</th><th>name</th><th>displayName</th><th>website</th><th>teamType</th><th>desc</th><th>url</th><th>logoHash</th><th>logoUrl</th></tr><tr><td>u32</td><td>u32</td><td>u32</td><td>u32</td><td>u32</td><td>u32</td><td>u32</td><td>u32</td><td>u32</td><td>u32</td><td>u32</td></tr></thead><tbody><tr><td>1</td><td>1</td><td>1</td><td>1</td><td>1</td><td>0</td><td>0</td><td>1</td><td>1</td><td>1</td><td>1</td></tr></tbody></table></div>"
      ],
      "text/plain": [
       "shape: (1, 11)\n",
       "┌──────┬─────────┬─────────────────┬──────┬───┬──────┬─────┬──────────┬─────────┐\n",
       "│ area ┆ idBoard ┆ idOrganizations ┆ name ┆ … ┆ desc ┆ url ┆ logoHash ┆ logoUrl │\n",
       "│ ---  ┆ ---     ┆ ---             ┆ ---  ┆   ┆ ---  ┆ --- ┆ ---      ┆ ---     │\n",
       "│ u32  ┆ u32     ┆ u32             ┆ u32  ┆   ┆ u32  ┆ u32 ┆ u32      ┆ u32     │\n",
       "╞══════╪═════════╪═════════════════╪══════╪═══╪══════╪═════╪══════════╪═════════╡\n",
       "│ 1    ┆ 1       ┆ 1               ┆ 1    ┆ … ┆ 1    ┆ 1   ┆ 1        ┆ 1       │\n",
       "└──────┴─────────┴─────────────────┴──────┴───┴──────┴─────┴──────────┴─────────┘"
      ]
     },
     "execution_count": 12,
     "metadata": {},
     "output_type": "execute_result"
    }
   ],
   "source": [
    "import polars as pl\n",
    "\n",
    "df = pl.read_parquet(r\"C:\\Users\\zhang.yuan\\Desktop\\git\\cni_observatorio\\trello_polars\\trello__organizations\\*.parquet\")\n",
    "df.count()"
   ]
  },
  {
   "cell_type": "code",
   "execution_count": null,
   "metadata": {},
   "outputs": [],
   "source": [
    "trello__actions       6660\n",
    "trello__board         26\n",
    "trello__card          970\n",
    "trello__checklist     6528\n",
    "trello__customfields  15463\n",
    "trello__enterprise    1\n",
    "trello__list          742\n",
    "trello__member        75\n",
    "trello__organizations 1"
   ]
  },
  {
   "cell_type": "code",
   "execution_count": 19,
   "metadata": {},
   "outputs": [
    {
     "data": {
      "text/plain": [
       "[2021, 2022, 2023]"
      ]
     },
     "execution_count": 19,
     "metadata": {},
     "output_type": "execute_result"
    }
   ],
   "source": [
    "x"
   ]
  },
  {
   "cell_type": "code",
   "execution_count": 6,
   "metadata": {},
   "outputs": [],
   "source": [
    "filter_values = ['2023', '2022', '2021']"
   ]
  },
  {
   "cell_type": "code",
   "execution_count": 10,
   "metadata": {},
   "outputs": [
    {
     "data": {
      "text/html": [
       "<div><style>\n",
       ".dataframe > thead > tr,\n",
       ".dataframe > tbody > tr {\n",
       "  text-align: right;\n",
       "  white-space: pre-wrap;\n",
       "}\n",
       "</style>\n",
       "<small>shape: (4_939,)</small><table border=\"1\" class=\"dataframe\"><thead><tr><th>ano</th></tr><tr><td>str</td></tr></thead><tbody><tr><td>&quot;2023&quot;</td></tr><tr><td>&quot;2023&quot;</td></tr><tr><td>&quot;2023&quot;</td></tr><tr><td>&quot;2023&quot;</td></tr><tr><td>&quot;2023&quot;</td></tr><tr><td>&quot;2023&quot;</td></tr><tr><td>&quot;2023&quot;</td></tr><tr><td>&quot;2023&quot;</td></tr><tr><td>&quot;2023&quot;</td></tr><tr><td>&quot;2023&quot;</td></tr><tr><td>&quot;2023&quot;</td></tr><tr><td>&quot;2023&quot;</td></tr><tr><td>&hellip;</td></tr><tr><td>&quot;2021&quot;</td></tr><tr><td>&quot;2021&quot;</td></tr><tr><td>&quot;2021&quot;</td></tr><tr><td>&quot;2021&quot;</td></tr><tr><td>&quot;2021&quot;</td></tr><tr><td>&quot;2021&quot;</td></tr><tr><td>&quot;2021&quot;</td></tr><tr><td>&quot;2021&quot;</td></tr><tr><td>&quot;2021&quot;</td></tr><tr><td>&quot;2021&quot;</td></tr><tr><td>&quot;2021&quot;</td></tr><tr><td>&quot;2023&quot;</td></tr></tbody></table></div>"
      ],
      "text/plain": [
       "shape: (4_939,)\n",
       "Series: 'ano' [str]\n",
       "[\n",
       "\t\"2023\"\n",
       "\t\"2023\"\n",
       "\t\"2023\"\n",
       "\t\"2023\"\n",
       "\t\"2023\"\n",
       "\t\"2023\"\n",
       "\t\"2023\"\n",
       "\t\"2023\"\n",
       "\t\"2023\"\n",
       "\t\"2023\"\n",
       "\t\"2023\"\n",
       "\t\"2023\"\n",
       "\t…\n",
       "\t\"2021\"\n",
       "\t\"2021\"\n",
       "\t\"2021\"\n",
       "\t\"2021\"\n",
       "\t\"2021\"\n",
       "\t\"2021\"\n",
       "\t\"2021\"\n",
       "\t\"2021\"\n",
       "\t\"2021\"\n",
       "\t\"2021\"\n",
       "\t\"2021\"\n",
       "\t\"2021\"\n",
       "\t\"2023\"\n",
       "]"
      ]
     },
     "execution_count": 10,
     "metadata": {},
     "output_type": "execute_result"
    }
   ],
   "source": [
    "df['ano']"
   ]
  },
  {
   "cell_type": "code",
   "execution_count": 9,
   "metadata": {},
   "outputs": [
    {
     "ename": "AttributeError",
     "evalue": "'Series' object has no attribute 'isin'",
     "output_type": "error",
     "traceback": [
      "\u001b[1;31m---------------------------------------------------------------------------\u001b[0m",
      "\u001b[1;31mAttributeError\u001b[0m                            Traceback (most recent call last)",
      "Cell \u001b[1;32mIn[9], line 1\u001b[0m\n\u001b[1;32m----> 1\u001b[0m df\u001b[38;5;241m.\u001b[39mfilter(\u001b[43mdf\u001b[49m\u001b[43m[\u001b[49m\u001b[38;5;124;43m'\u001b[39;49m\u001b[38;5;124;43mano\u001b[39;49m\u001b[38;5;124;43m'\u001b[39;49m\u001b[43m]\u001b[49m\u001b[38;5;241;43m.\u001b[39;49m\u001b[43misin\u001b[49m(filter_values))\n",
      "\u001b[1;31mAttributeError\u001b[0m: 'Series' object has no attribute 'isin'"
     ]
    }
   ],
   "source": [
    "df.filter(df['ano'].isin(filter_values))"
   ]
  },
  {
   "cell_type": "code",
   "execution_count": 12,
   "metadata": {},
   "outputs": [
    {
     "ename": "AttributeError",
     "evalue": "'Series' object has no attribute 'distinct'",
     "output_type": "error",
     "traceback": [
      "\u001b[1;31m---------------------------------------------------------------------------\u001b[0m",
      "\u001b[1;31mAttributeError\u001b[0m                            Traceback (most recent call last)",
      "Cell \u001b[1;32mIn[12], line 1\u001b[0m\n\u001b[1;32m----> 1\u001b[0m x \u001b[38;5;241m=\u001b[39m \u001b[43mdf\u001b[49m\u001b[43m[\u001b[49m\u001b[38;5;124;43m'\u001b[39;49m\u001b[38;5;124;43mano\u001b[39;49m\u001b[38;5;124;43m'\u001b[39;49m\u001b[43m]\u001b[49m\u001b[38;5;241;43m.\u001b[39;49m\u001b[43mdistinct\u001b[49m()\u001b[38;5;241m.\u001b[39mto_list()\n",
      "\u001b[1;31mAttributeError\u001b[0m: 'Series' object has no attribute 'distinct'"
     ]
    }
   ],
   "source": [
    "x = df['ano'].distinct().to_list()"
   ]
  },
  {
   "cell_type": "code",
   "execution_count": null,
   "metadata": {},
   "outputs": [],
   "source": []
  }
 ],
 "metadata": {
  "kernelspec": {
   "display_name": "conda_3.9",
   "language": "python",
   "name": "python3"
  },
  "language_info": {
   "codemirror_mode": {
    "name": "ipython",
    "version": 3
   },
   "file_extension": ".py",
   "mimetype": "text/x-python",
   "name": "python",
   "nbconvert_exporter": "python",
   "pygments_lexer": "ipython3",
   "version": "3.9.16"
  }
 },
 "nbformat": 4,
 "nbformat_minor": 2
}
