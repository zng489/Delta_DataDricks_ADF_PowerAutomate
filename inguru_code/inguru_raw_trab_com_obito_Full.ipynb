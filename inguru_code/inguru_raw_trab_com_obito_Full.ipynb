{
 "cells": [
  {
   "cell_type": "code",
   "execution_count": 1,
   "metadata": {},
   "outputs": [],
   "source": [
    "import requests\n",
    "import pandas as pd"
   ]
  },
  {
   "cell_type": "code",
   "execution_count": 2,
   "metadata": {},
   "outputs": [
    {
     "name": "stdout",
     "output_type": "stream",
     "text": [
      "<Response [200]>\n"
     ]
    },
    {
     "data": {
      "text/plain": [
       "{'data': [{'id': 8774,\n",
       "   'created_at': '2022-05-03 13:44:51',\n",
       "   'updated_at': '2023-03-17 09:56:32',\n",
       "   'name': 'Nodo Raiz',\n",
       "   'expression': '\"ACIDENTE\" OR \"ACIDENTES\"',\n",
       "   'initial_date': None,\n",
       "   'final_date': None,\n",
       "   'color': '#80B62E',\n",
       "   'children': [{'id': 8776,\n",
       "     'created_at': '2022-05-03 13:47:55',\n",
       "     'updated_at': '2023-03-17 09:56:32',\n",
       "     'name': 'CASOS',\n",
       "     'expression': '\"se acidentou\" OR \"acidente ocorreu\" OR \"aconteceu\" OR \"registro\" OR \"registrado\" OR \"sofreu\" OR \"feriu\" OR \"machucou\" AND (\"TRABALHO\" OR \"NO TRABALHO\") NOT (\"morte\" OR \"obito\" OR \"faleceu\" OR \"faleceram\" OR \"morreu\" OR \"morreram\")',\n",
       "     'initial_date': None,\n",
       "     'final_date': None,\n",
       "     'color': '#80B62E',\n",
       "     'children': [],\n",
       "     'links': {'news': 'https://app.inguru.me/api/v1/taxonomies/nodes/news/8776'}},\n",
       "    {'id': 8775,\n",
       "     'created_at': '2022-05-03 13:45:23',\n",
       "     'updated_at': '2023-03-17 09:56:33',\n",
       "     'name': 'ACIDENTES DE TRABALHO',\n",
       "     'expression': '\"acidentes de trabalho\" OR \"acidente de trabalho\" OR \"acidente no trabalho\" OR \"acidentes no trabalho\" NOT (\"DIÁRIO OFICIAL\" OR \"FGTS\")',\n",
       "     'initial_date': None,\n",
       "     'final_date': None,\n",
       "     'color': '#80B62E',\n",
       "     'children': [],\n",
       "     'links': {'news': 'https://app.inguru.me/api/v1/taxonomies/nodes/news/8775'}}],\n",
       "   'links': {'news': 'https://app.inguru.me/api/v1/taxonomies/nodes/news/8774'}}]}"
      ]
     },
     "execution_count": 2,
     "metadata": {},
     "output_type": "execute_result"
    }
   ],
   "source": [
    "headers = {\n",
    "'User-Agent':'Mozilla/5.0 (Windows NT 10.0; Win64; x64) AppleWebKit/537.36 (KHTML, like Gecko) Chrome/100.0.4896.127 Safari/537.36',\n",
    "'accept':'application/json',\n",
    "'authorization': '6f64d6a047fad369d35c3806f8f8e0560475075a432585973f91caae35b4ad74'\n",
    "} \n",
    "\n",
    "params = {\n",
    "    'per_page': 10,\n",
    "    'start_date': '',\n",
    "    'end_date': '',\n",
    "    'sort': '1'\n",
    "}\n",
    "\n",
    "id = '926' #Declaração do ID\n",
    "url = 'https://app.inguru.me/api/v1/taxonomies/nodes/'+str(f'{id}')\n",
    "\n",
    "#url = 'https://app.inguru.me/api/v1/taxonomies/nodes/news/8780'\n",
    "response = requests.get(url, headers=headers, params=params)\n",
    "print(response)\n",
    "response.json()\n"
   ]
  },
  {
   "cell_type": "code",
   "execution_count": 96,
   "metadata": {},
   "outputs": [
    {
     "name": "stdout",
     "output_type": "stream",
     "text": [
      "https://app.inguru.me/api/v1/taxonomies/nodes/news/8774\n",
      "https://app.inguru.me/api/v1/taxonomies/nodes/news/8776\n",
      "https://app.inguru.me/api/v1/taxonomies/nodes/news/8775\n"
     ]
    }
   ],
   "source": [
    "a = []\n",
    "if response.json()['data'][0]['links']:\n",
    "    print(response.json()['data'][0]['links']['news'])\n",
    "    a.append(response.json()['data'][0]['links']['news'])\n",
    "else:\n",
    "    print('IT DOES NOT EXIST')\n",
    "\n",
    "if response.json()['data'][0]['children']:\n",
    "    for x in range(0,len(response.json()['data'][0]['children'])):\n",
    "        print(response.json()['data'][0]['children'][x]['links']['news'])\n",
    "        a.append(response.json()['data'][0]['children'][x]['links']['news'])\n",
    "else:\n",
    "    print('IT DOES NOT EXIST')\n"
   ]
  },
  {
   "cell_type": "code",
   "execution_count": 6,
   "metadata": {},
   "outputs": [
    {
     "name": "stdout",
     "output_type": "stream",
     "text": [
      "https://app.inguru.me/api/v1/taxonomies/nodes/news/7867\n"
     ]
    },
    {
     "name": "stderr",
     "output_type": "stream",
     "text": [
      "C:\\Users\\PC\\AppData\\Local\\Temp\\ipykernel_19296\\2399311919.py:68: FutureWarning: The frame.append method is deprecated and will be removed from pandas in a future version. Use pandas.concat instead.\n",
      "  append_frame = append_frame.append(df,ignore_index=True)\n",
      "C:\\Users\\PC\\AppData\\Local\\Temp\\ipykernel_19296\\2399311919.py:68: FutureWarning: The frame.append method is deprecated and will be removed from pandas in a future version. Use pandas.concat instead.\n",
      "  append_frame = append_frame.append(df,ignore_index=True)\n",
      "C:\\Users\\PC\\AppData\\Local\\Temp\\ipykernel_19296\\2399311919.py:68: FutureWarning: The frame.append method is deprecated and will be removed from pandas in a future version. Use pandas.concat instead.\n",
      "  append_frame = append_frame.append(df,ignore_index=True)\n",
      "C:\\Users\\PC\\AppData\\Local\\Temp\\ipykernel_19296\\2399311919.py:68: FutureWarning: The frame.append method is deprecated and will be removed from pandas in a future version. Use pandas.concat instead.\n",
      "  append_frame = append_frame.append(df,ignore_index=True)\n",
      "C:\\Users\\PC\\AppData\\Local\\Temp\\ipykernel_19296\\2399311919.py:68: FutureWarning: The frame.append method is deprecated and will be removed from pandas in a future version. Use pandas.concat instead.\n",
      "  append_frame = append_frame.append(df,ignore_index=True)\n"
     ]
    }
   ],
   "source": [
    "class Class(object):\n",
    "    \n",
    "    url = 'https://app.inguru.me/api/v1/taxonomies/nodes/'\n",
    "    \n",
    "    def __init__(self):\n",
    "        self.value_url = Class.url\n",
    "    \n",
    "\n",
    "    # Isolated\n",
    "    def __str__(self):\n",
    "        return self.value_url + '__str__'\n",
    "  \n",
    "\n",
    "\n",
    "\n",
    "    def class_function(self, id):\n",
    "        headers = {\n",
    "            'User-Agent':'Mozilla/5.0 (Windows NT 10.0; Win64; x64) AppleWebKit/537.36 (KHTML, like Gecko) Chrome/100.0.4896.127 Safari/537.36',\n",
    "            'accept':'application/json',\n",
    "            'authorization': '6f64d6a047fad369d35c3806f8f8e0560475075a432585973f91caae35b4ad74'\n",
    "            } \n",
    "        params = { \n",
    "            'per_page': 1,\n",
    "            'start_date': '',\n",
    "            'end_date': '',\n",
    "            'sort': '1'}\n",
    "        url = self.value_url  + str(f'{id}')\n",
    "        response = requests.get(url, headers=headers, params=params)\n",
    "        a = []\n",
    "        if response.json()['data'][0]['links']:\n",
    "            #print(response.json()['data'][0]['links']['news'])\n",
    "            a.append(response.json()['data'][0]['links']['news'])\n",
    "        else:\n",
    "            pass\n",
    "        if response.json()['data'][0]['children']:\n",
    "            for x in range(0,len(response.json()['data'][0]['children'])):\n",
    "                #print(response.json()['data'][0]['children'][x]['links']['news'])\n",
    "                a.append(response.json()['data'][0]['children'][x]['links']['news'])     \n",
    "            else:\n",
    "                pass\n",
    "        return a, response.json()\n",
    "    \n",
    "\n",
    "    def inguru(self, ID_INFORMATION):\n",
    "        \n",
    "        number = 1\n",
    "        append_frame = pd.DataFrame()\n",
    "        for x in ID_INFORMATION[0]:\n",
    "            print(x)\n",
    "            while True:\n",
    "                if x is not None:\n",
    "                    headers = {\n",
    "                        'User-Agent':'Mozilla/5.0 (Windows NT 10.0; Win64; x64) AppleWebKit/537.36 (KHTML, like Gecko) Chrome/100.0.4896.127 Safari/537.36',\n",
    "                        'accept':'application/json',\n",
    "                        'authorization': '6f64d6a047fad369d35c3806f8f8e0560475075a432585973f91caae35b4ad74'\n",
    "                        } \n",
    "                    params = { \n",
    "                        'per_page': 1000,\n",
    "                        'start_date': '',\n",
    "                        'end_date': '',\n",
    "                        'sort': '1'}\n",
    "                    url_information = x + f'?page={number}'\n",
    "                    #print(url_information)\n",
    "\n",
    "                    response = requests.get(url_information, headers=headers, params=params)\n",
    "                    #print(response.json())\n",
    "                    df = pd.json_normalize(response.json()['data'])\n",
    "                    append_frame = append_frame.append(df,ignore_index=True)\n",
    "                    \n",
    "                   # print(response.json()['pagination']['total_pages'])\n",
    "                    \n",
    "                number += 1\n",
    "                if number > response.json()['pagination']['total_pages']:\n",
    "                    break\n",
    "                    \n",
    "            append_frame_inc = append_frame  \n",
    "        return append_frame_inc.to_parquet('df.parquet.gzip', compression='gzip')   \n",
    "\n",
    "\n",
    "    \n",
    "if __name__ == '__main__':\n",
    "    #print(Class())\n",
    "    #'https://app.inguru.me/api/v1/taxonomies/nodes/'\n",
    "\n",
    "    #t = Class()\n",
    "    #print(t)\n",
    "    \n",
    "    T = Class()\n",
    "    ID_INFORMATION = T.class_function(820)\n",
    "    #print(ID_INFORMATION[0])\n",
    "    E = T.inguru(ID_INFORMATION)"
   ]
  },
  {
   "cell_type": "code",
   "execution_count": null,
   "metadata": {},
   "outputs": [],
   "source": []
  }
 ],
 "metadata": {
  "kernelspec": {
   "display_name": "dask",
   "language": "python",
   "name": "python3"
  },
  "language_info": {
   "codemirror_mode": {
    "name": "ipython",
    "version": 3
   },
   "file_extension": ".py",
   "mimetype": "text/x-python",
   "name": "python",
   "nbconvert_exporter": "python",
   "pygments_lexer": "ipython3",
   "version": "3.8.16"
  },
  "orig_nbformat": 4
 },
 "nbformat": 4,
 "nbformat_minor": 2
}
