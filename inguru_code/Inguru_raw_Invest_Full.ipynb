{
 "cells": [
  {
   "cell_type": "code",
   "execution_count": 1,
   "metadata": {},
   "outputs": [],
   "source": [
    "import requests\n",
    "import pandas as pd"
   ]
  },
  {
   "cell_type": "code",
   "execution_count": 3,
   "metadata": {},
   "outputs": [
    {
     "name": "stdout",
     "output_type": "stream",
     "text": [
      "<Response [200]>\n",
      "{'data': [{'id': 7867, 'created_at': '2021-03-26 09:12:29', 'updated_at': '2023-04-18 14:05:51', 'name': 'Investimento', 'expression': '(investimento OR investir* AND (\"nova planta\" OR \"nova fábrica\" OR \"novo empreendimento\" OR \"nova unidade\" OR \"nova indústria\")) NOT (bitcoin* OR \"bolsa de valores\")', 'initial_date': None, 'final_date': None, 'color': '#80B62E', 'children': [], 'links': {'news': 'https://app.inguru.me/api/v1/taxonomies/nodes/news/7867'}}]}\n"
     ]
    }
   ],
   "source": [
    "headers = {\n",
    "'User-Agent':'Mozilla/5.0 (Windows NT 10.0; Win64; x64) AppleWebKit/537.36 (KHTML, like Gecko) Chrome/100.0.4896.127 Safari/537.36',\n",
    "'accept':'application/json',\n",
    "'authorization': '6f64d6a047fad369d35c3806f8f8e0560475075a432585973f91caae35b4ad74'\n",
    "} \n",
    "\n",
    "params = {\n",
    "    'per_page': 1,\n",
    "    'start_date': '',\n",
    "    'end_date': '',\n",
    "    'sort': '1'\n",
    "}\n",
    "\n",
    "id = '820' #Declaração do ID\n",
    "url = 'https://app.inguru.me/api/v1/taxonomies/nodes/'+str(f'{id}')\n",
    "\n",
    "response = requests.get(url, headers=headers, params=params)\n",
    "print(response)\n",
    "print(response.json())"
   ]
  },
  {
   "cell_type": "code",
   "execution_count": null,
   "metadata": {},
   "outputs": [],
   "source": [
    "headers = {\n",
    "'User-Agent':'Mozilla/5.0 (Windows NT 10.0; Win64; x64) AppleWebKit/537.36 (KHTML, like Gecko) Chrome/100.0.4896.127 Safari/537.36',\n",
    "'accept':'application/json',\n",
    "'authorization': '6f64d6a047fad369d35c3806f8f8e0560475075a432585973f91caae35b4ad74'\n",
    "} \n",
    "\n",
    "params = {\n",
    "    'per_page': 1000,\n",
    "    'start_date': '',\n",
    "    'end_date': '',\n",
    "    'sort': '1'\n",
    "}\n",
    "\n",
    "# Quando maior 'per_page' maior 'informations' menor total_pages\n",
    "\n",
    "#'pagination': {'total': 4555,\n",
    "#'count': 2000,\n",
    "#'per_page': 2000,\n",
    "#'current_page': 1,\n",
    "#'total_pages': 2,\n",
    "#'links': {'next_page': 'https://app.inguru.me/api/v1/taxonomies/nodes/news/7867?page=2',\n",
    "#'previous_page': None}}}\n",
    "\n",
    "#id = '820' #Declaração do ID\n",
    "url = 'https://app.inguru.me/api/v1/taxonomies/nodes/news/7867'\n",
    "\n",
    "response = requests.get(url, headers=headers, params=params)\n",
    "print(response)\n",
    "response.json()"
   ]
  },
  {
   "cell_type": "code",
   "execution_count": null,
   "metadata": {},
   "outputs": [],
   "source": [
    "number = 1\n",
    "append_frame = pd.DataFrame()\n",
    "while True:\n",
    "    if response.json() is not None:\n",
    "\n",
    "        headers = {'User-Agent':'Mozilla/5.0 (Windows NT 10.0; Win64; x64) AppleWebKit/537.36 (KHTML, like Gecko) Chrome/100.0.4896.127 Safari/537.36',\n",
    "        'accept':'application/json',\n",
    "        'authorization': '6f64d6a047fad369d35c3806f8f8e0560475075a432585973f91caae35b4ad74'\n",
    "        } \n",
    "\n",
    "        params = {\n",
    "            'per_page': 1000,\n",
    "            'start_date': '',\n",
    "            'end_date': '',\n",
    "            'sort': '1'\n",
    "        }\n",
    "\n",
    "        # Quando maior 'per_page' maior 'informations' menor total_pages\n",
    "\n",
    "        #'pagination': {'total': 4555,\n",
    "        #'count': 2000,\n",
    "        #'per_page': 2000,\n",
    "        #'current_page': 1,\n",
    "        #'total_pages': 2,\n",
    "        #'links': {'next_page': 'https://app.inguru.me/api/v1/taxonomies/nodes/news/7867?page=2',\n",
    "        #'previous_page': None}}}\n",
    "\n",
    "        #id = '820' #Declaração do ID\n",
    "        url = f'https://app.inguru.me/api/v1/taxonomies/nodes/news/7867?page={number}'\n",
    "\n",
    "        response = requests.get(url, headers=headers, params=params)\n",
    "        df = pd.json_normalize(response.json()['data'])\n",
    "        append_frame = append_frame.append(df,ignore_index=True)\n",
    "\n",
    "        print(response.json()['pagination']['total_pages'])\n",
    "    number += 1\n",
    "    if number > response.json()['pagination']['total_pages']:\n",
    "        break\n",
    "\n",
    "append_frame        \n",
    "#display(append_frame) \n",
    "\n",
    "        "
   ]
  },
  {
   "cell_type": "code",
   "execution_count": 50,
   "metadata": {},
   "outputs": [
    {
     "name": "stdout",
     "output_type": "stream",
     "text": [
      "11/04/2023 13:47\n",
      "22/03/2023 13:47\n"
     ]
    }
   ],
   "source": [
    "end_date = datetime.now().strftime(\"%d/%m/%Y %H:%M\")\n",
    "print(end_date)\n",
    "start_date = (datetime.now() - timedelta(days=20)).strftime(\"%d/%m/%Y %H:%M\")\n",
    "print(start_date)"
   ]
  },
  {
   "cell_type": "code",
   "execution_count": 52,
   "metadata": {},
   "outputs": [
    {
     "name": "stdout",
     "output_type": "stream",
     "text": [
      "11/04/2023 13:49\n",
      "22/03/2023 13:49\n",
      "0\n"
     ]
    },
    {
     "name": "stderr",
     "output_type": "stream",
     "text": [
      "C:\\Users\\PC\\AppData\\Local\\Temp\\ipykernel_26592\\3042353295.py:38: FutureWarning: The frame.append method is deprecated and will be removed from pandas in a future version. Use pandas.concat instead.\n",
      "  append_frame = append_frame.append(df,ignore_index=True)\n"
     ]
    }
   ],
   "source": [
    "number = 1\n",
    "append_frame = pd.DataFrame()\n",
    "while True:\n",
    "    if response.json() is not None:\n",
    "\n",
    "        headers = {'User-Agent':'Mozilla/5.0 (Windows NT 10.0; Win64; x64) AppleWebKit/537.36 (KHTML, like Gecko) Chrome/100.0.4896.127 Safari/537.36',\n",
    "        'accept':'application/json',\n",
    "        'authorization': '6f64d6a047fad369d35c3806f8f8e0560475075a432585973f91caae35b4ad74'\n",
    "        } \n",
    "        \n",
    "        end_date = datetime.now().strftime(\"%d/%m/%Y %H:%M\")\n",
    "        print(end_date)\n",
    "        start_date = (datetime.now() - timedelta(days=20)).strftime(\"%d/%m/%Y %H:%M\")\n",
    "        print(start_date)\n",
    "\n",
    "        params = {\n",
    "            'per_page': 1000,\n",
    "            'start_date': start_date,\n",
    "            'end_date': end_date,\n",
    "            'sort': '1'\n",
    "        }\n",
    "\n",
    "        # Quando maior 'per_page' maior 'informations' menor total_pages\n",
    "\n",
    "        #'pagination': {'total': 4555,\n",
    "        #'count': 2000,\n",
    "        #'per_page': 2000,\n",
    "        #'current_page': 1,\n",
    "        #'total_pages': 2,\n",
    "        #'links': {'next_page': 'https://app.inguru.me/api/v1/taxonomies/nodes/news/7867?page=2',\n",
    "        #'previous_page': None}}}\n",
    "\n",
    "        #id = '820' #Declaração do ID\n",
    "        url = f'https://app.inguru.me/api/v1/taxonomies/nodes/news/7867?page={number}'\n",
    "\n",
    "        response = requests.get(url, headers=headers, params=params)\n",
    "        df = pd.json_normalize(response.json()['data'])\n",
    "        append_frame = append_frame.append(df,ignore_index=True)\n",
    "\n",
    "        print(response.json()['pagination']['total_pages'])\n",
    "    number += 1\n",
    "    if number > response.json()['pagination']['total_pages']:\n",
    "        break\n",
    "\n",
    "append_frame_inc = append_frame        \n",
    "#display(append_frame) "
   ]
  },
  {
   "cell_type": "code",
   "execution_count": 62,
   "metadata": {},
   "outputs": [],
   "source": [
    "append_frame['crawled_date'] = pd.to_datetime(append_frame['crawled_date'])"
   ]
  },
  {
   "cell_type": "code",
   "execution_count": 63,
   "metadata": {},
   "outputs": [
    {
     "data": {
      "text/plain": [
       "Timestamp('2023-04-11 11:13:44')"
      ]
     },
     "execution_count": 63,
     "metadata": {},
     "output_type": "execute_result"
    }
   ],
   "source": [
    "max_date = append_frame['crawled_date'].max()\n",
    "max_date"
   ]
  },
  {
   "cell_type": "code",
   "execution_count": 64,
   "metadata": {},
   "outputs": [
    {
     "data": {
      "text/plain": [
       "Timestamp('2023-04-04 11:13:44')"
      ]
     },
     "execution_count": 64,
     "metadata": {},
     "output_type": "execute_result"
    }
   ],
   "source": [
    "from datetime import datetime, timedelta\n",
    "min_date = max_date - timedelta(days=7)\n",
    "min_date"
   ]
  },
  {
   "cell_type": "code",
   "execution_count": null,
   "metadata": {},
   "outputs": [],
   "source": [
    "append_frame_inc['crawled_date'] = pd.to_datetime(append_frame_inc['crawled_date'])\n",
    "append_frame_inc[append_frame_inc[\"crawled_date\"] > min_date]"
   ]
  },
  {
   "cell_type": "code",
   "execution_count": null,
   "metadata": {},
   "outputs": [],
   "source": [
    "diff_df = graph_dfs[i].join(old_df, on='id', how='left_anti')"
   ]
  }
 ],
 "metadata": {
  "kernelspec": {
   "display_name": "dask",
   "language": "python",
   "name": "python3"
  },
  "language_info": {
   "codemirror_mode": {
    "name": "ipython",
    "version": 3
   },
   "file_extension": ".py",
   "mimetype": "text/x-python",
   "name": "python",
   "nbconvert_exporter": "python",
   "pygments_lexer": "ipython3",
   "version": "3.8.16"
  },
  "orig_nbformat": 4
 },
 "nbformat": 4,
 "nbformat_minor": 2
}
