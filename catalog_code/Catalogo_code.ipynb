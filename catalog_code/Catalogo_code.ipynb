{
 "cells": [
  {
   "cell_type": "code",
   "execution_count": null,
   "metadata": {},
   "outputs": [],
   "source": [
    "https://apisidra.ibge.gov.br/values/t/7243/n1/all/v/all/p/last%203/c12762/all\n",
    "\n",
    "\n",
    "https://apisidra.ibge.gov.br/values/t/7243/n1/all/v/all/p/first%203/c12762/all"
   ]
  },
  {
   "cell_type": "code",
   "execution_count": null,
   "metadata": {
    "application/vnd.databricks.v1+cell": {
     "cellMetadata": {
      "byteLimit": 2048000,
      "rowLimit": 10000
     },
     "inputWidgets": {},
     "nuid": "ae2406bd-7d5c-478f-b5e7-8524ef7cbb7e",
     "showTitle": false,
     "title": ""
    }
   },
   "outputs": [],
   "source": [
    "#dbutils.widgets.dropdown(\"env\", \"dev\", [\"dev\", \"prod\"])\n",
    "dbutils.widgets.dropdown(\"env\", \"prod\", [\"dev\", \"prod\"])\n",
    "dbutils.widgets.dropdown(\"layers\", \"raw\", [\"raw\", \"trs\", \"biz\"])\n",
    "dbutils.widgets.text(\"source_name\",\"raw\")\n",
    "dbutils.widgets.text(\"source_type\",\"external\")"
   ]
  },
  {
   "cell_type": "code",
   "execution_count": null,
   "metadata": {
    "application/vnd.databricks.v1+cell": {
     "cellMetadata": {
      "byteLimit": 2048000,
      "rowLimit": 10000
     },
     "inputWidgets": {},
     "nuid": "db79fb7a-4856-46f5-9e79-6daa04efc5e3",
     "showTitle": false,
     "title": ""
    }
   },
   "outputs": [],
   "source": [
    "import time\n",
    "import re\n",
    "from pyspark.sql import Row\n",
    "from pyspark.sql.functions import *\n",
    "from delta.tables import *\n",
    "from pyspark.sql.types import *\n",
    "from pyspark.sql import functions as F\n",
    "  \n",
    "var_adls_uri = 'abfss://datalake@cnibigdatadlsgen2.dfs.core.windows.net'"
   ]
  },
  {
   "cell_type": "code",
   "execution_count": null,
   "metadata": {
    "application/vnd.databricks.v1+cell": {
     "cellMetadata": {
      "byteLimit": 2048000,
      "rowLimit": 10000
     },
     "inputWidgets": {},
     "nuid": "e85c9fd4-e192-4650-ab65-b735c8a2af8b",
     "showTitle": false,
     "title": ""
    }
   },
   "outputs": [],
   "source": [
    "def function_0():\n",
    "  \n",
    "  env = dbutils.widgets.get(\"env\") # dev\n",
    "  source_name = dbutils.widgets.get(\"source_name\") # crw\n",
    "  source_type = dbutils.widgets.get(\"source_type\") # external\n",
    "  default_dir = '/'.join(['','tmp','dev'])\n",
    "  if env == 'prod':\n",
    "    default_dir = \"\"\n",
    "  #print(env)\n",
    "  return default_dir\n",
    "\n",
    "\n",
    "def normaliza_path(path:'abfss address') -> 'string address':\n",
    "  i = (3 if (path[0:6] == 'abfss:') else 0)\n",
    "  return('/'.join(path.replace('/','%%/%%').strip().split('%%/%%')[i:]))\n",
    "\n",
    "\n",
    "def gera_lista(caminho):\n",
    "  conjunto = []\n",
    "  try:lista = dbutils.fs.ls(caminho)\n",
    "  except: dbutils.notebook.exit(\"Arquivo não encontrado\")\n",
    "  for item in lista:\n",
    "    path = item.path\n",
    "    path_normalizada = normaliza_path(path)\n",
    "    if path_normalizada in ['trs/mtd']:\n",
    "      conjunto = conjunto + gera_lista(path)\n",
    "      continue\n",
    "    else:\n",
    "      conjunto.append(path)\n",
    "  return conjunto\n",
    "\n",
    "\n",
    "def varre_(path):\n",
    "  path_sources = ['/' + 'raw' + '/' + 'bdo', '/' + 'raw' + '/' + 'crw', '/' + 'raw' + '/' + 'usr', '/' + 'trs', '/' + 'biz']\n",
    "  path_schemas = []\n",
    "  path_tables = []\n",
    "  for path_source in path_sources:\n",
    "    path_schemas += gera_lista (path + path_source)\n",
    "  return path_schemas\n",
    "\n",
    "\n",
    "def varre_retorna_lista(caminhos):\n",
    "  conjunto = []\n",
    "  for path_schema in caminhos:\n",
    "    try:\n",
    "      items = dbutils.fs.ls(path_schema)\n",
    "      for item in items:\n",
    "        path = item.path.rsplit('/', 1)[0]\n",
    "        path_normalizada = normaliza_path(path)\n",
    "        if path_normalizada in ['trs/mtd']:\n",
    "          conjunto = conjunto + gera_lista (path)\n",
    "          continue\n",
    "        else:\n",
    "          conjunto.append(path)\n",
    "        path_tables = conjunto\n",
    "    except:\n",
    "      item = 'erro'\n",
    "  return path_tables\n",
    "\n",
    "\n",
    "def CHECKING_ALL_PATHS_AND_LAYER(valor):\n",
    "  DataLake = []\n",
    "  for i in valor: \n",
    "    if i in ['abfss://datalake@cnibigdatadlsgen2.dfs.core.windows.net/tmp/dev/raw/usr/catalogo/data_steward','abfss://datalake@cnibigdatadlsgen2.dfs.core.windows.net/tmp/dev/raw/usr/catalogo/schema','abfss://datalake@cnibigdatadlsgen2.dfs.core.windows.net/tmp/dev/raw/usr/catalogo/source','abfss://datalake@cnibigdatadlsgen2.dfs.core.windows.net/tmp/dev/raw/usr/catalogo/table','abfss://datalake@cnibigdatadlsgen2.dfs.core.windows.net/raw/crw/trello/', 'abfss://datalake@cnibigdatadlsgen2.dfs.core.windows.net/raw/usr/sti/','abfss://datalake@cnibigdatadlsgen2.dfs.core.windows.net/raw/usr/unigest/', 'abfss://datalake@cnibigdatadlsgen2.dfs.core.windows.net/raw/usr/oba/', 'abfss://datalake@cnibigdatadlsgen2.dfs.core.windows.net/trs/universidade_corporativa/', 'abfss://datalake@cnibigdatadlsgen2.dfs.core.windows.net/trs/mtd/', 'abfss://datalake@cnibigdatadlsgen2.dfs.core.windows.net/trs/evt/', 'abfss://datalake@cnibigdatadlsgen2.dfs.core.windows.net/trs/dh/', 'abfss://datalake@cnibigdatadlsgen2.dfs.core.windows.net/trs/indicadores/', 'abfss://datalake@cnibigdatadlsgen2.dfs.core.windows.net/trs/fred/', 'abfss://datalake@cnibigdatadlsgen2.dfs.core.windows.net/trs/trello/']:\n",
    "      pass\n",
    "    else:\n",
    "      try:\n",
    "        #print(dbutils.fs.ls(\"abfss://datalake@cnibigdatadlsgen2.dfs.core.windows.net\" + \"/\" + i ))\n",
    "        A = dbutils.fs.ls(i)\n",
    "        for B in A:\n",
    "          #print(B[0])\n",
    "          #print(dbutils.fs.ls(B[0]))\n",
    "          for C in dbutils.fs.ls(B[0]):\n",
    "            #print(C)\n",
    "            DataLake.append(C.path)           \n",
    "      except:\n",
    "        DataLake.append('This request is not authorized' + i)\n",
    "  #DataLake\n",
    "  return DataLake\n",
    "\n",
    "\n",
    "def CLEANING_CHECKING_ALL_PATHS_AND_LAYER(DataLake):\n",
    "  Paths_ = [] \n",
    "\n",
    "  for x in DataLake:\n",
    "    D = x.split('.')[-1].split('_committed')[0].split('_started')[0].split('NR')[0].split('_SUCCESS')[0].split('DT')[0].split('ANO')[0].split('nr')[0].split('net')[-1] #.split('ID')[0]\n",
    "    if D.__contains__('='):\n",
    "      pass\n",
    "    elif D.__contains__('NU_'):\n",
    "      pass\n",
    "    elif D.__contains__('CD_'):\n",
    "      pass\n",
    "    elif D.__contains__('parquet'):\n",
    "      pass\n",
    "    elif D.__contains__('parquet/'):\n",
    "      pass\n",
    "    elif D.__contains__('csv/'):\n",
    "      pass\n",
    "    elif D.__contains__('csv'):\n",
    "      pass\n",
    "    elif re.search(\"^[0-9]\", D):\n",
    "      pass\n",
    "    elif D.__contains__('/biz/'):\n",
    "      pass\n",
    "    elif D.__contains__('/trs/'):\n",
    "      pass\n",
    "    else:\n",
    "      #print(D)\n",
    "      Paths_.append(D)\n",
    "      #re.search(\"^The.*Spain$\", txt)\n",
    "\n",
    "  Layer_ = list(dict.fromkeys(Paths_)) \n",
    "  return Layer_  \n",
    "  \n",
    "  \n",
    "def get_source(path:'abfss address') -> 'retornará o primeiro nível do path': \n",
    "  camada = normaliza_path(path).split('/') #.replace(\"tmp\" + \"/\" + \"dev\" + '/','').split('/')\n",
    "  print(camada)\n",
    "  final = camada[0]\n",
    "  if final in [\"tmp\",\"dev\" ]:\n",
    "    if camada[2] == 'raw':\n",
    "      final = camada[4]\n",
    "      if final == 'bdo':\n",
    "        pass\n",
    "    if camada[2] == 'trs':\n",
    "      final = camada[3]\n",
    "    if camada[2] == 'biz':\n",
    "      final = camada[3]\n",
    "  elif final in [\"raw\"]:\n",
    "    final = camada[2]\n",
    "\n",
    "  elif final in [\"trs\"]:\n",
    "    final = camada[1]\n",
    "    \n",
    "  elif final in [\"biz\"]:\n",
    "    final = camada[1]\n",
    "  return final\n",
    "  \n",
    "  \n",
    "def get_schema(path):\n",
    "  x = normaliza_path(path).replace(\"tmp\" + \"/\" + \"dev\" + '/','').split('/')\n",
    "  schema_name = x[1]\n",
    "  if x[0] == 'trs':\n",
    "    schema_name = x[2]\n",
    "  if x[0] == 'raw' and x[1] in ['bdo','crw','usr','gov']:\n",
    "    schema_name = x[3]\n",
    "  if x[0] == 'raw' and x[1] in ['usr'] and x[2] in ['sti','uniepro','unigest']:\n",
    "    schema_name = x[2] + '_' + x[3]\n",
    "  if x[0] == 'biz':\n",
    "    schema_name = x[2] \n",
    "  return schema_name\n",
    "\n",
    "\n",
    "def get_table(path: 'abfss address') -> 'Nome da Tabela':\n",
    "  x = normaliza_path(path).replace(\"tmp\" + \"/\" + \"dev\" + '/','').split('/')\n",
    "  table = x[len(x) - 2]\n",
    "  return table  \n",
    "  \n",
    "  \n",
    "def get_size(values):\n",
    "  data = []\n",
    "  data_size = []\n",
    "  for A in values:\n",
    "    try:\n",
    "      total_size = 0\n",
    "      for B in dbutils.fs.ls(A):\n",
    "        if B.name[-1:] != '/':\n",
    "          data_size.append(B.size)\n",
    "          total_size += B.size\n",
    "        else:\n",
    "          total_size = 'This request is not authorized'\n",
    "    except:\n",
    "      total_size = 'This request is not authorized'\n",
    "    data.append({'path':A,'size_bytes':str(total_size)})\n",
    "    data    \n",
    "  return data  \n",
    "  \n",
    "  \n",
    "def get_size_layers(values_values):\n",
    "  data_size = []\n",
    "  for F in values_values:\n",
    "    try:\n",
    "      total_size = 0\n",
    "      for G in dbutils.fs.ls(F):\n",
    "        for H in dbutils.fs.ls(G.path):\n",
    "          for I in dbutils.fs.ls(H.path):\n",
    "            total_size += I.size\n",
    "      \n",
    "    except:\n",
    "      total_size = 'This request is not authorized'\n",
    "      \n",
    "    data_size.append({'path':F,'size_bytes':str(total_size)}) \n",
    "  data_size   \n",
    "  return data_size  \n",
    "  \n",
    "  \n",
    "def SOURCE_SCHEMA_TABLE_RAW_(J):\n",
    "  conjunto_tabela = []\n",
    "  for item in J:\n",
    "    source_name = get_source(item)\n",
    "    schema_name = get_schema(item)\n",
    "    table_name = get_table(item)\n",
    "    table_path = normaliza_path(item)\n",
    "    if source_name == schema_name:\n",
    "      schema_name = ''\n",
    "    elif source_name == table_name:\n",
    "      table_name = \" \"\n",
    "    elif schema_name == table_name:\n",
    "      table_name = \" \"\n",
    "    else:\n",
    "      pass\n",
    "    elemento = dict([('source_name',source_name), \n",
    "                     ('schema_name',schema_name), \n",
    "                     ('table_name',table_name), \n",
    "                     ('path__',table_path)\n",
    "                    ]) \n",
    "    conjunto_tabela.append(elemento)\n",
    "  conjunto_tabela\n",
    "  SOURCE_SCHEMA_TABLE_RAW_ = spark.createDataFrame(conjunto_tabela)\n",
    "  return SOURCE_SCHEMA_TABLE_RAW_  \n",
    "  \n",
    " \n",
    "def layers():\n",
    "  layer = dbutils.widgets.get(\"layers\")\n",
    "  return layer\n",
    "  \n",
    "  \n",
    "\n",
    "if __name__ == \"__main__\":\n",
    "  import time\n",
    "  import re\n",
    "  from pyspark.sql import Row\n",
    "  from pyspark.sql.functions import *\n",
    "  from delta.tables import *\n",
    "  from pyspark.sql.types import *\n",
    "  from pyspark.sql import functions as F\n",
    "  from pyspark.sql.functions import lit\n",
    "  \n",
    "  var_adls_uri = 'abfss://datalake@cnibigdatadlsgen2.dfs.core.windows.net'\n",
    "  \n",
    "  var = 'abfss://datalake@cnibigdatadlsgen2.dfs.core.windows.net'\n",
    "  path = \"{adl_path}{default_dir}\".format(adl_path=var, default_dir=function_0()) \n",
    "\n",
    "  #CHECKING_ALL_PATHS_AND_LAYER(varre_(path))\n",
    "  #CLEANING_CHECKING_ALL_PATHS_AND_LAYER(CHECKING_ALL_PATHS_AND_LAYER(varre_(path)))\n",
    "  \n",
    "  df = (\n",
    "    spark.createDataFrame(CLEANING_CHECKING_ALL_PATHS_AND_LAYER(CHECKING_ALL_PATHS_AND_LAYER(varre_(path))), StringType())\n",
    "  ).withColumnRenamed(\"value\", \"paths\")\n",
    "\n",
    "\n",
    "\n",
    "    DF_ = (df.filter(col(\"paths\").contains(f\"{layers()}\")))\\\n",
    ".filter(~col(\"value\").contains(\"bdo\"))\\\n",
    ".select('paths')\n",
    "\n",
    "  DF_RDD = DF_.rdd.map(lambda x: x.paths).collect()\n",
    "\n",
    "  J = []\n",
    "  for caminho in DF_RDD:\n",
    "    CAMINHOS = 'abfss://datalake@cnibigdatadlsgen2.dfs.core.windows.net' + caminho\n",
    "    J.append(CAMINHOS)\n",
    "    \n",
    "    \n",
    "    DF_get_size_J = spark.createDataFrame(get_size(J))\n",
    "    DF_without_This_request_is_not_authorized = DF_get_size_J.filter(col('size_bytes') != 'This request is not authorized')\n",
    "    This_request_is_not_authorized = DF_get_size_J.filter(col('size_bytes') == 'This request is not authorized')\n",
    "    This_request_is_not_authorized = This_request_is_not_authorized.rdd.map(lambda x: x.path).collect()\n",
    "    \n",
    "    \n",
    "    DF_size_paritions = get_size_layers(This_request_is_not_authorized)\n",
    "    DF__ = spark.createDataFrame(DF_size_paritions)\n",
    "    \n",
    "    \n",
    "    @udf(returnType=StringType())\n",
    "    def normaliza_path(path:'abfss address') -> 'string address':\n",
    "      i = (3 if (path[0:6] == 'abfss:') else 0)\n",
    "      return('/'.join(path.replace('/','%%/%%').strip().split('%%/%%')[i:]))\n",
    "    \n",
    "    RESULT = DF_without_This_request_is_not_authorized.union(DF__)\n",
    "    _CATALAGO_ = RESULT.withColumn(\"_paths_\", normaliza_path(\"path\"))\n",
    "    \n",
    "    \n",
    "    def normaliza_path(path:'abfss address') -> 'string address':\n",
    "      i = (3 if (path[0:6] == 'abfss:') else 0)\n",
    "      return('/'.join(path.replace('/','%%/%%').strip().split('%%/%%')[i:]))\n",
    "    \n",
    "    SOURCE_SCHEMA_TABLE_RAW = SOURCE_SCHEMA_TABLE_RAW_(J)\n",
    "    CATALAGO = _CATALAGO_.join(SOURCE_SCHEMA_TABLE_RAW, _CATALAGO_._paths_ == SOURCE_SCHEMA_TABLE_RAW.path__, \"right\").drop(_CATALAGO_._paths_)\n",
    "    CATALAGO = CATALAGO.select('path','path__','size_bytes','source_name','schema_name','table_name')\n"
   ]
  },
  {
   "cell_type": "code",
   "execution_count": null,
   "metadata": {
    "application/vnd.databricks.v1+cell": {
     "cellMetadata": {
      "byteLimit": 2048000,
      "rowLimit": 10000
     },
     "inputWidgets": {},
     "nuid": "c0626460-aeea-446c-99d9-6e571c6cb030",
     "showTitle": false,
     "title": ""
    }
   },
   "outputs": [
    {
     "data": {
      "text/html": [
       "<style scoped>\n",
       "  .table-result-container {\n",
       "    max-height: 300px;\n",
       "    overflow: auto;\n",
       "  }\n",
       "  table, th, td {\n",
       "    border: 1px solid black;\n",
       "    border-collapse: collapse;\n",
       "  }\n",
       "  th, td {\n",
       "    padding: 5px;\n",
       "  }\n",
       "  th {\n",
       "    text-align: left;\n",
       "  }\n",
       "</style><div class='table-result-container'><table class='table-result'><thead style='background-color: white'><tr><th>paths</th></tr></thead><tbody><tr><td>/raw/bdo/bd_basi/</td></tr><tr><td>/raw/bdo/biunigest/</td></tr><tr><td>/raw/bdo/corporativo/</td></tr><tr><td>/raw/bdo/gestaorh/</td></tr><tr><td>/raw/bdo/inddesempenho/</td></tr><tr><td>/raw/bdo/oba/</td></tr><tr><td>/raw/bdo/postgres_tableau/</td></tr><tr><td>/raw/bdo/protheus/</td></tr><tr><td>/raw/bdo/robo_legisdata/</td></tr><tr><td>/raw/bdo/scae/</td></tr><tr><td>/raw/bdo/sors/</td></tr><tr><td>/raw/bdo/uc/</td></tr><tr><td>/raw/crw/aco_brasil/prod_aco_nacional/</td></tr><tr><td>/raw/crw/aneel/gera_energia_distrib/</td></tr><tr><td>/raw/crw/banco_mundial/documentacao_indica/</td></tr><tr><td>/raw/crw/banco_mundial/documentacao_paises/</td></tr><tr><td>/raw/crw/banco_mundial/indicadores_selecionados/</td></tr><tr><td>/raw/crw/banco_mundial/preco_commodity/</td></tr><tr><td>/raw/crw/catho/vagas/</td></tr><tr><td>/raw/crw/fmi_proj/grupo_paises/</td></tr><tr><td>/raw/crw/fmi_proj/pais/</td></tr><tr><td>/raw/crw/fred/indicadores_selecionados/</td></tr><tr><td>/raw/crw/ibge/cnae_subclasses/</td></tr><tr><td>/raw/crw/ibge/deflatores/</td></tr><tr><td>/raw/crw/ibge/ipca/</td></tr><tr><td>/raw/crw/ibge/ipca_indice_desagregado/</td></tr><tr><td>/raw/crw/ibge/ipp_cnae_div/</td></tr><tr><td>/raw/crw/ibge/pia_produto_vti/</td></tr><tr><td>/raw/crw/ibge/piaemp/</td></tr><tr><td>/raw/crw/ibge/piaemp_aquisicoes/</td></tr><tr><td>/raw/crw/ibge/pimpf/</td></tr><tr><td>/raw/crw/ibge/pintec_bio_nano/</td></tr><tr><td>/raw/crw/ibge/pintec_bio_nano_po/</td></tr><tr><td>/raw/crw/ibge/pintec_grau_nov_imp/</td></tr><tr><td>/raw/crw/ibge/pintec_org_mkt/</td></tr><tr><td>/raw/crw/ibge/pintec_org_mkt_po/</td></tr><tr><td>/raw/crw/ibge/pintec_prob_obst/</td></tr><tr><td>/raw/crw/ibge/pintec_prob_obst_po/</td></tr><tr><td>/raw/crw/ibge/pintec_prod_vend_int/</td></tr><tr><td>/raw/crw/ibge/pintec_prod_vend_int_po/</td></tr><tr><td>/raw/crw/ibge/pintec_rel_coop/</td></tr><tr><td>/raw/crw/ibge/pintec_rel_coop_loc/</td></tr><tr><td>/raw/crw/ibge/pintec_rel_coop_loc_po/</td></tr><tr><td>/raw/crw/ibge/pintec_rel_coop_po/</td></tr><tr><td>/raw/crw/ibge/pintec_resp_imp/</td></tr><tr><td>/raw/crw/ibge/pintec_tipo_inov_proj/</td></tr><tr><td>/raw/crw/ibge/pintec_tipo_programa/</td></tr><tr><td>/raw/crw/ibge/pintec_tipo_programa_po/</td></tr><tr><td>/raw/crw/ibge/pnadc/</td></tr><tr><td>/raw/crw/ibge/pnadc_a_deflatores/</td></tr><tr><td>/raw/crw/ibge/pnadc_a_trim4/</td></tr><tr><td>/raw/crw/ibge/pnadc_a_visita1/</td></tr><tr><td>/raw/crw/ibge/pnadc_a_visita2/</td></tr><tr><td>/raw/crw/ibge/pnadc_a_visita5/</td></tr><tr><td>/raw/crw/ibge/pop_estimada/</td></tr><tr><td>/raw/crw/ibge/pop_projetada_expectativa_txmortal/</td></tr><tr><td>/raw/crw/ibge/pop_projetada_indicadores_implicitos/</td></tr><tr><td>/raw/crw/ibge/pop_projetada_pessoas_prop/</td></tr><tr><td>/raw/crw/ibge/pop_projetada_pop_sex_idade/</td></tr><tr><td>/raw/crw/ibge/pop_projetada_txfecund/</td></tr><tr><td>/raw/crw/ibge/relatorio_dtb_brasil_municipio/</td></tr><tr><td>/raw/crw/ibge/scnt_conta_financeira_unificado/</td></tr><tr><td>/raw/crw/ibge/scnt_contas_economicas_unificado/</td></tr><tr><td>/raw/crw/ibge/scnt_valor_preco1995_saz_unificado/</td></tr><tr><td>/raw/crw/ibge/scnt_valor_preco1995_unificado/</td></tr><tr><td>/raw/crw/ibge/scnt_valor_preco_correntes_unificado/</td></tr><tr><td>/raw/crw/ibge/scnt_volume_saz_se_unificado/</td></tr><tr><td>/raw/crw/ibge/scnt_volume_se_unificado/</td></tr><tr><td>/raw/crw/ibge/scnt_volume_tx_unificado/</td></tr><tr><td>/raw/crw/iea/carvao_estatisticas/</td></tr><tr><td>/raw/crw/inep_afd/brasil_regioes_e_ufs/</td></tr><tr><td>/raw/crw/inep_afd/escolas/</td></tr><tr><td>/raw/crw/inep_afd/municipios/</td></tr><tr><td>/raw/crw/inep_atu/brasil_regioes_e_ufs/</td></tr><tr><td>/raw/crw/inep_atu/escolas/</td></tr><tr><td>/raw/crw/inep_atu/municipios/</td></tr><tr><td>/raw/crw/inep_censo_escolar/curso_educacao_profissional/</td></tr><tr><td>/raw/crw/inep_censo_escolar/docente/</td></tr><tr><td>/raw/crw/inep_censo_escolar/escola/</td></tr><tr><td>/raw/crw/inep_censo_escolar/etapa_ensino/</td></tr><tr><td>/raw/crw/inep_censo_escolar/gestor/</td></tr><tr><td>/raw/crw/inep_censo_escolar/matriculas/</td></tr><tr><td>/raw/crw/inep_censo_escolar/turmas/</td></tr><tr><td>/raw/crw/inep_dsu/brasil_regioes_e_ufs/</td></tr><tr><td>/raw/crw/inep_dsu/escolas/</td></tr><tr><td>/raw/crw/inep_dsu/municipios/</td></tr><tr><td>/raw/crw/inep_enem/enem_escola/</td></tr><tr><td>/raw/crw/inep_enem/enem_escola_dicionario/</td></tr><tr><td>/raw/crw/inep_enem/microdados_enem/</td></tr><tr><td>/raw/crw/inep_had/brasil_regioes_e_ufs/</td></tr><tr><td>/raw/crw/inep_had/escolas/</td></tr><tr><td>/raw/crw/inep_had/municipios/</td></tr><tr><td>/raw/crw/inep_icg/escolas/</td></tr><tr><td>/raw/crw/inep_ideb/ideb/</td></tr><tr><td>/raw/crw/inep_inse/socioeconomico/</td></tr><tr><td>/raw/crw/inep_iqes/cpc/</td></tr><tr><td>/raw/crw/inep_iqes/icg/</td></tr><tr><td>/raw/crw/inep_ird/escolas/</td></tr><tr><td>/raw/crw/inep_prova_brasil/ts_quest_aluno/</td></tr><tr><td>/raw/crw/inep_prova_brasil/ts_resposta_aluno/</td></tr><tr><td>/raw/crw/inep_prova_brasil/ts_resultado_aluno/</td></tr><tr><td>/raw/crw/inep_rmd/brasil_regioes_e_ufs/</td></tr><tr><td>/raw/crw/inep_rmd/municipios/</td></tr><tr><td>/raw/crw/inep_saeb/prova_brasil_2013/</td></tr><tr><td>/raw/crw/inep_saeb/prova_brasil_2015/</td></tr><tr><td>/raw/crw/inep_saeb/prova_brasil_2017/</td></tr><tr><td>/raw/crw/inep_saeb/prova_brasil_2019/</td></tr><tr><td>/raw/crw/inep_saeb/saeb_aluno_unificado/</td></tr><tr><td>/raw/crw/inep_saeb/saeb_diretor_unificada/</td></tr><tr><td>/raw/crw/inep_saeb/saeb_escola_unificada/</td></tr><tr><td>/raw/crw/inep_saeb/saeb_professor_unificada/</td></tr><tr><td>/raw/crw/inep_saeb/saeb_resultado_brasil_unificado/</td></tr><tr><td>/raw/crw/inep_saeb/saeb_resultado_municipio_unificado/</td></tr><tr><td>/raw/crw/inep_saeb/saeb_resultado_regiao_unificado/</td></tr><tr><td>/raw/crw/inep_saeb/saeb_resultado_uf_unificado/</td></tr><tr><td>/raw/crw/inep_saeb/ts_quest_aluno/</td></tr><tr><td>/raw/crw/inep_saeb/ts_resposta_aluno/</td></tr><tr><td>/raw/crw/inep_saeb/ts_resultado_aluno/</td></tr><tr><td>/raw/crw/inep_taxa_rendimento/brasil_regioes_e_ufs/</td></tr><tr><td>/raw/crw/inep_taxa_rendimento/escolas/</td></tr><tr><td>/raw/crw/inep_taxa_rendimento/municipios/</td></tr><tr><td>/raw/crw/inep_tdi/brasil_regioes_e_ufs/</td></tr><tr><td>/raw/crw/inep_tdi/escolas/</td></tr><tr><td>/raw/crw/inep_tdi/municipios/</td></tr><tr><td>/raw/crw/infojobs/vagas/</td></tr><tr><td>/raw/crw/inguru/news/</td></tr><tr><td>/raw/crw/inss/cat/</td></tr><tr><td>/raw/crw/me/caged/</td></tr><tr><td>/raw/crw/me/caged_ajustes/</td></tr><tr><td>/raw/crw/me/comex/isic_cuci/</td></tr><tr><td>/raw/crw/me/comex/mun_exp/</td></tr><tr><td>/raw/crw/me/comex/mun_imp/</td></tr><tr><td>/raw/crw/me/comex/ncm_cgce/</td></tr><tr><td>/raw/crw/me/comex/ncm_cuci/</td></tr><tr><td>/raw/crw/me/comex/ncm_exp/</td></tr><tr><td>/raw/crw/me/comex/ncm_fat_agreg/</td></tr><tr><td>/raw/crw/me/comex/ncm_imp/</td></tr><tr><td>/raw/crw/me/comex/ncm_isic/</td></tr><tr><td>/raw/crw/me/comex/ncm_ppe/</td></tr><tr><td>/raw/crw/me/comex/ncm_ppi/</td></tr><tr><td>/raw/crw/me/comex/ncm_sh/</td></tr><tr><td>/raw/crw/me/comex/ncm_siit/</td></tr><tr><td>/raw/crw/me/comex/ncm_unidade/</td></tr><tr><td>/raw/crw/me/comex/pais/</td></tr><tr><td>/raw/crw/me/comex/pais_bloco/</td></tr><tr><td>/raw/crw/me/comex/uf/</td></tr><tr><td>/raw/crw/me/comex/uf_mun/</td></tr><tr><td>/raw/crw/me/comex/urf/</td></tr><tr><td>/raw/crw/me/comex/via/</td></tr><tr><td>/raw/crw/me/novo_caged_exc/</td></tr><tr><td>/raw/crw/me/novo_caged_for/</td></tr><tr><td>/raw/crw/me/novo_caged_mov/</td></tr><tr><td>/raw/crw/mec/pnp_efi/</td></tr><tr><td>/raw/crw/mec/pnp_fin/</td></tr><tr><td>/raw/crw/mec/pnp_mat/</td></tr><tr><td>/raw/crw/mec/pnp_ser/</td></tr><tr><td>/raw/crw/ms/sih_rd/</td></tr><tr><td>/raw/crw/ms/sih_sp/</td></tr><tr><td>/raw/crw/ms/sim/</td></tr><tr><td>/raw/crw/ms_sinan/acbi/</td></tr><tr><td>/raw/crw/ms_sinan/acgr/</td></tr><tr><td>/raw/crw/ms_sinan/anim/</td></tr><tr><td>/raw/crw/ms_sinan/canc/</td></tr><tr><td>/raw/crw/ms_sinan/derm/</td></tr><tr><td>/raw/crw/ms_sinan/iexo/</td></tr><tr><td>/raw/crw/ms_sinan/lerd/</td></tr><tr><td>/raw/crw/ms_sinan/ment/</td></tr><tr><td>/raw/crw/ms_sinan/pair/</td></tr><tr><td>/raw/crw/ms_sinan/pneu/</td></tr><tr><td>/raw/crw/mtp_aeat/acid_obi_mun/</td></tr><tr><td>/raw/crw/mtp_aeat/conseq_clas/</td></tr><tr><td>/raw/crw/mtp_aeat/conseq_div/</td></tr><tr><td>/raw/crw/mtp_aeat/motivo_cid/</td></tr><tr><td>/raw/crw/mtp_aeat/motivo_class/</td></tr><tr><td>/raw/crw/mtp_aeat/motivo_div/</td></tr><tr><td>/raw/crw/mtp_aeat/motivo_ida_sex/</td></tr><tr><td>/raw/crw/ocde/projecoes_economicas/</td></tr><tr><td>/raw/crw/oni/bacen/cotacao/</td></tr><tr><td>/raw/crw/oni/ibge/gini/</td></tr><tr><td>/raw/crw/rfb/cno/cno/</td></tr><tr><td>/raw/crw/rfb/cno/cno_areas/</td></tr><tr><td>/raw/crw/rfb/cno/cno_cnaes/</td></tr><tr><td>/raw/crw/rfb/cno/cno_totais/</td></tr><tr><td>/raw/crw/rfb/cno/cno_vinculos/</td></tr><tr><td>/raw/crw/rfb_cnpj/cadastro_empresa/</td></tr><tr><td>/raw/crw/rfb_cnpj/cadastro_estbl/</td></tr><tr><td>/raw/crw/rfb_cnpj/cadastro_simples/</td></tr><tr><td>/raw/crw/rfb_cnpj/cadastro_socio/</td></tr><tr><td>/raw/crw/rfb_cnpj/regime_tributario/</td></tr><tr><td>/raw/crw/rfb_cnpj/tabelas_auxiliares/cnae/</td></tr><tr><td>/raw/crw/rfb_cnpj/tabelas_auxiliares/motivo/</td></tr><tr><td>/raw/crw/rfb_cnpj/tabelas_auxiliares/municipio/</td></tr><tr><td>/raw/crw/rfb_cnpj/tabelas_auxiliares/nat_juridica/</td></tr><tr><td>/raw/crw/rfb_cnpj/tabelas_auxiliares/pais/</td></tr><tr><td>/raw/crw/rfb_cnpj/tabelas_auxiliares/qualif_socio/</td></tr><tr><td>/raw/crw/vagascertas/vagas/</td></tr><tr><td>/raw/crw/vagascom/vagas/</td></tr><tr><td>/raw/crw/worldsteel/indicadores_selecionados/</td></tr><tr><td>/raw/usr/azure_ad/</td></tr><tr><td>/raw/usr/datalake/</td></tr><tr><td>/raw/usr/devops/</td></tr><tr><td>/raw/usr/fiesc/IBGE/SIDRA/</td></tr><tr><td>/raw/usr/fiesc/MEC/INEP/</td></tr><tr><td>/raw/usr/fiesc/bacen/BACEN_METAS_DE_INFLACAO/</td></tr><tr><td>/raw/usr/fiesc/bacen/expec_mercado/</td></tr><tr><td>/raw/usr/fiesc/bacen/expec_prod_ind/</td></tr><tr><td>/raw/usr/fiesc/bacen/expec_selic/</td></tr><tr><td>/raw/usr/fiesc/bacen/expec_tx_cambio/</td></tr><tr><td>/raw/usr/fiesc/bacen/igp-m/</td></tr><tr><td>/raw/usr/fiesc/bacen/igpm/</td></tr><tr><td>/raw/usr/fiesc/bacen/inadimplencia_em_credito/</td></tr><tr><td>/raw/usr/fiesc/bacen/ind_atv_eco/</td></tr><tr><td>/raw/usr/fiesc/bacen/inpc/</td></tr><tr><td>/raw/usr/fiesc/bacen/taxa/</td></tr><tr><td>/raw/usr/fiesc/datasus/CNES/</td></tr><tr><td>/raw/usr/fiesc/ibge/inpc/</td></tr><tr><td>/raw/usr/fiesc/ibge/paic/</td></tr><tr><td>/raw/usr/fiesc/ibge/pesq_men_com/</td></tr><tr><td>/raw/usr/fiesc/ibge/pib/</td></tr><tr><td>/raw/usr/fiesc/ibge/pms/</td></tr><tr><td>/raw/usr/fiesc/ibge/sidra/</td></tr><tr><td>/raw/usr/fiesc/me/comex/</td></tr><tr><td>/raw/usr/fiesc/sidra/1849_FATO/</td></tr><tr><td>/raw/usr/ibge/deflator_pnad/</td></tr><tr><td>/raw/usr/inep_censo_escolar/etapa_ensino_agrupada/</td></tr><tr><td>/raw/usr/inep_enem/parametros_rampa/</td></tr><tr><td>/raw/usr/inep_saeb/competencias_e_habilidades_ajuste_lp/</td></tr><tr><td>/raw/usr/inep_saeb/competencias_e_habilidades_ajuste_mt/</td></tr><tr><td>/raw/usr/inep_saeb/competencias_e_habilidades_lp/</td></tr><tr><td>/raw/usr/inep_saeb/competencias_e_habilidades_mt/</td></tr><tr><td>/raw/usr/inep_saeb/mascara_escolas_sesi/</td></tr><tr><td>/raw/usr/jira_service_management/</td></tr><tr><td>/raw/usr/me/cadastro_cbo/</td></tr><tr><td>/raw/usr/me/cadastro_cbo_familia/</td></tr><tr><td>/raw/usr/me/cadastro_cbo_perfil_ocupacional/</td></tr><tr><td>/raw/usr/me/cadastro_cbo_sinonimo/</td></tr><tr><td>/raw/usr/me/rais_estabelecimento/</td></tr><tr><td>/raw/usr/me/rais_vinculo/</td></tr><tr><td>/raw/usr/ocde/intensidade_tecnol/</td></tr><tr><td>/raw/usr/oni/bases_do_projeto/aprendizagem/</td></tr><tr><td>/raw/usr/oni/bases_do_projeto/mapa_do_trabalho/</td></tr><tr><td>/raw/usr/oni/bases_do_projeto/monitor_de_vagas/</td></tr><tr><td>/raw/usr/oni/bases_do_projeto/painel_dos_estados/</td></tr><tr><td>/raw/usr/oni/ibge/geo_municipios/</td></tr><tr><td>/raw/usr/oni/ibge/geo_uf/</td></tr><tr><td>/raw/usr/oni/ibge/municipios_amazonia_legal/</td></tr><tr><td>/raw/usr/oni/ibge/uf/</td></tr><tr><td>/raw/usr/power_bi/</td></tr><tr><td>/raw/usr/sgbd/</td></tr><tr><td>/raw/usr/uniepro/base_escolas/</td></tr><tr><td>/raw/usr/uniepro/cnae_industrial/</td></tr><tr><td>/raw/usr/uniepro/faixa_etaria/</td></tr><tr><td>/raw/usr/uniepro/fmi_proj/</td></tr><tr><td>/raw/usr/uniepro/grau_instrucao/</td></tr><tr><td>/raw/usr/uniepro/ibge_cnae_classe/</td></tr><tr><td>/raw/usr/uniepro/ibge_municipios/</td></tr><tr><td>/raw/usr/uniepro/monitor_de_vagas/dicionarios/</td></tr><tr><td>/raw/usr/uniepro/monitor_de_vagas/padroes_regex/</td></tr><tr><td>/raw/usr/uniepro/monitor_de_vagas/uf/</td></tr><tr><td>/raw/usr/uniepro/ocup_indust_cbodom/</td></tr><tr><td>/raw/usr/uniepro/rfb/siafi/</td></tr><tr><td>/raw/usr/uniepro/saude_cid/</td></tr></tbody></table></div>"
      ]
     },
     "metadata": {
      "application/vnd.databricks.v1+output": {
       "addedWidgets": {},
       "aggData": [],
       "aggError": "",
       "aggOverflow": false,
       "aggSchema": [],
       "aggSeriesLimitReached": false,
       "aggType": "",
       "arguments": {},
       "columnCustomDisplayInfos": {},
       "data": [
        [
         "/raw/bdo/bd_basi/"
        ],
        [
         "/raw/bdo/biunigest/"
        ],
        [
         "/raw/bdo/corporativo/"
        ],
        [
         "/raw/bdo/gestaorh/"
        ],
        [
         "/raw/bdo/inddesempenho/"
        ],
        [
         "/raw/bdo/oba/"
        ],
        [
         "/raw/bdo/postgres_tableau/"
        ],
        [
         "/raw/bdo/protheus/"
        ],
        [
         "/raw/bdo/robo_legisdata/"
        ],
        [
         "/raw/bdo/scae/"
        ],
        [
         "/raw/bdo/sors/"
        ],
        [
         "/raw/bdo/uc/"
        ],
        [
         "/raw/crw/aco_brasil/prod_aco_nacional/"
        ],
        [
         "/raw/crw/aneel/gera_energia_distrib/"
        ],
        [
         "/raw/crw/banco_mundial/documentacao_indica/"
        ],
        [
         "/raw/crw/banco_mundial/documentacao_paises/"
        ],
        [
         "/raw/crw/banco_mundial/indicadores_selecionados/"
        ],
        [
         "/raw/crw/banco_mundial/preco_commodity/"
        ],
        [
         "/raw/crw/catho/vagas/"
        ],
        [
         "/raw/crw/fmi_proj/grupo_paises/"
        ],
        [
         "/raw/crw/fmi_proj/pais/"
        ],
        [
         "/raw/crw/fred/indicadores_selecionados/"
        ],
        [
         "/raw/crw/ibge/cnae_subclasses/"
        ],
        [
         "/raw/crw/ibge/deflatores/"
        ],
        [
         "/raw/crw/ibge/ipca/"
        ],
        [
         "/raw/crw/ibge/ipca_indice_desagregado/"
        ],
        [
         "/raw/crw/ibge/ipp_cnae_div/"
        ],
        [
         "/raw/crw/ibge/pia_produto_vti/"
        ],
        [
         "/raw/crw/ibge/piaemp/"
        ],
        [
         "/raw/crw/ibge/piaemp_aquisicoes/"
        ],
        [
         "/raw/crw/ibge/pimpf/"
        ],
        [
         "/raw/crw/ibge/pintec_bio_nano/"
        ],
        [
         "/raw/crw/ibge/pintec_bio_nano_po/"
        ],
        [
         "/raw/crw/ibge/pintec_grau_nov_imp/"
        ],
        [
         "/raw/crw/ibge/pintec_org_mkt/"
        ],
        [
         "/raw/crw/ibge/pintec_org_mkt_po/"
        ],
        [
         "/raw/crw/ibge/pintec_prob_obst/"
        ],
        [
         "/raw/crw/ibge/pintec_prob_obst_po/"
        ],
        [
         "/raw/crw/ibge/pintec_prod_vend_int/"
        ],
        [
         "/raw/crw/ibge/pintec_prod_vend_int_po/"
        ],
        [
         "/raw/crw/ibge/pintec_rel_coop/"
        ],
        [
         "/raw/crw/ibge/pintec_rel_coop_loc/"
        ],
        [
         "/raw/crw/ibge/pintec_rel_coop_loc_po/"
        ],
        [
         "/raw/crw/ibge/pintec_rel_coop_po/"
        ],
        [
         "/raw/crw/ibge/pintec_resp_imp/"
        ],
        [
         "/raw/crw/ibge/pintec_tipo_inov_proj/"
        ],
        [
         "/raw/crw/ibge/pintec_tipo_programa/"
        ],
        [
         "/raw/crw/ibge/pintec_tipo_programa_po/"
        ],
        [
         "/raw/crw/ibge/pnadc/"
        ],
        [
         "/raw/crw/ibge/pnadc_a_deflatores/"
        ],
        [
         "/raw/crw/ibge/pnadc_a_trim4/"
        ],
        [
         "/raw/crw/ibge/pnadc_a_visita1/"
        ],
        [
         "/raw/crw/ibge/pnadc_a_visita2/"
        ],
        [
         "/raw/crw/ibge/pnadc_a_visita5/"
        ],
        [
         "/raw/crw/ibge/pop_estimada/"
        ],
        [
         "/raw/crw/ibge/pop_projetada_expectativa_txmortal/"
        ],
        [
         "/raw/crw/ibge/pop_projetada_indicadores_implicitos/"
        ],
        [
         "/raw/crw/ibge/pop_projetada_pessoas_prop/"
        ],
        [
         "/raw/crw/ibge/pop_projetada_pop_sex_idade/"
        ],
        [
         "/raw/crw/ibge/pop_projetada_txfecund/"
        ],
        [
         "/raw/crw/ibge/relatorio_dtb_brasil_municipio/"
        ],
        [
         "/raw/crw/ibge/scnt_conta_financeira_unificado/"
        ],
        [
         "/raw/crw/ibge/scnt_contas_economicas_unificado/"
        ],
        [
         "/raw/crw/ibge/scnt_valor_preco1995_saz_unificado/"
        ],
        [
         "/raw/crw/ibge/scnt_valor_preco1995_unificado/"
        ],
        [
         "/raw/crw/ibge/scnt_valor_preco_correntes_unificado/"
        ],
        [
         "/raw/crw/ibge/scnt_volume_saz_se_unificado/"
        ],
        [
         "/raw/crw/ibge/scnt_volume_se_unificado/"
        ],
        [
         "/raw/crw/ibge/scnt_volume_tx_unificado/"
        ],
        [
         "/raw/crw/iea/carvao_estatisticas/"
        ],
        [
         "/raw/crw/inep_afd/brasil_regioes_e_ufs/"
        ],
        [
         "/raw/crw/inep_afd/escolas/"
        ],
        [
         "/raw/crw/inep_afd/municipios/"
        ],
        [
         "/raw/crw/inep_atu/brasil_regioes_e_ufs/"
        ],
        [
         "/raw/crw/inep_atu/escolas/"
        ],
        [
         "/raw/crw/inep_atu/municipios/"
        ],
        [
         "/raw/crw/inep_censo_escolar/curso_educacao_profissional/"
        ],
        [
         "/raw/crw/inep_censo_escolar/docente/"
        ],
        [
         "/raw/crw/inep_censo_escolar/escola/"
        ],
        [
         "/raw/crw/inep_censo_escolar/etapa_ensino/"
        ],
        [
         "/raw/crw/inep_censo_escolar/gestor/"
        ],
        [
         "/raw/crw/inep_censo_escolar/matriculas/"
        ],
        [
         "/raw/crw/inep_censo_escolar/turmas/"
        ],
        [
         "/raw/crw/inep_dsu/brasil_regioes_e_ufs/"
        ],
        [
         "/raw/crw/inep_dsu/escolas/"
        ],
        [
         "/raw/crw/inep_dsu/municipios/"
        ],
        [
         "/raw/crw/inep_enem/enem_escola/"
        ],
        [
         "/raw/crw/inep_enem/enem_escola_dicionario/"
        ],
        [
         "/raw/crw/inep_enem/microdados_enem/"
        ],
        [
         "/raw/crw/inep_had/brasil_regioes_e_ufs/"
        ],
        [
         "/raw/crw/inep_had/escolas/"
        ],
        [
         "/raw/crw/inep_had/municipios/"
        ],
        [
         "/raw/crw/inep_icg/escolas/"
        ],
        [
         "/raw/crw/inep_ideb/ideb/"
        ],
        [
         "/raw/crw/inep_inse/socioeconomico/"
        ],
        [
         "/raw/crw/inep_iqes/cpc/"
        ],
        [
         "/raw/crw/inep_iqes/icg/"
        ],
        [
         "/raw/crw/inep_ird/escolas/"
        ],
        [
         "/raw/crw/inep_prova_brasil/ts_quest_aluno/"
        ],
        [
         "/raw/crw/inep_prova_brasil/ts_resposta_aluno/"
        ],
        [
         "/raw/crw/inep_prova_brasil/ts_resultado_aluno/"
        ],
        [
         "/raw/crw/inep_rmd/brasil_regioes_e_ufs/"
        ],
        [
         "/raw/crw/inep_rmd/municipios/"
        ],
        [
         "/raw/crw/inep_saeb/prova_brasil_2013/"
        ],
        [
         "/raw/crw/inep_saeb/prova_brasil_2015/"
        ],
        [
         "/raw/crw/inep_saeb/prova_brasil_2017/"
        ],
        [
         "/raw/crw/inep_saeb/prova_brasil_2019/"
        ],
        [
         "/raw/crw/inep_saeb/saeb_aluno_unificado/"
        ],
        [
         "/raw/crw/inep_saeb/saeb_diretor_unificada/"
        ],
        [
         "/raw/crw/inep_saeb/saeb_escola_unificada/"
        ],
        [
         "/raw/crw/inep_saeb/saeb_professor_unificada/"
        ],
        [
         "/raw/crw/inep_saeb/saeb_resultado_brasil_unificado/"
        ],
        [
         "/raw/crw/inep_saeb/saeb_resultado_municipio_unificado/"
        ],
        [
         "/raw/crw/inep_saeb/saeb_resultado_regiao_unificado/"
        ],
        [
         "/raw/crw/inep_saeb/saeb_resultado_uf_unificado/"
        ],
        [
         "/raw/crw/inep_saeb/ts_quest_aluno/"
        ],
        [
         "/raw/crw/inep_saeb/ts_resposta_aluno/"
        ],
        [
         "/raw/crw/inep_saeb/ts_resultado_aluno/"
        ],
        [
         "/raw/crw/inep_taxa_rendimento/brasil_regioes_e_ufs/"
        ],
        [
         "/raw/crw/inep_taxa_rendimento/escolas/"
        ],
        [
         "/raw/crw/inep_taxa_rendimento/municipios/"
        ],
        [
         "/raw/crw/inep_tdi/brasil_regioes_e_ufs/"
        ],
        [
         "/raw/crw/inep_tdi/escolas/"
        ],
        [
         "/raw/crw/inep_tdi/municipios/"
        ],
        [
         "/raw/crw/infojobs/vagas/"
        ],
        [
         "/raw/crw/inguru/news/"
        ],
        [
         "/raw/crw/inss/cat/"
        ],
        [
         "/raw/crw/me/caged/"
        ],
        [
         "/raw/crw/me/caged_ajustes/"
        ],
        [
         "/raw/crw/me/comex/isic_cuci/"
        ],
        [
         "/raw/crw/me/comex/mun_exp/"
        ],
        [
         "/raw/crw/me/comex/mun_imp/"
        ],
        [
         "/raw/crw/me/comex/ncm_cgce/"
        ],
        [
         "/raw/crw/me/comex/ncm_cuci/"
        ],
        [
         "/raw/crw/me/comex/ncm_exp/"
        ],
        [
         "/raw/crw/me/comex/ncm_fat_agreg/"
        ],
        [
         "/raw/crw/me/comex/ncm_imp/"
        ],
        [
         "/raw/crw/me/comex/ncm_isic/"
        ],
        [
         "/raw/crw/me/comex/ncm_ppe/"
        ],
        [
         "/raw/crw/me/comex/ncm_ppi/"
        ],
        [
         "/raw/crw/me/comex/ncm_sh/"
        ],
        [
         "/raw/crw/me/comex/ncm_siit/"
        ],
        [
         "/raw/crw/me/comex/ncm_unidade/"
        ],
        [
         "/raw/crw/me/comex/pais/"
        ],
        [
         "/raw/crw/me/comex/pais_bloco/"
        ],
        [
         "/raw/crw/me/comex/uf/"
        ],
        [
         "/raw/crw/me/comex/uf_mun/"
        ],
        [
         "/raw/crw/me/comex/urf/"
        ],
        [
         "/raw/crw/me/comex/via/"
        ],
        [
         "/raw/crw/me/novo_caged_exc/"
        ],
        [
         "/raw/crw/me/novo_caged_for/"
        ],
        [
         "/raw/crw/me/novo_caged_mov/"
        ],
        [
         "/raw/crw/mec/pnp_efi/"
        ],
        [
         "/raw/crw/mec/pnp_fin/"
        ],
        [
         "/raw/crw/mec/pnp_mat/"
        ],
        [
         "/raw/crw/mec/pnp_ser/"
        ],
        [
         "/raw/crw/ms/sih_rd/"
        ],
        [
         "/raw/crw/ms/sih_sp/"
        ],
        [
         "/raw/crw/ms/sim/"
        ],
        [
         "/raw/crw/ms_sinan/acbi/"
        ],
        [
         "/raw/crw/ms_sinan/acgr/"
        ],
        [
         "/raw/crw/ms_sinan/anim/"
        ],
        [
         "/raw/crw/ms_sinan/canc/"
        ],
        [
         "/raw/crw/ms_sinan/derm/"
        ],
        [
         "/raw/crw/ms_sinan/iexo/"
        ],
        [
         "/raw/crw/ms_sinan/lerd/"
        ],
        [
         "/raw/crw/ms_sinan/ment/"
        ],
        [
         "/raw/crw/ms_sinan/pair/"
        ],
        [
         "/raw/crw/ms_sinan/pneu/"
        ],
        [
         "/raw/crw/mtp_aeat/acid_obi_mun/"
        ],
        [
         "/raw/crw/mtp_aeat/conseq_clas/"
        ],
        [
         "/raw/crw/mtp_aeat/conseq_div/"
        ],
        [
         "/raw/crw/mtp_aeat/motivo_cid/"
        ],
        [
         "/raw/crw/mtp_aeat/motivo_class/"
        ],
        [
         "/raw/crw/mtp_aeat/motivo_div/"
        ],
        [
         "/raw/crw/mtp_aeat/motivo_ida_sex/"
        ],
        [
         "/raw/crw/ocde/projecoes_economicas/"
        ],
        [
         "/raw/crw/oni/bacen/cotacao/"
        ],
        [
         "/raw/crw/oni/ibge/gini/"
        ],
        [
         "/raw/crw/rfb/cno/cno/"
        ],
        [
         "/raw/crw/rfb/cno/cno_areas/"
        ],
        [
         "/raw/crw/rfb/cno/cno_cnaes/"
        ],
        [
         "/raw/crw/rfb/cno/cno_totais/"
        ],
        [
         "/raw/crw/rfb/cno/cno_vinculos/"
        ],
        [
         "/raw/crw/rfb_cnpj/cadastro_empresa/"
        ],
        [
         "/raw/crw/rfb_cnpj/cadastro_estbl/"
        ],
        [
         "/raw/crw/rfb_cnpj/cadastro_simples/"
        ],
        [
         "/raw/crw/rfb_cnpj/cadastro_socio/"
        ],
        [
         "/raw/crw/rfb_cnpj/regime_tributario/"
        ],
        [
         "/raw/crw/rfb_cnpj/tabelas_auxiliares/cnae/"
        ],
        [
         "/raw/crw/rfb_cnpj/tabelas_auxiliares/motivo/"
        ],
        [
         "/raw/crw/rfb_cnpj/tabelas_auxiliares/municipio/"
        ],
        [
         "/raw/crw/rfb_cnpj/tabelas_auxiliares/nat_juridica/"
        ],
        [
         "/raw/crw/rfb_cnpj/tabelas_auxiliares/pais/"
        ],
        [
         "/raw/crw/rfb_cnpj/tabelas_auxiliares/qualif_socio/"
        ],
        [
         "/raw/crw/vagascertas/vagas/"
        ],
        [
         "/raw/crw/vagascom/vagas/"
        ],
        [
         "/raw/crw/worldsteel/indicadores_selecionados/"
        ],
        [
         "/raw/usr/azure_ad/"
        ],
        [
         "/raw/usr/datalake/"
        ],
        [
         "/raw/usr/devops/"
        ],
        [
         "/raw/usr/fiesc/IBGE/SIDRA/"
        ],
        [
         "/raw/usr/fiesc/MEC/INEP/"
        ],
        [
         "/raw/usr/fiesc/bacen/BACEN_METAS_DE_INFLACAO/"
        ],
        [
         "/raw/usr/fiesc/bacen/expec_mercado/"
        ],
        [
         "/raw/usr/fiesc/bacen/expec_prod_ind/"
        ],
        [
         "/raw/usr/fiesc/bacen/expec_selic/"
        ],
        [
         "/raw/usr/fiesc/bacen/expec_tx_cambio/"
        ],
        [
         "/raw/usr/fiesc/bacen/igp-m/"
        ],
        [
         "/raw/usr/fiesc/bacen/igpm/"
        ],
        [
         "/raw/usr/fiesc/bacen/inadimplencia_em_credito/"
        ],
        [
         "/raw/usr/fiesc/bacen/ind_atv_eco/"
        ],
        [
         "/raw/usr/fiesc/bacen/inpc/"
        ],
        [
         "/raw/usr/fiesc/bacen/taxa/"
        ],
        [
         "/raw/usr/fiesc/datasus/CNES/"
        ],
        [
         "/raw/usr/fiesc/ibge/inpc/"
        ],
        [
         "/raw/usr/fiesc/ibge/paic/"
        ],
        [
         "/raw/usr/fiesc/ibge/pesq_men_com/"
        ],
        [
         "/raw/usr/fiesc/ibge/pib/"
        ],
        [
         "/raw/usr/fiesc/ibge/pms/"
        ],
        [
         "/raw/usr/fiesc/ibge/sidra/"
        ],
        [
         "/raw/usr/fiesc/me/comex/"
        ],
        [
         "/raw/usr/fiesc/sidra/1849_FATO/"
        ],
        [
         "/raw/usr/ibge/deflator_pnad/"
        ],
        [
         "/raw/usr/inep_censo_escolar/etapa_ensino_agrupada/"
        ],
        [
         "/raw/usr/inep_enem/parametros_rampa/"
        ],
        [
         "/raw/usr/inep_saeb/competencias_e_habilidades_ajuste_lp/"
        ],
        [
         "/raw/usr/inep_saeb/competencias_e_habilidades_ajuste_mt/"
        ],
        [
         "/raw/usr/inep_saeb/competencias_e_habilidades_lp/"
        ],
        [
         "/raw/usr/inep_saeb/competencias_e_habilidades_mt/"
        ],
        [
         "/raw/usr/inep_saeb/mascara_escolas_sesi/"
        ],
        [
         "/raw/usr/jira_service_management/"
        ],
        [
         "/raw/usr/me/cadastro_cbo/"
        ],
        [
         "/raw/usr/me/cadastro_cbo_familia/"
        ],
        [
         "/raw/usr/me/cadastro_cbo_perfil_ocupacional/"
        ],
        [
         "/raw/usr/me/cadastro_cbo_sinonimo/"
        ],
        [
         "/raw/usr/me/rais_estabelecimento/"
        ],
        [
         "/raw/usr/me/rais_vinculo/"
        ],
        [
         "/raw/usr/ocde/intensidade_tecnol/"
        ],
        [
         "/raw/usr/oni/bases_do_projeto/aprendizagem/"
        ],
        [
         "/raw/usr/oni/bases_do_projeto/mapa_do_trabalho/"
        ],
        [
         "/raw/usr/oni/bases_do_projeto/monitor_de_vagas/"
        ],
        [
         "/raw/usr/oni/bases_do_projeto/painel_dos_estados/"
        ],
        [
         "/raw/usr/oni/ibge/geo_municipios/"
        ],
        [
         "/raw/usr/oni/ibge/geo_uf/"
        ],
        [
         "/raw/usr/oni/ibge/municipios_amazonia_legal/"
        ],
        [
         "/raw/usr/oni/ibge/uf/"
        ],
        [
         "/raw/usr/power_bi/"
        ],
        [
         "/raw/usr/sgbd/"
        ],
        [
         "/raw/usr/uniepro/base_escolas/"
        ],
        [
         "/raw/usr/uniepro/cnae_industrial/"
        ],
        [
         "/raw/usr/uniepro/faixa_etaria/"
        ],
        [
         "/raw/usr/uniepro/fmi_proj/"
        ],
        [
         "/raw/usr/uniepro/grau_instrucao/"
        ],
        [
         "/raw/usr/uniepro/ibge_cnae_classe/"
        ],
        [
         "/raw/usr/uniepro/ibge_municipios/"
        ],
        [
         "/raw/usr/uniepro/monitor_de_vagas/dicionarios/"
        ],
        [
         "/raw/usr/uniepro/monitor_de_vagas/padroes_regex/"
        ],
        [
         "/raw/usr/uniepro/monitor_de_vagas/uf/"
        ],
        [
         "/raw/usr/uniepro/ocup_indust_cbodom/"
        ],
        [
         "/raw/usr/uniepro/rfb/siafi/"
        ],
        [
         "/raw/usr/uniepro/saude_cid/"
        ]
       ],
       "datasetInfos": [],
       "dbfsResultPath": null,
       "isJsonSchema": true,
       "metadata": {},
       "overflow": false,
       "plotOptions": {
        "customPlotOptions": {},
        "displayType": "table",
        "pivotAggregation": null,
        "pivotColumns": null,
        "xColumns": null,
        "yColumns": null
       },
       "removedWidgets": [],
       "schema": [
        {
         "metadata": "{}",
         "name": "paths",
         "type": "\"string\""
        }
       ],
       "type": "table"
      }
     },
     "output_type": "display_data"
    }
   ],
   "source": [
    "df.display()"
   ]
  },
  {
   "cell_type": "code",
   "execution_count": null,
   "metadata": {
    "application/vnd.databricks.v1+cell": {
     "cellMetadata": {
      "byteLimit": 2048000,
      "rowLimit": 10000
     },
     "inputWidgets": {},
     "nuid": "18ef1ea2-6edd-44b1-a1ea-4cf8d7ebec88",
     "showTitle": false,
     "title": ""
    }
   },
   "outputs": [
    {
     "data": {
      "text/html": [
       "<style scoped>\n",
       "  .table-result-container {\n",
       "    max-height: 300px;\n",
       "    overflow: auto;\n",
       "  }\n",
       "  table, th, td {\n",
       "    border: 1px solid black;\n",
       "    border-collapse: collapse;\n",
       "  }\n",
       "  th, td {\n",
       "    padding: 5px;\n",
       "  }\n",
       "  th {\n",
       "    text-align: left;\n",
       "  }\n",
       "</style><div class='table-result-container'><table class='table-result'><thead style='background-color: white'><tr><th>path</th><th>path__</th><th>size_bytes</th><th>source_name</th><th>schema_name</th><th>table_name</th></tr></thead><tbody><tr><td>abfss://datalake@cnibigdatadlsgen2.dfs.core.windows.net/raw/crw/me/comex/ncm_sh/</td><td>raw/crw/me/comex/ncm_sh/</td><td>1431819</td><td>me</td><td>comex</td><td>ncm_sh</td></tr><tr><td>abfss://datalake@cnibigdatadlsgen2.dfs.core.windows.net/raw/crw/ibge/pintec_prod_vend_int/</td><td>raw/crw/ibge/pintec_prod_vend_int/</td><td>21540</td><td>ibge</td><td>pintec_prod_vend_int</td><td> </td></tr><tr><td>abfss://datalake@cnibigdatadlsgen2.dfs.core.windows.net/raw/crw/inep_censo_escolar/etapa_ensino/</td><td>raw/crw/inep_censo_escolar/etapa_ensino/</td><td>13317</td><td>inep_censo_escolar</td><td>etapa_ensino</td><td> </td></tr><tr><td>abfss://datalake@cnibigdatadlsgen2.dfs.core.windows.net/raw/crw/inep_dsu/brasil_regioes_e_ufs/</td><td>raw/crw/inep_dsu/brasil_regioes_e_ufs/</td><td>324904</td><td>inep_dsu</td><td>brasil_regioes_e_ufs</td><td> </td></tr><tr><td>abfss://datalake@cnibigdatadlsgen2.dfs.core.windows.net/raw/crw/ibge/pintec_bio_nano/</td><td>raw/crw/ibge/pintec_bio_nano/</td><td>23719</td><td>ibge</td><td>pintec_bio_nano</td><td> </td></tr><tr><td>abfss://datalake@cnibigdatadlsgen2.dfs.core.windows.net/raw/crw/ibge/scnt_volume_saz_se_unificado/</td><td>raw/crw/ibge/scnt_volume_saz_se_unificado/</td><td>27669</td><td>ibge</td><td>scnt_volume_saz_se_unificado</td><td> </td></tr><tr><td>abfss://datalake@cnibigdatadlsgen2.dfs.core.windows.net/raw/crw/inep_saeb/prova_brasil_2017/</td><td>raw/crw/inep_saeb/prova_brasil_2017/</td><td>1045738816</td><td>inep_saeb</td><td>prova_brasil_2017</td><td> </td></tr><tr><td>abfss://datalake@cnibigdatadlsgen2.dfs.core.windows.net/raw/usr/oni/ibge/municipios_amazonia_legal/</td><td>raw/usr/oni/ibge/municipios_amazonia_legal/</td><td>35896</td><td>oni</td><td>ibge</td><td>municipios_amazonia_legal</td></tr><tr><td>abfss://datalake@cnibigdatadlsgen2.dfs.core.windows.net/raw/crw/oni/bacen/cotacao/</td><td>raw/crw/oni/bacen/cotacao/</td><td>0</td><td>oni</td><td>bacen</td><td>cotacao</td></tr><tr><td>abfss://datalake@cnibigdatadlsgen2.dfs.core.windows.net/raw/crw/ibge/pnadc_a_visita5/</td><td>raw/crw/ibge/pnadc_a_visita5/</td><td>1907847665</td><td>ibge</td><td>pnadc_a_visita5</td><td> </td></tr><tr><td>abfss://datalake@cnibigdatadlsgen2.dfs.core.windows.net/raw/crw/me/comex/ncm_cgce/</td><td>raw/crw/me/comex/ncm_cgce/</td><td>472551</td><td>me</td><td>comex</td><td>ncm_cgce</td></tr><tr><td>abfss://datalake@cnibigdatadlsgen2.dfs.core.windows.net/raw/crw/rfb_cnpj/cadastro_estbl/</td><td>raw/crw/rfb_cnpj/cadastro_estbl/</td><td>4553748347</td><td>rfb_cnpj</td><td>cadastro_estbl</td><td> </td></tr><tr><td>abfss://datalake@cnibigdatadlsgen2.dfs.core.windows.net/raw/crw/mec/pnp_ser/</td><td>raw/crw/mec/pnp_ser/</td><td>3418219</td><td>mec</td><td>pnp_ser</td><td> </td></tr><tr><td>abfss://datalake@cnibigdatadlsgen2.dfs.core.windows.net/raw/crw/mtp_aeat/conseq_clas/</td><td>raw/crw/mtp_aeat/conseq_clas/</td><td>2358124</td><td>mtp_aeat</td><td>conseq_clas</td><td> </td></tr><tr><td>abfss://datalake@cnibigdatadlsgen2.dfs.core.windows.net/raw/usr/inep_saeb/competencias_e_habilidades_lp/</td><td>raw/usr/inep_saeb/competencias_e_habilidades_lp/</td><td>2056933</td><td>inep_saeb</td><td>competencias_e_habilidades_lp</td><td> </td></tr><tr><td>abfss://datalake@cnibigdatadlsgen2.dfs.core.windows.net/raw/crw/inep_iqes/cpc/</td><td>raw/crw/inep_iqes/cpc/</td><td>4564865</td><td>inep_iqes</td><td>cpc</td><td> </td></tr><tr><td>abfss://datalake@cnibigdatadlsgen2.dfs.core.windows.net/raw/crw/inep_atu/municipios/</td><td>raw/crw/inep_atu/municipios/</td><td>25418643</td><td>inep_atu</td><td>municipios</td><td> </td></tr><tr><td>abfss://datalake@cnibigdatadlsgen2.dfs.core.windows.net/raw/crw/inep_tdi/brasil_regioes_e_ufs/</td><td>raw/crw/inep_tdi/brasil_regioes_e_ufs/</td><td>848198</td><td>inep_tdi</td><td>brasil_regioes_e_ufs</td><td> </td></tr><tr><td>abfss://datalake@cnibigdatadlsgen2.dfs.core.windows.net/raw/usr/uniepro/cnae_industrial/</td><td>raw/usr/uniepro/cnae_industrial/</td><td>7036</td><td>uniepro</td><td>uniepro_cnae_industrial</td><td>cnae_industrial</td></tr><tr><td>abfss://datalake@cnibigdatadlsgen2.dfs.core.windows.net/raw/crw/ibge/pnadc/</td><td>raw/crw/ibge/pnadc/</td><td>39728467341</td><td>ibge</td><td>pnadc</td><td> </td></tr><tr><td>abfss://datalake@cnibigdatadlsgen2.dfs.core.windows.net/raw/crw/rfb_cnpj/cadastro_empresa/</td><td>raw/crw/rfb_cnpj/cadastro_empresa/</td><td>1843430987</td><td>rfb_cnpj</td><td>cadastro_empresa</td><td> </td></tr><tr><td>abfss://datalake@cnibigdatadlsgen2.dfs.core.windows.net/raw/usr/datalake/</td><td>raw/usr/datalake/</td><td>This request is not authorized</td><td>datalake</td><td></td><td> </td></tr><tr><td>abfss://datalake@cnibigdatadlsgen2.dfs.core.windows.net/raw/crw/ibge/pintec_org_mkt/</td><td>raw/crw/ibge/pintec_org_mkt/</td><td>23894</td><td>ibge</td><td>pintec_org_mkt</td><td> </td></tr><tr><td>abfss://datalake@cnibigdatadlsgen2.dfs.core.windows.net/raw/crw/ibge/scnt_conta_financeira_unificado/</td><td>raw/crw/ibge/scnt_conta_financeira_unificado/</td><td>23290</td><td>ibge</td><td>scnt_conta_financeira_unificado</td><td> </td></tr><tr><td>abfss://datalake@cnibigdatadlsgen2.dfs.core.windows.net/raw/crw/rfb/cno/cno_cnaes/</td><td>raw/crw/rfb/cno/cno_cnaes/</td><td>20658389</td><td>rfb</td><td>cno</td><td>cno_cnaes</td></tr><tr><td>abfss://datalake@cnibigdatadlsgen2.dfs.core.windows.net/raw/usr/oni/ibge/uf/</td><td>raw/usr/oni/ibge/uf/</td><td>2185</td><td>oni</td><td>ibge</td><td>uf</td></tr><tr><td>abfss://datalake@cnibigdatadlsgen2.dfs.core.windows.net/raw/crw/ibge/ipca/</td><td>raw/crw/ibge/ipca/</td><td>12310</td><td>ibge</td><td>ipca</td><td> </td></tr><tr><td>abfss://datalake@cnibigdatadlsgen2.dfs.core.windows.net/raw/crw/ibge/pintec_tipo_programa_po/</td><td>raw/crw/ibge/pintec_tipo_programa_po/</td><td>33509</td><td>ibge</td><td>pintec_tipo_programa_po</td><td> </td></tr><tr><td>abfss://datalake@cnibigdatadlsgen2.dfs.core.windows.net/raw/crw/ibge/pop_projetada_txfecund/</td><td>raw/crw/ibge/pop_projetada_txfecund/</td><td>542123</td><td>ibge</td><td>pop_projetada_txfecund</td><td> </td></tr><tr><td>abfss://datalake@cnibigdatadlsgen2.dfs.core.windows.net/raw/crw/me/comex/ncm_fat_agreg/</td><td>raw/crw/me/comex/ncm_fat_agreg/</td><td>444160</td><td>me</td><td>comex</td><td>ncm_fat_agreg</td></tr><tr><td>abfss://datalake@cnibigdatadlsgen2.dfs.core.windows.net/raw/crw/rfb_cnpj/tabelas_auxiliares/cnae/</td><td>raw/crw/rfb_cnpj/tabelas_auxiliares/cnae/</td><td>45153</td><td>rfb_cnpj</td><td>tabelas_auxiliares</td><td>cnae</td></tr><tr><td>abfss://datalake@cnibigdatadlsgen2.dfs.core.windows.net/raw/usr/uniepro/ibge_cnae_classe/</td><td>raw/usr/uniepro/ibge_cnae_classe/</td><td>25362</td><td>uniepro</td><td>uniepro_ibge_cnae_classe</td><td>ibge_cnae_classe</td></tr><tr><td>abfss://datalake@cnibigdatadlsgen2.dfs.core.windows.net/raw/crw/fred/indicadores_selecionados/</td><td>raw/crw/fred/indicadores_selecionados/</td><td>54010</td><td>fred</td><td>indicadores_selecionados</td><td> </td></tr><tr><td>abfss://datalake@cnibigdatadlsgen2.dfs.core.windows.net/raw/crw/ibge/ipp_cnae_div/</td><td>raw/crw/ibge/ipp_cnae_div/</td><td>146295</td><td>ibge</td><td>ipp_cnae_div</td><td> </td></tr><tr><td>abfss://datalake@cnibigdatadlsgen2.dfs.core.windows.net/raw/crw/ibge/pintec_prob_obst/</td><td>raw/crw/ibge/pintec_prob_obst/</td><td>73832</td><td>ibge</td><td>pintec_prob_obst</td><td> </td></tr><tr><td>abfss://datalake@cnibigdatadlsgen2.dfs.core.windows.net/raw/crw/me/caged_ajustes/</td><td>raw/crw/me/caged_ajustes/</td><td>205696635</td><td>me</td><td>caged_ajustes</td><td> </td></tr><tr><td>abfss://datalake@cnibigdatadlsgen2.dfs.core.windows.net/raw/crw/inep_ideb/ideb/</td><td>raw/crw/inep_ideb/ideb/</td><td>29431193</td><td>inep_ideb</td><td>ideb</td><td> </td></tr><tr><td>abfss://datalake@cnibigdatadlsgen2.dfs.core.windows.net/raw/crw/inep_saeb/prova_brasil_2019/</td><td>raw/crw/inep_saeb/prova_brasil_2019/</td><td>869379911</td><td>inep_saeb</td><td>prova_brasil_2019</td><td> </td></tr><tr><td>abfss://datalake@cnibigdatadlsgen2.dfs.core.windows.net/raw/crw/inep_atu/brasil_regioes_e_ufs/</td><td>raw/crw/inep_atu/brasil_regioes_e_ufs/</td><td>831206</td><td>inep_atu</td><td>brasil_regioes_e_ufs</td><td> </td></tr><tr><td>abfss://datalake@cnibigdatadlsgen2.dfs.core.windows.net/raw/crw/me/comex/ncm_unidade/</td><td>raw/crw/me/comex/ncm_unidade/</td><td>447140</td><td>me</td><td>comex</td><td>ncm_unidade</td></tr><tr><td>abfss://datalake@cnibigdatadlsgen2.dfs.core.windows.net/raw/crw/me/comex/pais_bloco/</td><td>raw/crw/me/comex/pais_bloco/</td><td>7281</td><td>me</td><td>comex</td><td>pais_bloco</td></tr><tr><td>abfss://datalake@cnibigdatadlsgen2.dfs.core.windows.net/raw/crw/mtp_aeat/motivo_ida_sex/</td><td>raw/crw/mtp_aeat/motivo_ida_sex/</td><td>469638</td><td>mtp_aeat</td><td>motivo_ida_sex</td><td> </td></tr><tr><td>abfss://datalake@cnibigdatadlsgen2.dfs.core.windows.net/raw/crw/ibge/pop_estimada/</td><td>raw/crw/ibge/pop_estimada/</td><td>1162587</td><td>ibge</td><td>pop_estimada</td><td> </td></tr><tr><td>abfss://datalake@cnibigdatadlsgen2.dfs.core.windows.net/raw/crw/inep_saeb/saeb_aluno_unificado/</td><td>raw/crw/inep_saeb/saeb_aluno_unificado/</td><td>3165182809</td><td>inep_saeb</td><td>saeb_aluno_unificado</td><td> </td></tr><tr><td>abfss://datalake@cnibigdatadlsgen2.dfs.core.windows.net/raw/usr/fiesc/MEC/INEP/</td><td>raw/usr/fiesc/MEC/INEP/</td><td>131205827</td><td>fiesc</td><td>MEC</td><td>INEP</td></tr><tr><td>abfss://datalake@cnibigdatadlsgen2.dfs.core.windows.net/raw/crw/inep_ird/escolas/</td><td>raw/crw/inep_ird/escolas/</td><td>36273878</td><td>inep_ird</td><td>escolas</td><td> </td></tr><tr><td>abfss://datalake@cnibigdatadlsgen2.dfs.core.windows.net/raw/usr/jira_service_management/</td><td>raw/usr/jira_service_management/</td><td>This request is not authorized</td><td>jira_service_management</td><td></td><td> </td></tr><tr><td>abfss://datalake@cnibigdatadlsgen2.dfs.core.windows.net/raw/crw/inep_taxa_rendimento/municipios/</td><td>raw/crw/inep_taxa_rendimento/municipios/</td><td>45750496</td><td>inep_taxa_rendimento</td><td>municipios</td><td> </td></tr><tr><td>abfss://datalake@cnibigdatadlsgen2.dfs.core.windows.net/raw/crw/inep_enem/enem_escola/</td><td>raw/crw/inep_enem/enem_escola/</td><td>9910050</td><td>inep_enem</td><td>enem_escola</td><td> </td></tr><tr><td>abfss://datalake@cnibigdatadlsgen2.dfs.core.windows.net/raw/crw/inep_saeb/saeb_escola_unificada/</td><td>raw/crw/inep_saeb/saeb_escola_unificada/</td><td>36434840</td><td>inep_saeb</td><td>saeb_escola_unificada</td><td> </td></tr><tr><td>abfss://datalake@cnibigdatadlsgen2.dfs.core.windows.net/raw/usr/fiesc/bacen/igp-m/</td><td>raw/usr/fiesc/bacen/igp-m/</td><td>10803</td><td>fiesc</td><td>bacen</td><td>igp-m</td></tr><tr><td>abfss://datalake@cnibigdatadlsgen2.dfs.core.windows.net/raw/crw/infojobs/vagas/</td><td>raw/crw/infojobs/vagas/</td><td>52583365</td><td>infojobs</td><td>vagas</td><td> </td></tr><tr><td>abfss://datalake@cnibigdatadlsgen2.dfs.core.windows.net/raw/usr/fiesc/ibge/sidra/</td><td>raw/usr/fiesc/ibge/sidra/</td><td>3681310</td><td>fiesc</td><td>ibge</td><td>sidra</td></tr><tr><td>abfss://datalake@cnibigdatadlsgen2.dfs.core.windows.net/raw/crw/me/comex/ncm_isic/</td><td>raw/crw/me/comex/ncm_isic/</td><td>496422</td><td>me</td><td>comex</td><td>ncm_isic</td></tr><tr><td>abfss://datalake@cnibigdatadlsgen2.dfs.core.windows.net/raw/usr/fiesc/bacen/expec_selic/</td><td>raw/usr/fiesc/bacen/expec_selic/</td><td>19435</td><td>fiesc</td><td>bacen</td><td>expec_selic</td></tr><tr><td>abfss://datalake@cnibigdatadlsgen2.dfs.core.windows.net/raw/crw/fmi_proj/grupo_paises/</td><td>raw/crw/fmi_proj/grupo_paises/</td><td>This request is not authorized</td><td>fmi_proj</td><td>grupo_paises</td><td> </td></tr><tr><td>abfss://datalake@cnibigdatadlsgen2.dfs.core.windows.net/raw/crw/vagascom/vagas/</td><td>raw/crw/vagascom/vagas/</td><td>18634094</td><td>vagascom</td><td>vagas</td><td> </td></tr><tr><td>abfss://datalake@cnibigdatadlsgen2.dfs.core.windows.net/raw/crw/inss/cat/</td><td>raw/crw/inss/cat/</td><td>68330378</td><td>inss</td><td>cat</td><td> </td></tr><tr><td>abfss://datalake@cnibigdatadlsgen2.dfs.core.windows.net/raw/crw/inep_saeb/ts_resposta_aluno/</td><td>raw/crw/inep_saeb/ts_resposta_aluno/</td><td>150712321</td><td>inep_saeb</td><td>ts_resposta_aluno</td><td> </td></tr><tr><td>abfss://datalake@cnibigdatadlsgen2.dfs.core.windows.net/raw/crw/ms/sim/</td><td>raw/crw/ms/sim/</td><td>1547824118</td><td>ms</td><td>sim</td><td> </td></tr><tr><td>abfss://datalake@cnibigdatadlsgen2.dfs.core.windows.net/raw/usr/fiesc/IBGE/SIDRA/</td><td>raw/usr/fiesc/IBGE/SIDRA/</td><td>6580754</td><td>fiesc</td><td>IBGE</td><td>SIDRA</td></tr><tr><td>abfss://datalake@cnibigdatadlsgen2.dfs.core.windows.net/raw/crw/ibge/pop_projetada_pessoas_prop/</td><td>raw/crw/ibge/pop_projetada_pessoas_prop/</td><td>543687</td><td>ibge</td><td>pop_projetada_pessoas_prop</td><td> </td></tr><tr><td>abfss://datalake@cnibigdatadlsgen2.dfs.core.windows.net/raw/crw/ms_sinan/canc/</td><td>raw/crw/ms_sinan/canc/</td><td>386664</td><td>ms_sinan</td><td>canc</td><td> </td></tr><tr><td>abfss://datalake@cnibigdatadlsgen2.dfs.core.windows.net/raw/usr/fiesc/bacen/BACEN_METAS_DE_INFLACAO/</td><td>raw/usr/fiesc/bacen/BACEN_METAS_DE_INFLACAO/</td><td>11795</td><td>fiesc</td><td>bacen</td><td>BACEN_METAS_DE_INFLACAO</td></tr><tr><td>abfss://datalake@cnibigdatadlsgen2.dfs.core.windows.net/raw/crw/inep_saeb/saeb_resultado_regiao_unificado/</td><td>raw/crw/inep_saeb/saeb_resultado_regiao_unificado/</td><td>396900</td><td>inep_saeb</td><td>saeb_resultado_regiao_unificado</td><td> </td></tr><tr><td>abfss://datalake@cnibigdatadlsgen2.dfs.core.windows.net/raw/crw/vagascertas/vagas/</td><td>raw/crw/vagascertas/vagas/</td><td>5395958</td><td>vagascertas</td><td>vagas</td><td> </td></tr><tr><td>abfss://datalake@cnibigdatadlsgen2.dfs.core.windows.net/raw/crw/ms_sinan/derm/</td><td>raw/crw/ms_sinan/derm/</td><td>572694</td><td>ms_sinan</td><td>derm</td><td> </td></tr><tr><td>abfss://datalake@cnibigdatadlsgen2.dfs.core.windows.net/raw/crw/inep_prova_brasil/ts_quest_aluno/</td><td>raw/crw/inep_prova_brasil/ts_quest_aluno/</td><td>206146996</td><td>inep_prova_brasil</td><td>ts_quest_aluno</td><td> </td></tr><tr><td>abfss://datalake@cnibigdatadlsgen2.dfs.core.windows.net/raw/usr/uniepro/saude_cid/</td><td>raw/usr/uniepro/saude_cid/</td><td>519245</td><td>uniepro</td><td>uniepro_saude_cid</td><td>saude_cid</td></tr><tr><td>abfss://datalake@cnibigdatadlsgen2.dfs.core.windows.net/raw/usr/fiesc/bacen/inadimplencia_em_credito/</td><td>raw/usr/fiesc/bacen/inadimplencia_em_credito/</td><td>40508</td><td>fiesc</td><td>bacen</td><td>inadimplencia_em_credito</td></tr><tr><td>abfss://datalake@cnibigdatadlsgen2.dfs.core.windows.net/raw/crw/inep_censo_escolar/matriculas/</td><td>raw/crw/inep_censo_escolar/matriculas/</td><td>30621446621</td><td>inep_censo_escolar</td><td>matriculas</td><td> </td></tr><tr><td>abfss://datalake@cnibigdatadlsgen2.dfs.core.windows.net/raw/crw/ibge/ipca_indice_desagregado/</td><td>raw/crw/ibge/ipca_indice_desagregado/</td><td>1373795</td><td>ibge</td><td>ipca_indice_desagregado</td><td> </td></tr><tr><td>abfss://datalake@cnibigdatadlsgen2.dfs.core.windows.net/raw/crw/me/comex/ncm_exp/</td><td>raw/crw/me/comex/ncm_exp/</td><td>479967878</td><td>me</td><td>comex</td><td>ncm_exp</td></tr><tr><td>abfss://datalake@cnibigdatadlsgen2.dfs.core.windows.net/raw/crw/mtp_aeat/motivo_cid/</td><td>raw/crw/mtp_aeat/motivo_cid/</td><td>2778945</td><td>mtp_aeat</td><td>motivo_cid</td><td> </td></tr><tr><td>abfss://datalake@cnibigdatadlsgen2.dfs.core.windows.net/raw/usr/uniepro/monitor_de_vagas/uf/</td><td>raw/usr/uniepro/monitor_de_vagas/uf/</td><td>1858</td><td>uniepro</td><td>uniepro_monitor_de_vagas</td><td>uf</td></tr><tr><td>abfss://datalake@cnibigdatadlsgen2.dfs.core.windows.net/raw/crw/inep_tdi/escolas/</td><td>raw/crw/inep_tdi/escolas/</td><td>84204476</td><td>inep_tdi</td><td>escolas</td><td> </td></tr><tr><td>abfss://datalake@cnibigdatadlsgen2.dfs.core.windows.net/raw/usr/fiesc/sidra/1849_FATO/</td><td>raw/usr/fiesc/sidra/1849_FATO/</td><td>298927</td><td>fiesc</td><td>sidra</td><td>1849_FATO</td></tr><tr><td>abfss://datalake@cnibigdatadlsgen2.dfs.core.windows.net/raw/usr/fiesc/datasus/CNES/</td><td>raw/usr/fiesc/datasus/CNES/</td><td>6485190636</td><td>fiesc</td><td>datasus</td><td>CNES</td></tr><tr><td>abfss://datalake@cnibigdatadlsgen2.dfs.core.windows.net/raw/crw/ibge/pintec_rel_coop_po/</td><td>raw/crw/ibge/pintec_rel_coop_po/</td><td>51440</td><td>ibge</td><td>pintec_rel_coop_po</td><td> </td></tr><tr><td>abfss://datalake@cnibigdatadlsgen2.dfs.core.windows.net/raw/crw/inep_saeb/saeb_resultado_brasil_unificado/</td><td>raw/crw/inep_saeb/saeb_resultado_brasil_unificado/</td><td>209685</td><td>inep_saeb</td><td>saeb_resultado_brasil_unificado</td><td> </td></tr><tr><td>abfss://datalake@cnibigdatadlsgen2.dfs.core.windows.net/raw/crw/inep_iqes/icg/</td><td>raw/crw/inep_iqes/icg/</td><td>935589</td><td>inep_iqes</td><td>icg</td><td> </td></tr><tr><td>abfss://datalake@cnibigdatadlsgen2.dfs.core.windows.net/raw/crw/rfb_cnpj/tabelas_auxiliares/municipio/</td><td>raw/crw/rfb_cnpj/tabelas_auxiliares/municipio/</td><td>103785</td><td>rfb_cnpj</td><td>tabelas_auxiliares</td><td>municipio</td></tr><tr><td>abfss://datalake@cnibigdatadlsgen2.dfs.core.windows.net/raw/usr/fiesc/bacen/expec_tx_cambio/</td><td>raw/usr/fiesc/bacen/expec_tx_cambio/</td><td>11773</td><td>fiesc</td><td>bacen</td><td>expec_tx_cambio</td></tr><tr><td>abfss://datalake@cnibigdatadlsgen2.dfs.core.windows.net/raw/usr/inep_saeb/competencias_e_habilidades_mt/</td><td>raw/usr/inep_saeb/competencias_e_habilidades_mt/</td><td>3132254</td><td>inep_saeb</td><td>competencias_e_habilidades_mt</td><td> </td></tr><tr><td>abfss://datalake@cnibigdatadlsgen2.dfs.core.windows.net/raw/usr/uniepro/monitor_de_vagas/padroes_regex/</td><td>raw/usr/uniepro/monitor_de_vagas/padroes_regex/</td><td>2216</td><td>uniepro</td><td>uniepro_monitor_de_vagas</td><td>padroes_regex</td></tr><tr><td>abfss://datalake@cnibigdatadlsgen2.dfs.core.windows.net/raw/crw/me/comex/ncm_imp/</td><td>raw/crw/me/comex/ncm_imp/</td><td>859112214</td><td>me</td><td>comex</td><td>ncm_imp</td></tr><tr><td>abfss://datalake@cnibigdatadlsgen2.dfs.core.windows.net/raw/crw/inep_afd/escolas/</td><td>raw/crw/inep_afd/escolas/</td><td>61071166</td><td>inep_afd</td><td>escolas</td><td> </td></tr><tr><td>abfss://datalake@cnibigdatadlsgen2.dfs.core.windows.net/raw/crw/inep_prova_brasil/ts_resultado_aluno/</td><td>raw/crw/inep_prova_brasil/ts_resultado_aluno/</td><td>168672408</td><td>inep_prova_brasil</td><td>ts_resultado_aluno</td><td> </td></tr><tr><td>abfss://datalake@cnibigdatadlsgen2.dfs.core.windows.net/raw/crw/me/comex/urf/</td><td>raw/crw/me/comex/urf/</td><td>9494</td><td>me</td><td>comex</td><td>urf</td></tr><tr><td>abfss://datalake@cnibigdatadlsgen2.dfs.core.windows.net/raw/usr/uniepro/grau_instrucao/</td><td>raw/usr/uniepro/grau_instrucao/</td><td>3836</td><td>uniepro</td><td>uniepro_grau_instrucao</td><td>grau_instrucao</td></tr><tr><td>abfss://datalake@cnibigdatadlsgen2.dfs.core.windows.net/raw/crw/ibge/pimpf/</td><td>raw/crw/ibge/pimpf/</td><td>5859106</td><td>ibge</td><td>pimpf</td><td> </td></tr><tr><td>abfss://datalake@cnibigdatadlsgen2.dfs.core.windows.net/raw/crw/ibge/pintec_resp_imp/</td><td>raw/crw/ibge/pintec_resp_imp/</td><td>26096</td><td>ibge</td><td>pintec_resp_imp</td><td> </td></tr><tr><td>abfss://datalake@cnibigdatadlsgen2.dfs.core.windows.net/raw/usr/oni/bases_do_projeto/painel_dos_estados/</td><td>raw/usr/oni/bases_do_projeto/painel_dos_estados/</td><td>45129</td><td>oni</td><td>bases_do_projeto</td><td>painel_dos_estados</td></tr><tr><td>abfss://datalake@cnibigdatadlsgen2.dfs.core.windows.net/raw/crw/rfb_cnpj/regime_tributario/</td><td>raw/crw/rfb_cnpj/regime_tributario/</td><td>127308760</td><td>rfb_cnpj</td><td>regime_tributario</td><td> </td></tr><tr><td>abfss://datalake@cnibigdatadlsgen2.dfs.core.windows.net/raw/usr/inep_censo_escolar/etapa_ensino_agrupada/</td><td>raw/usr/inep_censo_escolar/etapa_ensino_agrupada/</td><td>9456</td><td>inep_censo_escolar</td><td>etapa_ensino_agrupada</td><td> </td></tr><tr><td>abfss://datalake@cnibigdatadlsgen2.dfs.core.windows.net/raw/crw/inep_afd/municipios/</td><td>raw/crw/inep_afd/municipios/</td><td>18806657</td><td>inep_afd</td><td>municipios</td><td> </td></tr><tr><td>abfss://datalake@cnibigdatadlsgen2.dfs.core.windows.net/raw/crw/ms_sinan/ment/</td><td>raw/crw/ms_sinan/ment/</td><td>887824</td><td>ms_sinan</td><td>ment</td><td> </td></tr><tr><td>abfss://datalake@cnibigdatadlsgen2.dfs.core.windows.net/raw/crw/inep_tdi/municipios/</td><td>raw/crw/inep_tdi/municipios/</td><td>23174019</td><td>inep_tdi</td><td>municipios</td><td> </td></tr><tr><td>abfss://datalake@cnibigdatadlsgen2.dfs.core.windows.net/raw/crw/ibge/piaemp_aquisicoes/</td><td>raw/crw/ibge/piaemp_aquisicoes/</td><td>360240</td><td>ibge</td><td>piaemp_aquisicoes</td><td> </td></tr><tr><td>abfss://datalake@cnibigdatadlsgen2.dfs.core.windows.net/raw/crw/ms_sinan/pair/</td><td>raw/crw/ms_sinan/pair/</td><td>639794</td><td>ms_sinan</td><td>pair</td><td> </td></tr><tr><td>abfss://datalake@cnibigdatadlsgen2.dfs.core.windows.net/raw/crw/rfb/cno/cno_totais/</td><td>raw/crw/rfb/cno/cno_totais/</td><td>3375</td><td>rfb</td><td>cno</td><td>cno_totais</td></tr><tr><td>abfss://datalake@cnibigdatadlsgen2.dfs.core.windows.net/raw/usr/oni/ibge/geo_uf/</td><td>raw/usr/oni/ibge/geo_uf/</td><td>5090</td><td>oni</td><td>ibge</td><td>geo_uf</td></tr><tr><td>abfss://datalake@cnibigdatadlsgen2.dfs.core.windows.net/raw/usr/oni/bases_do_projeto/aprendizagem/</td><td>raw/usr/oni/bases_do_projeto/aprendizagem/</td><td>10835</td><td>oni</td><td>bases_do_projeto</td><td>aprendizagem</td></tr><tr><td>abfss://datalake@cnibigdatadlsgen2.dfs.core.windows.net/raw/crw/inep_rmd/brasil_regioes_e_ufs/</td><td>raw/crw/inep_rmd/brasil_regioes_e_ufs/</td><td>90844</td><td>inep_rmd</td><td>brasil_regioes_e_ufs</td><td> </td></tr><tr><td>abfss://datalake@cnibigdatadlsgen2.dfs.core.windows.net/raw/crw/inep_taxa_rendimento/brasil_regioes_e_ufs/</td><td>raw/crw/inep_taxa_rendimento/brasil_regioes_e_ufs/</td><td>1166136</td><td>inep_taxa_rendimento</td><td>brasil_regioes_e_ufs</td><td> </td></tr><tr><td>abfss://datalake@cnibigdatadlsgen2.dfs.core.windows.net/raw/crw/me/novo_caged_exc/</td><td>raw/crw/me/novo_caged_exc/</td><td>5599352</td><td>me</td><td>novo_caged_exc</td><td> </td></tr><tr><td>abfss://datalake@cnibigdatadlsgen2.dfs.core.windows.net/raw/usr/fiesc/ibge/pib/</td><td>raw/usr/fiesc/ibge/pib/</td><td>1740346</td><td>fiesc</td><td>ibge</td><td>pib</td></tr><tr><td>abfss://datalake@cnibigdatadlsgen2.dfs.core.windows.net/raw/crw/ibge/pintec_tipo_programa/</td><td>raw/crw/ibge/pintec_tipo_programa/</td><td>6668</td><td>ibge</td><td>pintec_tipo_programa</td><td> </td></tr><tr><td>abfss://datalake@cnibigdatadlsgen2.dfs.core.windows.net/raw/crw/banco_mundial/documentacao_indica/</td><td>raw/crw/banco_mundial/documentacao_indica/</td><td>43321</td><td>banco_mundial</td><td>documentacao_indica</td><td> </td></tr><tr><td>abfss://datalake@cnibigdatadlsgen2.dfs.core.windows.net/raw/crw/rfb_cnpj/tabelas_auxiliares/pais/</td><td>raw/crw/rfb_cnpj/tabelas_auxiliares/pais/</td><td>8154</td><td>rfb_cnpj</td><td>tabelas_auxiliares</td><td>pais</td></tr><tr><td>abfss://datalake@cnibigdatadlsgen2.dfs.core.windows.net/raw/crw/ibge/piaemp/</td><td>raw/crw/ibge/piaemp/</td><td>258392</td><td>ibge</td><td>piaemp</td><td> </td></tr><tr><td>abfss://datalake@cnibigdatadlsgen2.dfs.core.windows.net/raw/crw/me/comex/ncm_ppi/</td><td>raw/crw/me/comex/ncm_ppi/</td><td>485222</td><td>me</td><td>comex</td><td>ncm_ppi</td></tr><tr><td>abfss://datalake@cnibigdatadlsgen2.dfs.core.windows.net/raw/usr/me/cadastro_cbo_familia/</td><td>raw/usr/me/cadastro_cbo_familia/</td><td>2070339</td><td>me</td><td>cadastro_cbo_familia</td><td> </td></tr><tr><td>abfss://datalake@cnibigdatadlsgen2.dfs.core.windows.net/raw/crw/ibge/pop_projetada_indicadores_implicitos/</td><td>raw/crw/ibge/pop_projetada_indicadores_implicitos/</td><td>699686</td><td>ibge</td><td>pop_projetada_indicadores_implicitos</td><td> </td></tr><tr><td>abfss://datalake@cnibigdatadlsgen2.dfs.core.windows.net/raw/usr/fiesc/bacen/inpc/</td><td>raw/usr/fiesc/bacen/inpc/</td><td>655568</td><td>fiesc</td><td>bacen</td><td>inpc</td></tr><tr><td>abfss://datalake@cnibigdatadlsgen2.dfs.core.windows.net/raw/usr/inep_saeb/competencias_e_habilidades_ajuste_lp/</td><td>raw/usr/inep_saeb/competencias_e_habilidades_ajuste_lp/</td><td>112235</td><td>inep_saeb</td><td>competencias_e_habilidades_ajuste_lp</td><td> </td></tr><tr><td>abfss://datalake@cnibigdatadlsgen2.dfs.core.windows.net/raw/crw/inep_inse/socioeconomico/</td><td>raw/crw/inep_inse/socioeconomico/</td><td>7995602</td><td>inep_inse</td><td>socioeconomico</td><td> </td></tr><tr><td>abfss://datalake@cnibigdatadlsgen2.dfs.core.windows.net/raw/crw/inep_saeb/prova_brasil_2015/</td><td>raw/crw/inep_saeb/prova_brasil_2015/</td><td>611109110</td><td>inep_saeb</td><td>prova_brasil_2015</td><td> </td></tr><tr><td>abfss://datalake@cnibigdatadlsgen2.dfs.core.windows.net/raw/crw/inep_censo_escolar/docente/</td><td>raw/crw/inep_censo_escolar/docente/</td><td>4081211276</td><td>inep_censo_escolar</td><td>docente</td><td> </td></tr><tr><td>abfss://datalake@cnibigdatadlsgen2.dfs.core.windows.net/raw/crw/inep_saeb/saeb_diretor_unificada/</td><td>raw/crw/inep_saeb/saeb_diretor_unificada/</td><td>11650346</td><td>inep_saeb</td><td>saeb_diretor_unificada</td><td> </td></tr><tr><td>abfss://datalake@cnibigdatadlsgen2.dfs.core.windows.net/raw/usr/inep_enem/parametros_rampa/</td><td>raw/usr/inep_enem/parametros_rampa/</td><td>3703</td><td>inep_enem</td><td>parametros_rampa</td><td> </td></tr><tr><td>abfss://datalake@cnibigdatadlsgen2.dfs.core.windows.net/raw/crw/inep_dsu/escolas/</td><td>raw/crw/inep_dsu/escolas/</td><td>55778549</td><td>inep_dsu</td><td>escolas</td><td> </td></tr><tr><td>abfss://datalake@cnibigdatadlsgen2.dfs.core.windows.net/raw/crw/inep_saeb/saeb_resultado_municipio_unificado/</td><td>raw/crw/inep_saeb/saeb_resultado_municipio_unificado/</td><td>11338349</td><td>inep_saeb</td><td>saeb_resultado_municipio_unificado</td><td> </td></tr><tr><td>abfss://datalake@cnibigdatadlsgen2.dfs.core.windows.net/raw/usr/fiesc/bacen/ind_atv_eco/</td><td>raw/usr/fiesc/bacen/ind_atv_eco/</td><td>32040</td><td>fiesc</td><td>bacen</td><td>ind_atv_eco</td></tr><tr><td>abfss://datalake@cnibigdatadlsgen2.dfs.core.windows.net/raw/usr/uniepro/fmi_proj/</td><td>raw/usr/uniepro/fmi_proj/</td><td>19386</td><td>uniepro</td><td>uniepro_fmi_proj</td><td>fmi_proj</td></tr><tr><td>abfss://datalake@cnibigdatadlsgen2.dfs.core.windows.net/raw/crw/me/comex/uf/</td><td>raw/crw/me/comex/uf/</td><td>4238</td><td>me</td><td>comex</td><td>uf</td></tr><tr><td>abfss://datalake@cnibigdatadlsgen2.dfs.core.windows.net/raw/usr/me/rais_estabelecimento/</td><td>raw/usr/me/rais_estabelecimento/</td><td>4284703790</td><td>me</td><td>rais_estabelecimento</td><td> </td></tr><tr><td>abfss://datalake@cnibigdatadlsgen2.dfs.core.windows.net/raw/usr/ocde/intensidade_tecnol/</td><td>raw/usr/ocde/intensidade_tecnol/</td><td>5883</td><td>ocde</td><td>intensidade_tecnol</td><td> </td></tr><tr><td>abfss://datalake@cnibigdatadlsgen2.dfs.core.windows.net/raw/usr/ibge/deflator_pnad/</td><td>raw/usr/ibge/deflator_pnad/</td><td>55204</td><td>ibge</td><td>deflator_pnad</td><td> </td></tr><tr><td>abfss://datalake@cnibigdatadlsgen2.dfs.core.windows.net/raw/crw/me/comex/mun_imp/</td><td>raw/crw/me/comex/mun_imp/</td><td>467762489</td><td>me</td><td>comex</td><td>mun_imp</td></tr><tr><td>abfss://datalake@cnibigdatadlsgen2.dfs.core.windows.net/raw/crw/ibge/scnt_valor_preco_correntes_unificado/</td><td>raw/crw/ibge/scnt_valor_preco_correntes_unificado/</td><td>32981</td><td>ibge</td><td>scnt_valor_preco_correntes_unificado</td><td> </td></tr><tr><td>abfss://datalake@cnibigdatadlsgen2.dfs.core.windows.net/raw/crw/rfb/cno/cno/</td><td>raw/crw/rfb/cno/cno/</td><td>186053101</td><td>rfb</td><td>cno</td><td> </td></tr><tr><td>abfss://datalake@cnibigdatadlsgen2.dfs.core.windows.net/raw/crw/inep_atu/escolas/</td><td>raw/crw/inep_atu/escolas/</td><td>96615332</td><td>inep_atu</td><td>escolas</td><td> </td></tr><tr><td>abfss://datalake@cnibigdatadlsgen2.dfs.core.windows.net/raw/crw/inep_rmd/municipios/</td><td>raw/crw/inep_rmd/municipios/</td><td>2792194</td><td>inep_rmd</td><td>municipios</td><td> </td></tr><tr><td>abfss://datalake@cnibigdatadlsgen2.dfs.core.windows.net/raw/crw/me/novo_caged_mov/</td><td>raw/crw/me/novo_caged_mov/</td><td>2095107930</td><td>me</td><td>novo_caged_mov</td><td> </td></tr><tr><td>abfss://datalake@cnibigdatadlsgen2.dfs.core.windows.net/raw/usr/oni/bases_do_projeto/mapa_do_trabalho/</td><td>raw/usr/oni/bases_do_projeto/mapa_do_trabalho/</td><td>2006986417</td><td>oni</td><td>bases_do_projeto</td><td>mapa_do_trabalho</td></tr><tr><td>abfss://datalake@cnibigdatadlsgen2.dfs.core.windows.net/raw/crw/ibge/relatorio_dtb_brasil_municipio/</td><td>raw/crw/ibge/relatorio_dtb_brasil_municipio/</td><td>908581</td><td>ibge</td><td>relatorio_dtb_brasil_municipio</td><td> </td></tr><tr><td>abfss://datalake@cnibigdatadlsgen2.dfs.core.windows.net/raw/crw/mtp_aeat/conseq_div/</td><td>raw/crw/mtp_aeat/conseq_div/</td><td>614074</td><td>mtp_aeat</td><td>conseq_div</td><td> </td></tr><tr><td>abfss://datalake@cnibigdatadlsgen2.dfs.core.windows.net/raw/crw/ibge/pintec_grau_nov_imp/</td><td>raw/crw/ibge/pintec_grau_nov_imp/</td><td>42600</td><td>ibge</td><td>pintec_grau_nov_imp</td><td> </td></tr><tr><td>abfss://datalake@cnibigdatadlsgen2.dfs.core.windows.net/raw/crw/ibge/pintec_prod_vend_int_po/</td><td>raw/crw/ibge/pintec_prod_vend_int_po/</td><td>31440</td><td>ibge</td><td>pintec_prod_vend_int_po</td><td> </td></tr><tr><td>abfss://datalake@cnibigdatadlsgen2.dfs.core.windows.net/raw/crw/ms_sinan/anim/</td><td>raw/crw/ms_sinan/anim/</td><td>74453099</td><td>ms_sinan</td><td>anim</td><td> </td></tr><tr><td>abfss://datalake@cnibigdatadlsgen2.dfs.core.windows.net/raw/crw/aco_brasil/prod_aco_nacional/</td><td>raw/crw/aco_brasil/prod_aco_nacional/</td><td>55425</td><td>aco_brasil</td><td>prod_aco_nacional</td><td> </td></tr><tr><td>abfss://datalake@cnibigdatadlsgen2.dfs.core.windows.net/raw/usr/fiesc/bacen/igpm/</td><td>raw/usr/fiesc/bacen/igpm/</td><td>9370</td><td>fiesc</td><td>bacen</td><td>igpm</td></tr><tr><td>abfss://datalake@cnibigdatadlsgen2.dfs.core.windows.net/raw/usr/oni/bases_do_projeto/monitor_de_vagas/</td><td>raw/usr/oni/bases_do_projeto/monitor_de_vagas/</td><td>9641</td><td>oni</td><td>bases_do_projeto</td><td>monitor_de_vagas</td></tr><tr><td>abfss://datalake@cnibigdatadlsgen2.dfs.core.windows.net/raw/crw/ibge/pintec_rel_coop_loc/</td><td>raw/crw/ibge/pintec_rel_coop_loc/</td><td>40093</td><td>ibge</td><td>pintec_rel_coop_loc</td><td> </td></tr><tr><td>abfss://datalake@cnibigdatadlsgen2.dfs.core.windows.net/raw/crw/ms_sinan/acbi/</td><td>raw/crw/ms_sinan/acbi/</td><td>26707510</td><td>ms_sinan</td><td>acbi</td><td> </td></tr><tr><td>abfss://datalake@cnibigdatadlsgen2.dfs.core.windows.net/raw/crw/ms_sinan/lerd/</td><td>raw/crw/ms_sinan/lerd/</td><td>4085227</td><td>ms_sinan</td><td>lerd</td><td> </td></tr><tr><td>abfss://datalake@cnibigdatadlsgen2.dfs.core.windows.net/raw/usr/uniepro/ibge_municipios/</td><td>raw/usr/uniepro/ibge_municipios/</td><td>379721</td><td>uniepro</td><td>uniepro_ibge_municipios</td><td>ibge_municipios</td></tr><tr><td>abfss://datalake@cnibigdatadlsgen2.dfs.core.windows.net/raw/usr/uniepro/rfb/siafi/</td><td>raw/usr/uniepro/rfb/siafi/</td><td>166059</td><td>uniepro</td><td>uniepro_rfb</td><td>siafi</td></tr><tr><td>abfss://datalake@cnibigdatadlsgen2.dfs.core.windows.net/raw/crw/ibge/pop_projetada_expectativa_txmortal/</td><td>raw/crw/ibge/pop_projetada_expectativa_txmortal/</td><td>478175</td><td>ibge</td><td>pop_projetada_expectativa_txmortal</td><td> </td></tr><tr><td>abfss://datalake@cnibigdatadlsgen2.dfs.core.windows.net/raw/crw/ibge/pintec_org_mkt_po/</td><td>raw/crw/ibge/pintec_org_mkt_po/</td><td>39442</td><td>ibge</td><td>pintec_org_mkt_po</td><td> </td></tr><tr><td>abfss://datalake@cnibigdatadlsgen2.dfs.core.windows.net/raw/crw/ms_sinan/pneu/</td><td>raw/crw/ms_sinan/pneu/</td><td>436306</td><td>ms_sinan</td><td>pneu</td><td> </td></tr><tr><td>abfss://datalake@cnibigdatadlsgen2.dfs.core.windows.net/raw/crw/ibge/pop_projetada_pop_sex_idade/</td><td>raw/crw/ibge/pop_projetada_pop_sex_idade/</td><td>5746536</td><td>ibge</td><td>pop_projetada_pop_sex_idade</td><td> </td></tr><tr><td>abfss://datalake@cnibigdatadlsgen2.dfs.core.windows.net/raw/crw/catho/vagas/</td><td>raw/crw/catho/vagas/</td><td>152682509</td><td>catho</td><td>vagas</td><td> </td></tr><tr><td>abfss://datalake@cnibigdatadlsgen2.dfs.core.windows.net/raw/usr/uniepro/base_escolas/</td><td>raw/usr/uniepro/base_escolas/</td><td>23127777</td><td>uniepro</td><td>uniepro_base_escolas</td><td>base_escolas</td></tr><tr><td>abfss://datalake@cnibigdatadlsgen2.dfs.core.windows.net/raw/usr/uniepro/monitor_de_vagas/dicionarios/</td><td>raw/usr/uniepro/monitor_de_vagas/dicionarios/</td><td>7425</td><td>uniepro</td><td>uniepro_monitor_de_vagas</td><td>dicionarios</td></tr><tr><td>abfss://datalake@cnibigdatadlsgen2.dfs.core.windows.net/raw/crw/banco_mundial/documentacao_paises/</td><td>raw/crw/banco_mundial/documentacao_paises/</td><td>23260</td><td>banco_mundial</td><td>documentacao_paises</td><td> </td></tr><tr><td>abfss://datalake@cnibigdatadlsgen2.dfs.core.windows.net/raw/crw/me/novo_caged_for/</td><td>raw/crw/me/novo_caged_for/</td><td>110478417</td><td>me</td><td>novo_caged_for</td><td> </td></tr><tr><td>abfss://datalake@cnibigdatadlsgen2.dfs.core.windows.net/raw/usr/devops/</td><td>raw/usr/devops/</td><td>This request is not authorized</td><td>devops</td><td></td><td> </td></tr><tr><td>abfss://datalake@cnibigdatadlsgen2.dfs.core.windows.net/raw/usr/fiesc/bacen/taxa/</td><td>raw/usr/fiesc/bacen/taxa/</td><td>34256</td><td>fiesc</td><td>bacen</td><td>taxa</td></tr><tr><td>abfss://datalake@cnibigdatadlsgen2.dfs.core.windows.net/raw/crw/ibge/scnt_volume_se_unificado/</td><td>raw/crw/ibge/scnt_volume_se_unificado/</td><td>28325</td><td>ibge</td><td>scnt_volume_se_unificado</td><td> </td></tr><tr><td>abfss://datalake@cnibigdatadlsgen2.dfs.core.windows.net/raw/crw/rfb_cnpj/cadastro_socio/</td><td>raw/crw/rfb_cnpj/cadastro_socio/</td><td>778187073</td><td>rfb_cnpj</td><td>cadastro_socio</td><td> </td></tr><tr><td>abfss://datalake@cnibigdatadlsgen2.dfs.core.windows.net/raw/usr/me/cadastro_cbo_perfil_ocupacional/</td><td>raw/usr/me/cadastro_cbo_perfil_ocupacional/</td><td>1562049</td><td>me</td><td>cadastro_cbo_perfil_ocupacional</td><td> </td></tr><tr><td>abfss://datalake@cnibigdatadlsgen2.dfs.core.windows.net/raw/crw/ibge/deflatores/</td><td>raw/crw/ibge/deflatores/</td><td>68027</td><td>ibge</td><td>deflatores</td><td> </td></tr><tr><td>abfss://datalake@cnibigdatadlsgen2.dfs.core.windows.net/raw/usr/fiesc/ibge/pesq_men_com/</td><td>raw/usr/fiesc/ibge/pesq_men_com/</td><td>116597</td><td>fiesc</td><td>ibge</td><td>pesq_men_com</td></tr><tr><td>abfss://datalake@cnibigdatadlsgen2.dfs.core.windows.net/raw/crw/ibge/pintec_tipo_inov_proj/</td><td>raw/crw/ibge/pintec_tipo_inov_proj/</td><td>40572</td><td>ibge</td><td>pintec_tipo_inov_proj</td><td> </td></tr><tr><td>abfss://datalake@cnibigdatadlsgen2.dfs.core.windows.net/raw/crw/mec/pnp_fin/</td><td>raw/crw/mec/pnp_fin/</td><td>84425</td><td>mec</td><td>pnp_fin</td><td> </td></tr><tr><td>abfss://datalake@cnibigdatadlsgen2.dfs.core.windows.net/raw/crw/ibge/pia_produto_vti/</td><td>raw/crw/ibge/pia_produto_vti/</td><td>311048</td><td>ibge</td><td>pia_produto_vti</td><td> </td></tr><tr><td>abfss://datalake@cnibigdatadlsgen2.dfs.core.windows.net/raw/crw/aneel/gera_energia_distrib/</td><td>raw/crw/aneel/gera_energia_distrib/</td><td>39050620</td><td>aneel</td><td>gera_energia_distrib</td><td> </td></tr><tr><td>abfss://datalake@cnibigdatadlsgen2.dfs.core.windows.net/raw/crw/ibge/scnt_volume_tx_unificado/</td><td>raw/crw/ibge/scnt_volume_tx_unificado/</td><td>59808</td><td>ibge</td><td>scnt_volume_tx_unificado</td><td> </td></tr><tr><td>abfss://datalake@cnibigdatadlsgen2.dfs.core.windows.net/raw/crw/ibge/pintec_bio_nano_po/</td><td>raw/crw/ibge/pintec_bio_nano_po/</td><td>24874</td><td>ibge</td><td>pintec_bio_nano_po</td><td> </td></tr><tr><td>abfss://datalake@cnibigdatadlsgen2.dfs.core.windows.net/raw/crw/me/comex/ncm_siit/</td><td>raw/crw/me/comex/ncm_siit/</td><td>433979</td><td>me</td><td>comex</td><td>ncm_siit</td></tr><tr><td>abfss://datalake@cnibigdatadlsgen2.dfs.core.windows.net/raw/usr/uniepro/faixa_etaria/</td><td>raw/usr/uniepro/faixa_etaria/</td><td>4146</td><td>uniepro</td><td>uniepro_faixa_etaria</td><td>faixa_etaria</td></tr><tr><td>abfss://datalake@cnibigdatadlsgen2.dfs.core.windows.net/raw/usr/inep_saeb/mascara_escolas_sesi/</td><td>raw/usr/inep_saeb/mascara_escolas_sesi/</td><td>7105</td><td>inep_saeb</td><td>mascara_escolas_sesi</td><td> </td></tr><tr><td>abfss://datalake@cnibigdatadlsgen2.dfs.core.windows.net/raw/crw/banco_mundial/indicadores_selecionados/</td><td>raw/crw/banco_mundial/indicadores_selecionados/</td><td>4671490</td><td>banco_mundial</td><td>indicadores_selecionados</td><td> </td></tr><tr><td>abfss://datalake@cnibigdatadlsgen2.dfs.core.windows.net/raw/crw/ibge/pintec_prob_obst_po/</td><td>raw/crw/ibge/pintec_prob_obst_po/</td><td>136409</td><td>ibge</td><td>pintec_prob_obst_po</td><td> </td></tr><tr><td>abfss://datalake@cnibigdatadlsgen2.dfs.core.windows.net/raw/crw/ibge/pnadc_a_visita2/</td><td>raw/crw/ibge/pnadc_a_visita2/</td><td>469948171</td><td>ibge</td><td>pnadc_a_visita2</td><td> </td></tr><tr><td>abfss://datalake@cnibigdatadlsgen2.dfs.core.windows.net/raw/crw/ibge/scnt_contas_economicas_unificado/</td><td>raw/crw/ibge/scnt_contas_economicas_unificado/</td><td>18931</td><td>ibge</td><td>scnt_contas_economicas_unificado</td><td> </td></tr><tr><td>abfss://datalake@cnibigdatadlsgen2.dfs.core.windows.net/raw/usr/fiesc/ibge/paic/</td><td>raw/usr/fiesc/ibge/paic/</td><td>321989</td><td>fiesc</td><td>ibge</td><td>paic</td></tr><tr><td>abfss://datalake@cnibigdatadlsgen2.dfs.core.windows.net/raw/crw/ibge/pnadc_a_deflatores/</td><td>raw/crw/ibge/pnadc_a_deflatores/</td><td>68901</td><td>ibge</td><td>pnadc_a_deflatores</td><td> </td></tr><tr><td>abfss://datalake@cnibigdatadlsgen2.dfs.core.windows.net/raw/crw/inep_had/escolas/</td><td>raw/crw/inep_had/escolas/</td><td>62164208</td><td>inep_had</td><td>escolas</td><td> </td></tr><tr><td>abfss://datalake@cnibigdatadlsgen2.dfs.core.windows.net/raw/usr/azure_ad/</td><td>raw/usr/azure_ad/</td><td>This request is not authorized</td><td>azure_ad</td><td></td><td> </td></tr><tr><td>abfss://datalake@cnibigdatadlsgen2.dfs.core.windows.net/raw/crw/iea/carvao_estatisticas/</td><td>raw/crw/iea/carvao_estatisticas/</td><td>15296</td><td>iea</td><td>carvao_estatisticas</td><td> </td></tr><tr><td>abfss://datalake@cnibigdatadlsgen2.dfs.core.windows.net/raw/usr/fiesc/bacen/expec_prod_ind/</td><td>raw/usr/fiesc/bacen/expec_prod_ind/</td><td>44716</td><td>fiesc</td><td>bacen</td><td>expec_prod_ind</td></tr><tr><td>abfss://datalake@cnibigdatadlsgen2.dfs.core.windows.net/raw/usr/me/cadastro_cbo_sinonimo/</td><td>raw/usr/me/cadastro_cbo_sinonimo/</td><td>124047</td><td>me</td><td>cadastro_cbo_sinonimo</td><td> </td></tr><tr><td>abfss://datalake@cnibigdatadlsgen2.dfs.core.windows.net/raw/crw/inep_saeb/ts_resultado_aluno/</td><td>raw/crw/inep_saeb/ts_resultado_aluno/</td><td>106538096</td><td>inep_saeb</td><td>ts_resultado_aluno</td><td> </td></tr><tr><td>abfss://datalake@cnibigdatadlsgen2.dfs.core.windows.net/raw/crw/fmi_proj/pais/</td><td>raw/crw/fmi_proj/pais/</td><td>This request is not authorized</td><td>fmi_proj</td><td>pais</td><td> </td></tr><tr><td>abfss://datalake@cnibigdatadlsgen2.dfs.core.windows.net/raw/crw/ibge/scnt_valor_preco1995_saz_unificado/</td><td>raw/crw/ibge/scnt_valor_preco1995_saz_unificado/</td><td>30314</td><td>ibge</td><td>scnt_valor_preco1995_saz_unificado</td><td> </td></tr><tr><td>abfss://datalake@cnibigdatadlsgen2.dfs.core.windows.net/raw/crw/inep_icg/escolas/</td><td>raw/crw/inep_icg/escolas/</td><td>43300499</td><td>inep_icg</td><td>escolas</td><td> </td></tr><tr><td>abfss://datalake@cnibigdatadlsgen2.dfs.core.windows.net/raw/crw/inep_saeb/saeb_professor_unificada/</td><td>raw/crw/inep_saeb/saeb_professor_unificada/</td><td>76907074</td><td>inep_saeb</td><td>saeb_professor_unificada</td><td> </td></tr><tr><td>abfss://datalake@cnibigdatadlsgen2.dfs.core.windows.net/raw/crw/inep_saeb/saeb_resultado_uf_unificado/</td><td>raw/crw/inep_saeb/saeb_resultado_uf_unificado/</td><td>1091790</td><td>inep_saeb</td><td>saeb_resultado_uf_unificado</td><td> </td></tr><tr><td>abfss://datalake@cnibigdatadlsgen2.dfs.core.windows.net/raw/crw/inep_taxa_rendimento/escolas/</td><td>raw/crw/inep_taxa_rendimento/escolas/</td><td>114091056</td><td>inep_taxa_rendimento</td><td>escolas</td><td> </td></tr><tr><td>abfss://datalake@cnibigdatadlsgen2.dfs.core.windows.net/raw/crw/me/comex/ncm_ppe/</td><td>raw/crw/me/comex/ncm_ppe/</td><td>477803</td><td>me</td><td>comex</td><td>ncm_ppe</td></tr><tr><td>abfss://datalake@cnibigdatadlsgen2.dfs.core.windows.net/raw/crw/ms/sih_rd/</td><td>raw/crw/ms/sih_rd/</td><td>5232929962</td><td>ms</td><td>sih_rd</td><td> </td></tr><tr><td>abfss://datalake@cnibigdatadlsgen2.dfs.core.windows.net/raw/crw/oni/ibge/gini/</td><td>raw/crw/oni/ibge/gini/</td><td>8887</td><td>oni</td><td>ibge</td><td>gini</td></tr><tr><td>abfss://datalake@cnibigdatadlsgen2.dfs.core.windows.net/raw/crw/rfb/cno/cno_vinculos/</td><td>raw/crw/rfb/cno/cno_vinculos/</td><td>3438918</td><td>rfb</td><td>cno</td><td>cno_vinculos</td></tr><tr><td>abfss://datalake@cnibigdatadlsgen2.dfs.core.windows.net/raw/crw/mec/pnp_mat/</td><td>raw/crw/mec/pnp_mat/</td><td>114992335</td><td>mec</td><td>pnp_mat</td><td> </td></tr><tr><td>abfss://datalake@cnibigdatadlsgen2.dfs.core.windows.net/raw/crw/mtp_aeat/acid_obi_mun/</td><td>raw/crw/mtp_aeat/acid_obi_mun/</td><td>3235862</td><td>mtp_aeat</td><td>acid_obi_mun</td><td> </td></tr><tr><td>abfss://datalake@cnibigdatadlsgen2.dfs.core.windows.net/raw/crw/ibge/pintec_rel_coop_loc_po/</td><td>raw/crw/ibge/pintec_rel_coop_loc_po/</td><td>67024</td><td>ibge</td><td>pintec_rel_coop_loc_po</td><td> </td></tr><tr><td>abfss://datalake@cnibigdatadlsgen2.dfs.core.windows.net/raw/crw/ocde/projecoes_economicas/</td><td>raw/crw/ocde/projecoes_economicas/</td><td>1159266</td><td>ocde</td><td>projecoes_economicas</td><td> </td></tr><tr><td>abfss://datalake@cnibigdatadlsgen2.dfs.core.windows.net/raw/crw/inep_enem/microdados_enem/</td><td>raw/crw/inep_enem/microdados_enem/</td><td>7860326857</td><td>inep_enem</td><td>microdados_enem</td><td> </td></tr><tr><td>abfss://datalake@cnibigdatadlsgen2.dfs.core.windows.net/raw/crw/inep_had/brasil_regioes_e_ufs/</td><td>raw/crw/inep_had/brasil_regioes_e_ufs/</td><td>405063</td><td>inep_had</td><td>brasil_regioes_e_ufs</td><td> </td></tr><tr><td>abfss://datalake@cnibigdatadlsgen2.dfs.core.windows.net/raw/usr/power_bi/</td><td>raw/usr/power_bi/</td><td>This request is not authorized</td><td>power_bi</td><td></td><td> </td></tr><tr><td>abfss://datalake@cnibigdatadlsgen2.dfs.core.windows.net/raw/usr/fiesc/me/comex/</td><td>raw/usr/fiesc/me/comex/</td><td>4725690974</td><td>fiesc</td><td>me</td><td>comex</td></tr><tr><td>abfss://datalake@cnibigdatadlsgen2.dfs.core.windows.net/raw/crw/me/comex/pais/</td><td>raw/crw/me/comex/pais/</td><td>18016</td><td>me</td><td>comex</td><td>pais</td></tr><tr><td>abfss://datalake@cnibigdatadlsgen2.dfs.core.windows.net/raw/usr/fiesc/ibge/inpc/</td><td>raw/usr/fiesc/ibge/inpc/</td><td>6928520</td><td>fiesc</td><td>ibge</td><td>inpc</td></tr><tr><td>abfss://datalake@cnibigdatadlsgen2.dfs.core.windows.net/raw/crw/inep_saeb/ts_quest_aluno/</td><td>raw/crw/inep_saeb/ts_quest_aluno/</td><td>219789212</td><td>inep_saeb</td><td>ts_quest_aluno</td><td> </td></tr><tr><td>abfss://datalake@cnibigdatadlsgen2.dfs.core.windows.net/raw/crw/inguru/news/</td><td>raw/crw/inguru/news/</td><td>66407</td><td>inguru</td><td>news</td><td> </td></tr><tr><td>abfss://datalake@cnibigdatadlsgen2.dfs.core.windows.net/raw/crw/me/caged/</td><td>raw/crw/me/caged/</td><td>6581994671</td><td>me</td><td>caged</td><td> </td></tr><tr><td>abfss://datalake@cnibigdatadlsgen2.dfs.core.windows.net/raw/crw/rfb/cno/cno_areas/</td><td>raw/crw/rfb/cno/cno_areas/</td><td>34341645</td><td>rfb</td><td>cno</td><td>cno_areas</td></tr><tr><td>abfss://datalake@cnibigdatadlsgen2.dfs.core.windows.net/raw/crw/inep_censo_escolar/turmas/</td><td>raw/crw/inep_censo_escolar/turmas/</td><td>798277871</td><td>inep_censo_escolar</td><td>turmas</td><td> </td></tr><tr><td>abfss://datalake@cnibigdatadlsgen2.dfs.core.windows.net/raw/crw/rfb_cnpj/tabelas_auxiliares/motivo/</td><td>raw/crw/rfb_cnpj/tabelas_auxiliares/motivo/</td><td>4877</td><td>rfb_cnpj</td><td>tabelas_auxiliares</td><td>motivo</td></tr><tr><td>abfss://datalake@cnibigdatadlsgen2.dfs.core.windows.net/raw/usr/me/rais_vinculo/</td><td>raw/usr/me/rais_vinculo/</td><td>111718297966</td><td>me</td><td>rais_vinculo</td><td> </td></tr><tr><td>abfss://datalake@cnibigdatadlsgen2.dfs.core.windows.net/raw/crw/rfb_cnpj/tabelas_auxiliares/nat_juridica/</td><td>raw/crw/rfb_cnpj/tabelas_auxiliares/nat_juridica/</td><td>5595</td><td>rfb_cnpj</td><td>tabelas_auxiliares</td><td>nat_juridica</td></tr><tr><td>abfss://datalake@cnibigdatadlsgen2.dfs.core.windows.net/raw/crw/inep_had/municipios/</td><td>raw/crw/inep_had/municipios/</td><td>12371046</td><td>inep_had</td><td>municipios</td><td> </td></tr><tr><td>abfss://datalake@cnibigdatadlsgen2.dfs.core.windows.net/raw/usr/uniepro/ocup_indust_cbodom/</td><td>raw/usr/uniepro/ocup_indust_cbodom/</td><td>16666</td><td>uniepro</td><td>uniepro_ocup_indust_cbodom</td><td>ocup_indust_cbodom</td></tr><tr><td>abfss://datalake@cnibigdatadlsgen2.dfs.core.windows.net/raw/crw/inep_saeb/prova_brasil_2013/</td><td>raw/crw/inep_saeb/prova_brasil_2013/</td><td>629859554</td><td>inep_saeb</td><td>prova_brasil_2013</td><td> </td></tr><tr><td>abfss://datalake@cnibigdatadlsgen2.dfs.core.windows.net/raw/crw/ms/sih_sp/</td><td>raw/crw/ms/sih_sp/</td><td>24071339468</td><td>ms</td><td>sih_sp</td><td> </td></tr><tr><td>abfss://datalake@cnibigdatadlsgen2.dfs.core.windows.net/raw/crw/worldsteel/indicadores_selecionados/</td><td>raw/crw/worldsteel/indicadores_selecionados/</td><td>39492</td><td>worldsteel</td><td>indicadores_selecionados</td><td> </td></tr><tr><td>abfss://datalake@cnibigdatadlsgen2.dfs.core.windows.net/raw/usr/inep_saeb/competencias_e_habilidades_ajuste_mt/</td><td>raw/usr/inep_saeb/competencias_e_habilidades_ajuste_mt/</td><td>124264</td><td>inep_saeb</td><td>competencias_e_habilidades_ajuste_mt</td><td> </td></tr><tr><td>abfss://datalake@cnibigdatadlsgen2.dfs.core.windows.net/raw/crw/inep_dsu/municipios/</td><td>raw/crw/inep_dsu/municipios/</td><td>9494720</td><td>inep_dsu</td><td>municipios</td><td> </td></tr><tr><td>abfss://datalake@cnibigdatadlsgen2.dfs.core.windows.net/raw/crw/inep_prova_brasil/ts_resposta_aluno/</td><td>raw/crw/inep_prova_brasil/ts_resposta_aluno/</td><td>251361551</td><td>inep_prova_brasil</td><td>ts_resposta_aluno</td><td> </td></tr><tr><td>abfss://datalake@cnibigdatadlsgen2.dfs.core.windows.net/raw/crw/me/comex/uf_mun/</td><td>raw/crw/me/comex/uf_mun/</td><td>157680</td><td>me</td><td>comex</td><td>uf_mun</td></tr><tr><td>abfss://datalake@cnibigdatadlsgen2.dfs.core.windows.net/raw/usr/sgbd/</td><td>raw/usr/sgbd/</td><td>This request is not authorized</td><td>sgbd</td><td></td><td> </td></tr><tr><td>abfss://datalake@cnibigdatadlsgen2.dfs.core.windows.net/raw/crw/mec/pnp_efi/</td><td>raw/crw/mec/pnp_efi/</td><td>32980366</td><td>mec</td><td>pnp_efi</td><td> </td></tr><tr><td>abfss://datalake@cnibigdatadlsgen2.dfs.core.windows.net/raw/crw/mtp_aeat/motivo_class/</td><td>raw/crw/mtp_aeat/motivo_class/</td><td>2071625</td><td>mtp_aeat</td><td>motivo_class</td><td> </td></tr><tr><td>abfss://datalake@cnibigdatadlsgen2.dfs.core.windows.net/raw/crw/ibge/pnadc_a_trim4/</td><td>raw/crw/ibge/pnadc_a_trim4/</td><td>2541096754</td><td>ibge</td><td>pnadc_a_trim4</td><td> </td></tr><tr><td>abfss://datalake@cnibigdatadlsgen2.dfs.core.windows.net/raw/crw/ibge/pnadc_a_visita1/</td><td>raw/crw/ibge/pnadc_a_visita1/</td><td>2705106502</td><td>ibge</td><td>pnadc_a_visita1</td><td> </td></tr><tr><td>abfss://datalake@cnibigdatadlsgen2.dfs.core.windows.net/raw/crw/inep_enem/enem_escola_dicionario/</td><td>raw/crw/inep_enem/enem_escola_dicionario/</td><td>6578</td><td>inep_enem</td><td>enem_escola_dicionario</td><td> </td></tr><tr><td>abfss://datalake@cnibigdatadlsgen2.dfs.core.windows.net/raw/crw/ibge/pintec_rel_coop/</td><td>raw/crw/ibge/pintec_rel_coop/</td><td>39199</td><td>ibge</td><td>pintec_rel_coop</td><td> </td></tr><tr><td>abfss://datalake@cnibigdatadlsgen2.dfs.core.windows.net/raw/crw/inep_censo_escolar/escola/</td><td>raw/crw/inep_censo_escolar/escola/</td><td>183774516</td><td>inep_censo_escolar</td><td>escola</td><td> </td></tr><tr><td>abfss://datalake@cnibigdatadlsgen2.dfs.core.windows.net/raw/crw/me/comex/ncm_cuci/</td><td>raw/crw/me/comex/ncm_cuci/</td><td>667780</td><td>me</td><td>comex</td><td>ncm_cuci</td></tr><tr><td>abfss://datalake@cnibigdatadlsgen2.dfs.core.windows.net/raw/crw/me/comex/via/</td><td>raw/crw/me/comex/via/</td><td>3166</td><td>me</td><td>comex</td><td>via</td></tr><tr><td>abfss://datalake@cnibigdatadlsgen2.dfs.core.windows.net/raw/crw/rfb_cnpj/tabelas_auxiliares/qualif_socio/</td><td>raw/crw/rfb_cnpj/tabelas_auxiliares/qualif_socio/</td><td>4575</td><td>rfb_cnpj</td><td>tabelas_auxiliares</td><td>qualif_socio</td></tr><tr><td>abfss://datalake@cnibigdatadlsgen2.dfs.core.windows.net/raw/usr/fiesc/bacen/expec_mercado/</td><td>raw/usr/fiesc/bacen/expec_mercado/</td><td>62472</td><td>fiesc</td><td>bacen</td><td>expec_mercado</td></tr><tr><td>abfss://datalake@cnibigdatadlsgen2.dfs.core.windows.net/raw/crw/inep_censo_escolar/gestor/</td><td>raw/crw/inep_censo_escolar/gestor/</td><td>32856646</td><td>inep_censo_escolar</td><td>gestor</td><td> </td></tr><tr><td>abfss://datalake@cnibigdatadlsgen2.dfs.core.windows.net/raw/usr/fiesc/ibge/pms/</td><td>raw/usr/fiesc/ibge/pms/</td><td>6934851</td><td>fiesc</td><td>ibge</td><td>pms</td></tr><tr><td>abfss://datalake@cnibigdatadlsgen2.dfs.core.windows.net/raw/crw/banco_mundial/preco_commodity/</td><td>raw/crw/banco_mundial/preco_commodity/</td><td>1274260</td><td>banco_mundial</td><td>preco_commodity</td><td> </td></tr><tr><td>abfss://datalake@cnibigdatadlsgen2.dfs.core.windows.net/raw/crw/inep_censo_escolar/curso_educacao_profissional/</td><td>raw/crw/inep_censo_escolar/curso_educacao_profissional/</td><td>36040</td><td>inep_censo_escolar</td><td>curso_educacao_profissional</td><td> </td></tr><tr><td>abfss://datalake@cnibigdatadlsgen2.dfs.core.windows.net/raw/crw/ms_sinan/acgr/</td><td>raw/crw/ms_sinan/acgr/</td><td>55931321</td><td>ms_sinan</td><td>acgr</td><td> </td></tr><tr><td>abfss://datalake@cnibigdatadlsgen2.dfs.core.windows.net/raw/usr/oni/ibge/geo_municipios/</td><td>raw/usr/oni/ibge/geo_municipios/</td><td>378595</td><td>oni</td><td>ibge</td><td>geo_municipios</td></tr><tr><td>abfss://datalake@cnibigdatadlsgen2.dfs.core.windows.net/raw/crw/ms_sinan/iexo/</td><td>raw/crw/ms_sinan/iexo/</td><td>60767908</td><td>ms_sinan</td><td>iexo</td><td> </td></tr><tr><td>abfss://datalake@cnibigdatadlsgen2.dfs.core.windows.net/raw/crw/me/comex/mun_exp/</td><td>raw/crw/me/comex/mun_exp/</td><td>306629131</td><td>me</td><td>comex</td><td>mun_exp</td></tr><tr><td>abfss://datalake@cnibigdatadlsgen2.dfs.core.windows.net/raw/crw/rfb_cnpj/cadastro_simples/</td><td>raw/crw/rfb_cnpj/cadastro_simples/</td><td>396219225</td><td>rfb_cnpj</td><td>cadastro_simples</td><td> </td></tr><tr><td>abfss://datalake@cnibigdatadlsgen2.dfs.core.windows.net/raw/crw/ibge/scnt_valor_preco1995_unificado/</td><td>raw/crw/ibge/scnt_valor_preco1995_unificado/</td><td>31117</td><td>ibge</td><td>scnt_valor_preco1995_unificado</td><td> </td></tr><tr><td>abfss://datalake@cnibigdatadlsgen2.dfs.core.windows.net/raw/usr/me/cadastro_cbo/</td><td>raw/usr/me/cadastro_cbo/</td><td>103351</td><td>me</td><td>cadastro_cbo</td><td> </td></tr><tr><td>abfss://datalake@cnibigdatadlsgen2.dfs.core.windows.net/raw/crw/me/comex/isic_cuci/</td><td>raw/crw/me/comex/isic_cuci/</td><td>462003</td><td>me</td><td>comex</td><td>isic_cuci</td></tr><tr><td>abfss://datalake@cnibigdatadlsgen2.dfs.core.windows.net/raw/crw/ibge/cnae_subclasses/</td><td>raw/crw/ibge/cnae_subclasses/</td><td>71779</td><td>ibge</td><td>cnae_subclasses</td><td> </td></tr><tr><td>abfss://datalake@cnibigdatadlsgen2.dfs.core.windows.net/raw/crw/inep_afd/brasil_regioes_e_ufs/</td><td>raw/crw/inep_afd/brasil_regioes_e_ufs/</td><td>534782</td><td>inep_afd</td><td>brasil_regioes_e_ufs</td><td> </td></tr><tr><td>abfss://datalake@cnibigdatadlsgen2.dfs.core.windows.net/raw/crw/mtp_aeat/motivo_div/</td><td>raw/crw/mtp_aeat/motivo_div/</td><td>563158</td><td>mtp_aeat</td><td>motivo_div</td><td> </td></tr></tbody></table></div>"
      ]
     },
     "metadata": {
      "application/vnd.databricks.v1+output": {
       "addedWidgets": {},
       "aggData": [],
       "aggError": "",
       "aggOverflow": false,
       "aggSchema": [],
       "aggSeriesLimitReached": false,
       "aggType": "",
       "arguments": {},
       "columnCustomDisplayInfos": {},
       "data": [
        [
         "abfss://datalake@cnibigdatadlsgen2.dfs.core.windows.net/raw/crw/me/comex/ncm_sh/",
         "raw/crw/me/comex/ncm_sh/",
         "1431819",
         "me",
         "comex",
         "ncm_sh"
        ],
        [
         "abfss://datalake@cnibigdatadlsgen2.dfs.core.windows.net/raw/crw/ibge/pintec_prod_vend_int/",
         "raw/crw/ibge/pintec_prod_vend_int/",
         "21540",
         "ibge",
         "pintec_prod_vend_int",
         " "
        ],
        [
         "abfss://datalake@cnibigdatadlsgen2.dfs.core.windows.net/raw/crw/inep_censo_escolar/etapa_ensino/",
         "raw/crw/inep_censo_escolar/etapa_ensino/",
         "13317",
         "inep_censo_escolar",
         "etapa_ensino",
         " "
        ],
        [
         "abfss://datalake@cnibigdatadlsgen2.dfs.core.windows.net/raw/crw/inep_dsu/brasil_regioes_e_ufs/",
         "raw/crw/inep_dsu/brasil_regioes_e_ufs/",
         "324904",
         "inep_dsu",
         "brasil_regioes_e_ufs",
         " "
        ],
        [
         "abfss://datalake@cnibigdatadlsgen2.dfs.core.windows.net/raw/crw/ibge/pintec_bio_nano/",
         "raw/crw/ibge/pintec_bio_nano/",
         "23719",
         "ibge",
         "pintec_bio_nano",
         " "
        ],
        [
         "abfss://datalake@cnibigdatadlsgen2.dfs.core.windows.net/raw/crw/ibge/scnt_volume_saz_se_unificado/",
         "raw/crw/ibge/scnt_volume_saz_se_unificado/",
         "27669",
         "ibge",
         "scnt_volume_saz_se_unificado",
         " "
        ],
        [
         "abfss://datalake@cnibigdatadlsgen2.dfs.core.windows.net/raw/crw/inep_saeb/prova_brasil_2017/",
         "raw/crw/inep_saeb/prova_brasil_2017/",
         "1045738816",
         "inep_saeb",
         "prova_brasil_2017",
         " "
        ],
        [
         "abfss://datalake@cnibigdatadlsgen2.dfs.core.windows.net/raw/usr/oni/ibge/municipios_amazonia_legal/",
         "raw/usr/oni/ibge/municipios_amazonia_legal/",
         "35896",
         "oni",
         "ibge",
         "municipios_amazonia_legal"
        ],
        [
         "abfss://datalake@cnibigdatadlsgen2.dfs.core.windows.net/raw/crw/oni/bacen/cotacao/",
         "raw/crw/oni/bacen/cotacao/",
         "0",
         "oni",
         "bacen",
         "cotacao"
        ],
        [
         "abfss://datalake@cnibigdatadlsgen2.dfs.core.windows.net/raw/crw/ibge/pnadc_a_visita5/",
         "raw/crw/ibge/pnadc_a_visita5/",
         "1907847665",
         "ibge",
         "pnadc_a_visita5",
         " "
        ],
        [
         "abfss://datalake@cnibigdatadlsgen2.dfs.core.windows.net/raw/crw/me/comex/ncm_cgce/",
         "raw/crw/me/comex/ncm_cgce/",
         "472551",
         "me",
         "comex",
         "ncm_cgce"
        ],
        [
         "abfss://datalake@cnibigdatadlsgen2.dfs.core.windows.net/raw/crw/rfb_cnpj/cadastro_estbl/",
         "raw/crw/rfb_cnpj/cadastro_estbl/",
         "4553748347",
         "rfb_cnpj",
         "cadastro_estbl",
         " "
        ],
        [
         "abfss://datalake@cnibigdatadlsgen2.dfs.core.windows.net/raw/crw/mec/pnp_ser/",
         "raw/crw/mec/pnp_ser/",
         "3418219",
         "mec",
         "pnp_ser",
         " "
        ],
        [
         "abfss://datalake@cnibigdatadlsgen2.dfs.core.windows.net/raw/crw/mtp_aeat/conseq_clas/",
         "raw/crw/mtp_aeat/conseq_clas/",
         "2358124",
         "mtp_aeat",
         "conseq_clas",
         " "
        ],
        [
         "abfss://datalake@cnibigdatadlsgen2.dfs.core.windows.net/raw/usr/inep_saeb/competencias_e_habilidades_lp/",
         "raw/usr/inep_saeb/competencias_e_habilidades_lp/",
         "2056933",
         "inep_saeb",
         "competencias_e_habilidades_lp",
         " "
        ],
        [
         "abfss://datalake@cnibigdatadlsgen2.dfs.core.windows.net/raw/crw/inep_iqes/cpc/",
         "raw/crw/inep_iqes/cpc/",
         "4564865",
         "inep_iqes",
         "cpc",
         " "
        ],
        [
         "abfss://datalake@cnibigdatadlsgen2.dfs.core.windows.net/raw/crw/inep_atu/municipios/",
         "raw/crw/inep_atu/municipios/",
         "25418643",
         "inep_atu",
         "municipios",
         " "
        ],
        [
         "abfss://datalake@cnibigdatadlsgen2.dfs.core.windows.net/raw/crw/inep_tdi/brasil_regioes_e_ufs/",
         "raw/crw/inep_tdi/brasil_regioes_e_ufs/",
         "848198",
         "inep_tdi",
         "brasil_regioes_e_ufs",
         " "
        ],
        [
         "abfss://datalake@cnibigdatadlsgen2.dfs.core.windows.net/raw/usr/uniepro/cnae_industrial/",
         "raw/usr/uniepro/cnae_industrial/",
         "7036",
         "uniepro",
         "uniepro_cnae_industrial",
         "cnae_industrial"
        ],
        [
         "abfss://datalake@cnibigdatadlsgen2.dfs.core.windows.net/raw/crw/ibge/pnadc/",
         "raw/crw/ibge/pnadc/",
         "39728467341",
         "ibge",
         "pnadc",
         " "
        ],
        [
         "abfss://datalake@cnibigdatadlsgen2.dfs.core.windows.net/raw/crw/rfb_cnpj/cadastro_empresa/",
         "raw/crw/rfb_cnpj/cadastro_empresa/",
         "1843430987",
         "rfb_cnpj",
         "cadastro_empresa",
         " "
        ],
        [
         "abfss://datalake@cnibigdatadlsgen2.dfs.core.windows.net/raw/usr/datalake/",
         "raw/usr/datalake/",
         "This request is not authorized",
         "datalake",
         "",
         " "
        ],
        [
         "abfss://datalake@cnibigdatadlsgen2.dfs.core.windows.net/raw/crw/ibge/pintec_org_mkt/",
         "raw/crw/ibge/pintec_org_mkt/",
         "23894",
         "ibge",
         "pintec_org_mkt",
         " "
        ],
        [
         "abfss://datalake@cnibigdatadlsgen2.dfs.core.windows.net/raw/crw/ibge/scnt_conta_financeira_unificado/",
         "raw/crw/ibge/scnt_conta_financeira_unificado/",
         "23290",
         "ibge",
         "scnt_conta_financeira_unificado",
         " "
        ],
        [
         "abfss://datalake@cnibigdatadlsgen2.dfs.core.windows.net/raw/crw/rfb/cno/cno_cnaes/",
         "raw/crw/rfb/cno/cno_cnaes/",
         "20658389",
         "rfb",
         "cno",
         "cno_cnaes"
        ],
        [
         "abfss://datalake@cnibigdatadlsgen2.dfs.core.windows.net/raw/usr/oni/ibge/uf/",
         "raw/usr/oni/ibge/uf/",
         "2185",
         "oni",
         "ibge",
         "uf"
        ],
        [
         "abfss://datalake@cnibigdatadlsgen2.dfs.core.windows.net/raw/crw/ibge/ipca/",
         "raw/crw/ibge/ipca/",
         "12310",
         "ibge",
         "ipca",
         " "
        ],
        [
         "abfss://datalake@cnibigdatadlsgen2.dfs.core.windows.net/raw/crw/ibge/pintec_tipo_programa_po/",
         "raw/crw/ibge/pintec_tipo_programa_po/",
         "33509",
         "ibge",
         "pintec_tipo_programa_po",
         " "
        ],
        [
         "abfss://datalake@cnibigdatadlsgen2.dfs.core.windows.net/raw/crw/ibge/pop_projetada_txfecund/",
         "raw/crw/ibge/pop_projetada_txfecund/",
         "542123",
         "ibge",
         "pop_projetada_txfecund",
         " "
        ],
        [
         "abfss://datalake@cnibigdatadlsgen2.dfs.core.windows.net/raw/crw/me/comex/ncm_fat_agreg/",
         "raw/crw/me/comex/ncm_fat_agreg/",
         "444160",
         "me",
         "comex",
         "ncm_fat_agreg"
        ],
        [
         "abfss://datalake@cnibigdatadlsgen2.dfs.core.windows.net/raw/crw/rfb_cnpj/tabelas_auxiliares/cnae/",
         "raw/crw/rfb_cnpj/tabelas_auxiliares/cnae/",
         "45153",
         "rfb_cnpj",
         "tabelas_auxiliares",
         "cnae"
        ],
        [
         "abfss://datalake@cnibigdatadlsgen2.dfs.core.windows.net/raw/usr/uniepro/ibge_cnae_classe/",
         "raw/usr/uniepro/ibge_cnae_classe/",
         "25362",
         "uniepro",
         "uniepro_ibge_cnae_classe",
         "ibge_cnae_classe"
        ],
        [
         "abfss://datalake@cnibigdatadlsgen2.dfs.core.windows.net/raw/crw/fred/indicadores_selecionados/",
         "raw/crw/fred/indicadores_selecionados/",
         "54010",
         "fred",
         "indicadores_selecionados",
         " "
        ],
        [
         "abfss://datalake@cnibigdatadlsgen2.dfs.core.windows.net/raw/crw/ibge/ipp_cnae_div/",
         "raw/crw/ibge/ipp_cnae_div/",
         "146295",
         "ibge",
         "ipp_cnae_div",
         " "
        ],
        [
         "abfss://datalake@cnibigdatadlsgen2.dfs.core.windows.net/raw/crw/ibge/pintec_prob_obst/",
         "raw/crw/ibge/pintec_prob_obst/",
         "73832",
         "ibge",
         "pintec_prob_obst",
         " "
        ],
        [
         "abfss://datalake@cnibigdatadlsgen2.dfs.core.windows.net/raw/crw/me/caged_ajustes/",
         "raw/crw/me/caged_ajustes/",
         "205696635",
         "me",
         "caged_ajustes",
         " "
        ],
        [
         "abfss://datalake@cnibigdatadlsgen2.dfs.core.windows.net/raw/crw/inep_ideb/ideb/",
         "raw/crw/inep_ideb/ideb/",
         "29431193",
         "inep_ideb",
         "ideb",
         " "
        ],
        [
         "abfss://datalake@cnibigdatadlsgen2.dfs.core.windows.net/raw/crw/inep_saeb/prova_brasil_2019/",
         "raw/crw/inep_saeb/prova_brasil_2019/",
         "869379911",
         "inep_saeb",
         "prova_brasil_2019",
         " "
        ],
        [
         "abfss://datalake@cnibigdatadlsgen2.dfs.core.windows.net/raw/crw/inep_atu/brasil_regioes_e_ufs/",
         "raw/crw/inep_atu/brasil_regioes_e_ufs/",
         "831206",
         "inep_atu",
         "brasil_regioes_e_ufs",
         " "
        ],
        [
         "abfss://datalake@cnibigdatadlsgen2.dfs.core.windows.net/raw/crw/me/comex/ncm_unidade/",
         "raw/crw/me/comex/ncm_unidade/",
         "447140",
         "me",
         "comex",
         "ncm_unidade"
        ],
        [
         "abfss://datalake@cnibigdatadlsgen2.dfs.core.windows.net/raw/crw/me/comex/pais_bloco/",
         "raw/crw/me/comex/pais_bloco/",
         "7281",
         "me",
         "comex",
         "pais_bloco"
        ],
        [
         "abfss://datalake@cnibigdatadlsgen2.dfs.core.windows.net/raw/crw/mtp_aeat/motivo_ida_sex/",
         "raw/crw/mtp_aeat/motivo_ida_sex/",
         "469638",
         "mtp_aeat",
         "motivo_ida_sex",
         " "
        ],
        [
         "abfss://datalake@cnibigdatadlsgen2.dfs.core.windows.net/raw/crw/ibge/pop_estimada/",
         "raw/crw/ibge/pop_estimada/",
         "1162587",
         "ibge",
         "pop_estimada",
         " "
        ],
        [
         "abfss://datalake@cnibigdatadlsgen2.dfs.core.windows.net/raw/crw/inep_saeb/saeb_aluno_unificado/",
         "raw/crw/inep_saeb/saeb_aluno_unificado/",
         "3165182809",
         "inep_saeb",
         "saeb_aluno_unificado",
         " "
        ],
        [
         "abfss://datalake@cnibigdatadlsgen2.dfs.core.windows.net/raw/usr/fiesc/MEC/INEP/",
         "raw/usr/fiesc/MEC/INEP/",
         "131205827",
         "fiesc",
         "MEC",
         "INEP"
        ],
        [
         "abfss://datalake@cnibigdatadlsgen2.dfs.core.windows.net/raw/crw/inep_ird/escolas/",
         "raw/crw/inep_ird/escolas/",
         "36273878",
         "inep_ird",
         "escolas",
         " "
        ],
        [
         "abfss://datalake@cnibigdatadlsgen2.dfs.core.windows.net/raw/usr/jira_service_management/",
         "raw/usr/jira_service_management/",
         "This request is not authorized",
         "jira_service_management",
         "",
         " "
        ],
        [
         "abfss://datalake@cnibigdatadlsgen2.dfs.core.windows.net/raw/crw/inep_taxa_rendimento/municipios/",
         "raw/crw/inep_taxa_rendimento/municipios/",
         "45750496",
         "inep_taxa_rendimento",
         "municipios",
         " "
        ],
        [
         "abfss://datalake@cnibigdatadlsgen2.dfs.core.windows.net/raw/crw/inep_enem/enem_escola/",
         "raw/crw/inep_enem/enem_escola/",
         "9910050",
         "inep_enem",
         "enem_escola",
         " "
        ],
        [
         "abfss://datalake@cnibigdatadlsgen2.dfs.core.windows.net/raw/crw/inep_saeb/saeb_escola_unificada/",
         "raw/crw/inep_saeb/saeb_escola_unificada/",
         "36434840",
         "inep_saeb",
         "saeb_escola_unificada",
         " "
        ],
        [
         "abfss://datalake@cnibigdatadlsgen2.dfs.core.windows.net/raw/usr/fiesc/bacen/igp-m/",
         "raw/usr/fiesc/bacen/igp-m/",
         "10803",
         "fiesc",
         "bacen",
         "igp-m"
        ],
        [
         "abfss://datalake@cnibigdatadlsgen2.dfs.core.windows.net/raw/crw/infojobs/vagas/",
         "raw/crw/infojobs/vagas/",
         "52583365",
         "infojobs",
         "vagas",
         " "
        ],
        [
         "abfss://datalake@cnibigdatadlsgen2.dfs.core.windows.net/raw/usr/fiesc/ibge/sidra/",
         "raw/usr/fiesc/ibge/sidra/",
         "3681310",
         "fiesc",
         "ibge",
         "sidra"
        ],
        [
         "abfss://datalake@cnibigdatadlsgen2.dfs.core.windows.net/raw/crw/me/comex/ncm_isic/",
         "raw/crw/me/comex/ncm_isic/",
         "496422",
         "me",
         "comex",
         "ncm_isic"
        ],
        [
         "abfss://datalake@cnibigdatadlsgen2.dfs.core.windows.net/raw/usr/fiesc/bacen/expec_selic/",
         "raw/usr/fiesc/bacen/expec_selic/",
         "19435",
         "fiesc",
         "bacen",
         "expec_selic"
        ],
        [
         "abfss://datalake@cnibigdatadlsgen2.dfs.core.windows.net/raw/crw/fmi_proj/grupo_paises/",
         "raw/crw/fmi_proj/grupo_paises/",
         "This request is not authorized",
         "fmi_proj",
         "grupo_paises",
         " "
        ],
        [
         "abfss://datalake@cnibigdatadlsgen2.dfs.core.windows.net/raw/crw/vagascom/vagas/",
         "raw/crw/vagascom/vagas/",
         "18634094",
         "vagascom",
         "vagas",
         " "
        ],
        [
         "abfss://datalake@cnibigdatadlsgen2.dfs.core.windows.net/raw/crw/inss/cat/",
         "raw/crw/inss/cat/",
         "68330378",
         "inss",
         "cat",
         " "
        ],
        [
         "abfss://datalake@cnibigdatadlsgen2.dfs.core.windows.net/raw/crw/inep_saeb/ts_resposta_aluno/",
         "raw/crw/inep_saeb/ts_resposta_aluno/",
         "150712321",
         "inep_saeb",
         "ts_resposta_aluno",
         " "
        ],
        [
         "abfss://datalake@cnibigdatadlsgen2.dfs.core.windows.net/raw/crw/ms/sim/",
         "raw/crw/ms/sim/",
         "1547824118",
         "ms",
         "sim",
         " "
        ],
        [
         "abfss://datalake@cnibigdatadlsgen2.dfs.core.windows.net/raw/usr/fiesc/IBGE/SIDRA/",
         "raw/usr/fiesc/IBGE/SIDRA/",
         "6580754",
         "fiesc",
         "IBGE",
         "SIDRA"
        ],
        [
         "abfss://datalake@cnibigdatadlsgen2.dfs.core.windows.net/raw/crw/ibge/pop_projetada_pessoas_prop/",
         "raw/crw/ibge/pop_projetada_pessoas_prop/",
         "543687",
         "ibge",
         "pop_projetada_pessoas_prop",
         " "
        ],
        [
         "abfss://datalake@cnibigdatadlsgen2.dfs.core.windows.net/raw/crw/ms_sinan/canc/",
         "raw/crw/ms_sinan/canc/",
         "386664",
         "ms_sinan",
         "canc",
         " "
        ],
        [
         "abfss://datalake@cnibigdatadlsgen2.dfs.core.windows.net/raw/usr/fiesc/bacen/BACEN_METAS_DE_INFLACAO/",
         "raw/usr/fiesc/bacen/BACEN_METAS_DE_INFLACAO/",
         "11795",
         "fiesc",
         "bacen",
         "BACEN_METAS_DE_INFLACAO"
        ],
        [
         "abfss://datalake@cnibigdatadlsgen2.dfs.core.windows.net/raw/crw/inep_saeb/saeb_resultado_regiao_unificado/",
         "raw/crw/inep_saeb/saeb_resultado_regiao_unificado/",
         "396900",
         "inep_saeb",
         "saeb_resultado_regiao_unificado",
         " "
        ],
        [
         "abfss://datalake@cnibigdatadlsgen2.dfs.core.windows.net/raw/crw/vagascertas/vagas/",
         "raw/crw/vagascertas/vagas/",
         "5395958",
         "vagascertas",
         "vagas",
         " "
        ],
        [
         "abfss://datalake@cnibigdatadlsgen2.dfs.core.windows.net/raw/crw/ms_sinan/derm/",
         "raw/crw/ms_sinan/derm/",
         "572694",
         "ms_sinan",
         "derm",
         " "
        ],
        [
         "abfss://datalake@cnibigdatadlsgen2.dfs.core.windows.net/raw/crw/inep_prova_brasil/ts_quest_aluno/",
         "raw/crw/inep_prova_brasil/ts_quest_aluno/",
         "206146996",
         "inep_prova_brasil",
         "ts_quest_aluno",
         " "
        ],
        [
         "abfss://datalake@cnibigdatadlsgen2.dfs.core.windows.net/raw/usr/uniepro/saude_cid/",
         "raw/usr/uniepro/saude_cid/",
         "519245",
         "uniepro",
         "uniepro_saude_cid",
         "saude_cid"
        ],
        [
         "abfss://datalake@cnibigdatadlsgen2.dfs.core.windows.net/raw/usr/fiesc/bacen/inadimplencia_em_credito/",
         "raw/usr/fiesc/bacen/inadimplencia_em_credito/",
         "40508",
         "fiesc",
         "bacen",
         "inadimplencia_em_credito"
        ],
        [
         "abfss://datalake@cnibigdatadlsgen2.dfs.core.windows.net/raw/crw/inep_censo_escolar/matriculas/",
         "raw/crw/inep_censo_escolar/matriculas/",
         "30621446621",
         "inep_censo_escolar",
         "matriculas",
         " "
        ],
        [
         "abfss://datalake@cnibigdatadlsgen2.dfs.core.windows.net/raw/crw/ibge/ipca_indice_desagregado/",
         "raw/crw/ibge/ipca_indice_desagregado/",
         "1373795",
         "ibge",
         "ipca_indice_desagregado",
         " "
        ],
        [
         "abfss://datalake@cnibigdatadlsgen2.dfs.core.windows.net/raw/crw/me/comex/ncm_exp/",
         "raw/crw/me/comex/ncm_exp/",
         "479967878",
         "me",
         "comex",
         "ncm_exp"
        ],
        [
         "abfss://datalake@cnibigdatadlsgen2.dfs.core.windows.net/raw/crw/mtp_aeat/motivo_cid/",
         "raw/crw/mtp_aeat/motivo_cid/",
         "2778945",
         "mtp_aeat",
         "motivo_cid",
         " "
        ],
        [
         "abfss://datalake@cnibigdatadlsgen2.dfs.core.windows.net/raw/usr/uniepro/monitor_de_vagas/uf/",
         "raw/usr/uniepro/monitor_de_vagas/uf/",
         "1858",
         "uniepro",
         "uniepro_monitor_de_vagas",
         "uf"
        ],
        [
         "abfss://datalake@cnibigdatadlsgen2.dfs.core.windows.net/raw/crw/inep_tdi/escolas/",
         "raw/crw/inep_tdi/escolas/",
         "84204476",
         "inep_tdi",
         "escolas",
         " "
        ],
        [
         "abfss://datalake@cnibigdatadlsgen2.dfs.core.windows.net/raw/usr/fiesc/sidra/1849_FATO/",
         "raw/usr/fiesc/sidra/1849_FATO/",
         "298927",
         "fiesc",
         "sidra",
         "1849_FATO"
        ],
        [
         "abfss://datalake@cnibigdatadlsgen2.dfs.core.windows.net/raw/usr/fiesc/datasus/CNES/",
         "raw/usr/fiesc/datasus/CNES/",
         "6485190636",
         "fiesc",
         "datasus",
         "CNES"
        ],
        [
         "abfss://datalake@cnibigdatadlsgen2.dfs.core.windows.net/raw/crw/ibge/pintec_rel_coop_po/",
         "raw/crw/ibge/pintec_rel_coop_po/",
         "51440",
         "ibge",
         "pintec_rel_coop_po",
         " "
        ],
        [
         "abfss://datalake@cnibigdatadlsgen2.dfs.core.windows.net/raw/crw/inep_saeb/saeb_resultado_brasil_unificado/",
         "raw/crw/inep_saeb/saeb_resultado_brasil_unificado/",
         "209685",
         "inep_saeb",
         "saeb_resultado_brasil_unificado",
         " "
        ],
        [
         "abfss://datalake@cnibigdatadlsgen2.dfs.core.windows.net/raw/crw/inep_iqes/icg/",
         "raw/crw/inep_iqes/icg/",
         "935589",
         "inep_iqes",
         "icg",
         " "
        ],
        [
         "abfss://datalake@cnibigdatadlsgen2.dfs.core.windows.net/raw/crw/rfb_cnpj/tabelas_auxiliares/municipio/",
         "raw/crw/rfb_cnpj/tabelas_auxiliares/municipio/",
         "103785",
         "rfb_cnpj",
         "tabelas_auxiliares",
         "municipio"
        ],
        [
         "abfss://datalake@cnibigdatadlsgen2.dfs.core.windows.net/raw/usr/fiesc/bacen/expec_tx_cambio/",
         "raw/usr/fiesc/bacen/expec_tx_cambio/",
         "11773",
         "fiesc",
         "bacen",
         "expec_tx_cambio"
        ],
        [
         "abfss://datalake@cnibigdatadlsgen2.dfs.core.windows.net/raw/usr/inep_saeb/competencias_e_habilidades_mt/",
         "raw/usr/inep_saeb/competencias_e_habilidades_mt/",
         "3132254",
         "inep_saeb",
         "competencias_e_habilidades_mt",
         " "
        ],
        [
         "abfss://datalake@cnibigdatadlsgen2.dfs.core.windows.net/raw/usr/uniepro/monitor_de_vagas/padroes_regex/",
         "raw/usr/uniepro/monitor_de_vagas/padroes_regex/",
         "2216",
         "uniepro",
         "uniepro_monitor_de_vagas",
         "padroes_regex"
        ],
        [
         "abfss://datalake@cnibigdatadlsgen2.dfs.core.windows.net/raw/crw/me/comex/ncm_imp/",
         "raw/crw/me/comex/ncm_imp/",
         "859112214",
         "me",
         "comex",
         "ncm_imp"
        ],
        [
         "abfss://datalake@cnibigdatadlsgen2.dfs.core.windows.net/raw/crw/inep_afd/escolas/",
         "raw/crw/inep_afd/escolas/",
         "61071166",
         "inep_afd",
         "escolas",
         " "
        ],
        [
         "abfss://datalake@cnibigdatadlsgen2.dfs.core.windows.net/raw/crw/inep_prova_brasil/ts_resultado_aluno/",
         "raw/crw/inep_prova_brasil/ts_resultado_aluno/",
         "168672408",
         "inep_prova_brasil",
         "ts_resultado_aluno",
         " "
        ],
        [
         "abfss://datalake@cnibigdatadlsgen2.dfs.core.windows.net/raw/crw/me/comex/urf/",
         "raw/crw/me/comex/urf/",
         "9494",
         "me",
         "comex",
         "urf"
        ],
        [
         "abfss://datalake@cnibigdatadlsgen2.dfs.core.windows.net/raw/usr/uniepro/grau_instrucao/",
         "raw/usr/uniepro/grau_instrucao/",
         "3836",
         "uniepro",
         "uniepro_grau_instrucao",
         "grau_instrucao"
        ],
        [
         "abfss://datalake@cnibigdatadlsgen2.dfs.core.windows.net/raw/crw/ibge/pimpf/",
         "raw/crw/ibge/pimpf/",
         "5859106",
         "ibge",
         "pimpf",
         " "
        ],
        [
         "abfss://datalake@cnibigdatadlsgen2.dfs.core.windows.net/raw/crw/ibge/pintec_resp_imp/",
         "raw/crw/ibge/pintec_resp_imp/",
         "26096",
         "ibge",
         "pintec_resp_imp",
         " "
        ],
        [
         "abfss://datalake@cnibigdatadlsgen2.dfs.core.windows.net/raw/usr/oni/bases_do_projeto/painel_dos_estados/",
         "raw/usr/oni/bases_do_projeto/painel_dos_estados/",
         "45129",
         "oni",
         "bases_do_projeto",
         "painel_dos_estados"
        ],
        [
         "abfss://datalake@cnibigdatadlsgen2.dfs.core.windows.net/raw/crw/rfb_cnpj/regime_tributario/",
         "raw/crw/rfb_cnpj/regime_tributario/",
         "127308760",
         "rfb_cnpj",
         "regime_tributario",
         " "
        ],
        [
         "abfss://datalake@cnibigdatadlsgen2.dfs.core.windows.net/raw/usr/inep_censo_escolar/etapa_ensino_agrupada/",
         "raw/usr/inep_censo_escolar/etapa_ensino_agrupada/",
         "9456",
         "inep_censo_escolar",
         "etapa_ensino_agrupada",
         " "
        ],
        [
         "abfss://datalake@cnibigdatadlsgen2.dfs.core.windows.net/raw/crw/inep_afd/municipios/",
         "raw/crw/inep_afd/municipios/",
         "18806657",
         "inep_afd",
         "municipios",
         " "
        ],
        [
         "abfss://datalake@cnibigdatadlsgen2.dfs.core.windows.net/raw/crw/ms_sinan/ment/",
         "raw/crw/ms_sinan/ment/",
         "887824",
         "ms_sinan",
         "ment",
         " "
        ],
        [
         "abfss://datalake@cnibigdatadlsgen2.dfs.core.windows.net/raw/crw/inep_tdi/municipios/",
         "raw/crw/inep_tdi/municipios/",
         "23174019",
         "inep_tdi",
         "municipios",
         " "
        ],
        [
         "abfss://datalake@cnibigdatadlsgen2.dfs.core.windows.net/raw/crw/ibge/piaemp_aquisicoes/",
         "raw/crw/ibge/piaemp_aquisicoes/",
         "360240",
         "ibge",
         "piaemp_aquisicoes",
         " "
        ],
        [
         "abfss://datalake@cnibigdatadlsgen2.dfs.core.windows.net/raw/crw/ms_sinan/pair/",
         "raw/crw/ms_sinan/pair/",
         "639794",
         "ms_sinan",
         "pair",
         " "
        ],
        [
         "abfss://datalake@cnibigdatadlsgen2.dfs.core.windows.net/raw/crw/rfb/cno/cno_totais/",
         "raw/crw/rfb/cno/cno_totais/",
         "3375",
         "rfb",
         "cno",
         "cno_totais"
        ],
        [
         "abfss://datalake@cnibigdatadlsgen2.dfs.core.windows.net/raw/usr/oni/ibge/geo_uf/",
         "raw/usr/oni/ibge/geo_uf/",
         "5090",
         "oni",
         "ibge",
         "geo_uf"
        ],
        [
         "abfss://datalake@cnibigdatadlsgen2.dfs.core.windows.net/raw/usr/oni/bases_do_projeto/aprendizagem/",
         "raw/usr/oni/bases_do_projeto/aprendizagem/",
         "10835",
         "oni",
         "bases_do_projeto",
         "aprendizagem"
        ],
        [
         "abfss://datalake@cnibigdatadlsgen2.dfs.core.windows.net/raw/crw/inep_rmd/brasil_regioes_e_ufs/",
         "raw/crw/inep_rmd/brasil_regioes_e_ufs/",
         "90844",
         "inep_rmd",
         "brasil_regioes_e_ufs",
         " "
        ],
        [
         "abfss://datalake@cnibigdatadlsgen2.dfs.core.windows.net/raw/crw/inep_taxa_rendimento/brasil_regioes_e_ufs/",
         "raw/crw/inep_taxa_rendimento/brasil_regioes_e_ufs/",
         "1166136",
         "inep_taxa_rendimento",
         "brasil_regioes_e_ufs",
         " "
        ],
        [
         "abfss://datalake@cnibigdatadlsgen2.dfs.core.windows.net/raw/crw/me/novo_caged_exc/",
         "raw/crw/me/novo_caged_exc/",
         "5599352",
         "me",
         "novo_caged_exc",
         " "
        ],
        [
         "abfss://datalake@cnibigdatadlsgen2.dfs.core.windows.net/raw/usr/fiesc/ibge/pib/",
         "raw/usr/fiesc/ibge/pib/",
         "1740346",
         "fiesc",
         "ibge",
         "pib"
        ],
        [
         "abfss://datalake@cnibigdatadlsgen2.dfs.core.windows.net/raw/crw/ibge/pintec_tipo_programa/",
         "raw/crw/ibge/pintec_tipo_programa/",
         "6668",
         "ibge",
         "pintec_tipo_programa",
         " "
        ],
        [
         "abfss://datalake@cnibigdatadlsgen2.dfs.core.windows.net/raw/crw/banco_mundial/documentacao_indica/",
         "raw/crw/banco_mundial/documentacao_indica/",
         "43321",
         "banco_mundial",
         "documentacao_indica",
         " "
        ],
        [
         "abfss://datalake@cnibigdatadlsgen2.dfs.core.windows.net/raw/crw/rfb_cnpj/tabelas_auxiliares/pais/",
         "raw/crw/rfb_cnpj/tabelas_auxiliares/pais/",
         "8154",
         "rfb_cnpj",
         "tabelas_auxiliares",
         "pais"
        ],
        [
         "abfss://datalake@cnibigdatadlsgen2.dfs.core.windows.net/raw/crw/ibge/piaemp/",
         "raw/crw/ibge/piaemp/",
         "258392",
         "ibge",
         "piaemp",
         " "
        ],
        [
         "abfss://datalake@cnibigdatadlsgen2.dfs.core.windows.net/raw/crw/me/comex/ncm_ppi/",
         "raw/crw/me/comex/ncm_ppi/",
         "485222",
         "me",
         "comex",
         "ncm_ppi"
        ],
        [
         "abfss://datalake@cnibigdatadlsgen2.dfs.core.windows.net/raw/usr/me/cadastro_cbo_familia/",
         "raw/usr/me/cadastro_cbo_familia/",
         "2070339",
         "me",
         "cadastro_cbo_familia",
         " "
        ],
        [
         "abfss://datalake@cnibigdatadlsgen2.dfs.core.windows.net/raw/crw/ibge/pop_projetada_indicadores_implicitos/",
         "raw/crw/ibge/pop_projetada_indicadores_implicitos/",
         "699686",
         "ibge",
         "pop_projetada_indicadores_implicitos",
         " "
        ],
        [
         "abfss://datalake@cnibigdatadlsgen2.dfs.core.windows.net/raw/usr/fiesc/bacen/inpc/",
         "raw/usr/fiesc/bacen/inpc/",
         "655568",
         "fiesc",
         "bacen",
         "inpc"
        ],
        [
         "abfss://datalake@cnibigdatadlsgen2.dfs.core.windows.net/raw/usr/inep_saeb/competencias_e_habilidades_ajuste_lp/",
         "raw/usr/inep_saeb/competencias_e_habilidades_ajuste_lp/",
         "112235",
         "inep_saeb",
         "competencias_e_habilidades_ajuste_lp",
         " "
        ],
        [
         "abfss://datalake@cnibigdatadlsgen2.dfs.core.windows.net/raw/crw/inep_inse/socioeconomico/",
         "raw/crw/inep_inse/socioeconomico/",
         "7995602",
         "inep_inse",
         "socioeconomico",
         " "
        ],
        [
         "abfss://datalake@cnibigdatadlsgen2.dfs.core.windows.net/raw/crw/inep_saeb/prova_brasil_2015/",
         "raw/crw/inep_saeb/prova_brasil_2015/",
         "611109110",
         "inep_saeb",
         "prova_brasil_2015",
         " "
        ],
        [
         "abfss://datalake@cnibigdatadlsgen2.dfs.core.windows.net/raw/crw/inep_censo_escolar/docente/",
         "raw/crw/inep_censo_escolar/docente/",
         "4081211276",
         "inep_censo_escolar",
         "docente",
         " "
        ],
        [
         "abfss://datalake@cnibigdatadlsgen2.dfs.core.windows.net/raw/crw/inep_saeb/saeb_diretor_unificada/",
         "raw/crw/inep_saeb/saeb_diretor_unificada/",
         "11650346",
         "inep_saeb",
         "saeb_diretor_unificada",
         " "
        ],
        [
         "abfss://datalake@cnibigdatadlsgen2.dfs.core.windows.net/raw/usr/inep_enem/parametros_rampa/",
         "raw/usr/inep_enem/parametros_rampa/",
         "3703",
         "inep_enem",
         "parametros_rampa",
         " "
        ],
        [
         "abfss://datalake@cnibigdatadlsgen2.dfs.core.windows.net/raw/crw/inep_dsu/escolas/",
         "raw/crw/inep_dsu/escolas/",
         "55778549",
         "inep_dsu",
         "escolas",
         " "
        ],
        [
         "abfss://datalake@cnibigdatadlsgen2.dfs.core.windows.net/raw/crw/inep_saeb/saeb_resultado_municipio_unificado/",
         "raw/crw/inep_saeb/saeb_resultado_municipio_unificado/",
         "11338349",
         "inep_saeb",
         "saeb_resultado_municipio_unificado",
         " "
        ],
        [
         "abfss://datalake@cnibigdatadlsgen2.dfs.core.windows.net/raw/usr/fiesc/bacen/ind_atv_eco/",
         "raw/usr/fiesc/bacen/ind_atv_eco/",
         "32040",
         "fiesc",
         "bacen",
         "ind_atv_eco"
        ],
        [
         "abfss://datalake@cnibigdatadlsgen2.dfs.core.windows.net/raw/usr/uniepro/fmi_proj/",
         "raw/usr/uniepro/fmi_proj/",
         "19386",
         "uniepro",
         "uniepro_fmi_proj",
         "fmi_proj"
        ],
        [
         "abfss://datalake@cnibigdatadlsgen2.dfs.core.windows.net/raw/crw/me/comex/uf/",
         "raw/crw/me/comex/uf/",
         "4238",
         "me",
         "comex",
         "uf"
        ],
        [
         "abfss://datalake@cnibigdatadlsgen2.dfs.core.windows.net/raw/usr/me/rais_estabelecimento/",
         "raw/usr/me/rais_estabelecimento/",
         "4284703790",
         "me",
         "rais_estabelecimento",
         " "
        ],
        [
         "abfss://datalake@cnibigdatadlsgen2.dfs.core.windows.net/raw/usr/ocde/intensidade_tecnol/",
         "raw/usr/ocde/intensidade_tecnol/",
         "5883",
         "ocde",
         "intensidade_tecnol",
         " "
        ],
        [
         "abfss://datalake@cnibigdatadlsgen2.dfs.core.windows.net/raw/usr/ibge/deflator_pnad/",
         "raw/usr/ibge/deflator_pnad/",
         "55204",
         "ibge",
         "deflator_pnad",
         " "
        ],
        [
         "abfss://datalake@cnibigdatadlsgen2.dfs.core.windows.net/raw/crw/me/comex/mun_imp/",
         "raw/crw/me/comex/mun_imp/",
         "467762489",
         "me",
         "comex",
         "mun_imp"
        ],
        [
         "abfss://datalake@cnibigdatadlsgen2.dfs.core.windows.net/raw/crw/ibge/scnt_valor_preco_correntes_unificado/",
         "raw/crw/ibge/scnt_valor_preco_correntes_unificado/",
         "32981",
         "ibge",
         "scnt_valor_preco_correntes_unificado",
         " "
        ],
        [
         "abfss://datalake@cnibigdatadlsgen2.dfs.core.windows.net/raw/crw/rfb/cno/cno/",
         "raw/crw/rfb/cno/cno/",
         "186053101",
         "rfb",
         "cno",
         " "
        ],
        [
         "abfss://datalake@cnibigdatadlsgen2.dfs.core.windows.net/raw/crw/inep_atu/escolas/",
         "raw/crw/inep_atu/escolas/",
         "96615332",
         "inep_atu",
         "escolas",
         " "
        ],
        [
         "abfss://datalake@cnibigdatadlsgen2.dfs.core.windows.net/raw/crw/inep_rmd/municipios/",
         "raw/crw/inep_rmd/municipios/",
         "2792194",
         "inep_rmd",
         "municipios",
         " "
        ],
        [
         "abfss://datalake@cnibigdatadlsgen2.dfs.core.windows.net/raw/crw/me/novo_caged_mov/",
         "raw/crw/me/novo_caged_mov/",
         "2095107930",
         "me",
         "novo_caged_mov",
         " "
        ],
        [
         "abfss://datalake@cnibigdatadlsgen2.dfs.core.windows.net/raw/usr/oni/bases_do_projeto/mapa_do_trabalho/",
         "raw/usr/oni/bases_do_projeto/mapa_do_trabalho/",
         "2006986417",
         "oni",
         "bases_do_projeto",
         "mapa_do_trabalho"
        ],
        [
         "abfss://datalake@cnibigdatadlsgen2.dfs.core.windows.net/raw/crw/ibge/relatorio_dtb_brasil_municipio/",
         "raw/crw/ibge/relatorio_dtb_brasil_municipio/",
         "908581",
         "ibge",
         "relatorio_dtb_brasil_municipio",
         " "
        ],
        [
         "abfss://datalake@cnibigdatadlsgen2.dfs.core.windows.net/raw/crw/mtp_aeat/conseq_div/",
         "raw/crw/mtp_aeat/conseq_div/",
         "614074",
         "mtp_aeat",
         "conseq_div",
         " "
        ],
        [
         "abfss://datalake@cnibigdatadlsgen2.dfs.core.windows.net/raw/crw/ibge/pintec_grau_nov_imp/",
         "raw/crw/ibge/pintec_grau_nov_imp/",
         "42600",
         "ibge",
         "pintec_grau_nov_imp",
         " "
        ],
        [
         "abfss://datalake@cnibigdatadlsgen2.dfs.core.windows.net/raw/crw/ibge/pintec_prod_vend_int_po/",
         "raw/crw/ibge/pintec_prod_vend_int_po/",
         "31440",
         "ibge",
         "pintec_prod_vend_int_po",
         " "
        ],
        [
         "abfss://datalake@cnibigdatadlsgen2.dfs.core.windows.net/raw/crw/ms_sinan/anim/",
         "raw/crw/ms_sinan/anim/",
         "74453099",
         "ms_sinan",
         "anim",
         " "
        ],
        [
         "abfss://datalake@cnibigdatadlsgen2.dfs.core.windows.net/raw/crw/aco_brasil/prod_aco_nacional/",
         "raw/crw/aco_brasil/prod_aco_nacional/",
         "55425",
         "aco_brasil",
         "prod_aco_nacional",
         " "
        ],
        [
         "abfss://datalake@cnibigdatadlsgen2.dfs.core.windows.net/raw/usr/fiesc/bacen/igpm/",
         "raw/usr/fiesc/bacen/igpm/",
         "9370",
         "fiesc",
         "bacen",
         "igpm"
        ],
        [
         "abfss://datalake@cnibigdatadlsgen2.dfs.core.windows.net/raw/usr/oni/bases_do_projeto/monitor_de_vagas/",
         "raw/usr/oni/bases_do_projeto/monitor_de_vagas/",
         "9641",
         "oni",
         "bases_do_projeto",
         "monitor_de_vagas"
        ],
        [
         "abfss://datalake@cnibigdatadlsgen2.dfs.core.windows.net/raw/crw/ibge/pintec_rel_coop_loc/",
         "raw/crw/ibge/pintec_rel_coop_loc/",
         "40093",
         "ibge",
         "pintec_rel_coop_loc",
         " "
        ],
        [
         "abfss://datalake@cnibigdatadlsgen2.dfs.core.windows.net/raw/crw/ms_sinan/acbi/",
         "raw/crw/ms_sinan/acbi/",
         "26707510",
         "ms_sinan",
         "acbi",
         " "
        ],
        [
         "abfss://datalake@cnibigdatadlsgen2.dfs.core.windows.net/raw/crw/ms_sinan/lerd/",
         "raw/crw/ms_sinan/lerd/",
         "4085227",
         "ms_sinan",
         "lerd",
         " "
        ],
        [
         "abfss://datalake@cnibigdatadlsgen2.dfs.core.windows.net/raw/usr/uniepro/ibge_municipios/",
         "raw/usr/uniepro/ibge_municipios/",
         "379721",
         "uniepro",
         "uniepro_ibge_municipios",
         "ibge_municipios"
        ],
        [
         "abfss://datalake@cnibigdatadlsgen2.dfs.core.windows.net/raw/usr/uniepro/rfb/siafi/",
         "raw/usr/uniepro/rfb/siafi/",
         "166059",
         "uniepro",
         "uniepro_rfb",
         "siafi"
        ],
        [
         "abfss://datalake@cnibigdatadlsgen2.dfs.core.windows.net/raw/crw/ibge/pop_projetada_expectativa_txmortal/",
         "raw/crw/ibge/pop_projetada_expectativa_txmortal/",
         "478175",
         "ibge",
         "pop_projetada_expectativa_txmortal",
         " "
        ],
        [
         "abfss://datalake@cnibigdatadlsgen2.dfs.core.windows.net/raw/crw/ibge/pintec_org_mkt_po/",
         "raw/crw/ibge/pintec_org_mkt_po/",
         "39442",
         "ibge",
         "pintec_org_mkt_po",
         " "
        ],
        [
         "abfss://datalake@cnibigdatadlsgen2.dfs.core.windows.net/raw/crw/ms_sinan/pneu/",
         "raw/crw/ms_sinan/pneu/",
         "436306",
         "ms_sinan",
         "pneu",
         " "
        ],
        [
         "abfss://datalake@cnibigdatadlsgen2.dfs.core.windows.net/raw/crw/ibge/pop_projetada_pop_sex_idade/",
         "raw/crw/ibge/pop_projetada_pop_sex_idade/",
         "5746536",
         "ibge",
         "pop_projetada_pop_sex_idade",
         " "
        ],
        [
         "abfss://datalake@cnibigdatadlsgen2.dfs.core.windows.net/raw/crw/catho/vagas/",
         "raw/crw/catho/vagas/",
         "152682509",
         "catho",
         "vagas",
         " "
        ],
        [
         "abfss://datalake@cnibigdatadlsgen2.dfs.core.windows.net/raw/usr/uniepro/base_escolas/",
         "raw/usr/uniepro/base_escolas/",
         "23127777",
         "uniepro",
         "uniepro_base_escolas",
         "base_escolas"
        ],
        [
         "abfss://datalake@cnibigdatadlsgen2.dfs.core.windows.net/raw/usr/uniepro/monitor_de_vagas/dicionarios/",
         "raw/usr/uniepro/monitor_de_vagas/dicionarios/",
         "7425",
         "uniepro",
         "uniepro_monitor_de_vagas",
         "dicionarios"
        ],
        [
         "abfss://datalake@cnibigdatadlsgen2.dfs.core.windows.net/raw/crw/banco_mundial/documentacao_paises/",
         "raw/crw/banco_mundial/documentacao_paises/",
         "23260",
         "banco_mundial",
         "documentacao_paises",
         " "
        ],
        [
         "abfss://datalake@cnibigdatadlsgen2.dfs.core.windows.net/raw/crw/me/novo_caged_for/",
         "raw/crw/me/novo_caged_for/",
         "110478417",
         "me",
         "novo_caged_for",
         " "
        ],
        [
         "abfss://datalake@cnibigdatadlsgen2.dfs.core.windows.net/raw/usr/devops/",
         "raw/usr/devops/",
         "This request is not authorized",
         "devops",
         "",
         " "
        ],
        [
         "abfss://datalake@cnibigdatadlsgen2.dfs.core.windows.net/raw/usr/fiesc/bacen/taxa/",
         "raw/usr/fiesc/bacen/taxa/",
         "34256",
         "fiesc",
         "bacen",
         "taxa"
        ],
        [
         "abfss://datalake@cnibigdatadlsgen2.dfs.core.windows.net/raw/crw/ibge/scnt_volume_se_unificado/",
         "raw/crw/ibge/scnt_volume_se_unificado/",
         "28325",
         "ibge",
         "scnt_volume_se_unificado",
         " "
        ],
        [
         "abfss://datalake@cnibigdatadlsgen2.dfs.core.windows.net/raw/crw/rfb_cnpj/cadastro_socio/",
         "raw/crw/rfb_cnpj/cadastro_socio/",
         "778187073",
         "rfb_cnpj",
         "cadastro_socio",
         " "
        ],
        [
         "abfss://datalake@cnibigdatadlsgen2.dfs.core.windows.net/raw/usr/me/cadastro_cbo_perfil_ocupacional/",
         "raw/usr/me/cadastro_cbo_perfil_ocupacional/",
         "1562049",
         "me",
         "cadastro_cbo_perfil_ocupacional",
         " "
        ],
        [
         "abfss://datalake@cnibigdatadlsgen2.dfs.core.windows.net/raw/crw/ibge/deflatores/",
         "raw/crw/ibge/deflatores/",
         "68027",
         "ibge",
         "deflatores",
         " "
        ],
        [
         "abfss://datalake@cnibigdatadlsgen2.dfs.core.windows.net/raw/usr/fiesc/ibge/pesq_men_com/",
         "raw/usr/fiesc/ibge/pesq_men_com/",
         "116597",
         "fiesc",
         "ibge",
         "pesq_men_com"
        ],
        [
         "abfss://datalake@cnibigdatadlsgen2.dfs.core.windows.net/raw/crw/ibge/pintec_tipo_inov_proj/",
         "raw/crw/ibge/pintec_tipo_inov_proj/",
         "40572",
         "ibge",
         "pintec_tipo_inov_proj",
         " "
        ],
        [
         "abfss://datalake@cnibigdatadlsgen2.dfs.core.windows.net/raw/crw/mec/pnp_fin/",
         "raw/crw/mec/pnp_fin/",
         "84425",
         "mec",
         "pnp_fin",
         " "
        ],
        [
         "abfss://datalake@cnibigdatadlsgen2.dfs.core.windows.net/raw/crw/ibge/pia_produto_vti/",
         "raw/crw/ibge/pia_produto_vti/",
         "311048",
         "ibge",
         "pia_produto_vti",
         " "
        ],
        [
         "abfss://datalake@cnibigdatadlsgen2.dfs.core.windows.net/raw/crw/aneel/gera_energia_distrib/",
         "raw/crw/aneel/gera_energia_distrib/",
         "39050620",
         "aneel",
         "gera_energia_distrib",
         " "
        ],
        [
         "abfss://datalake@cnibigdatadlsgen2.dfs.core.windows.net/raw/crw/ibge/scnt_volume_tx_unificado/",
         "raw/crw/ibge/scnt_volume_tx_unificado/",
         "59808",
         "ibge",
         "scnt_volume_tx_unificado",
         " "
        ],
        [
         "abfss://datalake@cnibigdatadlsgen2.dfs.core.windows.net/raw/crw/ibge/pintec_bio_nano_po/",
         "raw/crw/ibge/pintec_bio_nano_po/",
         "24874",
         "ibge",
         "pintec_bio_nano_po",
         " "
        ],
        [
         "abfss://datalake@cnibigdatadlsgen2.dfs.core.windows.net/raw/crw/me/comex/ncm_siit/",
         "raw/crw/me/comex/ncm_siit/",
         "433979",
         "me",
         "comex",
         "ncm_siit"
        ],
        [
         "abfss://datalake@cnibigdatadlsgen2.dfs.core.windows.net/raw/usr/uniepro/faixa_etaria/",
         "raw/usr/uniepro/faixa_etaria/",
         "4146",
         "uniepro",
         "uniepro_faixa_etaria",
         "faixa_etaria"
        ],
        [
         "abfss://datalake@cnibigdatadlsgen2.dfs.core.windows.net/raw/usr/inep_saeb/mascara_escolas_sesi/",
         "raw/usr/inep_saeb/mascara_escolas_sesi/",
         "7105",
         "inep_saeb",
         "mascara_escolas_sesi",
         " "
        ],
        [
         "abfss://datalake@cnibigdatadlsgen2.dfs.core.windows.net/raw/crw/banco_mundial/indicadores_selecionados/",
         "raw/crw/banco_mundial/indicadores_selecionados/",
         "4671490",
         "banco_mundial",
         "indicadores_selecionados",
         " "
        ],
        [
         "abfss://datalake@cnibigdatadlsgen2.dfs.core.windows.net/raw/crw/ibge/pintec_prob_obst_po/",
         "raw/crw/ibge/pintec_prob_obst_po/",
         "136409",
         "ibge",
         "pintec_prob_obst_po",
         " "
        ],
        [
         "abfss://datalake@cnibigdatadlsgen2.dfs.core.windows.net/raw/crw/ibge/pnadc_a_visita2/",
         "raw/crw/ibge/pnadc_a_visita2/",
         "469948171",
         "ibge",
         "pnadc_a_visita2",
         " "
        ],
        [
         "abfss://datalake@cnibigdatadlsgen2.dfs.core.windows.net/raw/crw/ibge/scnt_contas_economicas_unificado/",
         "raw/crw/ibge/scnt_contas_economicas_unificado/",
         "18931",
         "ibge",
         "scnt_contas_economicas_unificado",
         " "
        ],
        [
         "abfss://datalake@cnibigdatadlsgen2.dfs.core.windows.net/raw/usr/fiesc/ibge/paic/",
         "raw/usr/fiesc/ibge/paic/",
         "321989",
         "fiesc",
         "ibge",
         "paic"
        ],
        [
         "abfss://datalake@cnibigdatadlsgen2.dfs.core.windows.net/raw/crw/ibge/pnadc_a_deflatores/",
         "raw/crw/ibge/pnadc_a_deflatores/",
         "68901",
         "ibge",
         "pnadc_a_deflatores",
         " "
        ],
        [
         "abfss://datalake@cnibigdatadlsgen2.dfs.core.windows.net/raw/crw/inep_had/escolas/",
         "raw/crw/inep_had/escolas/",
         "62164208",
         "inep_had",
         "escolas",
         " "
        ],
        [
         "abfss://datalake@cnibigdatadlsgen2.dfs.core.windows.net/raw/usr/azure_ad/",
         "raw/usr/azure_ad/",
         "This request is not authorized",
         "azure_ad",
         "",
         " "
        ],
        [
         "abfss://datalake@cnibigdatadlsgen2.dfs.core.windows.net/raw/crw/iea/carvao_estatisticas/",
         "raw/crw/iea/carvao_estatisticas/",
         "15296",
         "iea",
         "carvao_estatisticas",
         " "
        ],
        [
         "abfss://datalake@cnibigdatadlsgen2.dfs.core.windows.net/raw/usr/fiesc/bacen/expec_prod_ind/",
         "raw/usr/fiesc/bacen/expec_prod_ind/",
         "44716",
         "fiesc",
         "bacen",
         "expec_prod_ind"
        ],
        [
         "abfss://datalake@cnibigdatadlsgen2.dfs.core.windows.net/raw/usr/me/cadastro_cbo_sinonimo/",
         "raw/usr/me/cadastro_cbo_sinonimo/",
         "124047",
         "me",
         "cadastro_cbo_sinonimo",
         " "
        ],
        [
         "abfss://datalake@cnibigdatadlsgen2.dfs.core.windows.net/raw/crw/inep_saeb/ts_resultado_aluno/",
         "raw/crw/inep_saeb/ts_resultado_aluno/",
         "106538096",
         "inep_saeb",
         "ts_resultado_aluno",
         " "
        ],
        [
         "abfss://datalake@cnibigdatadlsgen2.dfs.core.windows.net/raw/crw/fmi_proj/pais/",
         "raw/crw/fmi_proj/pais/",
         "This request is not authorized",
         "fmi_proj",
         "pais",
         " "
        ],
        [
         "abfss://datalake@cnibigdatadlsgen2.dfs.core.windows.net/raw/crw/ibge/scnt_valor_preco1995_saz_unificado/",
         "raw/crw/ibge/scnt_valor_preco1995_saz_unificado/",
         "30314",
         "ibge",
         "scnt_valor_preco1995_saz_unificado",
         " "
        ],
        [
         "abfss://datalake@cnibigdatadlsgen2.dfs.core.windows.net/raw/crw/inep_icg/escolas/",
         "raw/crw/inep_icg/escolas/",
         "43300499",
         "inep_icg",
         "escolas",
         " "
        ],
        [
         "abfss://datalake@cnibigdatadlsgen2.dfs.core.windows.net/raw/crw/inep_saeb/saeb_professor_unificada/",
         "raw/crw/inep_saeb/saeb_professor_unificada/",
         "76907074",
         "inep_saeb",
         "saeb_professor_unificada",
         " "
        ],
        [
         "abfss://datalake@cnibigdatadlsgen2.dfs.core.windows.net/raw/crw/inep_saeb/saeb_resultado_uf_unificado/",
         "raw/crw/inep_saeb/saeb_resultado_uf_unificado/",
         "1091790",
         "inep_saeb",
         "saeb_resultado_uf_unificado",
         " "
        ],
        [
         "abfss://datalake@cnibigdatadlsgen2.dfs.core.windows.net/raw/crw/inep_taxa_rendimento/escolas/",
         "raw/crw/inep_taxa_rendimento/escolas/",
         "114091056",
         "inep_taxa_rendimento",
         "escolas",
         " "
        ],
        [
         "abfss://datalake@cnibigdatadlsgen2.dfs.core.windows.net/raw/crw/me/comex/ncm_ppe/",
         "raw/crw/me/comex/ncm_ppe/",
         "477803",
         "me",
         "comex",
         "ncm_ppe"
        ],
        [
         "abfss://datalake@cnibigdatadlsgen2.dfs.core.windows.net/raw/crw/ms/sih_rd/",
         "raw/crw/ms/sih_rd/",
         "5232929962",
         "ms",
         "sih_rd",
         " "
        ],
        [
         "abfss://datalake@cnibigdatadlsgen2.dfs.core.windows.net/raw/crw/oni/ibge/gini/",
         "raw/crw/oni/ibge/gini/",
         "8887",
         "oni",
         "ibge",
         "gini"
        ],
        [
         "abfss://datalake@cnibigdatadlsgen2.dfs.core.windows.net/raw/crw/rfb/cno/cno_vinculos/",
         "raw/crw/rfb/cno/cno_vinculos/",
         "3438918",
         "rfb",
         "cno",
         "cno_vinculos"
        ],
        [
         "abfss://datalake@cnibigdatadlsgen2.dfs.core.windows.net/raw/crw/mec/pnp_mat/",
         "raw/crw/mec/pnp_mat/",
         "114992335",
         "mec",
         "pnp_mat",
         " "
        ],
        [
         "abfss://datalake@cnibigdatadlsgen2.dfs.core.windows.net/raw/crw/mtp_aeat/acid_obi_mun/",
         "raw/crw/mtp_aeat/acid_obi_mun/",
         "3235862",
         "mtp_aeat",
         "acid_obi_mun",
         " "
        ],
        [
         "abfss://datalake@cnibigdatadlsgen2.dfs.core.windows.net/raw/crw/ibge/pintec_rel_coop_loc_po/",
         "raw/crw/ibge/pintec_rel_coop_loc_po/",
         "67024",
         "ibge",
         "pintec_rel_coop_loc_po",
         " "
        ],
        [
         "abfss://datalake@cnibigdatadlsgen2.dfs.core.windows.net/raw/crw/ocde/projecoes_economicas/",
         "raw/crw/ocde/projecoes_economicas/",
         "1159266",
         "ocde",
         "projecoes_economicas",
         " "
        ],
        [
         "abfss://datalake@cnibigdatadlsgen2.dfs.core.windows.net/raw/crw/inep_enem/microdados_enem/",
         "raw/crw/inep_enem/microdados_enem/",
         "7860326857",
         "inep_enem",
         "microdados_enem",
         " "
        ],
        [
         "abfss://datalake@cnibigdatadlsgen2.dfs.core.windows.net/raw/crw/inep_had/brasil_regioes_e_ufs/",
         "raw/crw/inep_had/brasil_regioes_e_ufs/",
         "405063",
         "inep_had",
         "brasil_regioes_e_ufs",
         " "
        ],
        [
         "abfss://datalake@cnibigdatadlsgen2.dfs.core.windows.net/raw/usr/power_bi/",
         "raw/usr/power_bi/",
         "This request is not authorized",
         "power_bi",
         "",
         " "
        ],
        [
         "abfss://datalake@cnibigdatadlsgen2.dfs.core.windows.net/raw/usr/fiesc/me/comex/",
         "raw/usr/fiesc/me/comex/",
         "4725690974",
         "fiesc",
         "me",
         "comex"
        ],
        [
         "abfss://datalake@cnibigdatadlsgen2.dfs.core.windows.net/raw/crw/me/comex/pais/",
         "raw/crw/me/comex/pais/",
         "18016",
         "me",
         "comex",
         "pais"
        ],
        [
         "abfss://datalake@cnibigdatadlsgen2.dfs.core.windows.net/raw/usr/fiesc/ibge/inpc/",
         "raw/usr/fiesc/ibge/inpc/",
         "6928520",
         "fiesc",
         "ibge",
         "inpc"
        ],
        [
         "abfss://datalake@cnibigdatadlsgen2.dfs.core.windows.net/raw/crw/inep_saeb/ts_quest_aluno/",
         "raw/crw/inep_saeb/ts_quest_aluno/",
         "219789212",
         "inep_saeb",
         "ts_quest_aluno",
         " "
        ],
        [
         "abfss://datalake@cnibigdatadlsgen2.dfs.core.windows.net/raw/crw/inguru/news/",
         "raw/crw/inguru/news/",
         "66407",
         "inguru",
         "news",
         " "
        ],
        [
         "abfss://datalake@cnibigdatadlsgen2.dfs.core.windows.net/raw/crw/me/caged/",
         "raw/crw/me/caged/",
         "6581994671",
         "me",
         "caged",
         " "
        ],
        [
         "abfss://datalake@cnibigdatadlsgen2.dfs.core.windows.net/raw/crw/rfb/cno/cno_areas/",
         "raw/crw/rfb/cno/cno_areas/",
         "34341645",
         "rfb",
         "cno",
         "cno_areas"
        ],
        [
         "abfss://datalake@cnibigdatadlsgen2.dfs.core.windows.net/raw/crw/inep_censo_escolar/turmas/",
         "raw/crw/inep_censo_escolar/turmas/",
         "798277871",
         "inep_censo_escolar",
         "turmas",
         " "
        ],
        [
         "abfss://datalake@cnibigdatadlsgen2.dfs.core.windows.net/raw/crw/rfb_cnpj/tabelas_auxiliares/motivo/",
         "raw/crw/rfb_cnpj/tabelas_auxiliares/motivo/",
         "4877",
         "rfb_cnpj",
         "tabelas_auxiliares",
         "motivo"
        ],
        [
         "abfss://datalake@cnibigdatadlsgen2.dfs.core.windows.net/raw/usr/me/rais_vinculo/",
         "raw/usr/me/rais_vinculo/",
         "111718297966",
         "me",
         "rais_vinculo",
         " "
        ],
        [
         "abfss://datalake@cnibigdatadlsgen2.dfs.core.windows.net/raw/crw/rfb_cnpj/tabelas_auxiliares/nat_juridica/",
         "raw/crw/rfb_cnpj/tabelas_auxiliares/nat_juridica/",
         "5595",
         "rfb_cnpj",
         "tabelas_auxiliares",
         "nat_juridica"
        ],
        [
         "abfss://datalake@cnibigdatadlsgen2.dfs.core.windows.net/raw/crw/inep_had/municipios/",
         "raw/crw/inep_had/municipios/",
         "12371046",
         "inep_had",
         "municipios",
         " "
        ],
        [
         "abfss://datalake@cnibigdatadlsgen2.dfs.core.windows.net/raw/usr/uniepro/ocup_indust_cbodom/",
         "raw/usr/uniepro/ocup_indust_cbodom/",
         "16666",
         "uniepro",
         "uniepro_ocup_indust_cbodom",
         "ocup_indust_cbodom"
        ],
        [
         "abfss://datalake@cnibigdatadlsgen2.dfs.core.windows.net/raw/crw/inep_saeb/prova_brasil_2013/",
         "raw/crw/inep_saeb/prova_brasil_2013/",
         "629859554",
         "inep_saeb",
         "prova_brasil_2013",
         " "
        ],
        [
         "abfss://datalake@cnibigdatadlsgen2.dfs.core.windows.net/raw/crw/ms/sih_sp/",
         "raw/crw/ms/sih_sp/",
         "24071339468",
         "ms",
         "sih_sp",
         " "
        ],
        [
         "abfss://datalake@cnibigdatadlsgen2.dfs.core.windows.net/raw/crw/worldsteel/indicadores_selecionados/",
         "raw/crw/worldsteel/indicadores_selecionados/",
         "39492",
         "worldsteel",
         "indicadores_selecionados",
         " "
        ],
        [
         "abfss://datalake@cnibigdatadlsgen2.dfs.core.windows.net/raw/usr/inep_saeb/competencias_e_habilidades_ajuste_mt/",
         "raw/usr/inep_saeb/competencias_e_habilidades_ajuste_mt/",
         "124264",
         "inep_saeb",
         "competencias_e_habilidades_ajuste_mt",
         " "
        ],
        [
         "abfss://datalake@cnibigdatadlsgen2.dfs.core.windows.net/raw/crw/inep_dsu/municipios/",
         "raw/crw/inep_dsu/municipios/",
         "9494720",
         "inep_dsu",
         "municipios",
         " "
        ],
        [
         "abfss://datalake@cnibigdatadlsgen2.dfs.core.windows.net/raw/crw/inep_prova_brasil/ts_resposta_aluno/",
         "raw/crw/inep_prova_brasil/ts_resposta_aluno/",
         "251361551",
         "inep_prova_brasil",
         "ts_resposta_aluno",
         " "
        ],
        [
         "abfss://datalake@cnibigdatadlsgen2.dfs.core.windows.net/raw/crw/me/comex/uf_mun/",
         "raw/crw/me/comex/uf_mun/",
         "157680",
         "me",
         "comex",
         "uf_mun"
        ],
        [
         "abfss://datalake@cnibigdatadlsgen2.dfs.core.windows.net/raw/usr/sgbd/",
         "raw/usr/sgbd/",
         "This request is not authorized",
         "sgbd",
         "",
         " "
        ],
        [
         "abfss://datalake@cnibigdatadlsgen2.dfs.core.windows.net/raw/crw/mec/pnp_efi/",
         "raw/crw/mec/pnp_efi/",
         "32980366",
         "mec",
         "pnp_efi",
         " "
        ],
        [
         "abfss://datalake@cnibigdatadlsgen2.dfs.core.windows.net/raw/crw/mtp_aeat/motivo_class/",
         "raw/crw/mtp_aeat/motivo_class/",
         "2071625",
         "mtp_aeat",
         "motivo_class",
         " "
        ],
        [
         "abfss://datalake@cnibigdatadlsgen2.dfs.core.windows.net/raw/crw/ibge/pnadc_a_trim4/",
         "raw/crw/ibge/pnadc_a_trim4/",
         "2541096754",
         "ibge",
         "pnadc_a_trim4",
         " "
        ],
        [
         "abfss://datalake@cnibigdatadlsgen2.dfs.core.windows.net/raw/crw/ibge/pnadc_a_visita1/",
         "raw/crw/ibge/pnadc_a_visita1/",
         "2705106502",
         "ibge",
         "pnadc_a_visita1",
         " "
        ],
        [
         "abfss://datalake@cnibigdatadlsgen2.dfs.core.windows.net/raw/crw/inep_enem/enem_escola_dicionario/",
         "raw/crw/inep_enem/enem_escola_dicionario/",
         "6578",
         "inep_enem",
         "enem_escola_dicionario",
         " "
        ],
        [
         "abfss://datalake@cnibigdatadlsgen2.dfs.core.windows.net/raw/crw/ibge/pintec_rel_coop/",
         "raw/crw/ibge/pintec_rel_coop/",
         "39199",
         "ibge",
         "pintec_rel_coop",
         " "
        ],
        [
         "abfss://datalake@cnibigdatadlsgen2.dfs.core.windows.net/raw/crw/inep_censo_escolar/escola/",
         "raw/crw/inep_censo_escolar/escola/",
         "183774516",
         "inep_censo_escolar",
         "escola",
         " "
        ],
        [
         "abfss://datalake@cnibigdatadlsgen2.dfs.core.windows.net/raw/crw/me/comex/ncm_cuci/",
         "raw/crw/me/comex/ncm_cuci/",
         "667780",
         "me",
         "comex",
         "ncm_cuci"
        ],
        [
         "abfss://datalake@cnibigdatadlsgen2.dfs.core.windows.net/raw/crw/me/comex/via/",
         "raw/crw/me/comex/via/",
         "3166",
         "me",
         "comex",
         "via"
        ],
        [
         "abfss://datalake@cnibigdatadlsgen2.dfs.core.windows.net/raw/crw/rfb_cnpj/tabelas_auxiliares/qualif_socio/",
         "raw/crw/rfb_cnpj/tabelas_auxiliares/qualif_socio/",
         "4575",
         "rfb_cnpj",
         "tabelas_auxiliares",
         "qualif_socio"
        ],
        [
         "abfss://datalake@cnibigdatadlsgen2.dfs.core.windows.net/raw/usr/fiesc/bacen/expec_mercado/",
         "raw/usr/fiesc/bacen/expec_mercado/",
         "62472",
         "fiesc",
         "bacen",
         "expec_mercado"
        ],
        [
         "abfss://datalake@cnibigdatadlsgen2.dfs.core.windows.net/raw/crw/inep_censo_escolar/gestor/",
         "raw/crw/inep_censo_escolar/gestor/",
         "32856646",
         "inep_censo_escolar",
         "gestor",
         " "
        ],
        [
         "abfss://datalake@cnibigdatadlsgen2.dfs.core.windows.net/raw/usr/fiesc/ibge/pms/",
         "raw/usr/fiesc/ibge/pms/",
         "6934851",
         "fiesc",
         "ibge",
         "pms"
        ],
        [
         "abfss://datalake@cnibigdatadlsgen2.dfs.core.windows.net/raw/crw/banco_mundial/preco_commodity/",
         "raw/crw/banco_mundial/preco_commodity/",
         "1274260",
         "banco_mundial",
         "preco_commodity",
         " "
        ],
        [
         "abfss://datalake@cnibigdatadlsgen2.dfs.core.windows.net/raw/crw/inep_censo_escolar/curso_educacao_profissional/",
         "raw/crw/inep_censo_escolar/curso_educacao_profissional/",
         "36040",
         "inep_censo_escolar",
         "curso_educacao_profissional",
         " "
        ],
        [
         "abfss://datalake@cnibigdatadlsgen2.dfs.core.windows.net/raw/crw/ms_sinan/acgr/",
         "raw/crw/ms_sinan/acgr/",
         "55931321",
         "ms_sinan",
         "acgr",
         " "
        ],
        [
         "abfss://datalake@cnibigdatadlsgen2.dfs.core.windows.net/raw/usr/oni/ibge/geo_municipios/",
         "raw/usr/oni/ibge/geo_municipios/",
         "378595",
         "oni",
         "ibge",
         "geo_municipios"
        ],
        [
         "abfss://datalake@cnibigdatadlsgen2.dfs.core.windows.net/raw/crw/ms_sinan/iexo/",
         "raw/crw/ms_sinan/iexo/",
         "60767908",
         "ms_sinan",
         "iexo",
         " "
        ],
        [
         "abfss://datalake@cnibigdatadlsgen2.dfs.core.windows.net/raw/crw/me/comex/mun_exp/",
         "raw/crw/me/comex/mun_exp/",
         "306629131",
         "me",
         "comex",
         "mun_exp"
        ],
        [
         "abfss://datalake@cnibigdatadlsgen2.dfs.core.windows.net/raw/crw/rfb_cnpj/cadastro_simples/",
         "raw/crw/rfb_cnpj/cadastro_simples/",
         "396219225",
         "rfb_cnpj",
         "cadastro_simples",
         " "
        ],
        [
         "abfss://datalake@cnibigdatadlsgen2.dfs.core.windows.net/raw/crw/ibge/scnt_valor_preco1995_unificado/",
         "raw/crw/ibge/scnt_valor_preco1995_unificado/",
         "31117",
         "ibge",
         "scnt_valor_preco1995_unificado",
         " "
        ],
        [
         "abfss://datalake@cnibigdatadlsgen2.dfs.core.windows.net/raw/usr/me/cadastro_cbo/",
         "raw/usr/me/cadastro_cbo/",
         "103351",
         "me",
         "cadastro_cbo",
         " "
        ],
        [
         "abfss://datalake@cnibigdatadlsgen2.dfs.core.windows.net/raw/crw/me/comex/isic_cuci/",
         "raw/crw/me/comex/isic_cuci/",
         "462003",
         "me",
         "comex",
         "isic_cuci"
        ],
        [
         "abfss://datalake@cnibigdatadlsgen2.dfs.core.windows.net/raw/crw/ibge/cnae_subclasses/",
         "raw/crw/ibge/cnae_subclasses/",
         "71779",
         "ibge",
         "cnae_subclasses",
         " "
        ],
        [
         "abfss://datalake@cnibigdatadlsgen2.dfs.core.windows.net/raw/crw/inep_afd/brasil_regioes_e_ufs/",
         "raw/crw/inep_afd/brasil_regioes_e_ufs/",
         "534782",
         "inep_afd",
         "brasil_regioes_e_ufs",
         " "
        ],
        [
         "abfss://datalake@cnibigdatadlsgen2.dfs.core.windows.net/raw/crw/mtp_aeat/motivo_div/",
         "raw/crw/mtp_aeat/motivo_div/",
         "563158",
         "mtp_aeat",
         "motivo_div",
         " "
        ]
       ],
       "datasetInfos": [],
       "dbfsResultPath": null,
       "isJsonSchema": true,
       "metadata": {},
       "overflow": false,
       "plotOptions": {
        "customPlotOptions": {},
        "displayType": "table",
        "pivotAggregation": null,
        "pivotColumns": null,
        "xColumns": null,
        "yColumns": null
       },
       "removedWidgets": [],
       "schema": [
        {
         "metadata": "{}",
         "name": "path",
         "type": "\"string\""
        },
        {
         "metadata": "{}",
         "name": "path__",
         "type": "\"string\""
        },
        {
         "metadata": "{}",
         "name": "size_bytes",
         "type": "\"string\""
        },
        {
         "metadata": "{}",
         "name": "source_name",
         "type": "\"string\""
        },
        {
         "metadata": "{}",
         "name": "schema_name",
         "type": "\"string\""
        },
        {
         "metadata": "{}",
         "name": "table_name",
         "type": "\"string\""
        }
       ],
       "type": "table"
      }
     },
     "output_type": "display_data"
    }
   ],
   "source": [
    "  DF_ = (df.filter(col(\"paths\").contains(f\"{layers()}\")))\\\n",
    ".filter(~col(\"value\").contains(\"bdo\"))\\\n",
    ".select('paths')\n",
    "\n",
    "DF_RDD = DF_.rdd.map(lambda x: x.paths).collect()\n",
    "\n",
    "J = []\n",
    "for caminho in DF_RDD:\n",
    "  CAMINHOS = 'abfss://datalake@cnibigdatadlsgen2.dfs.core.windows.net' + caminho\n",
    "  J.append(CAMINHOS)\n",
    "  \n",
    "  \n",
    "  DF_get_size_J = spark.createDataFrame(get_size(J))\n",
    "  DF_without_This_request_is_not_authorized = DF_get_size_J.filter(col('size_bytes') != 'This request is not authorized')\n",
    "  This_request_is_not_authorized = DF_get_size_J.filter(col('size_bytes') == 'This request is not authorized')\n",
    "  This_request_is_not_authorized = This_request_is_not_authorized.rdd.map(lambda x: x.path).collect()\n",
    "  \n",
    "  \n",
    "  DF_size_paritions = get_size_layers(This_request_is_not_authorized)\n",
    "  DF__ = spark.createDataFrame(DF_size_paritions)\n",
    "  \n",
    "  \n",
    "  @udf(returnType=StringType())\n",
    "  def normaliza_path(path:'abfss address') -> 'string address':\n",
    "    i = (3 if (path[0:6] == 'abfss:') else 0)\n",
    "    return('/'.join(path.replace('/','%%/%%').strip().split('%%/%%')[i:]))\n",
    "  \n",
    "  RESULT = DF_without_This_request_is_not_authorized.union(DF__)\n",
    "  _CATALAGO_ = RESULT.withColumn(\"_paths_\", normaliza_path(\"path\"))\n",
    "  \n",
    "  \n",
    "  def normaliza_path(path:'abfss address') -> 'string address':\n",
    "    i = (3 if (path[0:6] == 'abfss:') else 0)\n",
    "    return('/'.join(path.replace('/','%%/%%').strip().split('%%/%%')[i:]))\n",
    "  \n",
    "  SOURCE_SCHEMA_TABLE_RAW = SOURCE_SCHEMA_TABLE_RAW_(J)\n",
    "  CATALAGO = _CATALAGO_.join(SOURCE_SCHEMA_TABLE_RAW, _CATALAGO_._paths_ == SOURCE_SCHEMA_TABLE_RAW.path__, \"right\").drop(_CATALAGO_._paths_)\n",
    "  CATALAGO = CATALAGO.select('path','path__','size_bytes','source_name','schema_name','table_name')"
   ]
  },
  {
   "cell_type": "code",
   "execution_count": null,
   "metadata": {
    "application/vnd.databricks.v1+cell": {
     "cellMetadata": {
      "byteLimit": 2048000,
      "rowLimit": 10000
     },
     "inputWidgets": {},
     "nuid": "f51f2176-2223-488a-be1b-4731094168c8",
     "showTitle": false,
     "title": ""
    }
   },
   "outputs": [
    {
     "data": {
      "text/html": [
       "<style scoped>\n",
       "  .table-result-container {\n",
       "    max-height: 300px;\n",
       "    overflow: auto;\n",
       "  }\n",
       "  table, th, td {\n",
       "    border: 1px solid black;\n",
       "    border-collapse: collapse;\n",
       "  }\n",
       "  th, td {\n",
       "    padding: 5px;\n",
       "  }\n",
       "  th {\n",
       "    text-align: left;\n",
       "  }\n",
       "</style><div class='table-result-container'><table class='table-result'><thead style='background-color: white'><tr><th>path</th><th>path__</th><th>size_bytes</th><th>source_name</th><th>schema_name</th><th>table_name</th></tr></thead><tbody><tr><td>abfss://datalake@cnibigdatadlsgen2.dfs.core.windows.net/raw/crw/me/comex/ncm_sh/</td><td>raw/crw/me/comex/ncm_sh/</td><td>1431116</td><td>me</td><td>comex</td><td>ncm_sh</td></tr><tr><td>abfss://datalake@cnibigdatadlsgen2.dfs.core.windows.net/raw/crw/ibge/pintec_prod_vend_int/</td><td>raw/crw/ibge/pintec_prod_vend_int/</td><td>22550</td><td>ibge</td><td>pintec_prod_vend_int</td><td> </td></tr><tr><td>abfss://datalake@cnibigdatadlsgen2.dfs.core.windows.net/raw/crw/inep_censo_escolar/etapa_ensino/</td><td>raw/crw/inep_censo_escolar/etapa_ensino/</td><td>13317</td><td>inep_censo_escolar</td><td>etapa_ensino</td><td> </td></tr><tr><td>abfss://datalake@cnibigdatadlsgen2.dfs.core.windows.net/raw/crw/inep_dsu/brasil_regioes_e_ufs/</td><td>raw/crw/inep_dsu/brasil_regioes_e_ufs/</td><td>324904</td><td>inep_dsu</td><td>brasil_regioes_e_ufs</td><td> </td></tr><tr><td>abfss://datalake@cnibigdatadlsgen2.dfs.core.windows.net/raw/crw/ibge/pintec_bio_nano/</td><td>raw/crw/ibge/pintec_bio_nano/</td><td>24763</td><td>ibge</td><td>pintec_bio_nano</td><td> </td></tr><tr><td>abfss://datalake@cnibigdatadlsgen2.dfs.core.windows.net/raw/crw/ibge/scnt_volume_saz_se_unificado/</td><td>raw/crw/ibge/scnt_volume_saz_se_unificado/</td><td>27669</td><td>ibge</td><td>scnt_volume_saz_se_unificado</td><td> </td></tr><tr><td>abfss://datalake@cnibigdatadlsgen2.dfs.core.windows.net/raw/crw/inep_saeb/prova_brasil_2017/</td><td>raw/crw/inep_saeb/prova_brasil_2017/</td><td>1045744659</td><td>inep_saeb</td><td>prova_brasil_2017</td><td> </td></tr><tr><td>abfss://datalake@cnibigdatadlsgen2.dfs.core.windows.net/raw/usr/oni/ibge/municipios_amazonia_legal/</td><td>raw/usr/oni/ibge/municipios_amazonia_legal/</td><td>35896</td><td>oni</td><td>ibge</td><td>municipios_amazonia_legal</td></tr><tr><td>abfss://datalake@cnibigdatadlsgen2.dfs.core.windows.net/raw/crw/ibge/pnadc_a_visita5/</td><td>raw/crw/ibge/pnadc_a_visita5/</td><td>1907804819</td><td>ibge</td><td>pnadc_a_visita5</td><td> </td></tr><tr><td>abfss://datalake@cnibigdatadlsgen2.dfs.core.windows.net/raw/crw/me/comex/ncm_cgce/</td><td>raw/crw/me/comex/ncm_cgce/</td><td>472397</td><td>me</td><td>comex</td><td>ncm_cgce</td></tr><tr><td>abfss://datalake@cnibigdatadlsgen2.dfs.core.windows.net/raw/crw/rfb_cnpj/cadastro_estbl/</td><td>raw/crw/rfb_cnpj/cadastro_estbl/</td><td>4484671695</td><td>rfb_cnpj</td><td>cadastro_estbl</td><td> </td></tr><tr><td>abfss://datalake@cnibigdatadlsgen2.dfs.core.windows.net/raw/crw/mec/pnp_ser/</td><td>raw/crw/mec/pnp_ser/</td><td>3420243</td><td>mec</td><td>pnp_ser</td><td> </td></tr><tr><td>abfss://datalake@cnibigdatadlsgen2.dfs.core.windows.net/raw/crw/mtp_aeat/conseq_clas/</td><td>raw/crw/mtp_aeat/conseq_clas/</td><td>2358274</td><td>mtp_aeat</td><td>conseq_clas</td><td> </td></tr><tr><td>abfss://datalake@cnibigdatadlsgen2.dfs.core.windows.net/raw/usr/inep_saeb/competencias_e_habilidades_lp/</td><td>raw/usr/inep_saeb/competencias_e_habilidades_lp/</td><td>2056933</td><td>inep_saeb</td><td>competencias_e_habilidades_lp</td><td> </td></tr><tr><td>abfss://datalake@cnibigdatadlsgen2.dfs.core.windows.net/raw/crw/inep_iqes/cpc/</td><td>raw/crw/inep_iqes/cpc/</td><td>4536366</td><td>inep_iqes</td><td>cpc</td><td> </td></tr><tr><td>abfss://datalake@cnibigdatadlsgen2.dfs.core.windows.net/raw/crw/inep_atu/municipios/</td><td>raw/crw/inep_atu/municipios/</td><td>25418643</td><td>inep_atu</td><td>municipios</td><td> </td></tr><tr><td>abfss://datalake@cnibigdatadlsgen2.dfs.core.windows.net/raw/crw/inep_tdi/brasil_regioes_e_ufs/</td><td>raw/crw/inep_tdi/brasil_regioes_e_ufs/</td><td>874408</td><td>inep_tdi</td><td>brasil_regioes_e_ufs</td><td> </td></tr><tr><td>abfss://datalake@cnibigdatadlsgen2.dfs.core.windows.net/raw/usr/uniepro/cnae_industrial/</td><td>raw/usr/uniepro/cnae_industrial/</td><td>7036</td><td>uniepro</td><td>uniepro_cnae_industrial</td><td>cnae_industrial</td></tr><tr><td>abfss://datalake@cnibigdatadlsgen2.dfs.core.windows.net/raw/crw/ibge/pnadc/</td><td>raw/crw/ibge/pnadc/</td><td>39718210769</td><td>ibge</td><td>pnadc</td><td> </td></tr><tr><td>abfss://datalake@cnibigdatadlsgen2.dfs.core.windows.net/raw/crw/rfb_cnpj/cadastro_empresa/</td><td>raw/crw/rfb_cnpj/cadastro_empresa/</td><td>1824546996</td><td>rfb_cnpj</td><td>cadastro_empresa</td><td> </td></tr><tr><td>abfss://datalake@cnibigdatadlsgen2.dfs.core.windows.net/raw/crw/ibge/pintec_org_mkt/</td><td>raw/crw/ibge/pintec_org_mkt/</td><td>25295</td><td>ibge</td><td>pintec_org_mkt</td><td> </td></tr><tr><td>abfss://datalake@cnibigdatadlsgen2.dfs.core.windows.net/raw/crw/ibge/scnt_conta_financeira_unificado/</td><td>raw/crw/ibge/scnt_conta_financeira_unificado/</td><td>23290</td><td>ibge</td><td>scnt_conta_financeira_unificado</td><td> </td></tr><tr><td>abfss://datalake@cnibigdatadlsgen2.dfs.core.windows.net/raw/crw/rfb/cno/cno_cnaes/</td><td>raw/crw/rfb/cno/cno_cnaes/</td><td>19984693</td><td>rfb</td><td>cno</td><td>cno_cnaes</td></tr><tr><td>abfss://datalake@cnibigdatadlsgen2.dfs.core.windows.net/raw/usr/oni/ibge/uf/</td><td>raw/usr/oni/ibge/uf/</td><td>2185</td><td>oni</td><td>ibge</td><td>uf</td></tr><tr><td>abfss://datalake@cnibigdatadlsgen2.dfs.core.windows.net/raw/crw/ibge/ipca/</td><td>raw/crw/ibge/ipca/</td><td>12066</td><td>ibge</td><td>ipca</td><td> </td></tr><tr><td>abfss://datalake@cnibigdatadlsgen2.dfs.core.windows.net/raw/crw/ibge/pintec_tipo_programa_po/</td><td>raw/crw/ibge/pintec_tipo_programa_po/</td><td>35103</td><td>ibge</td><td>pintec_tipo_programa_po</td><td> </td></tr><tr><td>abfss://datalake@cnibigdatadlsgen2.dfs.core.windows.net/raw/crw/ibge/pop_projetada_txfecund/</td><td>raw/crw/ibge/pop_projetada_txfecund/</td><td>548004</td><td>ibge</td><td>pop_projetada_txfecund</td><td> </td></tr><tr><td>abfss://datalake@cnibigdatadlsgen2.dfs.core.windows.net/raw/crw/me/comex/ncm_fat_agreg/</td><td>raw/crw/me/comex/ncm_fat_agreg/</td><td>443911</td><td>me</td><td>comex</td><td>ncm_fat_agreg</td></tr><tr><td>abfss://datalake@cnibigdatadlsgen2.dfs.core.windows.net/raw/crw/rfb_cnpj/tabelas_auxiliares/cnae/</td><td>raw/crw/rfb_cnpj/tabelas_auxiliares/cnae/</td><td>44924</td><td>rfb_cnpj</td><td>tabelas_auxiliares</td><td>cnae</td></tr><tr><td>abfss://datalake@cnibigdatadlsgen2.dfs.core.windows.net/raw/usr/uniepro/ibge_cnae_classe/</td><td>raw/usr/uniepro/ibge_cnae_classe/</td><td>25362</td><td>uniepro</td><td>uniepro_ibge_cnae_classe</td><td>ibge_cnae_classe</td></tr><tr><td>abfss://datalake@cnibigdatadlsgen2.dfs.core.windows.net/raw/crw/fred/indicadores_selecionados/</td><td>raw/crw/fred/indicadores_selecionados/</td><td>55195</td><td>fred</td><td>indicadores_selecionados</td><td> </td></tr><tr><td>abfss://datalake@cnibigdatadlsgen2.dfs.core.windows.net/raw/crw/ibge/ipp_cnae_div/</td><td>raw/crw/ibge/ipp_cnae_div/</td><td>145157</td><td>ibge</td><td>ipp_cnae_div</td><td> </td></tr><tr><td>abfss://datalake@cnibigdatadlsgen2.dfs.core.windows.net/raw/crw/ibge/pintec_prob_obst/</td><td>raw/crw/ibge/pintec_prob_obst/</td><td>74849</td><td>ibge</td><td>pintec_prob_obst</td><td> </td></tr><tr><td>abfss://datalake@cnibigdatadlsgen2.dfs.core.windows.net/raw/crw/me/caged_ajustes/</td><td>raw/crw/me/caged_ajustes/</td><td>205696635</td><td>me</td><td>caged_ajustes</td><td> </td></tr><tr><td>abfss://datalake@cnibigdatadlsgen2.dfs.core.windows.net/raw/crw/inep_ideb/ideb/</td><td>raw/crw/inep_ideb/ideb/</td><td>29431193</td><td>inep_ideb</td><td>ideb</td><td> </td></tr><tr><td>abfss://datalake@cnibigdatadlsgen2.dfs.core.windows.net/raw/crw/inep_saeb/prova_brasil_2019/</td><td>raw/crw/inep_saeb/prova_brasil_2019/</td><td>869154248</td><td>inep_saeb</td><td>prova_brasil_2019</td><td> </td></tr><tr><td>abfss://datalake@cnibigdatadlsgen2.dfs.core.windows.net/raw/crw/inep_atu/brasil_regioes_e_ufs/</td><td>raw/crw/inep_atu/brasil_regioes_e_ufs/</td><td>831206</td><td>inep_atu</td><td>brasil_regioes_e_ufs</td><td> </td></tr><tr><td>abfss://datalake@cnibigdatadlsgen2.dfs.core.windows.net/raw/crw/me/comex/ncm_unidade/</td><td>raw/crw/me/comex/ncm_unidade/</td><td>446938</td><td>me</td><td>comex</td><td>ncm_unidade</td></tr><tr><td>abfss://datalake@cnibigdatadlsgen2.dfs.core.windows.net/raw/crw/me/comex/pais_bloco/</td><td>raw/crw/me/comex/pais_bloco/</td><td>7050</td><td>me</td><td>comex</td><td>pais_bloco</td></tr><tr><td>abfss://datalake@cnibigdatadlsgen2.dfs.core.windows.net/raw/crw/mtp_aeat/motivo_ida_sex/</td><td>raw/crw/mtp_aeat/motivo_ida_sex/</td><td>469810</td><td>mtp_aeat</td><td>motivo_ida_sex</td><td> </td></tr><tr><td>abfss://datalake@cnibigdatadlsgen2.dfs.core.windows.net/raw/crw/ibge/pop_estimada/</td><td>raw/crw/ibge/pop_estimada/</td><td>1176681</td><td>ibge</td><td>pop_estimada</td><td> </td></tr><tr><td>abfss://datalake@cnibigdatadlsgen2.dfs.core.windows.net/raw/crw/inep_saeb/saeb_aluno_unificado/</td><td>raw/crw/inep_saeb/saeb_aluno_unificado/</td><td>3162593753</td><td>inep_saeb</td><td>saeb_aluno_unificado</td><td> </td></tr><tr><td>abfss://datalake@cnibigdatadlsgen2.dfs.core.windows.net/raw/crw/inep_ird/escolas/</td><td>raw/crw/inep_ird/escolas/</td><td>36212636</td><td>inep_ird</td><td>escolas</td><td> </td></tr><tr><td>abfss://datalake@cnibigdatadlsgen2.dfs.core.windows.net/raw/usr/jira_service_management/</td><td>raw/usr/jira_service_management/</td><td>This request is not authorized</td><td>jira_service_management</td><td></td><td> </td></tr><tr><td>abfss://datalake@cnibigdatadlsgen2.dfs.core.windows.net/raw/crw/inep_taxa_rendimento/municipios/</td><td>raw/crw/inep_taxa_rendimento/municipios/</td><td>45750496</td><td>inep_taxa_rendimento</td><td>municipios</td><td> </td></tr><tr><td>abfss://datalake@cnibigdatadlsgen2.dfs.core.windows.net/raw/crw/inep_enem/enem_escola/</td><td>raw/crw/inep_enem/enem_escola/</td><td>9910050</td><td>inep_enem</td><td>enem_escola</td><td> </td></tr><tr><td>abfss://datalake@cnibigdatadlsgen2.dfs.core.windows.net/raw/crw/inep_saeb/saeb_escola_unificada/</td><td>raw/crw/inep_saeb/saeb_escola_unificada/</td><td>36433753</td><td>inep_saeb</td><td>saeb_escola_unificada</td><td> </td></tr><tr><td>abfss://datalake@cnibigdatadlsgen2.dfs.core.windows.net/raw/usr/fiesc/bacen/igp-m/</td><td>raw/usr/fiesc/bacen/igp-m/</td><td>10803</td><td>fiesc</td><td>bacen</td><td>igp-m</td></tr><tr><td>abfss://datalake@cnibigdatadlsgen2.dfs.core.windows.net/raw/crw/infojobs/vagas/</td><td>raw/crw/infojobs/vagas/</td><td>52583365</td><td>infojobs</td><td>vagas</td><td> </td></tr><tr><td>abfss://datalake@cnibigdatadlsgen2.dfs.core.windows.net/raw/usr/fiesc/ibge/sidra/</td><td>raw/usr/fiesc/ibge/sidra/</td><td>3681310</td><td>fiesc</td><td>ibge</td><td>sidra</td></tr><tr><td>abfss://datalake@cnibigdatadlsgen2.dfs.core.windows.net/raw/crw/me/comex/ncm_isic/</td><td>raw/crw/me/comex/ncm_isic/</td><td>496225</td><td>me</td><td>comex</td><td>ncm_isic</td></tr><tr><td>abfss://datalake@cnibigdatadlsgen2.dfs.core.windows.net/raw/usr/fiesc/bacen/expec_selic/</td><td>raw/usr/fiesc/bacen/expec_selic/</td><td>19435</td><td>fiesc</td><td>bacen</td><td>expec_selic</td></tr><tr><td>abfss://datalake@cnibigdatadlsgen2.dfs.core.windows.net/raw/crw/fmi_proj/grupo_paises/</td><td>raw/crw/fmi_proj/grupo_paises/</td><td>5667084</td><td>fmi_proj</td><td>grupo_paises</td><td> </td></tr><tr><td>abfss://datalake@cnibigdatadlsgen2.dfs.core.windows.net/raw/crw/vagascom/vagas/</td><td>raw/crw/vagascom/vagas/</td><td>18634094</td><td>vagascom</td><td>vagas</td><td> </td></tr><tr><td>abfss://datalake@cnibigdatadlsgen2.dfs.core.windows.net/raw/crw/inss/cat/</td><td>raw/crw/inss/cat/</td><td>51285781</td><td>inss</td><td>cat</td><td> </td></tr><tr><td>abfss://datalake@cnibigdatadlsgen2.dfs.core.windows.net/raw/crw/inep_saeb/ts_resposta_aluno/</td><td>raw/crw/inep_saeb/ts_resposta_aluno/</td><td>150837479</td><td>inep_saeb</td><td>ts_resposta_aluno</td><td> </td></tr><tr><td>abfss://datalake@cnibigdatadlsgen2.dfs.core.windows.net/raw/crw/ms/sim/</td><td>raw/crw/ms/sim/</td><td>1521164443</td><td>ms</td><td>sim</td><td> </td></tr><tr><td>abfss://datalake@cnibigdatadlsgen2.dfs.core.windows.net/raw/usr/fiesc/IBGE/SIDRA/</td><td>raw/usr/fiesc/IBGE/SIDRA/</td><td>6580754</td><td>fiesc</td><td>IBGE</td><td>SIDRA</td></tr><tr><td>abfss://datalake@cnibigdatadlsgen2.dfs.core.windows.net/raw/crw/ibge/pop_projetada_pessoas_prop/</td><td>raw/crw/ibge/pop_projetada_pessoas_prop/</td><td>543759</td><td>ibge</td><td>pop_projetada_pessoas_prop</td><td> </td></tr><tr><td>abfss://datalake@cnibigdatadlsgen2.dfs.core.windows.net/raw/crw/ms_sinan/canc/</td><td>raw/crw/ms_sinan/canc/</td><td>386781</td><td>ms_sinan</td><td>canc</td><td> </td></tr><tr><td>abfss://datalake@cnibigdatadlsgen2.dfs.core.windows.net/raw/usr/fiesc/bacen/BACEN_METAS_DE_INFLACAO/</td><td>raw/usr/fiesc/bacen/BACEN_METAS_DE_INFLACAO/</td><td>11795</td><td>fiesc</td><td>bacen</td><td>BACEN_METAS_DE_INFLACAO</td></tr><tr><td>abfss://datalake@cnibigdatadlsgen2.dfs.core.windows.net/raw/crw/inep_saeb/saeb_resultado_regiao_unificado/</td><td>raw/crw/inep_saeb/saeb_resultado_regiao_unificado/</td><td>396900</td><td>inep_saeb</td><td>saeb_resultado_regiao_unificado</td><td> </td></tr><tr><td>abfss://datalake@cnibigdatadlsgen2.dfs.core.windows.net/raw/crw/vagascertas/vagas/</td><td>raw/crw/vagascertas/vagas/</td><td>5395958</td><td>vagascertas</td><td>vagas</td><td> </td></tr><tr><td>abfss://datalake@cnibigdatadlsgen2.dfs.core.windows.net/raw/crw/ms_sinan/derm/</td><td>raw/crw/ms_sinan/derm/</td><td>572605</td><td>ms_sinan</td><td>derm</td><td> </td></tr><tr><td>abfss://datalake@cnibigdatadlsgen2.dfs.core.windows.net/raw/crw/inep_prova_brasil/ts_quest_aluno/</td><td>raw/crw/inep_prova_brasil/ts_quest_aluno/</td><td>206146996</td><td>inep_prova_brasil</td><td>ts_quest_aluno</td><td> </td></tr><tr><td>abfss://datalake@cnibigdatadlsgen2.dfs.core.windows.net/raw/usr/uniepro/saude_cid/</td><td>raw/usr/uniepro/saude_cid/</td><td>519245</td><td>uniepro</td><td>uniepro_saude_cid</td><td>saude_cid</td></tr><tr><td>abfss://datalake@cnibigdatadlsgen2.dfs.core.windows.net/raw/usr/fiesc/bacen/inadimplencia_em_credito/</td><td>raw/usr/fiesc/bacen/inadimplencia_em_credito/</td><td>40508</td><td>fiesc</td><td>bacen</td><td>inadimplencia_em_credito</td></tr><tr><td>abfss://datalake@cnibigdatadlsgen2.dfs.core.windows.net/raw/crw/inep_censo_escolar/matriculas/</td><td>raw/crw/inep_censo_escolar/matriculas/</td><td>30621446621</td><td>inep_censo_escolar</td><td>matriculas</td><td> </td></tr><tr><td>abfss://datalake@cnibigdatadlsgen2.dfs.core.windows.net/raw/crw/me/comex/ncm_exp/</td><td>raw/crw/me/comex/ncm_exp/</td><td>477591244</td><td>me</td><td>comex</td><td>ncm_exp</td></tr><tr><td>abfss://datalake@cnibigdatadlsgen2.dfs.core.windows.net/raw/crw/mtp_aeat/motivo_cid/</td><td>raw/crw/mtp_aeat/motivo_cid/</td><td>2779093</td><td>mtp_aeat</td><td>motivo_cid</td><td> </td></tr><tr><td>abfss://datalake@cnibigdatadlsgen2.dfs.core.windows.net/raw/usr/uniepro/monitor_de_vagas/uf/</td><td>raw/usr/uniepro/monitor_de_vagas/uf/</td><td>1858</td><td>uniepro</td><td>uniepro_monitor_de_vagas</td><td>uf</td></tr><tr><td>abfss://datalake@cnibigdatadlsgen2.dfs.core.windows.net/raw/crw/inep_tdi/escolas/</td><td>raw/crw/inep_tdi/escolas/</td><td>84214818</td><td>inep_tdi</td><td>escolas</td><td> </td></tr><tr><td>abfss://datalake@cnibigdatadlsgen2.dfs.core.windows.net/raw/usr/fiesc/sidra/1849_FATO/</td><td>raw/usr/fiesc/sidra/1849_FATO/</td><td>298927</td><td>fiesc</td><td>sidra</td><td>1849_FATO</td></tr><tr><td>abfss://datalake@cnibigdatadlsgen2.dfs.core.windows.net/raw/crw/ibge/pintec_rel_coop_po/</td><td>raw/crw/ibge/pintec_rel_coop_po/</td><td>51440</td><td>ibge</td><td>pintec_rel_coop_po</td><td> </td></tr><tr><td>abfss://datalake@cnibigdatadlsgen2.dfs.core.windows.net/raw/crw/inep_saeb/saeb_resultado_brasil_unificado/</td><td>raw/crw/inep_saeb/saeb_resultado_brasil_unificado/</td><td>209685</td><td>inep_saeb</td><td>saeb_resultado_brasil_unificado</td><td> </td></tr><tr><td>abfss://datalake@cnibigdatadlsgen2.dfs.core.windows.net/raw/crw/inep_iqes/icg/</td><td>raw/crw/inep_iqes/icg/</td><td>898633</td><td>inep_iqes</td><td>icg</td><td> </td></tr><tr><td>abfss://datalake@cnibigdatadlsgen2.dfs.core.windows.net/raw/crw/rfb_cnpj/tabelas_auxiliares/municipio/</td><td>raw/crw/rfb_cnpj/tabelas_auxiliares/municipio/</td><td>103551</td><td>rfb_cnpj</td><td>tabelas_auxiliares</td><td>municipio</td></tr><tr><td>abfss://datalake@cnibigdatadlsgen2.dfs.core.windows.net/raw/usr/fiesc/bacen/expec_tx_cambio/</td><td>raw/usr/fiesc/bacen/expec_tx_cambio/</td><td>11773</td><td>fiesc</td><td>bacen</td><td>expec_tx_cambio</td></tr><tr><td>abfss://datalake@cnibigdatadlsgen2.dfs.core.windows.net/raw/usr/inep_saeb/competencias_e_habilidades_mt/</td><td>raw/usr/inep_saeb/competencias_e_habilidades_mt/</td><td>3132254</td><td>inep_saeb</td><td>competencias_e_habilidades_mt</td><td> </td></tr><tr><td>abfss://datalake@cnibigdatadlsgen2.dfs.core.windows.net/raw/usr/uniepro/monitor_de_vagas/padroes_regex/</td><td>raw/usr/uniepro/monitor_de_vagas/padroes_regex/</td><td>2216</td><td>uniepro</td><td>uniepro_monitor_de_vagas</td><td>padroes_regex</td></tr><tr><td>abfss://datalake@cnibigdatadlsgen2.dfs.core.windows.net/raw/crw/me/comex/ncm_imp/</td><td>raw/crw/me/comex/ncm_imp/</td><td>855327046</td><td>me</td><td>comex</td><td>ncm_imp</td></tr><tr><td>abfss://datalake@cnibigdatadlsgen2.dfs.core.windows.net/raw/crw/inep_afd/escolas/</td><td>raw/crw/inep_afd/escolas/</td><td>61081116</td><td>inep_afd</td><td>escolas</td><td> </td></tr><tr><td>abfss://datalake@cnibigdatadlsgen2.dfs.core.windows.net/raw/crw/inep_prova_brasil/ts_resultado_aluno/</td><td>raw/crw/inep_prova_brasil/ts_resultado_aluno/</td><td>168672408</td><td>inep_prova_brasil</td><td>ts_resultado_aluno</td><td> </td></tr><tr><td>abfss://datalake@cnibigdatadlsgen2.dfs.core.windows.net/raw/crw/me/comex/urf/</td><td>raw/crw/me/comex/urf/</td><td>9253</td><td>me</td><td>comex</td><td>urf</td></tr><tr><td>abfss://datalake@cnibigdatadlsgen2.dfs.core.windows.net/raw/usr/uniepro/grau_instrucao/</td><td>raw/usr/uniepro/grau_instrucao/</td><td>3836</td><td>uniepro</td><td>uniepro_grau_instrucao</td><td>grau_instrucao</td></tr><tr><td>abfss://datalake@cnibigdatadlsgen2.dfs.core.windows.net/raw/crw/ibge/pimpf/</td><td>raw/crw/ibge/pimpf/</td><td>5893736</td><td>ibge</td><td>pimpf</td><td> </td></tr><tr><td>abfss://datalake@cnibigdatadlsgen2.dfs.core.windows.net/raw/crw/ibge/pintec_resp_imp/</td><td>raw/crw/ibge/pintec_resp_imp/</td><td>27024</td><td>ibge</td><td>pintec_resp_imp</td><td> </td></tr><tr><td>abfss://datalake@cnibigdatadlsgen2.dfs.core.windows.net/raw/usr/oni/bases_do_projeto/painel_dos_estados/</td><td>raw/usr/oni/bases_do_projeto/painel_dos_estados/</td><td>45129</td><td>oni</td><td>bases_do_projeto</td><td>painel_dos_estados</td></tr><tr><td>abfss://datalake@cnibigdatadlsgen2.dfs.core.windows.net/raw/crw/rfb_cnpj/regime_tributario/</td><td>raw/crw/rfb_cnpj/regime_tributario/</td><td>127308760</td><td>rfb_cnpj</td><td>regime_tributario</td><td> </td></tr><tr><td>abfss://datalake@cnibigdatadlsgen2.dfs.core.windows.net/raw/usr/inep_censo_escolar/etapa_ensino_agrupada/</td><td>raw/usr/inep_censo_escolar/etapa_ensino_agrupada/</td><td>9456</td><td>inep_censo_escolar</td><td>etapa_ensino_agrupada</td><td> </td></tr><tr><td>abfss://datalake@cnibigdatadlsgen2.dfs.core.windows.net/raw/crw/inep_afd/municipios/</td><td>raw/crw/inep_afd/municipios/</td><td>18816638</td><td>inep_afd</td><td>municipios</td><td> </td></tr><tr><td>abfss://datalake@cnibigdatadlsgen2.dfs.core.windows.net/raw/crw/ms_sinan/ment/</td><td>raw/crw/ms_sinan/ment/</td><td>887930</td><td>ms_sinan</td><td>ment</td><td> </td></tr><tr><td>abfss://datalake@cnibigdatadlsgen2.dfs.core.windows.net/raw/crw/inep_tdi/municipios/</td><td>raw/crw/inep_tdi/municipios/</td><td>23188399</td><td>inep_tdi</td><td>municipios</td><td> </td></tr><tr><td>abfss://datalake@cnibigdatadlsgen2.dfs.core.windows.net/raw/crw/ibge/piaemp_aquisicoes/</td><td>raw/crw/ibge/piaemp_aquisicoes/</td><td>331905</td><td>ibge</td><td>piaemp_aquisicoes</td><td> </td></tr><tr><td>abfss://datalake@cnibigdatadlsgen2.dfs.core.windows.net/raw/crw/ms_sinan/pair/</td><td>raw/crw/ms_sinan/pair/</td><td>639925</td><td>ms_sinan</td><td>pair</td><td> </td></tr><tr><td>abfss://datalake@cnibigdatadlsgen2.dfs.core.windows.net/raw/crw/rfb/cno/cno_totais/</td><td>raw/crw/rfb/cno/cno_totais/</td><td>3505</td><td>rfb</td><td>cno</td><td>cno_totais</td></tr><tr><td>abfss://datalake@cnibigdatadlsgen2.dfs.core.windows.net/raw/usr/oni/ibge/geo_uf/</td><td>raw/usr/oni/ibge/geo_uf/</td><td>5090</td><td>oni</td><td>ibge</td><td>geo_uf</td></tr><tr><td>abfss://datalake@cnibigdatadlsgen2.dfs.core.windows.net/raw/usr/oni/bases_do_projeto/aprendizagem/</td><td>raw/usr/oni/bases_do_projeto/aprendizagem/</td><td>10835</td><td>oni</td><td>bases_do_projeto</td><td>aprendizagem</td></tr><tr><td>abfss://datalake@cnibigdatadlsgen2.dfs.core.windows.net/raw/crw/inep_rmd/brasil_regioes_e_ufs/</td><td>raw/crw/inep_rmd/brasil_regioes_e_ufs/</td><td>88654</td><td>inep_rmd</td><td>brasil_regioes_e_ufs</td><td> </td></tr><tr><td>abfss://datalake@cnibigdatadlsgen2.dfs.core.windows.net/raw/crw/inep_taxa_rendimento/brasil_regioes_e_ufs/</td><td>raw/crw/inep_taxa_rendimento/brasil_regioes_e_ufs/</td><td>1166136</td><td>inep_taxa_rendimento</td><td>brasil_regioes_e_ufs</td><td> </td></tr><tr><td>abfss://datalake@cnibigdatadlsgen2.dfs.core.windows.net/raw/crw/me/novo_caged_exc/</td><td>raw/crw/me/novo_caged_exc/</td><td>5474381</td><td>me</td><td>novo_caged_exc</td><td> </td></tr><tr><td>abfss://datalake@cnibigdatadlsgen2.dfs.core.windows.net/raw/usr/fiesc/ibge/pib/</td><td>raw/usr/fiesc/ibge/pib/</td><td>1740346</td><td>fiesc</td><td>ibge</td><td>pib</td></tr><tr><td>abfss://datalake@cnibigdatadlsgen2.dfs.core.windows.net/raw/crw/ibge/pintec_tipo_programa/</td><td>raw/crw/ibge/pintec_tipo_programa/</td><td>7016</td><td>ibge</td><td>pintec_tipo_programa</td><td> </td></tr><tr><td>abfss://datalake@cnibigdatadlsgen2.dfs.core.windows.net/raw/crw/banco_mundial/documentacao_indica/</td><td>raw/crw/banco_mundial/documentacao_indica/</td><td>39152</td><td>banco_mundial</td><td>documentacao_indica</td><td> </td></tr><tr><td>abfss://datalake@cnibigdatadlsgen2.dfs.core.windows.net/raw/crw/rfb_cnpj/tabelas_auxiliares/pais/</td><td>raw/crw/rfb_cnpj/tabelas_auxiliares/pais/</td><td>7922</td><td>rfb_cnpj</td><td>tabelas_auxiliares</td><td>pais</td></tr><tr><td>abfss://datalake@cnibigdatadlsgen2.dfs.core.windows.net/raw/crw/ibge/piaemp/</td><td>raw/crw/ibge/piaemp/</td><td>253823</td><td>ibge</td><td>piaemp</td><td> </td></tr><tr><td>abfss://datalake@cnibigdatadlsgen2.dfs.core.windows.net/raw/crw/me/comex/ncm_ppi/</td><td>raw/crw/me/comex/ncm_ppi/</td><td>485009</td><td>me</td><td>comex</td><td>ncm_ppi</td></tr><tr><td>abfss://datalake@cnibigdatadlsgen2.dfs.core.windows.net/raw/usr/me/cadastro_cbo_familia/</td><td>raw/usr/me/cadastro_cbo_familia/</td><td>2070339</td><td>me</td><td>cadastro_cbo_familia</td><td> </td></tr><tr><td>abfss://datalake@cnibigdatadlsgen2.dfs.core.windows.net/raw/crw/ibge/pop_projetada_indicadores_implicitos/</td><td>raw/crw/ibge/pop_projetada_indicadores_implicitos/</td><td>699756</td><td>ibge</td><td>pop_projetada_indicadores_implicitos</td><td> </td></tr><tr><td>abfss://datalake@cnibigdatadlsgen2.dfs.core.windows.net/raw/usr/fiesc/bacen/inpc/</td><td>raw/usr/fiesc/bacen/inpc/</td><td>655568</td><td>fiesc</td><td>bacen</td><td>inpc</td></tr><tr><td>abfss://datalake@cnibigdatadlsgen2.dfs.core.windows.net/raw/usr/inep_saeb/competencias_e_habilidades_ajuste_lp/</td><td>raw/usr/inep_saeb/competencias_e_habilidades_ajuste_lp/</td><td>112235</td><td>inep_saeb</td><td>competencias_e_habilidades_ajuste_lp</td><td> </td></tr><tr><td>abfss://datalake@cnibigdatadlsgen2.dfs.core.windows.net/raw/crw/inep_inse/socioeconomico/</td><td>raw/crw/inep_inse/socioeconomico/</td><td>7991152</td><td>inep_inse</td><td>socioeconomico</td><td> </td></tr><tr><td>abfss://datalake@cnibigdatadlsgen2.dfs.core.windows.net/raw/crw/inep_saeb/prova_brasil_2015/</td><td>raw/crw/inep_saeb/prova_brasil_2015/</td><td>611196508</td><td>inep_saeb</td><td>prova_brasil_2015</td><td> </td></tr><tr><td>abfss://datalake@cnibigdatadlsgen2.dfs.core.windows.net/raw/crw/inep_censo_escolar/docente/</td><td>raw/crw/inep_censo_escolar/docente/</td><td>4081211276</td><td>inep_censo_escolar</td><td>docente</td><td> </td></tr><tr><td>abfss://datalake@cnibigdatadlsgen2.dfs.core.windows.net/raw/crw/inep_saeb/saeb_diretor_unificada/</td><td>raw/crw/inep_saeb/saeb_diretor_unificada/</td><td>11649859</td><td>inep_saeb</td><td>saeb_diretor_unificada</td><td> </td></tr><tr><td>abfss://datalake@cnibigdatadlsgen2.dfs.core.windows.net/raw/usr/inep_enem/parametros_rampa/</td><td>raw/usr/inep_enem/parametros_rampa/</td><td>3703</td><td>inep_enem</td><td>parametros_rampa</td><td> </td></tr><tr><td>abfss://datalake@cnibigdatadlsgen2.dfs.core.windows.net/raw/crw/inep_dsu/escolas/</td><td>raw/crw/inep_dsu/escolas/</td><td>55774624</td><td>inep_dsu</td><td>escolas</td><td> </td></tr><tr><td>abfss://datalake@cnibigdatadlsgen2.dfs.core.windows.net/raw/crw/inep_saeb/saeb_resultado_municipio_unificado/</td><td>raw/crw/inep_saeb/saeb_resultado_municipio_unificado/</td><td>11338349</td><td>inep_saeb</td><td>saeb_resultado_municipio_unificado</td><td> </td></tr><tr><td>abfss://datalake@cnibigdatadlsgen2.dfs.core.windows.net/raw/usr/fiesc/bacen/ind_atv_eco/</td><td>raw/usr/fiesc/bacen/ind_atv_eco/</td><td>32040</td><td>fiesc</td><td>bacen</td><td>ind_atv_eco</td></tr><tr><td>abfss://datalake@cnibigdatadlsgen2.dfs.core.windows.net/raw/usr/uniepro/fmi_proj/</td><td>raw/usr/uniepro/fmi_proj/</td><td>18864</td><td>uniepro</td><td>uniepro_fmi_proj</td><td>fmi_proj</td></tr><tr><td>abfss://datalake@cnibigdatadlsgen2.dfs.core.windows.net/raw/crw/me/comex/uf/</td><td>raw/crw/me/comex/uf/</td><td>4009</td><td>me</td><td>comex</td><td>uf</td></tr><tr><td>abfss://datalake@cnibigdatadlsgen2.dfs.core.windows.net/raw/usr/me/rais_estabelecimento/</td><td>raw/usr/me/rais_estabelecimento/</td><td>4284703790</td><td>me</td><td>rais_estabelecimento</td><td> </td></tr><tr><td>abfss://datalake@cnibigdatadlsgen2.dfs.core.windows.net/raw/usr/ocde/intensidade_tecnol/</td><td>raw/usr/ocde/intensidade_tecnol/</td><td>5883</td><td>ocde</td><td>intensidade_tecnol</td><td> </td></tr><tr><td>abfss://datalake@cnibigdatadlsgen2.dfs.core.windows.net/raw/usr/ibge/deflator_pnad/</td><td>raw/usr/ibge/deflator_pnad/</td><td>55204</td><td>ibge</td><td>deflator_pnad</td><td> </td></tr><tr><td>abfss://datalake@cnibigdatadlsgen2.dfs.core.windows.net/raw/crw/me/comex/mun_imp/</td><td>raw/crw/me/comex/mun_imp/</td><td>465475739</td><td>me</td><td>comex</td><td>mun_imp</td></tr><tr><td>abfss://datalake@cnibigdatadlsgen2.dfs.core.windows.net/raw/crw/ibge/scnt_valor_preco_correntes_unificado/</td><td>raw/crw/ibge/scnt_valor_preco_correntes_unificado/</td><td>32981</td><td>ibge</td><td>scnt_valor_preco_correntes_unificado</td><td> </td></tr><tr><td>abfss://datalake@cnibigdatadlsgen2.dfs.core.windows.net/raw/crw/rfb/cno/cno/</td><td>raw/crw/rfb/cno/cno/</td><td>179666924</td><td>rfb</td><td>cno</td><td> </td></tr><tr><td>abfss://datalake@cnibigdatadlsgen2.dfs.core.windows.net/raw/crw/inep_atu/escolas/</td><td>raw/crw/inep_atu/escolas/</td><td>96615332</td><td>inep_atu</td><td>escolas</td><td> </td></tr><tr><td>abfss://datalake@cnibigdatadlsgen2.dfs.core.windows.net/raw/crw/inep_rmd/municipios/</td><td>raw/crw/inep_rmd/municipios/</td><td>2785003</td><td>inep_rmd</td><td>municipios</td><td> </td></tr><tr><td>abfss://datalake@cnibigdatadlsgen2.dfs.core.windows.net/raw/crw/me/novo_caged_mov/</td><td>raw/crw/me/novo_caged_mov/</td><td>2032965261</td><td>me</td><td>novo_caged_mov</td><td> </td></tr><tr><td>abfss://datalake@cnibigdatadlsgen2.dfs.core.windows.net/raw/usr/oni/bases_do_projeto/mapa_do_trabalho/</td><td>raw/usr/oni/bases_do_projeto/mapa_do_trabalho/</td><td>2006986417</td><td>oni</td><td>bases_do_projeto</td><td>mapa_do_trabalho</td></tr><tr><td>abfss://datalake@cnibigdatadlsgen2.dfs.core.windows.net/raw/crw/ibge/relatorio_dtb_brasil_municipio/</td><td>raw/crw/ibge/relatorio_dtb_brasil_municipio/</td><td>908581</td><td>ibge</td><td>relatorio_dtb_brasil_municipio</td><td> </td></tr><tr><td>abfss://datalake@cnibigdatadlsgen2.dfs.core.windows.net/raw/crw/mtp_aeat/conseq_div/</td><td>raw/crw/mtp_aeat/conseq_div/</td><td>614240</td><td>mtp_aeat</td><td>conseq_div</td><td> </td></tr><tr><td>abfss://datalake@cnibigdatadlsgen2.dfs.core.windows.net/raw/crw/ibge/pintec_grau_nov_imp/</td><td>raw/crw/ibge/pintec_grau_nov_imp/</td><td>43613</td><td>ibge</td><td>pintec_grau_nov_imp</td><td> </td></tr><tr><td>abfss://datalake@cnibigdatadlsgen2.dfs.core.windows.net/raw/crw/ibge/pintec_prod_vend_int_po/</td><td>raw/crw/ibge/pintec_prod_vend_int_po/</td><td>28865</td><td>ibge</td><td>pintec_prod_vend_int_po</td><td> </td></tr><tr><td>abfss://datalake@cnibigdatadlsgen2.dfs.core.windows.net/raw/crw/ms_sinan/anim/</td><td>raw/crw/ms_sinan/anim/</td><td>74453099</td><td>ms_sinan</td><td>anim</td><td> </td></tr><tr><td>abfss://datalake@cnibigdatadlsgen2.dfs.core.windows.net/raw/crw/aco_brasil/prod_aco_nacional/</td><td>raw/crw/aco_brasil/prod_aco_nacional/</td><td>54263</td><td>aco_brasil</td><td>prod_aco_nacional</td><td> </td></tr><tr><td>abfss://datalake@cnibigdatadlsgen2.dfs.core.windows.net/raw/usr/fiesc/bacen/igpm/</td><td>raw/usr/fiesc/bacen/igpm/</td><td>9370</td><td>fiesc</td><td>bacen</td><td>igpm</td></tr><tr><td>abfss://datalake@cnibigdatadlsgen2.dfs.core.windows.net/raw/usr/oni/bases_do_projeto/monitor_de_vagas/</td><td>raw/usr/oni/bases_do_projeto/monitor_de_vagas/</td><td>9641</td><td>oni</td><td>bases_do_projeto</td><td>monitor_de_vagas</td></tr><tr><td>abfss://datalake@cnibigdatadlsgen2.dfs.core.windows.net/raw/crw/ibge/pintec_rel_coop_loc/</td><td>raw/crw/ibge/pintec_rel_coop_loc/</td><td>41533</td><td>ibge</td><td>pintec_rel_coop_loc</td><td> </td></tr><tr><td>abfss://datalake@cnibigdatadlsgen2.dfs.core.windows.net/raw/crw/ms_sinan/acbi/</td><td>raw/crw/ms_sinan/acbi/</td><td>26707658</td><td>ms_sinan</td><td>acbi</td><td> </td></tr><tr><td>abfss://datalake@cnibigdatadlsgen2.dfs.core.windows.net/raw/crw/ms_sinan/lerd/</td><td>raw/crw/ms_sinan/lerd/</td><td>4085373</td><td>ms_sinan</td><td>lerd</td><td> </td></tr><tr><td>abfss://datalake@cnibigdatadlsgen2.dfs.core.windows.net/raw/usr/uniepro/ibge_municipios/</td><td>raw/usr/uniepro/ibge_municipios/</td><td>379721</td><td>uniepro</td><td>uniepro_ibge_municipios</td><td>ibge_municipios</td></tr><tr><td>abfss://datalake@cnibigdatadlsgen2.dfs.core.windows.net/raw/usr/uniepro/rfb/siafi/</td><td>raw/usr/uniepro/rfb/siafi/</td><td>166059</td><td>uniepro</td><td>uniepro_rfb</td><td>siafi</td></tr><tr><td>abfss://datalake@cnibigdatadlsgen2.dfs.core.windows.net/raw/crw/ibge/pop_projetada_expectativa_txmortal/</td><td>raw/crw/ibge/pop_projetada_expectativa_txmortal/</td><td>478232</td><td>ibge</td><td>pop_projetada_expectativa_txmortal</td><td> </td></tr><tr><td>abfss://datalake@cnibigdatadlsgen2.dfs.core.windows.net/raw/crw/ibge/pintec_org_mkt_po/</td><td>raw/crw/ibge/pintec_org_mkt_po/</td><td>37248</td><td>ibge</td><td>pintec_org_mkt_po</td><td> </td></tr><tr><td>abfss://datalake@cnibigdatadlsgen2.dfs.core.windows.net/raw/crw/ms_sinan/pneu/</td><td>raw/crw/ms_sinan/pneu/</td><td>436450</td><td>ms_sinan</td><td>pneu</td><td> </td></tr><tr><td>abfss://datalake@cnibigdatadlsgen2.dfs.core.windows.net/raw/crw/ibge/pop_projetada_pop_sex_idade/</td><td>raw/crw/ibge/pop_projetada_pop_sex_idade/</td><td>5752440</td><td>ibge</td><td>pop_projetada_pop_sex_idade</td><td> </td></tr><tr><td>abfss://datalake@cnibigdatadlsgen2.dfs.core.windows.net/raw/crw/catho/vagas/</td><td>raw/crw/catho/vagas/</td><td>152682509</td><td>catho</td><td>vagas</td><td> </td></tr><tr><td>abfss://datalake@cnibigdatadlsgen2.dfs.core.windows.net/raw/usr/uniepro/base_escolas/</td><td>raw/usr/uniepro/base_escolas/</td><td>23127777</td><td>uniepro</td><td>uniepro_base_escolas</td><td>base_escolas</td></tr><tr><td>abfss://datalake@cnibigdatadlsgen2.dfs.core.windows.net/raw/usr/uniepro/monitor_de_vagas/dicionarios/</td><td>raw/usr/uniepro/monitor_de_vagas/dicionarios/</td><td>7425</td><td>uniepro</td><td>uniepro_monitor_de_vagas</td><td>dicionarios</td></tr><tr><td>abfss://datalake@cnibigdatadlsgen2.dfs.core.windows.net/raw/crw/banco_mundial/documentacao_paises/</td><td>raw/crw/banco_mundial/documentacao_paises/</td><td>23048</td><td>banco_mundial</td><td>documentacao_paises</td><td> </td></tr><tr><td>abfss://datalake@cnibigdatadlsgen2.dfs.core.windows.net/raw/crw/me/novo_caged_for/</td><td>raw/crw/me/novo_caged_for/</td><td>109206596</td><td>me</td><td>novo_caged_for</td><td> </td></tr><tr><td>abfss://datalake@cnibigdatadlsgen2.dfs.core.windows.net/raw/usr/devops/</td><td>raw/usr/devops/</td><td>This request is not authorized</td><td>devops</td><td></td><td> </td></tr><tr><td>abfss://datalake@cnibigdatadlsgen2.dfs.core.windows.net/raw/usr/fiesc/bacen/taxa/</td><td>raw/usr/fiesc/bacen/taxa/</td><td>34256</td><td>fiesc</td><td>bacen</td><td>taxa</td></tr><tr><td>abfss://datalake@cnibigdatadlsgen2.dfs.core.windows.net/raw/crw/ibge/scnt_volume_se_unificado/</td><td>raw/crw/ibge/scnt_volume_se_unificado/</td><td>28325</td><td>ibge</td><td>scnt_volume_se_unificado</td><td> </td></tr><tr><td>abfss://datalake@cnibigdatadlsgen2.dfs.core.windows.net/raw/crw/rfb_cnpj/cadastro_socio/</td><td>raw/crw/rfb_cnpj/cadastro_socio/</td><td>771129581</td><td>rfb_cnpj</td><td>cadastro_socio</td><td> </td></tr><tr><td>abfss://datalake@cnibigdatadlsgen2.dfs.core.windows.net/raw/usr/me/cadastro_cbo_perfil_ocupacional/</td><td>raw/usr/me/cadastro_cbo_perfil_ocupacional/</td><td>1562049</td><td>me</td><td>cadastro_cbo_perfil_ocupacional</td><td> </td></tr><tr><td>abfss://datalake@cnibigdatadlsgen2.dfs.core.windows.net/raw/crw/ibge/deflatores/</td><td>raw/crw/ibge/deflatores/</td><td>67885</td><td>ibge</td><td>deflatores</td><td> </td></tr><tr><td>abfss://datalake@cnibigdatadlsgen2.dfs.core.windows.net/raw/usr/fiesc/ibge/pesq_men_com/</td><td>raw/usr/fiesc/ibge/pesq_men_com/</td><td>116597</td><td>fiesc</td><td>ibge</td><td>pesq_men_com</td></tr><tr><td>abfss://datalake@cnibigdatadlsgen2.dfs.core.windows.net/raw/crw/ibge/pintec_tipo_inov_proj/</td><td>raw/crw/ibge/pintec_tipo_inov_proj/</td><td>41451</td><td>ibge</td><td>pintec_tipo_inov_proj</td><td> </td></tr><tr><td>abfss://datalake@cnibigdatadlsgen2.dfs.core.windows.net/raw/crw/mec/pnp_fin/</td><td>raw/crw/mec/pnp_fin/</td><td>86308</td><td>mec</td><td>pnp_fin</td><td> </td></tr><tr><td>abfss://datalake@cnibigdatadlsgen2.dfs.core.windows.net/raw/crw/ibge/pia_produto_vti/</td><td>raw/crw/ibge/pia_produto_vti/</td><td>310733</td><td>ibge</td><td>pia_produto_vti</td><td> </td></tr><tr><td>abfss://datalake@cnibigdatadlsgen2.dfs.core.windows.net/raw/crw/aneel/gera_energia_distrib/</td><td>raw/crw/aneel/gera_energia_distrib/</td><td>39050620</td><td>aneel</td><td>gera_energia_distrib</td><td> </td></tr><tr><td>abfss://datalake@cnibigdatadlsgen2.dfs.core.windows.net/raw/crw/ibge/scnt_volume_tx_unificado/</td><td>raw/crw/ibge/scnt_volume_tx_unificado/</td><td>59808</td><td>ibge</td><td>scnt_volume_tx_unificado</td><td> </td></tr><tr><td>abfss://datalake@cnibigdatadlsgen2.dfs.core.windows.net/raw/crw/ibge/pintec_bio_nano_po/</td><td>raw/crw/ibge/pintec_bio_nano_po/</td><td>25917</td><td>ibge</td><td>pintec_bio_nano_po</td><td> </td></tr><tr><td>abfss://datalake@cnibigdatadlsgen2.dfs.core.windows.net/raw/crw/me/comex/ncm_siit/</td><td>raw/crw/me/comex/ncm_siit/</td><td>433767</td><td>me</td><td>comex</td><td>ncm_siit</td></tr><tr><td>abfss://datalake@cnibigdatadlsgen2.dfs.core.windows.net/raw/usr/uniepro/faixa_etaria/</td><td>raw/usr/uniepro/faixa_etaria/</td><td>4146</td><td>uniepro</td><td>uniepro_faixa_etaria</td><td>faixa_etaria</td></tr><tr><td>abfss://datalake@cnibigdatadlsgen2.dfs.core.windows.net/raw/usr/inep_saeb/mascara_escolas_sesi/</td><td>raw/usr/inep_saeb/mascara_escolas_sesi/</td><td>7105</td><td>inep_saeb</td><td>mascara_escolas_sesi</td><td> </td></tr><tr><td>abfss://datalake@cnibigdatadlsgen2.dfs.core.windows.net/raw/crw/banco_mundial/indicadores_selecionados/</td><td>raw/crw/banco_mundial/indicadores_selecionados/</td><td>4687971</td><td>banco_mundial</td><td>indicadores_selecionados</td><td> </td></tr><tr><td>abfss://datalake@cnibigdatadlsgen2.dfs.core.windows.net/raw/crw/ibge/pintec_prob_obst_po/</td><td>raw/crw/ibge/pintec_prob_obst_po/</td><td>134258</td><td>ibge</td><td>pintec_prob_obst_po</td><td> </td></tr><tr><td>abfss://datalake@cnibigdatadlsgen2.dfs.core.windows.net/raw/crw/ibge/pnadc_a_visita2/</td><td>raw/crw/ibge/pnadc_a_visita2/</td><td>469948171</td><td>ibge</td><td>pnadc_a_visita2</td><td> </td></tr><tr><td>abfss://datalake@cnibigdatadlsgen2.dfs.core.windows.net/raw/crw/ibge/scnt_contas_economicas_unificado/</td><td>raw/crw/ibge/scnt_contas_economicas_unificado/</td><td>18931</td><td>ibge</td><td>scnt_contas_economicas_unificado</td><td> </td></tr><tr><td>abfss://datalake@cnibigdatadlsgen2.dfs.core.windows.net/raw/usr/fiesc/ibge/paic/</td><td>raw/usr/fiesc/ibge/paic/</td><td>321989</td><td>fiesc</td><td>ibge</td><td>paic</td></tr><tr><td>abfss://datalake@cnibigdatadlsgen2.dfs.core.windows.net/raw/crw/ibge/pnadc_a_deflatores/</td><td>raw/crw/ibge/pnadc_a_deflatores/</td><td>68355</td><td>ibge</td><td>pnadc_a_deflatores</td><td> </td></tr><tr><td>abfss://datalake@cnibigdatadlsgen2.dfs.core.windows.net/raw/crw/inep_had/escolas/</td><td>raw/crw/inep_had/escolas/</td><td>62164208</td><td>inep_had</td><td>escolas</td><td> </td></tr><tr><td>abfss://datalake@cnibigdatadlsgen2.dfs.core.windows.net/raw/crw/iea/carvao_estatisticas/</td><td>raw/crw/iea/carvao_estatisticas/</td><td>15296</td><td>iea</td><td>carvao_estatisticas</td><td> </td></tr><tr><td>abfss://datalake@cnibigdatadlsgen2.dfs.core.windows.net/raw/usr/fiesc/bacen/expec_prod_ind/</td><td>raw/usr/fiesc/bacen/expec_prod_ind/</td><td>44716</td><td>fiesc</td><td>bacen</td><td>expec_prod_ind</td></tr><tr><td>abfss://datalake@cnibigdatadlsgen2.dfs.core.windows.net/raw/usr/me/cadastro_cbo_sinonimo/</td><td>raw/usr/me/cadastro_cbo_sinonimo/</td><td>124047</td><td>me</td><td>cadastro_cbo_sinonimo</td><td> </td></tr><tr><td>abfss://datalake@cnibigdatadlsgen2.dfs.core.windows.net/raw/crw/inep_saeb/ts_resultado_aluno/</td><td>raw/crw/inep_saeb/ts_resultado_aluno/</td><td>106541076</td><td>inep_saeb</td><td>ts_resultado_aluno</td><td> </td></tr><tr><td>abfss://datalake@cnibigdatadlsgen2.dfs.core.windows.net/raw/crw/fmi_proj/pais/</td><td>raw/crw/fmi_proj/pais/</td><td>71982620</td><td>fmi_proj</td><td>pais</td><td> </td></tr><tr><td>abfss://datalake@cnibigdatadlsgen2.dfs.core.windows.net/raw/crw/ibge/scnt_valor_preco1995_saz_unificado/</td><td>raw/crw/ibge/scnt_valor_preco1995_saz_unificado/</td><td>30314</td><td>ibge</td><td>scnt_valor_preco1995_saz_unificado</td><td> </td></tr><tr><td>abfss://datalake@cnibigdatadlsgen2.dfs.core.windows.net/raw/crw/inep_icg/escolas/</td><td>raw/crw/inep_icg/escolas/</td><td>43313967</td><td>inep_icg</td><td>escolas</td><td> </td></tr><tr><td>abfss://datalake@cnibigdatadlsgen2.dfs.core.windows.net/raw/crw/inep_saeb/saeb_professor_unificada/</td><td>raw/crw/inep_saeb/saeb_professor_unificada/</td><td>76906195</td><td>inep_saeb</td><td>saeb_professor_unificada</td><td> </td></tr><tr><td>abfss://datalake@cnibigdatadlsgen2.dfs.core.windows.net/raw/crw/inep_saeb/saeb_resultado_uf_unificado/</td><td>raw/crw/inep_saeb/saeb_resultado_uf_unificado/</td><td>1091790</td><td>inep_saeb</td><td>saeb_resultado_uf_unificado</td><td> </td></tr><tr><td>abfss://datalake@cnibigdatadlsgen2.dfs.core.windows.net/raw/crw/inep_taxa_rendimento/escolas/</td><td>raw/crw/inep_taxa_rendimento/escolas/</td><td>114091056</td><td>inep_taxa_rendimento</td><td>escolas</td><td> </td></tr><tr><td>abfss://datalake@cnibigdatadlsgen2.dfs.core.windows.net/raw/crw/me/comex/ncm_ppe/</td><td>raw/crw/me/comex/ncm_ppe/</td><td>477588</td><td>me</td><td>comex</td><td>ncm_ppe</td></tr><tr><td>abfss://datalake@cnibigdatadlsgen2.dfs.core.windows.net/raw/crw/ms/sih_rd/</td><td>raw/crw/ms/sih_rd/</td><td>3474922211</td><td>ms</td><td>sih_rd</td><td> </td></tr><tr><td>abfss://datalake@cnibigdatadlsgen2.dfs.core.windows.net/raw/crw/oni/ibge/gini/</td><td>raw/crw/oni/ibge/gini/</td><td>8887</td><td>oni</td><td>ibge</td><td>gini</td></tr><tr><td>abfss://datalake@cnibigdatadlsgen2.dfs.core.windows.net/raw/crw/rfb/cno/cno_vinculos/</td><td>raw/crw/rfb/cno/cno_vinculos/</td><td>3342039</td><td>rfb</td><td>cno</td><td>cno_vinculos</td></tr><tr><td>abfss://datalake@cnibigdatadlsgen2.dfs.core.windows.net/raw/crw/mec/pnp_mat/</td><td>raw/crw/mec/pnp_mat/</td><td>114994615</td><td>mec</td><td>pnp_mat</td><td> </td></tr><tr><td>abfss://datalake@cnibigdatadlsgen2.dfs.core.windows.net/raw/crw/mtp_aeat/acid_obi_mun/</td><td>raw/crw/mtp_aeat/acid_obi_mun/</td><td>3236056</td><td>mtp_aeat</td><td>acid_obi_mun</td><td> </td></tr><tr><td>abfss://datalake@cnibigdatadlsgen2.dfs.core.windows.net/raw/crw/ibge/pintec_rel_coop_loc_po/</td><td>raw/crw/ibge/pintec_rel_coop_loc_po/</td><td>64831</td><td>ibge</td><td>pintec_rel_coop_loc_po</td><td> </td></tr><tr><td>abfss://datalake@cnibigdatadlsgen2.dfs.core.windows.net/raw/crw/ocde/projecoes_economicas/</td><td>raw/crw/ocde/projecoes_economicas/</td><td>1161173</td><td>ocde</td><td>projecoes_economicas</td><td> </td></tr><tr><td>abfss://datalake@cnibigdatadlsgen2.dfs.core.windows.net/raw/crw/inep_enem/microdados_enem/</td><td>raw/crw/inep_enem/microdados_enem/</td><td>7860326857</td><td>inep_enem</td><td>microdados_enem</td><td> </td></tr><tr><td>abfss://datalake@cnibigdatadlsgen2.dfs.core.windows.net/raw/crw/inep_had/brasil_regioes_e_ufs/</td><td>raw/crw/inep_had/brasil_regioes_e_ufs/</td><td>405063</td><td>inep_had</td><td>brasil_regioes_e_ufs</td><td> </td></tr><tr><td>abfss://datalake@cnibigdatadlsgen2.dfs.core.windows.net/raw/usr/fiesc/me/comex/</td><td>raw/usr/fiesc/me/comex/</td><td>4725690974</td><td>fiesc</td><td>me</td><td>comex</td></tr><tr><td>abfss://datalake@cnibigdatadlsgen2.dfs.core.windows.net/raw/crw/me/comex/pais/</td><td>raw/crw/me/comex/pais/</td><td>17784</td><td>me</td><td>comex</td><td>pais</td></tr><tr><td>abfss://datalake@cnibigdatadlsgen2.dfs.core.windows.net/raw/usr/fiesc/ibge/inpc/</td><td>raw/usr/fiesc/ibge/inpc/</td><td>6928520</td><td>fiesc</td><td>ibge</td><td>inpc</td></tr><tr><td>abfss://datalake@cnibigdatadlsgen2.dfs.core.windows.net/raw/crw/inep_saeb/ts_quest_aluno/</td><td>raw/crw/inep_saeb/ts_quest_aluno/</td><td>219761567</td><td>inep_saeb</td><td>ts_quest_aluno</td><td> </td></tr><tr><td>abfss://datalake@cnibigdatadlsgen2.dfs.core.windows.net/raw/crw/inguru/news/</td><td>raw/crw/inguru/news/</td><td>87949</td><td>inguru</td><td>news</td><td> </td></tr><tr><td>abfss://datalake@cnibigdatadlsgen2.dfs.core.windows.net/raw/crw/me/caged/</td><td>raw/crw/me/caged/</td><td>6581994671</td><td>me</td><td>caged</td><td> </td></tr><tr><td>abfss://datalake@cnibigdatadlsgen2.dfs.core.windows.net/raw/crw/rfb/cno/cno_areas/</td><td>raw/crw/rfb/cno/cno_areas/</td><td>33143239</td><td>rfb</td><td>cno</td><td>cno_areas</td></tr><tr><td>abfss://datalake@cnibigdatadlsgen2.dfs.core.windows.net/raw/crw/inep_censo_escolar/turmas/</td><td>raw/crw/inep_censo_escolar/turmas/</td><td>798277871</td><td>inep_censo_escolar</td><td>turmas</td><td> </td></tr><tr><td>abfss://datalake@cnibigdatadlsgen2.dfs.core.windows.net/raw/crw/rfb_cnpj/tabelas_auxiliares/motivo/</td><td>raw/crw/rfb_cnpj/tabelas_auxiliares/motivo/</td><td>4640</td><td>rfb_cnpj</td><td>tabelas_auxiliares</td><td>motivo</td></tr><tr><td>abfss://datalake@cnibigdatadlsgen2.dfs.core.windows.net/raw/usr/me/rais_vinculo/</td><td>raw/usr/me/rais_vinculo/</td><td>111718297966</td><td>me</td><td>rais_vinculo</td><td> </td></tr><tr><td>abfss://datalake@cnibigdatadlsgen2.dfs.core.windows.net/raw/crw/rfb_cnpj/tabelas_auxiliares/nat_juridica/</td><td>raw/crw/rfb_cnpj/tabelas_auxiliares/nat_juridica/</td><td>5363</td><td>rfb_cnpj</td><td>tabelas_auxiliares</td><td>nat_juridica</td></tr><tr><td>abfss://datalake@cnibigdatadlsgen2.dfs.core.windows.net/raw/crw/inep_had/municipios/</td><td>raw/crw/inep_had/municipios/</td><td>12371046</td><td>inep_had</td><td>municipios</td><td> </td></tr><tr><td>abfss://datalake@cnibigdatadlsgen2.dfs.core.windows.net/raw/usr/uniepro/ocup_indust_cbodom/</td><td>raw/usr/uniepro/ocup_indust_cbodom/</td><td>16666</td><td>uniepro</td><td>uniepro_ocup_indust_cbodom</td><td>ocup_indust_cbodom</td></tr><tr><td>abfss://datalake@cnibigdatadlsgen2.dfs.core.windows.net/raw/crw/inep_saeb/prova_brasil_2013/</td><td>raw/crw/inep_saeb/prova_brasil_2013/</td><td>629787752</td><td>inep_saeb</td><td>prova_brasil_2013</td><td> </td></tr><tr><td>abfss://datalake@cnibigdatadlsgen2.dfs.core.windows.net/raw/crw/ms/sih_sp/</td><td>raw/crw/ms/sih_sp/</td><td>23907332108</td><td>ms</td><td>sih_sp</td><td> </td></tr><tr><td>abfss://datalake@cnibigdatadlsgen2.dfs.core.windows.net/raw/crw/worldsteel/indicadores_selecionados/</td><td>raw/crw/worldsteel/indicadores_selecionados/</td><td>38738</td><td>worldsteel</td><td>indicadores_selecionados</td><td> </td></tr><tr><td>abfss://datalake@cnibigdatadlsgen2.dfs.core.windows.net/raw/usr/inep_saeb/competencias_e_habilidades_ajuste_mt/</td><td>raw/usr/inep_saeb/competencias_e_habilidades_ajuste_mt/</td><td>124264</td><td>inep_saeb</td><td>competencias_e_habilidades_ajuste_mt</td><td> </td></tr><tr><td>abfss://datalake@cnibigdatadlsgen2.dfs.core.windows.net/raw/crw/inep_dsu/municipios/</td><td>raw/crw/inep_dsu/municipios/</td><td>9491765</td><td>inep_dsu</td><td>municipios</td><td> </td></tr><tr><td>abfss://datalake@cnibigdatadlsgen2.dfs.core.windows.net/raw/crw/inep_prova_brasil/ts_resposta_aluno/</td><td>raw/crw/inep_prova_brasil/ts_resposta_aluno/</td><td>251361551</td><td>inep_prova_brasil</td><td>ts_resposta_aluno</td><td> </td></tr><tr><td>abfss://datalake@cnibigdatadlsgen2.dfs.core.windows.net/raw/crw/me/comex/uf_mun/</td><td>raw/crw/me/comex/uf_mun/</td><td>157525</td><td>me</td><td>comex</td><td>uf_mun</td></tr><tr><td>abfss://datalake@cnibigdatadlsgen2.dfs.core.windows.net/raw/crw/mec/pnp_efi/</td><td>raw/crw/mec/pnp_efi/</td><td>32982378</td><td>mec</td><td>pnp_efi</td><td> </td></tr><tr><td>abfss://datalake@cnibigdatadlsgen2.dfs.core.windows.net/raw/crw/mtp_aeat/motivo_class/</td><td>raw/crw/mtp_aeat/motivo_class/</td><td>2071805</td><td>mtp_aeat</td><td>motivo_class</td><td> </td></tr><tr><td>abfss://datalake@cnibigdatadlsgen2.dfs.core.windows.net/raw/crw/ibge/pnadc_a_trim4/</td><td>raw/crw/ibge/pnadc_a_trim4/</td><td>2542982482</td><td>ibge</td><td>pnadc_a_trim4</td><td> </td></tr><tr><td>abfss://datalake@cnibigdatadlsgen2.dfs.core.windows.net/raw/crw/ibge/pnadc_a_visita1/</td><td>raw/crw/ibge/pnadc_a_visita1/</td><td>2705106492</td><td>ibge</td><td>pnadc_a_visita1</td><td> </td></tr><tr><td>abfss://datalake@cnibigdatadlsgen2.dfs.core.windows.net/raw/crw/inep_enem/enem_escola_dicionario/</td><td>raw/crw/inep_enem/enem_escola_dicionario/</td><td>6578</td><td>inep_enem</td><td>enem_escola_dicionario</td><td> </td></tr><tr><td>abfss://datalake@cnibigdatadlsgen2.dfs.core.windows.net/raw/crw/ibge/pintec_rel_coop/</td><td>raw/crw/ibge/pintec_rel_coop/</td><td>41518</td><td>ibge</td><td>pintec_rel_coop</td><td> </td></tr><tr><td>abfss://datalake@cnibigdatadlsgen2.dfs.core.windows.net/raw/crw/inep_censo_escolar/escola/</td><td>raw/crw/inep_censo_escolar/escola/</td><td>183774516</td><td>inep_censo_escolar</td><td>escola</td><td> </td></tr><tr><td>abfss://datalake@cnibigdatadlsgen2.dfs.core.windows.net/raw/crw/me/comex/ncm_cuci/</td><td>raw/crw/me/comex/ncm_cuci/</td><td>667563</td><td>me</td><td>comex</td><td>ncm_cuci</td></tr><tr><td>abfss://datalake@cnibigdatadlsgen2.dfs.core.windows.net/raw/crw/me/comex/via/</td><td>raw/crw/me/comex/via/</td><td>2922</td><td>me</td><td>comex</td><td>via</td></tr><tr><td>abfss://datalake@cnibigdatadlsgen2.dfs.core.windows.net/raw/crw/rfb_cnpj/tabelas_auxiliares/qualif_socio/</td><td>raw/crw/rfb_cnpj/tabelas_auxiliares/qualif_socio/</td><td>4343</td><td>rfb_cnpj</td><td>tabelas_auxiliares</td><td>qualif_socio</td></tr><tr><td>abfss://datalake@cnibigdatadlsgen2.dfs.core.windows.net/raw/usr/fiesc/bacen/expec_mercado/</td><td>raw/usr/fiesc/bacen/expec_mercado/</td><td>62472</td><td>fiesc</td><td>bacen</td><td>expec_mercado</td></tr><tr><td>abfss://datalake@cnibigdatadlsgen2.dfs.core.windows.net/raw/crw/inep_censo_escolar/gestor/</td><td>raw/crw/inep_censo_escolar/gestor/</td><td>32856646</td><td>inep_censo_escolar</td><td>gestor</td><td> </td></tr><tr><td>abfss://datalake@cnibigdatadlsgen2.dfs.core.windows.net/raw/usr/fiesc/ibge/pms/</td><td>raw/usr/fiesc/ibge/pms/</td><td>6934851</td><td>fiesc</td><td>ibge</td><td>pms</td></tr><tr><td>abfss://datalake@cnibigdatadlsgen2.dfs.core.windows.net/raw/crw/banco_mundial/preco_commodity/</td><td>raw/crw/banco_mundial/preco_commodity/</td><td>1258435</td><td>banco_mundial</td><td>preco_commodity</td><td> </td></tr><tr><td>abfss://datalake@cnibigdatadlsgen2.dfs.core.windows.net/raw/crw/inep_censo_escolar/curso_educacao_profissional/</td><td>raw/crw/inep_censo_escolar/curso_educacao_profissional/</td><td>36040</td><td>inep_censo_escolar</td><td>curso_educacao_profissional</td><td> </td></tr><tr><td>abfss://datalake@cnibigdatadlsgen2.dfs.core.windows.net/raw/crw/ms_sinan/acgr/</td><td>raw/crw/ms_sinan/acgr/</td><td>55931458</td><td>ms_sinan</td><td>acgr</td><td> </td></tr><tr><td>abfss://datalake@cnibigdatadlsgen2.dfs.core.windows.net/raw/usr/oni/ibge/geo_municipios/</td><td>raw/usr/oni/ibge/geo_municipios/</td><td>378595</td><td>oni</td><td>ibge</td><td>geo_municipios</td></tr><tr><td>abfss://datalake@cnibigdatadlsgen2.dfs.core.windows.net/raw/crw/ms_sinan/iexo/</td><td>raw/crw/ms_sinan/iexo/</td><td>60768050</td><td>ms_sinan</td><td>iexo</td><td> </td></tr><tr><td>abfss://datalake@cnibigdatadlsgen2.dfs.core.windows.net/raw/crw/me/comex/mun_exp/</td><td>raw/crw/me/comex/mun_exp/</td><td>305139735</td><td>me</td><td>comex</td><td>mun_exp</td></tr><tr><td>abfss://datalake@cnibigdatadlsgen2.dfs.core.windows.net/raw/crw/rfb_cnpj/cadastro_simples/</td><td>raw/crw/rfb_cnpj/cadastro_simples/</td><td>390069756</td><td>rfb_cnpj</td><td>cadastro_simples</td><td> </td></tr><tr><td>abfss://datalake@cnibigdatadlsgen2.dfs.core.windows.net/raw/crw/ibge/scnt_valor_preco1995_unificado/</td><td>raw/crw/ibge/scnt_valor_preco1995_unificado/</td><td>31117</td><td>ibge</td><td>scnt_valor_preco1995_unificado</td><td> </td></tr><tr><td>abfss://datalake@cnibigdatadlsgen2.dfs.core.windows.net/raw/usr/me/cadastro_cbo/</td><td>raw/usr/me/cadastro_cbo/</td><td>103351</td><td>me</td><td>cadastro_cbo</td><td> </td></tr><tr><td>abfss://datalake@cnibigdatadlsgen2.dfs.core.windows.net/raw/crw/me/comex/isic_cuci/</td><td>raw/crw/me/comex/isic_cuci/</td><td>461793</td><td>me</td><td>comex</td><td>isic_cuci</td></tr><tr><td>abfss://datalake@cnibigdatadlsgen2.dfs.core.windows.net/raw/crw/ibge/cnae_subclasses/</td><td>raw/crw/ibge/cnae_subclasses/</td><td>72155</td><td>ibge</td><td>cnae_subclasses</td><td> </td></tr><tr><td>abfss://datalake@cnibigdatadlsgen2.dfs.core.windows.net/raw/crw/inep_afd/brasil_regioes_e_ufs/</td><td>raw/crw/inep_afd/brasil_regioes_e_ufs/</td><td>543365</td><td>inep_afd</td><td>brasil_regioes_e_ufs</td><td> </td></tr><tr><td>abfss://datalake@cnibigdatadlsgen2.dfs.core.windows.net/raw/crw/mtp_aeat/motivo_div/</td><td>raw/crw/mtp_aeat/motivo_div/</td><td>563397</td><td>mtp_aeat</td><td>motivo_div</td><td> </td></tr></tbody></table></div>"
      ]
     },
     "metadata": {
      "application/vnd.databricks.v1+output": {
       "addedWidgets": {},
       "aggData": [],
       "aggError": "",
       "aggOverflow": false,
       "aggSchema": [],
       "aggSeriesLimitReached": false,
       "aggType": "",
       "arguments": {},
       "columnCustomDisplayInfos": {},
       "data": [
        [
         "abfss://datalake@cnibigdatadlsgen2.dfs.core.windows.net/raw/crw/me/comex/ncm_sh/",
         "raw/crw/me/comex/ncm_sh/",
         "1431116",
         "me",
         "comex",
         "ncm_sh"
        ],
        [
         "abfss://datalake@cnibigdatadlsgen2.dfs.core.windows.net/raw/crw/ibge/pintec_prod_vend_int/",
         "raw/crw/ibge/pintec_prod_vend_int/",
         "22550",
         "ibge",
         "pintec_prod_vend_int",
         " "
        ],
        [
         "abfss://datalake@cnibigdatadlsgen2.dfs.core.windows.net/raw/crw/inep_censo_escolar/etapa_ensino/",
         "raw/crw/inep_censo_escolar/etapa_ensino/",
         "13317",
         "inep_censo_escolar",
         "etapa_ensino",
         " "
        ],
        [
         "abfss://datalake@cnibigdatadlsgen2.dfs.core.windows.net/raw/crw/inep_dsu/brasil_regioes_e_ufs/",
         "raw/crw/inep_dsu/brasil_regioes_e_ufs/",
         "324904",
         "inep_dsu",
         "brasil_regioes_e_ufs",
         " "
        ],
        [
         "abfss://datalake@cnibigdatadlsgen2.dfs.core.windows.net/raw/crw/ibge/pintec_bio_nano/",
         "raw/crw/ibge/pintec_bio_nano/",
         "24763",
         "ibge",
         "pintec_bio_nano",
         " "
        ],
        [
         "abfss://datalake@cnibigdatadlsgen2.dfs.core.windows.net/raw/crw/ibge/scnt_volume_saz_se_unificado/",
         "raw/crw/ibge/scnt_volume_saz_se_unificado/",
         "27669",
         "ibge",
         "scnt_volume_saz_se_unificado",
         " "
        ],
        [
         "abfss://datalake@cnibigdatadlsgen2.dfs.core.windows.net/raw/crw/inep_saeb/prova_brasil_2017/",
         "raw/crw/inep_saeb/prova_brasil_2017/",
         "1045744659",
         "inep_saeb",
         "prova_brasil_2017",
         " "
        ],
        [
         "abfss://datalake@cnibigdatadlsgen2.dfs.core.windows.net/raw/usr/oni/ibge/municipios_amazonia_legal/",
         "raw/usr/oni/ibge/municipios_amazonia_legal/",
         "35896",
         "oni",
         "ibge",
         "municipios_amazonia_legal"
        ],
        [
         "abfss://datalake@cnibigdatadlsgen2.dfs.core.windows.net/raw/crw/ibge/pnadc_a_visita5/",
         "raw/crw/ibge/pnadc_a_visita5/",
         "1907804819",
         "ibge",
         "pnadc_a_visita5",
         " "
        ],
        [
         "abfss://datalake@cnibigdatadlsgen2.dfs.core.windows.net/raw/crw/me/comex/ncm_cgce/",
         "raw/crw/me/comex/ncm_cgce/",
         "472397",
         "me",
         "comex",
         "ncm_cgce"
        ],
        [
         "abfss://datalake@cnibigdatadlsgen2.dfs.core.windows.net/raw/crw/rfb_cnpj/cadastro_estbl/",
         "raw/crw/rfb_cnpj/cadastro_estbl/",
         "4484671695",
         "rfb_cnpj",
         "cadastro_estbl",
         " "
        ],
        [
         "abfss://datalake@cnibigdatadlsgen2.dfs.core.windows.net/raw/crw/mec/pnp_ser/",
         "raw/crw/mec/pnp_ser/",
         "3420243",
         "mec",
         "pnp_ser",
         " "
        ],
        [
         "abfss://datalake@cnibigdatadlsgen2.dfs.core.windows.net/raw/crw/mtp_aeat/conseq_clas/",
         "raw/crw/mtp_aeat/conseq_clas/",
         "2358274",
         "mtp_aeat",
         "conseq_clas",
         " "
        ],
        [
         "abfss://datalake@cnibigdatadlsgen2.dfs.core.windows.net/raw/usr/inep_saeb/competencias_e_habilidades_lp/",
         "raw/usr/inep_saeb/competencias_e_habilidades_lp/",
         "2056933",
         "inep_saeb",
         "competencias_e_habilidades_lp",
         " "
        ],
        [
         "abfss://datalake@cnibigdatadlsgen2.dfs.core.windows.net/raw/crw/inep_iqes/cpc/",
         "raw/crw/inep_iqes/cpc/",
         "4536366",
         "inep_iqes",
         "cpc",
         " "
        ],
        [
         "abfss://datalake@cnibigdatadlsgen2.dfs.core.windows.net/raw/crw/inep_atu/municipios/",
         "raw/crw/inep_atu/municipios/",
         "25418643",
         "inep_atu",
         "municipios",
         " "
        ],
        [
         "abfss://datalake@cnibigdatadlsgen2.dfs.core.windows.net/raw/crw/inep_tdi/brasil_regioes_e_ufs/",
         "raw/crw/inep_tdi/brasil_regioes_e_ufs/",
         "874408",
         "inep_tdi",
         "brasil_regioes_e_ufs",
         " "
        ],
        [
         "abfss://datalake@cnibigdatadlsgen2.dfs.core.windows.net/raw/usr/uniepro/cnae_industrial/",
         "raw/usr/uniepro/cnae_industrial/",
         "7036",
         "uniepro",
         "uniepro_cnae_industrial",
         "cnae_industrial"
        ],
        [
         "abfss://datalake@cnibigdatadlsgen2.dfs.core.windows.net/raw/crw/ibge/pnadc/",
         "raw/crw/ibge/pnadc/",
         "39718210769",
         "ibge",
         "pnadc",
         " "
        ],
        [
         "abfss://datalake@cnibigdatadlsgen2.dfs.core.windows.net/raw/crw/rfb_cnpj/cadastro_empresa/",
         "raw/crw/rfb_cnpj/cadastro_empresa/",
         "1824546996",
         "rfb_cnpj",
         "cadastro_empresa",
         " "
        ],
        [
         "abfss://datalake@cnibigdatadlsgen2.dfs.core.windows.net/raw/crw/ibge/pintec_org_mkt/",
         "raw/crw/ibge/pintec_org_mkt/",
         "25295",
         "ibge",
         "pintec_org_mkt",
         " "
        ],
        [
         "abfss://datalake@cnibigdatadlsgen2.dfs.core.windows.net/raw/crw/ibge/scnt_conta_financeira_unificado/",
         "raw/crw/ibge/scnt_conta_financeira_unificado/",
         "23290",
         "ibge",
         "scnt_conta_financeira_unificado",
         " "
        ],
        [
         "abfss://datalake@cnibigdatadlsgen2.dfs.core.windows.net/raw/crw/rfb/cno/cno_cnaes/",
         "raw/crw/rfb/cno/cno_cnaes/",
         "19984693",
         "rfb",
         "cno",
         "cno_cnaes"
        ],
        [
         "abfss://datalake@cnibigdatadlsgen2.dfs.core.windows.net/raw/usr/oni/ibge/uf/",
         "raw/usr/oni/ibge/uf/",
         "2185",
         "oni",
         "ibge",
         "uf"
        ],
        [
         "abfss://datalake@cnibigdatadlsgen2.dfs.core.windows.net/raw/crw/ibge/ipca/",
         "raw/crw/ibge/ipca/",
         "12066",
         "ibge",
         "ipca",
         " "
        ],
        [
         "abfss://datalake@cnibigdatadlsgen2.dfs.core.windows.net/raw/crw/ibge/pintec_tipo_programa_po/",
         "raw/crw/ibge/pintec_tipo_programa_po/",
         "35103",
         "ibge",
         "pintec_tipo_programa_po",
         " "
        ],
        [
         "abfss://datalake@cnibigdatadlsgen2.dfs.core.windows.net/raw/crw/ibge/pop_projetada_txfecund/",
         "raw/crw/ibge/pop_projetada_txfecund/",
         "548004",
         "ibge",
         "pop_projetada_txfecund",
         " "
        ],
        [
         "abfss://datalake@cnibigdatadlsgen2.dfs.core.windows.net/raw/crw/me/comex/ncm_fat_agreg/",
         "raw/crw/me/comex/ncm_fat_agreg/",
         "443911",
         "me",
         "comex",
         "ncm_fat_agreg"
        ],
        [
         "abfss://datalake@cnibigdatadlsgen2.dfs.core.windows.net/raw/crw/rfb_cnpj/tabelas_auxiliares/cnae/",
         "raw/crw/rfb_cnpj/tabelas_auxiliares/cnae/",
         "44924",
         "rfb_cnpj",
         "tabelas_auxiliares",
         "cnae"
        ],
        [
         "abfss://datalake@cnibigdatadlsgen2.dfs.core.windows.net/raw/usr/uniepro/ibge_cnae_classe/",
         "raw/usr/uniepro/ibge_cnae_classe/",
         "25362",
         "uniepro",
         "uniepro_ibge_cnae_classe",
         "ibge_cnae_classe"
        ],
        [
         "abfss://datalake@cnibigdatadlsgen2.dfs.core.windows.net/raw/crw/fred/indicadores_selecionados/",
         "raw/crw/fred/indicadores_selecionados/",
         "55195",
         "fred",
         "indicadores_selecionados",
         " "
        ],
        [
         "abfss://datalake@cnibigdatadlsgen2.dfs.core.windows.net/raw/crw/ibge/ipp_cnae_div/",
         "raw/crw/ibge/ipp_cnae_div/",
         "145157",
         "ibge",
         "ipp_cnae_div",
         " "
        ],
        [
         "abfss://datalake@cnibigdatadlsgen2.dfs.core.windows.net/raw/crw/ibge/pintec_prob_obst/",
         "raw/crw/ibge/pintec_prob_obst/",
         "74849",
         "ibge",
         "pintec_prob_obst",
         " "
        ],
        [
         "abfss://datalake@cnibigdatadlsgen2.dfs.core.windows.net/raw/crw/me/caged_ajustes/",
         "raw/crw/me/caged_ajustes/",
         "205696635",
         "me",
         "caged_ajustes",
         " "
        ],
        [
         "abfss://datalake@cnibigdatadlsgen2.dfs.core.windows.net/raw/crw/inep_ideb/ideb/",
         "raw/crw/inep_ideb/ideb/",
         "29431193",
         "inep_ideb",
         "ideb",
         " "
        ],
        [
         "abfss://datalake@cnibigdatadlsgen2.dfs.core.windows.net/raw/crw/inep_saeb/prova_brasil_2019/",
         "raw/crw/inep_saeb/prova_brasil_2019/",
         "869154248",
         "inep_saeb",
         "prova_brasil_2019",
         " "
        ],
        [
         "abfss://datalake@cnibigdatadlsgen2.dfs.core.windows.net/raw/crw/inep_atu/brasil_regioes_e_ufs/",
         "raw/crw/inep_atu/brasil_regioes_e_ufs/",
         "831206",
         "inep_atu",
         "brasil_regioes_e_ufs",
         " "
        ],
        [
         "abfss://datalake@cnibigdatadlsgen2.dfs.core.windows.net/raw/crw/me/comex/ncm_unidade/",
         "raw/crw/me/comex/ncm_unidade/",
         "446938",
         "me",
         "comex",
         "ncm_unidade"
        ],
        [
         "abfss://datalake@cnibigdatadlsgen2.dfs.core.windows.net/raw/crw/me/comex/pais_bloco/",
         "raw/crw/me/comex/pais_bloco/",
         "7050",
         "me",
         "comex",
         "pais_bloco"
        ],
        [
         "abfss://datalake@cnibigdatadlsgen2.dfs.core.windows.net/raw/crw/mtp_aeat/motivo_ida_sex/",
         "raw/crw/mtp_aeat/motivo_ida_sex/",
         "469810",
         "mtp_aeat",
         "motivo_ida_sex",
         " "
        ],
        [
         "abfss://datalake@cnibigdatadlsgen2.dfs.core.windows.net/raw/crw/ibge/pop_estimada/",
         "raw/crw/ibge/pop_estimada/",
         "1176681",
         "ibge",
         "pop_estimada",
         " "
        ],
        [
         "abfss://datalake@cnibigdatadlsgen2.dfs.core.windows.net/raw/crw/inep_saeb/saeb_aluno_unificado/",
         "raw/crw/inep_saeb/saeb_aluno_unificado/",
         "3162593753",
         "inep_saeb",
         "saeb_aluno_unificado",
         " "
        ],
        [
         "abfss://datalake@cnibigdatadlsgen2.dfs.core.windows.net/raw/crw/inep_ird/escolas/",
         "raw/crw/inep_ird/escolas/",
         "36212636",
         "inep_ird",
         "escolas",
         " "
        ],
        [
         "abfss://datalake@cnibigdatadlsgen2.dfs.core.windows.net/raw/usr/jira_service_management/",
         "raw/usr/jira_service_management/",
         "This request is not authorized",
         "jira_service_management",
         "",
         " "
        ],
        [
         "abfss://datalake@cnibigdatadlsgen2.dfs.core.windows.net/raw/crw/inep_taxa_rendimento/municipios/",
         "raw/crw/inep_taxa_rendimento/municipios/",
         "45750496",
         "inep_taxa_rendimento",
         "municipios",
         " "
        ],
        [
         "abfss://datalake@cnibigdatadlsgen2.dfs.core.windows.net/raw/crw/inep_enem/enem_escola/",
         "raw/crw/inep_enem/enem_escola/",
         "9910050",
         "inep_enem",
         "enem_escola",
         " "
        ],
        [
         "abfss://datalake@cnibigdatadlsgen2.dfs.core.windows.net/raw/crw/inep_saeb/saeb_escola_unificada/",
         "raw/crw/inep_saeb/saeb_escola_unificada/",
         "36433753",
         "inep_saeb",
         "saeb_escola_unificada",
         " "
        ],
        [
         "abfss://datalake@cnibigdatadlsgen2.dfs.core.windows.net/raw/usr/fiesc/bacen/igp-m/",
         "raw/usr/fiesc/bacen/igp-m/",
         "10803",
         "fiesc",
         "bacen",
         "igp-m"
        ],
        [
         "abfss://datalake@cnibigdatadlsgen2.dfs.core.windows.net/raw/crw/infojobs/vagas/",
         "raw/crw/infojobs/vagas/",
         "52583365",
         "infojobs",
         "vagas",
         " "
        ],
        [
         "abfss://datalake@cnibigdatadlsgen2.dfs.core.windows.net/raw/usr/fiesc/ibge/sidra/",
         "raw/usr/fiesc/ibge/sidra/",
         "3681310",
         "fiesc",
         "ibge",
         "sidra"
        ],
        [
         "abfss://datalake@cnibigdatadlsgen2.dfs.core.windows.net/raw/crw/me/comex/ncm_isic/",
         "raw/crw/me/comex/ncm_isic/",
         "496225",
         "me",
         "comex",
         "ncm_isic"
        ],
        [
         "abfss://datalake@cnibigdatadlsgen2.dfs.core.windows.net/raw/usr/fiesc/bacen/expec_selic/",
         "raw/usr/fiesc/bacen/expec_selic/",
         "19435",
         "fiesc",
         "bacen",
         "expec_selic"
        ],
        [
         "abfss://datalake@cnibigdatadlsgen2.dfs.core.windows.net/raw/crw/fmi_proj/grupo_paises/",
         "raw/crw/fmi_proj/grupo_paises/",
         "5667084",
         "fmi_proj",
         "grupo_paises",
         " "
        ],
        [
         "abfss://datalake@cnibigdatadlsgen2.dfs.core.windows.net/raw/crw/vagascom/vagas/",
         "raw/crw/vagascom/vagas/",
         "18634094",
         "vagascom",
         "vagas",
         " "
        ],
        [
         "abfss://datalake@cnibigdatadlsgen2.dfs.core.windows.net/raw/crw/inss/cat/",
         "raw/crw/inss/cat/",
         "51285781",
         "inss",
         "cat",
         " "
        ],
        [
         "abfss://datalake@cnibigdatadlsgen2.dfs.core.windows.net/raw/crw/inep_saeb/ts_resposta_aluno/",
         "raw/crw/inep_saeb/ts_resposta_aluno/",
         "150837479",
         "inep_saeb",
         "ts_resposta_aluno",
         " "
        ],
        [
         "abfss://datalake@cnibigdatadlsgen2.dfs.core.windows.net/raw/crw/ms/sim/",
         "raw/crw/ms/sim/",
         "1521164443",
         "ms",
         "sim",
         " "
        ],
        [
         "abfss://datalake@cnibigdatadlsgen2.dfs.core.windows.net/raw/usr/fiesc/IBGE/SIDRA/",
         "raw/usr/fiesc/IBGE/SIDRA/",
         "6580754",
         "fiesc",
         "IBGE",
         "SIDRA"
        ],
        [
         "abfss://datalake@cnibigdatadlsgen2.dfs.core.windows.net/raw/crw/ibge/pop_projetada_pessoas_prop/",
         "raw/crw/ibge/pop_projetada_pessoas_prop/",
         "543759",
         "ibge",
         "pop_projetada_pessoas_prop",
         " "
        ],
        [
         "abfss://datalake@cnibigdatadlsgen2.dfs.core.windows.net/raw/crw/ms_sinan/canc/",
         "raw/crw/ms_sinan/canc/",
         "386781",
         "ms_sinan",
         "canc",
         " "
        ],
        [
         "abfss://datalake@cnibigdatadlsgen2.dfs.core.windows.net/raw/usr/fiesc/bacen/BACEN_METAS_DE_INFLACAO/",
         "raw/usr/fiesc/bacen/BACEN_METAS_DE_INFLACAO/",
         "11795",
         "fiesc",
         "bacen",
         "BACEN_METAS_DE_INFLACAO"
        ],
        [
         "abfss://datalake@cnibigdatadlsgen2.dfs.core.windows.net/raw/crw/inep_saeb/saeb_resultado_regiao_unificado/",
         "raw/crw/inep_saeb/saeb_resultado_regiao_unificado/",
         "396900",
         "inep_saeb",
         "saeb_resultado_regiao_unificado",
         " "
        ],
        [
         "abfss://datalake@cnibigdatadlsgen2.dfs.core.windows.net/raw/crw/vagascertas/vagas/",
         "raw/crw/vagascertas/vagas/",
         "5395958",
         "vagascertas",
         "vagas",
         " "
        ],
        [
         "abfss://datalake@cnibigdatadlsgen2.dfs.core.windows.net/raw/crw/ms_sinan/derm/",
         "raw/crw/ms_sinan/derm/",
         "572605",
         "ms_sinan",
         "derm",
         " "
        ],
        [
         "abfss://datalake@cnibigdatadlsgen2.dfs.core.windows.net/raw/crw/inep_prova_brasil/ts_quest_aluno/",
         "raw/crw/inep_prova_brasil/ts_quest_aluno/",
         "206146996",
         "inep_prova_brasil",
         "ts_quest_aluno",
         " "
        ],
        [
         "abfss://datalake@cnibigdatadlsgen2.dfs.core.windows.net/raw/usr/uniepro/saude_cid/",
         "raw/usr/uniepro/saude_cid/",
         "519245",
         "uniepro",
         "uniepro_saude_cid",
         "saude_cid"
        ],
        [
         "abfss://datalake@cnibigdatadlsgen2.dfs.core.windows.net/raw/usr/fiesc/bacen/inadimplencia_em_credito/",
         "raw/usr/fiesc/bacen/inadimplencia_em_credito/",
         "40508",
         "fiesc",
         "bacen",
         "inadimplencia_em_credito"
        ],
        [
         "abfss://datalake@cnibigdatadlsgen2.dfs.core.windows.net/raw/crw/inep_censo_escolar/matriculas/",
         "raw/crw/inep_censo_escolar/matriculas/",
         "30621446621",
         "inep_censo_escolar",
         "matriculas",
         " "
        ],
        [
         "abfss://datalake@cnibigdatadlsgen2.dfs.core.windows.net/raw/crw/me/comex/ncm_exp/",
         "raw/crw/me/comex/ncm_exp/",
         "477591244",
         "me",
         "comex",
         "ncm_exp"
        ],
        [
         "abfss://datalake@cnibigdatadlsgen2.dfs.core.windows.net/raw/crw/mtp_aeat/motivo_cid/",
         "raw/crw/mtp_aeat/motivo_cid/",
         "2779093",
         "mtp_aeat",
         "motivo_cid",
         " "
        ],
        [
         "abfss://datalake@cnibigdatadlsgen2.dfs.core.windows.net/raw/usr/uniepro/monitor_de_vagas/uf/",
         "raw/usr/uniepro/monitor_de_vagas/uf/",
         "1858",
         "uniepro",
         "uniepro_monitor_de_vagas",
         "uf"
        ],
        [
         "abfss://datalake@cnibigdatadlsgen2.dfs.core.windows.net/raw/crw/inep_tdi/escolas/",
         "raw/crw/inep_tdi/escolas/",
         "84214818",
         "inep_tdi",
         "escolas",
         " "
        ],
        [
         "abfss://datalake@cnibigdatadlsgen2.dfs.core.windows.net/raw/usr/fiesc/sidra/1849_FATO/",
         "raw/usr/fiesc/sidra/1849_FATO/",
         "298927",
         "fiesc",
         "sidra",
         "1849_FATO"
        ],
        [
         "abfss://datalake@cnibigdatadlsgen2.dfs.core.windows.net/raw/crw/ibge/pintec_rel_coop_po/",
         "raw/crw/ibge/pintec_rel_coop_po/",
         "51440",
         "ibge",
         "pintec_rel_coop_po",
         " "
        ],
        [
         "abfss://datalake@cnibigdatadlsgen2.dfs.core.windows.net/raw/crw/inep_saeb/saeb_resultado_brasil_unificado/",
         "raw/crw/inep_saeb/saeb_resultado_brasil_unificado/",
         "209685",
         "inep_saeb",
         "saeb_resultado_brasil_unificado",
         " "
        ],
        [
         "abfss://datalake@cnibigdatadlsgen2.dfs.core.windows.net/raw/crw/inep_iqes/icg/",
         "raw/crw/inep_iqes/icg/",
         "898633",
         "inep_iqes",
         "icg",
         " "
        ],
        [
         "abfss://datalake@cnibigdatadlsgen2.dfs.core.windows.net/raw/crw/rfb_cnpj/tabelas_auxiliares/municipio/",
         "raw/crw/rfb_cnpj/tabelas_auxiliares/municipio/",
         "103551",
         "rfb_cnpj",
         "tabelas_auxiliares",
         "municipio"
        ],
        [
         "abfss://datalake@cnibigdatadlsgen2.dfs.core.windows.net/raw/usr/fiesc/bacen/expec_tx_cambio/",
         "raw/usr/fiesc/bacen/expec_tx_cambio/",
         "11773",
         "fiesc",
         "bacen",
         "expec_tx_cambio"
        ],
        [
         "abfss://datalake@cnibigdatadlsgen2.dfs.core.windows.net/raw/usr/inep_saeb/competencias_e_habilidades_mt/",
         "raw/usr/inep_saeb/competencias_e_habilidades_mt/",
         "3132254",
         "inep_saeb",
         "competencias_e_habilidades_mt",
         " "
        ],
        [
         "abfss://datalake@cnibigdatadlsgen2.dfs.core.windows.net/raw/usr/uniepro/monitor_de_vagas/padroes_regex/",
         "raw/usr/uniepro/monitor_de_vagas/padroes_regex/",
         "2216",
         "uniepro",
         "uniepro_monitor_de_vagas",
         "padroes_regex"
        ],
        [
         "abfss://datalake@cnibigdatadlsgen2.dfs.core.windows.net/raw/crw/me/comex/ncm_imp/",
         "raw/crw/me/comex/ncm_imp/",
         "855327046",
         "me",
         "comex",
         "ncm_imp"
        ],
        [
         "abfss://datalake@cnibigdatadlsgen2.dfs.core.windows.net/raw/crw/inep_afd/escolas/",
         "raw/crw/inep_afd/escolas/",
         "61081116",
         "inep_afd",
         "escolas",
         " "
        ],
        [
         "abfss://datalake@cnibigdatadlsgen2.dfs.core.windows.net/raw/crw/inep_prova_brasil/ts_resultado_aluno/",
         "raw/crw/inep_prova_brasil/ts_resultado_aluno/",
         "168672408",
         "inep_prova_brasil",
         "ts_resultado_aluno",
         " "
        ],
        [
         "abfss://datalake@cnibigdatadlsgen2.dfs.core.windows.net/raw/crw/me/comex/urf/",
         "raw/crw/me/comex/urf/",
         "9253",
         "me",
         "comex",
         "urf"
        ],
        [
         "abfss://datalake@cnibigdatadlsgen2.dfs.core.windows.net/raw/usr/uniepro/grau_instrucao/",
         "raw/usr/uniepro/grau_instrucao/",
         "3836",
         "uniepro",
         "uniepro_grau_instrucao",
         "grau_instrucao"
        ],
        [
         "abfss://datalake@cnibigdatadlsgen2.dfs.core.windows.net/raw/crw/ibge/pimpf/",
         "raw/crw/ibge/pimpf/",
         "5893736",
         "ibge",
         "pimpf",
         " "
        ],
        [
         "abfss://datalake@cnibigdatadlsgen2.dfs.core.windows.net/raw/crw/ibge/pintec_resp_imp/",
         "raw/crw/ibge/pintec_resp_imp/",
         "27024",
         "ibge",
         "pintec_resp_imp",
         " "
        ],
        [
         "abfss://datalake@cnibigdatadlsgen2.dfs.core.windows.net/raw/usr/oni/bases_do_projeto/painel_dos_estados/",
         "raw/usr/oni/bases_do_projeto/painel_dos_estados/",
         "45129",
         "oni",
         "bases_do_projeto",
         "painel_dos_estados"
        ],
        [
         "abfss://datalake@cnibigdatadlsgen2.dfs.core.windows.net/raw/crw/rfb_cnpj/regime_tributario/",
         "raw/crw/rfb_cnpj/regime_tributario/",
         "127308760",
         "rfb_cnpj",
         "regime_tributario",
         " "
        ],
        [
         "abfss://datalake@cnibigdatadlsgen2.dfs.core.windows.net/raw/usr/inep_censo_escolar/etapa_ensino_agrupada/",
         "raw/usr/inep_censo_escolar/etapa_ensino_agrupada/",
         "9456",
         "inep_censo_escolar",
         "etapa_ensino_agrupada",
         " "
        ],
        [
         "abfss://datalake@cnibigdatadlsgen2.dfs.core.windows.net/raw/crw/inep_afd/municipios/",
         "raw/crw/inep_afd/municipios/",
         "18816638",
         "inep_afd",
         "municipios",
         " "
        ],
        [
         "abfss://datalake@cnibigdatadlsgen2.dfs.core.windows.net/raw/crw/ms_sinan/ment/",
         "raw/crw/ms_sinan/ment/",
         "887930",
         "ms_sinan",
         "ment",
         " "
        ],
        [
         "abfss://datalake@cnibigdatadlsgen2.dfs.core.windows.net/raw/crw/inep_tdi/municipios/",
         "raw/crw/inep_tdi/municipios/",
         "23188399",
         "inep_tdi",
         "municipios",
         " "
        ],
        [
         "abfss://datalake@cnibigdatadlsgen2.dfs.core.windows.net/raw/crw/ibge/piaemp_aquisicoes/",
         "raw/crw/ibge/piaemp_aquisicoes/",
         "331905",
         "ibge",
         "piaemp_aquisicoes",
         " "
        ],
        [
         "abfss://datalake@cnibigdatadlsgen2.dfs.core.windows.net/raw/crw/ms_sinan/pair/",
         "raw/crw/ms_sinan/pair/",
         "639925",
         "ms_sinan",
         "pair",
         " "
        ],
        [
         "abfss://datalake@cnibigdatadlsgen2.dfs.core.windows.net/raw/crw/rfb/cno/cno_totais/",
         "raw/crw/rfb/cno/cno_totais/",
         "3505",
         "rfb",
         "cno",
         "cno_totais"
        ],
        [
         "abfss://datalake@cnibigdatadlsgen2.dfs.core.windows.net/raw/usr/oni/ibge/geo_uf/",
         "raw/usr/oni/ibge/geo_uf/",
         "5090",
         "oni",
         "ibge",
         "geo_uf"
        ],
        [
         "abfss://datalake@cnibigdatadlsgen2.dfs.core.windows.net/raw/usr/oni/bases_do_projeto/aprendizagem/",
         "raw/usr/oni/bases_do_projeto/aprendizagem/",
         "10835",
         "oni",
         "bases_do_projeto",
         "aprendizagem"
        ],
        [
         "abfss://datalake@cnibigdatadlsgen2.dfs.core.windows.net/raw/crw/inep_rmd/brasil_regioes_e_ufs/",
         "raw/crw/inep_rmd/brasil_regioes_e_ufs/",
         "88654",
         "inep_rmd",
         "brasil_regioes_e_ufs",
         " "
        ],
        [
         "abfss://datalake@cnibigdatadlsgen2.dfs.core.windows.net/raw/crw/inep_taxa_rendimento/brasil_regioes_e_ufs/",
         "raw/crw/inep_taxa_rendimento/brasil_regioes_e_ufs/",
         "1166136",
         "inep_taxa_rendimento",
         "brasil_regioes_e_ufs",
         " "
        ],
        [
         "abfss://datalake@cnibigdatadlsgen2.dfs.core.windows.net/raw/crw/me/novo_caged_exc/",
         "raw/crw/me/novo_caged_exc/",
         "5474381",
         "me",
         "novo_caged_exc",
         " "
        ],
        [
         "abfss://datalake@cnibigdatadlsgen2.dfs.core.windows.net/raw/usr/fiesc/ibge/pib/",
         "raw/usr/fiesc/ibge/pib/",
         "1740346",
         "fiesc",
         "ibge",
         "pib"
        ],
        [
         "abfss://datalake@cnibigdatadlsgen2.dfs.core.windows.net/raw/crw/ibge/pintec_tipo_programa/",
         "raw/crw/ibge/pintec_tipo_programa/",
         "7016",
         "ibge",
         "pintec_tipo_programa",
         " "
        ],
        [
         "abfss://datalake@cnibigdatadlsgen2.dfs.core.windows.net/raw/crw/banco_mundial/documentacao_indica/",
         "raw/crw/banco_mundial/documentacao_indica/",
         "39152",
         "banco_mundial",
         "documentacao_indica",
         " "
        ],
        [
         "abfss://datalake@cnibigdatadlsgen2.dfs.core.windows.net/raw/crw/rfb_cnpj/tabelas_auxiliares/pais/",
         "raw/crw/rfb_cnpj/tabelas_auxiliares/pais/",
         "7922",
         "rfb_cnpj",
         "tabelas_auxiliares",
         "pais"
        ],
        [
         "abfss://datalake@cnibigdatadlsgen2.dfs.core.windows.net/raw/crw/ibge/piaemp/",
         "raw/crw/ibge/piaemp/",
         "253823",
         "ibge",
         "piaemp",
         " "
        ],
        [
         "abfss://datalake@cnibigdatadlsgen2.dfs.core.windows.net/raw/crw/me/comex/ncm_ppi/",
         "raw/crw/me/comex/ncm_ppi/",
         "485009",
         "me",
         "comex",
         "ncm_ppi"
        ],
        [
         "abfss://datalake@cnibigdatadlsgen2.dfs.core.windows.net/raw/usr/me/cadastro_cbo_familia/",
         "raw/usr/me/cadastro_cbo_familia/",
         "2070339",
         "me",
         "cadastro_cbo_familia",
         " "
        ],
        [
         "abfss://datalake@cnibigdatadlsgen2.dfs.core.windows.net/raw/crw/ibge/pop_projetada_indicadores_implicitos/",
         "raw/crw/ibge/pop_projetada_indicadores_implicitos/",
         "699756",
         "ibge",
         "pop_projetada_indicadores_implicitos",
         " "
        ],
        [
         "abfss://datalake@cnibigdatadlsgen2.dfs.core.windows.net/raw/usr/fiesc/bacen/inpc/",
         "raw/usr/fiesc/bacen/inpc/",
         "655568",
         "fiesc",
         "bacen",
         "inpc"
        ],
        [
         "abfss://datalake@cnibigdatadlsgen2.dfs.core.windows.net/raw/usr/inep_saeb/competencias_e_habilidades_ajuste_lp/",
         "raw/usr/inep_saeb/competencias_e_habilidades_ajuste_lp/",
         "112235",
         "inep_saeb",
         "competencias_e_habilidades_ajuste_lp",
         " "
        ],
        [
         "abfss://datalake@cnibigdatadlsgen2.dfs.core.windows.net/raw/crw/inep_inse/socioeconomico/",
         "raw/crw/inep_inse/socioeconomico/",
         "7991152",
         "inep_inse",
         "socioeconomico",
         " "
        ],
        [
         "abfss://datalake@cnibigdatadlsgen2.dfs.core.windows.net/raw/crw/inep_saeb/prova_brasil_2015/",
         "raw/crw/inep_saeb/prova_brasil_2015/",
         "611196508",
         "inep_saeb",
         "prova_brasil_2015",
         " "
        ],
        [
         "abfss://datalake@cnibigdatadlsgen2.dfs.core.windows.net/raw/crw/inep_censo_escolar/docente/",
         "raw/crw/inep_censo_escolar/docente/",
         "4081211276",
         "inep_censo_escolar",
         "docente",
         " "
        ],
        [
         "abfss://datalake@cnibigdatadlsgen2.dfs.core.windows.net/raw/crw/inep_saeb/saeb_diretor_unificada/",
         "raw/crw/inep_saeb/saeb_diretor_unificada/",
         "11649859",
         "inep_saeb",
         "saeb_diretor_unificada",
         " "
        ],
        [
         "abfss://datalake@cnibigdatadlsgen2.dfs.core.windows.net/raw/usr/inep_enem/parametros_rampa/",
         "raw/usr/inep_enem/parametros_rampa/",
         "3703",
         "inep_enem",
         "parametros_rampa",
         " "
        ],
        [
         "abfss://datalake@cnibigdatadlsgen2.dfs.core.windows.net/raw/crw/inep_dsu/escolas/",
         "raw/crw/inep_dsu/escolas/",
         "55774624",
         "inep_dsu",
         "escolas",
         " "
        ],
        [
         "abfss://datalake@cnibigdatadlsgen2.dfs.core.windows.net/raw/crw/inep_saeb/saeb_resultado_municipio_unificado/",
         "raw/crw/inep_saeb/saeb_resultado_municipio_unificado/",
         "11338349",
         "inep_saeb",
         "saeb_resultado_municipio_unificado",
         " "
        ],
        [
         "abfss://datalake@cnibigdatadlsgen2.dfs.core.windows.net/raw/usr/fiesc/bacen/ind_atv_eco/",
         "raw/usr/fiesc/bacen/ind_atv_eco/",
         "32040",
         "fiesc",
         "bacen",
         "ind_atv_eco"
        ],
        [
         "abfss://datalake@cnibigdatadlsgen2.dfs.core.windows.net/raw/usr/uniepro/fmi_proj/",
         "raw/usr/uniepro/fmi_proj/",
         "18864",
         "uniepro",
         "uniepro_fmi_proj",
         "fmi_proj"
        ],
        [
         "abfss://datalake@cnibigdatadlsgen2.dfs.core.windows.net/raw/crw/me/comex/uf/",
         "raw/crw/me/comex/uf/",
         "4009",
         "me",
         "comex",
         "uf"
        ],
        [
         "abfss://datalake@cnibigdatadlsgen2.dfs.core.windows.net/raw/usr/me/rais_estabelecimento/",
         "raw/usr/me/rais_estabelecimento/",
         "4284703790",
         "me",
         "rais_estabelecimento",
         " "
        ],
        [
         "abfss://datalake@cnibigdatadlsgen2.dfs.core.windows.net/raw/usr/ocde/intensidade_tecnol/",
         "raw/usr/ocde/intensidade_tecnol/",
         "5883",
         "ocde",
         "intensidade_tecnol",
         " "
        ],
        [
         "abfss://datalake@cnibigdatadlsgen2.dfs.core.windows.net/raw/usr/ibge/deflator_pnad/",
         "raw/usr/ibge/deflator_pnad/",
         "55204",
         "ibge",
         "deflator_pnad",
         " "
        ],
        [
         "abfss://datalake@cnibigdatadlsgen2.dfs.core.windows.net/raw/crw/me/comex/mun_imp/",
         "raw/crw/me/comex/mun_imp/",
         "465475739",
         "me",
         "comex",
         "mun_imp"
        ],
        [
         "abfss://datalake@cnibigdatadlsgen2.dfs.core.windows.net/raw/crw/ibge/scnt_valor_preco_correntes_unificado/",
         "raw/crw/ibge/scnt_valor_preco_correntes_unificado/",
         "32981",
         "ibge",
         "scnt_valor_preco_correntes_unificado",
         " "
        ],
        [
         "abfss://datalake@cnibigdatadlsgen2.dfs.core.windows.net/raw/crw/rfb/cno/cno/",
         "raw/crw/rfb/cno/cno/",
         "179666924",
         "rfb",
         "cno",
         " "
        ],
        [
         "abfss://datalake@cnibigdatadlsgen2.dfs.core.windows.net/raw/crw/inep_atu/escolas/",
         "raw/crw/inep_atu/escolas/",
         "96615332",
         "inep_atu",
         "escolas",
         " "
        ],
        [
         "abfss://datalake@cnibigdatadlsgen2.dfs.core.windows.net/raw/crw/inep_rmd/municipios/",
         "raw/crw/inep_rmd/municipios/",
         "2785003",
         "inep_rmd",
         "municipios",
         " "
        ],
        [
         "abfss://datalake@cnibigdatadlsgen2.dfs.core.windows.net/raw/crw/me/novo_caged_mov/",
         "raw/crw/me/novo_caged_mov/",
         "2032965261",
         "me",
         "novo_caged_mov",
         " "
        ],
        [
         "abfss://datalake@cnibigdatadlsgen2.dfs.core.windows.net/raw/usr/oni/bases_do_projeto/mapa_do_trabalho/",
         "raw/usr/oni/bases_do_projeto/mapa_do_trabalho/",
         "2006986417",
         "oni",
         "bases_do_projeto",
         "mapa_do_trabalho"
        ],
        [
         "abfss://datalake@cnibigdatadlsgen2.dfs.core.windows.net/raw/crw/ibge/relatorio_dtb_brasil_municipio/",
         "raw/crw/ibge/relatorio_dtb_brasil_municipio/",
         "908581",
         "ibge",
         "relatorio_dtb_brasil_municipio",
         " "
        ],
        [
         "abfss://datalake@cnibigdatadlsgen2.dfs.core.windows.net/raw/crw/mtp_aeat/conseq_div/",
         "raw/crw/mtp_aeat/conseq_div/",
         "614240",
         "mtp_aeat",
         "conseq_div",
         " "
        ],
        [
         "abfss://datalake@cnibigdatadlsgen2.dfs.core.windows.net/raw/crw/ibge/pintec_grau_nov_imp/",
         "raw/crw/ibge/pintec_grau_nov_imp/",
         "43613",
         "ibge",
         "pintec_grau_nov_imp",
         " "
        ],
        [
         "abfss://datalake@cnibigdatadlsgen2.dfs.core.windows.net/raw/crw/ibge/pintec_prod_vend_int_po/",
         "raw/crw/ibge/pintec_prod_vend_int_po/",
         "28865",
         "ibge",
         "pintec_prod_vend_int_po",
         " "
        ],
        [
         "abfss://datalake@cnibigdatadlsgen2.dfs.core.windows.net/raw/crw/ms_sinan/anim/",
         "raw/crw/ms_sinan/anim/",
         "74453099",
         "ms_sinan",
         "anim",
         " "
        ],
        [
         "abfss://datalake@cnibigdatadlsgen2.dfs.core.windows.net/raw/crw/aco_brasil/prod_aco_nacional/",
         "raw/crw/aco_brasil/prod_aco_nacional/",
         "54263",
         "aco_brasil",
         "prod_aco_nacional",
         " "
        ],
        [
         "abfss://datalake@cnibigdatadlsgen2.dfs.core.windows.net/raw/usr/fiesc/bacen/igpm/",
         "raw/usr/fiesc/bacen/igpm/",
         "9370",
         "fiesc",
         "bacen",
         "igpm"
        ],
        [
         "abfss://datalake@cnibigdatadlsgen2.dfs.core.windows.net/raw/usr/oni/bases_do_projeto/monitor_de_vagas/",
         "raw/usr/oni/bases_do_projeto/monitor_de_vagas/",
         "9641",
         "oni",
         "bases_do_projeto",
         "monitor_de_vagas"
        ],
        [
         "abfss://datalake@cnibigdatadlsgen2.dfs.core.windows.net/raw/crw/ibge/pintec_rel_coop_loc/",
         "raw/crw/ibge/pintec_rel_coop_loc/",
         "41533",
         "ibge",
         "pintec_rel_coop_loc",
         " "
        ],
        [
         "abfss://datalake@cnibigdatadlsgen2.dfs.core.windows.net/raw/crw/ms_sinan/acbi/",
         "raw/crw/ms_sinan/acbi/",
         "26707658",
         "ms_sinan",
         "acbi",
         " "
        ],
        [
         "abfss://datalake@cnibigdatadlsgen2.dfs.core.windows.net/raw/crw/ms_sinan/lerd/",
         "raw/crw/ms_sinan/lerd/",
         "4085373",
         "ms_sinan",
         "lerd",
         " "
        ],
        [
         "abfss://datalake@cnibigdatadlsgen2.dfs.core.windows.net/raw/usr/uniepro/ibge_municipios/",
         "raw/usr/uniepro/ibge_municipios/",
         "379721",
         "uniepro",
         "uniepro_ibge_municipios",
         "ibge_municipios"
        ],
        [
         "abfss://datalake@cnibigdatadlsgen2.dfs.core.windows.net/raw/usr/uniepro/rfb/siafi/",
         "raw/usr/uniepro/rfb/siafi/",
         "166059",
         "uniepro",
         "uniepro_rfb",
         "siafi"
        ],
        [
         "abfss://datalake@cnibigdatadlsgen2.dfs.core.windows.net/raw/crw/ibge/pop_projetada_expectativa_txmortal/",
         "raw/crw/ibge/pop_projetada_expectativa_txmortal/",
         "478232",
         "ibge",
         "pop_projetada_expectativa_txmortal",
         " "
        ],
        [
         "abfss://datalake@cnibigdatadlsgen2.dfs.core.windows.net/raw/crw/ibge/pintec_org_mkt_po/",
         "raw/crw/ibge/pintec_org_mkt_po/",
         "37248",
         "ibge",
         "pintec_org_mkt_po",
         " "
        ],
        [
         "abfss://datalake@cnibigdatadlsgen2.dfs.core.windows.net/raw/crw/ms_sinan/pneu/",
         "raw/crw/ms_sinan/pneu/",
         "436450",
         "ms_sinan",
         "pneu",
         " "
        ],
        [
         "abfss://datalake@cnibigdatadlsgen2.dfs.core.windows.net/raw/crw/ibge/pop_projetada_pop_sex_idade/",
         "raw/crw/ibge/pop_projetada_pop_sex_idade/",
         "5752440",
         "ibge",
         "pop_projetada_pop_sex_idade",
         " "
        ],
        [
         "abfss://datalake@cnibigdatadlsgen2.dfs.core.windows.net/raw/crw/catho/vagas/",
         "raw/crw/catho/vagas/",
         "152682509",
         "catho",
         "vagas",
         " "
        ],
        [
         "abfss://datalake@cnibigdatadlsgen2.dfs.core.windows.net/raw/usr/uniepro/base_escolas/",
         "raw/usr/uniepro/base_escolas/",
         "23127777",
         "uniepro",
         "uniepro_base_escolas",
         "base_escolas"
        ],
        [
         "abfss://datalake@cnibigdatadlsgen2.dfs.core.windows.net/raw/usr/uniepro/monitor_de_vagas/dicionarios/",
         "raw/usr/uniepro/monitor_de_vagas/dicionarios/",
         "7425",
         "uniepro",
         "uniepro_monitor_de_vagas",
         "dicionarios"
        ],
        [
         "abfss://datalake@cnibigdatadlsgen2.dfs.core.windows.net/raw/crw/banco_mundial/documentacao_paises/",
         "raw/crw/banco_mundial/documentacao_paises/",
         "23048",
         "banco_mundial",
         "documentacao_paises",
         " "
        ],
        [
         "abfss://datalake@cnibigdatadlsgen2.dfs.core.windows.net/raw/crw/me/novo_caged_for/",
         "raw/crw/me/novo_caged_for/",
         "109206596",
         "me",
         "novo_caged_for",
         " "
        ],
        [
         "abfss://datalake@cnibigdatadlsgen2.dfs.core.windows.net/raw/usr/devops/",
         "raw/usr/devops/",
         "This request is not authorized",
         "devops",
         "",
         " "
        ],
        [
         "abfss://datalake@cnibigdatadlsgen2.dfs.core.windows.net/raw/usr/fiesc/bacen/taxa/",
         "raw/usr/fiesc/bacen/taxa/",
         "34256",
         "fiesc",
         "bacen",
         "taxa"
        ],
        [
         "abfss://datalake@cnibigdatadlsgen2.dfs.core.windows.net/raw/crw/ibge/scnt_volume_se_unificado/",
         "raw/crw/ibge/scnt_volume_se_unificado/",
         "28325",
         "ibge",
         "scnt_volume_se_unificado",
         " "
        ],
        [
         "abfss://datalake@cnibigdatadlsgen2.dfs.core.windows.net/raw/crw/rfb_cnpj/cadastro_socio/",
         "raw/crw/rfb_cnpj/cadastro_socio/",
         "771129581",
         "rfb_cnpj",
         "cadastro_socio",
         " "
        ],
        [
         "abfss://datalake@cnibigdatadlsgen2.dfs.core.windows.net/raw/usr/me/cadastro_cbo_perfil_ocupacional/",
         "raw/usr/me/cadastro_cbo_perfil_ocupacional/",
         "1562049",
         "me",
         "cadastro_cbo_perfil_ocupacional",
         " "
        ],
        [
         "abfss://datalake@cnibigdatadlsgen2.dfs.core.windows.net/raw/crw/ibge/deflatores/",
         "raw/crw/ibge/deflatores/",
         "67885",
         "ibge",
         "deflatores",
         " "
        ],
        [
         "abfss://datalake@cnibigdatadlsgen2.dfs.core.windows.net/raw/usr/fiesc/ibge/pesq_men_com/",
         "raw/usr/fiesc/ibge/pesq_men_com/",
         "116597",
         "fiesc",
         "ibge",
         "pesq_men_com"
        ],
        [
         "abfss://datalake@cnibigdatadlsgen2.dfs.core.windows.net/raw/crw/ibge/pintec_tipo_inov_proj/",
         "raw/crw/ibge/pintec_tipo_inov_proj/",
         "41451",
         "ibge",
         "pintec_tipo_inov_proj",
         " "
        ],
        [
         "abfss://datalake@cnibigdatadlsgen2.dfs.core.windows.net/raw/crw/mec/pnp_fin/",
         "raw/crw/mec/pnp_fin/",
         "86308",
         "mec",
         "pnp_fin",
         " "
        ],
        [
         "abfss://datalake@cnibigdatadlsgen2.dfs.core.windows.net/raw/crw/ibge/pia_produto_vti/",
         "raw/crw/ibge/pia_produto_vti/",
         "310733",
         "ibge",
         "pia_produto_vti",
         " "
        ],
        [
         "abfss://datalake@cnibigdatadlsgen2.dfs.core.windows.net/raw/crw/aneel/gera_energia_distrib/",
         "raw/crw/aneel/gera_energia_distrib/",
         "39050620",
         "aneel",
         "gera_energia_distrib",
         " "
        ],
        [
         "abfss://datalake@cnibigdatadlsgen2.dfs.core.windows.net/raw/crw/ibge/scnt_volume_tx_unificado/",
         "raw/crw/ibge/scnt_volume_tx_unificado/",
         "59808",
         "ibge",
         "scnt_volume_tx_unificado",
         " "
        ],
        [
         "abfss://datalake@cnibigdatadlsgen2.dfs.core.windows.net/raw/crw/ibge/pintec_bio_nano_po/",
         "raw/crw/ibge/pintec_bio_nano_po/",
         "25917",
         "ibge",
         "pintec_bio_nano_po",
         " "
        ],
        [
         "abfss://datalake@cnibigdatadlsgen2.dfs.core.windows.net/raw/crw/me/comex/ncm_siit/",
         "raw/crw/me/comex/ncm_siit/",
         "433767",
         "me",
         "comex",
         "ncm_siit"
        ],
        [
         "abfss://datalake@cnibigdatadlsgen2.dfs.core.windows.net/raw/usr/uniepro/faixa_etaria/",
         "raw/usr/uniepro/faixa_etaria/",
         "4146",
         "uniepro",
         "uniepro_faixa_etaria",
         "faixa_etaria"
        ],
        [
         "abfss://datalake@cnibigdatadlsgen2.dfs.core.windows.net/raw/usr/inep_saeb/mascara_escolas_sesi/",
         "raw/usr/inep_saeb/mascara_escolas_sesi/",
         "7105",
         "inep_saeb",
         "mascara_escolas_sesi",
         " "
        ],
        [
         "abfss://datalake@cnibigdatadlsgen2.dfs.core.windows.net/raw/crw/banco_mundial/indicadores_selecionados/",
         "raw/crw/banco_mundial/indicadores_selecionados/",
         "4687971",
         "banco_mundial",
         "indicadores_selecionados",
         " "
        ],
        [
         "abfss://datalake@cnibigdatadlsgen2.dfs.core.windows.net/raw/crw/ibge/pintec_prob_obst_po/",
         "raw/crw/ibge/pintec_prob_obst_po/",
         "134258",
         "ibge",
         "pintec_prob_obst_po",
         " "
        ],
        [
         "abfss://datalake@cnibigdatadlsgen2.dfs.core.windows.net/raw/crw/ibge/pnadc_a_visita2/",
         "raw/crw/ibge/pnadc_a_visita2/",
         "469948171",
         "ibge",
         "pnadc_a_visita2",
         " "
        ],
        [
         "abfss://datalake@cnibigdatadlsgen2.dfs.core.windows.net/raw/crw/ibge/scnt_contas_economicas_unificado/",
         "raw/crw/ibge/scnt_contas_economicas_unificado/",
         "18931",
         "ibge",
         "scnt_contas_economicas_unificado",
         " "
        ],
        [
         "abfss://datalake@cnibigdatadlsgen2.dfs.core.windows.net/raw/usr/fiesc/ibge/paic/",
         "raw/usr/fiesc/ibge/paic/",
         "321989",
         "fiesc",
         "ibge",
         "paic"
        ],
        [
         "abfss://datalake@cnibigdatadlsgen2.dfs.core.windows.net/raw/crw/ibge/pnadc_a_deflatores/",
         "raw/crw/ibge/pnadc_a_deflatores/",
         "68355",
         "ibge",
         "pnadc_a_deflatores",
         " "
        ],
        [
         "abfss://datalake@cnibigdatadlsgen2.dfs.core.windows.net/raw/crw/inep_had/escolas/",
         "raw/crw/inep_had/escolas/",
         "62164208",
         "inep_had",
         "escolas",
         " "
        ],
        [
         "abfss://datalake@cnibigdatadlsgen2.dfs.core.windows.net/raw/crw/iea/carvao_estatisticas/",
         "raw/crw/iea/carvao_estatisticas/",
         "15296",
         "iea",
         "carvao_estatisticas",
         " "
        ],
        [
         "abfss://datalake@cnibigdatadlsgen2.dfs.core.windows.net/raw/usr/fiesc/bacen/expec_prod_ind/",
         "raw/usr/fiesc/bacen/expec_prod_ind/",
         "44716",
         "fiesc",
         "bacen",
         "expec_prod_ind"
        ],
        [
         "abfss://datalake@cnibigdatadlsgen2.dfs.core.windows.net/raw/usr/me/cadastro_cbo_sinonimo/",
         "raw/usr/me/cadastro_cbo_sinonimo/",
         "124047",
         "me",
         "cadastro_cbo_sinonimo",
         " "
        ],
        [
         "abfss://datalake@cnibigdatadlsgen2.dfs.core.windows.net/raw/crw/inep_saeb/ts_resultado_aluno/",
         "raw/crw/inep_saeb/ts_resultado_aluno/",
         "106541076",
         "inep_saeb",
         "ts_resultado_aluno",
         " "
        ],
        [
         "abfss://datalake@cnibigdatadlsgen2.dfs.core.windows.net/raw/crw/fmi_proj/pais/",
         "raw/crw/fmi_proj/pais/",
         "71982620",
         "fmi_proj",
         "pais",
         " "
        ],
        [
         "abfss://datalake@cnibigdatadlsgen2.dfs.core.windows.net/raw/crw/ibge/scnt_valor_preco1995_saz_unificado/",
         "raw/crw/ibge/scnt_valor_preco1995_saz_unificado/",
         "30314",
         "ibge",
         "scnt_valor_preco1995_saz_unificado",
         " "
        ],
        [
         "abfss://datalake@cnibigdatadlsgen2.dfs.core.windows.net/raw/crw/inep_icg/escolas/",
         "raw/crw/inep_icg/escolas/",
         "43313967",
         "inep_icg",
         "escolas",
         " "
        ],
        [
         "abfss://datalake@cnibigdatadlsgen2.dfs.core.windows.net/raw/crw/inep_saeb/saeb_professor_unificada/",
         "raw/crw/inep_saeb/saeb_professor_unificada/",
         "76906195",
         "inep_saeb",
         "saeb_professor_unificada",
         " "
        ],
        [
         "abfss://datalake@cnibigdatadlsgen2.dfs.core.windows.net/raw/crw/inep_saeb/saeb_resultado_uf_unificado/",
         "raw/crw/inep_saeb/saeb_resultado_uf_unificado/",
         "1091790",
         "inep_saeb",
         "saeb_resultado_uf_unificado",
         " "
        ],
        [
         "abfss://datalake@cnibigdatadlsgen2.dfs.core.windows.net/raw/crw/inep_taxa_rendimento/escolas/",
         "raw/crw/inep_taxa_rendimento/escolas/",
         "114091056",
         "inep_taxa_rendimento",
         "escolas",
         " "
        ],
        [
         "abfss://datalake@cnibigdatadlsgen2.dfs.core.windows.net/raw/crw/me/comex/ncm_ppe/",
         "raw/crw/me/comex/ncm_ppe/",
         "477588",
         "me",
         "comex",
         "ncm_ppe"
        ],
        [
         "abfss://datalake@cnibigdatadlsgen2.dfs.core.windows.net/raw/crw/ms/sih_rd/",
         "raw/crw/ms/sih_rd/",
         "3474922211",
         "ms",
         "sih_rd",
         " "
        ],
        [
         "abfss://datalake@cnibigdatadlsgen2.dfs.core.windows.net/raw/crw/oni/ibge/gini/",
         "raw/crw/oni/ibge/gini/",
         "8887",
         "oni",
         "ibge",
         "gini"
        ],
        [
         "abfss://datalake@cnibigdatadlsgen2.dfs.core.windows.net/raw/crw/rfb/cno/cno_vinculos/",
         "raw/crw/rfb/cno/cno_vinculos/",
         "3342039",
         "rfb",
         "cno",
         "cno_vinculos"
        ],
        [
         "abfss://datalake@cnibigdatadlsgen2.dfs.core.windows.net/raw/crw/mec/pnp_mat/",
         "raw/crw/mec/pnp_mat/",
         "114994615",
         "mec",
         "pnp_mat",
         " "
        ],
        [
         "abfss://datalake@cnibigdatadlsgen2.dfs.core.windows.net/raw/crw/mtp_aeat/acid_obi_mun/",
         "raw/crw/mtp_aeat/acid_obi_mun/",
         "3236056",
         "mtp_aeat",
         "acid_obi_mun",
         " "
        ],
        [
         "abfss://datalake@cnibigdatadlsgen2.dfs.core.windows.net/raw/crw/ibge/pintec_rel_coop_loc_po/",
         "raw/crw/ibge/pintec_rel_coop_loc_po/",
         "64831",
         "ibge",
         "pintec_rel_coop_loc_po",
         " "
        ],
        [
         "abfss://datalake@cnibigdatadlsgen2.dfs.core.windows.net/raw/crw/ocde/projecoes_economicas/",
         "raw/crw/ocde/projecoes_economicas/",
         "1161173",
         "ocde",
         "projecoes_economicas",
         " "
        ],
        [
         "abfss://datalake@cnibigdatadlsgen2.dfs.core.windows.net/raw/crw/inep_enem/microdados_enem/",
         "raw/crw/inep_enem/microdados_enem/",
         "7860326857",
         "inep_enem",
         "microdados_enem",
         " "
        ],
        [
         "abfss://datalake@cnibigdatadlsgen2.dfs.core.windows.net/raw/crw/inep_had/brasil_regioes_e_ufs/",
         "raw/crw/inep_had/brasil_regioes_e_ufs/",
         "405063",
         "inep_had",
         "brasil_regioes_e_ufs",
         " "
        ],
        [
         "abfss://datalake@cnibigdatadlsgen2.dfs.core.windows.net/raw/usr/fiesc/me/comex/",
         "raw/usr/fiesc/me/comex/",
         "4725690974",
         "fiesc",
         "me",
         "comex"
        ],
        [
         "abfss://datalake@cnibigdatadlsgen2.dfs.core.windows.net/raw/crw/me/comex/pais/",
         "raw/crw/me/comex/pais/",
         "17784",
         "me",
         "comex",
         "pais"
        ],
        [
         "abfss://datalake@cnibigdatadlsgen2.dfs.core.windows.net/raw/usr/fiesc/ibge/inpc/",
         "raw/usr/fiesc/ibge/inpc/",
         "6928520",
         "fiesc",
         "ibge",
         "inpc"
        ],
        [
         "abfss://datalake@cnibigdatadlsgen2.dfs.core.windows.net/raw/crw/inep_saeb/ts_quest_aluno/",
         "raw/crw/inep_saeb/ts_quest_aluno/",
         "219761567",
         "inep_saeb",
         "ts_quest_aluno",
         " "
        ],
        [
         "abfss://datalake@cnibigdatadlsgen2.dfs.core.windows.net/raw/crw/inguru/news/",
         "raw/crw/inguru/news/",
         "87949",
         "inguru",
         "news",
         " "
        ],
        [
         "abfss://datalake@cnibigdatadlsgen2.dfs.core.windows.net/raw/crw/me/caged/",
         "raw/crw/me/caged/",
         "6581994671",
         "me",
         "caged",
         " "
        ],
        [
         "abfss://datalake@cnibigdatadlsgen2.dfs.core.windows.net/raw/crw/rfb/cno/cno_areas/",
         "raw/crw/rfb/cno/cno_areas/",
         "33143239",
         "rfb",
         "cno",
         "cno_areas"
        ],
        [
         "abfss://datalake@cnibigdatadlsgen2.dfs.core.windows.net/raw/crw/inep_censo_escolar/turmas/",
         "raw/crw/inep_censo_escolar/turmas/",
         "798277871",
         "inep_censo_escolar",
         "turmas",
         " "
        ],
        [
         "abfss://datalake@cnibigdatadlsgen2.dfs.core.windows.net/raw/crw/rfb_cnpj/tabelas_auxiliares/motivo/",
         "raw/crw/rfb_cnpj/tabelas_auxiliares/motivo/",
         "4640",
         "rfb_cnpj",
         "tabelas_auxiliares",
         "motivo"
        ],
        [
         "abfss://datalake@cnibigdatadlsgen2.dfs.core.windows.net/raw/usr/me/rais_vinculo/",
         "raw/usr/me/rais_vinculo/",
         "111718297966",
         "me",
         "rais_vinculo",
         " "
        ],
        [
         "abfss://datalake@cnibigdatadlsgen2.dfs.core.windows.net/raw/crw/rfb_cnpj/tabelas_auxiliares/nat_juridica/",
         "raw/crw/rfb_cnpj/tabelas_auxiliares/nat_juridica/",
         "5363",
         "rfb_cnpj",
         "tabelas_auxiliares",
         "nat_juridica"
        ],
        [
         "abfss://datalake@cnibigdatadlsgen2.dfs.core.windows.net/raw/crw/inep_had/municipios/",
         "raw/crw/inep_had/municipios/",
         "12371046",
         "inep_had",
         "municipios",
         " "
        ],
        [
         "abfss://datalake@cnibigdatadlsgen2.dfs.core.windows.net/raw/usr/uniepro/ocup_indust_cbodom/",
         "raw/usr/uniepro/ocup_indust_cbodom/",
         "16666",
         "uniepro",
         "uniepro_ocup_indust_cbodom",
         "ocup_indust_cbodom"
        ],
        [
         "abfss://datalake@cnibigdatadlsgen2.dfs.core.windows.net/raw/crw/inep_saeb/prova_brasil_2013/",
         "raw/crw/inep_saeb/prova_brasil_2013/",
         "629787752",
         "inep_saeb",
         "prova_brasil_2013",
         " "
        ],
        [
         "abfss://datalake@cnibigdatadlsgen2.dfs.core.windows.net/raw/crw/ms/sih_sp/",
         "raw/crw/ms/sih_sp/",
         "23907332108",
         "ms",
         "sih_sp",
         " "
        ],
        [
         "abfss://datalake@cnibigdatadlsgen2.dfs.core.windows.net/raw/crw/worldsteel/indicadores_selecionados/",
         "raw/crw/worldsteel/indicadores_selecionados/",
         "38738",
         "worldsteel",
         "indicadores_selecionados",
         " "
        ],
        [
         "abfss://datalake@cnibigdatadlsgen2.dfs.core.windows.net/raw/usr/inep_saeb/competencias_e_habilidades_ajuste_mt/",
         "raw/usr/inep_saeb/competencias_e_habilidades_ajuste_mt/",
         "124264",
         "inep_saeb",
         "competencias_e_habilidades_ajuste_mt",
         " "
        ],
        [
         "abfss://datalake@cnibigdatadlsgen2.dfs.core.windows.net/raw/crw/inep_dsu/municipios/",
         "raw/crw/inep_dsu/municipios/",
         "9491765",
         "inep_dsu",
         "municipios",
         " "
        ],
        [
         "abfss://datalake@cnibigdatadlsgen2.dfs.core.windows.net/raw/crw/inep_prova_brasil/ts_resposta_aluno/",
         "raw/crw/inep_prova_brasil/ts_resposta_aluno/",
         "251361551",
         "inep_prova_brasil",
         "ts_resposta_aluno",
         " "
        ],
        [
         "abfss://datalake@cnibigdatadlsgen2.dfs.core.windows.net/raw/crw/me/comex/uf_mun/",
         "raw/crw/me/comex/uf_mun/",
         "157525",
         "me",
         "comex",
         "uf_mun"
        ],
        [
         "abfss://datalake@cnibigdatadlsgen2.dfs.core.windows.net/raw/crw/mec/pnp_efi/",
         "raw/crw/mec/pnp_efi/",
         "32982378",
         "mec",
         "pnp_efi",
         " "
        ],
        [
         "abfss://datalake@cnibigdatadlsgen2.dfs.core.windows.net/raw/crw/mtp_aeat/motivo_class/",
         "raw/crw/mtp_aeat/motivo_class/",
         "2071805",
         "mtp_aeat",
         "motivo_class",
         " "
        ],
        [
         "abfss://datalake@cnibigdatadlsgen2.dfs.core.windows.net/raw/crw/ibge/pnadc_a_trim4/",
         "raw/crw/ibge/pnadc_a_trim4/",
         "2542982482",
         "ibge",
         "pnadc_a_trim4",
         " "
        ],
        [
         "abfss://datalake@cnibigdatadlsgen2.dfs.core.windows.net/raw/crw/ibge/pnadc_a_visita1/",
         "raw/crw/ibge/pnadc_a_visita1/",
         "2705106492",
         "ibge",
         "pnadc_a_visita1",
         " "
        ],
        [
         "abfss://datalake@cnibigdatadlsgen2.dfs.core.windows.net/raw/crw/inep_enem/enem_escola_dicionario/",
         "raw/crw/inep_enem/enem_escola_dicionario/",
         "6578",
         "inep_enem",
         "enem_escola_dicionario",
         " "
        ],
        [
         "abfss://datalake@cnibigdatadlsgen2.dfs.core.windows.net/raw/crw/ibge/pintec_rel_coop/",
         "raw/crw/ibge/pintec_rel_coop/",
         "41518",
         "ibge",
         "pintec_rel_coop",
         " "
        ],
        [
         "abfss://datalake@cnibigdatadlsgen2.dfs.core.windows.net/raw/crw/inep_censo_escolar/escola/",
         "raw/crw/inep_censo_escolar/escola/",
         "183774516",
         "inep_censo_escolar",
         "escola",
         " "
        ],
        [
         "abfss://datalake@cnibigdatadlsgen2.dfs.core.windows.net/raw/crw/me/comex/ncm_cuci/",
         "raw/crw/me/comex/ncm_cuci/",
         "667563",
         "me",
         "comex",
         "ncm_cuci"
        ],
        [
         "abfss://datalake@cnibigdatadlsgen2.dfs.core.windows.net/raw/crw/me/comex/via/",
         "raw/crw/me/comex/via/",
         "2922",
         "me",
         "comex",
         "via"
        ],
        [
         "abfss://datalake@cnibigdatadlsgen2.dfs.core.windows.net/raw/crw/rfb_cnpj/tabelas_auxiliares/qualif_socio/",
         "raw/crw/rfb_cnpj/tabelas_auxiliares/qualif_socio/",
         "4343",
         "rfb_cnpj",
         "tabelas_auxiliares",
         "qualif_socio"
        ],
        [
         "abfss://datalake@cnibigdatadlsgen2.dfs.core.windows.net/raw/usr/fiesc/bacen/expec_mercado/",
         "raw/usr/fiesc/bacen/expec_mercado/",
         "62472",
         "fiesc",
         "bacen",
         "expec_mercado"
        ],
        [
         "abfss://datalake@cnibigdatadlsgen2.dfs.core.windows.net/raw/crw/inep_censo_escolar/gestor/",
         "raw/crw/inep_censo_escolar/gestor/",
         "32856646",
         "inep_censo_escolar",
         "gestor",
         " "
        ],
        [
         "abfss://datalake@cnibigdatadlsgen2.dfs.core.windows.net/raw/usr/fiesc/ibge/pms/",
         "raw/usr/fiesc/ibge/pms/",
         "6934851",
         "fiesc",
         "ibge",
         "pms"
        ],
        [
         "abfss://datalake@cnibigdatadlsgen2.dfs.core.windows.net/raw/crw/banco_mundial/preco_commodity/",
         "raw/crw/banco_mundial/preco_commodity/",
         "1258435",
         "banco_mundial",
         "preco_commodity",
         " "
        ],
        [
         "abfss://datalake@cnibigdatadlsgen2.dfs.core.windows.net/raw/crw/inep_censo_escolar/curso_educacao_profissional/",
         "raw/crw/inep_censo_escolar/curso_educacao_profissional/",
         "36040",
         "inep_censo_escolar",
         "curso_educacao_profissional",
         " "
        ],
        [
         "abfss://datalake@cnibigdatadlsgen2.dfs.core.windows.net/raw/crw/ms_sinan/acgr/",
         "raw/crw/ms_sinan/acgr/",
         "55931458",
         "ms_sinan",
         "acgr",
         " "
        ],
        [
         "abfss://datalake@cnibigdatadlsgen2.dfs.core.windows.net/raw/usr/oni/ibge/geo_municipios/",
         "raw/usr/oni/ibge/geo_municipios/",
         "378595",
         "oni",
         "ibge",
         "geo_municipios"
        ],
        [
         "abfss://datalake@cnibigdatadlsgen2.dfs.core.windows.net/raw/crw/ms_sinan/iexo/",
         "raw/crw/ms_sinan/iexo/",
         "60768050",
         "ms_sinan",
         "iexo",
         " "
        ],
        [
         "abfss://datalake@cnibigdatadlsgen2.dfs.core.windows.net/raw/crw/me/comex/mun_exp/",
         "raw/crw/me/comex/mun_exp/",
         "305139735",
         "me",
         "comex",
         "mun_exp"
        ],
        [
         "abfss://datalake@cnibigdatadlsgen2.dfs.core.windows.net/raw/crw/rfb_cnpj/cadastro_simples/",
         "raw/crw/rfb_cnpj/cadastro_simples/",
         "390069756",
         "rfb_cnpj",
         "cadastro_simples",
         " "
        ],
        [
         "abfss://datalake@cnibigdatadlsgen2.dfs.core.windows.net/raw/crw/ibge/scnt_valor_preco1995_unificado/",
         "raw/crw/ibge/scnt_valor_preco1995_unificado/",
         "31117",
         "ibge",
         "scnt_valor_preco1995_unificado",
         " "
        ],
        [
         "abfss://datalake@cnibigdatadlsgen2.dfs.core.windows.net/raw/usr/me/cadastro_cbo/",
         "raw/usr/me/cadastro_cbo/",
         "103351",
         "me",
         "cadastro_cbo",
         " "
        ],
        [
         "abfss://datalake@cnibigdatadlsgen2.dfs.core.windows.net/raw/crw/me/comex/isic_cuci/",
         "raw/crw/me/comex/isic_cuci/",
         "461793",
         "me",
         "comex",
         "isic_cuci"
        ],
        [
         "abfss://datalake@cnibigdatadlsgen2.dfs.core.windows.net/raw/crw/ibge/cnae_subclasses/",
         "raw/crw/ibge/cnae_subclasses/",
         "72155",
         "ibge",
         "cnae_subclasses",
         " "
        ],
        [
         "abfss://datalake@cnibigdatadlsgen2.dfs.core.windows.net/raw/crw/inep_afd/brasil_regioes_e_ufs/",
         "raw/crw/inep_afd/brasil_regioes_e_ufs/",
         "543365",
         "inep_afd",
         "brasil_regioes_e_ufs",
         " "
        ],
        [
         "abfss://datalake@cnibigdatadlsgen2.dfs.core.windows.net/raw/crw/mtp_aeat/motivo_div/",
         "raw/crw/mtp_aeat/motivo_div/",
         "563397",
         "mtp_aeat",
         "motivo_div",
         " "
        ]
       ],
       "datasetInfos": [],
       "dbfsResultPath": null,
       "isJsonSchema": true,
       "metadata": {},
       "overflow": false,
       "plotOptions": {
        "customPlotOptions": {},
        "displayType": "table",
        "pivotAggregation": null,
        "pivotColumns": null,
        "xColumns": null,
        "yColumns": null
       },
       "removedWidgets": [],
       "schema": [
        {
         "metadata": "{}",
         "name": "path",
         "type": "\"string\""
        },
        {
         "metadata": "{}",
         "name": "path__",
         "type": "\"string\""
        },
        {
         "metadata": "{}",
         "name": "size_bytes",
         "type": "\"string\""
        },
        {
         "metadata": "{}",
         "name": "source_name",
         "type": "\"string\""
        },
        {
         "metadata": "{}",
         "name": "schema_name",
         "type": "\"string\""
        },
        {
         "metadata": "{}",
         "name": "table_name",
         "type": "\"string\""
        }
       ],
       "type": "table"
      }
     },
     "output_type": "display_data"
    }
   ],
   "source": [
    "CATALAGO.display()"
   ]
  },
  {
   "cell_type": "code",
   "execution_count": null,
   "metadata": {
    "application/vnd.databricks.v1+cell": {
     "cellMetadata": {},
     "inputWidgets": {},
     "nuid": "5b20048a-0d44-4fbd-b2ca-e3217717a899",
     "showTitle": false,
     "title": ""
    }
   },
   "outputs": [],
   "source": []
  }
 ],
 "metadata": {
  "application/vnd.databricks.v1+notebook": {
   "dashboards": [],
   "language": "python",
   "notebookMetadata": {
    "pythonIndentUnit": 2
   },
   "notebookName": "Catalogo_code",
   "notebookOrigID": 626160930620353,
   "widgets": {
    "env": {
     "currentValue": "prod",
     "nuid": "0b0d3d9b-7ccb-4f01-a116-5adb650a8ec4",
     "widgetInfo": {
      "defaultValue": "prod",
      "label": null,
      "name": "env",
      "options": {
       "choices": [
        "dev",
        "prod"
       ],
       "widgetType": "dropdown"
      },
      "widgetType": "dropdown"
     }
    },
    "layers": {
     "currentValue": "raw",
     "nuid": "b87b6e97-b309-4fe6-9516-d1e6b3b0e27b",
     "widgetInfo": {
      "defaultValue": "raw",
      "label": null,
      "name": "layers",
      "options": {
       "choices": [
        "raw",
        "trs",
        "biz"
       ],
       "widgetType": "dropdown"
      },
      "widgetType": "dropdown"
     }
    },
    "source_name": {
     "currentValue": "raw",
     "nuid": "99f9b885-fe68-4841-b280-0644fc75ff54",
     "widgetInfo": {
      "defaultValue": "raw",
      "label": null,
      "name": "source_name",
      "options": {
       "validationRegex": null,
       "widgetType": "text"
      },
      "widgetType": "text"
     }
    },
    "source_type": {
     "currentValue": "external",
     "nuid": "4d04e68a-d86e-4355-a4c4-a4e223ef46a7",
     "widgetInfo": {
      "defaultValue": "external",
      "label": null,
      "name": "source_type",
      "options": {
       "validationRegex": null,
       "widgetType": "text"
      },
      "widgetType": "text"
     }
    }
   }
  },
  "language_info": {
   "name": "python"
  }
 },
 "nbformat": 4,
 "nbformat_minor": 0
}
