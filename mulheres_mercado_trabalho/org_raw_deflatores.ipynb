{
 "cells": [
  {
   "cell_type": "code",
   "execution_count": 0,
   "metadata": {
    "application/vnd.databricks.v1+cell": {
     "cellMetadata": {},
     "inputWidgets": {},
     "nuid": "6c0c69f5-a40b-4290-a00c-77b23597db6b",
     "showTitle": false,
     "title": ""
    }
   },
   "outputs": [],
   "source": [
    "#from cni_connectors_fornecedor import adls_gen1_connector as adls_conn\n",
    "from cni_connectors import adls_gen1_connector as adls_conn\n",
    "\n",
    "var_adls_uri = adls_conn.adls_gen1_connect(spark, dbutils, scope=\"adls_gen2\", dynamic_overwrite=\"dynamic\")"
   ]
  },
  {
   "cell_type": "markdown",
   "metadata": {
    "application/vnd.databricks.v1+cell": {
     "cellMetadata": {},
     "inputWidgets": {},
     "nuid": "6cffebe1-d705-4f53-bedf-8174d66d8184",
     "showTitle": false,
     "title": ""
    }
   },
   "source": [
    "### Raw specific parameter section"
   ]
  },
  {
   "cell_type": "code",
   "execution_count": 0,
   "metadata": {
    "application/vnd.databricks.v1+cell": {
     "cellMetadata": {},
     "inputWidgets": {},
     "nuid": "5cd6c22c-b86e-4227-bd09-8800a698dcab",
     "showTitle": false,
     "title": ""
    }
   },
   "outputs": [],
   "source": [
    "from pyspark.sql import Row\n",
    "from pyspark.sql.window import Window\n",
    "\n",
    "import crawler.functions as cf\n",
    "import datetime\n",
    "import json\n",
    "import pyspark.sql.functions as f\n",
    "import re"
   ]
  },
  {
   "cell_type": "code",
   "execution_count": 0,
   "metadata": {
    "application/vnd.databricks.v1+cell": {
     "cellMetadata": {},
     "inputWidgets": {},
     "nuid": "93cc3abe-8415-43c9-bfa1-714e87f2b646",
     "showTitle": false,
     "title": ""
    }
   },
   "outputs": [],
   "source": [
    "try:\n",
    "  table = json.loads(re.sub(\"\\'\", '\\\"', dbutils.widgets.get(\"tables\")))\n",
    "  dls = json.loads(re.sub(\"\\'\", '\\\"', dbutils.widgets.get(\"dls\")))\n",
    "  adf = json.loads(re.sub(\"\\'\", '\\\"', dbutils.widgets.get(\"adf\")))\n",
    "#tmp/dev/lnd/crw/ibge__deflatores\n",
    "except:\n",
    "  table = {\n",
    "   \"schema\": \"ibge\",\n",
    "   \"table\": \"deflatores\",\n",
    "   \"table_dict\": \"pnad_dicionario\",\n",
    "   \"table_dest\": \"pnadc\"\n",
    " }\n",
    "  adf = {\n",
    "   \"adf_factory_name\": \"cnibigdatafactory\",\n",
    "   \"adf_pipeline_name\": \"org_raw_caged\",\n",
    "   \"adf_pipeline_run_id\": \"60ee3485-4a56-4ad1-99ae-666666666\",\n",
    "   \"adf_trigger_id\": \"62bee9e9-acbb-49cc-80f2-666666666\",\n",
    "   \"adf_trigger_name\": \"62bee9e9-acbb-49cc-80f2-66666666\",\n",
    "   \"adf_trigger_time\": \"2020-06-08T01:42:41.5507749Z\",\n",
    "   \"adf_trigger_type\": \"PipelineActivity\"\n",
    " }\n",
    "\n",
    "  dls = {\"folders\":{\"landing\":\"/tmp/dev/lnd\", \"error\":\"/tmp/dev/err\", \"staging\":\"/tmp/dev/stg\", \"log\":\"/tmp/dev/log\", \"raw\":\"/tmp/dev/raw\"}}"
   ]
  },
  {
   "cell_type": "code",
   "execution_count": 0,
   "metadata": {
    "application/vnd.databricks.v1+cell": {
     "cellMetadata": {},
     "inputWidgets": {},
     "nuid": "90e8fb7c-9e39-48c4-a8ec-0563d4f9d092",
     "showTitle": false,
     "title": ""
    }
   },
   "outputs": [],
   "source": [
    "lnd = dls['folders']['landing']\n",
    "raw = dls['folders']['raw']"
   ]
  },
  {
   "cell_type": "code",
   "execution_count": 0,
   "metadata": {
    "application/vnd.databricks.v1+cell": {
     "cellMetadata": {},
     "inputWidgets": {},
     "nuid": "97cdabf9-aeee-4150-a692-1bb7529db65d",
     "showTitle": false,
     "title": ""
    }
   },
   "outputs": [],
   "source": [
    "lnd_path = \"{lnd}/crw/{schema}__{table}\".format(lnd=lnd, schema=table[\"schema\"], table=table[\"table\"])\n",
    "lnd_path"
   ]
  },
  {
   "cell_type": "code",
   "execution_count": 0,
   "metadata": {
    "application/vnd.databricks.v1+cell": {
     "cellMetadata": {},
     "inputWidgets": {},
     "nuid": "697a59d1-5048-4eff-8851-de9d42995aec",
     "showTitle": false,
     "title": ""
    }
   },
   "outputs": [],
   "source": [
    "adl_sink = \"{adl_path}{raw}/crw/{schema}/{table}\".format(adl_path=var_adls_uri, raw=raw, schema=table[\"schema\"], table=table[\"table\"])\n",
    "adl_sink"
   ]
  },
  {
   "cell_type": "code",
   "execution_count": 0,
   "metadata": {
    "application/vnd.databricks.v1+cell": {
     "cellMetadata": {},
     "inputWidgets": {},
     "nuid": "5e6765e8-9d49-4bc6-ba41-42e865e7f158",
     "showTitle": false,
     "title": ""
    }
   },
   "outputs": [],
   "source": [
    "lnd_uri = '{adl}/{lnd}/'.format(adl=var_adls_uri, lnd=lnd_path)\n",
    "df = spark.read.parquet(lnd_uri)\n",
    "df_columns = df.columns\n",
    "\n",
    "df = cf.append_control_columns(df, dh_insercao_raw=adf[\"adf_trigger_time\"].split(\".\")[0])\n",
    "\n",
    "sqlContext.registerDataFrameAsTable(df, 'table');"
   ]
  },
  {
   "cell_type": "code",
   "execution_count": 0,
   "metadata": {
    "application/vnd.databricks.v1+cell": {
     "cellMetadata": {},
     "inputWidgets": {},
     "nuid": "2581b69a-166a-468f-8b5f-a8f2067ceddc",
     "showTitle": false,
     "title": ""
    }
   },
   "outputs": [],
   "source": [
    "df = df.withColumn('Ano', f.col('ano').cast('Int'))\n",
    "df = df.withColumn('UF', f.col('UF').cast('Int'))"
   ]
  },
  {
   "cell_type": "code",
   "execution_count": 0,
   "metadata": {
    "application/vnd.databricks.v1+cell": {
     "cellMetadata": {},
     "inputWidgets": {},
     "nuid": "7ea3e4cc-7be7-4316-b05b-7e8e26a19e3d",
     "showTitle": false,
     "title": ""
    }
   },
   "outputs": [],
   "source": [
    "df_adl_files = cf.list_adl_files(spark, dbutils, lnd_path)\n",
    "df = df.join(f.broadcast(df_adl_files), on='nm_arq_in', how='inner')"
   ]
  },
  {
   "cell_type": "code",
   "execution_count": 0,
   "metadata": {
    "application/vnd.databricks.v1+cell": {
     "cellMetadata": {},
     "inputWidgets": {},
     "nuid": "341b7450-2afa-49ae-b35b-abd58016029f",
     "showTitle": false,
     "title": ""
    }
   },
   "outputs": [],
   "source": [
    "ordered_columns = df_columns[:] + ['nr_reg', 'nm_arq_in', 'dh_arq_in', 'dh_insercao_raw']\n",
    "df = df.select(*ordered_columns)"
   ]
  },
  {
   "cell_type": "code",
   "execution_count": 0,
   "metadata": {
    "application/vnd.databricks.v1+cell": {
     "cellMetadata": {},
     "inputWidgets": {},
     "nuid": "4499e60e-ccb2-4407-b72a-b70dd42ae721",
     "showTitle": false,
     "title": ""
    }
   },
   "outputs": [],
   "source": [
    "df.write.parquet(adl_sink, mode='overwrite')"
   ]
  }
 ],
 "metadata": {
  "application/vnd.databricks.v1+notebook": {
   "dashboards": [],
   "language": "python",
   "notebookMetadata": {
    "pythonIndentUnit": 2
   },
   "notebookName": "org_raw_deflatores",
   "widgets": {}
  }
 },
 "nbformat": 4,
 "nbformat_minor": 0
}
