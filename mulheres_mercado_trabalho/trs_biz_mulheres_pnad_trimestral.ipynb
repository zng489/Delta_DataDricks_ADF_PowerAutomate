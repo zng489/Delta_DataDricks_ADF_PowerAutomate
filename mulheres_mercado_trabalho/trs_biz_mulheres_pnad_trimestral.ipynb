{
 "cells": [
  {
   "cell_type": "code",
   "execution_count": 0,
   "metadata": {
    "application/vnd.databricks.v1+cell": {
     "cellMetadata": {},
     "inputWidgets": {},
     "nuid": "fe45e4e9-5ae7-4edb-8f49-6cc6f4649b53",
     "showTitle": false,
     "title": ""
    }
   },
   "outputs": [],
   "source": [
    "from cni_connectors import adls_gen1_connector as adls_conn\n",
    "var_adls_uri = adls_conn.adls_gen1_connect(spark, dbutils, scope=\"adls_gen2\", dynamic_overwrite=\"dynamic\")"
   ]
  },
  {
   "cell_type": "code",
   "execution_count": 0,
   "metadata": {
    "application/vnd.databricks.v1+cell": {
     "cellMetadata": {},
     "inputWidgets": {},
     "nuid": "879f8923-2441-42a9-9f3c-62965d27b28e",
     "showTitle": false,
     "title": ""
    }
   },
   "outputs": [],
   "source": [
    "import json\n",
    "import re\n",
    "import pyspark.sql.functions as f\n",
    "from pyspark.sql import DataFrame\n",
    "from pyspark.sql.window import Window\n",
    "import pyspark.sql.functions as f\n",
    "from trs_control_field import trs_control_field as tcf"
   ]
  },
  {
   "cell_type": "code",
   "execution_count": 0,
   "metadata": {
    "application/vnd.databricks.v1+cell": {
     "cellMetadata": {},
     "inputWidgets": {},
     "nuid": "8875419d-1815-4a8c-8ba0-10ce77d288be",
     "showTitle": false,
     "title": ""
    }
   },
   "outputs": [],
   "source": [
    "table = json.loads(re.sub(\"\\\"\", \"\\\"\", dbutils.widgets.get(\"tables\")))\n",
    "dls = json.loads(re.sub(\"\\\"\", \"\\\"\", dbutils.widgets.get(\"dls\")))\n",
    "adf = json.loads(re.sub(\"\\\"\", \"\\\"\", dbutils.widgets.get(\"adf\")))"
   ]
  },
  {
   "cell_type": "code",
   "execution_count": 0,
   "metadata": {
    "application/vnd.databricks.v1+cell": {
     "cellMetadata": {},
     "inputWidgets": {},
     "nuid": "6bae24e4-5f1b-4fa6-849b-da8cbdc51072",
     "showTitle": false,
     "title": ""
    }
   },
   "outputs": [],
   "source": [
    "table = {\"copy_sqldw\":\"false\",\n",
    "  \"source_pnadc\":\"ibge/pnadc/\",\n",
    "  \"trs_deflatores_path\":\"oni/ibge/deflatores/\",\n",
    "  \"params_to_save_0\":\"ocupados/\",\n",
    "  \"params_to_save_1\":\"populacao/\",\n",
    "  \"path_destination\":\"oni/mulheres_no_mercado_de_trabalho/pnad_população_ocupados\",\n",
    "  \"destination\":\"/mulheres_no_mercado_de_trabalho/pnad_população_ocupados\",\n",
    "  \"databricks\":{\"notebook\":\"/biz/oni/mulheres_no_mercado_de_trabalho/trs_biz_pnad_trimestral\"}}\n",
    "\n",
    "adf = {\"adf_factory_name\":\"cnibigdatafactory\",\"adf_pipeline_name\":\"trs_biz_rfb_cno\",\"adf_pipeline_run_id\":\"c158e9dd-98df-4f7b-a64d-d13c76669868\",\"adf_trigger_id\":\"67c514a7245449b984eb4aadd55bfbff\",\"adf_trigger_name\":\"Sandbox\",\"adf_trigger_time\":\"2023-08-22T21:22:42.5769844Z\",\"adf_trigger_type\":\"Manual\"}\n",
    " \n",
    "dls = {\"folders\":{\"landing\":\"/tmp/dev/lnd\",\"error\":\"/tmp/dev/err\",\"archive\":\"/tmp/dev/ach\",\"staging\":\"/tmp/dev/stg\",\"log\":\"/tmp/dev/log\",\"raw\":\"/tmp/dev/raw\",\"trusted\":\"/tmp/dev/trs\",\"business\":\"/tmp/dev/biz\",\"prm\":\"/tmp/dev/prm\",\"historico\":\"/tmp/dev/hst\"},\"path_prefix\":\"tmp\",\"uld\":{\"folders\":{\"landing\":\"/tmp/dev/uld\",\"error\":\"/tmp/dev/err\",\"staging\":\"/tmp/dev/stg\",\"log\":\"/tmp/dev/log\",\"raw\":\"/tmp/dev/raw\",\"archive\":\"/tmp/dev/ach\"},\"systems\":{\"raw\":\"usr\"},\"path_prefix\":\"/tmp/dev/\"},\"systems\":{\"raw\":\"usr\"}}\n",
    "\n",
    "#cadastro_estbl_f = \"{adl_path}{trs}/{file_folder}/\".format(adl_path=var_adls_uri, trs=dls[\"folders\"][\"trusted\"], file_folder=table[\"cadastro_estbl_f\"])\n",
    "#cadastro_estbl = spark.read.format(\"parquet\").option(\"header\",\"true\").option(\"encoding\", \"ISO-8859-1\").load(cadastro_estbl_f, mode=\"FAILFAST\")"
   ]
  },
  {
   "cell_type": "code",
   "execution_count": 0,
   "metadata": {
    "application/vnd.databricks.v1+cell": {
     "cellMetadata": {},
     "inputWidgets": {},
     "nuid": "8c2822d1-2fdd-4045-9a04-c2e67f76fa81",
     "showTitle": false,
     "title": ""
    }
   },
   "outputs": [],
   "source": [
    "source_pnadc = \"{adl_path}{trusted}/{file_folder}/\".format(adl_path=var_adls_uri, trusted=dls[\"folders\"][\"trusted\"], file_folder=table[\"source_pnadc\"])\n",
    "trs_deflatores_path = \"{adl_path}{trusted}/{file_folder}/\".format(adl_path=var_adls_uri, trusted=dls[\"folders\"][\"trusted\"], file_folder=table[\"trs_deflatores_path\"])"
   ]
  },
  {
   "cell_type": "code",
   "execution_count": 0,
   "metadata": {
    "application/vnd.databricks.v1+cell": {
     "cellMetadata": {},
     "inputWidgets": {},
     "nuid": "d70b767a-9218-4988-b4c7-bd1808b23aa2",
     "showTitle": false,
     "title": ""
    }
   },
   "outputs": [],
   "source": []
  },
  {
   "cell_type": "code",
   "execution_count": 0,
   "metadata": {
    "application/vnd.databricks.v1+cell": {
     "cellMetadata": {},
     "inputWidgets": {},
     "nuid": "600d5161-b558-4241-9692-76b4115495e9",
     "showTitle": false,
     "title": ""
    }
   },
   "outputs": [],
   "source": [
    "df_pnadc = spark.read.parquet(source_pnadc)"
   ]
  },
  {
   "cell_type": "code",
   "execution_count": 0,
   "metadata": {
    "application/vnd.databricks.v1+cell": {
     "cellMetadata": {},
     "inputWidgets": {},
     "nuid": "2b02d527-b0e3-4500-a5fc-e458ebe8599a",
     "showTitle": false,
     "title": ""
    }
   },
   "outputs": [],
   "source": [
    "deflatores=(spark.read.parquet(trs_deflatores_path))"
   ]
  },
  {
   "cell_type": "code",
   "execution_count": 0,
   "metadata": {
    "application/vnd.databricks.v1+cell": {
     "cellMetadata": {},
     "inputWidgets": {},
     "nuid": "59ec8d42-5ab4-431f-a5ee-5f142cdb132e",
     "showTitle": false,
     "title": ""
    }
   },
   "outputs": [],
   "source": [
    "deflatores_columns = ['Ano','trim','UF','Habitual','Efetivo']\n",
    "df_deflatores=(deflatores\n",
    "           .select(*deflatores_columns))\n",
    "df_deflatores=(deflatores\n",
    "               .withColumnRenamed('Ano','ANO')\n",
    "               .withColumn('TRIMESTRE',f.when((f.col('trim')==f.lit('01-02-03')), f.lit(1)).otherwise(\n",
    "               f.when((f.col('trim')==f.lit('04-05-06')), f.lit(2)).otherwise(\n",
    "               f.when((f.col('trim')==f.lit('07-08-09')), f.lit(3)).otherwise(\n",
    "               f.when((f.col('trim')==f.lit('10-11-12')), f.lit(4))))))\n",
    "              .where(f.col('trim').isNotNull())\n",
    "           .drop('trim'))"
   ]
  },
  {
   "cell_type": "code",
   "execution_count": 0,
   "metadata": {
    "application/vnd.databricks.v1+cell": {
     "cellMetadata": {},
     "inputWidgets": {},
     "nuid": "134fee35-bfc6-4f0f-8803-cc9eb6353100",
     "showTitle": false,
     "title": ""
    }
   },
   "outputs": [],
   "source": [
    "def select_columns_pnadc(df: DataFrame)-> DataFrame:\n",
    "  pnadc_columns = [\"ANO\",\"TRIMESTRE\",\"UF\",\"UPA\", \"V1008\", \"V1022\", \"V1028\",\"V2007\",\"V2009\",\"V3002\",\"V4040\",\"VD3004\",\"VD3005\",\"VD4001\", \n",
    "                   \"VD4002\",\"VD4003\",\"VD4004\",\"VD4004A\",\"VD4005\",\"VD4009\",\"VD4012\",\"VD4017\",\"VD4018\",\"V4019\",\"V4076\",\"V40761\",\"V40762\",\"V40763\",\"V2010\",\"V4013\",\"V4039\"]\n",
    "  return df.select(*pnadc_columns)"
   ]
  },
  {
   "cell_type": "code",
   "execution_count": 0,
   "metadata": {
    "application/vnd.databricks.v1+cell": {
     "cellMetadata": {},
     "inputWidgets": {},
     "nuid": "9d844e19-937b-4ff2-87ff-075b7b78a6da",
     "showTitle": false,
     "title": ""
    }
   },
   "outputs": [],
   "source": [
    "df_pnadc = select_columns_pnadc(df_pnadc)"
   ]
  },
  {
   "cell_type": "code",
   "execution_count": 0,
   "metadata": {
    "application/vnd.databricks.v1+cell": {
     "cellMetadata": {},
     "inputWidgets": {},
     "nuid": "3d4f3469-d692-42c6-b24a-0cfde0ae303b",
     "showTitle": false,
     "title": ""
    }
   },
   "outputs": [],
   "source": [
    "def formating_and_filtering_variables(df: DataFrame) -> DataFrame:\n",
    "  return df.join(df_deflatores,['ANO','TRIMESTRE','UF']).withColumnRenamed(\"TRIMESTRE\",\"nm_trimestre\")\\\n",
    "          .withColumnRenamed(\"ANO\",\"nm_ano\")\\\n",
    "          .withColumnRenamed(\"UF\",\"cd_uf\")\\\n",
    "          .withColumnRenamed(\"V4013\",\"cd_cnae_dom\")\\\n",
    "          .withColumnRenamed(\"V2007\",\"cd_sexo\")\\\n",
    "          .withColumn('ds_sexo',f.when(f.col(\"cd_sexo\")==f.lit(1),\"Masculino\")\\\n",
    "                                  .otherwise(f.when(f.col(\"cd_sexo\")==f.lit(2),\"Feminino\")))"
   ]
  },
  {
   "cell_type": "code",
   "execution_count": 0,
   "metadata": {
    "application/vnd.databricks.v1+cell": {
     "cellMetadata": {},
     "inputWidgets": {},
     "nuid": "39688eb1-2cdf-4131-93ad-ed8808b62d60",
     "showTitle": false,
     "title": ""
    }
   },
   "outputs": [],
   "source": [
    "df_pnadc = formating_and_filtering_variables(df_pnadc)"
   ]
  },
  {
   "cell_type": "code",
   "execution_count": 0,
   "metadata": {
    "application/vnd.databricks.v1+cell": {
     "cellMetadata": {},
     "inputWidgets": {},
     "nuid": "618999fc-3457-442d-a691-c75e59eff0af",
     "showTitle": false,
     "title": ""
    }
   },
   "outputs": [],
   "source": [
    "def calculate_employed(df: DataFrame) -> DataFrame:\n",
    "  return (df_pnadc.withColumn('cd_cnae_dom', f.lpad('cd_cnae_dom',5,'0'))\n",
    "          .withColumn('cd_cnae_dom_div', f.substring('cd_cnae_dom',1,2))\n",
    "          .withColumn(\"vl_ocupados\",f.when(f.col(\"VD4002\") == f.lit(1),f.col(\"V1028\")).otherwise(f.lit(0)))\\\n",
    "                 .withColumn(\"vl_protecao_social\",f.when((f.col(\"VD4002\")==f.lit(1)) & \\\n",
    "                                                                ((f.col(\"VD4009\").isin([2, 4,6,10])) | \n",
    "                                                                 ((f.col(\"VD4009\").isin([8,9])) & \\\n",
    "                                                                (f.col('VD4012')==f.lit(2)))),f.col('V1028')).otherwise(f.lit(0)))\n",
    "                 .withColumn('vl_horas_trabalhadas', f.when(f.col('VD4002')==f.lit(1), f.col('V4039')*f.lit(4)*f.col('V1028')).otherwise(f.lit(0))))\n"
   ]
  },
  {
   "cell_type": "code",
   "execution_count": 0,
   "metadata": {
    "application/vnd.databricks.v1+cell": {
     "cellMetadata": {},
     "inputWidgets": {},
     "nuid": "77480e16-ea9d-4871-b70c-180e847c2657",
     "showTitle": false,
     "title": ""
    }
   },
   "outputs": [],
   "source": [
    "df_pnadc = calculate_employed(df_pnadc)"
   ]
  },
  {
   "cell_type": "code",
   "execution_count": 0,
   "metadata": {
    "application/vnd.databricks.v1+cell": {
     "cellMetadata": {},
     "inputWidgets": {},
     "nuid": "52dafbe0-bbed-4db4-8ae7-eb81074487ac",
     "showTitle": false,
     "title": ""
    }
   },
   "outputs": [],
   "source": [
    "def calculate_population(df: DataFrame) -> DataFrame:\n",
    "  return (df_pnadc.withColumn(\"vl_desocupados\",f.when(f.col(\"VD4002\") == f.lit(2),f.col(\"V1028\")).otherwise(f.lit(0)))\n",
    "          .withColumn('vl_populacao_14anosmais', f.when(f.col('V2009') >= f.lit(14), f.col('V1028')).otherwise(f.lit(0)))\n",
    "          .withColumn(\"vl_subocupados\",f.when((f.col(\"VD4004A\") == f.lit(1)) |(f.col(\"VD4004\") == f.lit(1)),f.col(\"V1028\")).otherwise(f.lit(0)))\n",
    "          .withColumn(\"vl_subutilizados\",f.when((f.col(\"VD4004A\") == f.lit(1)) |(f.col(\"VD4004\") == f.lit(1)) #subocupados por insuficiências de horas\n",
    "                                                 | (f.col('VD4003') == f.lit(1)) | #pessoas fora da força de trabalho e na força de trabalho potencial\n",
    "                                                 (f.col('VD4002')==f.lit(2)) #pessoas desocupadas\n",
    "                                                 ,f.col(\"V1028\")).otherwise(f.lit(0)))\n",
    "          .withColumn(\"vl_forca_de_trabalho\",f.when(f.col(\"VD4001\") == f.lit(1),f.col(\"V1028\")).otherwise(f.lit(0)))\n",
    "          .withColumn(\"vl_forca_de_trabalho_ampliada\",f.when((f.col(\"VD4001\") == f.lit(1)) | (f.col('VD4003') == f.lit(1)),f.col(\"V1028\")).otherwise(f.lit(0))))  \n"
   ]
  },
  {
   "cell_type": "code",
   "execution_count": 0,
   "metadata": {
    "application/vnd.databricks.v1+cell": {
     "cellMetadata": {},
     "inputWidgets": {},
     "nuid": "2e341597-51ae-4437-8c19-09cfdb630107",
     "showTitle": false,
     "title": ""
    }
   },
   "outputs": [],
   "source": [
    "df_pnadc = calculate_population(df_pnadc)"
   ]
  },
  {
   "cell_type": "code",
   "execution_count": 0,
   "metadata": {
    "application/vnd.databricks.v1+cell": {
     "cellMetadata": {},
     "inputWidgets": {},
     "nuid": "b3224fca-05a5-433f-b291-21ef0c81bfe2",
     "showTitle": false,
     "title": ""
    }
   },
   "outputs": [],
   "source": [
    "def calculate_salary_and_population(df: DataFrame) -> DataFrame:\n",
    "  return df_pnadc.withColumn(\"vl_massa_salarial\",f.when(f.col(\"VD4002\") == f.lit(1),(f.col(\"V1028\")*f.col(\"VD4017\")*f.col('Efetivo'))).otherwise(f.lit(0)))\n"
   ]
  },
  {
   "cell_type": "code",
   "execution_count": 0,
   "metadata": {
    "application/vnd.databricks.v1+cell": {
     "cellMetadata": {},
     "inputWidgets": {},
     "nuid": "15b707bf-e826-47f3-a321-3a1c4cd89354",
     "showTitle": false,
     "title": ""
    }
   },
   "outputs": [],
   "source": [
    "df_pnadc = calculate_salary_and_population(df_pnadc)"
   ]
  },
  {
   "cell_type": "code",
   "execution_count": 0,
   "metadata": {
    "application/vnd.databricks.v1+cell": {
     "cellMetadata": {},
     "inputWidgets": {},
     "nuid": "e20b2942-f648-4472-ba9b-7e7bf893ca79",
     "showTitle": false,
     "title": ""
    }
   },
   "outputs": [],
   "source": [
    "def calculate_value_learning(df: DataFrame)-> DataFrame:\n",
    "  return (df.withColumn(\"vl_anos_estudos\",f.when((f.col(\"V2009\") >=f.lit(5)),(f.col(\"VD3005\")* f.col(\"V1028\")).cast(\"integer\"))\n",
    "                      .otherwise(f.lit(0)))\n",
    "           .withColumn(\"ds_grau_instrucao_agregado\", f.when(f.col('VD3004').isin(['1','2','3','4']),f.lit('Até o fundamental completo')).otherwise(\n",
    "             f.when(f.col('VD3004').isin(['5','6']), f.lit('Médio completo')).otherwise(\n",
    "               f.when(f.col('VD3004')==f.lit(7), f.lit('Superior completo')).otherwise(f.lit('Ignorado')))))\n",
    "           .withColumn(\"cd_grau_instrucao_agregado\", f.when(f.col('VD3004').isin(['1','2','3','4']),f.lit(1)).otherwise(\n",
    "             f.when(f.col('VD3004').isin(['5','6']), f.lit(2)).otherwise(\n",
    "               f.when(f.col('VD3004')==f.lit(7), f.lit(3)).otherwise(f.lit(-1))))))"
   ]
  },
  {
   "cell_type": "code",
   "execution_count": 0,
   "metadata": {
    "application/vnd.databricks.v1+cell": {
     "cellMetadata": {},
     "inputWidgets": {},
     "nuid": "bf5f0eca-a6fc-41fb-84bf-0c4ba5933793",
     "showTitle": false,
     "title": ""
    }
   },
   "outputs": [],
   "source": [
    "df_pnadc = calculate_value_learning(df_pnadc)"
   ]
  },
  {
   "cell_type": "code",
   "execution_count": 0,
   "metadata": {
    "application/vnd.databricks.v1+cell": {
     "cellMetadata": {},
     "inputWidgets": {},
     "nuid": "79e2b956-d21e-446f-8895-409759d2a930",
     "showTitle": false,
     "title": ""
    }
   },
   "outputs": [],
   "source": [
    "def create_age_group(df: DataFrame)-> DataFrame:\n",
    "  return (df.withColumn(\"cd_faixa_etaria\",f.when(((f.col(\"V2009\")<=f.lit(20))),f.lit(1))\\\n",
    "                                        .otherwise(f.when(((f.col(\"V2009\")>f.lit(20)) & (f.col(\"V2009\")<=f.lit(30))),f.lit(2))\\\n",
    "                                        .otherwise(f.when(((f.col(\"V2009\")>f.lit(30)) & (f.col(\"V2009\")<=f.lit(40))),f.lit(3))\\\n",
    "                                        .otherwise(f.when(((f.col(\"V2009\")>f.lit(40)) & (f.col(\"V2009\")<=f.lit(50))),f.lit(4))\\\n",
    "                                        .otherwise(f.when(((f.col(\"V2009\")>f.lit(50)) & (f.col(\"V2009\")<=f.lit(60))),f.lit(5))\\\n",
    "                                        .otherwise(f.when(((f.col(\"V2009\")>f.lit(60)) & (f.col(\"V2009\")<=f.lit(70))),f.lit(6))\\\n",
    "                                        .otherwise(f.when(((f.col(\"V2009\")>f.lit(70)) & (f.col(\"V2009\")<=f.lit(80))),f.lit(7))\\\n",
    "                                        .otherwise(f.when(((f.col(\"V2009\")>f.lit(80))),f.lit(8)).otherwise(f.lit(9))))))))\\\n",
    "                                        ))\\\n",
    "                       .withColumn(\"ds_faixa_etaria\",f.when(((f.col(\"V2009\")<=f.lit(20))),f.lit('Até 20 anos'))\\\n",
    "                                        .otherwise(f.when(((f.col(\"V2009\")>f.lit(20)) & (f.col(\"V2009\")<=f.lit(30))),f.lit('21 a 30 anos'))\\\n",
    "                                        .otherwise(f.when(((f.col(\"V2009\")>f.lit(30)) & (f.col(\"V2009\")<=f.lit(40))),f.lit('31 a 40 anos'))\\\n",
    "                                        .otherwise(f.when(((f.col(\"V2009\")>f.lit(40)) & (f.col(\"V2009\")<=f.lit(50))),f.lit('41 a 50 anos'))\\\n",
    "                                        .otherwise(f.when(((f.col(\"V2009\")>f.lit(50)) & (f.col(\"V2009\")<=f.lit(60))),f.lit('51 a 60 anos'))\\\n",
    "                                        .otherwise(f.when(((f.col(\"V2009\")>f.lit(60)) & (f.col(\"V2009\")<=f.lit(70))),f.lit('61 a 70 anos'))\\\n",
    "                                        .otherwise(f.when(((f.col(\"V2009\")>f.lit(70)) & (f.col(\"V2009\")<=f.lit(80))),f.lit('71 a 80 anos'))\\\n",
    "                                        .otherwise(f.when(((f.col(\"V2009\")>f.lit(80))),f.lit('Maiores de 80 anos')).otherwise('Não informado')))))))\\\n",
    "                                        )))"
   ]
  },
  {
   "cell_type": "code",
   "execution_count": 0,
   "metadata": {
    "application/vnd.databricks.v1+cell": {
     "cellMetadata": {},
     "inputWidgets": {},
     "nuid": "2227fdec-18d8-4f5b-b617-1a7007a2f249",
     "showTitle": false,
     "title": ""
    }
   },
   "outputs": [],
   "source": [
    "df_pnadc = create_age_group(df_pnadc)"
   ]
  },
  {
   "cell_type": "code",
   "execution_count": 0,
   "metadata": {
    "application/vnd.databricks.v1+cell": {
     "cellMetadata": {},
     "inputWidgets": {},
     "nuid": "ff968c47-b044-4237-a4a3-0477af46b433",
     "showTitle": false,
     "title": ""
    }
   },
   "outputs": [],
   "source": [
    "def create_job_type(df: DataFrame)-> DataFrame:\n",
    "  return (df.withColumn(\"cd_tipo_vinculo\",f.when(f.col('VD4009').isin('1','3','5','7'), f.lit(1))\\\n",
    "                        .otherwise(f.when(f.col('V4019')==f.lit(1),f.lit(2))\\\n",
    "                          .otherwise(f.lit(3))))\\\n",
    "                       .withColumn(\"nm_tipo_vinculo\",f.when(f.col('VD4009').isin('1','3','5','7'), f.lit('CLT ou público'))\\\n",
    "                        .otherwise(f.when(f.col('V4019')==f.lit(1),f.lit('CNPJ'))\\\n",
    "                          .otherwise(f.lit('Informal')))))"
   ]
  },
  {
   "cell_type": "code",
   "execution_count": 0,
   "metadata": {
    "application/vnd.databricks.v1+cell": {
     "cellMetadata": {},
     "inputWidgets": {},
     "nuid": "3c039b80-6019-4bc7-ba3f-a76110bb830e",
     "showTitle": false,
     "title": ""
    }
   },
   "outputs": [],
   "source": [
    "df_pnadc = create_job_type(df_pnadc)"
   ]
  },
  {
   "cell_type": "code",
   "execution_count": 0,
   "metadata": {
    "application/vnd.databricks.v1+cell": {
     "cellMetadata": {},
     "inputWidgets": {},
     "nuid": "a0b7c582-7669-415e-8d90-9c09ef75080d",
     "showTitle": false,
     "title": ""
    }
   },
   "outputs": [],
   "source": [
    "def calculate_agregated_values_ocupados(df: DataFrame) -> DataFrame:\n",
    "  return (df.where(f.col('VD4002')==f.lit(1))\n",
    "  .groupBy(\"nm_ano\",\"nm_trimestre\",\"cd_uf\",\"cd_faixa_etaria\",\"ds_faixa_etaria\",\n",
    "                    \"cd_grau_instrucao_agregado\",\"ds_grau_instrucao_agregado\",\"cd_cnae_dom_div\",\"cd_tipo_vinculo\",\"nm_tipo_vinculo\",\"cd_sexo\",\"ds_sexo\").agg(\n",
    "                      f.sum('vl_horas_trabalhadas').alias('vl_massa_horas_trab'),\n",
    "                  f.sum(f.col(\"vl_ocupados\")).alias(\"vl_ocupados\"),\n",
    "                  f.sum(f.col(\"vl_protecao_social\")).alias(\"vl_protecao_social\"),\n",
    "                 f.sum(f.col(\"vl_anos_estudos\")).alias(\"vl_anos_estudo_ocupados\"),\n",
    "                 f.sum(f.col(\"vl_massa_salarial\")).alias(\"vl_massa_salarial\")))"
   ]
  },
  {
   "cell_type": "code",
   "execution_count": 0,
   "metadata": {
    "application/vnd.databricks.v1+cell": {
     "cellMetadata": {},
     "inputWidgets": {},
     "nuid": "92ca4622-19f8-4ac9-8801-5c79384fe4de",
     "showTitle": false,
     "title": ""
    }
   },
   "outputs": [],
   "source": [
    "df_ocupados = calculate_agregated_values_ocupados(df_pnadc)"
   ]
  },
  {
   "cell_type": "code",
   "execution_count": 0,
   "metadata": {
    "application/vnd.databricks.v1+cell": {
     "cellMetadata": {},
     "inputWidgets": {},
     "nuid": "3387e62e-98bd-4dcd-b5cf-3703803059a6",
     "showTitle": false,
     "title": ""
    }
   },
   "outputs": [],
   "source": [
    "def calculate_agregated_values_population(df: DataFrame) -> DataFrame:\n",
    "  return df.groupBy(\"nm_ano\",\"nm_trimestre\",\"cd_uf\",\"cd_faixa_etaria\",\"ds_faixa_etaria\",\n",
    "                    \"cd_grau_instrucao_agregado\",\"ds_grau_instrucao_agregado\",\"cd_sexo\",\"ds_sexo\").agg(\n",
    "                      f.sum(f.col(\"V1028\")).alias(\"vl_populacao\"),\n",
    "                   f.sum(f.col(\"vl_populacao_14anosmais\")).alias(\"vl_populacao_14anosmais\"),   \n",
    "                  f.sum(f.col(\"vl_desocupados\")).alias(\"vl_desocupados\"),\n",
    "                  f.sum(f.col(\"vl_subocupados\")).alias(\"vl_subocupados\"),\n",
    "                 f.sum(f.col(\"vl_subutilizados\")).alias(\"vl_subutilizados\"),\n",
    "                 f.sum(f.col(\"vl_forca_de_trabalho\")).alias(\"vl_forca_de_trabalho\"),\n",
    "                 f.sum(f.col(\"vl_forca_de_trabalho_ampliada\")).alias(\"vl_forca_de_trabalho_ampliada\"),\n",
    "                 f.sum('vl_anos_estudos').alias('vl_anos_estudo'))"
   ]
  },
  {
   "cell_type": "code",
   "execution_count": 0,
   "metadata": {
    "application/vnd.databricks.v1+cell": {
     "cellMetadata": {},
     "inputWidgets": {},
     "nuid": "590014c0-ad9e-42c6-ba66-49492d7635fe",
     "showTitle": false,
     "title": ""
    }
   },
   "outputs": [],
   "source": [
    "df_populacao=calculate_agregated_values_population(df_pnadc)"
   ]
  },
  {
   "cell_type": "code",
   "execution_count": 0,
   "metadata": {
    "application/vnd.databricks.v1+cell": {
     "cellMetadata": {},
     "inputWidgets": {},
     "nuid": "751e556a-9175-4baf-8704-c59b90cce02b",
     "showTitle": false,
     "title": ""
    }
   },
   "outputs": [],
   "source": [
    "df_ocupados = tcf.add_control_fields(df_ocupados, adf, layer=\"biz\")\n",
    "\n",
    "var_sink = \"{adl_path}{biz}/{path_destination}/{params_to_save_0}\".format(adl_path=var_adls_uri, biz=dls['folders']['business'], path_destination=table[\"path_destination\"], params_to_save_0=table[\"params_to_save_0\"])"
   ]
  },
  {
   "cell_type": "code",
   "execution_count": 0,
   "metadata": {
    "application/vnd.databricks.v1+cell": {
     "cellMetadata": {},
     "inputWidgets": {},
     "nuid": "8b462aad-848f-4c7a-b788-f149deb0b871",
     "showTitle": false,
     "title": ""
    }
   },
   "outputs": [],
   "source": [
    "df_ocupados.write.format('parquet').save(var_sink, header = True, mode='overwrite')"
   ]
  },
  {
   "cell_type": "code",
   "execution_count": 0,
   "metadata": {
    "application/vnd.databricks.v1+cell": {
     "cellMetadata": {},
     "inputWidgets": {},
     "nuid": "a63adc31-f796-4aad-820e-63a7920e1770",
     "showTitle": false,
     "title": ""
    }
   },
   "outputs": [],
   "source": []
  },
  {
   "cell_type": "code",
   "execution_count": 0,
   "metadata": {
    "application/vnd.databricks.v1+cell": {
     "cellMetadata": {},
     "inputWidgets": {},
     "nuid": "40a74611-79f4-4543-a9b2-7696bfadaf51",
     "showTitle": false,
     "title": ""
    }
   },
   "outputs": [],
   "source": [
    "df_populacao = tcf.add_control_fields(df_populacao, adf, layer=\"biz\")\n",
    "\n",
    "var_sink = \"{adl_path}{biz}/{path_destination}/{params_to_save_1}\".format(adl_path=var_adls_uri, biz=dls['folders']['business'], path_destination=table[\"path_destination\"], params_to_save_1=table[\"params_to_save_1\"])"
   ]
  },
  {
   "cell_type": "code",
   "execution_count": 0,
   "metadata": {
    "application/vnd.databricks.v1+cell": {
     "cellMetadata": {},
     "inputWidgets": {},
     "nuid": "f9bfcceb-9e96-4ed6-8cf0-174cb7089fac",
     "showTitle": false,
     "title": ""
    }
   },
   "outputs": [],
   "source": [
    "df_populacao.write.format('parquet').save(var_sink, header = True, mode='overwrite')"
   ]
  }
 ],
 "metadata": {
  "application/vnd.databricks.v1+notebook": {
   "dashboards": [],
   "language": "python",
   "notebookMetadata": {
    "pythonIndentUnit": 2
   },
   "notebookName": "trs_biz_mulheres_pnad_trimestral",
   "widgets": {}
  }
 },
 "nbformat": 4,
 "nbformat_minor": 0
}
