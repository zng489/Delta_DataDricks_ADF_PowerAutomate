{
 "cells": [
  {
   "cell_type": "code",
   "execution_count": 0,
   "metadata": {
    "application/vnd.databricks.v1+cell": {
     "cellMetadata": {},
     "inputWidgets": {},
     "nuid": "e55267af-36bb-47a7-b7af-a6f3100d8e2e",
     "showTitle": false,
     "title": ""
    }
   },
   "outputs": [],
   "source": [
    "from cni_connectors import adls_gen1_connector as adls_conn\n",
    "var_adls_uri = adls_conn.adls_gen1_connect(spark, dbutils, scope=\"adls_gen2\", dynamic_overwrite=\"dynamic\")"
   ]
  },
  {
   "cell_type": "code",
   "execution_count": 0,
   "metadata": {
    "application/vnd.databricks.v1+cell": {
     "cellMetadata": {},
     "inputWidgets": {},
     "nuid": "dbafd264-b574-4a57-818f-292acc72e1f2",
     "showTitle": false,
     "title": ""
    }
   },
   "outputs": [],
   "source": [
    "import json\n",
    "import re\n",
    "import pyspark.sql.functions as f\n",
    "from pyspark.sql import DataFrame\n",
    "from pyspark.sql.window import Window\n",
    "from trs_control_field import trs_control_field as tcf"
   ]
  },
  {
   "cell_type": "code",
   "execution_count": 0,
   "metadata": {
    "application/vnd.databricks.v1+cell": {
     "cellMetadata": {},
     "inputWidgets": {},
     "nuid": "0be6c6d7-18a3-453b-86f3-8a424c4830b9",
     "showTitle": false,
     "title": ""
    }
   },
   "outputs": [],
   "source": [
    "table = json.loads(re.sub(\"\\\"\", \"\\\"\", dbutils.widgets.get(\"tables\")))\n",
    "dls = json.loads(re.sub(\"\\\"\", \"\\\"\", dbutils.widgets.get(\"dls\")))\n",
    "adf = json.loads(re.sub(\"\\\"\", \"\\\"\", dbutils.widgets.get(\"adf\")))"
   ]
  },
  {
   "cell_type": "code",
   "execution_count": 0,
   "metadata": {
    "application/vnd.databricks.v1+cell": {
     "cellMetadata": {},
     "inputWidgets": {},
     "nuid": "b956c111-0524-413d-b05c-f36e4da1d624",
     "showTitle": false,
     "title": ""
    }
   },
   "outputs": [],
   "source": [
    "table = {\"copy_sqldw\":\"false\",\n",
    " \"source_contribuintes\":\"oni/bases_do_projeto/painel_dos_estados/contribuintes\",\n",
    " \"source_instrucao\":\"oni/bases_do_projeto/painel_dos_estados/grau_instrucao_rais\",\n",
    " \"source_tam_estabelecimento\":\"oni/bases_do_projeto/painel_dos_estados/tam_estabelecimento\",\n",
    " \"source_rais_vinculo\":\"me/rais_vinculo\",\n",
    " \"source_cadastro_cbo\":\"me/cadastro_cbo\",\n",
    " \"source_cnae_subclasses\":\"oni/bases_referencia/cnae/cnae_20/cnae_subclasse\",\n",
    " \"source_ipca\":\"ibge/ipca\",\n",
    " \"path_destination\":\"oni/mulheres_no_mercado_de_trabalho/rais_vinculo\",\n",
    " \"destination\":\"/mulheres_no_mercado_de_trabalho/rais_vinculo\",\n",
    " \"databricks\":{\"notebook\":\"/biz/oni/mulheres_no_mercado_de_trabalho/trs_biz_rais_trabalhadores\"}}\n",
    "\n",
    "adf = {\"adf_factory_name\":\"cnibigdatafactory\",\"adf_pipeline_name\":\"trs_biz_rfb_cno\",\"adf_pipeline_run_id\":\"c158e9dd-98df-4f7b-a64d-d13c76669868\",\"adf_trigger_id\":\"67c514a7245449b984eb4aadd55bfbff\",\"adf_trigger_name\":\"Sandbox\",\"adf_trigger_time\":\"2023-08-22T21:22:42.5769844Z\",\"adf_trigger_type\":\"Manual\"}\n",
    " \n",
    "dls = {\"folders\":{\"landing\":\"/tmp/dev/lnd\",\"error\":\"/tmp/dev/err\",\"archive\":\"/tmp/dev/ach\",\"staging\":\"/tmp/dev/stg\",\"log\":\"/tmp/dev/log\",\"raw\":\"/tmp/dev/raw\",\"trusted\":\"/tmp/dev/trs\",\"business\":\"/tmp/dev/biz\",\"prm\":\"/tmp/dev/prm\",\"historico\":\"/tmp/dev/hst\"},\"path_prefix\":\"tmp\",\"uld\":{\"folders\":{\"landing\":\"/tmp/dev/uld\",\"error\":\"/tmp/dev/err\",\"staging\":\"/tmp/dev/stg\",\"log\":\"/tmp/dev/log\",\"raw\":\"/tmp/dev/raw\",\"archive\":\"/tmp/dev/ach\"},\"systems\":{\"raw\":\"usr\"},\"path_prefix\":\"/tmp/dev/\"},\"systems\":{\"raw\":\"usr\"}}\n",
    "\n",
    "#cadastro_estbl_f = \"{adl_path}{trs}/{file_folder}/\".format(adl_path=var_adls_uri, trs=dls[\"folders\"][\"trusted\"], file_folder=table[\"cadastro_estbl_f\"])\n",
    "#cadastro_estbl = spark.read.format(\"parquet\").option(\"header\",\"true\").option(\"encoding\", \"ISO-8859-1\").load(cadastro_estbl_f, mode=\"FAILFAST\")\n",
    "\n",
    "\n",
    "source_contribuintes = \"{adl_path}{trusted}/{file_folder}/\".format(adl_path=var_adls_uri, trusted=dls[\"folders\"][\"trusted\"], file_folder=table[\"source_contribuintes\"])\n",
    "source_instrucao = \"{adl_path}{trusted}/{file_folder}/\".format(adl_path=var_adls_uri, trusted=dls[\"folders\"][\"trusted\"], file_folder=table[\"source_instrucao\"])\n",
    "source_tam_estabelecimento = \"{adl_path}{trusted}/{file_folder}/\".format(adl_path=var_adls_uri, trusted=dls[\"folders\"][\"trusted\"], file_folder=table[\"source_tam_estabelecimento\"])\n",
    "source_rais_vinculo = \"{adl_path}{trusted}/{file_folder}/\".format(adl_path=var_adls_uri, trusted=dls[\"folders\"][\"trusted\"], file_folder=table[\"source_rais_vinculo\"])\n",
    "source_cadastro_cbo = \"{adl_path}{trusted}/{file_folder}/\".format(adl_path=var_adls_uri, trusted=dls[\"folders\"][\"trusted\"], file_folder=table[\"source_cadastro_cbo\"])\n",
    "source_cnae_subclasses = \"{adl_path}{business}/{file_folder}/\".format(adl_path=var_adls_uri, business=dls[\"folders\"][\"business\"], file_folder=table[\"source_cnae_subclasses\"])\n",
    "source_ipca = \"{adl_path}{trusted}/{file_folder}/\".format(adl_path=var_adls_uri, trusted=dls[\"folders\"][\"trusted\"], file_folder=table[\"source_ipca\"])"
   ]
  },
  {
   "cell_type": "code",
   "execution_count": 0,
   "metadata": {
    "application/vnd.databricks.v1+cell": {
     "cellMetadata": {},
     "inputWidgets": {},
     "nuid": "5f1d73dd-4e4f-4d89-9aca-b6d3366c66c6",
     "showTitle": false,
     "title": ""
    }
   },
   "outputs": [],
   "source": [
    "df_contribuintes = spark.read.parquet(source_contribuintes)\n",
    "df_grau_instrucao = spark.read.parquet(source_instrucao)\n",
    "df_tam_estabelecimento = spark.read.parquet(source_tam_estabelecimento)\n",
    "df_rais_vinculo = spark.read.parquet(source_rais_vinculo)\n",
    "df_cbo = spark.read.parquet(source_cadastro_cbo)\n",
    "df_cnae_subclasses = spark.read.parquet(source_cnae_subclasses)\n",
    "df_ipca =  spark.read.parquet(source_ipca)"
   ]
  },
  {
   "cell_type": "code",
   "execution_count": 0,
   "metadata": {
    "application/vnd.databricks.v1+cell": {
     "cellMetadata": {},
     "inputWidgets": {},
     "nuid": "983e64dd-f7b7-4d63-a4de-fe839ccf2a6f",
     "showTitle": false,
     "title": ""
    }
   },
   "outputs": [],
   "source": [
    "#display(df_rais_vinculo.where(f.col('NR_MES_TEMPO_EMPREGO')<f.lit(1)).groupBy('ANO').agg(f.count(f.lit(1))).orderBy(f.asc('ANO')))"
   ]
  },
  {
   "cell_type": "code",
   "execution_count": 0,
   "metadata": {
    "application/vnd.databricks.v1+cell": {
     "cellMetadata": {},
     "inputWidgets": {},
     "nuid": "ddeaa275-5ea6-49e6-afc6-95c905f41737",
     "showTitle": false,
     "title": ""
    }
   },
   "outputs": [],
   "source": [
    "def select_last_month_year(df_ipca: DataFrame) -> DataFrame:\n",
    "  window = Window.partitionBy()\n",
    "  df_ipca = df_ipca \\\n",
    "    .withColumnRenamed('NR_ANO','nm_ano') \\\n",
    "    .withColumnRenamed('NR_MES_COMPETENCIA','nm_mes') \\\n",
    "    .orderBy(\"nm_ano\",\"nm_mes\") \\\n",
    "    .withColumn('base_fixa',f.last(f.col('VL_IPCA')).over(window)) \\\n",
    "    .withColumn('vl_indice_fixo_ultimo_ano',f.col('VL_IPCA')/f.col('base_fixa')) \\\n",
    "    .select('nm_ano',\"nm_mes\",'vl_indice_fixo_ultimo_ano')\n",
    "  return df_ipca.where(f.col(\"nm_mes\")==f.lit(12)).select('nm_ano','vl_indice_fixo_ultimo_ano')"
   ]
  },
  {
   "cell_type": "code",
   "execution_count": 0,
   "metadata": {
    "application/vnd.databricks.v1+cell": {
     "cellMetadata": {},
     "inputWidgets": {},
     "nuid": "ad79c951-1355-4812-b667-a3226eda2e5e",
     "showTitle": false,
     "title": ""
    }
   },
   "outputs": [],
   "source": [
    "df_ipca_=select_last_month_year(df_ipca)"
   ]
  },
  {
   "cell_type": "code",
   "execution_count": 0,
   "metadata": {
    "application/vnd.databricks.v1+cell": {
     "cellMetadata": {},
     "inputWidgets": {},
     "nuid": "46689041-2a81-4a64-8abc-aa4717e18a44",
     "showTitle": false,
     "title": ""
    }
   },
   "outputs": [],
   "source": [
    "#display(df_ipca)"
   ]
  },
  {
   "cell_type": "code",
   "execution_count": 0,
   "metadata": {
    "application/vnd.databricks.v1+cell": {
     "cellMetadata": {},
     "inputWidgets": {},
     "nuid": "034a4a50-a3f4-4f9b-95f1-00252a2f278a",
     "showTitle": false,
     "title": ""
    }
   },
   "outputs": [],
   "source": [
    "def rename_column(df: DataFrame, old_col: str, new_col: str) -> DataFrame:\n",
    "  return df.withColumnRenamed(old_col, new_col)"
   ]
  },
  {
   "cell_type": "code",
   "execution_count": 0,
   "metadata": {
    "application/vnd.databricks.v1+cell": {
     "cellMetadata": {},
     "inputWidgets": {},
     "nuid": "93068c6f-dbc2-46d1-8e60-bd68bd28c976",
     "showTitle": false,
     "title": ""
    }
   },
   "outputs": [],
   "source": [
    "df_cbo = df_cbo.select(\"cd_cbo1\",\"ds_cbo1\",\"cd_cbo2\",\"ds_cbo2\",\"cd_cbo4\",\"ds_cbo4\",\"ds_tipo_familia\",\"cd_ocup_corporativa_industriais\")\n",
    "df_cbo = df_cbo.dropDuplicates()"
   ]
  },
  {
   "cell_type": "code",
   "execution_count": 0,
   "metadata": {
    "application/vnd.databricks.v1+cell": {
     "cellMetadata": {},
     "inputWidgets": {},
     "nuid": "70e4614b-0340-4d3b-b335-03e5a908fdaa",
     "showTitle": false,
     "title": ""
    }
   },
   "outputs": [],
   "source": [
    "def filter_rais_ipca(df_rais_vinculo: DataFrame, df_ipca: DataFrame) -> DataFrame:\n",
    "  return df_rais_vinculo.withColumnRenamed(\"ANO\",\"nm_ano\")\\\n",
    "                .withColumn(\"CD_CNAE20_SUBCLASSE\",f.lpad(f.col(\"CD_CNAE20_SUBCLASSE\"),7,'0'))\\\n",
    "                .withColumn(\"cd_cnae_divisao\",f.substring(f.col(\"CD_CNAE20_SUBCLASSE\"),1,2))\\\n",
    "                .join(df_ipca_,[\"nm_ano\"],\"left\")\\\n",
    "                .withColumn(\"VL_REMUN_MEDIA_REAL\", f.col(\"VL_REMUN_MEDIA_NOM\")/f.col(\"vl_indice_fixo_ultimo_ano\"))\\\n",
    "                .drop(\"vl_indice_fixo_ultimo_ano\")\\\n",
    "                .withColumn('VL_REMUN_MEDIA_REAL',f.when(((f.col('VL_REMUN_MEDIA_REAL')<f.lit(300)) | (f.col('VL_REMUN_MEDIA_REAL')>f.lit(50000))),f.lit(0))\\\n",
    "                                                   .otherwise(f.col('VL_REMUN_MEDIA_REAL')))"
   ]
  },
  {
   "cell_type": "code",
   "execution_count": 0,
   "metadata": {
    "application/vnd.databricks.v1+cell": {
     "cellMetadata": {},
     "inputWidgets": {},
     "nuid": "a9811727-1b43-4f67-a5b8-2722da169d33",
     "showTitle": false,
     "title": ""
    }
   },
   "outputs": [],
   "source": [
    "df_rais = filter_rais_ipca(df_rais_vinculo, df_ipca_)"
   ]
  },
  {
   "cell_type": "code",
   "execution_count": 0,
   "metadata": {
    "application/vnd.databricks.v1+cell": {
     "cellMetadata": {},
     "inputWidgets": {},
     "nuid": "2a9cd670-7e24-4163-9145-2fcc753f09b6",
     "showTitle": false,
     "title": ""
    }
   },
   "outputs": [],
   "source": [
    "def calculate_average_pay(df_rais: DataFrame,df_cbo: DataFrame,df_contribuintes: DataFrame) -> DataFrame:\n",
    "  contribuintes = [data[0] for data in df_contribuintes.select('contribuintes').collect()]\n",
    "  return (df_rais.withColumnRenamed(\"CD_CBO4\",\"cd_cbo4\")\\\n",
    "                   .join(df_cbo,[\"cd_cbo4\"],\"left\")\\\n",
    "                   .withColumn(\"cd_cbo_agrupamento\", f.when((f.col('cd_cbo1')==f.lit(3)) | ((f.col('cd_cbo1')>f.lit(3)) \\\n",
    "                   & (f.col('cd_cbo1')<f.lit(10)) & (f.col('ds_tipo_familia')==f.lit('Técnicas'))), f.lit(1)) \\\n",
    "                     .otherwise(f.when((f.col('cd_cbo1')>f.lit(3)) & (f.col('cd_cbo1')<f.lit(10)), f.lit(2)) \\\n",
    "                     .otherwise(f.when(f.col('cd_cbo1')==f.lit(2), f.lit(3)) \\\n",
    "                     .otherwise(f.when(f.col('cd_cbo1')==f.lit(0), f.lit(4)) \\\n",
    "                     .otherwise(f.when(f.col('cd_cbo2')==f.lit(11), f.lit(5)) \\\n",
    "                     .otherwise(f.when((f.col('cd_cbo2')>f.lit(11)) & (f.col('cd_cbo2')<f.lit(15)), f.lit(6)) \\\n",
    "                     .otherwise(f.lit(7))))))))\n",
    "                     \n",
    "                   .withColumn(\"ds_cbo_agrupamento\", f.when((f.col('cd_cbo1')==f.lit(3)) | ((f.col('cd_cbo1')>f.lit(3)) \\\n",
    "                   & (f.col('cd_cbo1')<f.lit(10)) & (f.col('ds_tipo_familia')==f.lit('Técnicas'))), f.lit('Técnicos de nível médio')) \\\n",
    "                     .otherwise(f.when((f.col('cd_cbo1')>f.lit(3)) & (f.col('cd_cbo1')<f.lit(10)), f.lit('Trabalhadores auxiliares e operacionais')) \\\n",
    "                     .otherwise(f.when(f.col('cd_cbo1')==f.lit(2), f.lit('Especialistas e analistas')) \\\n",
    "                     .otherwise(f.when(f.col('cd_cbo1')==f.lit(0), f.lit('Forças armadas, policias e bombeiros militares')) \\\n",
    "                     .otherwise(f.when(f.col('cd_cbo2')==f.lit(11), f.lit('Membros superiores e dirigentes do setor público')) \\\n",
    "                     .otherwise(f.when((f.col('cd_cbo2')>f.lit(11)) & (f.col('cd_cbo2')<f.lit(15)), f.lit('Diretores e gerentes')) \\\n",
    "                     .otherwise(f.lit('Não informado')))))))))\n",
    "                     "
   ]
  },
  {
   "cell_type": "code",
   "execution_count": 0,
   "metadata": {
    "application/vnd.databricks.v1+cell": {
     "cellMetadata": {},
     "inputWidgets": {},
     "nuid": "636ccbd4-cd9b-4937-a085-e9a23f0267f3",
     "showTitle": false,
     "title": ""
    }
   },
   "outputs": [],
   "source": [
    "df_rais_vinculo = calculate_average_pay(df_rais,df_cbo,df_contribuintes)"
   ]
  },
  {
   "cell_type": "code",
   "execution_count": 0,
   "metadata": {
    "application/vnd.databricks.v1+cell": {
     "cellMetadata": {},
     "inputWidgets": {},
     "nuid": "536bdf4e-e8eb-4653-9a17-d9a4b05b376e",
     "showTitle": false,
     "title": ""
    }
   },
   "outputs": [],
   "source": [
    "def create_range_age(df: DataFrame) -> DataFrame:\n",
    "  return df.withColumn(\"cd_faixa_etaria\",f.when(((f.col(\"VL_IDADE\")<=f.lit(20))),f.lit(1))\\\n",
    "                                        .otherwise(f.when(((f.col(\"VL_IDADE\")>f.lit(20)) & (f.col(\"VL_IDADE\")<=f.lit(30))),f.lit(2))\\\n",
    "                                        .otherwise(f.when(((f.col(\"VL_IDADE\")>f.lit(30)) & (f.col(\"VL_IDADE\")<=f.lit(40))),f.lit(3))\\\n",
    "                                        .otherwise(f.when(((f.col(\"VL_IDADE\")>f.lit(40)) & (f.col(\"VL_IDADE\")<=f.lit(50))),f.lit(4))\\\n",
    "                                        .otherwise(f.when(((f.col(\"VL_IDADE\")>f.lit(50)) & (f.col(\"VL_IDADE\")<=f.lit(60))),f.lit(5))\\\n",
    "                                        .otherwise(f.when(((f.col(\"VL_IDADE\")>f.lit(60)) & (f.col(\"VL_IDADE\")<=f.lit(70))),f.lit(6))\\\n",
    "                                        .otherwise(f.when(((f.col(\"VL_IDADE\")>f.lit(70)) & (f.col(\"VL_IDADE\")<=f.lit(80))),f.lit(7))\\\n",
    "                                        .otherwise(f.when(((f.col(\"VL_IDADE\")>f.lit(80))),f.lit(8)).otherwise(f.lit(9))))))))\\\n",
    "                                        ))\\\n",
    "                       .withColumn(\"ds_faixa_etaria\",f.when(((f.col(\"VL_IDADE\")<=f.lit(20))),f.lit('Até 20 anos'))\\\n",
    "                                        .otherwise(f.when(((f.col(\"VL_IDADE\")>f.lit(20)) & (f.col(\"VL_IDADE\")<=f.lit(30))),f.lit('21 a 30 anos'))\\\n",
    "                                        .otherwise(f.when(((f.col(\"VL_IDADE\")>f.lit(30)) & (f.col(\"VL_IDADE\")<=f.lit(40))),f.lit('31 a 40 anos'))\\\n",
    "                                        .otherwise(f.when(((f.col(\"VL_IDADE\")>f.lit(40)) & (f.col(\"VL_IDADE\")<=f.lit(50))),f.lit('41 a 50 anos'))\\\n",
    "                                        .otherwise(f.when(((f.col(\"VL_IDADE\")>f.lit(50)) & (f.col(\"VL_IDADE\")<=f.lit(60))),f.lit('51 a 60 anos'))\\\n",
    "                                        .otherwise(f.when(((f.col(\"VL_IDADE\")>f.lit(60)) & (f.col(\"VL_IDADE\")<=f.lit(70))),f.lit('61 a 70 anos'))\\\n",
    "                                        .otherwise(f.when(((f.col(\"VL_IDADE\")>f.lit(70)) & (f.col(\"VL_IDADE\")<=f.lit(80))),f.lit('71 a 80 anos'))\\\n",
    "                                        .otherwise(f.when(((f.col(\"VL_IDADE\")>f.lit(80))),f.lit('Maiores de 80 anos')).otherwise('Não informado')))))))\\\n",
    "                                        ))"
   ]
  },
  {
   "cell_type": "code",
   "execution_count": 0,
   "metadata": {
    "application/vnd.databricks.v1+cell": {
     "cellMetadata": {},
     "inputWidgets": {},
     "nuid": "a5877313-b4cf-4e16-b3f5-9dcf49f52dc9",
     "showTitle": false,
     "title": ""
    }
   },
   "outputs": [],
   "source": [
    "df_rais_vinculo = create_range_age(df_rais_vinculo)"
   ]
  },
  {
   "cell_type": "code",
   "execution_count": 0,
   "metadata": {
    "application/vnd.databricks.v1+cell": {
     "cellMetadata": {},
     "inputWidgets": {},
     "nuid": "f7db5a34-b69c-4928-9b5d-8a06174db2f1",
     "showTitle": false,
     "title": ""
    }
   },
   "outputs": [],
   "source": [
    "def create_range_job_time(df: DataFrame) -> DataFrame:\n",
    "  return (df.withColumn(\"cd_tempo_emprego\",f.when(((f.col(\"NR_MES_TEMPO_EMPREGO\")<=f.lit(3))),f.lit(1))\\\n",
    "                                        .otherwise(f.when(((f.col(\"NR_MES_TEMPO_EMPREGO\")>f.lit(3)) & (f.col(\"NR_MES_TEMPO_EMPREGO\")<=f.lit(12))),f.lit(2))\\\n",
    "                                        .otherwise(f.when(((f.col(\"NR_MES_TEMPO_EMPREGO\")>f.lit(12)) & (f.col(\"NR_MES_TEMPO_EMPREGO\")<=f.lit(24))),f.lit(3))\\\n",
    "                                        .otherwise(f.when(((f.col(\"NR_MES_TEMPO_EMPREGO\")>f.lit(24)) & (f.col(\"NR_MES_TEMPO_EMPREGO\")<=f.lit(60))),f.lit(4))\\\n",
    "                                        .otherwise(f.when(((f.col(\"NR_MES_TEMPO_EMPREGO\")>f.lit(60)) & (f.col(\"NR_MES_TEMPO_EMPREGO\")<=f.lit(120))),f.lit(5))\\\n",
    "                                        .otherwise(f.when((f.col(\"NR_MES_TEMPO_EMPREGO\")>f.lit(120)) & (f.col(\"NR_MES_TEMPO_EMPREGO\")<=f.lit(180)),f.lit(6))\\\n",
    "                                        .otherwise(f.when(f.col(\"NR_MES_TEMPO_EMPREGO\")>f.lit(180),f.lit(7))\n",
    "                                                   .otherwise(f.lit(8)))))))\\\n",
    "                                        ))\\\n",
    "            .withColumn(\"ds_tempo_emprego\",f.when(((f.col(\"NR_MES_TEMPO_EMPREGO\")<=f.lit(3))),f.lit(\"Até 3 meses\"))\\\n",
    "                                        .otherwise(f.when(((f.col(\"NR_MES_TEMPO_EMPREGO\")>f.lit(3)) & (f.col(\"NR_MES_TEMPO_EMPREGO\")<=f.lit(12))),f.lit(\"De 3 meses até 1 ano\"))\\\n",
    "                                        .otherwise(f.when(((f.col(\"NR_MES_TEMPO_EMPREGO\")>f.lit(12)) & (f.col(\"NR_MES_TEMPO_EMPREGO\")<=f.lit(24))),f.lit(\"De 1 a 2 anos\"))\\\n",
    "                                        .otherwise(f.when(((f.col(\"NR_MES_TEMPO_EMPREGO\")>f.lit(24)) & (f.col(\"NR_MES_TEMPO_EMPREGO\")<=f.lit(60))),f.lit(\"De 2 a 5 anos\"))\\\n",
    "                                        .otherwise(f.when(((f.col(\"NR_MES_TEMPO_EMPREGO\")>f.lit(60)) & (f.col(\"NR_MES_TEMPO_EMPREGO\")<=f.lit(120))),f.lit(\"De 5 a 10 anos\"))\\\n",
    "                                        .otherwise(f.when((f.col(\"NR_MES_TEMPO_EMPREGO\")>f.lit(120)) & (f.col(\"NR_MES_TEMPO_EMPREGO\")<=f.lit(180)),f.lit(\"De 10 a 15 anos\"))\\\n",
    "                                        .otherwise(f.when(f.col(\"NR_MES_TEMPO_EMPREGO\")>f.lit(180),f.lit(\"Acima de 15 anos\"))\n",
    "                                                   .otherwise(f.lit(\"Não informado\")))))))\\\n",
    "                                        )))"
   ]
  },
  {
   "cell_type": "code",
   "execution_count": 0,
   "metadata": {
    "application/vnd.databricks.v1+cell": {
     "cellMetadata": {},
     "inputWidgets": {},
     "nuid": "07934b88-5011-4bbc-a990-22d45c40157a",
     "showTitle": false,
     "title": ""
    }
   },
   "outputs": [],
   "source": [
    "df_rais_vinculo = create_range_job_time(df_rais_vinculo)"
   ]
  },
  {
   "cell_type": "code",
   "execution_count": 0,
   "metadata": {
    "application/vnd.databricks.v1+cell": {
     "cellMetadata": {},
     "inputWidgets": {},
     "nuid": "6c788195-a2f6-4652-902b-0557689b4b72",
     "showTitle": false,
     "title": ""
    }
   },
   "outputs": [],
   "source": [
    "teste=(df_rais_vinculo.where(f.col(\"FL_VINCULO_ATIVO_3112\")==f.lit(1))\\\n",
    "    .withColumn('cd_grau_instrucao', f.col('cd_grau_instrucao').cast('int'))\n",
    "    .join(df_grau_instrucao,'cd_grau_instrucao','left'))"
   ]
  },
  {
   "cell_type": "code",
   "execution_count": 0,
   "metadata": {
    "application/vnd.databricks.v1+cell": {
     "cellMetadata": {},
     "inputWidgets": {},
     "nuid": "7d6e1d0d-1770-4909-9f2a-ae7972c9e124",
     "showTitle": false,
     "title": ""
    }
   },
   "outputs": [],
   "source": [
    "#display(teste.where(f.col('cd_grau_instrucao_agregado').isNull()).select('cd_grau_instrucao').distinct())"
   ]
  },
  {
   "cell_type": "code",
   "execution_count": 0,
   "metadata": {
    "application/vnd.databricks.v1+cell": {
     "cellMetadata": {},
     "inputWidgets": {},
     "nuid": "08b344a6-ff71-4529-b11c-428074b93c95",
     "showTitle": false,
     "title": ""
    }
   },
   "outputs": [],
   "source": [
    "def calculate_salary_remuration(df_rais_vinculo: DataFrame) -> DataFrame:\n",
    "  df = (df_rais_vinculo.where(f.col(\"FL_VINCULO_ATIVO_3112\")==f.lit(1))\\\n",
    "    .withColumn('cd_grau_instrucao', f.col('cd_grau_instrucao').cast('int'))\n",
    "    .join(df_grau_instrucao,'cd_grau_instrucao','left')\n",
    "    .withColumn('ds_sexo',f.when(f.col(\"CD_SEXO\")==f.lit(1),\"Masculino\")\\\n",
    "                                  .otherwise(f.when(f.col(\"CD_SEXO\")==f.lit(2),\"Feminino\")))\n",
    "                         .withColumn(\"cd_tamanho_estabelecimento\",f.col(\"CD_TAMANHO_ESTABELECIMENTO\").cast(\"integer\"))\\\n",
    "                         .withColumn(\"cd_sexo\",f.col(\"CD_SEXO\").cast(\"integer\"))\\\n",
    "                         .withColumn(\"cd_grau_instrucao\",f.col(\"CD_GRAU_INSTRUCAO\").cast(\"integer\"))\\\n",
    "                         .withColumn(\"vl_po_formal\", f.lit(1)) \n",
    "                         .withColumn(\"vl_po_salarioajust\",f.when(((f.col(\"VL_REMUN_MEDIA_REAL\")< f.lit(300)) | (f.col(\"VL_REMUN_MEDIA_REAL\")>f.lit(50000)) ),f.lit(0))\\\n",
    "                                     .otherwise(f.lit(1)))\\\n",
    "                         .withColumn(\"vl_massa_horas_mes\",f.when(((f.col(\"VL_REMUN_MEDIA_REAL\")< f.lit(300)) | (f.col(\"VL_REMUN_MEDIA_REAL\")>f.lit(50000)) ),f.lit(0))\\\n",
    "                                     .otherwise(f.col('QT_HORA_CONTRAT')*f.lit(4)))\\\n",
    "                          .withColumnRenamed(\"CD_UF\",\"cd_uf\")\\\n",
    "                          .withColumnRenamed(\"CD_GRAU_INSTRUCAO\",\"cd_grau_instrucao\")\\\n",
    "                          .withColumnRenamed(\"CD_TAMANHO_ESTABELECIMENTO\",\"cd_tamanho_estabelecimento\")\\\n",
    "                          .withColumnRenamed(\"CD_SEXO\",\"cd_sexo\")\\\n",
    "                            .withColumn('cd_grau_instrucao_agregado', f.when(f.col('cd_grau_instrucao_agregado').isNull(),f.lit(-1)).otherwise(f.col('cd_grau_instrucao_agregado')))\n",
    "                            .withColumn('nm_grau_instrucao_agregado', f.when(f.col('nm_grau_instrucao_agregado').isNull(),f.lit(\"Não informado\")).otherwise(f.col('nm_grau_instrucao_agregado')))\n",
    "                        .groupBy(\"cd_uf\",\"nm_ano\",\"cd_cnae_divisao\",\"cd_cbo_agrupamento\",\"ds_cbo_agrupamento\",\"cd_grau_instrucao_agregado\",'nm_grau_instrucao_agregado','cd_faixa_etaria',\"ds_faixa_etaria\",\"cd_tempo_emprego\",\"ds_tempo_emprego\",\"cd_tamanho_estabelecimento\",\"cd_sexo\",\"ds_sexo\")\n",
    "                        .agg(f.sum(\"vl_po_formal\").alias(\"vl_po_formal\"),\n",
    "                             f.sum(\"VL_REMUN_MEDIA_REAL\").alias(\"vl_massa_salarial\"),\n",
    "                             f.sum(\"vl_po_salarioajust\").alias(\"vl_po_salarioajust\"),\n",
    "                             f.sum(\"vl_massa_horas_mes\").alias('vl_massa_horas')\n",
    "                             )).join(f.broadcast(df_tam_estabelecimento),[\"cd_tamanho_estabelecimento\"],\"left\").drop(\"dh_insertion_trs\",'dh_insertion_biz',\"dh_insercao_trs\",\"dh_insercao_biz\",\"kv_process_control\")\n",
    "  return df"
   ]
  },
  {
   "cell_type": "code",
   "execution_count": 0,
   "metadata": {
    "application/vnd.databricks.v1+cell": {
     "cellMetadata": {},
     "inputWidgets": {},
     "nuid": "e0c43404-fde7-4943-88e5-28048f8eba4f",
     "showTitle": false,
     "title": ""
    }
   },
   "outputs": [],
   "source": [
    "df_rais_vinculo = calculate_salary_remuration(df_rais_vinculo)"
   ]
  },
  {
   "cell_type": "code",
   "execution_count": 0,
   "metadata": {
    "application/vnd.databricks.v1+cell": {
     "cellMetadata": {},
     "inputWidgets": {},
     "nuid": "24bf33e7-ce3d-4a9e-933c-462d62c24c10",
     "showTitle": false,
     "title": ""
    }
   },
   "outputs": [],
   "source": [
    "df_rais_vinculo=df_rais_vinculo.select('nm_ano','cd_uf','cd_cnae_divisao','cd_cbo_agrupamento','ds_cbo_agrupamento','cd_tamanho_estabelecimento','nm_tamanho_estabelecimento','cd_tamanho_estabelecimento_agregado','nm_tamanho_estabelecimento_agregado','cd_grau_instrucao_agregado','nm_grau_instrucao_agregado','cd_faixa_etaria','ds_faixa_etaria','cd_tempo_emprego','ds_tempo_emprego','cd_sexo','ds_sexo','vl_po_formal','vl_massa_salarial','vl_po_salarioajust','vl_massa_horas').distinct().withColumnRenamed('nm_ano','ano')"
   ]
  },
  {
   "cell_type": "code",
   "execution_count": 0,
   "metadata": {
    "application/vnd.databricks.v1+cell": {
     "cellMetadata": {},
     "inputWidgets": {},
     "nuid": "0b0a5a23-2d21-44bf-93d9-2385615ad642",
     "showTitle": false,
     "title": ""
    }
   },
   "outputs": [],
   "source": [
    "from pyspark.sql.functions import col,isnan, when, count\n",
    "#df_rais_vinculo.select([count(when(isnan(c) | col(c).isNull(), c)).alias(c) for c in df_rais_vinculo.columns]).display()"
   ]
  },
  {
   "cell_type": "code",
   "execution_count": 0,
   "metadata": {
    "application/vnd.databricks.v1+cell": {
     "cellMetadata": {},
     "inputWidgets": {},
     "nuid": "5563bb9c-8058-461e-951b-514ba5ab4eb9",
     "showTitle": false,
     "title": ""
    }
   },
   "outputs": [],
   "source": [
    "#display(df_rais_vinculo.groupBy('ano').agg(f.sum('vl_po_formal').alias('vl_po_formal')))"
   ]
  },
  {
   "cell_type": "code",
   "execution_count": 0,
   "metadata": {
    "application/vnd.databricks.v1+cell": {
     "cellMetadata": {},
     "inputWidgets": {},
     "nuid": "29d47a0c-e491-4d57-899e-ce8273fd38d3",
     "showTitle": false,
     "title": ""
    }
   },
   "outputs": [],
   "source": [
    "#display(df_rais_vinculo.where(f.col('cd_tempo_emprego')==f.lit(1)).groupBy('ano','ds_sexo').agg(f.sum('vl_po_formal').alias('vl_po_formal')))"
   ]
  },
  {
   "cell_type": "code",
   "execution_count": 0,
   "metadata": {
    "application/vnd.databricks.v1+cell": {
     "cellMetadata": {},
     "inputWidgets": {},
     "nuid": "177385e8-0a8b-4fab-b604-59adcc2ecfb5",
     "showTitle": false,
     "title": ""
    }
   },
   "outputs": [],
   "source": [
    "#display(df_rais_vinculo)"
   ]
  },
  {
   "cell_type": "code",
   "execution_count": 0,
   "metadata": {
    "application/vnd.databricks.v1+cell": {
     "cellMetadata": {},
     "inputWidgets": {},
     "nuid": "a62317dc-4024-4f83-a4ee-cae43423257b",
     "showTitle": false,
     "title": ""
    }
   },
   "outputs": [],
   "source": []
  },
  {
   "cell_type": "code",
   "execution_count": 0,
   "metadata": {
    "application/vnd.databricks.v1+cell": {
     "cellMetadata": {},
     "inputWidgets": {},
     "nuid": "bdce77a5-da17-44ae-bfb3-39328d0945b7",
     "showTitle": false,
     "title": ""
    }
   },
   "outputs": [],
   "source": [
    "df = tcf.add_control_fields(df_rais_vinculo, adf, layer=\"biz\")\n",
    "\n",
    "var_sink = \"{adl_path}{biz}/{path_destination}/\".format(adl_path=var_adls_uri, biz=dls['folders']['business'], path_destination=table[\"path_destination\"])"
   ]
  },
  {
   "cell_type": "code",
   "execution_count": 0,
   "metadata": {
    "application/vnd.databricks.v1+cell": {
     "cellMetadata": {},
     "inputWidgets": {},
     "nuid": "b108755b-ed90-4571-802d-03826f672ccd",
     "showTitle": false,
     "title": ""
    }
   },
   "outputs": [],
   "source": [
    "df.write.format('parquet').save(var_sink, header = True, mode='overwrite')"
   ]
  },
  {
   "cell_type": "code",
   "execution_count": 0,
   "metadata": {
    "application/vnd.databricks.v1+cell": {
     "cellMetadata": {},
     "inputWidgets": {},
     "nuid": "7aaec259-135c-498a-950c-5898f367ca67",
     "showTitle": false,
     "title": ""
    }
   },
   "outputs": [],
   "source": [
    "df_rais_vinculo.write.parquet(var_adls_uri + '/uds/oni/observatorio_nacional/mulheres_industria_fnme/rais_vinculo', mode=\"overwrite\")"
   ]
  }
 ],
 "metadata": {
  "application/vnd.databricks.v1+notebook": {
   "dashboards": [],
   "language": "python",
   "notebookMetadata": {
    "pythonIndentUnit": 2
   },
   "notebookName": "trs_biz_mulheres_rais_trabalhadores",
   "widgets": {}
  }
 },
 "nbformat": 4,
 "nbformat_minor": 0
}
