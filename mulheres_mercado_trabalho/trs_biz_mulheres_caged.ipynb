{
 "cells": [
  {
   "cell_type": "code",
   "execution_count": 0,
   "metadata": {
    "application/vnd.databricks.v1+cell": {
     "cellMetadata": {},
     "inputWidgets": {},
     "nuid": "96bb98d5-348c-4b18-abab-3f2dd2de68b2",
     "showTitle": false,
     "title": ""
    }
   },
   "outputs": [],
   "source": [
    "from cni_connectors import adls_gen1_connector as adls_conn\n",
    "var_adls_uri = adls_conn.adls_gen1_connect(spark, dbutils, scope=\"adls_gen2\", dynamic_overwrite=\"dynamic\")"
   ]
  },
  {
   "cell_type": "code",
   "execution_count": 0,
   "metadata": {
    "application/vnd.databricks.v1+cell": {
     "cellMetadata": {},
     "inputWidgets": {},
     "nuid": "ceb37d8d-f3eb-4489-83d4-d0a044239794",
     "showTitle": false,
     "title": ""
    }
   },
   "outputs": [],
   "source": [
    "import json\n",
    "import re\n",
    "import pyspark.sql.functions as f\n",
    "from pyspark.sql import DataFrame\n",
    "from pyspark.sql.window import Window\n",
    "import pyspark.sql.functions as f\n",
    "from trs_control_field import trs_control_field as tcf"
   ]
  },
  {
   "cell_type": "code",
   "execution_count": 0,
   "metadata": {
    "application/vnd.databricks.v1+cell": {
     "cellMetadata": {},
     "inputWidgets": {},
     "nuid": "785c7442-c617-4d19-bed7-e3133c92cd4e",
     "showTitle": false,
     "title": ""
    }
   },
   "outputs": [],
   "source": [
    "table = json.loads(re.sub(\"\\\"\", \"\\\"\", dbutils.widgets.get(\"tables\")))\n",
    "dls = json.loads(re.sub(\"\\\"\", \"\\\"\", dbutils.widgets.get(\"dls\")))\n",
    "adf = json.loads(re.sub(\"\\\"\", \"\\\"\", dbutils.widgets.get(\"adf\")))"
   ]
  },
  {
   "cell_type": "code",
   "execution_count": 0,
   "metadata": {
    "application/vnd.databricks.v1+cell": {
     "cellMetadata": {},
     "inputWidgets": {},
     "nuid": "f47c4809-2ee6-479e-8a74-545457bc7fc3",
     "showTitle": false,
     "title": ""
    }
   },
   "outputs": [],
   "source": [
    "table = {\"copy_sqldw\":\"false\",\n",
    "  \"source_trs_ipca\":\"ibge/ipca/\",\n",
    "  \"source_cadastro_cbo\":\"me/cadastro_cbo/\",\n",
    "  \"source_cnae_subclasses\":\"oni/bases_referencia/cnae/cnae_20/cnae_subclasse/\",\n",
    "  \"source_contribuintes\":\"oni/bases_do_projeto/painel_dos_estados/contribuintes/\",\n",
    "  \"source_caged_antigo\":\"me/caged/\",\n",
    "  \"source_uf\":\"oni/ibge/geo_uf/\",\n",
    "  \"source_novo_caged\":\"me/novo_caged/\",\n",
    "  \"source_instrucao\":\"oni/bases_do_projeto/painel_dos_estados/grau_instrucao_rais/\",\n",
    "  \"path_destination\":\"oni/mulheres_no_mercado_de_trabalho/caged\",\n",
    "  \"destination\":\"/mulheres_no_mercado_de_trabalho/caged\",\n",
    "  \"databricks\":{\"notebook\":\"/biz/oni/mulheres_no_mercado_de_trabalho/trs_biz_caged\"}}\n",
    "\n",
    "adf = {\"adf_factory_name\":\"cnibigdatafactory\",\"adf_pipeline_name\":\"trs_biz_rfb_cno\",\"adf_pipeline_run_id\":\"c158e9dd-98df-4f7b-a64d-d13c76669868\",\"adf_trigger_id\":\"67c514a7245449b984eb4aadd55bfbff\",\"adf_trigger_name\":\"Sandbox\",\"adf_trigger_time\":\"2023-08-22T21:22:42.5769844Z\",\"adf_trigger_type\":\"Manual\"}\n",
    " \n",
    "dls = {\"folders\":{\"landing\":\"/tmp/dev/lnd\",\"error\":\"/tmp/dev/err\",\"archive\":\"/tmp/dev/ach\",\"staging\":\"/tmp/dev/stg\",\"log\":\"/tmp/dev/log\",\"raw\":\"/tmp/dev/raw\",\"trusted\":\"/tmp/dev/trs\",\"business\":\"/tmp/dev/biz\",\"prm\":\"/tmp/dev/prm\",\"historico\":\"/tmp/dev/hst\"},\"path_prefix\":\"tmp\",\"uld\":{\"folders\":{\"landing\":\"/tmp/dev/uld\",\"error\":\"/tmp/dev/err\",\"staging\":\"/tmp/dev/stg\",\"log\":\"/tmp/dev/log\",\"raw\":\"/tmp/dev/raw\",\"archive\":\"/tmp/dev/ach\"},\"systems\":{\"raw\":\"usr\"},\"path_prefix\":\"/tmp/dev/\"},\"systems\":{\"raw\":\"usr\"}}\n",
    "\n",
    "#cadastro_estbl_f = \"{adl_path}{trs}/{file_folder}/\".format(adl_path=var_adls_uri, trs=dls[\"folders\"][\"trusted\"], file_folder=table[\"cadastro_estbl_f\"])\n",
    "#cadastro_estbl = spark.read.format(\"parquet\").option(\"header\",\"true\").option(\"encoding\", \"ISO-8859-1\").load(cadastro_estbl_f, mode=\"FAILFAST\")"
   ]
  },
  {
   "cell_type": "code",
   "execution_count": 0,
   "metadata": {
    "application/vnd.databricks.v1+cell": {
     "cellMetadata": {},
     "inputWidgets": {},
     "nuid": "09d575d2-064d-45f0-8199-fa6296327835",
     "showTitle": false,
     "title": ""
    }
   },
   "outputs": [],
   "source": [
    "source_trs_ipca = \"{adl_path}{trusted}/{file_folder}/\".format(adl_path=var_adls_uri, trusted=dls[\"folders\"][\"trusted\"], file_folder=table[\"source_trs_ipca\"])\n",
    "source_cadastro_cbo = \"{adl_path}{trusted}/{file_folder}/\".format(adl_path=var_adls_uri, trusted=dls[\"folders\"][\"trusted\"], file_folder=table[\"source_cadastro_cbo\"])\n",
    "source_cnae_subclasses = \"{adl_path}{business}/{file_folder}/\".format(adl_path=var_adls_uri, business=dls[\"folders\"][\"business\"], file_folder=table[\"source_cnae_subclasses\"])\n",
    "source_contribuintes = \"{adl_path}{trusted}/{file_folder}/\".format(adl_path=var_adls_uri, trusted=dls[\"folders\"][\"trusted\"], file_folder=table[\"source_contribuintes\"])\n",
    "source_caged_antigo = \"{adl_path}{trusted}/{file_folder}/\".format(adl_path=var_adls_uri, trusted=dls[\"folders\"][\"trusted\"], file_folder=table[\"source_caged_antigo\"])\n",
    "source_uf = \"{adl_path}{trusted}/{file_folder}/\".format(adl_path=var_adls_uri, trusted=dls[\"folders\"][\"trusted\"], file_folder=table[\"source_uf\"])\n",
    "source_novo_caged = \"{adl_path}{trusted}/{file_folder}/\".format(adl_path=var_adls_uri, trusted=dls[\"folders\"][\"trusted\"], file_folder=table[\"source_novo_caged\"])\n",
    "source_instrucao = \"{adl_path}{trusted}/{file_folder}/\".format(adl_path=var_adls_uri, trusted=dls[\"folders\"][\"trusted\"], file_folder=table[\"source_instrucao\"])"
   ]
  },
  {
   "cell_type": "code",
   "execution_count": 0,
   "metadata": {
    "application/vnd.databricks.v1+cell": {
     "cellMetadata": {},
     "inputWidgets": {},
     "nuid": "4552ed2d-4236-4238-adb9-b996672d7754",
     "showTitle": false,
     "title": ""
    }
   },
   "outputs": [],
   "source": [
    "def rename_column(df: DataFrame, old_col: str, new_col: str) -> DataFrame:\n",
    "  return df.withColumnRenamed(old_col, new_col)\n",
    "  \n",
    "def add_month_number(df: DataFrame, col_name:str) -> DataFrame:\n",
    "  df = df.withColumn(col_name, \n",
    "          f.when(f.col(col_name)==f.lit('janeiro'), f.lit(1)).otherwise(\n",
    "          f.when(f.col(col_name)==f.lit('fevereiro'), f.lit(2)).otherwise(\n",
    "          f.when(f.col(col_name)==f.lit('março'), f.lit(3)).otherwise(\n",
    "          f.when(f.col(col_name)==f.lit('abril'), f.lit(4)).otherwise(\n",
    "          f.when(f.col(col_name)==f.lit('maio'), f.lit(5)).otherwise(\n",
    "          f.when(f.col(col_name)==f.lit('junho'), f.lit(6)).otherwise(\n",
    "          f.when(f.col(col_name)==f.lit('julho'), f.lit(7)).otherwise(\n",
    "          f.when(f.col(col_name)==f.lit('agosto'), f.lit(8)).otherwise(\n",
    "          f.when(f.col(col_name)==f.lit('setembro'), f.lit(9)).otherwise(\n",
    "          f.when(f.col(col_name)==f.lit('outubro'), f.lit(10)).otherwise(\n",
    "          f.when(f.col(col_name)==f.lit('novembro'), f.lit(11)).otherwise(\n",
    "          f.when(f.col(col_name)==f.lit('dezembro'), f.lit(12))))))))))))))\n",
    "  return df"
   ]
  },
  {
   "cell_type": "code",
   "execution_count": 0,
   "metadata": {
    "application/vnd.databricks.v1+cell": {
     "cellMetadata": {},
     "inputWidgets": {},
     "nuid": "6d6bc21c-427a-4faf-8392-ebcc4eed460e",
     "showTitle": false,
     "title": ""
    }
   },
   "outputs": [],
   "source": [
    "window = Window.partitionBy()\n",
    "\n",
    "df_ipca = (spark.read.parquet(source_trs_ipca))\n",
    "\n",
    "df_ipca = rename_column(df_ipca, 'NR_MES_COMPETENCIA', 'MES_COMPETENCIA')\n",
    "df_ipca = rename_column(df_ipca, 'NR_ANO', 'ANO')\n",
    "df_ipca = df_ipca.orderBy(\"ANO\",\"MES_COMPETENCIA\").withColumn('base_fixa',f.last(f.col('VL_IPCA')).over(window))\n",
    "df_ipca = df_ipca.withColumn('INDICE_FIXO_ULTIMO_ANO',f.col('VL_IPCA')/f.col('base_fixa'))\n",
    "df_ipca = df_ipca.select('ANO',\"MES_COMPETENCIA\",'INDICE_FIXO_ULTIMO_ANO')"
   ]
  },
  {
   "cell_type": "code",
   "execution_count": 0,
   "metadata": {
    "application/vnd.databricks.v1+cell": {
     "cellMetadata": {},
     "inputWidgets": {},
     "nuid": "e26ec2ee-2f45-44a3-98c8-e788af9dd19f",
     "showTitle": false,
     "title": ""
    }
   },
   "outputs": [],
   "source": [
    "df_grau_instrucao = spark.read.parquet(source_instrucao)"
   ]
  },
  {
   "cell_type": "code",
   "execution_count": 0,
   "metadata": {
    "application/vnd.databricks.v1+cell": {
     "cellMetadata": {},
     "inputWidgets": {},
     "nuid": "a51dc17e-6d20-4ae6-91f2-548d2619a21d",
     "showTitle": false,
     "title": ""
    }
   },
   "outputs": [],
   "source": [
    "df_cbo = (spark.read.parquet(source_cadastro_cbo))"
   ]
  },
  {
   "cell_type": "code",
   "execution_count": 0,
   "metadata": {
    "application/vnd.databricks.v1+cell": {
     "cellMetadata": {},
     "inputWidgets": {},
     "nuid": "7f4093e3-0917-49be-84a0-990d8e785aa8",
     "showTitle": false,
     "title": ""
    }
   },
   "outputs": [],
   "source": [
    "df_cbo = df_cbo.select(\"cd_cbo1\",\"ds_cbo1\",\"cd_cbo2\",\"ds_cbo2\",\"cd_cbo4\",\"ds_cbo4\",\"ds_tipo_familia\",\"cd_ocup_corporativa_industriais\")\n",
    "df_cbo = df_cbo.dropDuplicates()"
   ]
  },
  {
   "cell_type": "code",
   "execution_count": 0,
   "metadata": {
    "application/vnd.databricks.v1+cell": {
     "cellMetadata": {},
     "inputWidgets": {},
     "nuid": "d0338290-b7d3-420f-b204-1b29fda365fc",
     "showTitle": false,
     "title": ""
    }
   },
   "outputs": [],
   "source": [
    "df_cnae_subclasses = (spark.read.parquet(source_cnae_subclasses))\n",
    "df_cnae= df_cnae_subclasses\n",
    "df_cnae = df_cnae.select(\"cd_cnae_divisao\", \"nm_cnae_divisao\").distinct()"
   ]
  },
  {
   "cell_type": "code",
   "execution_count": 0,
   "metadata": {
    "application/vnd.databricks.v1+cell": {
     "cellMetadata": {},
     "inputWidgets": {},
     "nuid": "e55d1baa-c631-4b10-8f67-8af25c59ab46",
     "showTitle": false,
     "title": ""
    }
   },
   "outputs": [],
   "source": [
    "df_contribuintes = (spark.read.parquet(source_contribuintes))\n",
    "contribuintes = [data[0] for data in df_contribuintes.select('contribuintes').collect()]"
   ]
  },
  {
   "cell_type": "code",
   "execution_count": 0,
   "metadata": {
    "application/vnd.databricks.v1+cell": {
     "cellMetadata": {},
     "inputWidgets": {},
     "nuid": "e1a9756e-0f14-4965-afa6-77946af5974b",
     "showTitle": false,
     "title": ""
    }
   },
   "outputs": [],
   "source": [
    "df_caged_antigo = spark.read.parquet(source_caged_antigo)\n",
    "df_novo_caged = spark.read.parquet(source_novo_caged)"
   ]
  },
  {
   "cell_type": "code",
   "execution_count": 0,
   "metadata": {
    "application/vnd.databricks.v1+cell": {
     "cellMetadata": {},
     "inputWidgets": {},
     "nuid": "10872557-22f9-444b-be5a-43f9035c7b20",
     "showTitle": false,
     "title": ""
    }
   },
   "outputs": [],
   "source": [
    "df_caged_antigo = rename_column(df_caged_antigo,'CD_ANO_MOVIMENTACAO','ANO')\n",
    "df_caged_antigo = df_caged_antigo.withColumn('MES_COMPETENCIA',f.substring(f.col('CD_ANO_MES_COMPETENCIA_MOVIMENTACAO'),5,2).cast('integer'))\\\n",
    "                                 .withColumn('CD_CNAE20_SUBCLASSE',f.lpad(f.col('CD_CNAE20_SUBCLASSE'),7,'0'))\\\n",
    "                                 .withColumn('CD_CNAE_DIVISAO',f.substring(f.col('CD_CNAE20_SUBCLASSE'),1,2))\n",
    "df_caged_antigo = df_caged_antigo.join(df_ipca,['ANO','MES_COMPETENCIA'],'left')\n",
    "df_caged_antigo = df_caged_antigo.withColumn('VL_SALARIO_MENSAL_REAL', f.col('VL_SALARIO_MENSAL')/f.col('INDICE_FIXO_ULTIMO_ANO'))\n",
    "df_caged_antigo = df_caged_antigo.withColumn('VL_SALARIO_MENSAL_REAL', \\\n",
    "                                   f.when(((f.col('VL_SALARIO_MENSAL_REAL')<f.lit(300)) | (f.col('VL_SALARIO_MENSAL_REAL')>f.lit(30000))),f.lit(0))\\\n",
    "                                    .otherwise(f.col('VL_SALARIO_MENSAL_REAL')))\n",
    "df_caged_antigo = df_caged_antigo.withColumn(\"cd_cbo4\",f.substring(\"CD_CBO\",1,4)).drop(\"CD_CBO\")\n",
    "df_caged_antigo = rename_column(df_caged_antigo,'CD_CBO','cd_cbo4')\n",
    "df_caged_antigo = df_caged_antigo.join(df_cbo,'cd_cbo4','left')\n",
    "df_caged_antigo = df_caged_antigo.withColumnRenamed('CD_GRAU_INSTRUCAO','cd_grau_instrucao').join(df_grau_instrucao,'cd_grau_instrucao','left')\n",
    "df_caged_antigo = (df_caged_antigo\n",
    "                   .withColumn(\"cd_cbo_agrupamento\", f.when((f.col('cd_cbo1')==f.lit(3)) | ((f.col('cd_cbo1')>f.lit(3)) \\\n",
    "                   & (f.col('cd_cbo1')<f.lit(10)) & (f.col('ds_tipo_familia')==f.lit('Técnicas'))), f.lit(1)) \\\n",
    "                     .otherwise(f.when((f.col('cd_cbo1')>f.lit(3)) & (f.col('cd_cbo1')<f.lit(10)), f.lit(2)) \\\n",
    "                     .otherwise(f.when(f.col('cd_cbo1')==f.lit(2), f.lit(3)) \\\n",
    "                     .otherwise(f.when(f.col('cd_cbo1')==f.lit(0), f.lit(4)) \\\n",
    "                     .otherwise(f.when(f.col('cd_cbo2')==f.lit(11), f.lit(5)) \\\n",
    "                     .otherwise(f.when((f.col('cd_cbo2')>f.lit(11)) & (f.col('cd_cbo2')<f.lit(15)), f.lit(6)) \\\n",
    "                     .otherwise(f.lit(7))))))))\n",
    "                   .withColumn(\"ds_cbo_agrupamento\", f.when((f.col('cd_cbo1')==f.lit(3)) | ((f.col('cd_cbo1')>f.lit(3)) \\\n",
    "                   & (f.col('cd_cbo1')<f.lit(10)) & (f.col('ds_tipo_familia')==f.lit('Técnicas'))), f.lit('Técnicos de nível médio')) \\\n",
    "                     .otherwise(f.when((f.col('cd_cbo1')>f.lit(3)) & (f.col('cd_cbo1')<f.lit(10)), f.lit('Trabalhadores auxiliares e operacionais')) \\\n",
    "                     .otherwise(f.when(f.col('cd_cbo1')==f.lit(2), f.lit('Especialistas e analistas')) \\\n",
    "                     .otherwise(f.when(f.col('cd_cbo1')==f.lit(0), f.lit('Forças armadas, policias e bombeiros militares')) \\\n",
    "                     .otherwise(f.when(f.col('cd_cbo2')==f.lit(11), f.lit('Membros superiores e dirigentes do setor público')) \\\n",
    "                     .otherwise(f.when((f.col('cd_cbo2')>f.lit(11)) & (f.col('cd_cbo2')<f.lit(15)), f.lit('Diretores e gerentes')) \\\n",
    "                     .otherwise(f.lit('Não informado')))))))))\n",
    "df_caged_antigo = (df_caged_antigo\n",
    "                   .withColumn('cd_grau_instrucao_agregado', f.when(f.col('cd_grau_instrucao_agregado').isNull(), f.lit(-1)).otherwise(f.col('cd_grau_instrucao_agregado')))\n",
    "                   .withColumn(\"cd_faixa_etaria\",f.when(((f.col(\"VL_IDADE\")<=f.lit(20))),f.lit(1))\\\n",
    "                                        .otherwise(f.when(((f.col(\"VL_IDADE\")>f.lit(20)) & (f.col(\"VL_IDADE\")<=f.lit(30))),f.lit(2))\\\n",
    "                                        .otherwise(f.when(((f.col(\"VL_IDADE\")>f.lit(30)) & (f.col(\"VL_IDADE\")<=f.lit(40))),f.lit(3))\\\n",
    "                                        .otherwise(f.when(((f.col(\"VL_IDADE\")>f.lit(40)) & (f.col(\"VL_IDADE\")<=f.lit(50))),f.lit(4))\\\n",
    "                                        .otherwise(f.when(((f.col(\"VL_IDADE\")>f.lit(50)) & (f.col(\"VL_IDADE\")<=f.lit(60))),f.lit(5))\\\n",
    "                                        .otherwise(f.when(((f.col(\"VL_IDADE\")>f.lit(60)) & (f.col(\"VL_IDADE\")<=f.lit(70))),f.lit(6))\\\n",
    "                                        .otherwise(f.when(((f.col(\"VL_IDADE\")>f.lit(70)) & (f.col(\"VL_IDADE\")<=f.lit(80))),f.lit(7))\\\n",
    "                                        .otherwise(f.when(((f.col(\"VL_IDADE\")>f.lit(80))),f.lit(8)).otherwise(f.lit(9))))))))\\\n",
    "                                        ))\n",
    "                    .withColumn(\"ds_faixa_etaria\",f.when(((f.col(\"VL_IDADE\")<=f.lit(20))),f.lit('Até 20 anos'))\\\n",
    "                                        .otherwise(f.when(((f.col(\"VL_IDADE\")>f.lit(20)) & (f.col(\"VL_IDADE\")<=f.lit(30))),f.lit('21 a 30 anos'))\\\n",
    "                                        .otherwise(f.when(((f.col(\"VL_IDADE\")>f.lit(30)) & (f.col(\"VL_IDADE\")<=f.lit(40))),f.lit('31 a 40 anos'))\\\n",
    "                                        .otherwise(f.when(((f.col(\"VL_IDADE\")>f.lit(40)) & (f.col(\"VL_IDADE\")<=f.lit(50))),f.lit('41 a 50 anos'))\\\n",
    "                                        .otherwise(f.when(((f.col(\"VL_IDADE\")>f.lit(50)) & (f.col(\"VL_IDADE\")<=f.lit(60))),f.lit('51 a 60 anos'))\\\n",
    "                                        .otherwise(f.when(((f.col(\"VL_IDADE\")>f.lit(60)) & (f.col(\"VL_IDADE\")<=f.lit(70))),f.lit('61 a 70 anos'))\\\n",
    "                                        .otherwise(f.when(((f.col(\"VL_IDADE\")>f.lit(70)) & (f.col(\"VL_IDADE\")<=f.lit(80))),f.lit('71 a 80 anos'))\\\n",
    "                                        .otherwise(f.when(((f.col(\"VL_IDADE\")>f.lit(80))),f.lit('Maiores de 80 anos')).otherwise('Não informado')))))))\\\n",
    "                                        )))                     \n",
    "df_caged_antigo = df_caged_antigo.drop('INDICE_FIXO_ULTIMO_ANO')\n",
    "\n",
    "df_caged_antigo = df_caged_antigo.withColumn('ds_sexo',f.when(f.col(\"CD_SEXO\")==f.lit(1),\"Masculino\")\\\n",
    "                                  .otherwise(f.when(f.col(\"CD_SEXO\")==f.lit(2),\"Feminino\")))"
   ]
  },
  {
   "cell_type": "code",
   "execution_count": 0,
   "metadata": {
    "application/vnd.databricks.v1+cell": {
     "cellMetadata": {},
     "inputWidgets": {},
     "nuid": "6f2c8a45-27b8-4c2c-9b24-f562c967015f",
     "showTitle": false,
     "title": ""
    }
   },
   "outputs": [],
   "source": [
    "df_novo_caged = rename_column(df_novo_caged,'CD_ANO_COMPETENCIA','ANO')\n",
    "df_novo_caged = df_novo_caged.withColumn('MES_COMPETENCIA',f.substring(f.col('CD_ANO_MES_COMPETENCIA_MOVIMENTACAO'),5,2).cast('integer'))\\\n",
    "                             .withColumn('CD_CNAE20_SUBCLASSE',f.lpad(f.col('CD_CNAE20_SUBCLASSE'),7,'0'))\\\n",
    "                             .withColumn('CD_CNAE_DIVISAO',f.substring(f.col('CD_CNAE20_SUBCLASSE'),1,2))\n",
    "df_novo_caged = df_novo_caged.join(df_ipca,['ANO','MES_COMPETENCIA'],'left') \n",
    "df_novo_caged = df_novo_caged.withColumn('VL_SALARIO_MENSAL_REAL', f.col('VL_SALARIO_MENSAL')/f.col('INDICE_FIXO_ULTIMO_ANO'))\n",
    "df_novo_caged = df_novo_caged.withColumn('VL_SALARIO_MENSAL_REAL', \\\n",
    "                                   f.when(((f.col('VL_SALARIO_MENSAL_REAL')<f.lit(300)) | (f.col('VL_SALARIO_MENSAL_REAL')>f.lit(30000))),f.lit(0))\\\n",
    "                                    .otherwise(f.col('VL_SALARIO_MENSAL_REAL')))\n",
    "df_novo_caged=  df_novo_caged.withColumn(\"cd_cbo4\",f.substring(\"CD_CBO\",1,4)).drop(\"CD_CBO\")\n",
    "df_novo_caged = df_novo_caged.withColumnRenamed('CD_GRAU_INSTRUCAO','cd_grau_instrucao').join(df_grau_instrucao,'cd_grau_instrucao','left')\n",
    "df_novo_caged = df_novo_caged.join(df_cbo,'cd_cbo4','left')\n",
    "df_novo_caged = (df_novo_caged.withColumn(\"cd_cbo_agrupamento\", f.when((f.col('cd_cbo1')==f.lit(3)) | ((f.col('cd_cbo1')>f.lit(3)) \\\n",
    "                   & (f.col('cd_cbo1')<f.lit(10)) & (f.col('ds_tipo_familia')==f.lit('Técnicas'))), f.lit(1)) \\\n",
    "                     .otherwise(f.when((f.col('cd_cbo1')>f.lit(3)) & (f.col('cd_cbo1')<f.lit(10)), f.lit(2)) \\\n",
    "                     .otherwise(f.when(f.col('cd_cbo1')==f.lit(2), f.lit(3)) \\\n",
    "                     .otherwise(f.when(f.col('cd_cbo1')==f.lit(0), f.lit(4)) \\\n",
    "                     .otherwise(f.when(f.col('cd_cbo2')==f.lit(11), f.lit(5)) \\\n",
    "                     .otherwise(f.when((f.col('cd_cbo2')>f.lit(11)) & (f.col('cd_cbo2')<f.lit(15)), f.lit(6)) \\\n",
    "                     .otherwise(f.lit(7)))))))).withColumn(\"ds_cbo_agrupamento\", f.when((f.col('cd_cbo1')==f.lit(3)) | ((f.col('cd_cbo1')>f.lit(3)) \\\n",
    "                   & (f.col('cd_cbo1')<f.lit(10)) & (f.col('ds_tipo_familia')==f.lit('Técnicas'))), f.lit('Técnicos de nível médio')) \\\n",
    "                     .otherwise(f.when((f.col('cd_cbo1')>f.lit(3)) & (f.col('cd_cbo1')<f.lit(10)), f.lit('Trabalhadores auxiliares e operacionais')) \\\n",
    "                     .otherwise(f.when(f.col('cd_cbo1')==f.lit(2), f.lit('Especialistas e analistas')) \\\n",
    "                     .otherwise(f.when(f.col('cd_cbo1')==f.lit(0), f.lit('Forças armadas, policias e bombeiros militares')) \\\n",
    "                     .otherwise(f.when(f.col('cd_cbo2')==f.lit(11), f.lit('Membros superiores e dirigentes do setor público')) \\\n",
    "                     .otherwise(f.when((f.col('cd_cbo2')>f.lit(11)) & (f.col('cd_cbo2')<f.lit(15)), f.lit('Diretores e gerentes')) \\\n",
    "                     .otherwise(f.lit('Não informado')))))))))\n",
    "\n",
    "df_novo_caged = (df_novo_caged\n",
    "                 .withColumn('cd_grau_instrucao_agregado', f.when(f.col('cd_grau_instrucao_agregado').isNull(), f.lit(-1)).otherwise(f.col('cd_grau_instrucao_agregado')))\n",
    "                 .withColumn(\"cd_faixa_etaria\",f.when(((f.col(\"VL_IDADE\")<=f.lit(20))),f.lit(1))\\\n",
    "                                        .otherwise(f.when(((f.col(\"VL_IDADE\")>f.lit(20)) & (f.col(\"VL_IDADE\")<=f.lit(30))),f.lit(2))\\\n",
    "                                        .otherwise(f.when(((f.col(\"VL_IDADE\")>f.lit(30)) & (f.col(\"VL_IDADE\")<=f.lit(40))),f.lit(3))\\\n",
    "                                        .otherwise(f.when(((f.col(\"VL_IDADE\")>f.lit(40)) & (f.col(\"VL_IDADE\")<=f.lit(50))),f.lit(4))\\\n",
    "                                        .otherwise(f.when(((f.col(\"VL_IDADE\")>f.lit(50)) & (f.col(\"VL_IDADE\")<=f.lit(60))),f.lit(5))\\\n",
    "                                        .otherwise(f.when(((f.col(\"VL_IDADE\")>f.lit(60)) & (f.col(\"VL_IDADE\")<=f.lit(70))),f.lit(6))\\\n",
    "                                        .otherwise(f.when(((f.col(\"VL_IDADE\")>f.lit(70)) & (f.col(\"VL_IDADE\")<=f.lit(80))),f.lit(7))\\\n",
    "                                        .otherwise(f.when(((f.col(\"VL_IDADE\")>f.lit(80))),f.lit(8)).otherwise(f.lit(9))))))))\\\n",
    "                                        ))\\\n",
    "                 .withColumn(\"ds_faixa_etaria\",f.when(((f.col(\"VL_IDADE\")<=f.lit(20))),f.lit('Até 20 anos'))\\\n",
    "                                        .otherwise(f.when(((f.col(\"VL_IDADE\")>f.lit(20)) & (f.col(\"VL_IDADE\")<=f.lit(30))),f.lit('21 a 30 anos'))\\\n",
    "                                        .otherwise(f.when(((f.col(\"VL_IDADE\")>f.lit(30)) & (f.col(\"VL_IDADE\")<=f.lit(40))),f.lit('31 a 40 anos'))\\\n",
    "                                        .otherwise(f.when(((f.col(\"VL_IDADE\")>f.lit(40)) & (f.col(\"VL_IDADE\")<=f.lit(50))),f.lit('41 a 50 anos'))\\\n",
    "                                        .otherwise(f.when(((f.col(\"VL_IDADE\")>f.lit(50)) & (f.col(\"VL_IDADE\")<=f.lit(60))),f.lit('51 a 60 anos'))\\\n",
    "                                        .otherwise(f.when(((f.col(\"VL_IDADE\")>f.lit(60)) & (f.col(\"VL_IDADE\")<=f.lit(70))),f.lit('61 a 70 anos'))\\\n",
    "                                        .otherwise(f.when(((f.col(\"VL_IDADE\")>f.lit(70)) & (f.col(\"VL_IDADE\")<=f.lit(80))),f.lit('71 a 80 anos'))\\\n",
    "                                        .otherwise(f.when(((f.col(\"VL_IDADE\")>f.lit(80))),f.lit('Maiores de 80 anos')).otherwise('Não informado')))))))\\\n",
    "                                        )))                     \n",
    "df_novo_caged = df_novo_caged.drop('INDICE_FIXO_ULTIMO_ANO')\n",
    "\n",
    "df_novo_caged = df_novo_caged.withColumn(\"CD_SEXO\", f.when(df_novo_caged.CD_SEXO == 3, 2).otherwise(df_novo_caged.CD_SEXO))\n",
    "\n",
    "df_novo_caged = df_novo_caged.withColumn('ds_sexo',f.when(f.col(\"CD_SEXO\")==f.lit(1),\"Masculino\")\\\n",
    "                                  .otherwise(f.when(f.col(\"CD_SEXO\")==f.lit(2),\"Feminino\")))"
   ]
  },
  {
   "cell_type": "code",
   "execution_count": 0,
   "metadata": {
    "application/vnd.databricks.v1+cell": {
     "cellMetadata": {},
     "inputWidgets": {},
     "nuid": "1ec51bbf-c53e-4351-91e5-35d8b0ab861e",
     "showTitle": false,
     "title": ""
    }
   },
   "outputs": [],
   "source": [
    "df_caged_antigo_saldo = (df_caged_antigo.withColumn(\"Admitidos\", \\\n",
    "                                         f.when(f.col('CD_SALDO_MOV')==f.lit(1),f.lit(1))\\\n",
    "                                          .otherwise(f.lit(0)))\\\n",
    "                                            .withColumn(\"Admitidos_ajuste\", \\\n",
    "                                         f.when((f.col('VL_SALARIO_MENSAL_REAL')<f.lit(300)) | (f.col('VL_SALARIO_MENSAL_REAL')>f.lit(30000)),f.lit(0))\\\n",
    "                                          .otherwise(f.when(f.col('CD_SALDO_MOV')==f.lit(1), f.col('CD_SALDO_MOV')).otherwise(f.lit(0))))\\\n",
    "                                       .withColumn(\"Sal_Admitidos\", \\\n",
    "                                         f.when(f.col('CD_SALDO_MOV')==f.lit(1),f.col('VL_SALARIO_MENSAL_REAL'))\\\n",
    "                                          .otherwise(f.lit(0)))\\\n",
    "                                       .withColumn(\"Desligados\", \\\n",
    "                                         f.when(f.col('CD_SALDO_MOV')==f.lit(-1),f.lit(1))\\\n",
    "                                          .otherwise(f.lit(0)))\\\n",
    "                                            .withColumn(\"Horas_admitidos\", \\\n",
    "                                         f.when((f.col('VL_SALARIO_MENSAL_REAL')<f.lit(300)) | (f.col('VL_SALARIO_MENSAL_REAL')>f.lit(30000)),f.lit(0))\\\n",
    "                                          .otherwise(f.when(f.col('CD_SALDO_MOV')==f.lit(1),f.col('QT_HORA_CONTRAT')*f.lit(4)).otherwise(f.lit(0))))\\\n",
    "                                       .withColumn('CD_CNAE_DIVISAO',f.lpad(f.col('CD_CNAE_DIVISAO'),2,'0'))\n",
    "                                       .withColumnRenamed(\"CD_SEXO\",\"cd_sexo\")\n",
    "                                      # .fillna('Não informado')\n",
    "                                       .groupBy('CD_UF','ANO','CD_CNAE_DIVISAO','cd_faixa_etaria','ds_faixa_etaria','cd_cbo_agrupamento','ds_cbo_agrupamento',\"cd_grau_instrucao_agregado\",'nm_grau_instrucao_agregado','ds_sexo','cd_sexo')\n",
    "                                             .agg(f.sum('CD_SALDO_MOV').alias('vl_saldo_caged'),\\\n",
    "                                               f.sum('Admitidos').alias('vl_admitidos'),\\\n",
    "                                                 f.sum('Admitidos_ajuste').alias('vl_admitidos_ajuste'),\\\n",
    "                                               f.sum('Desligados').alias('vl_desligados'),\\\n",
    "                                               f.sum('Horas_admitidos').alias('vl_massa_horas_adm'),\\\n",
    "                                               f.sum('Sal_Admitidos').alias('vl_massa_salarial_adm')))\n",
    "                                                 \n",
    "\n",
    "# saldo - CAGED novo - UF\n",
    "df_caged_novo_saldo =(df_novo_caged.withColumn('CD_SALDO_MOV',\\\n",
    "                                     f.when(f.col('ORIGEM')==\"CAGEDEXC\",f.col('CD_SALDO_MOV')*f.lit(-1))\\\n",
    "                                      .otherwise(f.col('CD_SALDO_MOV')))\\\n",
    "                                   .withColumn(\"Admitidos\", \\\n",
    "                                         f.when(f.col('CD_SALDO_MOV')==f.lit(1),f.lit(1))\\\n",
    "                                          .otherwise(f.lit(0)))\\\n",
    "                                        .withColumn(\"Admitidos_ajuste\", \\\n",
    "                                         f.when((f.col('VL_SALARIO_MENSAL_REAL')<f.lit(300)) | (f.col('VL_SALARIO_MENSAL_REAL')>f.lit(30000)),f.lit(0))\\\n",
    "                                          .otherwise(f.when(f.col('CD_SALDO_MOV')==f.lit(1), f.col('CD_SALDO_MOV')).otherwise(f.lit(0))))\\\n",
    "                                       .withColumn(\"Sal_Admitidos\", \\\n",
    "                                         f.when(f.col('CD_SALDO_MOV')==f.lit(1),f.col('VL_SALARIO_MENSAL_REAL'))\\\n",
    "                                          .otherwise(f.lit(0)))\\\n",
    "                                       .withColumn(\"Desligados\", \\\n",
    "                                         f.when(f.col('CD_SALDO_MOV')==f.lit(-1),f.lit(1))\\\n",
    "                                          .otherwise(f.lit(0)))\\\n",
    "                                       .withColumn(\"Horas_admitidos\", \\\n",
    "                                         f.when((f.col('VL_SALARIO_MENSAL_REAL')<f.lit(300)) | (f.col('VL_SALARIO_MENSAL_REAL')>f.lit(30000)),f.lit(0))\\\n",
    "                                          .otherwise(f.when(f.col('CD_SALDO_MOV')==f.lit(1),f.col('QT_HORA_CONTRAT')*f.lit(4)).otherwise(f.lit(0))))\\\n",
    "                                       .withColumn('CD_CNAE_DIVISAO',f.lpad(f.col('CD_CNAE_DIVISAO'),2,'0'))\n",
    "                                       .withColumnRenamed(\"CD_SEXO\",\"cd_sexo\")\n",
    "                                      # .fillna('Não informado')\n",
    "                                       .groupBy('CD_UF','ANO','CD_CNAE_DIVISAO','cd_faixa_etaria','ds_faixa_etaria','cd_cbo_agrupamento','ds_cbo_agrupamento',\"cd_grau_instrucao_agregado\",'nm_grau_instrucao_agregado','ds_sexo','cd_sexo')\n",
    "                                             .agg(f.sum('CD_SALDO_MOV').alias('vl_saldo_caged'),\\\n",
    "                                               f.sum('Admitidos').alias('vl_admitidos'),\\\n",
    "                                                 f.sum('Admitidos_ajuste').alias('vl_admitidos_ajuste'),\\\n",
    "                                               f.sum('Desligados').alias('vl_desligados'),\\\n",
    "                                               f.sum('Horas_admitidos').alias('vl_massa_horas_adm'),\\\n",
    "                                               f.sum('Sal_Admitidos').alias('vl_massa_salarial_adm')\n",
    "                                                 ))\n",
    "                                             \n",
    "\n",
    "#unifica todas as bases\n",
    "\n",
    "df_caged = df_caged_antigo_saldo.union(df_caged_novo_saldo)\n",
    "df_caged = rename_column(df_caged,'ANO','ano')\n",
    "df_caged = rename_column(df_caged,'CD_UF','cd_uf')\n",
    "df_caged = rename_column(df_caged,'CD_CNAE_DIVISAO','cd_cnae_divisao')\n",
    "df_caged = df_caged.join(df_cnae,'cd_cnae_divisao','left')"
   ]
  },
  {
   "cell_type": "code",
   "execution_count": 0,
   "metadata": {
    "application/vnd.databricks.v1+cell": {
     "cellMetadata": {},
     "inputWidgets": {},
     "nuid": "070d383e-bf73-4338-a8d2-3dc442d94bd2",
     "showTitle": false,
     "title": ""
    }
   },
   "outputs": [],
   "source": [
    "df_caged = (df_caged.withColumn(\"vl_saldo_caged\",f.col(\"vl_saldo_caged\").cast(\"double\"))\\\n",
    "                   .withColumn(\"vl_admitidos\",f.col(\"vl_admitidos\").cast(\"double\"))\\\n",
    "                   .withColumn(\"vl_desligados\",f.col(\"vl_desligados\").cast(\"double\"))\\\n",
    "                     .withColumn(\"vl_admitidos_ajuste\",f.col(\"vl_admitidos_ajuste\").cast(\"double\"))\\\n",
    "                     .withColumn(\"vl_massa_horas_adm\",f.col(\"vl_massa_horas_adm\").cast(\"double\"))\\\n",
    "                       .withColumn(\"vl_massa_salarial_adm\",f.col(\"vl_massa_salarial_adm\").cast(\"double\")).drop('nm_cnae_divisao').fillna('Não informado')\n",
    "                       .where(f.col('ano')>f.lit(2011)))"
   ]
  },
  {
   "cell_type": "code",
   "execution_count": 0,
   "metadata": {
    "application/vnd.databricks.v1+cell": {
     "cellMetadata": {},
     "inputWidgets": {},
     "nuid": "a7d1b8a3-0cfe-40a8-8570-98c6346d9bf5",
     "showTitle": false,
     "title": ""
    }
   },
   "outputs": [],
   "source": [
    "df = tcf.add_control_fields(df_caged, adf, layer=\"biz\")\n",
    "\n",
    "var_sink = \"{adl_path}{biz}/{path_destination}/\".format(adl_path=var_adls_uri, biz=dls['folders']['business'], path_destination=table[\"path_destination\"])"
   ]
  },
  {
   "cell_type": "code",
   "execution_count": 0,
   "metadata": {
    "application/vnd.databricks.v1+cell": {
     "cellMetadata": {},
     "inputWidgets": {},
     "nuid": "38b0f0ee-0d54-455a-a9fd-9ac457b23947",
     "showTitle": false,
     "title": ""
    }
   },
   "outputs": [],
   "source": [
    "df.write.format('parquet').save(var_sink, header = True, mode='overwrite')"
   ]
  }
 ],
 "metadata": {
  "application/vnd.databricks.v1+notebook": {
   "dashboards": [],
   "language": "python",
   "notebookMetadata": {
    "pythonIndentUnit": 2
   },
   "notebookName": "trs_biz_mulheres_caged",
   "widgets": {}
  }
 },
 "nbformat": 4,
 "nbformat_minor": 0
}
