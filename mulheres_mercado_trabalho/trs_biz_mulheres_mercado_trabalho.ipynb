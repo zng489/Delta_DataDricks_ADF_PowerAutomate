{
 "cells": [
  {
   "cell_type": "code",
   "execution_count": 0,
   "metadata": {
    "application/vnd.databricks.v1+cell": {
     "cellMetadata": {
      "byteLimit": 2048000,
      "rowLimit": 10000
     },
     "inputWidgets": {},
     "nuid": "057c73a6-ebc9-4a76-b45c-8c48d91ea41f",
     "showTitle": false,
     "title": ""
    }
   },
   "outputs": [
    {
     "output_type": "stream",
     "name": "stdout",
     "output_type": "stream",
     "text": [
      "fornecedor_dev\ndev-execution\n"
     ]
    }
   ],
   "source": [
    "from cni_connectors import adls_gen1_connector as adls_conn\n",
    "from trs_control_field import trs_control_field as tcf\n",
    "var_adls_uri = adls_conn.adls_gen1_connect(spark, dbutils, scope=\"adls_gen2\", dynamic_overwrite=\"dynamic\")"
   ]
  },
  {
   "cell_type": "code",
   "execution_count": 0,
   "metadata": {
    "application/vnd.databricks.v1+cell": {
     "cellMetadata": {
      "byteLimit": 2048000,
      "rowLimit": 10000
     },
     "inputWidgets": {},
     "nuid": "df7c139a-84f2-46e9-8811-e7374768b37b",
     "showTitle": false,
     "title": ""
    }
   },
   "outputs": [],
   "source": [
    "import json\n",
    "import re\n",
    "import datetime\n",
    "from datetime import datetime\n",
    "import crawler.functions as cf\n",
    "import pyspark.sql.functions as f\n",
    "from pyspark.sql.types import *\n",
    "from pyspark.sql.functions import *\n",
    "from pyspark.sql.functions import lag\n",
    "from pyspark.sql.window import Window\n",
    "from pyspark.sql.functions import countDistinct\n",
    "from pyspark.sql.functions import row_number\n",
    "from pyspark.sql.types import StructType\n",
    "from pyspark.sql.functions import datediff,col,when,greatest\n",
    "from pyspark.sql.functions import regexp_replace\n",
    "from pyspark.sql.types import IntegerType,BooleanType,DateType\n",
    "from trs_control_field import trs_control_field as tcf"
   ]
  },
  {
   "cell_type": "code",
   "execution_count": 0,
   "metadata": {
    "application/vnd.databricks.v1+cell": {
     "cellMetadata": {},
     "inputWidgets": {},
     "nuid": "fde1466b-ef9c-42cb-b4ea-eb41665ffd0e",
     "showTitle": false,
     "title": ""
    }
   },
   "outputs": [],
   "source": [
    "table = json.loads(re.sub(\"\\'\", '\\\"', dbutils.widgets.get(\"tables\")))\n",
    "dls = json.loads(re.sub(\"\\'\", '\\\"', dbutils.widgets.get(\"dls\")))\n",
    "adf = json.loads(re.sub(\"\\'\", '\\\"', dbutils.widgets.get(\"adf\")))"
   ]
  },
  {
   "cell_type": "code",
   "execution_count": 0,
   "metadata": {
    "application/vnd.databricks.v1+cell": {
     "cellMetadata": {
      "byteLimit": 2048000,
      "rowLimit": 10000
     },
     "inputWidgets": {},
     "nuid": "38b9d679-9b4c-4937-813e-5fcc1d5911aa",
     "showTitle": false,
     "title": ""
    }
   },
   "outputs": [],
   "source": [
    "try:\n",
    "  table = json.loads(re.sub(\"\\'\", '\\\"', dbutils.widgets.get(\"tables\")))\n",
    "  dls = json.loads(re.sub(\"\\'\", '\\\"', dbutils.widgets.get(\"dls\")))\n",
    "  adf = json.loads(re.sub(\"\\'\", '\\\"', dbutils.widgets.get(\"adf\")))\n",
    "\n",
    "except:\n",
    "  table = {\"path_origin\":\"oni/bases_do_projeto/mulheres_industria\",\n",
    "          \"path_destination\":\"oni/bases_referencia/mulheres_industria\",\n",
    "          \"destination\":\"/oni/bases_referencia/\",\n",
    "          \"databricks\":{\"notebook\":\"/biz/oni/bases_referencia/trs_biz_mulheres_mercado_trabalho\"}\n",
    "          }\n",
    "  \n",
    "  adf = {\n",
    "  \"adf_factory_name\": \"cnibigdatafactory\",\n",
    "  \"adf_pipeline_name\": \"org_raw_rfb_cno\",\n",
    "  \"adf_pipeline_run_id\": \"60ee3485-4a56-4ad1-99ae-666666666\",\n",
    "  \"adf_trigger_id\": \"62bee9e9-acbb-49cc-80f2-666666666\",\n",
    "  \"adf_trigger_name\": \"62bee9e9-acbb-49cc-80f2-66666666\",\n",
    "  \"adf_trigger_time\": datetime.now().strftime(\"%Y-%m-%dT%H:%M:%S.%fZ\"),\n",
    "  \"adf_trigger_type\": \"PipelineActivity\"}\n",
    "  \n",
    "  dls = {\"folders\":{\"landing\":\"/tmp/dev/lnd\", \"error\":\"/tmp/dev/err/\", \"staging\":\"/tmp/dev/stg/\", \"log\":\"/tmp/dev/log/\", \"raw\":\"/tmp/dev/raw\", \"trusted\":\"/tmp/dev/trs\" , \"business\":\"/tmp/dev/biz\", \"prm_path\":'/tmp/dev/prm/usr/rfb_cno/ONI2022_Painel_CNO_mapeamento_uni_trs.xlsx'}}"
   ]
  },
  {
   "cell_type": "code",
   "execution_count": 0,
   "metadata": {
    "application/vnd.databricks.v1+cell": {
     "cellMetadata": {
      "byteLimit": 2048000,
      "rowLimit": 10000
     },
     "inputWidgets": {},
     "nuid": "4e6a208b-2aad-4354-ad27-bbfc249dc9b5",
     "showTitle": false,
     "title": ""
    }
   },
   "outputs": [],
   "source": [
    "path_trs = f\"{var_adls_uri}{dls['folders']['trusted']}/{table['path_origin']}\"\n",
    "\n",
    "df = spark.read.format(\"parquet\").load(path_trs)\n",
    "df = tcf.add_control_fields(df, adf, layer=\"biz\")"
   ]
  },
  {
   "cell_type": "code",
   "execution_count": 0,
   "metadata": {
    "application/vnd.databricks.v1+cell": {
     "cellMetadata": {
      "byteLimit": 2048000,
      "rowLimit": 10000
     },
     "inputWidgets": {},
     "nuid": "d61a5a00-7a99-4618-8bf6-98d2914133fa",
     "showTitle": false,
     "title": ""
    }
   },
   "outputs": [
    {
     "output_type": "stream",
     "name": "stdout",
     "output_type": "stream",
     "text": [
      "[REDACTED]/tmp/dev/biz/oni/bases_referencia/mulheres_industria\n"
     ]
    }
   ],
   "source": [
    "path_biz = f\"{var_adls_uri}{dls['folders']['business']}/{table['path_destination']}\"\n",
    "print(path_biz)"
   ]
  },
  {
   "cell_type": "code",
   "execution_count": 0,
   "metadata": {
    "application/vnd.databricks.v1+cell": {
     "cellMetadata": {
      "byteLimit": 2048000,
      "rowLimit": 10000
     },
     "inputWidgets": {},
     "nuid": "4e088824-c9e0-47ac-b5d1-1d4bdae7d75e",
     "showTitle": false,
     "title": ""
    }
   },
   "outputs": [],
   "source": [
    "df.write.format('parquet').save(path_biz, header = True, mode='overwrite') "
   ]
  }
 ],
 "metadata": {
  "application/vnd.databricks.v1+notebook": {
   "dashboards": [],
   "language": "python",
   "notebookMetadata": {
    "pythonIndentUnit": 2
   },
   "notebookName": "trs_biz_mulheres_mercado_trabalho",
   "widgets": {}
  }
 },
 "nbformat": 4,
 "nbformat_minor": 0
}
