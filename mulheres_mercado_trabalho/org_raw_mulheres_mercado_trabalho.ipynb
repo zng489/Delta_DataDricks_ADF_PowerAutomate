{
 "cells": [
  {
   "cell_type": "code",
   "execution_count": 0,
   "metadata": {
    "application/vnd.databricks.v1+cell": {
     "cellMetadata": {
      "byteLimit": 2048000,
      "rowLimit": 10000
     },
     "inputWidgets": {},
     "nuid": "24dab352-6897-41b3-85c2-9b09a8ebf870",
     "showTitle": false,
     "title": ""
    }
   },
   "outputs": [
    {
     "output_type": "stream",
     "name": "stdout",
     "output_type": "stream",
     "text": [
      "fornecedor_dev\ndev-execution\n"
     ]
    }
   ],
   "source": [
    "from cni_connectors import adls_gen1_connector as adls_conn\n",
    "from pyspark.sql.functions import udf, from_utc_timestamp, current_timestamp, lit, input_file_name, monotonically_increasing_id, substring_index\n",
    "var_adls_uri = adls_conn.adls_gen1_connect(spark, dbutils, scope=\"adls_gen2\", dynamic_overwrite=\"dynamic\")"
   ]
  },
  {
   "cell_type": "code",
   "execution_count": 0,
   "metadata": {
    "application/vnd.databricks.v1+cell": {
     "cellMetadata": {
      "byteLimit": 2048000,
      "rowLimit": 10000
     },
     "inputWidgets": {},
     "nuid": "b775644d-cad1-4da7-8486-18dfcf98cf82",
     "showTitle": false,
     "title": ""
    }
   },
   "outputs": [],
   "source": [
    "import crawler.functions as cf\n",
    "import json\n",
    "import re\n",
    "from unicodedata import normalize"
   ]
  },
  {
   "cell_type": "code",
   "execution_count": 0,
   "metadata": {
    "application/vnd.databricks.v1+cell": {
     "cellMetadata": {
      "byteLimit": 2048000,
      "rowLimit": 10000
     },
     "inputWidgets": {},
     "nuid": "0d8aa547-b339-4544-bd0b-e7d9c8b5237f",
     "showTitle": false,
     "title": ""
    }
   },
   "outputs": [],
   "source": [
    "try:\n",
    "  var_file = json.loads(re.sub(\"\\'\", '\\\"', dbutils.widgets.get(\"file\")))\n",
    "  var_dls = json.loads(re.sub(\"\\'\", '\\\"', dbutils.widgets.get(\"dls\")))\n",
    "  var_adf = json.loads(re.sub(\"\\'\", '\\\"', dbutils.widgets.get(\"adf\")))\n",
    "except: \n",
    "  var_adf = {\"adf_factory_name\":\"cnibigdatafactory\",\"adf_pipeline_name\":\"org_raw_tse_resultados_2022\",\"adf_pipeline_run_id\":\"181ed1d1-3bce-471e-b9fb-f2062f021296\",\"adf_trigger_id\":\"9a3958e25cd44c95bb1be066e9ee53d2\",\"adf_trigger_name\":\"Sandbox\",\"adf_trigger_time\":\"2023-08-18T21:16:02.5764238Z\",\"adf_trigger_type\":\"Manual\"}\n",
    "  \n",
    "  var_dls = {\"folders\":{\"landing\":\"/tmp/dev/uld\",\"error\":\"/tmp/dev/err\",\"staging\":\"/tmp/dev/stg\",\"log\":\"/tmp/dev/log\",\"raw\":\"/tmp/dev/raw\",\"archive\":\"/tmp/dev/ach\"},\"systems\":{\"raw\":\"usr\"},\"path_prefix\":\"/tmp/dev/\"}\n",
    "  \n",
    "  var_file = { 'namespace': '/oni', 'file_folder': '/bases_do_projeto/mulheres_industria', 'file_folder_raw':'/oni/bases_do_projeto/mulheres_industria', 'extension': 'csv', 'column_delimiter': ';', 'encoding': 'UTF-8', 'null_value': '' }"
   ]
  },
  {
   "cell_type": "code",
   "execution_count": 0,
   "metadata": {
    "application/vnd.databricks.v1+cell": {
     "cellMetadata": {
      "byteLimit": 2048000,
      "rowLimit": 10000
     },
     "inputWidgets": {},
     "nuid": "670bb95a-7593-4b7d-a317-1684eb4cf5b9",
     "showTitle": false,
     "title": ""
    }
   },
   "outputs": [],
   "source": [
    "uld_path = f\"{var_dls['folders']['landing']}{var_file['namespace']}{var_file['file_folder']}\"\n",
    "raw_path = f\"{var_dls['folders']['raw']}/{var_dls['systems']['raw']}{var_file['file_folder_raw']}\""
   ]
  },
  {
   "cell_type": "code",
   "execution_count": 0,
   "metadata": {
    "application/vnd.databricks.v1+cell": {
     "cellMetadata": {
      "byteLimit": 2048000,
      "rowLimit": 10000
     },
     "inputWidgets": {},
     "nuid": "42e91027-8926-478b-9d6a-f3f7c53a018e",
     "showTitle": false,
     "title": ""
    }
   },
   "outputs": [],
   "source": [
    "path_lnd = f\"{var_adls_uri}{uld_path}\"\n",
    "path_raw = f\"{var_adls_uri}{raw_path}\""
   ]
  },
  {
   "cell_type": "code",
   "execution_count": 0,
   "metadata": {
    "application/vnd.databricks.v1+cell": {
     "cellMetadata": {
      "byteLimit": 2048000,
      "rowLimit": 10000
     },
     "inputWidgets": {},
     "nuid": "738e40e1-550d-474b-ae6a-0e06f7e07524",
     "showTitle": false,
     "title": ""
    }
   },
   "outputs": [],
   "source": [
    "import crawler.functions as cf\n",
    " \n",
    "if not cf.directory_exists(dbutils, uld_path):\n",
    "  dbutils.notebook.exit('Path \"%s\" not exist or is empty' % uld_path)"
   ]
  },
  {
   "cell_type": "code",
   "execution_count": 0,
   "metadata": {
    "application/vnd.databricks.v1+cell": {
     "cellMetadata": {
      "byteLimit": 2048000,
      "rowLimit": 10000
     },
     "inputWidgets": {},
     "nuid": "e2c75143-8ec4-4fe1-8bb1-f7c28c0e1961",
     "showTitle": false,
     "title": ""
    }
   },
   "outputs": [],
   "source": [
    "df = spark.read.format(\"csv\").option(\"header\",\"true\").option(\"encoding\", \"UTF-8\").option('sep', ',').load(path_lnd, mode=\"FAILFAST\", ignoreLeadingWhiteSpace=True, ignoreTrailingWhiteSpace=True,inferSchema=True)"
   ]
  },
  {
   "cell_type": "code",
   "execution_count": 0,
   "metadata": {
    "application/vnd.databricks.v1+cell": {
     "cellMetadata": {
      "byteLimit": 2048000,
      "rowLimit": 10000
     },
     "inputWidgets": {},
     "nuid": "f9605534-8d08-48cc-a8fc-043d7cba06db",
     "showTitle": false,
     "title": ""
    }
   },
   "outputs": [],
   "source": [
    "dh_insertion_raw = var_adf[\"adf_trigger_time\"].split(\".\")[0]\n",
    "df = cf.append_control_columns(df, dh_insercao_raw=dh_insertion_raw)"
   ]
  },
  {
   "cell_type": "code",
   "execution_count": 0,
   "metadata": {
    "application/vnd.databricks.v1+cell": {
     "cellMetadata": {
      "byteLimit": 2048000,
      "rowLimit": 10000
     },
     "inputWidgets": {},
     "nuid": "36c3ac8e-9c86-42ed-b896-a0d7a6068e99",
     "showTitle": false,
     "title": ""
    }
   },
   "outputs": [],
   "source": [
    "df.write.format('parquet').save(path_raw, header = True, mode='overwrite')"
   ]
  }
 ],
 "metadata": {
  "application/vnd.databricks.v1+notebook": {
   "dashboards": [],
   "language": "python",
   "notebookMetadata": {
    "pythonIndentUnit": 2
   },
   "notebookName": "org_raw_mulheres_mercado_trabalho",
   "widgets": {}
  }
 },
 "nbformat": 4,
 "nbformat_minor": 0
}
