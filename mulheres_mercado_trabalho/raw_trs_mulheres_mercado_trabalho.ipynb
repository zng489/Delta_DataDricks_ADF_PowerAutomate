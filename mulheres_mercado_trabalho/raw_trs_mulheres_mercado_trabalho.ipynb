{
 "cells": [
  {
   "cell_type": "code",
   "execution_count": 0,
   "metadata": {
    "application/vnd.databricks.v1+cell": {
     "cellMetadata": {
      "byteLimit": 2048000,
      "rowLimit": 10000
     },
     "inputWidgets": {},
     "nuid": "edb8332d-3cee-4caf-a798-7ea935f4482d",
     "showTitle": false,
     "title": ""
    }
   },
   "outputs": [
    {
     "output_type": "stream",
     "name": "stdout",
     "output_type": "stream",
     "text": [
      "fornecedor_dev\ndev-execution\n"
     ]
    }
   ],
   "source": [
    "import datetime\n",
    "from cni_connectors import adls_gen1_connector as adls_conn\n",
    "var_adls_uri = adls_conn.adls_gen1_connect(spark, dbutils, scope=\"adls_gen2\", dynamic_overwrite=\"dynamic\")"
   ]
  },
  {
   "cell_type": "code",
   "execution_count": 0,
   "metadata": {
    "application/vnd.databricks.v1+cell": {
     "cellMetadata": {
      "byteLimit": 2048000,
      "rowLimit": 10000
     },
     "inputWidgets": {},
     "nuid": "a2daa578-0c9c-4b69-a15b-867da9c11fc8",
     "showTitle": false,
     "title": ""
    }
   },
   "outputs": [],
   "source": [
    "import crawler.functions as cf\n",
    "from trs_control_field import trs_control_field as tcf\n",
    "import json\n",
    "import pyspark.sql.functions as f\n",
    "from pyspark.sql.types import *\n",
    "import re"
   ]
  },
  {
   "cell_type": "code",
   "execution_count": 0,
   "metadata": {
    "application/vnd.databricks.v1+cell": {
     "cellMetadata": {
      "byteLimit": 2048000,
      "rowLimit": 10000
     },
     "inputWidgets": {},
     "nuid": "9a29b562-81d6-455d-a417-85a73cecfe8a",
     "showTitle": false,
     "title": ""
    }
   },
   "outputs": [],
   "source": [
    "try:\n",
    "  table = json.loads(re.sub(\"\\'\", '\\\"', dbutils.widgets.get(\"tables\")))\n",
    "  dls = json.loads(re.sub(\"\\'\", '\\\"', dbutils.widgets.get(\"dls\")))\n",
    "  adf = json.loads(re.sub(\"\\'\", '\\\"', dbutils.widgets.get(\"adf\")))\n",
    "except:\n",
    "  table = {\"schema\":\"oni/bases_do_projeto\",\"table\":\"mulheres_industria\"}\n",
    "\n",
    "  adf = {\"adf_factory_name\":\"cnibigdatafactory\",\"adf_pipeline_name\":\"raw_trs_pnadc_a_visita5_f\",\"adf_pipeline_run_id\":\"04a40e47-07bd-4415-a3a9-2b77158f490b\",\"adf_trigger_id\":\"7adb91d09feb444d9c383c002feea0d0\",\"adf_trigger_name\":\"Sandbox\",\"adf_trigger_time\":\"2023-06-28T13:41:09.760834Z\",\"adf_trigger_type\":\"Manual\"}\n",
    "  \n",
    "  dls = {\"folders\":{\"landing\":\"/tmp/dev/lnd\",\"error\":\"/tmp/dev/err\",\"archive\":\"/tmp/dev/ach\",\"staging\":\"/tmp/dev/stg\",\"log\":\"/tmp/dev/log\",\"raw\":\"/tmp/dev/raw\",\"trusted\":\"/tmp/dev/trs\",\"business\":\"/tmp/dev/biz\",\"prm\":\"/tmp/dev/prm\",\"historico\":\"/tmp/dev/hst\"},\"path_prefix\":\"tmp\",\"uld\":{\"folders\":{\"landing\":\"/tmp/dev/uld\",\"error\":\"/tmp/dev/err\",\"staging\":\"/tmp/dev/stg\",\"log\":\"/tmp/dev/log\",\"raw\":\"/tmp/dev/raw\",\"archive\":\"/tmp/dev/ach\"},\"systems\":{\"raw\":\"usr\"},\"path_prefix\":\"/tmp/dev/\"},\"systems\":{\"raw\":\"usr\"}}"
   ]
  },
  {
   "cell_type": "code",
   "execution_count": 0,
   "metadata": {
    "application/vnd.databricks.v1+cell": {
     "cellMetadata": {
      "byteLimit": 2048000,
      "rowLimit": 10000
     },
     "inputWidgets": {},
     "nuid": "a6220cd5-085b-4af9-87af-52bbc4098285",
     "showTitle": false,
     "title": ""
    }
   },
   "outputs": [
    {
     "output_type": "stream",
     "name": "stdout",
     "output_type": "stream",
     "text": [
      "[REDACTED]/tmp/dev/raw/usr/oni/bases_do_projeto/mulheres_industria\n"
     ]
    }
   ],
   "source": [
    "path_raw = f\"{var_adls_uri}{dls['folders']['raw']}/{dls['systems']['raw']}/{table['schema']}/{table['table']}\""
   ]
  },
  {
   "cell_type": "code",
   "execution_count": 0,
   "metadata": {
    "application/vnd.databricks.v1+cell": {
     "cellMetadata": {
      "byteLimit": 2048000,
      "rowLimit": 10000
     },
     "inputWidgets": {},
     "nuid": "aaff04ee-3343-4f36-9a26-6c99452818b0",
     "showTitle": false,
     "title": ""
    }
   },
   "outputs": [
    {
     "output_type": "stream",
     "name": "stdout",
     "output_type": "stream",
     "text": [
      "[REDACTED]/tmp/dev/trs/oni/bases_do_projeto/mulheres_industria\n"
     ]
    }
   ],
   "source": [
    "path_trs = f\"{var_adls_uri}{dls['folders']['trusted']}/{table['schema']}/{table['table']}\""
   ]
  },
  {
   "cell_type": "code",
   "execution_count": 0,
   "metadata": {
    "application/vnd.databricks.v1+cell": {
     "cellMetadata": {
      "byteLimit": 2048000,
      "rowLimit": 10000
     },
     "inputWidgets": {},
     "nuid": "a8822ed1-0634-4055-a321-69cf389a6abb",
     "showTitle": false,
     "title": ""
    }
   },
   "outputs": [],
   "source": [
    "df = spark.read.format(\"parquet\").load(path_raw)\n",
    "df = tcf.add_control_fields(df, adf)"
   ]
  },
  {
   "cell_type": "code",
   "execution_count": 0,
   "metadata": {
    "application/vnd.databricks.v1+cell": {
     "cellMetadata": {
      "byteLimit": 2048000,
      "rowLimit": 10000
     },
     "inputWidgets": {},
     "nuid": "013ca4b0-2f24-436d-b16c-bd48593ab32f",
     "showTitle": false,
     "title": ""
    }
   },
   "outputs": [],
   "source": [
    "df.write.format('parquet').save(path_trs, header = True, mode='overwrite') "
   ]
  }
 ],
 "metadata": {
  "application/vnd.databricks.v1+notebook": {
   "dashboards": [],
   "language": "python",
   "notebookMetadata": {
    "pythonIndentUnit": 2
   },
   "notebookName": "raw_trs_mulheres_mercado_trabalho",
   "widgets": {}
  }
 },
 "nbformat": 4,
 "nbformat_minor": 0
}
