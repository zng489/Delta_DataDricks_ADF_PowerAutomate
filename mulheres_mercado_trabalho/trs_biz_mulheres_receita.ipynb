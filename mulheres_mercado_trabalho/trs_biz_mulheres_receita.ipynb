{
 "cells": [
  {
   "cell_type": "code",
   "execution_count": 0,
   "metadata": {
    "application/vnd.databricks.v1+cell": {
     "cellMetadata": {},
     "inputWidgets": {},
     "nuid": "dfd513f5-6e64-4387-ae33-453abd440c07",
     "showTitle": false,
     "title": ""
    }
   },
   "outputs": [],
   "source": [
    "from cni_connectors import adls_gen1_connector as adls_conn\n",
    "var_adls_uri = adls_conn.adls_gen1_connect(spark, dbutils, scope=\"adls_gen2\", dynamic_overwrite=\"dynamic\")"
   ]
  },
  {
   "cell_type": "code",
   "execution_count": 0,
   "metadata": {
    "application/vnd.databricks.v1+cell": {
     "cellMetadata": {},
     "inputWidgets": {},
     "nuid": "95d30140-0312-4f64-b434-cc44e6c85262",
     "showTitle": false,
     "title": ""
    }
   },
   "outputs": [],
   "source": [
    "import json\n",
    "import re\n",
    "import pyspark.sql.functions as f\n",
    "from pyspark.sql import DataFrame\n",
    "from pyspark.sql.window import Window\n",
    "import pyspark.sql.functions as f\n",
    "from trs_control_field import trs_control_field as tcf"
   ]
  },
  {
   "cell_type": "code",
   "execution_count": 0,
   "metadata": {
    "application/vnd.databricks.v1+cell": {
     "cellMetadata": {},
     "inputWidgets": {},
     "nuid": "21a1a866-d434-4d37-b462-5576514f08e6",
     "showTitle": false,
     "title": ""
    }
   },
   "outputs": [],
   "source": [
    "table = {\"copy_sqldw\":\"false\",\n",
    " \"socios_bruto\":\"rfb_cnpj/cadastro_socio_f\",\n",
    " \"nomes_bruto\":\"oni/bases_do_projeto/mulheres_industria\",\n",
    " \"estbl_bruto\":\"rfb_cnpj/cadastro_estbl_f\",\n",
    " \"df_uf\":\"oni/ibge/uf\",\n",
    " \"path_destination\":\"oni/mulheres_no_mercado_de_trabalho/rfb\",\n",
    " \"destination\":\"/mulheres_no_mercado_de_trabalho/rfb\",\n",
    " \"databricks\":{\"notebook\":\"/biz/oni/mulheres_no_mercado_de_trabalho/trs_biz_receita\"}}\n",
    "\n",
    "adf = {\"adf_factory_name\":\"cnibigdatafactory\",\"adf_pipeline_name\":\"trs_biz_rfb_cno\",\"adf_pipeline_run_id\":\"c158e9dd-98df-4f7b-a64d-d13c76669868\",\"adf_trigger_id\":\"67c514a7245449b984eb4aadd55bfbff\",\"adf_trigger_name\":\"Sandbox\",\"adf_trigger_time\":\"2023-08-22T21:22:42.5769844Z\",\"adf_trigger_type\":\"Manual\"}\n",
    " \n",
    "dls = {\"folders\":{\"landing\":\"/tmp/dev/lnd\",\"error\":\"/tmp/dev/err\",\"archive\":\"/tmp/dev/ach\",\"staging\":\"/tmp/dev/stg\",\"log\":\"/tmp/dev/log\",\"raw\":\"/tmp/dev/raw\",\"trusted\":\"/tmp/dev/trs\",\"business\":\"/tmp/dev/biz\",\"prm\":\"/tmp/dev/prm\",\"historico\":\"/tmp/dev/hst\"},\"path_prefix\":\"tmp\",\"uld\":{\"folders\":{\"landing\":\"/tmp/dev/uld\",\"error\":\"/tmp/dev/err\",\"staging\":\"/tmp/dev/stg\",\"log\":\"/tmp/dev/log\",\"raw\":\"/tmp/dev/raw\",\"archive\":\"/tmp/dev/ach\"},\"systems\":{\"raw\":\"usr\"},\"path_prefix\":\"/tmp/dev/\"},\"systems\":{\"raw\":\"usr\"}}\n",
    "\n",
    "#cadastro_estbl_f = \"{adl_path}{trs}/{file_folder}/\".format(adl_path=var_adls_uri, trs=dls[\"folders\"][\"trusted\"], file_folder=table[\"cadastro_estbl_f\"])\n",
    "#cadastro_estbl = spark.read.format(\"parquet\").option(\"header\",\"true\").option(\"encoding\", \"ISO-8859-1\").load(cadastro_estbl_f, mode=\"FAILFAST\")\n",
    "\n"
   ]
  },
  {
   "cell_type": "code",
   "execution_count": 0,
   "metadata": {
    "application/vnd.databricks.v1+cell": {
     "cellMetadata": {},
     "inputWidgets": {},
     "nuid": "ef698022-e772-4e83-9d54-d80c4fda5c75",
     "showTitle": false,
     "title": ""
    }
   },
   "outputs": [],
   "source": [
    "socios_bruto = \"{adl_path}{trusted}/{file_folder}/\".format(adl_path=var_adls_uri, trusted=dls[\"folders\"][\"trusted\"], file_folder=table[\"socios_bruto\"])\n",
    "nomes_bruto = \"{adl_path}{trusted}/{file_folder}/\".format(adl_path=var_adls_uri, trusted=dls[\"folders\"][\"trusted\"], file_folder=table[\"nomes_bruto\"])\n",
    "estbl_bruto = \"{adl_path}{trusted}/{file_folder}/\".format(adl_path=var_adls_uri, trusted=dls[\"folders\"][\"trusted\"], file_folder=table[\"estbl_bruto\"])\n",
    "df_uf = \"{adl_path}{trusted}/{file_folder}/\".format(adl_path=var_adls_uri, trusted=dls[\"folders\"][\"trusted\"], file_folder=table[\"df_uf\"])"
   ]
  },
  {
   "cell_type": "code",
   "execution_count": 0,
   "metadata": {
    "application/vnd.databricks.v1+cell": {
     "cellMetadata": {},
     "inputWidgets": {},
     "nuid": "3710b1a1-2119-421f-84b5-872e6b8643f7",
     "showTitle": false,
     "title": ""
    }
   },
   "outputs": [],
   "source": [
    "# Carrega dados do data lake\n",
    "socios_bruto = spark.read.parquet(socios_bruto)\n",
    "nomes_bruto = spark.read.parquet(nomes_bruto)\n",
    "estbl_bruto = spark.read.parquet(estbl_bruto)\n",
    "df_uf = spark.read.parquet(df_uf)"
   ]
  },
  {
   "cell_type": "code",
   "execution_count": 0,
   "metadata": {
    "application/vnd.databricks.v1+cell": {
     "cellMetadata": {},
     "inputWidgets": {},
     "nuid": "cafd6ddd-e192-498e-b2d5-f57171659514",
     "showTitle": false,
     "title": ""
    }
   },
   "outputs": [],
   "source": []
  },
  {
   "cell_type": "code",
   "execution_count": 0,
   "metadata": {
    "application/vnd.databricks.v1+cell": {
     "cellMetadata": {},
     "inputWidgets": {},
     "nuid": "f5453341-4604-4936-9316-7e06058ed5d9",
     "showTitle": false,
     "title": ""
    }
   },
   "outputs": [],
   "source": [
    "estbl_bruto.withColumn('CD_SIT_CADASTRAL', f.col('CD_SIT_CADASTRAL').cast('integer')).select('CD_SIT_CADASTRAL','DS_SIT_CADASTRAL').distinct().show()"
   ]
  },
  {
   "cell_type": "code",
   "execution_count": 0,
   "metadata": {
    "application/vnd.databricks.v1+cell": {
     "cellMetadata": {},
     "inputWidgets": {},
     "nuid": "d3fd434f-5739-4de3-9650-cab5978319c4",
     "showTitle": false,
     "title": ""
    }
   },
   "outputs": [],
   "source": [
    "nomes = nomes_bruto \\\n",
    "  .fillna(0, ['frequency_female', 'frequency_male']) \\\n",
    "  .withColumn('prop_mulher', f.col('frequency_female')/(f.col('frequency_female') + f.col('frequency_male')))\n",
    "\n",
    "estbl = estbl_bruto \\\n",
    "  .where(f.col('DS_MATRIZ_FILIAL') == 'Matriz') \\\n",
    "  .select('CD_CNPJ_BASICO', 'SG_UF', 'CD_SIT_CADASTRAL', 'CD_CNAE20_SUBCLASSE_PRINCIPAL') \\\n",
    "  .distinct() \\\n",
    "  .where(~((f.col('CD_CNPJ_BASICO').isin(['42938862'])) & (f.col('CD_CNAE20_SUBCLASSE_PRINCIPAL') != '0115600')))\n",
    "\n",
    "socios = socios_bruto \\\n",
    "  .withColumn('first_name', f.regexp_extract(f.col('NM_SOCIO_RAZAO_SOCIAL'), '^[A-Z]+', 0)) \\\n",
    "  .join(nomes, on = 'first_name', how = 'left') \\\n",
    "  .join(estbl, on = 'CD_CNPJ_BASICO', how = 'left')\n",
    "\n",
    "media_mulheres = socios.select(f.mean(socios.prop_mulher)).collect()[0][0]\n",
    "\n",
    "socios = (socios \\\n",
    "  .fillna(media_mulheres, 'prop_mulher') \\\n",
    "  .withColumn('prop_homem', 1 - f.col('prop_mulher')) \\\n",
    "  .withColumn('CNAE', f.regexp_extract(f.col('CD_CNAE20_SUBCLASSE_PRINCIPAL'), '^.{2}', 0)) \\\n",
    "  .withColumn('ANO', f.year('DT_ENTRADA_SOCIEDADE')) \\\n",
    "  .withColumn('CD_SIT_CADASTRAL',f.col('CD_SIT_CADASTRAL').cast('integer'))\n",
    "  .withColumn('cd_sit_cadastral', f.when(f.col('CD_SIT_CADASTRAL')==f.lit(2), f.lit(1)).otherwise(f.when(f.col('CD_SIT_CADASTRAL').isin([1,4,3,8]),f.lit(2)).otherwise(f.lit(3)))) \\\n",
    "  .withColumn('ds_sit_cadastral', f.when(f.col('CD_SIT_CADASTRAL')==f.lit(2), f.lit(\"Ativa\")).otherwise(f.when(f.col('CD_SIT_CADASTRAL').isin([1,4,3,8]),f.lit(\"Inativa\")).otherwise(f.lit(\"Não informado\"))))\n",
    "  .withColumn('ds_faixa_etaria_socio', f.when(f.col('CD_FAIXA_ETARIA_SOCIO').isin([1,2]), f.lit('Até 20 anos')).otherwise(\n",
    "    f.when(f.col('CD_FAIXA_ETARIA_SOCIO')==f.lit(3), f.lit('21 a 30 anos')).otherwise(\n",
    "      f.when(f.col('CD_FAIXA_ETARIA_SOCIO')==f.lit(4), f.lit('31 a 40 anos')).otherwise(\n",
    "        f.when(f.col('CD_FAIXA_ETARIA_SOCIO')==f.lit(5), f.lit('41 a 50 anos')).otherwise(\n",
    "          f.when(f.col('CD_FAIXA_ETARIA_SOCIO')==f.lit(6), f.lit('51 a 60 anos')).otherwise(\n",
    "            f.when(f.col('CD_FAIXA_ETARIA_SOCIO')==f.lit(7), f.lit('61 a 70 anos')).otherwise(\n",
    "              f.when(f.col('CD_FAIXA_ETARIA_SOCIO')==f.lit(8), f.lit('71 a 80 anos')).otherwise(\n",
    "                f.when(f.col('CD_FAIXA_ETARIA_SOCIO')==f.lit(9), f.lit('Maiores de 80 anos')).otherwise(\n",
    "                  f.lit('Não informado'))))))))))\\\n",
    "  .groupby('SG_UF', 'cd_sit_cadastral','ds_sit_cadastral' ,'CNAE', 'CD_FAIXA_ETARIA_SOCIO','ds_faixa_etaria_socio','ANO' ) \\\n",
    "  .agg(f.sum('prop_homem').alias('Masculino'), f.sum('prop_mulher').alias('Feminino')) \\\n",
    "  .unpivot(['SG_UF', 'cd_sit_cadastral','ds_sit_cadastral' ,'CNAE', 'CD_FAIXA_ETARIA_SOCIO','ds_faixa_etaria_socio','ANO'], [\"Masculino\", \"Feminino\"], \"SEXO\", \"VALOR\"))"
   ]
  },
  {
   "cell_type": "code",
   "execution_count": 0,
   "metadata": {
    "application/vnd.databricks.v1+cell": {
     "cellMetadata": {},
     "inputWidgets": {},
     "nuid": "c640106c-419f-41b2-a093-3be3a389ea7b",
     "showTitle": false,
     "title": ""
    }
   },
   "outputs": [],
   "source": [
    "socios=socios.toDF(*[c.lower() for c in socios.columns]).withColumnRenamed('cnae','cd_cnae').withColumnRenamed('valor','vl_socias').withColumnRenamed('sexo','ds_sexo').join(df_uf,'sg_uf','left').drop('sg_uf','ds_uf','dh_insertion_trs').withColumn('cd_sexo', f.when(f.col('ds_sexo')==f.lit('Feminino'), f.lit(2)).otherwise(f.when(f.col('ds_sexo')==f.lit('Masculino'), f.lit(1)))).select('ano','cd_uf','cd_cnae','cd_sit_cadastral','ds_sit_cadastral','cd_faixa_etaria_socio','ds_faixa_etaria_socio','cd_sexo','ds_sexo','vl_socias')"
   ]
  },
  {
   "cell_type": "code",
   "execution_count": 0,
   "metadata": {
    "application/vnd.databricks.v1+cell": {
     "cellMetadata": {},
     "inputWidgets": {},
     "nuid": "8d376fc4-d8e5-4712-bad6-bdef2f97c6bb",
     "showTitle": false,
     "title": ""
    }
   },
   "outputs": [],
   "source": [
    "df = tcf.add_control_fields(socios, adf, layer=\"biz\")\n",
    "\n",
    "var_sink = \"{adl_path}{biz}/{path_destination}/\".format(adl_path=var_adls_uri, biz=dls['folders']['business'], path_destination=table[\"path_destination\"])"
   ]
  },
  {
   "cell_type": "code",
   "execution_count": 0,
   "metadata": {
    "application/vnd.databricks.v1+cell": {
     "cellMetadata": {},
     "inputWidgets": {},
     "nuid": "3204822d-ed42-43c2-945a-01503c534072",
     "showTitle": false,
     "title": ""
    }
   },
   "outputs": [],
   "source": [
    "df.write.format('parquet').save(var_sink, header = True, mode='overwrite')"
   ]
  }
 ],
 "metadata": {
  "application/vnd.databricks.v1+notebook": {
   "dashboards": [],
   "language": "python",
   "notebookMetadata": {
    "pythonIndentUnit": 2
   },
   "notebookName": "trs_biz_mulheres_receita",
   "widgets": {}
  }
 },
 "nbformat": 4,
 "nbformat_minor": 0
}
