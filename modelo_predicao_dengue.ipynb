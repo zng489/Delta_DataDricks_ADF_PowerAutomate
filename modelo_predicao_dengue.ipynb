{
 "cells": [
  {
   "cell_type": "markdown",
   "metadata": {},
   "source": [
    "# Modelo de predição de mortes por dengue em pessoas internadas no Brasil"
   ]
  },
  {
   "cell_type": "markdown",
   "metadata": {},
   "source": [
    "## Agenda\n",
    "\n",
    "### Dia 01 - Treinamendo do modelo\n",
    "- 01. Importação de dados com o PySUS\n",
    "- 02. Tratamento dos dados\n",
    "- 03. Análise de correlação e associação das variáveis\n",
    "- 04. Treinamento do modelo\n",
    "\n",
    "### Dia 2 - Alternativas para aprimorar o modelo\n",
    "- 05. Alterando o threshold do modleo\n",
    "- 06. Trabalhando com o desbalanceamento da base"
   ]
  },
  {
   "cell_type": "markdown",
   "metadata": {},
   "source": [
    "## 00 - Importando as bibliotecas que serão usadas na análise"
   ]
  },
  {
   "cell_type": "code",
   "execution_count": null,
   "metadata": {},
   "outputs": [],
   "source": [
    "#IMPORTANDO PACOTES\n",
    "import matplotlib.pyplot as plt\n",
    "import matplotlib.ticker as ticker\n",
    "import numpy as np\n",
    "import pandas as pd  \n",
    "import pylab as pl\n",
    "import chart_studio.plotly as py\n",
    "import plotly.graph_objs as gp \n",
    "import rpy2.robjects as robjects\n",
    "import seaborn as sns\n",
    "import statsmodels.formula.api as smf\n",
    "\n",
    "from ftplib import FTP\n",
    "from pysus.online_data.SIH import download\n",
    "from scipy.stats import chi2, chi2_contingency, iqr, pearsonr\n",
    "from sklearn.preprocessing import StandardScaler\n",
    "from sklearn.metrics import roc_curve, auc, precision_recall_fscore_support, classification_report\n",
    "from sklearn.model_selection import train_test_split"
   ]
  },
  {
   "cell_type": "markdown",
   "metadata": {},
   "source": [
    "## 01 - Importando os dados"
   ]
  },
  {
   "cell_type": "code",
   "execution_count": null,
   "metadata": {},
   "outputs": [],
   "source": [
    "#DEFININDO VARIÁVEIS QUE SERÃO UTILIZADAS NO DOWNLOAD DO PYSUS\n",
    "vars =[\"N_AIH\",\"IDADE\",\"SEXO\",\"UF_ZI\",\"NUM_FILHOS\",\"INSTRU\",\"MORTE\",\"CID_MORTE\",\"DIAS_PERM\",\"DIAG_PRINC\",\"DIAG_SECUN\",\"DT_INTER\",\"ANO_CMPT\",\"MES_CMPT\",\"MARCA_UTI\",\"UTI_MES_TO\",\"INFEHOSP\"]\n",
    "ufs = ['ac', 'al', 'ap', 'am','ba', 'ce', 'df', 'es', 'go', 'ma', 'mt', 'ms', 'mg', 'pa', 'pb', 'pr', 'pe', 'pi', 'rj', 'rn', 'rs', 'ro', 'rr', 'sc', 'sp', 'se', 'to']\n",
    "anos = [2019, 2020, 2021] \n",
    "meses = [1, 2, 3, 4, 5, 6, 7, 8, 9, 10, 11, 12]\n",
    "cids = [\"A90\", \"A900\"]"
   ]
  },
  {
   "cell_type": "code",
   "execution_count": null,
   "metadata": {},
   "outputs": [],
   "source": [
    "#IMPORTANDO DADOS\n",
    "for mes in meses: \n",
    "    for uf in ufs:\n",
    "        for ano in anos:   \n",
    "            df = download(uf, ano, mes)\n",
    "            df = df.filter(vars)\n",
    "            df = df[df['DIAG_PRINC'].isin(cids)]\n",
    "            df.to_csv(\"sih_dengue1.csv\", mode='a', index=False, header=False)\n",
    "            print(f\"O arquivo do mês {mes} de {ano} do estado {uf.upper()} foi filtrado\")"
   ]
  },
  {
   "cell_type": "code",
   "execution_count": null,
   "metadata": {},
   "outputs": [],
   "source": [
    "#IMPORTANDO OS DADOS DO CSV SALVO\n",
    "colunas =  [\"N_AIH\",\"IDADE\",\"SEXO\",\"UF_ZI\",\"NUM_FILHOS\",\"INSTRU\",\"MORTE\",\"CID_MORTE\",\"DIAS_PERM\",\"DIAG_PRINC\",\"DIAG_SECUN\",\"DT_INTER\",\"ANO_CMPT\",\"MES_CMPT\",\"MARCA_UTI\",\"UTI_MES_TO\",\"INFEHOSP\"]\n",
    "\n",
    "sih_dengue = pd.read_csv(\"sih_dengue.csv\")\n",
    "sih_dengue.set_axis(colunas, axis= 1, inplace= True)"
   ]
  },
  {
   "cell_type": "markdown",
   "metadata": {},
   "source": [
    "## 02 - Tratamento dos dados"
   ]
  },
  {
   "cell_type": "code",
   "execution_count": null,
   "metadata": {},
   "outputs": [],
   "source": [
    "#VISUALIZANDO OS DADOS\n",
    "sih_dengue.head(20)"
   ]
  },
  {
   "cell_type": "markdown",
   "metadata": {},
   "source": [
    "### 02.1 - Variáveis que não serão usadas no modelo"
   ]
  },
  {
   "cell_type": "code",
   "execution_count": null,
   "metadata": {},
   "outputs": [],
   "source": [
    "#EXCLUINDO VARIÁVEIS QUE NÃO SERÃO USADAS NO MODELO\n",
    "sih_dengue.drop([\"MES_CMPT\", \"ANO_CMPT\", \"DT_INTER\", \"DIAG_PRINC\"], axis = 1, inplace = True)"
   ]
  },
  {
   "cell_type": "markdown",
   "metadata": {},
   "source": [
    "### 02.2 - Missing values"
   ]
  },
  {
   "cell_type": "code",
   "execution_count": null,
   "metadata": {},
   "outputs": [],
   "source": [
    "#VISUALIZANDO OS TIPOS DE DADOS - IDENTIFICANDO MISSING VALUES\n",
    "sih_dengue.info()"
   ]
  },
  {
   "cell_type": "code",
   "execution_count": null,
   "metadata": {},
   "outputs": [],
   "source": [
    "#IDENTIFICANDO VARIÁVEIS QUE NÃO SERÃO USADAS POR NÃO POSSUÍREM NENHUM VALOR (MISSING VALUES)\n",
    "sih_dengue[\"NUM_FILHOS\"].unique(), sih_dengue[\"INSTRU\"].unique(), sih_dengue[\"CID_MORTE\"].unique(), sih_dengue[\"DIAG_SECUN\"].unique(), sih_dengue[\"INFEHOSP\"].unique()"
   ]
  },
  {
   "cell_type": "code",
   "execution_count": null,
   "metadata": {},
   "outputs": [],
   "source": [
    "#EXCLUINDO VARIÁVEIS QUE SÃO FORMADAS APENAS DE MISSING VALUES\n",
    "sih_dengue.drop([\"NUM_FILHOS\", \"INSTRU\", \"CID_MORTE\", \"INFEHOSP\", \"DIAG_SECUN\"], axis = 1, inplace = True)"
   ]
  },
  {
   "cell_type": "markdown",
   "metadata": {},
   "source": [
    "### 02.3 - Transformando as variáveis"
   ]
  },
  {
   "cell_type": "code",
   "execution_count": null,
   "metadata": {},
   "outputs": [],
   "source": [
    "#TRANSFORMANDO VARIÁVEIS\n",
    "##número da AIH - transformando em string e atribuindo como index\n",
    "sih_dengue[\"N_AIH\"] = sih_dengue[\"N_AIH\"].astype(str)\n",
    "sih_dengue.set_index(['N_AIH'], inplace= True)\n",
    "\n",
    "##sexo\n",
    "sexo = {1:\"Masculino\", 3:\"Feminino\"}\n",
    "sih_dengue[\"SEXO\"] = sih_dengue[\"SEXO\"].replace(sexo)\n",
    "\n",
    "##região\n",
    "regiao = {\"1\":\"Norte\", \"2\":\"Nordeste\", \"3\":\"Sudeste\", \"4\":\"Sul\", \"5\":\"Centro-Oeste\"}\n",
    "sih_dengue[\"UF_ZI\"] = sih_dengue[\"UF_ZI\"].astype(str)\n",
    "sih_dengue[\"REGIAO\"] = sih_dengue[\"UF_ZI\"].str.slice(0,1)\n",
    "sih_dengue[\"REGIAO\"] = sih_dengue[\"REGIAO\"].replace(regiao)\n",
    "sih_dengue.drop([\"UF_ZI\"], axis = 1, inplace = True)"
   ]
  },
  {
   "cell_type": "code",
   "execution_count": null,
   "metadata": {},
   "outputs": [],
   "source": [
    "#VISUALIZANDO VARIÁVEIS APÓS O TRANSFORMAÇÃO \n",
    "sih_dengue.info()"
   ]
  },
  {
   "cell_type": "code",
   "execution_count": null,
   "metadata": {},
   "outputs": [],
   "source": [
    "#QUAANTIFICANDO VALORES DAS VARIÁVEIS SEXO E MARCA UTI\n",
    "sih_dengue[\"SEXO\"].value_counts(), sih_dengue[\"REGIAO\"].value_counts(), sih_dengue[\"MARCA_UTI\"].value_counts()"
   ]
  },
  {
   "cell_type": "code",
   "execution_count": null,
   "metadata": {},
   "outputs": [],
   "source": [
    "#TRANSFORMANDO VARIÁVEIS EM DUMMIES\n",
    "##sexo\n",
    "sexo = {\"Masculino\":0, \"Feminino\":1}\n",
    "sih_dengue[\"SEXO\"] = sih_dengue[\"SEXO\"].replace(sexo)\n",
    "\n",
    "##região de moradia\n",
    "sih_dengue[\"REGIAO\"] = np.where(sih_dengue[\"REGIAO\"] == \"Sudeste\", 1, 0)\n",
    "\n",
    "##estadia em UTI\n",
    "sih_dengue[\"MARCA_UTI\"] = np.where(sih_dengue[\"MARCA_UTI\"] == 0, 0, 1)"
   ]
  },
  {
   "cell_type": "code",
   "execution_count": null,
   "metadata": {},
   "outputs": [],
   "source": [
    "#VISUALIZANDO VARIÁVEIS APÓS A TRANSFORMAÇÃO\n",
    "sih_dengue.info()"
   ]
  },
  {
   "cell_type": "markdown",
   "metadata": {},
   "source": [
    "### 02.3 - Removendo outliers"
   ]
  },
  {
   "cell_type": "code",
   "execution_count": null,
   "metadata": {},
   "outputs": [],
   "source": [
    "#SELECIONANDO VARIÁVEIS QUE PODEM APRESENTAR OUTLIERS\n",
    "sih_box = sih_dengue[['IDADE', 'DIAS_PERM', 'UTI_MES_TO']]"
   ]
  },
  {
   "cell_type": "code",
   "execution_count": null,
   "metadata": {},
   "outputs": [],
   "source": [
    "#TRANSFORMANDO DADOS PARA A MESMA ESCALA\n",
    "scale = StandardScaler()\n",
    "\n",
    "sih_box2 = pd.DataFrame(scale.fit_transform(sih_box))\n",
    "sih_box2.set_axis(['IDADE', 'DIAS_PERM', 'UTI_MES_TO'], axis=1, inplace=True)\n",
    "sih_box2 = pd.DataFrame(sih_box2.stack()).reset_index()\n",
    "sih_box2.drop('level_0', axis = 1, inplace = True)\n",
    "sih_box2.rename(columns = {'level_1':'variables', 0:'standard_value'}, inplace = True)"
   ]
  },
  {
   "cell_type": "code",
   "execution_count": null,
   "metadata": {},
   "outputs": [],
   "source": [
    "#GERANDO BOXPLOTS\n",
    "sns.set(rc={'figure.figsize':(14, 10)})\n",
    "sns.set_theme(style=\"whitegrid\", palette=\"viridis\")\n",
    "\n",
    "box = sns.boxplot(y = \"variables\", x = \"standard_value\", data = sih_box2)\n",
    "box.set(xlabel =\"Valores padronizados\", ylabel = \"Variáveis\", title ='Boxplot dias de permanência e idade padronizados')"
   ]
  },
  {
   "cell_type": "code",
   "execution_count": null,
   "metadata": {},
   "outputs": [],
   "source": [
    "#SELECIONANDO DADOS COM DISTRIBUIÇÃO MAIOR QUE -1.96 E MENOR QUE 1.96\n",
    "sih_box = pd.DataFrame(sih_box.stack()).reset_index()\n",
    "sih_box.drop('N_AIH', axis = 1, inplace = True)\n",
    "sih_box.rename(columns = {'level_1':'variables_originals', 0:'value'}, inplace = True)\n",
    "\n",
    "sih_box = pd.concat([sih_box.reset_index(drop=True), sih_box2.reset_index(drop=True)], axis=1)\n",
    "sih_box = sih_box[(sih_box['standard_value'] >= -1.96) & (sih_box['standard_value'] <= 1.96)]"
   ]
  },
  {
   "cell_type": "code",
   "execution_count": null,
   "metadata": {},
   "outputs": [],
   "source": [
    "#SELECIONANDO VALORES MÍNIMOS E MÁXIMOS \n",
    "min_values = pd.DataFrame(sih_box.groupby('variables_originals')['value'].min())\n",
    "max_values = pd.DataFrame(sih_box.groupby('variables_originals')['value'].max())\n",
    "\n",
    "min_values, max_values"
   ]
  },
  {
   "cell_type": "code",
   "execution_count": null,
   "metadata": {},
   "outputs": [],
   "source": [
    "#GERANDO DATAFRAME COM REMOÇÃO DE OUTLIERS\n",
    "sih_dengue2 = sih_dengue[(sih_dengue['IDADE'] <= max_values.loc['IDADE', 'value']) \n",
    "                        & (sih_dengue['DIAS_PERM'] <= max_values.loc['DIAS_PERM', 'value'])]"
   ]
  },
  {
   "cell_type": "code",
   "execution_count": null,
   "metadata": {},
   "outputs": [],
   "source": [
    "#GERANDO BOXPLOT DE DIAS DE PERMANÊNCIA\n",
    "sns.set(rc={'figure.figsize':(14, 7)})\n",
    "sns.set_theme(style=\"whitegrid\", palette=\"viridis\")\n",
    "\n",
    "box1 = sns.boxplot(x = \"DIAS_PERM\", data = sih_dengue2)\n",
    "box1.set(xlabel =\"Valores\", ylabel = \"\", title ='Boxplot dias de permanência')"
   ]
  },
  {
   "cell_type": "code",
   "execution_count": null,
   "metadata": {},
   "outputs": [],
   "source": [
    "#GERANDO BOXPLOT DE IDADE\n",
    "sns.set(rc={'figure.figsize':(14, 7)})\n",
    "sns.set_theme(style=\"whitegrid\", palette=\"viridis\")\n",
    "\n",
    "box2 = sns.boxplot(x = \"IDADE\", data = sih_dengue2)\n",
    "box2.set(xlabel =\"Valores\", ylabel = \"\", title ='Boxplot idade')"
   ]
  },
  {
   "cell_type": "code",
   "execution_count": null,
   "metadata": {},
   "outputs": [],
   "source": [
    "#GERANDO BOXPLOT DE DIAS DE PERMANÊNCIA EM UTI\n",
    "sns.set(rc={'figure.figsize':(14, 7)})\n",
    "sns.set_theme(style=\"whitegrid\", palette=\"viridis\")\n",
    "\n",
    "box3 = sns.boxplot(x = \"UTI_MES_TO\", data = sih_dengue2)\n",
    "box3.set(xlabel =\"Valores\", ylabel = \"\", title ='Boxplot dias de permanência em UTI')"
   ]
  },
  {
   "cell_type": "markdown",
   "metadata": {},
   "source": [
    "## 03 - Análise de correlação e associação das variáveis"
   ]
  },
  {
   "cell_type": "markdown",
   "metadata": {},
   "source": [
    "### 03.1 - Correlação entre variáveis numéricas"
   ]
  },
  {
   "cell_type": "code",
   "execution_count": null,
   "metadata": {},
   "outputs": [],
   "source": [
    "#CALCULANDO CORRELAÇÃO DE PEARSON ENTRE IDADE E DIAS DE PERMANENCIA\n",
    "corr_idade_diasperm = pearsonr(sih_dengue2['IDADE'], sih_dengue2['DIAS_PERM'])\n",
    "corr_idade_diasperm"
   ]
  },
  {
   "cell_type": "code",
   "execution_count": null,
   "metadata": {},
   "outputs": [],
   "source": [
    "#CALCULANDO CORRELAÇÃO DE PEARSON ENTRE A PERMANENCIA EM UTI E A PERMANENCIA EM INTERNAÇÃO\n",
    "corr_diasuti_diasperm = pearsonr(sih_dengue2['UTI_MES_TO'], sih_dengue2['DIAS_PERM'])\n",
    "corr_diasuti_diasperm"
   ]
  },
  {
   "cell_type": "code",
   "execution_count": null,
   "metadata": {},
   "outputs": [],
   "source": [
    "#CALCULANDO CORRELAÇÃO DE PEARSON ENTRE IDADE E PERMANENCIA EM UTI\n",
    "corr_diasuti_idade = pearsonr(sih_dengue2['UTI_MES_TO'], sih_dengue2['IDADE'])\n",
    "corr_diasuti_idade"
   ]
  },
  {
   "cell_type": "markdown",
   "metadata": {},
   "source": [
    "### 03.2 - Associação entre variáveis categóricas"
   ]
  },
  {
   "cell_type": "code",
   "execution_count": null,
   "metadata": {},
   "outputs": [],
   "source": [
    "#ASSOCIAÇÃO ENTRE MORTE E SEXO\n",
    "sexo2 = pd.crosstab(sih_dengue2['SEXO'], sih_dengue2['MORTE'])\n",
    "\n",
    "stat, p, dof, expected = chi2_contingency(sexo2)\n",
    "\n",
    "prob = 0.95\n",
    "\n",
    "critical = chi2.ppf(prob, dof)\n",
    "\n",
    "if abs(stat) >= critical:\n",
    "\tprint('Rejeitar H0')\n",
    "else:\n",
    "\tprint('Não se pode rejeitar H0')\n",
    "\n",
    "alpha = 1.0 - prob\n",
    "\n",
    "print('significancia=%.3f, p=%.3f' % (alpha, p))\n",
    "\n",
    "if p <= alpha:\n",
    "\tprint('Rejeitar H0')\n",
    "else:\n",
    "\tprint('Não se pode rejeitar H0')"
   ]
  },
  {
   "cell_type": "code",
   "execution_count": null,
   "metadata": {},
   "outputs": [],
   "source": [
    "#ASSOCIAÇÃO ENTRE MORTE E REGIÃO\n",
    "regiao2 = pd.crosstab(sih_dengue2['MORTE'], sih_dengue2['REGIAO'])\n",
    "\n",
    "stat, p, dof, expected = chi2_contingency(regiao2)\n",
    "\n",
    "prob = 0.95\n",
    "\n",
    "critical = chi2.ppf(prob, dof)\n",
    "\n",
    "if abs(stat) >= critical:\n",
    "\tprint('Rejeitar H0')\n",
    "else:\n",
    "\tprint('Não se pode rejeitar H0')\n",
    "\n",
    "alpha = 1.0 - prob\n",
    "\n",
    "print('significancia=%.3f, p=%.3f' % (alpha, p))\n",
    "\n",
    "if p <= alpha:\n",
    "\tprint('Rejeitar H0')\n",
    "else:\n",
    "\tprint('Não se pode rejeitar H0')"
   ]
  },
  {
   "cell_type": "code",
   "execution_count": null,
   "metadata": {},
   "outputs": [],
   "source": [
    "#ASSOCIAÇÃO ENTRE MORTE E UTI\n",
    "uti2 = pd.crosstab(sih_dengue2['MORTE'], sih_dengue2['MARCA_UTI'])\n",
    "\n",
    "stat, p, dof, expected = chi2_contingency(uti2)\n",
    "\n",
    "prob = 0.95\n",
    "\n",
    "critical = chi2.ppf(prob, dof)\n",
    "\n",
    "if abs(stat) >= critical:\n",
    "\tprint('Rejeitar H0')\n",
    "else:\n",
    "\tprint('Não se pode rejeitar H0')\n",
    "\n",
    "alpha = 1.0 - prob\n",
    "\n",
    "print('significancia=%.3f, p=%.3f' % (alpha, p))\n",
    "\n",
    "if p <= alpha:\n",
    "\tprint('Rejeitar H0')\n",
    "else:\n",
    "\tprint('Não se pode rejeitar H0')"
   ]
  },
  {
   "cell_type": "markdown",
   "metadata": {},
   "source": [
    "## 04 - Treinamento do modelo"
   ]
  },
  {
   "cell_type": "markdown",
   "metadata": {},
   "source": [
    "### 04.1 - Separando dados em treino e teste"
   ]
  },
  {
   "cell_type": "code",
   "execution_count": null,
   "metadata": {},
   "outputs": [],
   "source": [
    "#SEPARANDO OS DADOS\n",
    "train, test = train_test_split(sih_dengue2, train_size=0.70, random_state=42)"
   ]
  },
  {
   "cell_type": "markdown",
   "metadata": {},
   "source": [
    "### 04.2 - Estimando o modelo com todas as variáveis selecionadas"
   ]
  },
  {
   "cell_type": "code",
   "execution_count": null,
   "metadata": {},
   "outputs": [],
   "source": [
    "#ESTIMANDO O MODELO\n",
    "log_reg = smf.logit(\"MORTE ~ IDADE + SEXO + DIAS_PERM + MARCA_UTI + UTI_MES_TO + REGIAO\", data = train).fit()\n",
    "print(log_reg.summary())"
   ]
  },
  {
   "cell_type": "markdown",
   "metadata": {},
   "source": [
    "### 04.3 - Estimando o modelo com todas as variáveis significativas"
   ]
  },
  {
   "cell_type": "code",
   "execution_count": null,
   "metadata": {},
   "outputs": [],
   "source": [
    "#ESTIMANDO O MODELO COM A EXCLUSÃO DA VARIÁVEL NÃO SIGNIFICATIVA\n",
    "log_reg = smf.logit(\"MORTE ~ IDADE + SEXO + DIAS_PERM + MARCA_UTI + UTI_MES_TO\", data = train).fit()\n",
    "print(log_reg.summary())"
   ]
  },
  {
   "cell_type": "markdown",
   "metadata": {},
   "source": [
    "### 04.4 - Gerando predições com os dados de teste"
   ]
  },
  {
   "cell_type": "code",
   "execution_count": null,
   "metadata": {},
   "outputs": [],
   "source": [
    "#ANALISANDO RESULTADOS DO MODELO\n",
    "test_featues = test.drop(\"MORTE\", axis= 1)\n",
    "\n",
    "ytest = test[\"MORTE\"]\n",
    "\n",
    "ypred = log_reg.predict(test_featues)"
   ]
  },
  {
   "cell_type": "markdown",
   "metadata": {},
   "source": [
    "### 04.5 - Analisando métricas do modelo"
   ]
  },
  {
   "cell_type": "code",
   "execution_count": null,
   "metadata": {},
   "outputs": [],
   "source": [
    "#TABELA DE CONTINGÊNCIA PARA OS RESULTADOS - COM THRESHOLD = 0.5\n",
    "ypred2 = np.where(ypred >= 0.5, 1, 0)\n",
    "\n",
    "pd.crosstab(ytest, ypred2, margins= True)"
   ]
  },
  {
   "cell_type": "code",
   "execution_count": null,
   "metadata": {},
   "outputs": [],
   "source": [
    "#CALCULANDO MÉTRICAS DO MODELO\n",
    "print(classification_report(ytest, ypred2))"
   ]
  },
  {
   "cell_type": "code",
   "execution_count": null,
   "metadata": {},
   "outputs": [],
   "source": [
    "#INCLUINDO DADOS DE RESULTADO DA PREDIÇÃO NO DATAFRAME DE TESTE\n",
    "test[\"PRED\"] = ypred"
   ]
  },
  {
   "cell_type": "markdown",
   "metadata": {},
   "source": [
    "## 05 - Alterando o threshold do modelo"
   ]
  },
  {
   "cell_type": "markdown",
   "metadata": {},
   "source": [
    "### 05.1 - Gerando curva ROC"
   ]
  },
  {
   "cell_type": "code",
   "execution_count": null,
   "metadata": {},
   "outputs": [],
   "source": [
    "#CALCULANDO MÉTRICAS PARA A CURVA ROC\n",
    "fpr, tpr, thresholds = roc_curve(test[\"MORTE\"], test[\"PRED\"])\n",
    "roc_auc = auc(fpr, tpr)\n",
    "\n",
    "print(\"Área abaixo da curva ROC: %f\" % roc_auc)"
   ]
  },
  {
   "cell_type": "code",
   "execution_count": null,
   "metadata": {},
   "outputs": [],
   "source": [
    "#PLOTANDO CURVA ROC\n",
    "i = np.arange(len(tpr)) \n",
    "roc = pd.DataFrame({'fpr' : pd.Series(fpr, index=i),'tpr' : pd.Series(tpr, index = i), '1-fpr' : pd.Series(1-fpr, index = i), 'tf' : pd.Series(tpr - (1-fpr), index = i), 'thresholds' : pd.Series(thresholds, index = i)})\n",
    "roc.iloc[(roc.tf-0).abs().argsort()[:1]]\n",
    "\n",
    "sns.set(rc={'figure.figsize':(20, 10)})\n",
    "sns.set_theme(style=\"whitegrid\", palette=\"viridis\")\n",
    "\n",
    "pl.plot(roc['tpr'])\n",
    "pl.plot(roc['1-fpr'])\n",
    "pl.xlabel('1-Taxa de Falso Positivo')\n",
    "pl.ylabel('Taxa de Verdadeiros positivos')"
   ]
  },
  {
   "cell_type": "markdown",
   "metadata": {},
   "source": [
    "### 05.2 - Gerando melhor threshold que maximize as classificações do modelo"
   ]
  },
  {
   "cell_type": "code",
   "execution_count": null,
   "metadata": {},
   "outputs": [],
   "source": [
    "#DEFININDO MELHOR CUTOFF PARA O MODELO\n",
    "def optimal_cutoff(target, predicted):\n",
    "\n",
    "    fpr, tpr, threshold = roc_curve(target, predicted)\n",
    "    i = np.arange(len(tpr)) \n",
    "    roc = pd.DataFrame({'tf' : pd.Series(tpr-(1-fpr), index=i), 'threshold' : pd.Series(threshold, index=i)})\n",
    "    roc_t = roc.iloc[(roc.tf-0).abs().argsort()[:1]]\n",
    "\n",
    "    return list(roc_t['threshold']) \n",
    "\n",
    "\n",
    "threshold = optimal_cutoff(test[\"MORTE\"], test[\"PRED\"])\n",
    "print(threshold)\n",
    "\n",
    "t = threshold[0]"
   ]
  },
  {
   "cell_type": "code",
   "execution_count": null,
   "metadata": {},
   "outputs": [],
   "source": [
    "#INCLUINDO RESULTADOS NO DATAFRAME\n",
    "test[\"PRED_CLASS\"] = np.where(test[\"PRED\"] >= t, 1, 0)"
   ]
  },
  {
   "cell_type": "markdown",
   "metadata": {},
   "source": [
    "### 05.3 - Analisando modelo com novo threshold"
   ]
  },
  {
   "cell_type": "code",
   "execution_count": null,
   "metadata": {},
   "outputs": [],
   "source": [
    "#MATRIZ DE CONFUSÃO\n",
    "pd.crosstab(test[\"MORTE\"], test[\"PRED_CLASS\"], margins=True)"
   ]
  },
  {
   "cell_type": "code",
   "execution_count": null,
   "metadata": {},
   "outputs": [],
   "source": [
    "#CALCULANDO MÉTRICAS DO MODELO\n",
    "print(classification_report(test[\"MORTE\"], test[\"PRED_CLASS\"]))"
   ]
  },
  {
   "cell_type": "markdown",
   "metadata": {},
   "source": [
    "## 06 - Trabalhando o desbalanceamento da base"
   ]
  },
  {
   "cell_type": "code",
   "execution_count": null,
   "metadata": {},
   "outputs": [],
   "source": [
    "#IMPORTANDO PACOTE\n",
    "from imblearn.over_sampling import SMOTE"
   ]
  },
  {
   "cell_type": "code",
   "execution_count": null,
   "metadata": {},
   "outputs": [],
   "source": [
    "#VISUALISANDO A QUANTIDADE DE VALORES NA TARGET\n",
    "sih_dengue2['MORTE'].value_counts()"
   ]
  },
  {
   "cell_type": "code",
   "execution_count": null,
   "metadata": {},
   "outputs": [],
   "source": [
    "#SEPARANDO OS DADOS\n",
    "X_train, y_train = train.drop(\"MORTE\", axis=1), train[\"MORTE\"]"
   ]
  },
  {
   "cell_type": "code",
   "execution_count": null,
   "metadata": {},
   "outputs": [],
   "source": [
    "#GERANDO UMA NOVA AMOSTRA BALANCEADA\n",
    "sm = SMOTE(random_state=42)\n",
    "X_res, y_res = sm.fit_resample(X_train, y_train)\n",
    "\n",
    "train_smote = pd.DataFrame(X_res)\n",
    "train_smote[\"MORTE\"] = y_res"
   ]
  },
  {
   "cell_type": "code",
   "execution_count": null,
   "metadata": {},
   "outputs": [],
   "source": [
    "#ESTIMANDO O MODELO COM A EXCLUSÃO DA VARIÁVEL NÃO SIGNIFICATIVA\n",
    "log_reg_smote = smf.logit(\"MORTE ~ IDADE + SEXO + DIAS_PERM + MARCA_UTI + UTI_MES_TO\", data = train_smote).fit()\n",
    "print(log_reg_smote.summary())"
   ]
  },
  {
   "cell_type": "code",
   "execution_count": null,
   "metadata": {},
   "outputs": [],
   "source": [
    "#ANALISANDO RESULTADOS DO MODELO\n",
    "test_featues = test.drop(\"MORTE\", axis= 1)\n",
    "ytest = test[\"MORTE\"]\n",
    "\n",
    "ypred_smote = log_reg_smote.predict(test_featues)\n"
   ]
  },
  {
   "cell_type": "code",
   "execution_count": null,
   "metadata": {},
   "outputs": [],
   "source": [
    "#TABELA DE CONTINGÊNCIA PARA OS RESULTADOS - COM THRESHOLD = 0.5\n",
    "ypred_smote2 = np.where(ypred_smote >= 0.5, 1, 0)\n",
    "\n",
    "pd.crosstab(ytest, ypred_smote2, margins= True)"
   ]
  },
  {
   "cell_type": "code",
   "execution_count": null,
   "metadata": {},
   "outputs": [],
   "source": [
    "#CALCULANDO MÉTRICAS DO MODELO\n",
    "print(classification_report(ytest, ypred_smote2))"
   ]
  }
 ],
 "metadata": {
  "kernelspec": {
   "display_name": "Python 3.9.7 ('base')",
   "language": "python",
   "name": "python3"
  },
  "language_info": {
   "codemirror_mode": {
    "name": "ipython",
    "version": 3
   },
   "file_extension": ".py",
   "mimetype": "text/x-python",
   "name": "python",
   "nbconvert_exporter": "python",
   "pygments_lexer": "ipython3",
   "version": "3.9.7"
  },
  "orig_nbformat": 4,
  "vscode": {
   "interpreter": {
    "hash": "dc4ad09da69a7c93759ce1ec8f5ba1ecd9750a7346bc197345f753b72589001e"
   }
  }
 },
 "nbformat": 4,
 "nbformat_minor": 2
}
