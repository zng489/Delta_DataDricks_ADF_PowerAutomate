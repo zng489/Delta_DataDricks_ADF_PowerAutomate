{
 "cells": [
  {
   "cell_type": "code",
   "execution_count": 0,
   "metadata": {
    "application/vnd.databricks.v1+cell": {
     "cellMetadata": {},
     "inputWidgets": {},
     "nuid": "1c9ed702-aa07-4439-82ec-8ad67829d5e3",
     "showTitle": false,
     "title": ""
    }
   },
   "outputs": [
    {
     "output_type": "display_data",
     "data": {
      "text/html": [
       "<style scoped>\n",
       "  .ansiout {\n",
       "    display: block;\n",
       "    unicode-bidi: embed;\n",
       "    white-space: pre-wrap;\n",
       "    word-wrap: break-word;\n",
       "    word-break: break-all;\n",
       "    font-family: \"Source Code Pro\", \"Menlo\", monospace;;\n",
       "    font-size: 13px;\n",
       "    color: #555;\n",
       "    margin-left: 4px;\n",
       "    line-height: 19px;\n",
       "  }\n",
       "</style>\n",
       "<div class=\"ansiout\"></div>"
      ]
     },
     "metadata": {
      "application/vnd.databricks.v1+output": {
       "addedWidgets": {},
       "arguments": {},
       "data": "<div class=\"ansiout\"></div>",
       "datasetInfos": [
        {
         "name": "df_source",
         "schema": {
          "fields": [
           {
            "metadata": {},
            "name": "nm_arq_in",
            "nullable": true,
            "type": "string"
           },
           {
            "metadata": {},
            "name": "CD_MUNICIPIO",
            "nullable": true,
            "type": "string"
           },
           {
            "metadata": {},
            "name": "CD_CNAE10_CLASSE",
            "nullable": true,
            "type": "string"
           },
           {
            "metadata": {},
            "name": "FL_VINCULO_ATIVO_3112",
            "nullable": true,
            "type": "integer"
           },
           {
            "metadata": {},
            "name": "CD_TIPO_VINCULO",
            "nullable": true,
            "type": "string"
           },
           {
            "metadata": {},
            "name": "CD_MOTIVO_DESLIGAMENTO",
            "nullable": true,
            "type": "string"
           },
           {
            "metadata": {},
            "name": "CD_MES_DESLIGAMENTO",
            "nullable": true,
            "type": "string"
           },
           {
            "metadata": {},
            "name": "FL_IND_VINCULO_ALVARA",
            "nullable": true,
            "type": "integer"
           },
           {
            "metadata": {},
            "name": "CD_TIPO_ADMISSAO",
            "nullable": true,
            "type": "string"
           },
           {
            "metadata": {},
            "name": "CD_TIPO_SALARIO",
            "nullable": true,
            "type": "string"
           },
           {
            "metadata": {},
            "name": "CD_CBO94",
            "nullable": true,
            "type": "string"
           },
           {
            "metadata": {},
            "name": "CD_GRAU_INSTRUCAO",
            "nullable": true,
            "type": "string"
           },
           {
            "metadata": {},
            "name": "CD_SEXO",
            "nullable": true,
            "type": "string"
           },
           {
            "metadata": {},
            "name": "CD_NACIONALIDADE",
            "nullable": true,
            "type": "string"
           },
           {
            "metadata": {},
            "name": "CD_RACA_COR",
            "nullable": true,
            "type": "string"
           },
           {
            "metadata": {},
            "name": "FL_IND_PORTADOR_DEFIC",
            "nullable": true,
            "type": "integer"
           },
           {
            "metadata": {},
            "name": "CD_TAMANHO_ESTABELECIMENTO",
            "nullable": true,
            "type": "string"
           },
           {
            "metadata": {},
            "name": "CD_NATUREZA_JURIDICA",
            "nullable": true,
            "type": "string"
           },
           {
            "metadata": {},
            "name": "FL_IND_CEI_VINCULADO",
            "nullable": true,
            "type": "integer"
           },
           {
            "metadata": {},
            "name": "CD_TIPO_ESTAB",
            "nullable": true,
            "type": "string"
           },
           {
            "metadata": {},
            "name": "FL_IND_ESTAB_PARTICIPA_PAT",
            "nullable": true,
            "type": "integer"
           },
           {
            "metadata": {},
            "name": "FL_IND_SIMPLES",
            "nullable": true,
            "type": "integer"
           },
           {
            "metadata": {},
            "name": "DT_DIA_MES_ANO_DATA_ADMISSAO",
            "nullable": true,
            "type": "string"
           },
           {
            "metadata": {},
            "name": "VL_REMUN_MEDIA_SM",
            "nullable": true,
            "type": "double"
           },
           {
            "metadata": {},
            "name": "VL_REMUN_MEDIA_NOM",
            "nullable": true,
            "type": "double"
           },
           {
            "metadata": {},
            "name": "VL_REMUN_DEZEMBRO_SM",
            "nullable": true,
            "type": "double"
           },
           {
            "metadata": {},
            "name": "VL_REMUN_DEZEMBRO_NOM",
            "nullable": true,
            "type": "double"
           },
           {
            "metadata": {},
            "name": "NR_MES_TEMPO_EMPREGO",
            "nullable": true,
            "type": "double"
           },
           {
            "metadata": {},
            "name": "QT_HORA_CONTRAT",
            "nullable": true,
            "type": "integer"
           },
           {
            "metadata": {},
            "name": "VL_REMUN_ULTIMA_ANO_NOM",
            "nullable": true,
            "type": "double"
           },
           {
            "metadata": {},
            "name": "VL_REMUN_CONTRATUAL_NOM",
            "nullable": true,
            "type": "double"
           },
           {
            "metadata": {},
            "name": "ID_PIS",
            "nullable": true,
            "type": "string"
           },
           {
            "metadata": {},
            "name": "DT_DIA_MES_ANO_DATA_NASCIMENTO",
            "nullable": true,
            "type": "string"
           },
           {
            "metadata": {},
            "name": "ID_CTPS",
            "nullable": true,
            "type": "string"
           },
           {
            "metadata": {},
            "name": "ID_CPF",
            "nullable": true,
            "type": "string"
           },
           {
            "metadata": {},
            "name": "ID_CEI_VINCULADO",
            "nullable": true,
            "type": "string"
           },
           {
            "metadata": {},
            "name": "ID_CNPJ_CEI",
            "nullable": true,
            "type": "string"
           },
           {
            "metadata": {},
            "name": "ID_CNPJ_RAIZ",
            "nullable": true,
            "type": "string"
           },
           {
            "metadata": {},
            "name": "CD_TIPO_ESTAB_ID",
            "nullable": true,
            "type": "string"
           },
           {
            "metadata": {},
            "name": "ID_NOME_TRABALHADOR",
            "nullable": true,
            "type": "string"
           },
           {
            "metadata": {},
            "name": "DT_DIA_MES_ANO_DIA_DESLIGAMENTO",
            "nullable": true,
            "type": "string"
           },
           {
            "metadata": {},
            "name": "CD_CBO",
            "nullable": true,
            "type": "string"
           },
           {
            "metadata": {},
            "name": "CD_CNAE20_CLASSE",
            "nullable": true,
            "type": "string"
           },
           {
            "metadata": {},
            "name": "CD_CNAE20_SUBCLASSE",
            "nullable": true,
            "type": "string"
           },
           {
            "metadata": {},
            "name": "CD_TIPO_DEFIC",
            "nullable": true,
            "type": "string"
           },
           {
            "metadata": {},
            "name": "CD_CAUSA_AFASTAMENTO1",
            "nullable": true,
            "type": "string"
           },
           {
            "metadata": {},
            "name": "NR_DIA_INI_AF1",
            "nullable": true,
            "type": "integer"
           },
           {
            "metadata": {},
            "name": "NR_MES_INI_AF1",
            "nullable": true,
            "type": "integer"
           },
           {
            "metadata": {},
            "name": "NR_DIA_FIM_AF1",
            "nullable": true,
            "type": "integer"
           },
           {
            "metadata": {},
            "name": "NR_MES_FIM_AF1",
            "nullable": true,
            "type": "integer"
           },
           {
            "metadata": {},
            "name": "CD_CAUSA_AFASTAMENTO2",
            "nullable": true,
            "type": "string"
           },
           {
            "metadata": {},
            "name": "NR_DIA_INI_AF2",
            "nullable": true,
            "type": "integer"
           },
           {
            "metadata": {},
            "name": "NR_MES_INI_AF2",
            "nullable": true,
            "type": "integer"
           },
           {
            "metadata": {},
            "name": "NR_DIA_FIM_AF2",
            "nullable": true,
            "type": "integer"
           },
           {
            "metadata": {},
            "name": "NR_MES_FIM_AF2",
            "nullable": true,
            "type": "integer"
           },
           {
            "metadata": {},
            "name": "CD_CAUSA_AFASTAMENTO3",
            "nullable": true,
            "type": "string"
           },
           {
            "metadata": {},
            "name": "NR_DIA_INI_AF3",
            "nullable": true,
            "type": "integer"
           },
           {
            "metadata": {},
            "name": "NR_MES_INI_AF3",
            "nullable": true,
            "type": "integer"
           },
           {
            "metadata": {},
            "name": "NR_DIA_FIM_AF3",
            "nullable": true,
            "type": "integer"
           },
           {
            "metadata": {},
            "name": "NR_MES_FIM_AF3",
            "nullable": true,
            "type": "integer"
           },
           {
            "metadata": {},
            "name": "VL_DIAS_AFASTAMENTO",
            "nullable": true,
            "type": "integer"
           },
           {
            "metadata": {},
            "name": "VL_IDADE",
            "nullable": true,
            "type": "integer"
           },
           {
            "metadata": {},
            "name": "CD_IBGE_SUBSETOR",
            "nullable": true,
            "type": "string"
           },
           {
            "metadata": {},
            "name": "VL_ANO_CHEGADA_BRASIL",
            "nullable": true,
            "type": "integer"
           },
           {
            "metadata": {},
            "name": "ID_CEPAO_ESTAB",
            "nullable": true,
            "type": "string"
           },
           {
            "metadata": {},
            "name": "CD_MUNICIPIO_TRAB",
            "nullable": true,
            "type": "string"
           },
           {
            "metadata": {},
            "name": "ID_RAZAO_SOCIAL",
            "nullable": true,
            "type": "string"
           },
           {
            "metadata": {},
            "name": "VL_REMUN_JANEIRO_NOM",
            "nullable": true,
            "type": "double"
           },
           {
            "metadata": {},
            "name": "VL_REMUN_FEVEREIRO_NOM",
            "nullable": true,
            "type": "double"
           },
           {
            "metadata": {},
            "name": "VL_REMUN_MARCO_NOM",
            "nullable": true,
            "type": "double"
           },
           {
            "metadata": {},
            "name": "VL_REMUN_ABRIL_NOM",
            "nullable": true,
            "type": "double"
           },
           {
            "metadata": {},
            "name": "VL_REMUN_MAIO_NOM",
            "nullable": true,
            "type": "double"
           },
           {
            "metadata": {},
            "name": "VL_REMUN_JUNHO_NOM",
            "nullable": true,
            "type": "double"
           },
           {
            "metadata": {},
            "name": "VL_REMUN_JULHO_NOM",
            "nullable": true,
            "type": "double"
           },
           {
            "metadata": {},
            "name": "VL_REMUN_AGOSTO_NOM",
            "nullable": true,
            "type": "double"
           },
           {
            "metadata": {},
            "name": "VL_REMUN_SETEMBRO_NOM",
            "nullable": true,
            "type": "double"
           },
           {
            "metadata": {},
            "name": "VL_REMUN_OUTUBRO_NOM",
            "nullable": true,
            "type": "double"
           },
           {
            "metadata": {},
            "name": "VL_REMUN_NOVEMBRO_NOM",
            "nullable": true,
            "type": "double"
           },
           {
            "metadata": {},
            "name": "FL_IND_TRAB_INTERMITENTE",
            "nullable": true,
            "type": "integer"
           },
           {
            "metadata": {},
            "name": "FL_IND_TRAB_PARCIAL",
            "nullable": true,
            "type": "integer"
           },
           {
            "metadata": {},
            "name": "FL_SINDICAL",
            "nullable": true,
            "type": "integer"
           },
           {
            "metadata": {},
            "name": "VL_ANO_CHEGADA_BRASIL2",
            "nullable": true,
            "type": "integer"
           },
           {
            "metadata": {},
            "name": "CD_CNAE20_DIVISAO",
            "nullable": true,
            "type": "string"
           },
           {
            "metadata": {},
            "name": "CD_UF",
            "nullable": true,
            "type": "string"
           },
           {
            "metadata": {},
            "name": "CD_CBO4",
            "nullable": true,
            "type": "string"
           },
           {
            "metadata": {},
            "name": "CD_BAIRROS_FORTALEZA",
            "nullable": true,
            "type": "string"
           },
           {
            "metadata": {},
            "name": "CD_BAIRROS_RJ",
            "nullable": true,
            "type": "string"
           },
           {
            "metadata": {},
            "name": "CD_BAIRROS_SP",
            "nullable": true,
            "type": "string"
           },
           {
            "metadata": {},
            "name": "CD_DISTRITOS_SP",
            "nullable": true,
            "type": "string"
           },
           {
            "metadata": {},
            "name": "CD_FAIXA_ETARIA",
            "nullable": true,
            "type": "string"
           },
           {
            "metadata": {},
            "name": "CD_FAIXA_HORA_CONTRAT",
            "nullable": true,
            "type": "string"
           },
           {
            "metadata": {},
            "name": "CD_FAIXA_REMUN_DEZEM_SM",
            "nullable": true,
            "type": "string"
           },
           {
            "metadata": {},
            "name": "CD_FAIXA_REMUN_MEDIA_SM",
            "nullable": true,
            "type": "string"
           },
           {
            "metadata": {},
            "name": "CD_FAIXA_TEMPO_EMPREGO",
            "nullable": true,
            "type": "string"
           },
           {
            "metadata": {},
            "name": "CD_REGIOES_ADM_DF",
            "nullable": true,
            "type": "string"
           },
           {
            "metadata": {},
            "name": "DT_MES_ADMISSAO",
            "nullable": true,
            "type": "string"
           },
           {
            "metadata": {},
            "name": "nr_reg",
            "nullable": true,
            "type": "long"
           },
           {
            "metadata": {},
            "name": "dh_insercao_raw",
            "nullable": true,
            "type": "timestamp"
           },
           {
            "metadata": {},
            "name": "dh_arq_in",
            "nullable": true,
            "type": "timestamp"
           },
           {
            "metadata": {},
            "name": "ANO",
            "nullable": true,
            "type": "integer"
           }
          ],
          "type": "struct"
         },
         "tableIdentifier": null,
         "typeStr": "pyspark.sql.dataframe.DataFrame"
        },
        {
         "name": "df_2008_to_2010",
         "schema": {
          "fields": [
           {
            "metadata": {},
            "name": "nm_arq_in",
            "nullable": true,
            "type": "string"
           },
           {
            "metadata": {},
            "name": "CD_MUNICIPIO",
            "nullable": true,
            "type": "string"
           },
           {
            "metadata": {},
            "name": "CD_CNAE10_CLASSE",
            "nullable": true,
            "type": "string"
           },
           {
            "metadata": {},
            "name": "FL_VINCULO_ATIVO_3112",
            "nullable": true,
            "type": "integer"
           },
           {
            "metadata": {},
            "name": "CD_TIPO_VINCULO",
            "nullable": true,
            "type": "string"
           },
           {
            "metadata": {},
            "name": "CD_MOTIVO_DESLIGAMENTO",
            "nullable": true,
            "type": "string"
           },
           {
            "metadata": {},
            "name": "CD_MES_DESLIGAMENTO",
            "nullable": true,
            "type": "string"
           },
           {
            "metadata": {},
            "name": "FL_IND_VINCULO_ALVARA",
            "nullable": true,
            "type": "integer"
           },
           {
            "metadata": {},
            "name": "CD_TIPO_ADMISSAO",
            "nullable": true,
            "type": "string"
           },
           {
            "metadata": {},
            "name": "CD_TIPO_SALARIO",
            "nullable": true,
            "type": "string"
           },
           {
            "metadata": {},
            "name": "CD_CBO94",
            "nullable": true,
            "type": "string"
           },
           {
            "metadata": {},
            "name": "CD_GRAU_INSTRUCAO",
            "nullable": true,
            "type": "string"
           },
           {
            "metadata": {},
            "name": "CD_SEXO",
            "nullable": true,
            "type": "string"
           },
           {
            "metadata": {},
            "name": "CD_NACIONALIDADE",
            "nullable": true,
            "type": "string"
           },
           {
            "metadata": {},
            "name": "CD_RACA_COR",
            "nullable": true,
            "type": "string"
           },
           {
            "metadata": {},
            "name": "FL_IND_PORTADOR_DEFIC",
            "nullable": true,
            "type": "integer"
           },
           {
            "metadata": {},
            "name": "CD_TAMANHO_ESTABELECIMENTO",
            "nullable": true,
            "type": "string"
           },
           {
            "metadata": {},
            "name": "CD_NATUREZA_JURIDICA",
            "nullable": true,
            "type": "string"
           },
           {
            "metadata": {},
            "name": "FL_IND_CEI_VINCULADO",
            "nullable": true,
            "type": "integer"
           },
           {
            "metadata": {},
            "name": "CD_TIPO_ESTAB",
            "nullable": true,
            "type": "string"
           },
           {
            "metadata": {},
            "name": "FL_IND_ESTAB_PARTICIPA_PAT",
            "nullable": true,
            "type": "integer"
           },
           {
            "metadata": {},
            "name": "FL_IND_SIMPLES",
            "nullable": true,
            "type": "integer"
           },
           {
            "metadata": {},
            "name": "DT_DIA_MES_ANO_DATA_ADMISSAO",
            "nullable": true,
            "type": "string"
           },
           {
            "metadata": {},
            "name": "VL_REMUN_MEDIA_SM",
            "nullable": true,
            "type": "double"
           },
           {
            "metadata": {},
            "name": "VL_REMUN_MEDIA_NOM",
            "nullable": true,
            "type": "double"
           },
           {
            "metadata": {},
            "name": "VL_REMUN_DEZEMBRO_SM",
            "nullable": true,
            "type": "double"
           },
           {
            "metadata": {},
            "name": "VL_REMUN_DEZEMBRO_NOM",
            "nullable": true,
            "type": "double"
           },
           {
            "metadata": {},
            "name": "NR_MES_TEMPO_EMPREGO",
            "nullable": true,
            "type": "double"
           },
           {
            "metadata": {},
            "name": "QT_HORA_CONTRAT",
            "nullable": true,
            "type": "integer"
           },
           {
            "metadata": {},
            "name": "VL_REMUN_ULTIMA_ANO_NOM",
            "nullable": true,
            "type": "double"
           },
           {
            "metadata": {},
            "name": "VL_REMUN_CONTRATUAL_NOM",
            "nullable": true,
            "type": "double"
           },
           {
            "metadata": {},
            "name": "ID_PIS",
            "nullable": true,
            "type": "string"
           },
           {
            "metadata": {},
            "name": "DT_DIA_MES_ANO_DATA_NASCIMENTO",
            "nullable": true,
            "type": "string"
           },
           {
            "metadata": {},
            "name": "ID_CTPS",
            "nullable": true,
            "type": "string"
           },
           {
            "metadata": {},
            "name": "ID_CPF",
            "nullable": true,
            "type": "string"
           },
           {
            "metadata": {},
            "name": "ID_CEI_VINCULADO",
            "nullable": true,
            "type": "string"
           },
           {
            "metadata": {},
            "name": "ID_CNPJ_CEI",
            "nullable": true,
            "type": "string"
           },
           {
            "metadata": {},
            "name": "ID_CNPJ_RAIZ",
            "nullable": true,
            "type": "string"
           },
           {
            "metadata": {},
            "name": "CD_TIPO_ESTAB_ID",
            "nullable": true,
            "type": "string"
           },
           {
            "metadata": {},
            "name": "ID_NOME_TRABALHADOR",
            "nullable": true,
            "type": "string"
           },
           {
            "metadata": {},
            "name": "DT_DIA_MES_ANO_DIA_DESLIGAMENTO",
            "nullable": true,
            "type": "string"
           },
           {
            "metadata": {},
            "name": "CD_CBO",
            "nullable": true,
            "type": "string"
           },
           {
            "metadata": {},
            "name": "CD_CNAE20_CLASSE",
            "nullable": true,
            "type": "string"
           },
           {
            "metadata": {},
            "name": "CD_CNAE20_SUBCLASSE",
            "nullable": true,
            "type": "string"
           },
           {
            "metadata": {},
            "name": "CD_TIPO_DEFIC",
            "nullable": true,
            "type": "string"
           },
           {
            "metadata": {},
            "name": "CD_CAUSA_AFASTAMENTO1",
            "nullable": true,
            "type": "string"
           },
           {
            "metadata": {},
            "name": "NR_DIA_INI_AF1",
            "nullable": true,
            "type": "integer"
           },
           {
            "metadata": {},
            "name": "NR_MES_INI_AF1",
            "nullable": true,
            "type": "integer"
           },
           {
            "metadata": {},
            "name": "NR_DIA_FIM_AF1",
            "nullable": true,
            "type": "integer"
           },
           {
            "metadata": {},
            "name": "NR_MES_FIM_AF1",
            "nullable": true,
            "type": "integer"
           },
           {
            "metadata": {},
            "name": "CD_CAUSA_AFASTAMENTO2",
            "nullable": true,
            "type": "string"
           },
           {
            "metadata": {},
            "name": "NR_DIA_INI_AF2",
            "nullable": true,
            "type": "integer"
           },
           {
            "metadata": {},
            "name": "NR_MES_INI_AF2",
            "nullable": true,
            "type": "integer"
           },
           {
            "metadata": {},
            "name": "NR_DIA_FIM_AF2",
            "nullable": true,
            "type": "integer"
           },
           {
            "metadata": {},
            "name": "NR_MES_FIM_AF2",
            "nullable": true,
            "type": "integer"
           },
           {
            "metadata": {},
            "name": "CD_CAUSA_AFASTAMENTO3",
            "nullable": true,
            "type": "string"
           },
           {
            "metadata": {},
            "name": "NR_DIA_INI_AF3",
            "nullable": true,
            "type": "integer"
           },
           {
            "metadata": {},
            "name": "NR_MES_INI_AF3",
            "nullable": true,
            "type": "integer"
           },
           {
            "metadata": {},
            "name": "NR_DIA_FIM_AF3",
            "nullable": true,
            "type": "integer"
           },
           {
            "metadata": {},
            "name": "NR_MES_FIM_AF3",
            "nullable": true,
            "type": "integer"
           },
           {
            "metadata": {},
            "name": "VL_DIAS_AFASTAMENTO",
            "nullable": true,
            "type": "integer"
           },
           {
            "metadata": {},
            "name": "VL_IDADE",
            "nullable": true,
            "type": "integer"
           },
           {
            "metadata": {},
            "name": "CD_IBGE_SUBSETOR",
            "nullable": true,
            "type": "string"
           },
           {
            "metadata": {},
            "name": "VL_ANO_CHEGADA_BRASIL",
            "nullable": true,
            "type": "integer"
           },
           {
            "metadata": {},
            "name": "ID_CEPAO_ESTAB",
            "nullable": true,
            "type": "string"
           },
           {
            "metadata": {},
            "name": "CD_MUNICIPIO_TRAB",
            "nullable": true,
            "type": "string"
           },
           {
            "metadata": {},
            "name": "ID_RAZAO_SOCIAL",
            "nullable": true,
            "type": "string"
           },
           {
            "metadata": {},
            "name": "VL_REMUN_JANEIRO_NOM",
            "nullable": true,
            "type": "double"
           },
           {
            "metadata": {},
            "name": "VL_REMUN_FEVEREIRO_NOM",
            "nullable": true,
            "type": "double"
           },
           {
            "metadata": {},
            "name": "VL_REMUN_MARCO_NOM",
            "nullable": true,
            "type": "double"
           },
           {
            "metadata": {},
            "name": "VL_REMUN_ABRIL_NOM",
            "nullable": true,
            "type": "double"
           },
           {
            "metadata": {},
            "name": "VL_REMUN_MAIO_NOM",
            "nullable": true,
            "type": "double"
           },
           {
            "metadata": {},
            "name": "VL_REMUN_JUNHO_NOM",
            "nullable": true,
            "type": "double"
           },
           {
            "metadata": {},
            "name": "VL_REMUN_JULHO_NOM",
            "nullable": true,
            "type": "double"
           },
           {
            "metadata": {},
            "name": "VL_REMUN_AGOSTO_NOM",
            "nullable": true,
            "type": "double"
           },
           {
            "metadata": {},
            "name": "VL_REMUN_SETEMBRO_NOM",
            "nullable": true,
            "type": "double"
           },
           {
            "metadata": {},
            "name": "VL_REMUN_OUTUBRO_NOM",
            "nullable": true,
            "type": "double"
           },
           {
            "metadata": {},
            "name": "VL_REMUN_NOVEMBRO_NOM",
            "nullable": true,
            "type": "double"
           },
           {
            "metadata": {},
            "name": "FL_IND_TRAB_INTERMITENTE",
            "nullable": true,
            "type": "integer"
           },
           {
            "metadata": {},
            "name": "FL_IND_TRAB_PARCIAL",
            "nullable": true,
            "type": "integer"
           },
           {
            "metadata": {},
            "name": "FL_SINDICAL",
            "nullable": true,
            "type": "integer"
           },
           {
            "metadata": {},
            "name": "VL_ANO_CHEGADA_BRASIL2",
            "nullable": true,
            "type": "integer"
           },
           {
            "metadata": {},
            "name": "CD_CNAE20_DIVISAO",
            "nullable": true,
            "type": "string"
           },
           {
            "metadata": {},
            "name": "CD_UF",
            "nullable": true,
            "type": "string"
           },
           {
            "metadata": {},
            "name": "CD_CBO4",
            "nullable": true,
            "type": "string"
           },
           {
            "metadata": {},
            "name": "CD_BAIRROS_FORTALEZA",
            "nullable": true,
            "type": "string"
           },
           {
            "metadata": {},
            "name": "CD_BAIRROS_RJ",
            "nullable": true,
            "type": "string"
           },
           {
            "metadata": {},
            "name": "CD_BAIRROS_SP",
            "nullable": true,
            "type": "string"
           },
           {
            "metadata": {},
            "name": "CD_DISTRITOS_SP",
            "nullable": true,
            "type": "string"
           },
           {
            "metadata": {},
            "name": "CD_FAIXA_ETARIA",
            "nullable": true,
            "type": "string"
           },
           {
            "metadata": {},
            "name": "CD_FAIXA_HORA_CONTRAT",
            "nullable": true,
            "type": "string"
           },
           {
            "metadata": {},
            "name": "CD_FAIXA_REMUN_DEZEM_SM",
            "nullable": true,
            "type": "string"
           },
           {
            "metadata": {},
            "name": "CD_FAIXA_REMUN_MEDIA_SM",
            "nullable": true,
            "type": "string"
           },
           {
            "metadata": {},
            "name": "CD_FAIXA_TEMPO_EMPREGO",
            "nullable": true,
            "type": "string"
           },
           {
            "metadata": {},
            "name": "CD_REGIOES_ADM_DF",
            "nullable": true,
            "type": "string"
           },
           {
            "metadata": {},
            "name": "DT_MES_ADMISSAO",
            "nullable": true,
            "type": "string"
           },
           {
            "metadata": {},
            "name": "nr_reg",
            "nullable": true,
            "type": "long"
           },
           {
            "metadata": {},
            "name": "dh_insercao_raw",
            "nullable": true,
            "type": "timestamp"
           },
           {
            "metadata": {},
            "name": "dh_arq_in",
            "nullable": true,
            "type": "timestamp"
           },
           {
            "metadata": {},
            "name": "ANO",
            "nullable": true,
            "type": "integer"
           }
          ],
          "type": "struct"
         },
         "tableIdentifier": null,
         "typeStr": "pyspark.sql.dataframe.DataFrame"
        }
       ],
       "metadata": {},
       "removedWidgets": [],
       "type": "html"
      }
     },
     "output_type": "display_data"
    }
   ],
   "source": [
    "# from cni_connectors import adls_gen1_connector as adls_conn\n",
    "# from trs_control_field import trs_control_field as tcf\n",
    "\n",
    "from pyspark.sql.window import Window\n",
    "from pyspark.sql.functions import *\n",
    "import pyspark.sql.functions as f\n",
    "import datetime\n",
    "import json\n",
    "import re\n",
    "\n",
    "# var_adls_uri = adls_conn.adls_gen1_connect(spark, dbutils, scope=\"adls_gen1\", dynamic_overwrite=\"dynamic\")\n",
    "\n",
    "var_adls_uri = 'abfss://datalake@cnibigdatadlsgen2.dfs.core.windows.net'\n",
    "\n",
    "try:\n",
    "  tables = json.loads(re.sub(\"\\'\", '\\\"', dbutils.widgets.get(\"tables\")))\n",
    "  dls = json.loads(re.sub(\"\\'\", '\\\"', dbutils.widgets.get(\"dls\")))\n",
    "  adf = json.loads(re.sub(\"\\'\", '\\\"', dbutils.widgets.get(\"adf\")))\n",
    "  \n",
    "except:\n",
    "  tables =  {\n",
    "    \"path_origin\": \"/usr/me/rais_vinculo\",\n",
    "    \"path_destination\":\"/me/rais_vinculo\"\n",
    "  }\n",
    "  \n",
    "dls = {\"folders\":{\"landing\":\"/tmp/dev/lnd\",\"error\":\"/tmp/dev/err\",\"staging\":\"/tmp/dev/stg\",\"log\":\"/tmp/dev/log\",\"raw\":\"/tmp/dev/raw\",\"trusted\":\"/tmp/dev/trs\"}}\n",
    "# dls = {\"folders\":{\"landing\":\"/lnd\",\"error\":\"/err\",\"staging\":\"/stg\",\"log\":\"/log\",\"raw\":\"/raw\",\"trusted\":\"/trs\"}}\n",
    "adf = {\n",
    "  'adf_factory_name': 'cnibigdatafactory', \n",
    "  'adf_pipeline_name': 'raw_trs_convenio_ensino_prof_carga_horaria',\n",
    "  'adf_pipeline_run_id': 'p1',\n",
    "  'adf_trigger_id': 't1',\n",
    "  'adf_trigger_name': 'author_dev',\n",
    "  'adf_trigger_time': '2020-10-13T15:00:06.0829994Z',\n",
    "  'adf_trigger_type': 'Manual'\n",
    "}\n",
    "\n",
    "\n",
    "\n",
    "raw = dls['folders']['raw']\n",
    "trs = dls['folders']['trusted']\n",
    "var_adls_uri = 'abfss://datalake@cnibigdatadlsgen2.dfs.core.windows.net'\n",
    "\n",
    "source = \"{adl_path}{raw}{origin}\".format(adl_path=var_adls_uri, raw=raw, origin=tables[\"path_origin\"])\n",
    "source\n",
    "\n",
    "target = \"{adl_path}{trs}{origin}\".format(adl_path=var_adls_uri, trs=trs, origin=tables[\"path_destination\"])\n",
    "target\n",
    "\n",
    "df_source = spark.read.parquet(source)\n",
    "\n",
    "\n",
    "#-----------------\n",
    "df_2008_to_2010 = df_source.filter((col(\"ANO\") >= 2008) & (col(\"ANO\") <= 2010))\n",
    "\n",
    "# display(df_2008_to_2010)\n",
    "# df_2008_to_2010.printSchema()\n",
    "\n",
    "\n",
    "#------------------\n",
    "# lit () nao e necessario\n",
    "\n",
    "transformation_2008_to_2010 = {\"CD_CBO94\": when(lower(col(\"CD_CBO94\")) == \"ignorado\", lit(-1)).otherwise(regexp_replace('CD_CBO94', 'CBO ', '')),\n",
    "                               \n",
    "                               # Para a coluna \"CD_CBO94\" when/quando o valor string \"ignorado\" for lower case, substitua por lit(-1), otherwise/caso contratio(regexp_replace( da coluna 'CD_CBO94' substituindo o valor 'CBO' por ' '))\n",
    "                               # ANO = 2018, A coluna CD_CDO94 apresenta o valor 'IGNORADO'\n",
    "                               \n",
    "                               \n",
    "                               \"CD_SEXO\": when(col('CD_SEXO') == 'MASCULINO', lit(1)).when(col('CD_SEXO') == 'FEMININO', lit(2)).otherwise(col('CD_SEXO')),\n",
    "                               \n",
    "                               # When/Quando a coluna 'CD_SEXO' == \"MASCULINO\", substitua o valor por 1 lit(1).When/Quando a coluna 'CD_SEXO' == \"FEMININO\", substitua o valor por 2 lit(2), otherwise/caso contrario substitua pela coluna col('CD_SEXO') \n",
    "                               \n",
    "                               \n",
    "                               \"CD_CBO\": when(lower(col(\"CD_CBO\")) == \"ignorado\", lit(\"-1\")).otherwise(regexp_replace('CD_CBO', 'CBO ', '')),\n",
    "                               \n",
    "                               # Para a coluna 'CD_CBO' em lower case com valores iguais a 'ignorado', substitua por -1 / lit(1), otherwise / caso contrario dar um regexp_replace(na coluna CD_CBO, substituindo 'CBO' por '') \n",
    "                                                              \n",
    "                               \"CD_CAUSA_AFASTAMENTO1\": when(col('CD_CAUSA_AFASTAMENTO1') == '-1', lit('99')).otherwise(col('CD_CAUSA_AFASTAMENTO1')),\n",
    "                               \n",
    "                               \"CD_CAUSA_AFASTAMENTO2\": when(col('CD_CAUSA_AFASTAMENTO2') == '-1', lit('99')).otherwise(col('CD_CAUSA_AFASTAMENTO2')),\n",
    "                               \n",
    "                               \"CD_CAUSA_AFASTAMENTO3\": when(col('CD_CAUSA_AFASTAMENTO3') == '-1', lit('99')).otherwise(col('CD_CAUSA_AFASTAMENTO3')),\n",
    "                               \n",
    "                               \"NR_DIA_INI_AF1\": when(col('NR_DIA_INI_AF1') == '-1', lit('99')).otherwise(col('NR_DIA_INI_AF1')),\n",
    "                               \n",
    "                               \"NR_DIA_INI_AF2\": when(col('NR_DIA_INI_AF2') == '-1', lit('99')).otherwise(col('NR_DIA_INI_AF2')),\n",
    "                               \n",
    "                               \"NR_DIA_INI_AF3\": when(col('NR_DIA_INI_AF3') == '-1', lit('99')).otherwise(col('NR_DIA_INI_AF3')),\n",
    "                               \n",
    "                               \"NR_MES_INI_AF1\": when(lower(col('NR_MES_INI_AF1')).isin('-1','ignorado'), lit('99')).otherwise(col('NR_MES_INI_AF1')),\n",
    "                               \n",
    "                               # Para a coluna 'NR_MES_INI_AF1' transformando os valores em lower case, se os valores ('-1', 'ignorado') pertecerem a coluna 'NR_MES_INI_AF1', caso pertenca, substitua por 99 / lit(99), otherwise / caso contrario complete-o com os valores col('NR_MES_INI_AF1')\n",
    "                               \n",
    "                               \n",
    "                               \n",
    "                               \n",
    "                               \"NR_MES_INI_AF2\": when(lower(col('NR_MES_INI_AF2')).isin('-1','ignorado'), lit('99')).otherwise(col('NR_MES_INI_AF2')),\n",
    "                               \n",
    "                               \"NR_MES_INI_AF3\": when(lower(col('NR_MES_INI_AF3')).isin('-1','ignorado'), lit('99')).otherwise(col('NR_MES_INI_AF3')),\n",
    "                               \n",
    "                               \n",
    "                               \n",
    "                               \n",
    "                               \"NR_DIA_FIM_AF1\": when(col('NR_DIA_FIM_AF1') == -1, lit(99)).otherwise(col('NR_DIA_FIM_AF1')),\n",
    "                               \n",
    "                               \"NR_DIA_FIM_AF2\": when(col('NR_DIA_FIM_AF2') == -1, lit(99)).otherwise(col('NR_DIA_FIM_AF2')),\n",
    "                               \n",
    "                               \"NR_DIA_FIM_AF3\": when(col('NR_DIA_FIM_AF3') == -1, lit(99)).otherwise(col('NR_DIA_FIM_AF3')),\n",
    "                               \n",
    "                               \"NR_MES_FIM_AF1\": when(lower(col('NR_MES_FIM_AF1')).isin('-1','ignorado'), lit('99')).otherwise(col('NR_MES_FIM_AF1')),\n",
    "                               \n",
    "                               \"NR_MES_FIM_AF2\": when(lower(col('NR_MES_FIM_AF2')).isin('-1','ignorado'), lit('99')).otherwise(col('NR_MES_FIM_AF2')),\n",
    "                               \n",
    "                               \"NR_MES_FIM_AF3\": when(lower(col('NR_MES_FIM_AF3')).isin('-1','ignorado'), lit('99')).otherwise(col('NR_MES_FIM_AF3')),\n",
    "                               \n",
    "                               \n",
    "                               \"VL_IDADE\": (months_between(lit(datetime.date(2009, 12, 31)).cast('date'), to_date(lpad('DT_DIA_MES_ANO_DATA_NASCIMENTO',8,'0'), 'ddMMyyyy')) / lit(12)).cast('int')\n",
    "                               \n",
    "                               # Com a funcao months_between foi definido a contagem em months desde a data 2009,12,31 em formato do type 'Date' a funcao lpad corta os numeros do lado esquerdo da coluna 'DT_DIA_MES_ANO_DATA_NASCIMENTO em formato ddMMyyy e depois / dividindo tudo por 12\n"
   ]
  },
  {
   "cell_type": "code",
   "execution_count": 0,
   "metadata": {
    "application/vnd.databricks.v1+cell": {
     "cellMetadata": {},
     "inputWidgets": {},
     "nuid": "1ce3c2d7-ac62-48e3-be46-7c45dcd88672",
     "showTitle": false,
     "title": ""
    }
   },
   "outputs": [],
   "source": [
    "for key in transformation_2008_to_2010:\n",
    "  df_2008_to_2010 = df_2008_to_2010.withColumn(key, transformation_2008_to_2010[key])"
   ]
  },
  {
   "cell_type": "code",
   "execution_count": 0,
   "metadata": {
    "application/vnd.databricks.v1+cell": {
     "cellMetadata": {},
     "inputWidgets": {},
     "nuid": "ff0bfa3e-65e7-46e3-8ae1-1ad1776a6b6b",
     "showTitle": false,
     "title": ""
    }
   },
   "outputs": [
    {
     "output_type": "display_data",
     "data": {
      "text/html": [
       "<style scoped>\n",
       "  .table-result-container {\n",
       "    max-height: 300px;\n",
       "    overflow: auto;\n",
       "  }\n",
       "  table, th, td {\n",
       "    border: 1px solid black;\n",
       "    border-collapse: collapse;\n",
       "  }\n",
       "  th, td {\n",
       "    padding: 5px;\n",
       "  }\n",
       "  th {\n",
       "    text-align: left;\n",
       "  }\n",
       "</style><div class='table-result-container'><table class='table-result'><thead style='background-color: white'><tr><th>nm_arq_in</th><th>CD_MUNICIPIO</th><th>CD_CNAE10_CLASSE</th><th>FL_VINCULO_ATIVO_3112</th><th>CD_TIPO_VINCULO</th><th>CD_MOTIVO_DESLIGAMENTO</th><th>CD_MES_DESLIGAMENTO</th><th>FL_IND_VINCULO_ALVARA</th><th>CD_TIPO_ADMISSAO</th><th>CD_TIPO_SALARIO</th><th>CD_CBO94</th><th>CD_GRAU_INSTRUCAO</th><th>CD_SEXO</th><th>CD_NACIONALIDADE</th><th>CD_RACA_COR</th><th>FL_IND_PORTADOR_DEFIC</th><th>CD_TAMANHO_ESTABELECIMENTO</th><th>CD_NATUREZA_JURIDICA</th><th>FL_IND_CEI_VINCULADO</th><th>CD_TIPO_ESTAB</th><th>FL_IND_ESTAB_PARTICIPA_PAT</th><th>FL_IND_SIMPLES</th><th>DT_DIA_MES_ANO_DATA_ADMISSAO</th><th>VL_REMUN_MEDIA_SM</th><th>VL_REMUN_MEDIA_NOM</th><th>VL_REMUN_DEZEMBRO_SM</th><th>VL_REMUN_DEZEMBRO_NOM</th><th>NR_MES_TEMPO_EMPREGO</th><th>QT_HORA_CONTRAT</th><th>VL_REMUN_ULTIMA_ANO_NOM</th><th>VL_REMUN_CONTRATUAL_NOM</th><th>ID_PIS</th><th>DT_DIA_MES_ANO_DATA_NASCIMENTO</th><th>ID_CTPS</th><th>ID_CPF</th><th>ID_CEI_VINCULADO</th><th>ID_CNPJ_CEI</th><th>ID_CNPJ_RAIZ</th><th>CD_TIPO_ESTAB_ID</th><th>ID_NOME_TRABALHADOR</th><th>DT_DIA_MES_ANO_DIA_DESLIGAMENTO</th><th>CD_CBO</th><th>CD_CNAE20_CLASSE</th><th>CD_CNAE20_SUBCLASSE</th><th>CD_TIPO_DEFIC</th><th>CD_CAUSA_AFASTAMENTO1</th><th>NR_DIA_INI_AF1</th><th>NR_MES_INI_AF1</th><th>NR_DIA_FIM_AF1</th><th>NR_MES_FIM_AF1</th><th>CD_CAUSA_AFASTAMENTO2</th><th>NR_DIA_INI_AF2</th><th>NR_MES_INI_AF2</th><th>NR_DIA_FIM_AF2</th><th>NR_MES_FIM_AF2</th><th>CD_CAUSA_AFASTAMENTO3</th><th>NR_DIA_INI_AF3</th><th>NR_MES_INI_AF3</th><th>NR_DIA_FIM_AF3</th><th>NR_MES_FIM_AF3</th><th>VL_DIAS_AFASTAMENTO</th><th>VL_IDADE</th><th>CD_IBGE_SUBSETOR</th><th>VL_ANO_CHEGADA_BRASIL</th><th>ID_CEPAO_ESTAB</th><th>CD_MUNICIPIO_TRAB</th><th>ID_RAZAO_SOCIAL</th><th>VL_REMUN_JANEIRO_NOM</th><th>VL_REMUN_FEVEREIRO_NOM</th><th>VL_REMUN_MARCO_NOM</th><th>VL_REMUN_ABRIL_NOM</th><th>VL_REMUN_MAIO_NOM</th><th>VL_REMUN_JUNHO_NOM</th><th>VL_REMUN_JULHO_NOM</th><th>VL_REMUN_AGOSTO_NOM</th><th>VL_REMUN_SETEMBRO_NOM</th><th>VL_REMUN_OUTUBRO_NOM</th><th>VL_REMUN_NOVEMBRO_NOM</th><th>FL_IND_TRAB_INTERMITENTE</th><th>FL_IND_TRAB_PARCIAL</th><th>FL_SINDICAL</th><th>VL_ANO_CHEGADA_BRASIL2</th><th>CD_CNAE20_DIVISAO</th><th>CD_UF</th><th>CD_CBO4</th><th>CD_BAIRROS_FORTALEZA</th><th>CD_BAIRROS_RJ</th><th>CD_BAIRROS_SP</th><th>CD_DISTRITOS_SP</th><th>CD_FAIXA_ETARIA</th><th>CD_FAIXA_HORA_CONTRAT</th><th>CD_FAIXA_REMUN_DEZEM_SM</th><th>CD_FAIXA_REMUN_MEDIA_SM</th><th>CD_FAIXA_TEMPO_EMPREGO</th><th>CD_REGIOES_ADM_DF</th><th>DT_MES_ADMISSAO</th><th>nr_reg</th><th>dh_insercao_raw</th><th>dh_arq_in</th><th>ANO</th></tr></thead><tbody><tr><td>PB2009ID.TXT</td><td>250830</td><td>75116</td><td>1</td><td>30</td><td>00</td><td>00</td><td>2</td><td>0</td><td>1</td><td>CBO 55250</td><td>4</td><td>FEMININO</td><td>10</td><td>-1</td><td>1</td><td>8</td><td>1031</td><td>0</td><td>1</td><td>0</td><td>0</td><td>1121999</td><td>1.08</td><td>498.72</td><td>1.1</td><td>511.5</td><td>120.9</td><td>40</td><td>1.1</td><td>465.0</td><td>17036833627</td><td>10031957</td><td>16435</td><td>67516220400</td><td>0</td><td>8997611000168</td><td>8997611</td><td>1</td><td>MARIA DAS DORES LIMA DOS SANTOS</td><td>null</td><td>CBO 514215</td><td>84116</td><td>8411600</td><td>0</td><td>-1</td><td>null</td><td>-1</td><td>null</td><td>-1</td><td>-1</td><td>null</td><td>-1</td><td>null</td><td>-1</td><td>-1</td><td>null</td><td>-1</td><td>null</td><td>-1</td><td>0</td><td>null</td><td>null</td><td>null</td><td>null</td><td>null</td><td>null</td><td>null</td><td>null</td><td>null</td><td>null</td><td>null</td><td>null</td><td>null</td><td>null</td><td>null</td><td>null</td><td>null</td><td>null</td><td>null</td><td>null</td><td>null</td><td>null</td><td>null</td><td>null</td><td>null</td><td>null</td><td>null</td><td>null</td><td>null</td><td>null</td><td>null</td><td>null</td><td>null</td><td>null</td><td>null</td><td>1236950611498</td><td>2021-06-02T15:06:25.000+0000</td><td>2021-06-02T11:40:39.000+0000</td><td>2009</td></tr><tr><td>RS2009ID.TXT</td><td>430790</td><td>19399</td><td>0</td><td>10</td><td>21</td><td>03</td><td>2</td><td>2</td><td>1</td><td>CBO 80255</td><td>7</td><td>MASCULINO</td><td>10</td><td>2</td><td>1</td><td>4</td><td>2062</td><td>0</td><td>1</td><td>0</td><td>0</td><td>26012009</td><td>1.04</td><td>465.4</td><td>0.0</td><td>0.0</td><td>1.5</td><td>44</td><td>0.63</td><td>550.0</td><td>20365115961</td><td>18091989</td><td>8617762</td><td>1258022001</td><td>0</td><td>2318308000105</td><td>2318308</td><td>1</td><td>CAIRON MACIEL MARTINS</td><td>null</td><td>CBO 764305</td><td>15394</td><td>1539400</td><td>0</td><td>-1</td><td>null</td><td>-1</td><td>null</td><td>-1</td><td>-1</td><td>null</td><td>-1</td><td>null</td><td>-1</td><td>-1</td><td>null</td><td>-1</td><td>null</td><td>-1</td><td>0</td><td>null</td><td>null</td><td>null</td><td>null</td><td>null</td><td>null</td><td>null</td><td>null</td><td>null</td><td>null</td><td>null</td><td>null</td><td>null</td><td>null</td><td>null</td><td>null</td><td>null</td><td>null</td><td>null</td><td>null</td><td>null</td><td>null</td><td>null</td><td>null</td><td>null</td><td>null</td><td>null</td><td>null</td><td>null</td><td>null</td><td>null</td><td>null</td><td>null</td><td>null</td><td>null</td><td>635655547437</td><td>2021-06-02T15:06:25.000+0000</td><td>2021-06-02T11:41:02.000+0000</td><td>2009</td></tr><tr><td>PB2009ID.TXT</td><td>250400</td><td>65234</td><td>1</td><td>10</td><td>00</td><td>00</td><td>2</td><td>0</td><td>1</td><td>CBO 39315</td><td>7</td><td>MASCULINO</td><td>10</td><td>2</td><td>1</td><td>5</td><td>2011</td><td>0</td><td>1</td><td>1</td><td>0</td><td>27091982</td><td>13.31</td><td>6149.14</td><td>13.5</td><td>6280.99</td><td>327.1</td><td>30</td><td>13.5</td><td>3344.0</td><td>10699129386</td><td>21011958</td><td>3614</td><td>13943669491</td><td>0</td><td>360305004100</td><td>360305</td><td>1</td><td>FRANCISCO DE ARAUJO MACEDO FILHO</td><td>null</td><td>CBO 413225</td><td>64239</td><td>6423900</td><td>0</td><td>40</td><td>21</td><td>1</td><td>23</td><td>1</td><td>-1</td><td>null</td><td>-1</td><td>null</td><td>-1</td><td>-1</td><td>null</td><td>-1</td><td>null</td><td>-1</td><td>3</td><td>null</td><td>null</td><td>null</td><td>null</td><td>null</td><td>null</td><td>null</td><td>null</td><td>null</td><td>null</td><td>null</td><td>null</td><td>null</td><td>null</td><td>null</td><td>null</td><td>null</td><td>null</td><td>null</td><td>null</td><td>null</td><td>null</td><td>null</td><td>null</td><td>null</td><td>null</td><td>null</td><td>null</td><td>null</td><td>null</td><td>null</td><td>null</td><td>null</td><td>null</td><td>null</td><td>377957126976</td><td>2021-06-02T15:06:25.000+0000</td><td>2021-06-02T11:40:39.000+0000</td><td>2009</td></tr></tbody></table></div>"
      ]
     },
     "metadata": {
      "application/vnd.databricks.v1+output": {
       "addedWidgets": {},
       "aggData": [],
       "aggError": "",
       "aggOverflow": false,
       "aggSchema": [],
       "aggSeriesLimitReached": false,
       "aggType": "",
       "arguments": {},
       "columnCustomDisplayInfos": {},
       "data": [
        [
         "PB2009ID.TXT",
         "250830",
         "75116",
         1,
         "30",
         "00",
         "00",
         2,
         "0",
         "1",
         "CBO 55250",
         "4",
         "FEMININO",
         "10",
         "-1",
         1,
         "8",
         "1031",
         0,
         "1",
         0,
         0,
         "1121999",
         1.08,
         498.72,
         1.1,
         511.5,
         120.9,
         40,
         1.1,
         465.0,
         "17036833627",
         "10031957",
         "16435",
         "67516220400",
         "0",
         "8997611000168",
         "8997611",
         "1",
         "MARIA DAS DORES LIMA DOS SANTOS",
         null,
         "CBO 514215",
         "84116",
         "8411600",
         "0",
         "-1",
         null,
         "-1",
         null,
         "-1",
         "-1",
         null,
         "-1",
         null,
         "-1",
         "-1",
         null,
         "-1",
         null,
         "-1",
         0,
         null,
         null,
         null,
         null,
         null,
         null,
         null,
         null,
         null,
         null,
         null,
         null,
         null,
         null,
         null,
         null,
         null,
         null,
         null,
         null,
         null,
         null,
         null,
         null,
         null,
         null,
         null,
         null,
         null,
         null,
         null,
         null,
         null,
         null,
         null,
         1236950611498,
         "2021-06-02T15:06:25.000+0000",
         "2021-06-02T11:40:39.000+0000",
         2009
        ],
        [
         "RS2009ID.TXT",
         "430790",
         "19399",
         0,
         "10",
         "21",
         "03",
         2,
         "2",
         "1",
         "CBO 80255",
         "7",
         "MASCULINO",
         "10",
         "2",
         1,
         "4",
         "2062",
         0,
         "1",
         0,
         0,
         "26012009",
         1.04,
         465.4,
         0.0,
         0.0,
         1.5,
         44,
         0.63,
         550.0,
         "20365115961",
         "18091989",
         "8617762",
         "1258022001",
         "0",
         "2318308000105",
         "2318308",
         "1",
         "CAIRON MACIEL MARTINS",
         null,
         "CBO 764305",
         "15394",
         "1539400",
         "0",
         "-1",
         null,
         "-1",
         null,
         "-1",
         "-1",
         null,
         "-1",
         null,
         "-1",
         "-1",
         null,
         "-1",
         null,
         "-1",
         0,
         null,
         null,
         null,
         null,
         null,
         null,
         null,
         null,
         null,
         null,
         null,
         null,
         null,
         null,
         null,
         null,
         null,
         null,
         null,
         null,
         null,
         null,
         null,
         null,
         null,
         null,
         null,
         null,
         null,
         null,
         null,
         null,
         null,
         null,
         null,
         635655547437,
         "2021-06-02T15:06:25.000+0000",
         "2021-06-02T11:41:02.000+0000",
         2009
        ],
        [
         "PB2009ID.TXT",
         "250400",
         "65234",
         1,
         "10",
         "00",
         "00",
         2,
         "0",
         "1",
         "CBO 39315",
         "7",
         "MASCULINO",
         "10",
         "2",
         1,
         "5",
         "2011",
         0,
         "1",
         1,
         0,
         "27091982",
         13.31,
         6149.14,
         13.5,
         6280.99,
         327.1,
         30,
         13.5,
         3344.0,
         "10699129386",
         "21011958",
         "3614",
         "13943669491",
         "0",
         "360305004100",
         "360305",
         "1",
         "FRANCISCO DE ARAUJO MACEDO FILHO",
         null,
         "CBO 413225",
         "64239",
         "6423900",
         "0",
         "40",
         21,
         "1",
         23,
         "1",
         "-1",
         null,
         "-1",
         null,
         "-1",
         "-1",
         null,
         "-1",
         null,
         "-1",
         3,
         null,
         null,
         null,
         null,
         null,
         null,
         null,
         null,
         null,
         null,
         null,
         null,
         null,
         null,
         null,
         null,
         null,
         null,
         null,
         null,
         null,
         null,
         null,
         null,
         null,
         null,
         null,
         null,
         null,
         null,
         null,
         null,
         null,
         null,
         null,
         377957126976,
         "2021-06-02T15:06:25.000+0000",
         "2021-06-02T11:40:39.000+0000",
         2009
        ]
       ],
       "datasetInfos": [
        {
         "name": "df_2008_to_2010",
         "schema": {
          "fields": [
           {
            "metadata": {},
            "name": "nm_arq_in",
            "nullable": true,
            "type": "string"
           },
           {
            "metadata": {},
            "name": "CD_MUNICIPIO",
            "nullable": true,
            "type": "string"
           },
           {
            "metadata": {},
            "name": "CD_CNAE10_CLASSE",
            "nullable": true,
            "type": "string"
           },
           {
            "metadata": {},
            "name": "FL_VINCULO_ATIVO_3112",
            "nullable": true,
            "type": "integer"
           },
           {
            "metadata": {},
            "name": "CD_TIPO_VINCULO",
            "nullable": true,
            "type": "string"
           },
           {
            "metadata": {},
            "name": "CD_MOTIVO_DESLIGAMENTO",
            "nullable": true,
            "type": "string"
           },
           {
            "metadata": {},
            "name": "CD_MES_DESLIGAMENTO",
            "nullable": true,
            "type": "string"
           },
           {
            "metadata": {},
            "name": "FL_IND_VINCULO_ALVARA",
            "nullable": true,
            "type": "integer"
           },
           {
            "metadata": {},
            "name": "CD_TIPO_ADMISSAO",
            "nullable": true,
            "type": "string"
           },
           {
            "metadata": {},
            "name": "CD_TIPO_SALARIO",
            "nullable": true,
            "type": "string"
           },
           {
            "metadata": {},
            "name": "CD_CBO94",
            "nullable": true,
            "type": "string"
           },
           {
            "metadata": {},
            "name": "CD_GRAU_INSTRUCAO",
            "nullable": true,
            "type": "string"
           },
           {
            "metadata": {},
            "name": "CD_SEXO",
            "nullable": true,
            "type": "string"
           },
           {
            "metadata": {},
            "name": "CD_NACIONALIDADE",
            "nullable": true,
            "type": "string"
           },
           {
            "metadata": {},
            "name": "CD_RACA_COR",
            "nullable": true,
            "type": "string"
           },
           {
            "metadata": {},
            "name": "FL_IND_PORTADOR_DEFIC",
            "nullable": true,
            "type": "integer"
           },
           {
            "metadata": {},
            "name": "CD_TAMANHO_ESTABELECIMENTO",
            "nullable": true,
            "type": "string"
           },
           {
            "metadata": {},
            "name": "CD_NATUREZA_JURIDICA",
            "nullable": true,
            "type": "string"
           },
           {
            "metadata": {},
            "name": "FL_IND_CEI_VINCULADO",
            "nullable": true,
            "type": "integer"
           },
           {
            "metadata": {},
            "name": "CD_TIPO_ESTAB",
            "nullable": true,
            "type": "string"
           },
           {
            "metadata": {},
            "name": "FL_IND_ESTAB_PARTICIPA_PAT",
            "nullable": true,
            "type": "integer"
           },
           {
            "metadata": {},
            "name": "FL_IND_SIMPLES",
            "nullable": true,
            "type": "integer"
           },
           {
            "metadata": {},
            "name": "DT_DIA_MES_ANO_DATA_ADMISSAO",
            "nullable": true,
            "type": "string"
           },
           {
            "metadata": {},
            "name": "VL_REMUN_MEDIA_SM",
            "nullable": true,
            "type": "double"
           },
           {
            "metadata": {},
            "name": "VL_REMUN_MEDIA_NOM",
            "nullable": true,
            "type": "double"
           },
           {
            "metadata": {},
            "name": "VL_REMUN_DEZEMBRO_SM",
            "nullable": true,
            "type": "double"
           },
           {
            "metadata": {},
            "name": "VL_REMUN_DEZEMBRO_NOM",
            "nullable": true,
            "type": "double"
           },
           {
            "metadata": {},
            "name": "NR_MES_TEMPO_EMPREGO",
            "nullable": true,
            "type": "double"
           },
           {
            "metadata": {},
            "name": "QT_HORA_CONTRAT",
            "nullable": true,
            "type": "integer"
           },
           {
            "metadata": {},
            "name": "VL_REMUN_ULTIMA_ANO_NOM",
            "nullable": true,
            "type": "double"
           },
           {
            "metadata": {},
            "name": "VL_REMUN_CONTRATUAL_NOM",
            "nullable": true,
            "type": "double"
           },
           {
            "metadata": {},
            "name": "ID_PIS",
            "nullable": true,
            "type": "string"
           },
           {
            "metadata": {},
            "name": "DT_DIA_MES_ANO_DATA_NASCIMENTO",
            "nullable": true,
            "type": "string"
           },
           {
            "metadata": {},
            "name": "ID_CTPS",
            "nullable": true,
            "type": "string"
           },
           {
            "metadata": {},
            "name": "ID_CPF",
            "nullable": true,
            "type": "string"
           },
           {
            "metadata": {},
            "name": "ID_CEI_VINCULADO",
            "nullable": true,
            "type": "string"
           },
           {
            "metadata": {},
            "name": "ID_CNPJ_CEI",
            "nullable": true,
            "type": "string"
           },
           {
            "metadata": {},
            "name": "ID_CNPJ_RAIZ",
            "nullable": true,
            "type": "string"
           },
           {
            "metadata": {},
            "name": "CD_TIPO_ESTAB_ID",
            "nullable": true,
            "type": "string"
           },
           {
            "metadata": {},
            "name": "ID_NOME_TRABALHADOR",
            "nullable": true,
            "type": "string"
           },
           {
            "metadata": {},
            "name": "DT_DIA_MES_ANO_DIA_DESLIGAMENTO",
            "nullable": true,
            "type": "string"
           },
           {
            "metadata": {},
            "name": "CD_CBO",
            "nullable": true,
            "type": "string"
           },
           {
            "metadata": {},
            "name": "CD_CNAE20_CLASSE",
            "nullable": true,
            "type": "string"
           },
           {
            "metadata": {},
            "name": "CD_CNAE20_SUBCLASSE",
            "nullable": true,
            "type": "string"
           },
           {
            "metadata": {},
            "name": "CD_TIPO_DEFIC",
            "nullable": true,
            "type": "string"
           },
           {
            "metadata": {},
            "name": "CD_CAUSA_AFASTAMENTO1",
            "nullable": true,
            "type": "string"
           },
           {
            "metadata": {},
            "name": "NR_DIA_INI_AF1",
            "nullable": true,
            "type": "integer"
           },
           {
            "metadata": {},
            "name": "NR_MES_INI_AF1",
            "nullable": true,
            "type": "string"
           },
           {
            "metadata": {},
            "name": "NR_DIA_FIM_AF1",
            "nullable": true,
            "type": "integer"
           },
           {
            "metadata": {},
            "name": "NR_MES_FIM_AF1",
            "nullable": true,
            "type": "string"
           },
           {
            "metadata": {},
            "name": "CD_CAUSA_AFASTAMENTO2",
            "nullable": true,
            "type": "string"
           },
           {
            "metadata": {},
            "name": "NR_DIA_INI_AF2",
            "nullable": true,
            "type": "integer"
           },
           {
            "metadata": {},
            "name": "NR_MES_INI_AF2",
            "nullable": true,
            "type": "string"
           },
           {
            "metadata": {},
            "name": "NR_DIA_FIM_AF2",
            "nullable": true,
            "type": "integer"
           },
           {
            "metadata": {},
            "name": "NR_MES_FIM_AF2",
            "nullable": true,
            "type": "string"
           },
           {
            "metadata": {},
            "name": "CD_CAUSA_AFASTAMENTO3",
            "nullable": true,
            "type": "string"
           },
           {
            "metadata": {},
            "name": "NR_DIA_INI_AF3",
            "nullable": true,
            "type": "integer"
           },
           {
            "metadata": {},
            "name": "NR_MES_INI_AF3",
            "nullable": true,
            "type": "string"
           },
           {
            "metadata": {},
            "name": "NR_DIA_FIM_AF3",
            "nullable": true,
            "type": "integer"
           },
           {
            "metadata": {},
            "name": "NR_MES_FIM_AF3",
            "nullable": true,
            "type": "string"
           },
           {
            "metadata": {},
            "name": "VL_DIAS_AFASTAMENTO",
            "nullable": true,
            "type": "integer"
           },
           {
            "metadata": {},
            "name": "VL_IDADE",
            "nullable": true,
            "type": "integer"
           },
           {
            "metadata": {},
            "name": "CD_IBGE_SUBSETOR",
            "nullable": true,
            "type": "string"
           },
           {
            "metadata": {},
            "name": "VL_ANO_CHEGADA_BRASIL",
            "nullable": true,
            "type": "integer"
           },
           {
            "metadata": {},
            "name": "ID_CEPAO_ESTAB",
            "nullable": true,
            "type": "string"
           },
           {
            "metadata": {},
            "name": "CD_MUNICIPIO_TRAB",
            "nullable": true,
            "type": "string"
           },
           {
            "metadata": {},
            "name": "ID_RAZAO_SOCIAL",
            "nullable": true,
            "type": "string"
           },
           {
            "metadata": {},
            "name": "VL_REMUN_JANEIRO_NOM",
            "nullable": true,
            "type": "double"
           },
           {
            "metadata": {},
            "name": "VL_REMUN_FEVEREIRO_NOM",
            "nullable": true,
            "type": "double"
           },
           {
            "metadata": {},
            "name": "VL_REMUN_MARCO_NOM",
            "nullable": true,
            "type": "double"
           },
           {
            "metadata": {},
            "name": "VL_REMUN_ABRIL_NOM",
            "nullable": true,
            "type": "double"
           },
           {
            "metadata": {},
            "name": "VL_REMUN_MAIO_NOM",
            "nullable": true,
            "type": "double"
           },
           {
            "metadata": {},
            "name": "VL_REMUN_JUNHO_NOM",
            "nullable": true,
            "type": "double"
           },
           {
            "metadata": {},
            "name": "VL_REMUN_JULHO_NOM",
            "nullable": true,
            "type": "double"
           },
           {
            "metadata": {},
            "name": "VL_REMUN_AGOSTO_NOM",
            "nullable": true,
            "type": "double"
           },
           {
            "metadata": {},
            "name": "VL_REMUN_SETEMBRO_NOM",
            "nullable": true,
            "type": "double"
           },
           {
            "metadata": {},
            "name": "VL_REMUN_OUTUBRO_NOM",
            "nullable": true,
            "type": "double"
           },
           {
            "metadata": {},
            "name": "VL_REMUN_NOVEMBRO_NOM",
            "nullable": true,
            "type": "double"
           },
           {
            "metadata": {},
            "name": "FL_IND_TRAB_INTERMITENTE",
            "nullable": true,
            "type": "integer"
           },
           {
            "metadata": {},
            "name": "FL_IND_TRAB_PARCIAL",
            "nullable": true,
            "type": "integer"
           },
           {
            "metadata": {},
            "name": "FL_SINDICAL",
            "nullable": true,
            "type": "integer"
           },
           {
            "metadata": {},
            "name": "VL_ANO_CHEGADA_BRASIL2",
            "nullable": true,
            "type": "integer"
           },
           {
            "metadata": {},
            "name": "CD_CNAE20_DIVISAO",
            "nullable": true,
            "type": "string"
           },
           {
            "metadata": {},
            "name": "CD_UF",
            "nullable": true,
            "type": "string"
           },
           {
            "metadata": {},
            "name": "CD_CBO4",
            "nullable": true,
            "type": "string"
           },
           {
            "metadata": {},
            "name": "CD_BAIRROS_FORTALEZA",
            "nullable": true,
            "type": "string"
           },
           {
            "metadata": {},
            "name": "CD_BAIRROS_RJ",
            "nullable": true,
            "type": "string"
           },
           {
            "metadata": {},
            "name": "CD_BAIRROS_SP",
            "nullable": true,
            "type": "string"
           },
           {
            "metadata": {},
            "name": "CD_DISTRITOS_SP",
            "nullable": true,
            "type": "string"
           },
           {
            "metadata": {},
            "name": "CD_FAIXA_ETARIA",
            "nullable": true,
            "type": "string"
           },
           {
            "metadata": {},
            "name": "CD_FAIXA_HORA_CONTRAT",
            "nullable": true,
            "type": "string"
           },
           {
            "metadata": {},
            "name": "CD_FAIXA_REMUN_DEZEM_SM",
            "nullable": true,
            "type": "string"
           },
           {
            "metadata": {},
            "name": "CD_FAIXA_REMUN_MEDIA_SM",
            "nullable": true,
            "type": "string"
           },
           {
            "metadata": {},
            "name": "CD_FAIXA_TEMPO_EMPREGO",
            "nullable": true,
            "type": "string"
           },
           {
            "metadata": {},
            "name": "CD_REGIOES_ADM_DF",
            "nullable": true,
            "type": "string"
           },
           {
            "metadata": {},
            "name": "DT_MES_ADMISSAO",
            "nullable": true,
            "type": "string"
           },
           {
            "metadata": {},
            "name": "nr_reg",
            "nullable": true,
            "type": "long"
           },
           {
            "metadata": {},
            "name": "dh_insercao_raw",
            "nullable": true,
            "type": "timestamp"
           },
           {
            "metadata": {},
            "name": "dh_arq_in",
            "nullable": true,
            "type": "timestamp"
           },
           {
            "metadata": {},
            "name": "ANO",
            "nullable": true,
            "type": "integer"
           }
          ],
          "type": "struct"
         },
         "tableIdentifier": null,
         "typeStr": "pyspark.sql.dataframe.DataFrame"
        }
       ],
       "dbfsResultPath": null,
       "isJsonSchema": true,
       "metadata": {},
       "overflow": false,
       "plotOptions": {
        "customPlotOptions": {},
        "displayType": "table",
        "pivotAggregation": null,
        "pivotColumns": null,
        "xColumns": null,
        "yColumns": null
       },
       "removedWidgets": [],
       "schema": [
        {
         "metadata": "{}",
         "name": "nm_arq_in",
         "type": "\"string\""
        },
        {
         "metadata": "{}",
         "name": "CD_MUNICIPIO",
         "type": "\"string\""
        },
        {
         "metadata": "{}",
         "name": "CD_CNAE10_CLASSE",
         "type": "\"string\""
        },
        {
         "metadata": "{}",
         "name": "FL_VINCULO_ATIVO_3112",
         "type": "\"integer\""
        },
        {
         "metadata": "{}",
         "name": "CD_TIPO_VINCULO",
         "type": "\"string\""
        },
        {
         "metadata": "{}",
         "name": "CD_MOTIVO_DESLIGAMENTO",
         "type": "\"string\""
        },
        {
         "metadata": "{}",
         "name": "CD_MES_DESLIGAMENTO",
         "type": "\"string\""
        },
        {
         "metadata": "{}",
         "name": "FL_IND_VINCULO_ALVARA",
         "type": "\"integer\""
        },
        {
         "metadata": "{}",
         "name": "CD_TIPO_ADMISSAO",
         "type": "\"string\""
        },
        {
         "metadata": "{}",
         "name": "CD_TIPO_SALARIO",
         "type": "\"string\""
        },
        {
         "metadata": "{}",
         "name": "CD_CBO94",
         "type": "\"string\""
        },
        {
         "metadata": "{}",
         "name": "CD_GRAU_INSTRUCAO",
         "type": "\"string\""
        },
        {
         "metadata": "{}",
         "name": "CD_SEXO",
         "type": "\"string\""
        },
        {
         "metadata": "{}",
         "name": "CD_NACIONALIDADE",
         "type": "\"string\""
        },
        {
         "metadata": "{}",
         "name": "CD_RACA_COR",
         "type": "\"string\""
        },
        {
         "metadata": "{}",
         "name": "FL_IND_PORTADOR_DEFIC",
         "type": "\"integer\""
        },
        {
         "metadata": "{}",
         "name": "CD_TAMANHO_ESTABELECIMENTO",
         "type": "\"string\""
        },
        {
         "metadata": "{}",
         "name": "CD_NATUREZA_JURIDICA",
         "type": "\"string\""
        },
        {
         "metadata": "{}",
         "name": "FL_IND_CEI_VINCULADO",
         "type": "\"integer\""
        },
        {
         "metadata": "{}",
         "name": "CD_TIPO_ESTAB",
         "type": "\"string\""
        },
        {
         "metadata": "{}",
         "name": "FL_IND_ESTAB_PARTICIPA_PAT",
         "type": "\"integer\""
        },
        {
         "metadata": "{}",
         "name": "FL_IND_SIMPLES",
         "type": "\"integer\""
        },
        {
         "metadata": "{}",
         "name": "DT_DIA_MES_ANO_DATA_ADMISSAO",
         "type": "\"string\""
        },
        {
         "metadata": "{}",
         "name": "VL_REMUN_MEDIA_SM",
         "type": "\"double\""
        },
        {
         "metadata": "{}",
         "name": "VL_REMUN_MEDIA_NOM",
         "type": "\"double\""
        },
        {
         "metadata": "{}",
         "name": "VL_REMUN_DEZEMBRO_SM",
         "type": "\"double\""
        },
        {
         "metadata": "{}",
         "name": "VL_REMUN_DEZEMBRO_NOM",
         "type": "\"double\""
        },
        {
         "metadata": "{}",
         "name": "NR_MES_TEMPO_EMPREGO",
         "type": "\"double\""
        },
        {
         "metadata": "{}",
         "name": "QT_HORA_CONTRAT",
         "type": "\"integer\""
        },
        {
         "metadata": "{}",
         "name": "VL_REMUN_ULTIMA_ANO_NOM",
         "type": "\"double\""
        },
        {
         "metadata": "{}",
         "name": "VL_REMUN_CONTRATUAL_NOM",
         "type": "\"double\""
        },
        {
         "metadata": "{}",
         "name": "ID_PIS",
         "type": "\"string\""
        },
        {
         "metadata": "{}",
         "name": "DT_DIA_MES_ANO_DATA_NASCIMENTO",
         "type": "\"string\""
        },
        {
         "metadata": "{}",
         "name": "ID_CTPS",
         "type": "\"string\""
        },
        {
         "metadata": "{}",
         "name": "ID_CPF",
         "type": "\"string\""
        },
        {
         "metadata": "{}",
         "name": "ID_CEI_VINCULADO",
         "type": "\"string\""
        },
        {
         "metadata": "{}",
         "name": "ID_CNPJ_CEI",
         "type": "\"string\""
        },
        {
         "metadata": "{}",
         "name": "ID_CNPJ_RAIZ",
         "type": "\"string\""
        },
        {
         "metadata": "{}",
         "name": "CD_TIPO_ESTAB_ID",
         "type": "\"string\""
        },
        {
         "metadata": "{}",
         "name": "ID_NOME_TRABALHADOR",
         "type": "\"string\""
        },
        {
         "metadata": "{}",
         "name": "DT_DIA_MES_ANO_DIA_DESLIGAMENTO",
         "type": "\"string\""
        },
        {
         "metadata": "{}",
         "name": "CD_CBO",
         "type": "\"string\""
        },
        {
         "metadata": "{}",
         "name": "CD_CNAE20_CLASSE",
         "type": "\"string\""
        },
        {
         "metadata": "{}",
         "name": "CD_CNAE20_SUBCLASSE",
         "type": "\"string\""
        },
        {
         "metadata": "{}",
         "name": "CD_TIPO_DEFIC",
         "type": "\"string\""
        },
        {
         "metadata": "{}",
         "name": "CD_CAUSA_AFASTAMENTO1",
         "type": "\"string\""
        },
        {
         "metadata": "{}",
         "name": "NR_DIA_INI_AF1",
         "type": "\"integer\""
        },
        {
         "metadata": "{}",
         "name": "NR_MES_INI_AF1",
         "type": "\"string\""
        },
        {
         "metadata": "{}",
         "name": "NR_DIA_FIM_AF1",
         "type": "\"integer\""
        },
        {
         "metadata": "{}",
         "name": "NR_MES_FIM_AF1",
         "type": "\"string\""
        },
        {
         "metadata": "{}",
         "name": "CD_CAUSA_AFASTAMENTO2",
         "type": "\"string\""
        },
        {
         "metadata": "{}",
         "name": "NR_DIA_INI_AF2",
         "type": "\"integer\""
        },
        {
         "metadata": "{}",
         "name": "NR_MES_INI_AF2",
         "type": "\"string\""
        },
        {
         "metadata": "{}",
         "name": "NR_DIA_FIM_AF2",
         "type": "\"integer\""
        },
        {
         "metadata": "{}",
         "name": "NR_MES_FIM_AF2",
         "type": "\"string\""
        },
        {
         "metadata": "{}",
         "name": "CD_CAUSA_AFASTAMENTO3",
         "type": "\"string\""
        },
        {
         "metadata": "{}",
         "name": "NR_DIA_INI_AF3",
         "type": "\"integer\""
        },
        {
         "metadata": "{}",
         "name": "NR_MES_INI_AF3",
         "type": "\"string\""
        },
        {
         "metadata": "{}",
         "name": "NR_DIA_FIM_AF3",
         "type": "\"integer\""
        },
        {
         "metadata": "{}",
         "name": "NR_MES_FIM_AF3",
         "type": "\"string\""
        },
        {
         "metadata": "{}",
         "name": "VL_DIAS_AFASTAMENTO",
         "type": "\"integer\""
        },
        {
         "metadata": "{}",
         "name": "VL_IDADE",
         "type": "\"integer\""
        },
        {
         "metadata": "{}",
         "name": "CD_IBGE_SUBSETOR",
         "type": "\"string\""
        },
        {
         "metadata": "{}",
         "name": "VL_ANO_CHEGADA_BRASIL",
         "type": "\"integer\""
        },
        {
         "metadata": "{}",
         "name": "ID_CEPAO_ESTAB",
         "type": "\"string\""
        },
        {
         "metadata": "{}",
         "name": "CD_MUNICIPIO_TRAB",
         "type": "\"string\""
        },
        {
         "metadata": "{}",
         "name": "ID_RAZAO_SOCIAL",
         "type": "\"string\""
        },
        {
         "metadata": "{}",
         "name": "VL_REMUN_JANEIRO_NOM",
         "type": "\"double\""
        },
        {
         "metadata": "{}",
         "name": "VL_REMUN_FEVEREIRO_NOM",
         "type": "\"double\""
        },
        {
         "metadata": "{}",
         "name": "VL_REMUN_MARCO_NOM",
         "type": "\"double\""
        },
        {
         "metadata": "{}",
         "name": "VL_REMUN_ABRIL_NOM",
         "type": "\"double\""
        },
        {
         "metadata": "{}",
         "name": "VL_REMUN_MAIO_NOM",
         "type": "\"double\""
        },
        {
         "metadata": "{}",
         "name": "VL_REMUN_JUNHO_NOM",
         "type": "\"double\""
        },
        {
         "metadata": "{}",
         "name": "VL_REMUN_JULHO_NOM",
         "type": "\"double\""
        },
        {
         "metadata": "{}",
         "name": "VL_REMUN_AGOSTO_NOM",
         "type": "\"double\""
        },
        {
         "metadata": "{}",
         "name": "VL_REMUN_SETEMBRO_NOM",
         "type": "\"double\""
        },
        {
         "metadata": "{}",
         "name": "VL_REMUN_OUTUBRO_NOM",
         "type": "\"double\""
        },
        {
         "metadata": "{}",
         "name": "VL_REMUN_NOVEMBRO_NOM",
         "type": "\"double\""
        },
        {
         "metadata": "{}",
         "name": "FL_IND_TRAB_INTERMITENTE",
         "type": "\"integer\""
        },
        {
         "metadata": "{}",
         "name": "FL_IND_TRAB_PARCIAL",
         "type": "\"integer\""
        },
        {
         "metadata": "{}",
         "name": "FL_SINDICAL",
         "type": "\"integer\""
        },
        {
         "metadata": "{}",
         "name": "VL_ANO_CHEGADA_BRASIL2",
         "type": "\"integer\""
        },
        {
         "metadata": "{}",
         "name": "CD_CNAE20_DIVISAO",
         "type": "\"string\""
        },
        {
         "metadata": "{}",
         "name": "CD_UF",
         "type": "\"string\""
        },
        {
         "metadata": "{}",
         "name": "CD_CBO4",
         "type": "\"string\""
        },
        {
         "metadata": "{}",
         "name": "CD_BAIRROS_FORTALEZA",
         "type": "\"string\""
        },
        {
         "metadata": "{}",
         "name": "CD_BAIRROS_RJ",
         "type": "\"string\""
        },
        {
         "metadata": "{}",
         "name": "CD_BAIRROS_SP",
         "type": "\"string\""
        },
        {
         "metadata": "{}",
         "name": "CD_DISTRITOS_SP",
         "type": "\"string\""
        },
        {
         "metadata": "{}",
         "name": "CD_FAIXA_ETARIA",
         "type": "\"string\""
        },
        {
         "metadata": "{}",
         "name": "CD_FAIXA_HORA_CONTRAT",
         "type": "\"string\""
        },
        {
         "metadata": "{}",
         "name": "CD_FAIXA_REMUN_DEZEM_SM",
         "type": "\"string\""
        },
        {
         "metadata": "{}",
         "name": "CD_FAIXA_REMUN_MEDIA_SM",
         "type": "\"string\""
        },
        {
         "metadata": "{}",
         "name": "CD_FAIXA_TEMPO_EMPREGO",
         "type": "\"string\""
        },
        {
         "metadata": "{}",
         "name": "CD_REGIOES_ADM_DF",
         "type": "\"string\""
        },
        {
         "metadata": "{}",
         "name": "DT_MES_ADMISSAO",
         "type": "\"string\""
        },
        {
         "metadata": "{}",
         "name": "nr_reg",
         "type": "\"long\""
        },
        {
         "metadata": "{}",
         "name": "dh_insercao_raw",
         "type": "\"timestamp\""
        },
        {
         "metadata": "{}",
         "name": "dh_arq_in",
         "type": "\"timestamp\""
        },
        {
         "metadata": "{}",
         "name": "ANO",
         "type": "\"integer\""
        }
       ],
       "type": "table"
      }
     },
     "output_type": "display_data"
    }
   ],
   "source": [
    "columns_month = [\"NR_MES_INI_AF1\",\n",
    "                 \"NR_MES_INI_AF2\",\n",
    "                 \"NR_MES_INI_AF3\",\n",
    "                 \"NR_MES_FIM_AF1\",\n",
    "                 \"NR_MES_FIM_AF2\",\n",
    "                 \"NR_MES_FIM_AF3\"]\n",
    " \n",
    "for item in columns_month:\n",
    "  df_2008_to_2010 = df_2008_to_2010\\\n",
    "  .withColumn(item, when(col(\"ANO\") == 2010,\n",
    "                        when(lower(col(item)) == \"janeiro\", lit('01'))\\\n",
    "                       .when(lower(col(item)) == \"fevereiro\", lit('02'))\\\n",
    "                       .when(lower(col(item)).isin(\"marco\", \"março\"), lit('03'))\\\n",
    "                       .when(lower(col(item)) == \"abril\", lit('04'))\\\n",
    "                       .when(lower(col(item)) == \"maio\", lit('05'))\\\n",
    "                       .when(lower(col(item)) == \"junho\", lit('06'))\\\n",
    "                       .when(lower(col(item)) == \"julho\", lit('07'))\\\n",
    "                       .when(lower(col(item)) == \"agosto\", lit('08'))\\\n",
    "                       .when(lower(col(item)) == \"setembro\", lit('09'))\\\n",
    "                       .when(lower(col(item)) == \"outubro\", lit('10'))\\\n",
    "                       .when(lower(col(item)) == \"novembro\", lit('11'))\\\n",
    "                       .when(lower(col(item)) == \"dezembro\", lit('12'))\\\n",
    "                       .otherwise(col(item)))\\\n",
    "                   .otherwise(col(item)))\n",
    "  \n",
    "  \n",
    "display(df_2008_to_2010.limit(3))  "
   ]
  },
  {
   "cell_type": "code",
   "execution_count": 0,
   "metadata": {
    "application/vnd.databricks.v1+cell": {
     "cellMetadata": {},
     "inputWidgets": {},
     "nuid": "fbb133b0-6692-4318-b417-ffe00dae9458",
     "showTitle": false,
     "title": ""
    }
   },
   "outputs": [],
   "source": [
    "df = df_2008_to_2010.union(df_2011_onwards.select(df_2008_to_2010.columns))"
   ]
  },
  {
   "cell_type": "code",
   "execution_count": 0,
   "metadata": {
    "application/vnd.databricks.v1+cell": {
     "cellMetadata": {},
     "inputWidgets": {},
     "nuid": "47154bd8-ea58-40b2-bd86-c95f55fef7c4",
     "showTitle": false,
     "title": ""
    }
   },
   "outputs": [
    {
     "output_type": "display_data",
     "data": {
      "text/html": [
       "<style scoped>\n",
       "  .ansiout {\n",
       "    display: block;\n",
       "    unicode-bidi: embed;\n",
       "    white-space: pre-wrap;\n",
       "    word-wrap: break-word;\n",
       "    word-break: break-all;\n",
       "    font-family: \"Source Code Pro\", \"Menlo\", monospace;;\n",
       "    font-size: 13px;\n",
       "    color: #555;\n",
       "    margin-left: 4px;\n",
       "    line-height: 19px;\n",
       "  }\n",
       "</style>\n",
       "<div class=\"ansiout\">+----------+\n",
       "    months|\n",
       "+----------+\n",
       "3.94959677|\n",
       "+----------+\n",
       "\n",
       "</div>"
      ]
     },
     "metadata": {
      "application/vnd.databricks.v1+output": {
       "addedWidgets": {},
       "arguments": {},
       "data": "<div class=\"ansiout\">+----------+\n|    months|\n+----------+\n|3.94959677|\n+----------+\n\n</div>",
       "datasetInfos": [
        {
         "name": "df",
         "schema": {
          "fields": [
           {
            "metadata": {},
            "name": "date1",
            "nullable": true,
            "type": "string"
           },
           {
            "metadata": {},
            "name": "date2",
            "nullable": true,
            "type": "string"
           }
          ],
          "type": "struct"
         },
         "tableIdentifier": null,
         "typeStr": "pyspark.sql.dataframe.DataFrame"
        }
       ],
       "metadata": {},
       "removedWidgets": [],
       "type": "html"
      }
     },
     "output_type": "display_data"
    }
   ],
   "source": [
    "df = spark.createDataFrame([('1997-02-28 10:30:00', '1996-10-30')], ['date1', 'date2'])\n",
    "df.select(months_between(df.date1, df.date2).alias('months')).show()"
   ]
  },
  {
   "cell_type": "code",
   "execution_count": 0,
   "metadata": {
    "application/vnd.databricks.v1+cell": {
     "cellMetadata": {},
     "inputWidgets": {},
     "nuid": "b352a786-86e0-4576-9b12-adf8a0fa4399",
     "showTitle": false,
     "title": ""
    }
   },
   "outputs": [],
   "source": [
    "df3.write.partitionBy('ANO', 'CD_UF').save(path=target, format=\"parquet\", mode='overwrite')\n",
    "# Inside of Folder [Folder \"ANO\" -> Folder 'CD_UF_1',Folder 'CD_UF_2', Folder 'CD_UF_3' ]"
   ]
  }
 ],
 "metadata": {
  "application/vnd.databricks.v1+notebook": {
   "dashboards": [],
   "language": "python",
   "notebookMetadata": {
    "pythonIndentUnit": 2
   },
   "notebookName": "Anaely_Raw_Trs_Rais_Vinculo",
   "widgets": {}
  }
 },
 "nbformat": 4,
 "nbformat_minor": 0
}
