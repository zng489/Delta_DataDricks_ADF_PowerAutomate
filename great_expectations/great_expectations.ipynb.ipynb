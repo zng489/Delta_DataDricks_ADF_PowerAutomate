{
 "cells": [
  {
   "cell_type": "code",
   "execution_count": 66,
   "metadata": {},
   "outputs": [],
   "source": [
    "import great_expectations as ge"
   ]
  },
  {
   "cell_type": "code",
   "execution_count": 67,
   "metadata": {},
   "outputs": [],
   "source": [
    "#!pip show jinja2\n",
    "#!pip install great_expectations\n",
    "#!pip install openpyxl"
   ]
  },
  {
   "cell_type": "code",
   "execution_count": null,
   "metadata": {},
   "outputs": [],
   "source": []
  },
  {
   "cell_type": "code",
   "execution_count": 162,
   "metadata": {},
   "outputs": [
    {
     "data": {
      "text/html": [
       "<div>\n",
       "<style scoped>\n",
       "    .dataframe tbody tr th:only-of-type {\n",
       "        vertical-align: middle;\n",
       "    }\n",
       "\n",
       "    .dataframe tbody tr th {\n",
       "        vertical-align: top;\n",
       "    }\n",
       "\n",
       "    .dataframe thead th {\n",
       "        text-align: right;\n",
       "    }\n",
       "</style>\n",
       "<table border=\"1\" class=\"dataframe\">\n",
       "  <thead>\n",
       "    <tr style=\"text-align: right;\">\n",
       "      <th></th>\n",
       "      <th>ProductKey</th>\n",
       "      <th>ProductAlternateKey</th>\n",
       "      <th>ProductSubcategoryKey</th>\n",
       "      <th>WeightUnitMeasureCode</th>\n",
       "      <th>SizeUnitMeasureCode</th>\n",
       "      <th>EnglishProductName</th>\n",
       "      <th>StandardCost</th>\n",
       "      <th>FinishedGoodsFlag</th>\n",
       "      <th>Color</th>\n",
       "      <th>SafetyStockLevel</th>\n",
       "      <th>...</th>\n",
       "      <th>DaysToManufacture</th>\n",
       "      <th>ProductLine</th>\n",
       "      <th>DealerPrice</th>\n",
       "      <th>Class</th>\n",
       "      <th>Style</th>\n",
       "      <th>ModelName</th>\n",
       "      <th>EnglishDescription</th>\n",
       "      <th>StartDate</th>\n",
       "      <th>EndDate</th>\n",
       "      <th>Status</th>\n",
       "    </tr>\n",
       "  </thead>\n",
       "  <tbody>\n",
       "    <tr>\n",
       "      <th>0</th>\n",
       "      <td>1</td>\n",
       "      <td>AR-5381</td>\n",
       "      <td>NaN</td>\n",
       "      <td>NaN</td>\n",
       "      <td>NaN</td>\n",
       "      <td>Adjustable Race</td>\n",
       "      <td>NaN</td>\n",
       "      <td>0</td>\n",
       "      <td>NaN</td>\n",
       "      <td>1000</td>\n",
       "      <td>...</td>\n",
       "      <td>0</td>\n",
       "      <td>NaN</td>\n",
       "      <td>NaN</td>\n",
       "      <td>NaN</td>\n",
       "      <td>NaN</td>\n",
       "      <td>NaN</td>\n",
       "      <td>NaN</td>\n",
       "      <td>2003-07-01</td>\n",
       "      <td>NaT</td>\n",
       "      <td>Current</td>\n",
       "    </tr>\n",
       "    <tr>\n",
       "      <th>1</th>\n",
       "      <td>2</td>\n",
       "      <td>BA-8327</td>\n",
       "      <td>NaN</td>\n",
       "      <td>NaN</td>\n",
       "      <td>NaN</td>\n",
       "      <td>Bearing Ball</td>\n",
       "      <td>NaN</td>\n",
       "      <td>0</td>\n",
       "      <td>NaN</td>\n",
       "      <td>1000</td>\n",
       "      <td>...</td>\n",
       "      <td>0</td>\n",
       "      <td>NaN</td>\n",
       "      <td>NaN</td>\n",
       "      <td>NaN</td>\n",
       "      <td>NaN</td>\n",
       "      <td>NaN</td>\n",
       "      <td>NaN</td>\n",
       "      <td>2003-07-01</td>\n",
       "      <td>NaT</td>\n",
       "      <td>Current</td>\n",
       "    </tr>\n",
       "    <tr>\n",
       "      <th>2</th>\n",
       "      <td>3</td>\n",
       "      <td>BE-2349</td>\n",
       "      <td>NaN</td>\n",
       "      <td>NaN</td>\n",
       "      <td>NaN</td>\n",
       "      <td>BB Ball Bearing</td>\n",
       "      <td>NaN</td>\n",
       "      <td>0</td>\n",
       "      <td>NaN</td>\n",
       "      <td>800</td>\n",
       "      <td>...</td>\n",
       "      <td>1</td>\n",
       "      <td>NaN</td>\n",
       "      <td>NaN</td>\n",
       "      <td>NaN</td>\n",
       "      <td>NaN</td>\n",
       "      <td>NaN</td>\n",
       "      <td>NaN</td>\n",
       "      <td>2003-07-01</td>\n",
       "      <td>NaT</td>\n",
       "      <td>Current</td>\n",
       "    </tr>\n",
       "    <tr>\n",
       "      <th>3</th>\n",
       "      <td>4</td>\n",
       "      <td>BE-2908</td>\n",
       "      <td>NaN</td>\n",
       "      <td>NaN</td>\n",
       "      <td>NaN</td>\n",
       "      <td>Headset Ball Bearings</td>\n",
       "      <td>NaN</td>\n",
       "      <td>0</td>\n",
       "      <td>NaN</td>\n",
       "      <td>800</td>\n",
       "      <td>...</td>\n",
       "      <td>0</td>\n",
       "      <td>NaN</td>\n",
       "      <td>NaN</td>\n",
       "      <td>NaN</td>\n",
       "      <td>NaN</td>\n",
       "      <td>NaN</td>\n",
       "      <td>NaN</td>\n",
       "      <td>2003-07-01</td>\n",
       "      <td>NaT</td>\n",
       "      <td>Current</td>\n",
       "    </tr>\n",
       "    <tr>\n",
       "      <th>4</th>\n",
       "      <td>5</td>\n",
       "      <td>BL-2036</td>\n",
       "      <td>NaN</td>\n",
       "      <td>NaN</td>\n",
       "      <td>NaN</td>\n",
       "      <td>Blade</td>\n",
       "      <td>NaN</td>\n",
       "      <td>0</td>\n",
       "      <td>NaN</td>\n",
       "      <td>800</td>\n",
       "      <td>...</td>\n",
       "      <td>1</td>\n",
       "      <td>NaN</td>\n",
       "      <td>NaN</td>\n",
       "      <td>NaN</td>\n",
       "      <td>NaN</td>\n",
       "      <td>NaN</td>\n",
       "      <td>NaN</td>\n",
       "      <td>2003-07-01</td>\n",
       "      <td>NaT</td>\n",
       "      <td>Current</td>\n",
       "    </tr>\n",
       "  </tbody>\n",
       "</table>\n",
       "<p>5 rows × 25 columns</p>\n",
       "</div>"
      ],
      "text/plain": [
       "   ProductKey ProductAlternateKey  ProductSubcategoryKey  \\\n",
       "0           1             AR-5381                    NaN   \n",
       "1           2             BA-8327                    NaN   \n",
       "2           3             BE-2349                    NaN   \n",
       "3           4             BE-2908                    NaN   \n",
       "4           5             BL-2036                    NaN   \n",
       "\n",
       "  WeightUnitMeasureCode SizeUnitMeasureCode     EnglishProductName  \\\n",
       "0                   NaN                 NaN        Adjustable Race   \n",
       "1                   NaN                 NaN           Bearing Ball   \n",
       "2                   NaN                 NaN        BB Ball Bearing   \n",
       "3                   NaN                 NaN  Headset Ball Bearings   \n",
       "4                   NaN                 NaN                  Blade   \n",
       "\n",
       "   StandardCost  FinishedGoodsFlag Color  SafetyStockLevel  ...  \\\n",
       "0           NaN                  0   NaN              1000  ...   \n",
       "1           NaN                  0   NaN              1000  ...   \n",
       "2           NaN                  0   NaN               800  ...   \n",
       "3           NaN                  0   NaN               800  ...   \n",
       "4           NaN                  0   NaN               800  ...   \n",
       "\n",
       "   DaysToManufacture  ProductLine DealerPrice Class  Style  ModelName  \\\n",
       "0                  0          NaN         NaN   NaN    NaN        NaN   \n",
       "1                  0          NaN         NaN   NaN    NaN        NaN   \n",
       "2                  1          NaN         NaN   NaN    NaN        NaN   \n",
       "3                  0          NaN         NaN   NaN    NaN        NaN   \n",
       "4                  1          NaN         NaN   NaN    NaN        NaN   \n",
       "\n",
       "  EnglishDescription  StartDate EndDate   Status  \n",
       "0                NaN 2003-07-01     NaT  Current  \n",
       "1                NaN 2003-07-01     NaT  Current  \n",
       "2                NaN 2003-07-01     NaT  Current  \n",
       "3                NaN 2003-07-01     NaT  Current  \n",
       "4                NaN 2003-07-01     NaT  Current  \n",
       "\n",
       "[5 rows x 25 columns]"
      ]
     },
     "execution_count": 162,
     "metadata": {},
     "output_type": "execute_result"
    }
   ],
   "source": [
    "import great_expectations as ge\n",
    "import pandas as pd\n",
    "import numpy as np\n",
    "#\n",
    "url = \"https://github.com/hnawaz007/pythondataanalysis/blob/main/ETL%20Pipeline/Pytest/Session%20one/Product.xlsx?raw=true\"\n",
    "# read from url\n",
    "df=pd.read_excel(url)\n",
    "df.head()"
   ]
  },
  {
   "cell_type": "code",
   "execution_count": 163,
   "metadata": {},
   "outputs": [
    {
     "data": {
      "text/plain": [
       "ProductKey               606\n",
       "ProductAlternateKey      606\n",
       "ProductSubcategoryKey    397\n",
       "WeightUnitMeasureCode    282\n",
       "SizeUnitMeasureCode      253\n",
       "EnglishProductName       606\n",
       "StandardCost             395\n",
       "FinishedGoodsFlag        606\n",
       "Color                    352\n",
       "SafetyStockLevel         606\n",
       "ReorderPoint             606\n",
       "ListPrice                395\n",
       "Size                     299\n",
       "SizeRange                299\n",
       "Weight                   282\n",
       "DaysToManufacture        606\n",
       "ProductLine              380\n",
       "DealerPrice              395\n",
       "Class                    330\n",
       "Style                    301\n",
       "ModelName                397\n",
       "EnglishDescription       396\n",
       "StartDate                606\n",
       "EndDate                  200\n",
       "Status                   406\n",
       "dtype: int64"
      ]
     },
     "execution_count": 163,
     "metadata": {},
     "output_type": "execute_result"
    }
   ],
   "source": [
    "df.count()"
   ]
  },
  {
   "cell_type": "code",
   "execution_count": 164,
   "metadata": {},
   "outputs": [
    {
     "data": {
      "text/plain": [
       "great_expectations.dataset.pandas_dataset.PandasDataset"
      ]
     },
     "execution_count": 164,
     "metadata": {},
     "output_type": "execute_result"
    }
   ],
   "source": [
    "my_df = ge.from_pandas(df)\n",
    "type(my_df)"
   ]
  },
  {
   "cell_type": "code",
   "execution_count": 167,
   "metadata": {},
   "outputs": [
    {
     "data": {
      "text/plain": [
       "{\n",
       "  \"success\": true,\n",
       "  \"result\": {\n",
       "    \"observed_value\": [\n",
       "      \"M \",\n",
       "      \"R \",\n",
       "      \"S \",\n",
       "      \"T \"\n",
       "    ],\n",
       "    \"element_count\": 606,\n",
       "    \"missing_count\": 226,\n",
       "    \"missing_percent\": 37.29372937293729\n",
       "  },\n",
       "  \"meta\": {},\n",
       "  \"exception_info\": {\n",
       "    \"raised_exception\": false,\n",
       "    \"exception_traceback\": null,\n",
       "    \"exception_message\": null\n",
       "  }\n",
       "}"
      ]
     },
     "execution_count": 167,
     "metadata": {},
     "output_type": "execute_result"
    }
   ],
   "source": [
    "my_df.expect_column_distinct_values_to_be_in_set(\"ProductLine\", ['R ', 'S ', 'M ', 'T ','ssdasda'])\n"
   ]
  },
  {
   "cell_type": "markdown",
   "metadata": {},
   "source": [
    "#### **GE Data Quality Tests**"
   ]
  },
  {
   "cell_type": "code",
   "execution_count": null,
   "metadata": {},
   "outputs": [],
   "source": []
  },
  {
   "cell_type": "code",
   "execution_count": 165,
   "metadata": {},
   "outputs": [
    {
     "data": {
      "text/plain": [
       "{\n",
       "  \"success\": false,\n",
       "  \"result\": {\n",
       "    \"observed_value\": 606\n",
       "  },\n",
       "  \"meta\": {},\n",
       "  \"exception_info\": {\n",
       "    \"raised_exception\": false,\n",
       "    \"exception_traceback\": null,\n",
       "    \"exception_message\": null\n",
       "  }\n",
       "}"
      ]
     },
     "execution_count": 165,
     "metadata": {},
     "output_type": "execute_result"
    }
   ],
   "source": [
    "# check number of rows in the dataset\n",
    "my_df.expect_table_row_count_to_equal(1000)"
   ]
  },
  {
   "cell_type": "markdown",
   "metadata": {},
   "source": [
    "#### **Primary Key Test**"
   ]
  },
  {
   "cell_type": "code",
   "execution_count": 89,
   "metadata": {},
   "outputs": [
    {
     "data": {
      "text/plain": [
       "{\n",
       "  \"success\": true,\n",
       "  \"result\": {},\n",
       "  \"meta\": {},\n",
       "  \"exception_info\": {\n",
       "    \"raised_exception\": false,\n",
       "    \"exception_traceback\": null,\n",
       "    \"exception_message\": null\n",
       "  }\n",
       "}"
      ]
     },
     "execution_count": 89,
     "metadata": {},
     "output_type": "execute_result"
    }
   ],
   "source": [
    "\n",
    "my_df.expect_column_to_exist('ProductKey')\n"
   ]
  },
  {
   "cell_type": "code",
   "execution_count": 90,
   "metadata": {},
   "outputs": [
    {
     "data": {
      "text/plain": [
       "{\n",
       "  \"success\": true,\n",
       "  \"result\": {\n",
       "    \"element_count\": 606,\n",
       "    \"missing_count\": 0,\n",
       "    \"missing_percent\": 0.0,\n",
       "    \"unexpected_count\": 0,\n",
       "    \"unexpected_percent\": 0.0,\n",
       "    \"unexpected_percent_total\": 0.0,\n",
       "    \"unexpected_percent_nonmissing\": 0.0,\n",
       "    \"partial_unexpected_list\": []\n",
       "  },\n",
       "  \"meta\": {},\n",
       "  \"exception_info\": {\n",
       "    \"raised_exception\": false,\n",
       "    \"exception_traceback\": null,\n",
       "    \"exception_message\": null\n",
       "  }\n",
       "}"
      ]
     },
     "execution_count": 90,
     "metadata": {},
     "output_type": "execute_result"
    }
   ],
   "source": [
    "my_df.expect_column_values_to_be_unique('ProductKey')"
   ]
  },
  {
   "cell_type": "code",
   "execution_count": 91,
   "metadata": {},
   "outputs": [
    {
     "data": {
      "text/plain": [
       "{\n",
       "  \"success\": true,\n",
       "  \"result\": {\n",
       "    \"element_count\": 606,\n",
       "    \"unexpected_count\": 0,\n",
       "    \"unexpected_percent\": 0.0,\n",
       "    \"unexpected_percent_total\": 0.0,\n",
       "    \"partial_unexpected_list\": []\n",
       "  },\n",
       "  \"meta\": {},\n",
       "  \"exception_info\": {\n",
       "    \"raised_exception\": false,\n",
       "    \"exception_traceback\": null,\n",
       "    \"exception_message\": null\n",
       "  }\n",
       "}"
      ]
     },
     "execution_count": 91,
     "metadata": {},
     "output_type": "execute_result"
    }
   ],
   "source": [
    "my_df.expect_column_values_to_not_be_null('ProductKey')"
   ]
  },
  {
   "cell_type": "code",
   "execution_count": 92,
   "metadata": {},
   "outputs": [
    {
     "data": {
      "text/plain": [
       "{\n",
       "  \"success\": false,\n",
       "  \"result\": {\n",
       "    \"observed_value\": \"int64\"\n",
       "  },\n",
       "  \"meta\": {},\n",
       "  \"exception_info\": {\n",
       "    \"raised_exception\": false,\n",
       "    \"exception_traceback\": null,\n",
       "    \"exception_message\": null\n",
       "  }\n",
       "}"
      ]
     },
     "execution_count": 92,
     "metadata": {},
     "output_type": "execute_result"
    }
   ],
   "source": [
    "# column_values_to_be_in_type_list\n",
    "\n",
    "my_df.expect_column_values_to_be_in_type_list(\"ProductKey\", [\"str\"])"
   ]
  },
  {
   "cell_type": "code",
   "execution_count": 93,
   "metadata": {},
   "outputs": [
    {
     "data": {
      "text/plain": [
       "{\n",
       "  \"success\": true,\n",
       "  \"result\": {\n",
       "    \"observed_value\": \"int64\"\n",
       "  },\n",
       "  \"meta\": {},\n",
       "  \"exception_info\": {\n",
       "    \"raised_exception\": false,\n",
       "    \"exception_traceback\": null,\n",
       "    \"exception_message\": null\n",
       "  }\n",
       "}"
      ]
     },
     "execution_count": 93,
     "metadata": {},
     "output_type": "execute_result"
    }
   ],
   "source": [
    "my_df.expect_column_values_to_be_in_type_list(\"ProductKey\", [\"int64\"])"
   ]
  },
  {
   "cell_type": "markdown",
   "metadata": {},
   "source": [
    "### **Test values in a set (list)**"
   ]
  },
  {
   "cell_type": "code",
   "execution_count": 96,
   "metadata": {},
   "outputs": [
    {
     "data": {
      "text/plain": [
       "array([nan, 'R ', 'S ', 'M ', 'T '], dtype=object)"
      ]
     },
     "execution_count": 96,
     "metadata": {},
     "output_type": "execute_result"
    }
   ],
   "source": [
    "my_df.ProductLine.unique()"
   ]
  },
  {
   "cell_type": "code",
   "execution_count": 102,
   "metadata": {},
   "outputs": [
    {
     "name": "stdout",
     "output_type": "stream",
     "text": [
      "Passed Model Name Check\n"
     ]
    }
   ],
   "source": [
    "if my_df.expect_column_values_to_be_in_set(column=\"ProductLine\", value_set=['R ', 'S ', 'M ', 'T ', 'AWD'])['success']:\n",
    "    print('Passed Model Name Check')\n",
    "else:\n",
    "    print('FAILED Model Name Check')\n",
    "\n",
    "\n",
    "    #my_df.expect_column_values_to_be_in_set(\"ProductLine\", ['R ', 'S ', 'M ', 'T ', 'AWD '])"
   ]
  },
  {
   "cell_type": "code",
   "execution_count": null,
   "metadata": {},
   "outputs": [],
   "source": []
  },
  {
   "cell_type": "code",
   "execution_count": 62,
   "metadata": {},
   "outputs": [
    {
     "ename": "ConfigNotFoundError",
     "evalue": "Error: No gx directory was found here!\n    - Please check that you are in the correct directory or have specified the correct directory.\n    - If you have never run Great Expectations in this project, please run `great_expectations init` to get started.\n",
     "output_type": "error",
     "traceback": [
      "\u001b[1;31m---------------------------------------------------------------------------\u001b[0m",
      "\u001b[1;31mFileNotFoundError\u001b[0m                         Traceback (most recent call last)",
      "File \u001b[1;32mc:\\Users\\zhang.yuan\\Miniconda3\\envs\\great_expectations\\lib\\site-packages\\great_expectations\\data_context\\data_context\\file_data_context.py:198\u001b[0m, in \u001b[0;36mFileDataContext._load_file_backed_project_config\u001b[1;34m(cls, context_root_directory)\u001b[0m\n\u001b[0;32m    197\u001b[0m \u001b[39mtry\u001b[39;00m:\n\u001b[1;32m--> 198\u001b[0m     \u001b[39mwith\u001b[39;00m \u001b[39mopen\u001b[39;49m(path_to_yml) \u001b[39mas\u001b[39;00m data:\n\u001b[0;32m    199\u001b[0m         config_commented_map_from_yaml \u001b[39m=\u001b[39m yaml\u001b[39m.\u001b[39mload(data)\n",
      "\u001b[1;31mFileNotFoundError\u001b[0m: [Errno 2] No such file or directory: 'c:\\\\path\\\\to\\\\great_expectations\\\\directory\\\\great_expectations.yml'",
      "\nDuring handling of the above exception, another exception occurred:\n",
      "\u001b[1;31mConfigNotFoundError\u001b[0m                       Traceback (most recent call last)",
      "\u001b[1;32mc:\\Users\\zhang.yuan\\Desktop\\Great_Expectations\\great_expectations.ipynb.ipynb Cell 16\u001b[0m line \u001b[0;36m9\n\u001b[0;32m      <a href='vscode-notebook-cell:/c%3A/Users/zhang.yuan/Desktop/Great_Expectations/great_expectations.ipynb.ipynb#X41sZmlsZQ%3D%3D?line=3'>4</a>\u001b[0m df \u001b[39m=\u001b[39m pd\u001b[39m.\u001b[39mDataFrame({\n\u001b[0;32m      <a href='vscode-notebook-cell:/c%3A/Users/zhang.yuan/Desktop/Great_Expectations/great_expectations.ipynb.ipynb#X41sZmlsZQ%3D%3D?line=4'>5</a>\u001b[0m     \u001b[39m'\u001b[39m\u001b[39mFruit_Type\u001b[39m\u001b[39m'\u001b[39m: [\u001b[39m'\u001b[39m\u001b[39mapple\u001b[39m\u001b[39m'\u001b[39m, \u001b[39m'\u001b[39m\u001b[39mbanana\u001b[39m\u001b[39m'\u001b[39m, \u001b[39m'\u001b[39m\u001b[39morange\u001b[39m\u001b[39m'\u001b[39m, \u001b[39m'\u001b[39m\u001b[39mgrape\u001b[39m\u001b[39m'\u001b[39m, \u001b[39m'\u001b[39m\u001b[39mkiwi\u001b[39m\u001b[39m'\u001b[39m, \u001b[39m'\u001b[39m\u001b[39mpear\u001b[39m\u001b[39m'\u001b[39m]\n\u001b[0;32m      <a href='vscode-notebook-cell:/c%3A/Users/zhang.yuan/Desktop/Great_Expectations/great_expectations.ipynb.ipynb#X41sZmlsZQ%3D%3D?line=5'>6</a>\u001b[0m })\n\u001b[0;32m      <a href='vscode-notebook-cell:/c%3A/Users/zhang.yuan/Desktop/Great_Expectations/great_expectations.ipynb.ipynb#X41sZmlsZQ%3D%3D?line=7'>8</a>\u001b[0m \u001b[39m# Create a Great Expectations DataContext\u001b[39;00m\n\u001b[1;32m----> <a href='vscode-notebook-cell:/c%3A/Users/zhang.yuan/Desktop/Great_Expectations/great_expectations.ipynb.ipynb#X41sZmlsZQ%3D%3D?line=8'>9</a>\u001b[0m context \u001b[39m=\u001b[39m ge\u001b[39m.\u001b[39;49mdata_context\u001b[39m.\u001b[39;49mDataContext(\u001b[39m\"\u001b[39;49m\u001b[39m/path/to/great_expectations/directory\u001b[39;49m\u001b[39m\"\u001b[39;49m)\n\u001b[0;32m     <a href='vscode-notebook-cell:/c%3A/Users/zhang.yuan/Desktop/Great_Expectations/great_expectations.ipynb.ipynb#X41sZmlsZQ%3D%3D?line=10'>11</a>\u001b[0m \u001b[39m# Define the set of allowed values\u001b[39;00m\n\u001b[0;32m     <a href='vscode-notebook-cell:/c%3A/Users/zhang.yuan/Desktop/Great_Expectations/great_expectations.ipynb.ipynb#X41sZmlsZQ%3D%3D?line=11'>12</a>\u001b[0m allowed_fruit_types \u001b[39m=\u001b[39m [\u001b[39m'\u001b[39m\u001b[39mapple\u001b[39m\u001b[39m'\u001b[39m, \u001b[39m'\u001b[39m\u001b[39mbanana\u001b[39m\u001b[39m'\u001b[39m, \u001b[39m'\u001b[39m\u001b[39morange\u001b[39m\u001b[39m'\u001b[39m, \u001b[39m'\u001b[39m\u001b[39mgrape\u001b[39m\u001b[39m'\u001b[39m]\n",
      "File \u001b[1;32mc:\\Users\\zhang.yuan\\Miniconda3\\envs\\great_expectations\\lib\\site-packages\\great_expectations\\data_context\\data_context\\data_context.py:129\u001b[0m, in \u001b[0;36mDataContext\u001b[1;34m(context_root_dir, runtime_environment, cloud_mode, cloud_base_url, cloud_access_token, cloud_organization_id)\u001b[0m\n\u001b[0;32m    125\u001b[0m     project_config \u001b[39m=\u001b[39m CloudDataContext\u001b[39m.\u001b[39m_load_cloud_backed_project_config(\n\u001b[0;32m    126\u001b[0m         cloud_config\u001b[39m=\u001b[39mcloud_config,\n\u001b[0;32m    127\u001b[0m     )\n\u001b[0;32m    128\u001b[0m \u001b[39melse\u001b[39;00m:\n\u001b[1;32m--> 129\u001b[0m     project_config \u001b[39m=\u001b[39m FileDataContext\u001b[39m.\u001b[39;49m_load_file_backed_project_config(\n\u001b[0;32m    130\u001b[0m         context_root_directory\u001b[39m=\u001b[39;49mcontext_root_directory,\n\u001b[0;32m    131\u001b[0m     )\n\u001b[0;32m    133\u001b[0m context \u001b[39m=\u001b[39m BaseDataContext(\n\u001b[0;32m    134\u001b[0m     project_config\u001b[39m=\u001b[39mproject_config,\n\u001b[0;32m    135\u001b[0m     context_root_dir\u001b[39m=\u001b[39mcontext_root_directory,\n\u001b[1;32m   (...)\u001b[0m\n\u001b[0;32m    138\u001b[0m     cloud_config\u001b[39m=\u001b[39mcloud_config,\n\u001b[0;32m    139\u001b[0m )\n\u001b[0;32m    141\u001b[0m \u001b[39m# # Save project config if data_context_id auto-generated\u001b[39;00m\n",
      "File \u001b[1;32mc:\\Users\\zhang.yuan\\Miniconda3\\envs\\great_expectations\\lib\\site-packages\\great_expectations\\data_context\\data_context\\file_data_context.py:212\u001b[0m, in \u001b[0;36mFileDataContext._load_file_backed_project_config\u001b[1;34m(cls, context_root_directory)\u001b[0m\n\u001b[0;32m    206\u001b[0m     \u001b[39mraise\u001b[39;00m gx_exceptions\u001b[39m.\u001b[39mInvalidConfigurationYamlError(\n\u001b[0;32m    207\u001b[0m         \u001b[39m\"\u001b[39m\u001b[39mYour configuration file is not a valid yml file likely due to a yml syntax error:\u001b[39m\u001b[39m\\n\u001b[39;00m\u001b[39m\\n\u001b[39;00m\u001b[39m{}\u001b[39;00m\u001b[39m\"\u001b[39m\u001b[39m.\u001b[39mformat(\n\u001b[0;32m    208\u001b[0m             err\n\u001b[0;32m    209\u001b[0m         )\n\u001b[0;32m    210\u001b[0m     )\n\u001b[0;32m    211\u001b[0m \u001b[39mexcept\u001b[39;00m \u001b[39mOSError\u001b[39;00m:\n\u001b[1;32m--> 212\u001b[0m     \u001b[39mraise\u001b[39;00m gx_exceptions\u001b[39m.\u001b[39mConfigNotFoundError()\n\u001b[0;32m    214\u001b[0m \u001b[39mtry\u001b[39;00m:\n\u001b[0;32m    215\u001b[0m     \u001b[39mreturn\u001b[39;00m DataContextConfig\u001b[39m.\u001b[39mfrom_commented_map(\n\u001b[0;32m    216\u001b[0m         commented_map\u001b[39m=\u001b[39mconfig_commented_map_from_yaml\n\u001b[0;32m    217\u001b[0m     )\n",
      "\u001b[1;31mConfigNotFoundError\u001b[0m: Error: No gx directory was found here!\n    - Please check that you are in the correct directory or have specified the correct directory.\n    - If you have never run Great Expectations in this project, please run `great_expectations init` to get started.\n"
     ]
    }
   ],
   "source": [
    "import great_expectations as ge\n",
    "\n",
    "# Assuming you have a Pandas DataFrame called df\n",
    "df = pd.DataFrame({\n",
    "    'Fruit_Type': ['apple', 'banana', 'orange', 'grape', 'kiwi', 'pear']\n",
    "})\n",
    "\n",
    "# Create a Great Expectations DataContext\n",
    "context = ge.data_context.DataContext(\"/path/to/great_expectations/directory\")\n",
    "\n",
    "# Define the set of allowed values\n",
    "allowed_fruit_types = ['apple', 'banana', 'orange', 'grape']\n",
    "\n",
    "# Set the expectation\n",
    "expectation = context.expect_column_values_to_be_in_set(\n",
    "    column='Fruit_Type',\n",
    "    value_set=allowed_fruit_types,\n",
    "    mostly=0.95  # You can specify the \"mostly\" parameter to allow a certain tolerance\n",
    ")\n",
    "\n",
    "# Validate the expectation\n",
    "results = context.run(expectation, df)\n",
    "\n",
    "# Check the results\n",
    "if results['success']:\n",
    "    print(\"The data meets the expectation.\")\n",
    "else:\n",
    "    print(\"The data does not meet the expectation.\")"
   ]
  },
  {
   "cell_type": "code",
   "execution_count": 51,
   "metadata": {},
   "outputs": [
    {
     "data": {
      "text/plain": [
       "array([nan, 'R ', 'S ', 'M ', 'T '], dtype=object)"
      ]
     },
     "execution_count": 51,
     "metadata": {},
     "output_type": "execute_result"
    }
   ],
   "source": [
    "df.ProductLine.unique()"
   ]
  },
  {
   "cell_type": "code",
   "execution_count": 52,
   "metadata": {},
   "outputs": [
    {
     "data": {
      "text/plain": [
       "{\n",
       "  \"success\": true,\n",
       "  \"result\": {\n",
       "    \"element_count\": 606,\n",
       "    \"missing_count\": 226,\n",
       "    \"missing_percent\": 37.29372937293729,\n",
       "    \"unexpected_count\": 0,\n",
       "    \"unexpected_percent\": 0.0,\n",
       "    \"unexpected_percent_total\": 0.0,\n",
       "    \"unexpected_percent_nonmissing\": 0.0,\n",
       "    \"partial_unexpected_list\": []\n",
       "  },\n",
       "  \"meta\": {},\n",
       "  \"exception_info\": {\n",
       "    \"raised_exception\": false,\n",
       "    \"exception_traceback\": null,\n",
       "    \"exception_message\": null\n",
       "  }\n",
       "}"
      ]
     },
     "execution_count": 52,
     "metadata": {},
     "output_type": "execute_result"
    }
   ],
   "source": [
    "my_df.expect_column_values_to_be_in_set(\"ProductLine\", ['R ', 'S ', 'M ', 'T ', 'AWD '])"
   ]
  },
  {
   "cell_type": "code",
   "execution_count": 53,
   "metadata": {},
   "outputs": [
    {
     "data": {
      "text/plain": [
       "{\n",
       "  \"success\": false,\n",
       "  \"result\": {\n",
       "    \"element_count\": 606,\n",
       "    \"missing_count\": 226,\n",
       "    \"missing_percent\": 37.29372937293729,\n",
       "    \"unexpected_count\": 164,\n",
       "    \"unexpected_percent\": 43.15789473684211,\n",
       "    \"unexpected_percent_total\": 27.062706270627064,\n",
       "    \"unexpected_percent_nonmissing\": 43.15789473684211,\n",
       "    \"partial_unexpected_list\": [\n",
       "      \"M \",\n",
       "      \"M \",\n",
       "      \"M \",\n",
       "      \"M \",\n",
       "      \"M \",\n",
       "      \"M \",\n",
       "      \"M \",\n",
       "      \"M \",\n",
       "      \"M \",\n",
       "      \"M \",\n",
       "      \"M \",\n",
       "      \"M \",\n",
       "      \"M \",\n",
       "      \"M \",\n",
       "      \"M \",\n",
       "      \"M \",\n",
       "      \"M \",\n",
       "      \"M \",\n",
       "      \"M \",\n",
       "      \"M \"\n",
       "    ]\n",
       "  },\n",
       "  \"meta\": {},\n",
       "  \"exception_info\": {\n",
       "    \"raised_exception\": false,\n",
       "    \"exception_traceback\": null,\n",
       "    \"exception_message\": null\n",
       "  }\n",
       "}"
      ]
     },
     "execution_count": 53,
     "metadata": {},
     "output_type": "execute_result"
    }
   ],
   "source": [
    "my_df.expect_column_values_to_be_in_set(\"ProductLine\", ['R ', 'S '])"
   ]
  },
  {
   "cell_type": "code",
   "execution_count": 54,
   "metadata": {},
   "outputs": [
    {
     "data": {
      "text/plain": [
       "{\n",
       "  \"success\": true,\n",
       "  \"result\": {\n",
       "    \"element_count\": 606,\n",
       "    \"missing_count\": 226,\n",
       "    \"missing_percent\": 37.29372937293729,\n",
       "    \"unexpected_count\": 0,\n",
       "    \"unexpected_percent\": 0.0,\n",
       "    \"unexpected_percent_total\": 0.0,\n",
       "    \"unexpected_percent_nonmissing\": 0.0,\n",
       "    \"partial_unexpected_list\": []\n",
       "  },\n",
       "  \"meta\": {},\n",
       "  \"exception_info\": {\n",
       "    \"raised_exception\": false,\n",
       "    \"exception_traceback\": null,\n",
       "    \"exception_message\": null\n",
       "  }\n",
       "}"
      ]
     },
     "execution_count": 54,
     "metadata": {},
     "output_type": "execute_result"
    }
   ],
   "source": [
    "my_df.expect_column_values_to_be_in_set(\"ProductLine\", ['R ', 'S ', 'M ', 'T '])"
   ]
  },
  {
   "cell_type": "markdown",
   "metadata": {},
   "source": [
    "### **Color Test values in a set (list)**"
   ]
  },
  {
   "cell_type": "code",
   "execution_count": 57,
   "metadata": {},
   "outputs": [
    {
     "data": {
      "text/plain": [
       "array([nan, 'Black', 'Silver', 'Red', 'White', 'Blue', 'Multi', 'Yellow',\n",
       "       'Grey', 'Silver/Black'], dtype=object)"
      ]
     },
     "execution_count": 57,
     "metadata": {},
     "output_type": "execute_result"
    }
   ],
   "source": [
    "df.Color.unique()"
   ]
  },
  {
   "cell_type": "code",
   "execution_count": 32,
   "metadata": {},
   "outputs": [
    {
     "data": {
      "text/plain": [
       "{\n",
       "  \"success\": false,\n",
       "  \"result\": {\n",
       "    \"element_count\": 606,\n",
       "    \"missing_count\": 254,\n",
       "    \"missing_percent\": 41.914191419141915,\n",
       "    \"unexpected_count\": 104,\n",
       "    \"unexpected_percent\": 29.545454545454547,\n",
       "    \"unexpected_percent_total\": 17.16171617161716,\n",
       "    \"unexpected_percent_nonmissing\": 29.545454545454547,\n",
       "    \"partial_unexpected_list\": [\n",
       "      \"White\",\n",
       "      \"White\",\n",
       "      \"Blue\",\n",
       "      \"Blue\",\n",
       "      \"Blue\",\n",
       "      \"Multi\",\n",
       "      \"Multi\",\n",
       "      \"Multi\",\n",
       "      \"Multi\",\n",
       "      \"Multi\",\n",
       "      \"Multi\",\n",
       "      \"Multi\",\n",
       "      \"Multi\",\n",
       "      \"Multi\",\n",
       "      \"Multi\",\n",
       "      \"Multi\",\n",
       "      \"Multi\",\n",
       "      \"Multi\",\n",
       "      \"Multi\",\n",
       "      \"Multi\"\n",
       "    ]\n",
       "  },\n",
       "  \"meta\": {},\n",
       "  \"exception_info\": {\n",
       "    \"raised_exception\": false,\n",
       "    \"exception_traceback\": null,\n",
       "    \"exception_message\": null\n",
       "  }\n",
       "}"
      ]
     },
     "execution_count": 32,
     "metadata": {},
     "output_type": "execute_result"
    }
   ],
   "source": [
    "my_df.expect_column_values_to_be_in_set(\"Color\", [ 'Black', 'Silver', 'Red'])"
   ]
  },
  {
   "cell_type": "code",
   "execution_count": 59,
   "metadata": {},
   "outputs": [
    {
     "data": {
      "text/plain": [
       "{\n",
       "  \"success\": true,\n",
       "  \"result\": {\n",
       "    \"element_count\": 606,\n",
       "    \"missing_count\": 254,\n",
       "    \"missing_percent\": 41.914191419141915,\n",
       "    \"unexpected_count\": 0,\n",
       "    \"unexpected_percent\": 0.0,\n",
       "    \"unexpected_percent_total\": 0.0,\n",
       "    \"unexpected_percent_nonmissing\": 0.0,\n",
       "    \"partial_unexpected_list\": []\n",
       "  },\n",
       "  \"meta\": {},\n",
       "  \"exception_info\": {\n",
       "    \"raised_exception\": false,\n",
       "    \"exception_traceback\": null,\n",
       "    \"exception_message\": null\n",
       "  }\n",
       "}"
      ]
     },
     "execution_count": 59,
     "metadata": {},
     "output_type": "execute_result"
    }
   ],
   "source": [
    "my_df.expect_column_values_to_be_in_set(\"Color\", ['nan', 'Black', 'Silver', 'Red', 'White', 'Blue', 'Multi', 'Yellow', 'Grey', 'Silver/Black'])"
   ]
  },
  {
   "cell_type": "code",
   "execution_count": 61,
   "metadata": {},
   "outputs": [
    {
     "data": {
      "text/plain": [
       "{\n",
       "  \"success\": false,\n",
       "  \"result\": {\n",
       "    \"element_count\": 606,\n",
       "    \"missing_count\": 254,\n",
       "    \"missing_percent\": 41.914191419141915,\n",
       "    \"unexpected_count\": 7,\n",
       "    \"unexpected_percent\": 1.9886363636363635,\n",
       "    \"unexpected_percent_total\": 1.155115511551155,\n",
       "    \"unexpected_percent_nonmissing\": 1.9886363636363635,\n",
       "    \"partial_unexpected_list\": [\n",
       "      \"Silver/Black\",\n",
       "      \"Silver/Black\",\n",
       "      \"Silver/Black\",\n",
       "      \"Silver/Black\",\n",
       "      \"Silver/Black\",\n",
       "      \"Silver/Black\",\n",
       "      \"Silver/Black\"\n",
       "    ]\n",
       "  },\n",
       "  \"meta\": {},\n",
       "  \"exception_info\": {\n",
       "    \"raised_exception\": false,\n",
       "    \"exception_traceback\": null,\n",
       "    \"exception_message\": null\n",
       "  }\n",
       "}"
      ]
     },
     "execution_count": 61,
     "metadata": {},
     "output_type": "execute_result"
    }
   ],
   "source": [
    "my_df.expect_column_values_to_be_in_set(\"Color\", ['Black', 'Silver', 'Red', 'White', 'Blue', 'Multi', 'Yellow', 'Grey'])"
   ]
  },
  {
   "cell_type": "code",
   "execution_count": 80,
   "metadata": {},
   "outputs": [
    {
     "data": {
      "text/plain": [
       "{\n",
       "  \"success\": false,\n",
       "  \"result\": {\n",
       "    \"observed_value\": [\n",
       "      1,\n",
       "      2\n",
       "    ],\n",
       "    \"element_count\": 2,\n",
       "    \"missing_count\": null,\n",
       "    \"missing_percent\": null\n",
       "  },\n",
       "  \"meta\": {},\n",
       "  \"exception_info\": {\n",
       "    \"raised_exception\": false,\n",
       "    \"exception_traceback\": null,\n",
       "    \"exception_message\": null\n",
       "  }\n",
       "}"
      ]
     },
     "execution_count": 80,
     "metadata": {},
     "output_type": "execute_result"
    }
   ],
   "source": [
    "import great_expectations as ge\n",
    "import pandas as pd \n",
    "\n",
    "test_df = ge.from_pandas(pd.DataFrame({\"a\": [1, 2]}))\n",
    "test_df.expect_column_distinct_values_to_contain_set(\"a\", [1, 5])"
   ]
  },
  {
   "cell_type": "code",
   "execution_count": 81,
   "metadata": {},
   "outputs": [],
   "source": [
    "my_df.my_col = [1,2,2,3,3,3]"
   ]
  },
  {
   "cell_type": "code",
   "execution_count": 83,
   "metadata": {},
   "outputs": [
    {
     "ename": "KeyError",
     "evalue": "'my_col'",
     "output_type": "error",
     "traceback": [
      "\u001b[1;31m---------------------------------------------------------------------------\u001b[0m",
      "\u001b[1;31mKeyError\u001b[0m                                  Traceback (most recent call last)",
      "File \u001b[1;32mc:\\Users\\zhang.yuan\\Miniconda3\\envs\\great_expectations\\lib\\site-packages\\pandas\\core\\indexes\\base.py:3653\u001b[0m, in \u001b[0;36mIndex.get_loc\u001b[1;34m(self, key)\u001b[0m\n\u001b[0;32m   3652\u001b[0m \u001b[39mtry\u001b[39;00m:\n\u001b[1;32m-> 3653\u001b[0m     \u001b[39mreturn\u001b[39;00m \u001b[39mself\u001b[39;49m\u001b[39m.\u001b[39;49m_engine\u001b[39m.\u001b[39;49mget_loc(casted_key)\n\u001b[0;32m   3654\u001b[0m \u001b[39mexcept\u001b[39;00m \u001b[39mKeyError\u001b[39;00m \u001b[39mas\u001b[39;00m err:\n",
      "File \u001b[1;32mc:\\Users\\zhang.yuan\\Miniconda3\\envs\\great_expectations\\lib\\site-packages\\pandas\\_libs\\index.pyx:147\u001b[0m, in \u001b[0;36mpandas._libs.index.IndexEngine.get_loc\u001b[1;34m()\u001b[0m\n",
      "File \u001b[1;32mc:\\Users\\zhang.yuan\\Miniconda3\\envs\\great_expectations\\lib\\site-packages\\pandas\\_libs\\index.pyx:176\u001b[0m, in \u001b[0;36mpandas._libs.index.IndexEngine.get_loc\u001b[1;34m()\u001b[0m\n",
      "File \u001b[1;32mpandas\\_libs\\hashtable_class_helper.pxi:7080\u001b[0m, in \u001b[0;36mpandas._libs.hashtable.PyObjectHashTable.get_item\u001b[1;34m()\u001b[0m\n",
      "File \u001b[1;32mpandas\\_libs\\hashtable_class_helper.pxi:7088\u001b[0m, in \u001b[0;36mpandas._libs.hashtable.PyObjectHashTable.get_item\u001b[1;34m()\u001b[0m\n",
      "\u001b[1;31mKeyError\u001b[0m: 'my_col'",
      "\nThe above exception was the direct cause of the following exception:\n",
      "\u001b[1;31mKeyError\u001b[0m                                  Traceback (most recent call last)",
      "\u001b[1;32mc:\\Users\\zhang.yuan\\Desktop\\Great_Expectations\\great_expectations.ipynb.ipynb Cell 30\u001b[0m line \u001b[0;36m1\n\u001b[1;32m----> <a href='vscode-notebook-cell:/c%3A/Users/zhang.yuan/Desktop/Great_Expectations/great_expectations.ipynb.ipynb#X50sZmlsZQ%3D%3D?line=0'>1</a>\u001b[0m my_df\u001b[39m.\u001b[39;49mexpect_column_values_to_be_in_set(\u001b[39m\"\u001b[39;49m\u001b[39mmy_col\u001b[39;49m\u001b[39m\"\u001b[39;49m, [\u001b[39m2\u001b[39;49m,\u001b[39m3\u001b[39;49m])\n",
      "File \u001b[1;32mc:\\Users\\zhang.yuan\\Miniconda3\\envs\\great_expectations\\lib\\site-packages\\great_expectations\\data_asset\\util.py:78\u001b[0m, in \u001b[0;36mDocInherit.__get__.<locals>.f\u001b[1;34m(*args, **kwargs)\u001b[0m\n\u001b[0;32m     76\u001b[0m \u001b[39m@wraps\u001b[39m(\u001b[39mself\u001b[39m\u001b[39m.\u001b[39mmthd, assigned\u001b[39m=\u001b[39m(\u001b[39m\"\u001b[39m\u001b[39m__name__\u001b[39m\u001b[39m\"\u001b[39m, \u001b[39m\"\u001b[39m\u001b[39m__module__\u001b[39m\u001b[39m\"\u001b[39m))\n\u001b[0;32m     77\u001b[0m \u001b[39mdef\u001b[39;00m \u001b[39mf\u001b[39m(\u001b[39m*\u001b[39margs, \u001b[39m*\u001b[39m\u001b[39m*\u001b[39mkwargs):\n\u001b[1;32m---> 78\u001b[0m     \u001b[39mreturn\u001b[39;00m \u001b[39mself\u001b[39;49m\u001b[39m.\u001b[39;49mmthd(obj, \u001b[39m*\u001b[39;49margs, \u001b[39m*\u001b[39;49m\u001b[39m*\u001b[39;49mkwargs)\n",
      "File \u001b[1;32mc:\\Users\\zhang.yuan\\Miniconda3\\envs\\great_expectations\\lib\\site-packages\\great_expectations\\data_asset\\data_asset.py:254\u001b[0m, in \u001b[0;36mDataAsset.expectation.<locals>.outer_wrapper.<locals>.wrapper\u001b[1;34m(self, *args, **kwargs)\u001b[0m\n\u001b[0;32m    251\u001b[0m             return_obj \u001b[39m=\u001b[39m ExpectationValidationResult(success\u001b[39m=\u001b[39m\u001b[39mFalse\u001b[39;00m)\n\u001b[0;32m    253\u001b[0m         \u001b[39melse\u001b[39;00m:\n\u001b[1;32m--> 254\u001b[0m             \u001b[39mraise\u001b[39;00m err\n\u001b[0;32m    256\u001b[0m \u001b[39melse\u001b[39;00m:\n\u001b[0;32m    257\u001b[0m     return_obj \u001b[39m=\u001b[39m ExpectationValidationResult(\n\u001b[0;32m    258\u001b[0m         expectation_config\u001b[39m=\u001b[39mcopy\u001b[39m.\u001b[39mdeepcopy(expectation_config)\n\u001b[0;32m    259\u001b[0m     )\n",
      "File \u001b[1;32mc:\\Users\\zhang.yuan\\Miniconda3\\envs\\great_expectations\\lib\\site-packages\\great_expectations\\data_asset\\data_asset.py:241\u001b[0m, in \u001b[0;36mDataAsset.expectation.<locals>.outer_wrapper.<locals>.wrapper\u001b[1;34m(self, *args, **kwargs)\u001b[0m\n\u001b[0;32m    236\u001b[0m \u001b[39mif\u001b[39;00m (\n\u001b[0;32m    237\u001b[0m     \u001b[39mself\u001b[39m\u001b[39m.\u001b[39m_config\u001b[39m.\u001b[39mget(\u001b[39m\"\u001b[39m\u001b[39minteractive_evaluation\u001b[39m\u001b[39m\"\u001b[39m, \u001b[39mTrue\u001b[39;00m)\n\u001b[0;32m    238\u001b[0m     \u001b[39mor\u001b[39;00m \u001b[39mself\u001b[39m\u001b[39m.\u001b[39m_active_validation\n\u001b[0;32m    239\u001b[0m ):\n\u001b[0;32m    240\u001b[0m     \u001b[39mtry\u001b[39;00m:\n\u001b[1;32m--> 241\u001b[0m         return_obj \u001b[39m=\u001b[39m func(\u001b[39mself\u001b[39;49m, \u001b[39m*\u001b[39;49m\u001b[39m*\u001b[39;49mevaluation_args)\n\u001b[0;32m    242\u001b[0m         \u001b[39mif\u001b[39;00m \u001b[39misinstance\u001b[39m(return_obj, \u001b[39mdict\u001b[39m):\n\u001b[0;32m    243\u001b[0m             return_obj \u001b[39m=\u001b[39m ExpectationValidationResult(\u001b[39m*\u001b[39m\u001b[39m*\u001b[39mreturn_obj)\n",
      "File \u001b[1;32mc:\\Users\\zhang.yuan\\Miniconda3\\envs\\great_expectations\\lib\\site-packages\\great_expectations\\dataset\\pandas_dataset.py:81\u001b[0m, in \u001b[0;36mMetaPandasDataset.column_map_expectation.<locals>.inner_wrapper\u001b[1;34m(self, column, mostly, result_format, row_condition, condition_parser, *args, **kwargs)\u001b[0m\n\u001b[0;32m     78\u001b[0m \u001b[39melse\u001b[39;00m:\n\u001b[0;32m     79\u001b[0m     data \u001b[39m=\u001b[39m \u001b[39mself\u001b[39m\n\u001b[1;32m---> 81\u001b[0m series \u001b[39m=\u001b[39m data[column]\n\u001b[0;32m     83\u001b[0m func_args \u001b[39m=\u001b[39m inspect\u001b[39m.\u001b[39mgetfullargspec(func)[\u001b[39m0\u001b[39m][\u001b[39m1\u001b[39m:]\n\u001b[0;32m     84\u001b[0m \u001b[39mif\u001b[39;00m (\n\u001b[0;32m     85\u001b[0m     \u001b[39m\"\u001b[39m\u001b[39mparse_strings_as_datetimes\u001b[39m\u001b[39m\"\u001b[39m \u001b[39min\u001b[39;00m func_args\n\u001b[0;32m     86\u001b[0m     \u001b[39mand\u001b[39;00m pd\u001b[39m.\u001b[39mapi\u001b[39m.\u001b[39mtypes\u001b[39m.\u001b[39mis_datetime64_any_dtype(series)\n\u001b[0;32m     87\u001b[0m ):\n",
      "File \u001b[1;32mc:\\Users\\zhang.yuan\\Miniconda3\\envs\\great_expectations\\lib\\site-packages\\pandas\\core\\frame.py:3761\u001b[0m, in \u001b[0;36mDataFrame.__getitem__\u001b[1;34m(self, key)\u001b[0m\n\u001b[0;32m   3759\u001b[0m \u001b[39mif\u001b[39;00m \u001b[39mself\u001b[39m\u001b[39m.\u001b[39mcolumns\u001b[39m.\u001b[39mnlevels \u001b[39m>\u001b[39m \u001b[39m1\u001b[39m:\n\u001b[0;32m   3760\u001b[0m     \u001b[39mreturn\u001b[39;00m \u001b[39mself\u001b[39m\u001b[39m.\u001b[39m_getitem_multilevel(key)\n\u001b[1;32m-> 3761\u001b[0m indexer \u001b[39m=\u001b[39m \u001b[39mself\u001b[39;49m\u001b[39m.\u001b[39;49mcolumns\u001b[39m.\u001b[39;49mget_loc(key)\n\u001b[0;32m   3762\u001b[0m \u001b[39mif\u001b[39;00m is_integer(indexer):\n\u001b[0;32m   3763\u001b[0m     indexer \u001b[39m=\u001b[39m [indexer]\n",
      "File \u001b[1;32mc:\\Users\\zhang.yuan\\Miniconda3\\envs\\great_expectations\\lib\\site-packages\\pandas\\core\\indexes\\base.py:3655\u001b[0m, in \u001b[0;36mIndex.get_loc\u001b[1;34m(self, key)\u001b[0m\n\u001b[0;32m   3653\u001b[0m     \u001b[39mreturn\u001b[39;00m \u001b[39mself\u001b[39m\u001b[39m.\u001b[39m_engine\u001b[39m.\u001b[39mget_loc(casted_key)\n\u001b[0;32m   3654\u001b[0m \u001b[39mexcept\u001b[39;00m \u001b[39mKeyError\u001b[39;00m \u001b[39mas\u001b[39;00m err:\n\u001b[1;32m-> 3655\u001b[0m     \u001b[39mraise\u001b[39;00m \u001b[39mKeyError\u001b[39;00m(key) \u001b[39mfrom\u001b[39;00m \u001b[39merr\u001b[39;00m\n\u001b[0;32m   3656\u001b[0m \u001b[39mexcept\u001b[39;00m \u001b[39mTypeError\u001b[39;00m:\n\u001b[0;32m   3657\u001b[0m     \u001b[39m# If we have a listlike key, _check_indexing_error will raise\u001b[39;00m\n\u001b[0;32m   3658\u001b[0m     \u001b[39m#  InvalidIndexError. Otherwise we fall through and re-raise\u001b[39;00m\n\u001b[0;32m   3659\u001b[0m     \u001b[39m#  the TypeError.\u001b[39;00m\n\u001b[0;32m   3660\u001b[0m     \u001b[39mself\u001b[39m\u001b[39m.\u001b[39m_check_indexing_error(key)\n",
      "\u001b[1;31mKeyError\u001b[0m: 'my_col'"
     ]
    }
   ],
   "source": [
    "my_df.expect_column_values_to_be_in_set(\"my_col\", [2,3])"
   ]
  },
  {
   "cell_type": "code",
   "execution_count": null,
   "metadata": {},
   "outputs": [],
   "source": [
    "my_df.expect_column_values_to_be_in_set(\"my_col\", [2,3]))\n",
    "  \"success\": false\n",
    "  \"result\": {\n",
    "    \"unexpected_count\": 1\n",
    "    \"unexpected_percent\": 16.66666666666666666,\n",
    "    \"unexpected_percent_nonmissing\": 16.66666666666666666,\n",
    "    \"partial_unexpected_list\": [\n",
    "      1\n",
    "    ],\n",
    "  },\n",
    "}"
   ]
  },
  {
   "cell_type": "code",
   "execution_count": null,
   "metadata": {},
   "outputs": [],
   "source": []
  },
  {
   "cell_type": "code",
   "execution_count": 116,
   "metadata": {},
   "outputs": [],
   "source": [
    "df = ge.read_csv(\n",
    "    \"https://raw.githubusercontent.com/datasciencedojo/datasets/master/titanic.csv\"\n",
    ")"
   ]
  },
  {
   "cell_type": "code",
   "execution_count": 117,
   "metadata": {},
   "outputs": [
    {
     "data": {
      "text/html": [
       "<div>\n",
       "<style scoped>\n",
       "    .dataframe tbody tr th:only-of-type {\n",
       "        vertical-align: middle;\n",
       "    }\n",
       "\n",
       "    .dataframe tbody tr th {\n",
       "        vertical-align: top;\n",
       "    }\n",
       "\n",
       "    .dataframe thead th {\n",
       "        text-align: right;\n",
       "    }\n",
       "</style>\n",
       "<table border=\"1\" class=\"dataframe\">\n",
       "  <thead>\n",
       "    <tr style=\"text-align: right;\">\n",
       "      <th></th>\n",
       "      <th>PassengerId</th>\n",
       "      <th>Survived</th>\n",
       "      <th>Pclass</th>\n",
       "      <th>Name</th>\n",
       "      <th>Sex</th>\n",
       "      <th>Age</th>\n",
       "      <th>SibSp</th>\n",
       "      <th>Parch</th>\n",
       "      <th>Ticket</th>\n",
       "      <th>Fare</th>\n",
       "      <th>Cabin</th>\n",
       "      <th>Embarked</th>\n",
       "    </tr>\n",
       "  </thead>\n",
       "  <tbody>\n",
       "    <tr>\n",
       "      <th>0</th>\n",
       "      <td>1</td>\n",
       "      <td>0</td>\n",
       "      <td>3</td>\n",
       "      <td>Braund, Mr. Owen Harris</td>\n",
       "      <td>male</td>\n",
       "      <td>22.0</td>\n",
       "      <td>1</td>\n",
       "      <td>0</td>\n",
       "      <td>A/5 21171</td>\n",
       "      <td>7.2500</td>\n",
       "      <td>NaN</td>\n",
       "      <td>S</td>\n",
       "    </tr>\n",
       "    <tr>\n",
       "      <th>1</th>\n",
       "      <td>2</td>\n",
       "      <td>1</td>\n",
       "      <td>1</td>\n",
       "      <td>Cumings, Mrs. John Bradley (Florence Briggs Th...</td>\n",
       "      <td>female</td>\n",
       "      <td>38.0</td>\n",
       "      <td>1</td>\n",
       "      <td>0</td>\n",
       "      <td>PC 17599</td>\n",
       "      <td>71.2833</td>\n",
       "      <td>C85</td>\n",
       "      <td>C</td>\n",
       "    </tr>\n",
       "    <tr>\n",
       "      <th>2</th>\n",
       "      <td>3</td>\n",
       "      <td>1</td>\n",
       "      <td>3</td>\n",
       "      <td>Heikkinen, Miss. Laina</td>\n",
       "      <td>female</td>\n",
       "      <td>26.0</td>\n",
       "      <td>0</td>\n",
       "      <td>0</td>\n",
       "      <td>STON/O2. 3101282</td>\n",
       "      <td>7.9250</td>\n",
       "      <td>NaN</td>\n",
       "      <td>S</td>\n",
       "    </tr>\n",
       "    <tr>\n",
       "      <th>3</th>\n",
       "      <td>4</td>\n",
       "      <td>1</td>\n",
       "      <td>1</td>\n",
       "      <td>Futrelle, Mrs. Jacques Heath (Lily May Peel)</td>\n",
       "      <td>female</td>\n",
       "      <td>35.0</td>\n",
       "      <td>1</td>\n",
       "      <td>0</td>\n",
       "      <td>113803</td>\n",
       "      <td>53.1000</td>\n",
       "      <td>C123</td>\n",
       "      <td>S</td>\n",
       "    </tr>\n",
       "    <tr>\n",
       "      <th>4</th>\n",
       "      <td>5</td>\n",
       "      <td>0</td>\n",
       "      <td>3</td>\n",
       "      <td>Allen, Mr. William Henry</td>\n",
       "      <td>male</td>\n",
       "      <td>35.0</td>\n",
       "      <td>0</td>\n",
       "      <td>0</td>\n",
       "      <td>373450</td>\n",
       "      <td>8.0500</td>\n",
       "      <td>NaN</td>\n",
       "      <td>S</td>\n",
       "    </tr>\n",
       "  </tbody>\n",
       "</table>\n",
       "</div>"
      ],
      "text/plain": [
       "   PassengerId  Survived  Pclass  \\\n",
       "0            1         0       3   \n",
       "1            2         1       1   \n",
       "2            3         1       3   \n",
       "3            4         1       1   \n",
       "4            5         0       3   \n",
       "\n",
       "                                                Name     Sex   Age  SibSp  \\\n",
       "0                            Braund, Mr. Owen Harris    male  22.0      1   \n",
       "1  Cumings, Mrs. John Bradley (Florence Briggs Th...  female  38.0      1   \n",
       "2                             Heikkinen, Miss. Laina  female  26.0      0   \n",
       "3       Futrelle, Mrs. Jacques Heath (Lily May Peel)  female  35.0      1   \n",
       "4                           Allen, Mr. William Henry    male  35.0      0   \n",
       "\n",
       "   Parch            Ticket     Fare Cabin Embarked  \n",
       "0      0         A/5 21171   7.2500   NaN        S  \n",
       "1      0          PC 17599  71.2833   C85        C  \n",
       "2      0  STON/O2. 3101282   7.9250   NaN        S  \n",
       "3      0            113803  53.1000  C123        S  \n",
       "4      0            373450   8.0500   NaN        S  "
      ]
     },
     "execution_count": 117,
     "metadata": {},
     "output_type": "execute_result"
    }
   ],
   "source": [
    "df.head()\n"
   ]
  },
  {
   "cell_type": "code",
   "execution_count": 118,
   "metadata": {},
   "outputs": [],
   "source": [
    "expect = df.expect_column_values_to_be_in_set(column=\"Survived\", value_set=[0, 1])\n",
    "assert expect.success"
   ]
  },
  {
   "cell_type": "code",
   "execution_count": 119,
   "metadata": {},
   "outputs": [
    {
     "data": {
      "text/plain": [
       "{\n",
       "  \"success\": true,\n",
       "  \"result\": {\n",
       "    \"element_count\": 891,\n",
       "    \"missing_count\": 0,\n",
       "    \"missing_percent\": 0.0,\n",
       "    \"unexpected_count\": 0,\n",
       "    \"unexpected_percent\": 0.0,\n",
       "    \"unexpected_percent_total\": 0.0,\n",
       "    \"unexpected_percent_nonmissing\": 0.0,\n",
       "    \"partial_unexpected_list\": []\n",
       "  },\n",
       "  \"meta\": {},\n",
       "  \"exception_info\": {\n",
       "    \"raised_exception\": false,\n",
       "    \"exception_traceback\": null,\n",
       "    \"exception_message\": null\n",
       "  }\n",
       "}"
      ]
     },
     "execution_count": 119,
     "metadata": {},
     "output_type": "execute_result"
    }
   ],
   "source": [
    "expect"
   ]
  },
  {
   "cell_type": "code",
   "execution_count": null,
   "metadata": {},
   "outputs": [],
   "source": [
    "my_df.expect_column_values_to_not_be_in_set(\n",
    "    \"my_col\",\n",
    "    [1,2]\n",
    ")\n",
    "{\n",
    "  \"success\": false\n",
    "  \"result\": {\n",
    "    \"unexpected_count\": 3\n",
    "    \"unexpected_percent\": 50.0,\n",
    "    \"unexpected_percent_nonmissing\": 50.0,\n",
    "    \"partial_unexpected_list\": [\n",
    "      1, 2, 2\n",
    "    ],\n",
    "  },\n",
    "}"
   ]
  },
  {
   "cell_type": "code",
   "execution_count": 158,
   "metadata": {},
   "outputs": [
    {
     "data": {
      "text/plain": [
       "{\n",
       "  \"success\": true,\n",
       "  \"result\": {\n",
       "    \"element_count\": 891,\n",
       "    \"missing_count\": 0,\n",
       "    \"missing_percent\": 0.0,\n",
       "    \"unexpected_count\": 0,\n",
       "    \"unexpected_percent\": 0.0,\n",
       "    \"unexpected_percent_total\": 0.0,\n",
       "    \"unexpected_percent_nonmissing\": 0.0,\n",
       "    \"partial_unexpected_list\": []\n",
       "  },\n",
       "  \"meta\": {},\n",
       "  \"exception_info\": {\n",
       "    \"raised_exception\": false,\n",
       "    \"exception_traceback\": null,\n",
       "    \"exception_message\": null\n",
       "  }\n",
       "}"
      ]
     },
     "execution_count": 158,
     "metadata": {},
     "output_type": "execute_result"
    }
   ],
   "source": [
    "\n",
    "df.expect_column_values_to_be_in_set(\"Sex\",[\"female\", \"male\"], \"dasdasd\",  mostly=0.01)\n"
   ]
  },
  {
   "cell_type": "code",
   "execution_count": 159,
   "metadata": {},
   "outputs": [],
   "source": [
    "import great_expectations as gx"
   ]
  },
  {
   "cell_type": "code",
   "execution_count": 160,
   "metadata": {},
   "outputs": [],
   "source": [
    "context = gx.get_context()"
   ]
  },
  {
   "cell_type": "code",
   "execution_count": 161,
   "metadata": {},
   "outputs": [
    {
     "ename": "URLError",
     "evalue": "<urlopen error [WinError 10054] Foi forçado o cancelamento de uma conexão existente pelo host remoto>",
     "output_type": "error",
     "traceback": [
      "\u001b[1;31m---------------------------------------------------------------------------\u001b[0m",
      "\u001b[1;31mConnectionResetError\u001b[0m                      Traceback (most recent call last)",
      "File \u001b[1;32mc:\\Users\\zhang.yuan\\Miniconda3\\envs\\great_expectations\\lib\\urllib\\request.py:1354\u001b[0m, in \u001b[0;36mAbstractHTTPHandler.do_open\u001b[1;34m(self, http_class, req, **http_conn_args)\u001b[0m\n\u001b[0;32m   1353\u001b[0m \u001b[39mtry\u001b[39;00m:\n\u001b[1;32m-> 1354\u001b[0m     h\u001b[39m.\u001b[39;49mrequest(req\u001b[39m.\u001b[39;49mget_method(), req\u001b[39m.\u001b[39;49mselector, req\u001b[39m.\u001b[39;49mdata, headers,\n\u001b[0;32m   1355\u001b[0m               encode_chunked\u001b[39m=\u001b[39;49mreq\u001b[39m.\u001b[39;49mhas_header(\u001b[39m'\u001b[39;49m\u001b[39mTransfer-encoding\u001b[39;49m\u001b[39m'\u001b[39;49m))\n\u001b[0;32m   1356\u001b[0m \u001b[39mexcept\u001b[39;00m \u001b[39mOSError\u001b[39;00m \u001b[39mas\u001b[39;00m err: \u001b[39m# timeout error\u001b[39;00m\n",
      "File \u001b[1;32mc:\\Users\\zhang.yuan\\Miniconda3\\envs\\great_expectations\\lib\\http\\client.py:1256\u001b[0m, in \u001b[0;36mHTTPConnection.request\u001b[1;34m(self, method, url, body, headers, encode_chunked)\u001b[0m\n\u001b[0;32m   1255\u001b[0m \u001b[39m\u001b[39m\u001b[39m\"\"\"Send a complete request to the server.\"\"\"\u001b[39;00m\n\u001b[1;32m-> 1256\u001b[0m \u001b[39mself\u001b[39;49m\u001b[39m.\u001b[39;49m_send_request(method, url, body, headers, encode_chunked)\n",
      "File \u001b[1;32mc:\\Users\\zhang.yuan\\Miniconda3\\envs\\great_expectations\\lib\\http\\client.py:1302\u001b[0m, in \u001b[0;36mHTTPConnection._send_request\u001b[1;34m(self, method, url, body, headers, encode_chunked)\u001b[0m\n\u001b[0;32m   1301\u001b[0m     body \u001b[39m=\u001b[39m _encode(body, \u001b[39m'\u001b[39m\u001b[39mbody\u001b[39m\u001b[39m'\u001b[39m)\n\u001b[1;32m-> 1302\u001b[0m \u001b[39mself\u001b[39;49m\u001b[39m.\u001b[39;49mendheaders(body, encode_chunked\u001b[39m=\u001b[39;49mencode_chunked)\n",
      "File \u001b[1;32mc:\\Users\\zhang.yuan\\Miniconda3\\envs\\great_expectations\\lib\\http\\client.py:1251\u001b[0m, in \u001b[0;36mHTTPConnection.endheaders\u001b[1;34m(self, message_body, encode_chunked)\u001b[0m\n\u001b[0;32m   1250\u001b[0m     \u001b[39mraise\u001b[39;00m CannotSendHeader()\n\u001b[1;32m-> 1251\u001b[0m \u001b[39mself\u001b[39;49m\u001b[39m.\u001b[39;49m_send_output(message_body, encode_chunked\u001b[39m=\u001b[39;49mencode_chunked)\n",
      "File \u001b[1;32mc:\\Users\\zhang.yuan\\Miniconda3\\envs\\great_expectations\\lib\\http\\client.py:1011\u001b[0m, in \u001b[0;36mHTTPConnection._send_output\u001b[1;34m(self, message_body, encode_chunked)\u001b[0m\n\u001b[0;32m   1010\u001b[0m \u001b[39mdel\u001b[39;00m \u001b[39mself\u001b[39m\u001b[39m.\u001b[39m_buffer[:]\n\u001b[1;32m-> 1011\u001b[0m \u001b[39mself\u001b[39;49m\u001b[39m.\u001b[39;49msend(msg)\n\u001b[0;32m   1013\u001b[0m \u001b[39mif\u001b[39;00m message_body \u001b[39mis\u001b[39;00m \u001b[39mnot\u001b[39;00m \u001b[39mNone\u001b[39;00m:\n\u001b[0;32m   1014\u001b[0m \n\u001b[0;32m   1015\u001b[0m     \u001b[39m# create a consistent interface to message_body\u001b[39;00m\n",
      "File \u001b[1;32mc:\\Users\\zhang.yuan\\Miniconda3\\envs\\great_expectations\\lib\\http\\client.py:951\u001b[0m, in \u001b[0;36mHTTPConnection.send\u001b[1;34m(self, data)\u001b[0m\n\u001b[0;32m    950\u001b[0m \u001b[39mif\u001b[39;00m \u001b[39mself\u001b[39m\u001b[39m.\u001b[39mauto_open:\n\u001b[1;32m--> 951\u001b[0m     \u001b[39mself\u001b[39;49m\u001b[39m.\u001b[39;49mconnect()\n\u001b[0;32m    952\u001b[0m \u001b[39melse\u001b[39;00m:\n",
      "File \u001b[1;32mc:\\Users\\zhang.yuan\\Miniconda3\\envs\\great_expectations\\lib\\http\\client.py:1425\u001b[0m, in \u001b[0;36mHTTPSConnection.connect\u001b[1;34m(self)\u001b[0m\n\u001b[0;32m   1423\u001b[0m     server_hostname \u001b[39m=\u001b[39m \u001b[39mself\u001b[39m\u001b[39m.\u001b[39mhost\n\u001b[1;32m-> 1425\u001b[0m \u001b[39mself\u001b[39m\u001b[39m.\u001b[39msock \u001b[39m=\u001b[39m \u001b[39mself\u001b[39;49m\u001b[39m.\u001b[39;49m_context\u001b[39m.\u001b[39;49mwrap_socket(\u001b[39mself\u001b[39;49m\u001b[39m.\u001b[39;49msock,\n\u001b[0;32m   1426\u001b[0m                                       server_hostname\u001b[39m=\u001b[39;49mserver_hostname)\n",
      "File \u001b[1;32mc:\\Users\\zhang.yuan\\Miniconda3\\envs\\great_expectations\\lib\\ssl.py:500\u001b[0m, in \u001b[0;36mSSLContext.wrap_socket\u001b[1;34m(self, sock, server_side, do_handshake_on_connect, suppress_ragged_eofs, server_hostname, session)\u001b[0m\n\u001b[0;32m    494\u001b[0m \u001b[39mdef\u001b[39;00m \u001b[39mwrap_socket\u001b[39m(\u001b[39mself\u001b[39m, sock, server_side\u001b[39m=\u001b[39m\u001b[39mFalse\u001b[39;00m,\n\u001b[0;32m    495\u001b[0m                 do_handshake_on_connect\u001b[39m=\u001b[39m\u001b[39mTrue\u001b[39;00m,\n\u001b[0;32m    496\u001b[0m                 suppress_ragged_eofs\u001b[39m=\u001b[39m\u001b[39mTrue\u001b[39;00m,\n\u001b[0;32m    497\u001b[0m                 server_hostname\u001b[39m=\u001b[39m\u001b[39mNone\u001b[39;00m, session\u001b[39m=\u001b[39m\u001b[39mNone\u001b[39;00m):\n\u001b[0;32m    498\u001b[0m     \u001b[39m# SSLSocket class handles server_hostname encoding before it calls\u001b[39;00m\n\u001b[0;32m    499\u001b[0m     \u001b[39m# ctx._wrap_socket()\u001b[39;00m\n\u001b[1;32m--> 500\u001b[0m     \u001b[39mreturn\u001b[39;00m \u001b[39mself\u001b[39;49m\u001b[39m.\u001b[39;49msslsocket_class\u001b[39m.\u001b[39;49m_create(\n\u001b[0;32m    501\u001b[0m         sock\u001b[39m=\u001b[39;49msock,\n\u001b[0;32m    502\u001b[0m         server_side\u001b[39m=\u001b[39;49mserver_side,\n\u001b[0;32m    503\u001b[0m         do_handshake_on_connect\u001b[39m=\u001b[39;49mdo_handshake_on_connect,\n\u001b[0;32m    504\u001b[0m         suppress_ragged_eofs\u001b[39m=\u001b[39;49msuppress_ragged_eofs,\n\u001b[0;32m    505\u001b[0m         server_hostname\u001b[39m=\u001b[39;49mserver_hostname,\n\u001b[0;32m    506\u001b[0m         context\u001b[39m=\u001b[39;49m\u001b[39mself\u001b[39;49m,\n\u001b[0;32m    507\u001b[0m         session\u001b[39m=\u001b[39;49msession\n\u001b[0;32m    508\u001b[0m     )\n",
      "File \u001b[1;32mc:\\Users\\zhang.yuan\\Miniconda3\\envs\\great_expectations\\lib\\ssl.py:1073\u001b[0m, in \u001b[0;36mSSLSocket._create\u001b[1;34m(cls, sock, server_side, do_handshake_on_connect, suppress_ragged_eofs, server_hostname, context, session)\u001b[0m\n\u001b[0;32m   1072\u001b[0m             \u001b[39mraise\u001b[39;00m \u001b[39mValueError\u001b[39;00m(\u001b[39m\"\u001b[39m\u001b[39mdo_handshake_on_connect should not be specified for non-blocking sockets\u001b[39m\u001b[39m\"\u001b[39m)\n\u001b[1;32m-> 1073\u001b[0m         \u001b[39mself\u001b[39;49m\u001b[39m.\u001b[39;49mdo_handshake()\n\u001b[0;32m   1074\u001b[0m \u001b[39mexcept\u001b[39;00m (\u001b[39mOSError\u001b[39;00m, \u001b[39mValueError\u001b[39;00m):\n",
      "File \u001b[1;32mc:\\Users\\zhang.yuan\\Miniconda3\\envs\\great_expectations\\lib\\ssl.py:1342\u001b[0m, in \u001b[0;36mSSLSocket.do_handshake\u001b[1;34m(self, block)\u001b[0m\n\u001b[0;32m   1341\u001b[0m         \u001b[39mself\u001b[39m\u001b[39m.\u001b[39msettimeout(\u001b[39mNone\u001b[39;00m)\n\u001b[1;32m-> 1342\u001b[0m     \u001b[39mself\u001b[39;49m\u001b[39m.\u001b[39;49m_sslobj\u001b[39m.\u001b[39;49mdo_handshake()\n\u001b[0;32m   1343\u001b[0m \u001b[39mfinally\u001b[39;00m:\n",
      "\u001b[1;31mConnectionResetError\u001b[0m: [WinError 10054] Foi forçado o cancelamento de uma conexão existente pelo host remoto",
      "\nDuring handling of the above exception, another exception occurred:\n",
      "\u001b[1;31mURLError\u001b[0m                                  Traceback (most recent call last)",
      "\u001b[1;32mc:\\Users\\zhang.yuan\\Desktop\\Great_Expectations\\great_expectations.ipynb.ipynb Cell 42\u001b[0m line \u001b[0;36m1\n\u001b[1;32m----> <a href='vscode-notebook-cell:/c%3A/Users/zhang.yuan/Desktop/Great_Expectations/great_expectations.ipynb.ipynb#Y102sZmlsZQ%3D%3D?line=0'>1</a>\u001b[0m validator \u001b[39m=\u001b[39m context\u001b[39m.\u001b[39;49msources\u001b[39m.\u001b[39;49mpandas_default\u001b[39m.\u001b[39;49mread_csv(\n\u001b[0;32m      <a href='vscode-notebook-cell:/c%3A/Users/zhang.yuan/Desktop/Great_Expectations/great_expectations.ipynb.ipynb#Y102sZmlsZQ%3D%3D?line=1'>2</a>\u001b[0m     \u001b[39m\"\u001b[39;49m\u001b[39mhttps://raw.githubusercontent.com/great-expectations/gx_tutorials/main/data/yellow_tripdata_sample_2019-01.csv\u001b[39;49m\u001b[39m\"\u001b[39;49m\n\u001b[0;32m      <a href='vscode-notebook-cell:/c%3A/Users/zhang.yuan/Desktop/Great_Expectations/great_expectations.ipynb.ipynb#Y102sZmlsZQ%3D%3D?line=2'>3</a>\u001b[0m )\n",
      "File \u001b[1;32mc:\\Users\\zhang.yuan\\Miniconda3\\envs\\great_expectations\\lib\\site-packages\\great_expectations\\datasource\\fluent\\pandas_datasource.py:800\u001b[0m, in \u001b[0;36mPandasDatasource.read_csv\u001b[1;34m(self, filepath_or_buffer, asset_name, **kwargs)\u001b[0m\n\u001b[0;32m    794\u001b[0m name: \u001b[39mstr\u001b[39m \u001b[39m=\u001b[39m \u001b[39mself\u001b[39m\u001b[39m.\u001b[39m_validate_asset_name(asset_name\u001b[39m=\u001b[39masset_name)\n\u001b[0;32m    795\u001b[0m asset: CSVAsset \u001b[39m=\u001b[39m \u001b[39mself\u001b[39m\u001b[39m.\u001b[39madd_csv_asset(  \u001b[39m# type: ignore[valid-type]\u001b[39;00m\n\u001b[0;32m    796\u001b[0m     name\u001b[39m=\u001b[39mname,\n\u001b[0;32m    797\u001b[0m     filepath_or_buffer\u001b[39m=\u001b[39mfilepath_or_buffer,\n\u001b[0;32m    798\u001b[0m     \u001b[39m*\u001b[39m\u001b[39m*\u001b[39mkwargs,\n\u001b[0;32m    799\u001b[0m )\n\u001b[1;32m--> 800\u001b[0m \u001b[39mreturn\u001b[39;00m \u001b[39mself\u001b[39;49m\u001b[39m.\u001b[39;49m_get_validator(asset\u001b[39m=\u001b[39;49masset)\n",
      "File \u001b[1;32mc:\\Users\\zhang.yuan\\Miniconda3\\envs\\great_expectations\\lib\\site-packages\\great_expectations\\datasource\\fluent\\pandas_datasource.py:649\u001b[0m, in \u001b[0;36mPandasDatasource._get_validator\u001b[1;34m(self, asset, dataframe)\u001b[0m\n\u001b[0;32m    646\u001b[0m     batch_request \u001b[39m=\u001b[39m asset\u001b[39m.\u001b[39mbuild_batch_request()\n\u001b[0;32m    648\u001b[0m \u001b[39m# TODO: raise error if `_data_context` not set\u001b[39;00m\n\u001b[1;32m--> 649\u001b[0m \u001b[39mreturn\u001b[39;00m \u001b[39mself\u001b[39;49m\u001b[39m.\u001b[39;49m_data_context\u001b[39m.\u001b[39;49mget_validator(batch_request\u001b[39m=\u001b[39;49mbatch_request)\n",
      "File \u001b[1;32mc:\\Users\\zhang.yuan\\Miniconda3\\envs\\great_expectations\\lib\\site-packages\\great_expectations\\data_context\\data_context\\abstract_data_context.py:2482\u001b[0m, in \u001b[0;36mAbstractDataContext.get_validator\u001b[1;34m(***failed resolving arguments***)\u001b[0m\n\u001b[0;32m   2478\u001b[0m         batch_request_list \u001b[39m=\u001b[39m [batch_request]  \u001b[39m# type: ignore[list-item]\u001b[39;00m\n\u001b[0;32m   2480\u001b[0m     \u001b[39mfor\u001b[39;00m batch_request \u001b[39min\u001b[39;00m batch_request_list:\n\u001b[0;32m   2481\u001b[0m         batch_list\u001b[39m.\u001b[39mextend(\n\u001b[1;32m-> 2482\u001b[0m             \u001b[39mself\u001b[39;49m\u001b[39m.\u001b[39;49mget_batch_list(\n\u001b[0;32m   2483\u001b[0m                 datasource_name\u001b[39m=\u001b[39;49mdatasource_name,\n\u001b[0;32m   2484\u001b[0m                 data_connector_name\u001b[39m=\u001b[39;49mdata_connector_name,\n\u001b[0;32m   2485\u001b[0m                 data_asset_name\u001b[39m=\u001b[39;49mdata_asset_name,\n\u001b[0;32m   2486\u001b[0m                 batch_request\u001b[39m=\u001b[39;49mbatch_request,\n\u001b[0;32m   2487\u001b[0m                 batch_data\u001b[39m=\u001b[39;49mbatch_data,\n\u001b[0;32m   2488\u001b[0m                 data_connector_query\u001b[39m=\u001b[39;49mdata_connector_query,\n\u001b[0;32m   2489\u001b[0m                 batch_identifiers\u001b[39m=\u001b[39;49mbatch_identifiers,\n\u001b[0;32m   2490\u001b[0m                 limit\u001b[39m=\u001b[39;49mlimit,\n\u001b[0;32m   2491\u001b[0m                 index\u001b[39m=\u001b[39;49mindex,\n\u001b[0;32m   2492\u001b[0m                 custom_filter_function\u001b[39m=\u001b[39;49mcustom_filter_function,\n\u001b[0;32m   2493\u001b[0m                 sampling_method\u001b[39m=\u001b[39;49msampling_method,\n\u001b[0;32m   2494\u001b[0m                 sampling_kwargs\u001b[39m=\u001b[39;49msampling_kwargs,\n\u001b[0;32m   2495\u001b[0m                 splitter_method\u001b[39m=\u001b[39;49msplitter_method,\n\u001b[0;32m   2496\u001b[0m                 splitter_kwargs\u001b[39m=\u001b[39;49msplitter_kwargs,\n\u001b[0;32m   2497\u001b[0m                 runtime_parameters\u001b[39m=\u001b[39;49mruntime_parameters,\n\u001b[0;32m   2498\u001b[0m                 query\u001b[39m=\u001b[39;49mquery,\n\u001b[0;32m   2499\u001b[0m                 path\u001b[39m=\u001b[39;49mpath,\n\u001b[0;32m   2500\u001b[0m                 batch_filter_parameters\u001b[39m=\u001b[39;49mbatch_filter_parameters,\n\u001b[0;32m   2501\u001b[0m                 batch_spec_passthrough\u001b[39m=\u001b[39;49mbatch_spec_passthrough,\n\u001b[0;32m   2502\u001b[0m                 \u001b[39m*\u001b[39;49m\u001b[39m*\u001b[39;49mkwargs,\n\u001b[0;32m   2503\u001b[0m             )\n\u001b[0;32m   2504\u001b[0m         )\n\u001b[0;32m   2506\u001b[0m \u001b[39mreturn\u001b[39;00m \u001b[39mself\u001b[39m\u001b[39m.\u001b[39mget_validator_using_batch_list(\n\u001b[0;32m   2507\u001b[0m     expectation_suite\u001b[39m=\u001b[39mexpectation_suite,  \u001b[39m# type: ignore[arg-type]\u001b[39;00m\n\u001b[0;32m   2508\u001b[0m     batch_list\u001b[39m=\u001b[39mbatch_list,\n\u001b[0;32m   2509\u001b[0m     include_rendered_content\u001b[39m=\u001b[39minclude_rendered_content,\n\u001b[0;32m   2510\u001b[0m )\n",
      "File \u001b[1;32mc:\\Users\\zhang.yuan\\Miniconda3\\envs\\great_expectations\\lib\\site-packages\\great_expectations\\core\\usage_statistics\\usage_statistics.py:260\u001b[0m, in \u001b[0;36musage_statistics_enabled_method.<locals>.usage_statistics_wrapped_method\u001b[1;34m(*args, **kwargs)\u001b[0m\n\u001b[0;32m    257\u001b[0m         args_payload \u001b[39m=\u001b[39m args_payload_fn(\u001b[39m*\u001b[39margs, \u001b[39m*\u001b[39m\u001b[39m*\u001b[39mkwargs) \u001b[39mor\u001b[39;00m {}\n\u001b[0;32m    258\u001b[0m         nested_update(event_payload, args_payload)\n\u001b[1;32m--> 260\u001b[0m     result \u001b[39m=\u001b[39m func(\u001b[39m*\u001b[39;49margs, \u001b[39m*\u001b[39;49m\u001b[39m*\u001b[39;49mkwargs)\n\u001b[0;32m    261\u001b[0m     message[\u001b[39m\"\u001b[39m\u001b[39msuccess\u001b[39m\u001b[39m\"\u001b[39m] \u001b[39m=\u001b[39m \u001b[39mTrue\u001b[39;00m\n\u001b[0;32m    262\u001b[0m \u001b[39mexcept\u001b[39;00m \u001b[39mException\u001b[39;00m:\n",
      "File \u001b[1;32mc:\\Users\\zhang.yuan\\Miniconda3\\envs\\great_expectations\\lib\\site-packages\\great_expectations\\data_context\\data_context\\abstract_data_context.py:2651\u001b[0m, in \u001b[0;36mAbstractDataContext.get_batch_list\u001b[1;34m(self, datasource_name, data_connector_name, data_asset_name, batch_request, batch_data, data_connector_query, batch_identifiers, limit, index, custom_filter_function, sampling_method, sampling_kwargs, splitter_method, splitter_kwargs, runtime_parameters, query, path, batch_filter_parameters, batch_spec_passthrough, batch_request_options, **kwargs)\u001b[0m\n\u001b[0;32m   2573\u001b[0m \u001b[39m@public_api\u001b[39m\n\u001b[0;32m   2574\u001b[0m \u001b[39m@usage_statistics_enabled_method\u001b[39m(\n\u001b[0;32m   2575\u001b[0m     event_name\u001b[39m=\u001b[39mUsageStatsEvents\u001b[39m.\u001b[39mDATA_CONTEXT_GET_BATCH_LIST,\n\u001b[1;32m   (...)\u001b[0m\n\u001b[0;32m   2600\u001b[0m     \u001b[39m*\u001b[39m\u001b[39m*\u001b[39mkwargs: Optional[\u001b[39mdict\u001b[39m],\n\u001b[0;32m   2601\u001b[0m ) \u001b[39m-\u001b[39m\u001b[39m>\u001b[39m List[Batch]:\n\u001b[0;32m   2602\u001b[0m \u001b[39m    \u001b[39m\u001b[39m\"\"\"Get the list of zero or more batches, based on a variety of flexible input types.\u001b[39;00m\n\u001b[0;32m   2603\u001b[0m \n\u001b[0;32m   2604\u001b[0m \u001b[39m    `get_batch_list` is the main user-facing API for getting batches.\u001b[39;00m\n\u001b[1;32m   (...)\u001b[0m\n\u001b[0;32m   2649\u001b[0m \n\u001b[0;32m   2650\u001b[0m \u001b[39m    \"\"\"\u001b[39;00m\n\u001b[1;32m-> 2651\u001b[0m     \u001b[39mreturn\u001b[39;00m \u001b[39mself\u001b[39;49m\u001b[39m.\u001b[39;49m_get_batch_list(\n\u001b[0;32m   2652\u001b[0m         datasource_name\u001b[39m=\u001b[39;49mdatasource_name,\n\u001b[0;32m   2653\u001b[0m         data_connector_name\u001b[39m=\u001b[39;49mdata_connector_name,\n\u001b[0;32m   2654\u001b[0m         data_asset_name\u001b[39m=\u001b[39;49mdata_asset_name,\n\u001b[0;32m   2655\u001b[0m         batch_request\u001b[39m=\u001b[39;49mbatch_request,\n\u001b[0;32m   2656\u001b[0m         batch_data\u001b[39m=\u001b[39;49mbatch_data,\n\u001b[0;32m   2657\u001b[0m         data_connector_query\u001b[39m=\u001b[39;49mdata_connector_query,\n\u001b[0;32m   2658\u001b[0m         batch_identifiers\u001b[39m=\u001b[39;49mbatch_identifiers,\n\u001b[0;32m   2659\u001b[0m         limit\u001b[39m=\u001b[39;49mlimit,\n\u001b[0;32m   2660\u001b[0m         index\u001b[39m=\u001b[39;49mindex,\n\u001b[0;32m   2661\u001b[0m         custom_filter_function\u001b[39m=\u001b[39;49mcustom_filter_function,\n\u001b[0;32m   2662\u001b[0m         sampling_method\u001b[39m=\u001b[39;49msampling_method,\n\u001b[0;32m   2663\u001b[0m         sampling_kwargs\u001b[39m=\u001b[39;49msampling_kwargs,\n\u001b[0;32m   2664\u001b[0m         splitter_method\u001b[39m=\u001b[39;49msplitter_method,\n\u001b[0;32m   2665\u001b[0m         splitter_kwargs\u001b[39m=\u001b[39;49msplitter_kwargs,\n\u001b[0;32m   2666\u001b[0m         runtime_parameters\u001b[39m=\u001b[39;49mruntime_parameters,\n\u001b[0;32m   2667\u001b[0m         query\u001b[39m=\u001b[39;49mquery,\n\u001b[0;32m   2668\u001b[0m         path\u001b[39m=\u001b[39;49mpath,\n\u001b[0;32m   2669\u001b[0m         batch_filter_parameters\u001b[39m=\u001b[39;49mbatch_filter_parameters,\n\u001b[0;32m   2670\u001b[0m         batch_spec_passthrough\u001b[39m=\u001b[39;49mbatch_spec_passthrough,\n\u001b[0;32m   2671\u001b[0m         batch_request_options\u001b[39m=\u001b[39;49mbatch_request_options,\n\u001b[0;32m   2672\u001b[0m         \u001b[39m*\u001b[39;49m\u001b[39m*\u001b[39;49mkwargs,\n\u001b[0;32m   2673\u001b[0m     )\n",
      "File \u001b[1;32mc:\\Users\\zhang.yuan\\Miniconda3\\envs\\great_expectations\\lib\\site-packages\\great_expectations\\data_context\\data_context\\abstract_data_context.py:2732\u001b[0m, in \u001b[0;36mAbstractDataContext._get_batch_list\u001b[1;34m(self, datasource_name, data_connector_name, data_asset_name, batch_request, batch_data, data_connector_query, batch_identifiers, limit, index, custom_filter_function, sampling_method, sampling_kwargs, splitter_method, splitter_kwargs, runtime_parameters, query, path, batch_filter_parameters, batch_spec_passthrough, batch_request_options, **kwargs)\u001b[0m\n\u001b[0;32m   2725\u001b[0m \u001b[39mif\u001b[39;00m \u001b[39mnot\u001b[39;00m datasource:\n\u001b[0;32m   2726\u001b[0m     \u001b[39mraise\u001b[39;00m gx_exceptions\u001b[39m.\u001b[39mDatasourceError(\n\u001b[0;32m   2727\u001b[0m         datasource_name,\n\u001b[0;32m   2728\u001b[0m         \u001b[39m\"\u001b[39m\u001b[39mThe given datasource could not be retrieved from the DataContext; \u001b[39m\u001b[39m\"\u001b[39m\n\u001b[0;32m   2729\u001b[0m         \u001b[39m\"\u001b[39m\u001b[39mplease confirm that your configuration is accurate.\u001b[39m\u001b[39m\"\u001b[39m,\n\u001b[0;32m   2730\u001b[0m     )\n\u001b[1;32m-> 2732\u001b[0m \u001b[39mreturn\u001b[39;00m datasource\u001b[39m.\u001b[39;49mget_batch_list_from_batch_request(batch_request\u001b[39m=\u001b[39;49mresult)\n",
      "File \u001b[1;32mc:\\Users\\zhang.yuan\\Miniconda3\\envs\\great_expectations\\lib\\site-packages\\great_expectations\\datasource\\fluent\\interfaces.py:467\u001b[0m, in \u001b[0;36mDatasource.get_batch_list_from_batch_request\u001b[1;34m(self, batch_request)\u001b[0m\n\u001b[0;32m    457\u001b[0m \u001b[39m\u001b[39m\u001b[39m\"\"\"A list of batches that correspond to the BatchRequest.\u001b[39;00m\n\u001b[0;32m    458\u001b[0m \n\u001b[0;32m    459\u001b[0m \u001b[39mArgs:\u001b[39;00m\n\u001b[1;32m   (...)\u001b[0m\n\u001b[0;32m    464\u001b[0m \u001b[39m    A list of batches that match the options specified in the batch request.\u001b[39;00m\n\u001b[0;32m    465\u001b[0m \u001b[39m\"\"\"\u001b[39;00m\n\u001b[0;32m    466\u001b[0m data_asset \u001b[39m=\u001b[39m \u001b[39mself\u001b[39m\u001b[39m.\u001b[39mget_asset(batch_request\u001b[39m.\u001b[39mdata_asset_name)\n\u001b[1;32m--> 467\u001b[0m \u001b[39mreturn\u001b[39;00m data_asset\u001b[39m.\u001b[39;49mget_batch_list_from_batch_request(batch_request)\n",
      "File \u001b[1;32mc:\\Users\\zhang.yuan\\Miniconda3\\envs\\great_expectations\\lib\\site-packages\\great_expectations\\datasource\\fluent\\pandas_datasource.py:135\u001b[0m, in \u001b[0;36m_PandasDataAsset.get_batch_list_from_batch_request\u001b[1;34m(self, batch_request)\u001b[0m\n\u001b[0;32m    125\u001b[0m batch_spec \u001b[39m=\u001b[39m PandasBatchSpec(\n\u001b[0;32m    126\u001b[0m     reader_method\u001b[39m=\u001b[39m\u001b[39mself\u001b[39m\u001b[39m.\u001b[39m_get_reader_method(),\n\u001b[0;32m    127\u001b[0m     reader_options\u001b[39m=\u001b[39m\u001b[39mself\u001b[39m\u001b[39m.\u001b[39mdict(\n\u001b[1;32m   (...)\u001b[0m\n\u001b[0;32m    132\u001b[0m     ),\n\u001b[0;32m    133\u001b[0m )\n\u001b[0;32m    134\u001b[0m execution_engine: PandasExecutionEngine \u001b[39m=\u001b[39m \u001b[39mself\u001b[39m\u001b[39m.\u001b[39mdatasource\u001b[39m.\u001b[39mget_execution_engine()\n\u001b[1;32m--> 135\u001b[0m data, markers \u001b[39m=\u001b[39m execution_engine\u001b[39m.\u001b[39;49mget_batch_data_and_markers(\n\u001b[0;32m    136\u001b[0m     batch_spec\u001b[39m=\u001b[39;49mbatch_spec\n\u001b[0;32m    137\u001b[0m )\n\u001b[0;32m    139\u001b[0m \u001b[39m# batch_definition (along with batch_spec and markers) is only here to satisfy a\u001b[39;00m\n\u001b[0;32m    140\u001b[0m \u001b[39m# legacy constraint when computing usage statistics in a validator. We hope to remove\u001b[39;00m\n\u001b[0;32m    141\u001b[0m \u001b[39m# it in the future.\u001b[39;00m\n\u001b[0;32m    142\u001b[0m \u001b[39m# imports are done inline to prevent a circular dependency with core/batch.py\u001b[39;00m\n\u001b[0;32m    143\u001b[0m \u001b[39mfrom\u001b[39;00m \u001b[39mgreat_expectations\u001b[39;00m\u001b[39m.\u001b[39;00m\u001b[39mcore\u001b[39;00m \u001b[39mimport\u001b[39;00m IDDict\n",
      "File \u001b[1;32mc:\\Users\\zhang.yuan\\Miniconda3\\envs\\great_expectations\\lib\\site-packages\\great_expectations\\execution_engine\\pandas_execution_engine.py:346\u001b[0m, in \u001b[0;36mPandasExecutionEngine.get_batch_data_and_markers\u001b[1;34m(self, batch_spec)\u001b[0m\n\u001b[0;32m    342\u001b[0m reader_options \u001b[39m=\u001b[39m batch_spec\u001b[39m.\u001b[39mreader_options\n\u001b[0;32m    343\u001b[0m reader_fn \u001b[39m=\u001b[39m \u001b[39mself\u001b[39m\u001b[39m.\u001b[39m_get_reader_fn(reader_method)\n\u001b[0;32m    344\u001b[0m reader_fn_result: pd\u001b[39m.\u001b[39mDataFrame \u001b[39m|\u001b[39m \u001b[39mlist\u001b[39m[\n\u001b[0;32m    345\u001b[0m     pd\u001b[39m.\u001b[39mDataFrame\n\u001b[1;32m--> 346\u001b[0m ] \u001b[39m=\u001b[39m execute_pandas_reader_fn(reader_fn, reader_options)\n\u001b[0;32m    347\u001b[0m \u001b[39mif\u001b[39;00m \u001b[39misinstance\u001b[39m(reader_fn_result, \u001b[39mlist\u001b[39m):\n\u001b[0;32m    348\u001b[0m     \u001b[39mif\u001b[39;00m \u001b[39mlen\u001b[39m(reader_fn_result) \u001b[39m>\u001b[39m \u001b[39m1\u001b[39m:\n",
      "File \u001b[1;32mc:\\Users\\zhang.yuan\\Miniconda3\\envs\\great_expectations\\lib\\site-packages\\great_expectations\\compatibility\\sqlalchemy_and_pandas.py:46\u001b[0m, in \u001b[0;36mexecute_pandas_reader_fn\u001b[1;34m(reader_fn, reader_options)\u001b[0m\n\u001b[0;32m     42\u001b[0m         reader_fn_result: pd\u001b[39m.\u001b[39mDataFrame \u001b[39m|\u001b[39m \u001b[39mlist\u001b[39m[pd\u001b[39m.\u001b[39mDataFrame] \u001b[39m=\u001b[39m reader_fn(\n\u001b[0;32m     43\u001b[0m             \u001b[39m*\u001b[39m\u001b[39m*\u001b[39mreader_options\n\u001b[0;32m     44\u001b[0m         )\n\u001b[0;32m     45\u001b[0m \u001b[39melse\u001b[39;00m:\n\u001b[1;32m---> 46\u001b[0m     reader_fn_result \u001b[39m=\u001b[39m reader_fn(\u001b[39m*\u001b[39;49m\u001b[39m*\u001b[39;49mreader_options)\n\u001b[0;32m     47\u001b[0m \u001b[39mreturn\u001b[39;00m reader_fn_result\n",
      "File \u001b[1;32mc:\\Users\\zhang.yuan\\Miniconda3\\envs\\great_expectations\\lib\\site-packages\\pandas\\io\\parsers\\readers.py:912\u001b[0m, in \u001b[0;36mread_csv\u001b[1;34m(filepath_or_buffer, sep, delimiter, header, names, index_col, usecols, dtype, engine, converters, true_values, false_values, skipinitialspace, skiprows, skipfooter, nrows, na_values, keep_default_na, na_filter, verbose, skip_blank_lines, parse_dates, infer_datetime_format, keep_date_col, date_parser, date_format, dayfirst, cache_dates, iterator, chunksize, compression, thousands, decimal, lineterminator, quotechar, quoting, doublequote, escapechar, comment, encoding, encoding_errors, dialect, on_bad_lines, delim_whitespace, low_memory, memory_map, float_precision, storage_options, dtype_backend)\u001b[0m\n\u001b[0;32m    899\u001b[0m kwds_defaults \u001b[39m=\u001b[39m _refine_defaults_read(\n\u001b[0;32m    900\u001b[0m     dialect,\n\u001b[0;32m    901\u001b[0m     delimiter,\n\u001b[1;32m   (...)\u001b[0m\n\u001b[0;32m    908\u001b[0m     dtype_backend\u001b[39m=\u001b[39mdtype_backend,\n\u001b[0;32m    909\u001b[0m )\n\u001b[0;32m    910\u001b[0m kwds\u001b[39m.\u001b[39mupdate(kwds_defaults)\n\u001b[1;32m--> 912\u001b[0m \u001b[39mreturn\u001b[39;00m _read(filepath_or_buffer, kwds)\n",
      "File \u001b[1;32mc:\\Users\\zhang.yuan\\Miniconda3\\envs\\great_expectations\\lib\\site-packages\\pandas\\io\\parsers\\readers.py:577\u001b[0m, in \u001b[0;36m_read\u001b[1;34m(filepath_or_buffer, kwds)\u001b[0m\n\u001b[0;32m    574\u001b[0m _validate_names(kwds\u001b[39m.\u001b[39mget(\u001b[39m\"\u001b[39m\u001b[39mnames\u001b[39m\u001b[39m\"\u001b[39m, \u001b[39mNone\u001b[39;00m))\n\u001b[0;32m    576\u001b[0m \u001b[39m# Create the parser.\u001b[39;00m\n\u001b[1;32m--> 577\u001b[0m parser \u001b[39m=\u001b[39m TextFileReader(filepath_or_buffer, \u001b[39m*\u001b[39;49m\u001b[39m*\u001b[39;49mkwds)\n\u001b[0;32m    579\u001b[0m \u001b[39mif\u001b[39;00m chunksize \u001b[39mor\u001b[39;00m iterator:\n\u001b[0;32m    580\u001b[0m     \u001b[39mreturn\u001b[39;00m parser\n",
      "File \u001b[1;32mc:\\Users\\zhang.yuan\\Miniconda3\\envs\\great_expectations\\lib\\site-packages\\pandas\\io\\parsers\\readers.py:1407\u001b[0m, in \u001b[0;36mTextFileReader.__init__\u001b[1;34m(self, f, engine, **kwds)\u001b[0m\n\u001b[0;32m   1404\u001b[0m     \u001b[39mself\u001b[39m\u001b[39m.\u001b[39moptions[\u001b[39m\"\u001b[39m\u001b[39mhas_index_names\u001b[39m\u001b[39m\"\u001b[39m] \u001b[39m=\u001b[39m kwds[\u001b[39m\"\u001b[39m\u001b[39mhas_index_names\u001b[39m\u001b[39m\"\u001b[39m]\n\u001b[0;32m   1406\u001b[0m \u001b[39mself\u001b[39m\u001b[39m.\u001b[39mhandles: IOHandles \u001b[39m|\u001b[39m \u001b[39mNone\u001b[39;00m \u001b[39m=\u001b[39m \u001b[39mNone\u001b[39;00m\n\u001b[1;32m-> 1407\u001b[0m \u001b[39mself\u001b[39m\u001b[39m.\u001b[39m_engine \u001b[39m=\u001b[39m \u001b[39mself\u001b[39;49m\u001b[39m.\u001b[39;49m_make_engine(f, \u001b[39mself\u001b[39;49m\u001b[39m.\u001b[39;49mengine)\n",
      "File \u001b[1;32mc:\\Users\\zhang.yuan\\Miniconda3\\envs\\great_expectations\\lib\\site-packages\\pandas\\io\\parsers\\readers.py:1661\u001b[0m, in \u001b[0;36mTextFileReader._make_engine\u001b[1;34m(self, f, engine)\u001b[0m\n\u001b[0;32m   1659\u001b[0m     \u001b[39mif\u001b[39;00m \u001b[39m\"\u001b[39m\u001b[39mb\u001b[39m\u001b[39m\"\u001b[39m \u001b[39mnot\u001b[39;00m \u001b[39min\u001b[39;00m mode:\n\u001b[0;32m   1660\u001b[0m         mode \u001b[39m+\u001b[39m\u001b[39m=\u001b[39m \u001b[39m\"\u001b[39m\u001b[39mb\u001b[39m\u001b[39m\"\u001b[39m\n\u001b[1;32m-> 1661\u001b[0m \u001b[39mself\u001b[39m\u001b[39m.\u001b[39mhandles \u001b[39m=\u001b[39m get_handle(\n\u001b[0;32m   1662\u001b[0m     f,\n\u001b[0;32m   1663\u001b[0m     mode,\n\u001b[0;32m   1664\u001b[0m     encoding\u001b[39m=\u001b[39;49m\u001b[39mself\u001b[39;49m\u001b[39m.\u001b[39;49moptions\u001b[39m.\u001b[39;49mget(\u001b[39m\"\u001b[39;49m\u001b[39mencoding\u001b[39;49m\u001b[39m\"\u001b[39;49m, \u001b[39mNone\u001b[39;49;00m),\n\u001b[0;32m   1665\u001b[0m     compression\u001b[39m=\u001b[39;49m\u001b[39mself\u001b[39;49m\u001b[39m.\u001b[39;49moptions\u001b[39m.\u001b[39;49mget(\u001b[39m\"\u001b[39;49m\u001b[39mcompression\u001b[39;49m\u001b[39m\"\u001b[39;49m, \u001b[39mNone\u001b[39;49;00m),\n\u001b[0;32m   1666\u001b[0m     memory_map\u001b[39m=\u001b[39;49m\u001b[39mself\u001b[39;49m\u001b[39m.\u001b[39;49moptions\u001b[39m.\u001b[39;49mget(\u001b[39m\"\u001b[39;49m\u001b[39mmemory_map\u001b[39;49m\u001b[39m\"\u001b[39;49m, \u001b[39mFalse\u001b[39;49;00m),\n\u001b[0;32m   1667\u001b[0m     is_text\u001b[39m=\u001b[39;49mis_text,\n\u001b[0;32m   1668\u001b[0m     errors\u001b[39m=\u001b[39;49m\u001b[39mself\u001b[39;49m\u001b[39m.\u001b[39;49moptions\u001b[39m.\u001b[39;49mget(\u001b[39m\"\u001b[39;49m\u001b[39mencoding_errors\u001b[39;49m\u001b[39m\"\u001b[39;49m, \u001b[39m\"\u001b[39;49m\u001b[39mstrict\u001b[39;49m\u001b[39m\"\u001b[39;49m),\n\u001b[0;32m   1669\u001b[0m     storage_options\u001b[39m=\u001b[39;49m\u001b[39mself\u001b[39;49m\u001b[39m.\u001b[39;49moptions\u001b[39m.\u001b[39;49mget(\u001b[39m\"\u001b[39;49m\u001b[39mstorage_options\u001b[39;49m\u001b[39m\"\u001b[39;49m, \u001b[39mNone\u001b[39;49;00m),\n\u001b[0;32m   1670\u001b[0m )\n\u001b[0;32m   1671\u001b[0m \u001b[39massert\u001b[39;00m \u001b[39mself\u001b[39m\u001b[39m.\u001b[39mhandles \u001b[39mis\u001b[39;00m \u001b[39mnot\u001b[39;00m \u001b[39mNone\u001b[39;00m\n\u001b[0;32m   1672\u001b[0m f \u001b[39m=\u001b[39m \u001b[39mself\u001b[39m\u001b[39m.\u001b[39mhandles\u001b[39m.\u001b[39mhandle\n",
      "File \u001b[1;32mc:\\Users\\zhang.yuan\\Miniconda3\\envs\\great_expectations\\lib\\site-packages\\pandas\\io\\common.py:716\u001b[0m, in \u001b[0;36mget_handle\u001b[1;34m(path_or_buf, mode, encoding, compression, memory_map, is_text, errors, storage_options)\u001b[0m\n\u001b[0;32m    713\u001b[0m     codecs\u001b[39m.\u001b[39mlookup_error(errors)\n\u001b[0;32m    715\u001b[0m \u001b[39m# open URLs\u001b[39;00m\n\u001b[1;32m--> 716\u001b[0m ioargs \u001b[39m=\u001b[39m _get_filepath_or_buffer(\n\u001b[0;32m    717\u001b[0m     path_or_buf,\n\u001b[0;32m    718\u001b[0m     encoding\u001b[39m=\u001b[39;49mencoding,\n\u001b[0;32m    719\u001b[0m     compression\u001b[39m=\u001b[39;49mcompression,\n\u001b[0;32m    720\u001b[0m     mode\u001b[39m=\u001b[39;49mmode,\n\u001b[0;32m    721\u001b[0m     storage_options\u001b[39m=\u001b[39;49mstorage_options,\n\u001b[0;32m    722\u001b[0m )\n\u001b[0;32m    724\u001b[0m handle \u001b[39m=\u001b[39m ioargs\u001b[39m.\u001b[39mfilepath_or_buffer\n\u001b[0;32m    725\u001b[0m handles: \u001b[39mlist\u001b[39m[BaseBuffer]\n",
      "File \u001b[1;32mc:\\Users\\zhang.yuan\\Miniconda3\\envs\\great_expectations\\lib\\site-packages\\pandas\\io\\common.py:368\u001b[0m, in \u001b[0;36m_get_filepath_or_buffer\u001b[1;34m(filepath_or_buffer, encoding, compression, mode, storage_options)\u001b[0m\n\u001b[0;32m    366\u001b[0m \u001b[39m# assuming storage_options is to be interpreted as headers\u001b[39;00m\n\u001b[0;32m    367\u001b[0m req_info \u001b[39m=\u001b[39m urllib\u001b[39m.\u001b[39mrequest\u001b[39m.\u001b[39mRequest(filepath_or_buffer, headers\u001b[39m=\u001b[39mstorage_options)\n\u001b[1;32m--> 368\u001b[0m \u001b[39mwith\u001b[39;00m urlopen(req_info) \u001b[39mas\u001b[39;00m req:\n\u001b[0;32m    369\u001b[0m     content_encoding \u001b[39m=\u001b[39m req\u001b[39m.\u001b[39mheaders\u001b[39m.\u001b[39mget(\u001b[39m\"\u001b[39m\u001b[39mContent-Encoding\u001b[39m\u001b[39m\"\u001b[39m, \u001b[39mNone\u001b[39;00m)\n\u001b[0;32m    370\u001b[0m     \u001b[39mif\u001b[39;00m content_encoding \u001b[39m==\u001b[39m \u001b[39m\"\u001b[39m\u001b[39mgzip\u001b[39m\u001b[39m\"\u001b[39m:\n\u001b[0;32m    371\u001b[0m         \u001b[39m# Override compression based on Content-Encoding header\u001b[39;00m\n",
      "File \u001b[1;32mc:\\Users\\zhang.yuan\\Miniconda3\\envs\\great_expectations\\lib\\site-packages\\pandas\\io\\common.py:270\u001b[0m, in \u001b[0;36murlopen\u001b[1;34m(*args, **kwargs)\u001b[0m\n\u001b[0;32m    264\u001b[0m \u001b[39m\u001b[39m\u001b[39m\"\"\"\u001b[39;00m\n\u001b[0;32m    265\u001b[0m \u001b[39mLazy-import wrapper for stdlib urlopen, as that imports a big chunk of\u001b[39;00m\n\u001b[0;32m    266\u001b[0m \u001b[39mthe stdlib.\u001b[39;00m\n\u001b[0;32m    267\u001b[0m \u001b[39m\"\"\"\u001b[39;00m\n\u001b[0;32m    268\u001b[0m \u001b[39mimport\u001b[39;00m \u001b[39murllib\u001b[39;00m\u001b[39m.\u001b[39;00m\u001b[39mrequest\u001b[39;00m\n\u001b[1;32m--> 270\u001b[0m \u001b[39mreturn\u001b[39;00m urllib\u001b[39m.\u001b[39;49mrequest\u001b[39m.\u001b[39;49murlopen(\u001b[39m*\u001b[39;49margs, \u001b[39m*\u001b[39;49m\u001b[39m*\u001b[39;49mkwargs)\n",
      "File \u001b[1;32mc:\\Users\\zhang.yuan\\Miniconda3\\envs\\great_expectations\\lib\\urllib\\request.py:222\u001b[0m, in \u001b[0;36murlopen\u001b[1;34m(url, data, timeout, cafile, capath, cadefault, context)\u001b[0m\n\u001b[0;32m    220\u001b[0m \u001b[39melse\u001b[39;00m:\n\u001b[0;32m    221\u001b[0m     opener \u001b[39m=\u001b[39m _opener\n\u001b[1;32m--> 222\u001b[0m \u001b[39mreturn\u001b[39;00m opener\u001b[39m.\u001b[39;49mopen(url, data, timeout)\n",
      "File \u001b[1;32mc:\\Users\\zhang.yuan\\Miniconda3\\envs\\great_expectations\\lib\\urllib\\request.py:525\u001b[0m, in \u001b[0;36mOpenerDirector.open\u001b[1;34m(self, fullurl, data, timeout)\u001b[0m\n\u001b[0;32m    522\u001b[0m     req \u001b[39m=\u001b[39m meth(req)\n\u001b[0;32m    524\u001b[0m sys\u001b[39m.\u001b[39maudit(\u001b[39m'\u001b[39m\u001b[39murllib.Request\u001b[39m\u001b[39m'\u001b[39m, req\u001b[39m.\u001b[39mfull_url, req\u001b[39m.\u001b[39mdata, req\u001b[39m.\u001b[39mheaders, req\u001b[39m.\u001b[39mget_method())\n\u001b[1;32m--> 525\u001b[0m response \u001b[39m=\u001b[39m \u001b[39mself\u001b[39;49m\u001b[39m.\u001b[39;49m_open(req, data)\n\u001b[0;32m    527\u001b[0m \u001b[39m# post-process response\u001b[39;00m\n\u001b[0;32m    528\u001b[0m meth_name \u001b[39m=\u001b[39m protocol\u001b[39m+\u001b[39m\u001b[39m\"\u001b[39m\u001b[39m_response\u001b[39m\u001b[39m\"\u001b[39m\n",
      "File \u001b[1;32mc:\\Users\\zhang.yuan\\Miniconda3\\envs\\great_expectations\\lib\\urllib\\request.py:542\u001b[0m, in \u001b[0;36mOpenerDirector._open\u001b[1;34m(self, req, data)\u001b[0m\n\u001b[0;32m    539\u001b[0m     \u001b[39mreturn\u001b[39;00m result\n\u001b[0;32m    541\u001b[0m protocol \u001b[39m=\u001b[39m req\u001b[39m.\u001b[39mtype\n\u001b[1;32m--> 542\u001b[0m result \u001b[39m=\u001b[39m \u001b[39mself\u001b[39;49m\u001b[39m.\u001b[39;49m_call_chain(\u001b[39mself\u001b[39;49m\u001b[39m.\u001b[39;49mhandle_open, protocol, protocol \u001b[39m+\u001b[39;49m\n\u001b[0;32m    543\u001b[0m                           \u001b[39m'\u001b[39;49m\u001b[39m_open\u001b[39;49m\u001b[39m'\u001b[39;49m, req)\n\u001b[0;32m    544\u001b[0m \u001b[39mif\u001b[39;00m result:\n\u001b[0;32m    545\u001b[0m     \u001b[39mreturn\u001b[39;00m result\n",
      "File \u001b[1;32mc:\\Users\\zhang.yuan\\Miniconda3\\envs\\great_expectations\\lib\\urllib\\request.py:502\u001b[0m, in \u001b[0;36mOpenerDirector._call_chain\u001b[1;34m(self, chain, kind, meth_name, *args)\u001b[0m\n\u001b[0;32m    500\u001b[0m \u001b[39mfor\u001b[39;00m handler \u001b[39min\u001b[39;00m handlers:\n\u001b[0;32m    501\u001b[0m     func \u001b[39m=\u001b[39m \u001b[39mgetattr\u001b[39m(handler, meth_name)\n\u001b[1;32m--> 502\u001b[0m     result \u001b[39m=\u001b[39m func(\u001b[39m*\u001b[39;49margs)\n\u001b[0;32m    503\u001b[0m     \u001b[39mif\u001b[39;00m result \u001b[39mis\u001b[39;00m \u001b[39mnot\u001b[39;00m \u001b[39mNone\u001b[39;00m:\n\u001b[0;32m    504\u001b[0m         \u001b[39mreturn\u001b[39;00m result\n",
      "File \u001b[1;32mc:\\Users\\zhang.yuan\\Miniconda3\\envs\\great_expectations\\lib\\urllib\\request.py:1397\u001b[0m, in \u001b[0;36mHTTPSHandler.https_open\u001b[1;34m(self, req)\u001b[0m\n\u001b[0;32m   1396\u001b[0m \u001b[39mdef\u001b[39;00m \u001b[39mhttps_open\u001b[39m(\u001b[39mself\u001b[39m, req):\n\u001b[1;32m-> 1397\u001b[0m     \u001b[39mreturn\u001b[39;00m \u001b[39mself\u001b[39;49m\u001b[39m.\u001b[39;49mdo_open(http\u001b[39m.\u001b[39;49mclient\u001b[39m.\u001b[39;49mHTTPSConnection, req,\n\u001b[0;32m   1398\u001b[0m         context\u001b[39m=\u001b[39;49m\u001b[39mself\u001b[39;49m\u001b[39m.\u001b[39;49m_context, check_hostname\u001b[39m=\u001b[39;49m\u001b[39mself\u001b[39;49m\u001b[39m.\u001b[39;49m_check_hostname)\n",
      "File \u001b[1;32mc:\\Users\\zhang.yuan\\Miniconda3\\envs\\great_expectations\\lib\\urllib\\request.py:1357\u001b[0m, in \u001b[0;36mAbstractHTTPHandler.do_open\u001b[1;34m(self, http_class, req, **http_conn_args)\u001b[0m\n\u001b[0;32m   1354\u001b[0m         h\u001b[39m.\u001b[39mrequest(req\u001b[39m.\u001b[39mget_method(), req\u001b[39m.\u001b[39mselector, req\u001b[39m.\u001b[39mdata, headers,\n\u001b[0;32m   1355\u001b[0m                   encode_chunked\u001b[39m=\u001b[39mreq\u001b[39m.\u001b[39mhas_header(\u001b[39m'\u001b[39m\u001b[39mTransfer-encoding\u001b[39m\u001b[39m'\u001b[39m))\n\u001b[0;32m   1356\u001b[0m     \u001b[39mexcept\u001b[39;00m \u001b[39mOSError\u001b[39;00m \u001b[39mas\u001b[39;00m err: \u001b[39m# timeout error\u001b[39;00m\n\u001b[1;32m-> 1357\u001b[0m         \u001b[39mraise\u001b[39;00m URLError(err)\n\u001b[0;32m   1358\u001b[0m     r \u001b[39m=\u001b[39m h\u001b[39m.\u001b[39mgetresponse()\n\u001b[0;32m   1359\u001b[0m \u001b[39mexcept\u001b[39;00m:\n",
      "\u001b[1;31mURLError\u001b[0m: <urlopen error [WinError 10054] Foi forçado o cancelamento de uma conexão existente pelo host remoto>"
     ]
    }
   ],
   "source": [
    "validator = context.sources.pandas_default.read_csv(\n",
    "    \"https://raw.githubusercontent.com/great-expectations/gx_tutorials/main/data/yellow_tripdata_sample_2019-01.csv\"\n",
    ")"
   ]
  },
  {
   "cell_type": "code",
   "execution_count": null,
   "metadata": {},
   "outputs": [],
   "source": []
  }
 ],
 "metadata": {
  "kernelspec": {
   "display_name": "conda_3.9",
   "language": "python",
   "name": "python3"
  },
  "language_info": {
   "codemirror_mode": {
    "name": "ipython",
    "version": 3
   },
   "file_extension": ".py",
   "mimetype": "text/x-python",
   "name": "python",
   "nbconvert_exporter": "python",
   "pygments_lexer": "ipython3",
   "version": "3.8.18"
  }
 },
 "nbformat": 4,
 "nbformat_minor": 2
}
