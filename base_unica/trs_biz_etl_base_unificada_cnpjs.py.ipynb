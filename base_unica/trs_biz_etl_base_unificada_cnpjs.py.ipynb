{
 "cells": [
  {
   "cell_type": "code",
   "execution_count": 0,
   "metadata": {
    "application/vnd.databricks.v1+cell": {
     "cellMetadata": {
      "byteLimit": 2048000,
      "rowLimit": 10000
     },
     "inputWidgets": {},
     "nuid": "6f06fc98-04ea-4c42-bf1c-d4e7962c6e8f",
     "showTitle": false,
     "title": ""
    }
   },
   "outputs": [
    {
     "output_type": "stream",
     "name": "stdout",
     "output_type": "stream",
     "text": [
      "fornecedor_dev\ndev-execution\n"
     ]
    }
   ],
   "source": [
    "from cni_connectors import adls_gen1_connector as adls_conn\n",
    "var_adls_uri = adls_conn.adls_gen1_connect(spark, dbutils, scope=\"adls_gen2\", dynamic_overwrite=\"dynamic\")"
   ]
  },
  {
   "cell_type": "code",
   "execution_count": 0,
   "metadata": {
    "application/vnd.databricks.v1+cell": {
     "cellMetadata": {
      "byteLimit": 2048000,
      "rowLimit": 10000
     },
     "inputWidgets": {},
     "nuid": "65ccbab6-c1d3-480c-bd15-ef0a74e29c93",
     "showTitle": false,
     "title": ""
    }
   },
   "outputs": [],
   "source": [
    "import json\n",
    "import re\n",
    "import crawler.functions as cf\n",
    "import pyspark.sql.functions as f\n",
    "from pyspark.sql.functions import *\n",
    "from pyspark.sql.types import *\n",
    "from pyspark.sql.window import Window\n",
    "import pyspark.sql.functions as f\n",
    "from pyspark.sql.functions import countDistinct\n",
    "from pyspark.sql.types import IntegerType\n",
    "import datetime\n",
    "from datetime import datetime\n",
    "from pyspark.sql.window import Window\n",
    "import pyspark.sql.functions as f\n",
    "from pyspark.sql.functions import countDistinct\n",
    "from trs_control_field import trs_control_field as tcf\n",
    "from pyspark.sql.types import IntegerType\n",
    "from pyspark.sql.types import IntegerType, StructType, StructField, StringType, FloatType"
   ]
  },
  {
   "cell_type": "code",
   "execution_count": 0,
   "metadata": {
    "application/vnd.databricks.v1+cell": {
     "cellMetadata": {
      "byteLimit": 2048000,
      "rowLimit": 10000
     },
     "inputWidgets": {},
     "nuid": "ca6164ad-34ab-4208-9fcf-1635c760256e",
     "showTitle": false,
     "title": ""
    }
   },
   "outputs": [
    {
     "output_type": "display_data",
     "data": {
      "text/plain": [
       "\u001B[0;31m---------------------------------------------------------------------------\u001B[0m\n",
       "\u001B[0;31mPy4JJavaError\u001B[0m                             Traceback (most recent call last)\n",
       "File \u001B[0;32m<command-1956532259446894>:1\u001B[0m\n",
       "\u001B[0;32m----> 1\u001B[0m table \u001B[38;5;241m=\u001B[39m json\u001B[38;5;241m.\u001B[39mloads(re\u001B[38;5;241m.\u001B[39msub(\u001B[38;5;124m\"\u001B[39m\u001B[38;5;130;01m\\'\u001B[39;00m\u001B[38;5;124m\"\u001B[39m, \u001B[38;5;124m'\u001B[39m\u001B[38;5;130;01m\\\"\u001B[39;00m\u001B[38;5;124m'\u001B[39m, dbutils\u001B[38;5;241m.\u001B[39mwidgets\u001B[38;5;241m.\u001B[39mget(\u001B[38;5;124m\"\u001B[39m\u001B[38;5;124mtables\u001B[39m\u001B[38;5;124m\"\u001B[39m)))\n",
       "\u001B[1;32m      2\u001B[0m dls \u001B[38;5;241m=\u001B[39m json\u001B[38;5;241m.\u001B[39mloads(re\u001B[38;5;241m.\u001B[39msub(\u001B[38;5;124m\"\u001B[39m\u001B[38;5;130;01m\\'\u001B[39;00m\u001B[38;5;124m\"\u001B[39m, \u001B[38;5;124m'\u001B[39m\u001B[38;5;130;01m\\\"\u001B[39;00m\u001B[38;5;124m'\u001B[39m, dbutils\u001B[38;5;241m.\u001B[39mwidgets\u001B[38;5;241m.\u001B[39mget(\u001B[38;5;124m\"\u001B[39m\u001B[38;5;124mdls\u001B[39m\u001B[38;5;124m\"\u001B[39m)))\n",
       "\u001B[1;32m      3\u001B[0m adf \u001B[38;5;241m=\u001B[39m json\u001B[38;5;241m.\u001B[39mloads(re\u001B[38;5;241m.\u001B[39msub(\u001B[38;5;124m\"\u001B[39m\u001B[38;5;130;01m\\'\u001B[39;00m\u001B[38;5;124m\"\u001B[39m, \u001B[38;5;124m'\u001B[39m\u001B[38;5;130;01m\\\"\u001B[39;00m\u001B[38;5;124m'\u001B[39m, dbutils\u001B[38;5;241m.\u001B[39mwidgets\u001B[38;5;241m.\u001B[39mget(\u001B[38;5;124m\"\u001B[39m\u001B[38;5;124madf\u001B[39m\u001B[38;5;124m\"\u001B[39m)))\n",
       "\n",
       "File \u001B[0;32m/databricks/python_shell/dbruntime/WidgetHandlerImpl.py:42\u001B[0m, in \u001B[0;36mWidgetsHandlerImpl.get\u001B[0;34m(self, name)\u001B[0m\n",
       "\u001B[1;32m     36\u001B[0m \u001B[38;5;28;01mdef\u001B[39;00m \u001B[38;5;21mget\u001B[39m(\u001B[38;5;28mself\u001B[39m, name):\n",
       "\u001B[1;32m     37\u001B[0m \u001B[38;5;250m    \u001B[39m\u001B[38;5;124;03m\"\"\" Returns the current value of a widget with give name.\u001B[39;00m\n",
       "\u001B[1;32m     38\u001B[0m \n",
       "\u001B[1;32m     39\u001B[0m \u001B[38;5;124;03m    :param name: Name of the argument to be accessed\u001B[39;00m\n",
       "\u001B[1;32m     40\u001B[0m \u001B[38;5;124;03m    :return: Current value of the widget or default value\u001B[39;00m\n",
       "\u001B[1;32m     41\u001B[0m \u001B[38;5;124;03m    \"\"\"\u001B[39;00m\n",
       "\u001B[0;32m---> 42\u001B[0m     \u001B[38;5;28;01mreturn\u001B[39;00m \u001B[38;5;28;43mself\u001B[39;49m\u001B[38;5;241;43m.\u001B[39;49m\u001B[43m_notebookArguments\u001B[49m\u001B[38;5;241;43m.\u001B[39;49m\u001B[43mgetArgument\u001B[49m\u001B[43m(\u001B[49m\u001B[43mname\u001B[49m\u001B[43m,\u001B[49m\u001B[43m \u001B[49m\u001B[38;5;28;43mself\u001B[39;49m\u001B[38;5;241;43m.\u001B[39;49m\u001B[43m_entry_point\u001B[49m\u001B[38;5;241;43m.\u001B[39;49m\u001B[43mgetCurrentBindings\u001B[49m\u001B[43m(\u001B[49m\u001B[43m)\u001B[49m\u001B[43m)\u001B[49m\n",
       "\n",
       "File \u001B[0;32m/databricks/spark/python/lib/py4j-0.10.9.5-src.zip/py4j/java_gateway.py:1321\u001B[0m, in \u001B[0;36mJavaMember.__call__\u001B[0;34m(self, *args)\u001B[0m\n",
       "\u001B[1;32m   1315\u001B[0m command \u001B[38;5;241m=\u001B[39m proto\u001B[38;5;241m.\u001B[39mCALL_COMMAND_NAME \u001B[38;5;241m+\u001B[39m\\\n",
       "\u001B[1;32m   1316\u001B[0m     \u001B[38;5;28mself\u001B[39m\u001B[38;5;241m.\u001B[39mcommand_header \u001B[38;5;241m+\u001B[39m\\\n",
       "\u001B[1;32m   1317\u001B[0m     args_command \u001B[38;5;241m+\u001B[39m\\\n",
       "\u001B[1;32m   1318\u001B[0m     proto\u001B[38;5;241m.\u001B[39mEND_COMMAND_PART\n",
       "\u001B[1;32m   1320\u001B[0m answer \u001B[38;5;241m=\u001B[39m \u001B[38;5;28mself\u001B[39m\u001B[38;5;241m.\u001B[39mgateway_client\u001B[38;5;241m.\u001B[39msend_command(command)\n",
       "\u001B[0;32m-> 1321\u001B[0m return_value \u001B[38;5;241m=\u001B[39m \u001B[43mget_return_value\u001B[49m\u001B[43m(\u001B[49m\n",
       "\u001B[1;32m   1322\u001B[0m \u001B[43m    \u001B[49m\u001B[43manswer\u001B[49m\u001B[43m,\u001B[49m\u001B[43m \u001B[49m\u001B[38;5;28;43mself\u001B[39;49m\u001B[38;5;241;43m.\u001B[39;49m\u001B[43mgateway_client\u001B[49m\u001B[43m,\u001B[49m\u001B[43m \u001B[49m\u001B[38;5;28;43mself\u001B[39;49m\u001B[38;5;241;43m.\u001B[39;49m\u001B[43mtarget_id\u001B[49m\u001B[43m,\u001B[49m\u001B[43m \u001B[49m\u001B[38;5;28;43mself\u001B[39;49m\u001B[38;5;241;43m.\u001B[39;49m\u001B[43mname\u001B[49m\u001B[43m)\u001B[49m\n",
       "\u001B[1;32m   1324\u001B[0m \u001B[38;5;28;01mfor\u001B[39;00m temp_arg \u001B[38;5;129;01min\u001B[39;00m temp_args:\n",
       "\u001B[1;32m   1325\u001B[0m     temp_arg\u001B[38;5;241m.\u001B[39m_detach()\n",
       "\n",
       "File \u001B[0;32m/databricks/spark/python/pyspark/errors/exceptions.py:228\u001B[0m, in \u001B[0;36mcapture_sql_exception.<locals>.deco\u001B[0;34m(*a, **kw)\u001B[0m\n",
       "\u001B[1;32m    226\u001B[0m \u001B[38;5;28;01mdef\u001B[39;00m \u001B[38;5;21mdeco\u001B[39m(\u001B[38;5;241m*\u001B[39ma: Any, \u001B[38;5;241m*\u001B[39m\u001B[38;5;241m*\u001B[39mkw: Any) \u001B[38;5;241m-\u001B[39m\u001B[38;5;241m>\u001B[39m Any:\n",
       "\u001B[1;32m    227\u001B[0m     \u001B[38;5;28;01mtry\u001B[39;00m:\n",
       "\u001B[0;32m--> 228\u001B[0m         \u001B[38;5;28;01mreturn\u001B[39;00m \u001B[43mf\u001B[49m\u001B[43m(\u001B[49m\u001B[38;5;241;43m*\u001B[39;49m\u001B[43ma\u001B[49m\u001B[43m,\u001B[49m\u001B[43m \u001B[49m\u001B[38;5;241;43m*\u001B[39;49m\u001B[38;5;241;43m*\u001B[39;49m\u001B[43mkw\u001B[49m\u001B[43m)\u001B[49m\n",
       "\u001B[1;32m    229\u001B[0m     \u001B[38;5;28;01mexcept\u001B[39;00m Py4JJavaError \u001B[38;5;28;01mas\u001B[39;00m e:\n",
       "\u001B[1;32m    230\u001B[0m         converted \u001B[38;5;241m=\u001B[39m convert_exception(e\u001B[38;5;241m.\u001B[39mjava_exception)\n",
       "\n",
       "File \u001B[0;32m/databricks/spark/python/lib/py4j-0.10.9.5-src.zip/py4j/protocol.py:326\u001B[0m, in \u001B[0;36mget_return_value\u001B[0;34m(answer, gateway_client, target_id, name)\u001B[0m\n",
       "\u001B[1;32m    324\u001B[0m value \u001B[38;5;241m=\u001B[39m OUTPUT_CONVERTER[\u001B[38;5;28mtype\u001B[39m](answer[\u001B[38;5;241m2\u001B[39m:], gateway_client)\n",
       "\u001B[1;32m    325\u001B[0m \u001B[38;5;28;01mif\u001B[39;00m answer[\u001B[38;5;241m1\u001B[39m] \u001B[38;5;241m==\u001B[39m REFERENCE_TYPE:\n",
       "\u001B[0;32m--> 326\u001B[0m     \u001B[38;5;28;01mraise\u001B[39;00m Py4JJavaError(\n",
       "\u001B[1;32m    327\u001B[0m         \u001B[38;5;124m\"\u001B[39m\u001B[38;5;124mAn error occurred while calling \u001B[39m\u001B[38;5;132;01m{0}\u001B[39;00m\u001B[38;5;132;01m{1}\u001B[39;00m\u001B[38;5;132;01m{2}\u001B[39;00m\u001B[38;5;124m.\u001B[39m\u001B[38;5;130;01m\\n\u001B[39;00m\u001B[38;5;124m\"\u001B[39m\u001B[38;5;241m.\u001B[39m\n",
       "\u001B[1;32m    328\u001B[0m         \u001B[38;5;28mformat\u001B[39m(target_id, \u001B[38;5;124m\"\u001B[39m\u001B[38;5;124m.\u001B[39m\u001B[38;5;124m\"\u001B[39m, name), value)\n",
       "\u001B[1;32m    329\u001B[0m \u001B[38;5;28;01melse\u001B[39;00m:\n",
       "\u001B[1;32m    330\u001B[0m     \u001B[38;5;28;01mraise\u001B[39;00m Py4JError(\n",
       "\u001B[1;32m    331\u001B[0m         \u001B[38;5;124m\"\u001B[39m\u001B[38;5;124mAn error occurred while calling \u001B[39m\u001B[38;5;132;01m{0}\u001B[39;00m\u001B[38;5;132;01m{1}\u001B[39;00m\u001B[38;5;132;01m{2}\u001B[39;00m\u001B[38;5;124m. Trace:\u001B[39m\u001B[38;5;130;01m\\n\u001B[39;00m\u001B[38;5;132;01m{3}\u001B[39;00m\u001B[38;5;130;01m\\n\u001B[39;00m\u001B[38;5;124m\"\u001B[39m\u001B[38;5;241m.\u001B[39m\n",
       "\u001B[1;32m    332\u001B[0m         \u001B[38;5;28mformat\u001B[39m(target_id, \u001B[38;5;124m\"\u001B[39m\u001B[38;5;124m.\u001B[39m\u001B[38;5;124m\"\u001B[39m, name, value))\n",
       "\n",
       "\u001B[0;31mPy4JJavaError\u001B[0m: An error occurred while calling o368.getArgument.\n",
       ": com.databricks.dbutils_v1.InputWidgetNotDefined: No input widget named tables is defined\n",
       "\tat com.databricks.backend.daemon.driver.NotebookArguments.checkExists(NotebookArguments.scala:72)\n",
       "\tat com.databricks.backend.daemon.driver.NotebookArguments.getArgument(NotebookArguments.scala:258)\n",
       "\tat sun.reflect.GeneratedMethodAccessor587.invoke(Unknown Source)\n",
       "\tat sun.reflect.DelegatingMethodAccessorImpl.invoke(DelegatingMethodAccessorImpl.java:43)\n",
       "\tat java.lang.reflect.Method.invoke(Method.java:498)\n",
       "\tat py4j.reflection.MethodInvoker.invoke(MethodInvoker.java:244)\n",
       "\tat py4j.reflection.ReflectionEngine.invoke(ReflectionEngine.java:380)\n",
       "\tat py4j.Gateway.invoke(Gateway.java:306)\n",
       "\tat py4j.commands.AbstractCommand.invokeMethod(AbstractCommand.java:132)\n",
       "\tat py4j.commands.CallCommand.execute(CallCommand.java:79)\n",
       "\tat py4j.ClientServerConnection.waitForCommands(ClientServerConnection.java:195)\n",
       "\tat py4j.ClientServerConnection.run(ClientServerConnection.java:115)\n",
       "\tat java.lang.Thread.run(Thread.java:750)\n"
      ]
     },
     "metadata": {
      "application/vnd.databricks.v1+output": {
       "arguments": {},
       "data": "\u001B[0;31m---------------------------------------------------------------------------\u001B[0m\n\u001B[0;31mPy4JJavaError\u001B[0m                             Traceback (most recent call last)\nFile \u001B[0;32m<command-1956532259446894>:1\u001B[0m\n\u001B[0;32m----> 1\u001B[0m table \u001B[38;5;241m=\u001B[39m json\u001B[38;5;241m.\u001B[39mloads(re\u001B[38;5;241m.\u001B[39msub(\u001B[38;5;124m\"\u001B[39m\u001B[38;5;130;01m\\'\u001B[39;00m\u001B[38;5;124m\"\u001B[39m, \u001B[38;5;124m'\u001B[39m\u001B[38;5;130;01m\\\"\u001B[39;00m\u001B[38;5;124m'\u001B[39m, dbutils\u001B[38;5;241m.\u001B[39mwidgets\u001B[38;5;241m.\u001B[39mget(\u001B[38;5;124m\"\u001B[39m\u001B[38;5;124mtables\u001B[39m\u001B[38;5;124m\"\u001B[39m)))\n\u001B[1;32m      2\u001B[0m dls \u001B[38;5;241m=\u001B[39m json\u001B[38;5;241m.\u001B[39mloads(re\u001B[38;5;241m.\u001B[39msub(\u001B[38;5;124m\"\u001B[39m\u001B[38;5;130;01m\\'\u001B[39;00m\u001B[38;5;124m\"\u001B[39m, \u001B[38;5;124m'\u001B[39m\u001B[38;5;130;01m\\\"\u001B[39;00m\u001B[38;5;124m'\u001B[39m, dbutils\u001B[38;5;241m.\u001B[39mwidgets\u001B[38;5;241m.\u001B[39mget(\u001B[38;5;124m\"\u001B[39m\u001B[38;5;124mdls\u001B[39m\u001B[38;5;124m\"\u001B[39m)))\n\u001B[1;32m      3\u001B[0m adf \u001B[38;5;241m=\u001B[39m json\u001B[38;5;241m.\u001B[39mloads(re\u001B[38;5;241m.\u001B[39msub(\u001B[38;5;124m\"\u001B[39m\u001B[38;5;130;01m\\'\u001B[39;00m\u001B[38;5;124m\"\u001B[39m, \u001B[38;5;124m'\u001B[39m\u001B[38;5;130;01m\\\"\u001B[39;00m\u001B[38;5;124m'\u001B[39m, dbutils\u001B[38;5;241m.\u001B[39mwidgets\u001B[38;5;241m.\u001B[39mget(\u001B[38;5;124m\"\u001B[39m\u001B[38;5;124madf\u001B[39m\u001B[38;5;124m\"\u001B[39m)))\n\nFile \u001B[0;32m/databricks/python_shell/dbruntime/WidgetHandlerImpl.py:42\u001B[0m, in \u001B[0;36mWidgetsHandlerImpl.get\u001B[0;34m(self, name)\u001B[0m\n\u001B[1;32m     36\u001B[0m \u001B[38;5;28;01mdef\u001B[39;00m \u001B[38;5;21mget\u001B[39m(\u001B[38;5;28mself\u001B[39m, name):\n\u001B[1;32m     37\u001B[0m \u001B[38;5;250m    \u001B[39m\u001B[38;5;124;03m\"\"\" Returns the current value of a widget with give name.\u001B[39;00m\n\u001B[1;32m     38\u001B[0m \n\u001B[1;32m     39\u001B[0m \u001B[38;5;124;03m    :param name: Name of the argument to be accessed\u001B[39;00m\n\u001B[1;32m     40\u001B[0m \u001B[38;5;124;03m    :return: Current value of the widget or default value\u001B[39;00m\n\u001B[1;32m     41\u001B[0m \u001B[38;5;124;03m    \"\"\"\u001B[39;00m\n\u001B[0;32m---> 42\u001B[0m     \u001B[38;5;28;01mreturn\u001B[39;00m \u001B[38;5;28;43mself\u001B[39;49m\u001B[38;5;241;43m.\u001B[39;49m\u001B[43m_notebookArguments\u001B[49m\u001B[38;5;241;43m.\u001B[39;49m\u001B[43mgetArgument\u001B[49m\u001B[43m(\u001B[49m\u001B[43mname\u001B[49m\u001B[43m,\u001B[49m\u001B[43m \u001B[49m\u001B[38;5;28;43mself\u001B[39;49m\u001B[38;5;241;43m.\u001B[39;49m\u001B[43m_entry_point\u001B[49m\u001B[38;5;241;43m.\u001B[39;49m\u001B[43mgetCurrentBindings\u001B[49m\u001B[43m(\u001B[49m\u001B[43m)\u001B[49m\u001B[43m)\u001B[49m\n\nFile \u001B[0;32m/databricks/spark/python/lib/py4j-0.10.9.5-src.zip/py4j/java_gateway.py:1321\u001B[0m, in \u001B[0;36mJavaMember.__call__\u001B[0;34m(self, *args)\u001B[0m\n\u001B[1;32m   1315\u001B[0m command \u001B[38;5;241m=\u001B[39m proto\u001B[38;5;241m.\u001B[39mCALL_COMMAND_NAME \u001B[38;5;241m+\u001B[39m\\\n\u001B[1;32m   1316\u001B[0m     \u001B[38;5;28mself\u001B[39m\u001B[38;5;241m.\u001B[39mcommand_header \u001B[38;5;241m+\u001B[39m\\\n\u001B[1;32m   1317\u001B[0m     args_command \u001B[38;5;241m+\u001B[39m\\\n\u001B[1;32m   1318\u001B[0m     proto\u001B[38;5;241m.\u001B[39mEND_COMMAND_PART\n\u001B[1;32m   1320\u001B[0m answer \u001B[38;5;241m=\u001B[39m \u001B[38;5;28mself\u001B[39m\u001B[38;5;241m.\u001B[39mgateway_client\u001B[38;5;241m.\u001B[39msend_command(command)\n\u001B[0;32m-> 1321\u001B[0m return_value \u001B[38;5;241m=\u001B[39m \u001B[43mget_return_value\u001B[49m\u001B[43m(\u001B[49m\n\u001B[1;32m   1322\u001B[0m \u001B[43m    \u001B[49m\u001B[43manswer\u001B[49m\u001B[43m,\u001B[49m\u001B[43m \u001B[49m\u001B[38;5;28;43mself\u001B[39;49m\u001B[38;5;241;43m.\u001B[39;49m\u001B[43mgateway_client\u001B[49m\u001B[43m,\u001B[49m\u001B[43m \u001B[49m\u001B[38;5;28;43mself\u001B[39;49m\u001B[38;5;241;43m.\u001B[39;49m\u001B[43mtarget_id\u001B[49m\u001B[43m,\u001B[49m\u001B[43m \u001B[49m\u001B[38;5;28;43mself\u001B[39;49m\u001B[38;5;241;43m.\u001B[39;49m\u001B[43mname\u001B[49m\u001B[43m)\u001B[49m\n\u001B[1;32m   1324\u001B[0m \u001B[38;5;28;01mfor\u001B[39;00m temp_arg \u001B[38;5;129;01min\u001B[39;00m temp_args:\n\u001B[1;32m   1325\u001B[0m     temp_arg\u001B[38;5;241m.\u001B[39m_detach()\n\nFile \u001B[0;32m/databricks/spark/python/pyspark/errors/exceptions.py:228\u001B[0m, in \u001B[0;36mcapture_sql_exception.<locals>.deco\u001B[0;34m(*a, **kw)\u001B[0m\n\u001B[1;32m    226\u001B[0m \u001B[38;5;28;01mdef\u001B[39;00m \u001B[38;5;21mdeco\u001B[39m(\u001B[38;5;241m*\u001B[39ma: Any, \u001B[38;5;241m*\u001B[39m\u001B[38;5;241m*\u001B[39mkw: Any) \u001B[38;5;241m-\u001B[39m\u001B[38;5;241m>\u001B[39m Any:\n\u001B[1;32m    227\u001B[0m     \u001B[38;5;28;01mtry\u001B[39;00m:\n\u001B[0;32m--> 228\u001B[0m         \u001B[38;5;28;01mreturn\u001B[39;00m \u001B[43mf\u001B[49m\u001B[43m(\u001B[49m\u001B[38;5;241;43m*\u001B[39;49m\u001B[43ma\u001B[49m\u001B[43m,\u001B[49m\u001B[43m \u001B[49m\u001B[38;5;241;43m*\u001B[39;49m\u001B[38;5;241;43m*\u001B[39;49m\u001B[43mkw\u001B[49m\u001B[43m)\u001B[49m\n\u001B[1;32m    229\u001B[0m     \u001B[38;5;28;01mexcept\u001B[39;00m Py4JJavaError \u001B[38;5;28;01mas\u001B[39;00m e:\n\u001B[1;32m    230\u001B[0m         converted \u001B[38;5;241m=\u001B[39m convert_exception(e\u001B[38;5;241m.\u001B[39mjava_exception)\n\nFile \u001B[0;32m/databricks/spark/python/lib/py4j-0.10.9.5-src.zip/py4j/protocol.py:326\u001B[0m, in \u001B[0;36mget_return_value\u001B[0;34m(answer, gateway_client, target_id, name)\u001B[0m\n\u001B[1;32m    324\u001B[0m value \u001B[38;5;241m=\u001B[39m OUTPUT_CONVERTER[\u001B[38;5;28mtype\u001B[39m](answer[\u001B[38;5;241m2\u001B[39m:], gateway_client)\n\u001B[1;32m    325\u001B[0m \u001B[38;5;28;01mif\u001B[39;00m answer[\u001B[38;5;241m1\u001B[39m] \u001B[38;5;241m==\u001B[39m REFERENCE_TYPE:\n\u001B[0;32m--> 326\u001B[0m     \u001B[38;5;28;01mraise\u001B[39;00m Py4JJavaError(\n\u001B[1;32m    327\u001B[0m         \u001B[38;5;124m\"\u001B[39m\u001B[38;5;124mAn error occurred while calling \u001B[39m\u001B[38;5;132;01m{0}\u001B[39;00m\u001B[38;5;132;01m{1}\u001B[39;00m\u001B[38;5;132;01m{2}\u001B[39;00m\u001B[38;5;124m.\u001B[39m\u001B[38;5;130;01m\\n\u001B[39;00m\u001B[38;5;124m\"\u001B[39m\u001B[38;5;241m.\u001B[39m\n\u001B[1;32m    328\u001B[0m         \u001B[38;5;28mformat\u001B[39m(target_id, \u001B[38;5;124m\"\u001B[39m\u001B[38;5;124m.\u001B[39m\u001B[38;5;124m\"\u001B[39m, name), value)\n\u001B[1;32m    329\u001B[0m \u001B[38;5;28;01melse\u001B[39;00m:\n\u001B[1;32m    330\u001B[0m     \u001B[38;5;28;01mraise\u001B[39;00m Py4JError(\n\u001B[1;32m    331\u001B[0m         \u001B[38;5;124m\"\u001B[39m\u001B[38;5;124mAn error occurred while calling \u001B[39m\u001B[38;5;132;01m{0}\u001B[39;00m\u001B[38;5;132;01m{1}\u001B[39;00m\u001B[38;5;132;01m{2}\u001B[39;00m\u001B[38;5;124m. Trace:\u001B[39m\u001B[38;5;130;01m\\n\u001B[39;00m\u001B[38;5;132;01m{3}\u001B[39;00m\u001B[38;5;130;01m\\n\u001B[39;00m\u001B[38;5;124m\"\u001B[39m\u001B[38;5;241m.\u001B[39m\n\u001B[1;32m    332\u001B[0m         \u001B[38;5;28mformat\u001B[39m(target_id, \u001B[38;5;124m\"\u001B[39m\u001B[38;5;124m.\u001B[39m\u001B[38;5;124m\"\u001B[39m, name, value))\n\n\u001B[0;31mPy4JJavaError\u001B[0m: An error occurred while calling o368.getArgument.\n: com.databricks.dbutils_v1.InputWidgetNotDefined: No input widget named tables is defined\n\tat com.databricks.backend.daemon.driver.NotebookArguments.checkExists(NotebookArguments.scala:72)\n\tat com.databricks.backend.daemon.driver.NotebookArguments.getArgument(NotebookArguments.scala:258)\n\tat sun.reflect.GeneratedMethodAccessor587.invoke(Unknown Source)\n\tat sun.reflect.DelegatingMethodAccessorImpl.invoke(DelegatingMethodAccessorImpl.java:43)\n\tat java.lang.reflect.Method.invoke(Method.java:498)\n\tat py4j.reflection.MethodInvoker.invoke(MethodInvoker.java:244)\n\tat py4j.reflection.ReflectionEngine.invoke(ReflectionEngine.java:380)\n\tat py4j.Gateway.invoke(Gateway.java:306)\n\tat py4j.commands.AbstractCommand.invokeMethod(AbstractCommand.java:132)\n\tat py4j.commands.CallCommand.execute(CallCommand.java:79)\n\tat py4j.ClientServerConnection.waitForCommands(ClientServerConnection.java:195)\n\tat py4j.ClientServerConnection.run(ClientServerConnection.java:115)\n\tat java.lang.Thread.run(Thread.java:750)\n",
       "errorSummary": "com.databricks.dbutils_v1.InputWidgetNotDefined: No input widget named tables is defined",
       "errorTraceType": "ansi",
       "metadata": {},
       "type": "ipynbError"
      }
     },
     "output_type": "display_data"
    }
   ],
   "source": [
    "table = json.loads(re.sub(\"\\'\", '\\\"', dbutils.widgets.get(\"tables\")))\n",
    "dls = json.loads(re.sub(\"\\'\", '\\\"', dbutils.widgets.get(\"dls\")))\n",
    "adf = json.loads(re.sub(\"\\'\", '\\\"', dbutils.widgets.get(\"adf\")))"
   ]
  },
  {
   "cell_type": "code",
   "execution_count": 0,
   "metadata": {
    "application/vnd.databricks.v1+cell": {
     "cellMetadata": {},
     "inputWidgets": {},
     "nuid": "01f04f50-7cb2-47eb-b28e-d8b9b811aaed",
     "showTitle": false,
     "title": ""
    }
   },
   "outputs": [],
   "source": [
    "{\"copy_sqldw\":\"false\",\"cadastro_estbl_path\":\"rfb_cnpj/cadastro_estbl_f\",\"cadastro_empresa_path\":\"rfb_cnpj/cadastro_empresa_f\",\"cadastro_simples_path\":\"rfb_cnpj/cadastro_simples_f\",\"rais_estab_path\":\"me/rais_estabelecimento\",\"siafi\":\"oni/governo_federal/orcamento_da_uniao/rfb/siafi\",\"exportadoras\":\"oni/mdic/comex/emp_bras_exp_imp/exportadoras\",\"importadoras\":\"oni/mdic/comex/emp_bras_exp_imp/importadoras\",\"class_inten_tec\":\"oni/ocde/ativ_econ/int_tec/class_inten_tec\",\"cnaes_contrib\":\"oni/observatorio_nacional/cnae/ger_arrec_fin/cnaes_contrib\",\"cnae_ncm\":\"oni/ibge/ativ_econ/class_produto/cnae_ncm\",\"cnae_isic\":\"oni/ibge/ativ_econ/class_internacionais/cnae_isic\",\"path_destination\":\"oni/base_unica_cnpjs/cnpjs_rfb_rais\",\"destination\":\"/oni/base_unica_cnpjs/cnpjs_rfb_rais\",\"databricks\":{\"notebook\":\"/biz/oni/base_unica_cnpjs/trs_biz_base_unificada_cnpjs\"}}"
   ]
  },
  {
   "cell_type": "code",
   "execution_count": 0,
   "metadata": {
    "application/vnd.databricks.v1+cell": {
     "cellMetadata": {
      "byteLimit": 2048000,
      "rowLimit": 10000
     },
     "inputWidgets": {},
     "nuid": "bde2f3f7-861d-45fb-b06e-b35143a4759c",
     "showTitle": false,
     "title": ""
    }
   },
   "outputs": [],
   "source": [
    "table = {\"copy_sqldw\":\"false\",\n",
    " \"cadastro_estbl_f\":\"rfb_cnpj/cadastro_estbl_f\",\n",
    " \"cadastro_empresa_f\":\"rfb_cnpj/cadastro_empresa_f\",\n",
    " \"cadastro_simples_f\":\"rfb_cnpj/cadastro_simples_f\",\n",
    " \"rais_estab\":\"me/rais_estabelecimento\",\n",
    " \"rais_vinc\":\"me/rais_vinculo\",\n",
    " \"trs_ipca_path\":\"ibge/ipca\",\n",
    " \"uds_siafi_path\":\"oni/governo_federal/orcamento_da_uniao/rfb/siafi\",\n",
    " \"exportadoras\":\"oni/mdic/comex/emp_bras_exp_imp/exportadoras\",\n",
    " \"importadoras\":\"oni/mdic/comex/emp_bras_exp_imp/importadoras\",\n",
    " \"class_inten_tec\":\"oni/ocde/ativ_econ/int_tec/class_inten_tec\",\n",
    " \"cnaes_contrib\":\"oni/observatorio_nacional/cnae/ger_arrec_fin/cnaes_contrib\",\n",
    " \"cnae_ncm\":\"oni/ibge/ativ_econ/class_produto/cnae_ncm\",\n",
    " \"cnae_isic\":\"oni/ibge/ativ_econ/class_internacionais/cnae_isic\",\n",
    " \"nat_juridica\":\"rfb_cnpj/tabelas_auxiliares_f/nat_juridica/\",\n",
    " \"path_destination\":\"oni/base_unica_cnpjs/cnpjs_rfb\",\n",
    " \"destination\":\"/oni/base_unica_cnpjs/cnpjs_rfb\",\n",
    " \"databricks\":{\"notebook\":\"/biz/oni/base_unica_cnpjs/trs_biz_etl_base_unificada_cnpjs\"}}\n",
    "\n",
    "#dls = {\"folders\":{\"landing\":\"/tmp/dev/uld\",\"error\":\"/tmp/dev/err\",\"staging\":\"/tmp/dev/stg\",\"log\":\"/tmp/dev/log\",\"raw\":\"/tmp/dev/raw\",\"archive\":\"/tmp/dev/ach\"},\"systems\":{\"raw\":\"usr\"},\"path_prefix\":\"/tmp/dev/\"}\n",
    " \n",
    "#adf = { 'namespace': '/oni', 'file_folder': '/empresas_exportadoras/imp_cnpj14', 'file_folder_raw':'/oni/mdic/comex/emp_bras_exp_imp/importadoras', 'extension': 'csv', 'column_delimiter': ';', 'encoding': 'UTF-8', 'null_value': '' }\n",
    "\n",
    "adf = {\"adf_factory_name\":\"cnibigdatafactory\",\"adf_pipeline_name\":\"trs_biz_rfb_cno\",\"adf_pipeline_run_id\":\"c158e9dd-98df-4f7b-a64d-d13c76669868\",\"adf_trigger_id\":\"67c514a7245449b984eb4aadd55bfbff\",\"adf_trigger_name\":\"Sandbox\",\"adf_trigger_time\":\"2023-08-22T21:22:42.5769844Z\",\"adf_trigger_type\":\"Manual\"}\n",
    " \n",
    "dls = {\"folders\":{\"landing\":\"/tmp/dev/lnd\",\"error\":\"/tmp/dev/err\",\"archive\":\"/tmp/dev/ach\",\"staging\":\"/tmp/dev/stg\",\"log\":\"/tmp/dev/log\",\"raw\":\"/tmp/dev/raw\",\"trusted\":\"/tmp/dev/trs\",\"business\":\"/tmp/dev/biz\",\"prm\":\"/tmp/dev/prm\",\"historico\":\"/tmp/dev/hst\"},\"path_prefix\":\"tmp\",\"uld\":{\"folders\":{\"landing\":\"/tmp/dev/uld\",\"error\":\"/tmp/dev/err\",\"staging\":\"/tmp/dev/stg\",\"log\":\"/tmp/dev/log\",\"raw\":\"/tmp/dev/raw\",\"archive\":\"/tmp/dev/ach\"},\"systems\":{\"raw\":\"usr\"},\"path_prefix\":\"/tmp/dev/\"},\"systems\":{\"raw\":\"usr\"}}"
   ]
  },
  {
   "cell_type": "code",
   "execution_count": 0,
   "metadata": {
    "application/vnd.databricks.v1+cell": {
     "cellMetadata": {
      "byteLimit": 2048000,
      "rowLimit": 10000
     },
     "inputWidgets": {},
     "nuid": "89b184c8-ad86-41d7-a522-31455c0799b4",
     "showTitle": false,
     "title": ""
    }
   },
   "outputs": [],
   "source": [
    "cadastro_estbl_f = \"{adl_path}{trs}/{file_folder}/\".format(adl_path=var_adls_uri, trs=dls['folders']['trusted'], file_folder=table['cadastro_estbl_f'])\n",
    "cadastro_estbl = spark.read.format(\"parquet\").option(\"header\",\"true\").option(\"encoding\", \"ISO-8859-1\").load(cadastro_estbl_f, mode=\"FAILFAST\")\n",
    "\n",
    "cadastro_empresa_f = \"{adl_path}{trs}/{file_folder}/\".format(adl_path=var_adls_uri, trs=dls['folders']['trusted'], file_folder=table['cadastro_empresa_f'])\n",
    "cadastro_empresa = spark.read.format(\"parquet\").option(\"header\",\"true\").option(\"encoding\", \"ISO-8859-1\").load(cadastro_empresa_f, mode=\"FAILFAST\")\n",
    "\n",
    "cadastro_simples_f = \"{adl_path}{trs}/{file_folder}/\".format(adl_path=var_adls_uri, trs=dls['folders']['trusted'], file_folder=table['cadastro_simples_f'])\n",
    "cadastro_simples = spark.read.format(\"parquet\").option(\"header\",\"true\").option(\"encoding\", \"ISO-8859-1\").load(cadastro_simples_f, mode=\"FAILFAST\")\n",
    "\n",
    "rais_estab = \"{adl_path}{trs}/{file_folder}/\".format(adl_path=var_adls_uri, trs=dls['folders']['trusted'], file_folder=table['rais_estab'])\n",
    "rais_estab = spark.read.format(\"parquet\").option(\"header\",\"true\").option(\"encoding\", \"ISO-8859-1\").load(rais_estab, mode=\"FAILFAST\")\n",
    "rais_estab = rais_estab.withColumn('CD_CNAE20_SUBCLASSE', f.lpad(f.col('CD_CNAE20_SUBCLASSE'),7,'0'))\n",
    "\n",
    "rais_vinc = \"{adl_path}{trs}/{file_folder}/\".format(adl_path=var_adls_uri, trs=dls['folders']['trusted'], file_folder=table['rais_vinc'])\n",
    "rais_vinc = (spark.read.format(\"parquet\").option(\"header\",\"true\").option(\"encoding\", \"ISO-8859-1\").load(rais_vinc, mode=\"FAILFAST\")\n",
    "             .where((f.col('ANO').isin([2016,2017,2018])) & (f.col('FL_VINCULO_ATIVO_3112')==f.lit('1')))\n",
    "             .select('ANO', 'ID_CNPJ_CEI', 'FL_VINCULO_ATIVO_3112', 'CD_MUNICIPIO', 'CD_GRAU_INSTRUCAO', 'CD_SEXO', 'CD_RACA_COR', 'VL_IDADE', 'VL_REMUN_MEDIA_NOM', 'CD_TIPO_VINCULO')\n",
    "              )"
   ]
  },
  {
   "cell_type": "code",
   "execution_count": 0,
   "metadata": {
    "application/vnd.databricks.v1+cell": {
     "cellMetadata": {
      "byteLimit": 2048000,
      "rowLimit": 10000
     },
     "inputWidgets": {},
     "nuid": "c09dcad5-50f1-4497-b496-ac827bcc1876",
     "showTitle": false,
     "title": ""
    }
   },
   "outputs": [],
   "source": [
    "cadastro_estbl = (cadastro_estbl\n",
    "                 .where((f.col('CD_SIT_CADASTRAL').isin('01', '02', '03')))\n",
    "                 .withColumn('ANO_SIT_CADASTRAL', f.substring(f.col('DT_SIT_CADASTRAL'),1,4))\n",
    "                 .withColumn('ANO_INICIO_ATIV', f.substring(f.col('DT_INICIO_ATIV'),1,4)))"
   ]
  },
  {
   "cell_type": "code",
   "execution_count": 0,
   "metadata": {
    "application/vnd.databricks.v1+cell": {
     "cellMetadata": {
      "byteLimit": 2048000,
      "rowLimit": 10000
     },
     "inputWidgets": {},
     "nuid": "5bdd2f6d-c36d-4836-bddb-392e07647edf",
     "showTitle": false,
     "title": ""
    }
   },
   "outputs": [],
   "source": [
    "cadastro_estbl = (cadastro_estbl.where((f.col('ANO_INICIO_ATIV')!='1199')))\n",
    "#cadastro_estbl.count()"
   ]
  },
  {
   "cell_type": "code",
   "execution_count": 0,
   "metadata": {
    "application/vnd.databricks.v1+cell": {
     "cellMetadata": {
      "byteLimit": 2048000,
      "rowLimit": 10000
     },
     "inputWidgets": {},
     "nuid": "6c87c47b-0814-4d5f-b6c1-d488dd82cd5e",
     "showTitle": false,
     "title": ""
    }
   },
   "outputs": [],
   "source": [
    "cadastro_estbl = (cadastro_estbl.where((f.col('ANO_INICIO_ATIV')!='1601')))\n",
    "#cadastro_estbl.count()"
   ]
  },
  {
   "cell_type": "code",
   "execution_count": 0,
   "metadata": {
    "application/vnd.databricks.v1+cell": {
     "cellMetadata": {
      "byteLimit": 2048000,
      "rowLimit": 10000
     },
     "inputWidgets": {},
     "nuid": "06c50aef-ee85-4dc8-990f-03a4a2dce742",
     "showTitle": false,
     "title": ""
    }
   },
   "outputs": [],
   "source": [
    "rais_vinc_raca = (rais_vinc\n",
    "              .groupby('ID_CNPJ_CEI', 'ANO')\n",
    "              .pivot('CD_RACA_COR')\n",
    "              .agg(f.count(f.lit(1)).alias('ANOS_CNPJ'))\n",
    "              .withColumnRenamed('01', 'NR_FUNC_INDIGENA')\n",
    "              .withColumnRenamed('02', 'NR_FUNC_BRANCA')\n",
    "              .withColumnRenamed('04', 'NR_FUNC_PRETA')\n",
    "              .withColumnRenamed('06', 'NR_FUNC_AMARELA')\n",
    "              .withColumnRenamed('08', 'NR_FUNC_PARDA')\n",
    "              .withColumnRenamed('09', 'NR_FUNC_NIDENT')\n",
    "              .withColumnRenamed('99', 'NR_FUNC_NDECLARADA')\n",
    "              )"
   ]
  },
  {
   "cell_type": "code",
   "execution_count": 0,
   "metadata": {
    "application/vnd.databricks.v1+cell": {
     "cellMetadata": {
      "byteLimit": 2048000,
      "rowLimit": 10000
     },
     "inputWidgets": {},
     "nuid": "c7429e17-0f65-4934-b737-8e300364b904",
     "showTitle": false,
     "title": ""
    }
   },
   "outputs": [],
   "source": [
    "rais_vinc_sexo = (rais_vinc\n",
    "              .groupby('ID_CNPJ_CEI', 'ANO')\n",
    "              .pivot('CD_SEXO')\n",
    "              .agg(f.count(f.lit(1)).alias('ANOS_CNPJ'))\n",
    "              .withColumnRenamed('01', 'NR_FUNC_MASCULINO')\n",
    "              .withColumnRenamed('02', 'NR_FUNC_FEMININO')\n",
    "              )"
   ]
  },
  {
   "cell_type": "code",
   "execution_count": 0,
   "metadata": {
    "application/vnd.databricks.v1+cell": {
     "cellMetadata": {
      "byteLimit": 2048000,
      "rowLimit": 10000
     },
     "inputWidgets": {},
     "nuid": "24d6ba1f-794a-4ed9-805d-caa915cf1111",
     "showTitle": false,
     "title": ""
    }
   },
   "outputs": [],
   "source": [
    "rais_vinc_escol = (rais_vinc.withColumn('ESCOLARIDADE', \n",
    "                                 f.when(f.col('CD_GRAU_INSTRUCAO') == f.lit('01'), f.lit('01'))\n",
    "                                 .otherwise(\n",
    "                                 f.when((f.col('CD_GRAU_INSTRUCAO') == f.lit('02')) | (f.col('CD_GRAU_INSTRUCAO') == f.lit('03')) | (f.col('CD_GRAU_INSTRUCAO') == f.lit('04')), f.lit('02'))\n",
    "                                 .otherwise(\n",
    "                                 f.when((f.col('CD_GRAU_INSTRUCAO') == f.lit('05')) | (f.col('CD_GRAU_INSTRUCAO') == f.lit('06')), f.lit('03'))\n",
    "                                 .otherwise(\n",
    "                                 f.when((f.col('CD_GRAU_INSTRUCAO') == f.lit('08')) | (f.col('CD_GRAU_INSTRUCAO') == f.lit('07')), f.lit('04'))\n",
    "                                 .otherwise(\n",
    "                                 f.when((f.col('CD_GRAU_INSTRUCAO') == f.lit('09')) | (f.col('CD_GRAU_INSTRUCAO') == f.lit('10')) | (f.col('CD_GRAU_INSTRUCAO') == f.lit('11')), f.lit('05')) \n",
    "                                 ))))))"
   ]
  },
  {
   "cell_type": "code",
   "execution_count": 0,
   "metadata": {
    "application/vnd.databricks.v1+cell": {
     "cellMetadata": {
      "byteLimit": 2048000,
      "rowLimit": 10000
     },
     "inputWidgets": {},
     "nuid": "db896242-7bea-4f77-901a-ba5ddca5018a",
     "showTitle": false,
     "title": ""
    }
   },
   "outputs": [],
   "source": [
    "rais_vinc_escol = (rais_vinc_escol\n",
    "              .groupby('ID_CNPJ_CEI', 'ANO')\n",
    "              .pivot('ESCOLARIDADE')\n",
    "              .agg(f.count(f.lit(1)).alias('ANOS_CNPJ'))\n",
    "              .withColumnRenamed('01', 'NR_FUNC_SEM_INSTRUCAO')\n",
    "              .withColumnRenamed('02', 'NR_FUNC_SABE_LER_ESCREVER')\n",
    "              .withColumnRenamed('03', 'NR_FUNC_PM_EF_COMPLETO')\n",
    "              .withColumnRenamed('04', 'NR_FUNC_PM_EM_COMPLETO')\n",
    "              .withColumnRenamed('05', 'NR_FUNC_SUPERIO_COMPLETO_MAIS')\n",
    "              )"
   ]
  },
  {
   "cell_type": "code",
   "execution_count": 0,
   "metadata": {
    "application/vnd.databricks.v1+cell": {
     "cellMetadata": {
      "byteLimit": 2048000,
      "rowLimit": 10000
     },
     "inputWidgets": {},
     "nuid": "a688b7b1-7a60-4b0f-8dac-9e0806990dc2",
     "showTitle": false,
     "title": ""
    }
   },
   "outputs": [],
   "source": [
    "rais_vinc_fetaria = (rais_vinc\n",
    "                     .where(f.col('VL_IDADE') >= 15)\n",
    "                     .withColumn('FAIXA_ETARIA', \n",
    "                                 f.when((f.col('VL_IDADE') >= f.lit(15)) & (f.col('VL_IDADE') <= f.lit(17)), f.lit('01'))\n",
    "                                 .otherwise(\n",
    "                                 f.when((f.col('VL_IDADE') >= f.lit(18)) & (f.col('VL_IDADE') <= f.lit(24)), f.lit('02'))\n",
    "                                 .otherwise(\n",
    "                                 f.when((f.col('VL_IDADE') >= f.lit(25)) & (f.col('VL_IDADE') <= f.lit(29)), f.lit('03'))\n",
    "                                 .otherwise(\n",
    "                                 f.when((f.col('VL_IDADE') >= f.lit(30)) & (f.col('VL_IDADE') <= f.lit(39)), f.lit('04'))\n",
    "                                 .otherwise(\n",
    "                                 f.when((f.col('VL_IDADE') >= f.lit(40)) & (f.col('VL_IDADE') <= f.lit(49)), f.lit('05')) \n",
    "                                 .otherwise(\n",
    "                                 f.when((f.col('VL_IDADE') >= f.lit(50)) & (f.col('VL_IDADE') <= f.lit(64)), f.lit('06'))\n",
    "                                 .otherwise(\n",
    "                                 f.when(f.col('VL_IDADE') >= f.lit(65), f.lit('07'))  \n",
    "                                 ))))))))"
   ]
  },
  {
   "cell_type": "code",
   "execution_count": 0,
   "metadata": {
    "application/vnd.databricks.v1+cell": {
     "cellMetadata": {
      "byteLimit": 2048000,
      "rowLimit": 10000
     },
     "inputWidgets": {},
     "nuid": "497c599d-80e3-4fd1-94d0-ac852e21d1e0",
     "showTitle": false,
     "title": ""
    }
   },
   "outputs": [],
   "source": [
    "rais_vinc_fetaria = (rais_vinc_fetaria\n",
    "              .groupby('ID_CNPJ_CEI', 'ANO')\n",
    "              .pivot('FAIXA_ETARIA')\n",
    "              .agg(f.count(f.lit(1)).alias('ANOS_CNPJ'))\n",
    "              .withColumnRenamed('01', 'NR_FUNC_15_A_17ANOS')\n",
    "              .withColumnRenamed('02', 'NR_FUNC_18_A_24ANOS')\n",
    "              .withColumnRenamed('03', 'NR_FUNC_25_A_29ANOS')\n",
    "              .withColumnRenamed('04', 'NR_FUNC_30_A_39ANOS')\n",
    "              .withColumnRenamed('05', 'NR_FUNC_40_A_49ANOS')\n",
    "              .withColumnRenamed('06', 'NR_FUNC_50_A_64ANOS')\n",
    "              .withColumnRenamed('07', 'NR_FUNC_65_MAIS')\n",
    "              )"
   ]
  },
  {
   "cell_type": "code",
   "execution_count": 0,
   "metadata": {
    "application/vnd.databricks.v1+cell": {
     "cellMetadata": {
      "byteLimit": 2048000,
      "rowLimit": 10000
     },
     "inputWidgets": {},
     "nuid": "9784ebba-e01b-4219-84ac-4df4c83eef46",
     "showTitle": false,
     "title": ""
    }
   },
   "outputs": [],
   "source": [
    "rais_vinc_aprend = (rais_vinc\n",
    "                    .where(f.col('CD_TIPO_VINCULO')==55)\n",
    "                    .groupby(['ID_CNPJ_CEI', 'ANO'])\n",
    "                    .agg(f.count(f.lit(1)).alias('NR_FUNC_APRENDIZ'))\n",
    "              .orderBy('ID_CNPJ_CEI', ascending=False))"
   ]
  },
  {
   "cell_type": "markdown",
   "metadata": {
    "application/vnd.databricks.v1+cell": {
     "cellMetadata": {},
     "inputWidgets": {},
     "nuid": "af0ed17b-1a60-4449-8ddf-5076f455d9b7",
     "showTitle": false,
     "title": ""
    }
   },
   "source": [
    "\n",
    "### Deflacionamento do salário"
   ]
  },
  {
   "cell_type": "code",
   "execution_count": 0,
   "metadata": {
    "application/vnd.databricks.v1+cell": {
     "cellMetadata": {
      "byteLimit": 2048000,
      "rowLimit": 10000
     },
     "inputWidgets": {},
     "nuid": "2a602417-ea8d-4e8d-bdeb-900979622d66",
     "showTitle": false,
     "title": ""
    }
   },
   "outputs": [],
   "source": [
    "trs_ipca_path = \"{adl_path}{trs}/{file_folder}\".format(adl_path=var_adls_uri, trs=dls['folders']['trusted'], file_folder=table['trs_ipca_path'])\n",
    "df_ipca = spark.read.format(\"parquet\").option(\"header\",\"true\").option(\"encoding\", \"ISO-8859-1\").load(trs_ipca_path, mode=\"FAILFAST\")        "
   ]
  },
  {
   "cell_type": "code",
   "execution_count": 0,
   "metadata": {
    "application/vnd.databricks.v1+cell": {
     "cellMetadata": {
      "byteLimit": 2048000,
      "rowLimit": 10000
     },
     "inputWidgets": {},
     "nuid": "7a72ea8a-e01d-4aef-bb96-9f9ad38fb57b",
     "showTitle": false,
     "title": ""
    }
   },
   "outputs": [],
   "source": [
    "window = Window.partitionBy()\n",
    "\n",
    "df_ipca2 = (df_ipca\n",
    "           .withColumnRenamed('NR_ANO','ANO')\n",
    "           .withColumnRenamed('VL_IPCA','VALOR_IPCA')\n",
    "           .withColumnRenamed('DS_MES_COMPETENCIA','MES_COMPETENCIA')\n",
    "           .withColumn('MES_COMPETENCIA', \n",
    "                       f.when(f.col('MES_COMPETENCIA')==f.lit('janeiro'), f.lit(1)).otherwise(\n",
    "                         f.when(f.col('MES_COMPETENCIA')==f.lit('fevereiro'), f.lit(2)).otherwise(\n",
    "                         f.when(f.col('MES_COMPETENCIA')==f.lit('março'), f.lit(3)).otherwise(\n",
    "                         f.when(f.col('MES_COMPETENCIA')==f.lit('abril'), f.lit(4)).otherwise(\n",
    "                         f.when(f.col('MES_COMPETENCIA')==f.lit('maio'), f.lit(5)).otherwise(\n",
    "                         f.when(f.col('MES_COMPETENCIA')==f.lit('junho'), f.lit(6)).otherwise(\n",
    "                         f.when(f.col('MES_COMPETENCIA')==f.lit('julho'), f.lit(7)).otherwise(\n",
    "                         f.when(f.col('MES_COMPETENCIA')==f.lit('agosto'), f.lit(8)).otherwise(\n",
    "                         f.when(f.col('MES_COMPETENCIA')==f.lit('setembro'), f.lit(9)).otherwise(\n",
    "                         f.when(f.col('MES_COMPETENCIA')==f.lit('outubro'), f.lit(10)).otherwise(\n",
    "                         f.when(f.col('MES_COMPETENCIA')==f.lit('novembro'), f.lit(11)).otherwise(\n",
    "                          \n",
    "                         f.when(f.col('MES_COMPETENCIA')==f.lit('dezembro'), f.lit(12))))))))))))))\n",
    "           .orderBy(\"ANO\",\"MES_COMPETENCIA\")\n",
    "           .withColumn('base_fixa',f.last(f.col('VALOR_IPCA')).over(window))\n",
    "           .withColumn('INDICE_FIXO_ULTIMO_ANO',f.col('VALOR_IPCA')/f.col('base_fixa'))\n",
    "           .select('ANO',\"MES_COMPETENCIA\",'INDICE_FIXO_ULTIMO_ANO'))"
   ]
  },
  {
   "cell_type": "code",
   "execution_count": 0,
   "metadata": {
    "application/vnd.databricks.v1+cell": {
     "cellMetadata": {
      "byteLimit": 2048000,
      "rowLimit": 10000
     },
     "inputWidgets": {},
     "nuid": "dfa8fe8b-ce7a-4789-bdd6-a2f39a162a59",
     "showTitle": false,
     "title": ""
    }
   },
   "outputs": [],
   "source": [
    "df_ipca2 = (df_ipca\n",
    "           .withColumnRenamed('NR_ANO','ANO')\n",
    "           .withColumnRenamed('VL_IPCA','VALOR_IPCA')\n",
    "           .withColumnRenamed('DS_MES_COMPETENCIA','MES_COMPETENCIA')\n",
    "           .withColumn('MES_COMPETENCIA', \n",
    "                       f.when(f.col('MES_COMPETENCIA')==f.lit('janeiro'), f.lit(1)).otherwise(\n",
    "                         f.when(f.col('MES_COMPETENCIA')==f.lit('fevereiro'), f.lit(2)).otherwise(\n",
    "                         f.when(f.col('MES_COMPETENCIA')==f.lit('março'), f.lit(3)).otherwise(\n",
    "                         f.when(f.col('MES_COMPETENCIA')==f.lit('abril'), f.lit(4)).otherwise(\n",
    "                         f.when(f.col('MES_COMPETENCIA')==f.lit('maio'), f.lit(5)).otherwise(\n",
    "                         f.when(f.col('MES_COMPETENCIA')==f.lit('junho'), f.lit(6)).otherwise(\n",
    "                         f.when(f.col('MES_COMPETENCIA')==f.lit('julho'), f.lit(7)).otherwise(\n",
    "                         f.when(f.col('MES_COMPETENCIA')==f.lit('agosto'), f.lit(8)).otherwise(\n",
    "                         f.when(f.col('MES_COMPETENCIA')==f.lit('setembro'), f.lit(9)).otherwise(\n",
    "                         f.when(f.col('MES_COMPETENCIA')==f.lit('outubro'), f.lit(10)).otherwise(\n",
    "                         f.when(f.col('MES_COMPETENCIA')==f.lit('novembro'), f.lit(11)).otherwise(\n",
    "                          \n",
    "                         f.when(f.col('MES_COMPETENCIA')==f.lit('dezembro'), f.lit(12))))))))))))))\n",
    "           .orderBy(\"ANO\",\"MES_COMPETENCIA\"))"
   ]
  },
  {
   "cell_type": "code",
   "execution_count": 0,
   "metadata": {
    "application/vnd.databricks.v1+cell": {
     "cellMetadata": {
      "byteLimit": 2048000,
      "rowLimit": 10000
     },
     "inputWidgets": {},
     "nuid": "a2581ebe-becf-47c9-8442-22f291cb7137",
     "showTitle": false,
     "title": ""
    }
   },
   "outputs": [],
   "source": [
    "df_ipca2 = (df_ipca2\n",
    ".withColumn('base_fixa',f.last(f.col('VALOR_IPCA')).over(window))\n",
    "           .withColumn('INDICE_FIXO_ULTIMO_ANO',f.col('VALOR_IPCA')/f.col('base_fixa'))\n",
    "           .select('ANO',\"MES_COMPETENCIA\",'INDICE_FIXO_ULTIMO_ANO'))"
   ]
  },
  {
   "cell_type": "code",
   "execution_count": 0,
   "metadata": {
    "application/vnd.databricks.v1+cell": {
     "cellMetadata": {
      "byteLimit": 2048000,
      "rowLimit": 10000
     },
     "inputWidgets": {},
     "nuid": "fa25683d-7432-49f6-803f-b7599bb773da",
     "showTitle": false,
     "title": ""
    }
   },
   "outputs": [],
   "source": [
    "df_ipca_dez = (df_ipca2\n",
    "               .where(f.col(\"MES_COMPETENCIA\")==f.lit(12))\n",
    "               .select('ANO','INDICE_FIXO_ULTIMO_ANO'))"
   ]
  },
  {
   "cell_type": "code",
   "execution_count": 0,
   "metadata": {
    "application/vnd.databricks.v1+cell": {
     "cellMetadata": {
      "byteLimit": 2048000,
      "rowLimit": 10000
     },
     "inputWidgets": {},
     "nuid": "98e8cf49-32e2-4786-8a53-c0829901caac",
     "showTitle": false,
     "title": ""
    }
   },
   "outputs": [],
   "source": [
    "rais_salario = (rais_vinc\n",
    "                   .join(df_ipca_dez,['ANO'],'left') \n",
    "                   .withColumn('VL_REMUN_MEDIA_REAL', f.col('VL_REMUN_MEDIA_NOM')/f.col('INDICE_FIXO_ULTIMO_ANO'))\n",
    "                   .drop('INDICE_FIXO_ULTIMO_ANO'))"
   ]
  },
  {
   "cell_type": "code",
   "execution_count": 0,
   "metadata": {
    "application/vnd.databricks.v1+cell": {
     "cellMetadata": {
      "byteLimit": 2048000,
      "rowLimit": 10000
     },
     "inputWidgets": {},
     "nuid": "73f8492b-3ce9-4163-8b67-95508721ee3d",
     "showTitle": false,
     "title": ""
    }
   },
   "outputs": [],
   "source": [
    "rais_salario = (rais_salario\n",
    "                    .groupby(['ID_CNPJ_CEI', 'ANO'])\n",
    "                    .agg((f.sum('VL_REMUN_MEDIA_REAL').alias('MASSA_SALARIAL')),\n",
    "                         f.mean('VL_REMUN_MEDIA_REAL').alias('REMUNERACAO_MEDIA')))"
   ]
  },
  {
   "cell_type": "code",
   "execution_count": 0,
   "metadata": {
    "application/vnd.databricks.v1+cell": {
     "cellMetadata": {
      "byteLimit": 2048000,
      "rowLimit": 10000
     },
     "inputWidgets": {},
     "nuid": "7494a677-685a-423b-9c6f-ee6cfb0acf56",
     "showTitle": false,
     "title": ""
    }
   },
   "outputs": [],
   "source": [
    "rais_info_vinc = rais_vinc_raca.join(rais_vinc_sexo,['ID_CNPJ_CEI', 'ANO'],'outer')\n",
    "rais_info_vinc = rais_info_vinc.join(rais_vinc_escol,['ID_CNPJ_CEI', 'ANO'],'outer')\n",
    "rais_info_vinc = rais_info_vinc.join(rais_vinc_fetaria,['ID_CNPJ_CEI', 'ANO'],'outer')\n",
    "rais_info_vinc = rais_info_vinc.join(rais_vinc_aprend,['ID_CNPJ_CEI', 'ANO'],'outer')\n",
    "rais_info_vinc = rais_info_vinc.join(rais_salario,['ID_CNPJ_CEI', 'ANO'],'outer')"
   ]
  },
  {
   "cell_type": "code",
   "execution_count": 0,
   "metadata": {
    "application/vnd.databricks.v1+cell": {
     "cellMetadata": {
      "byteLimit": 2048000,
      "rowLimit": 10000
     },
     "inputWidgets": {},
     "nuid": "2e7223f1-a6fb-4053-a0a5-92b1db61166c",
     "showTitle": false,
     "title": ""
    }
   },
   "outputs": [],
   "source": [
    "#display(rais_info_vinc)"
   ]
  },
  {
   "cell_type": "code",
   "execution_count": 0,
   "metadata": {
    "application/vnd.databricks.v1+cell": {
     "cellMetadata": {
      "byteLimit": 2048000,
      "rowLimit": 10000
     },
     "inputWidgets": {},
     "nuid": "1611e059-176d-4b62-9ed3-a9f44c4a53fa",
     "showTitle": false,
     "title": ""
    }
   },
   "outputs": [],
   "source": [
    "rais_estab = rais_estab.join(rais_info_vinc,['ID_CNPJ_CEI', 'ANO'],'left')"
   ]
  },
  {
   "cell_type": "code",
   "execution_count": 0,
   "metadata": {
    "application/vnd.databricks.v1+cell": {
     "cellMetadata": {
      "byteLimit": 2048000,
      "rowLimit": 10000
     },
     "inputWidgets": {},
     "nuid": "38ff2b73-6d8a-49d1-9539-ec75f7d57d27",
     "showTitle": false,
     "title": ""
    }
   },
   "outputs": [],
   "source": [
    "rais_estab_2018 = (rais_estab\n",
    "              .where((f.col('ANO').isin(2018) & (f.col('QT_VINC_ATIV') > 0) & (f.col('FL_IND_RAIS_NEGAT') == 0)))\n",
    "              .select('ID_CNPJ_CEI', 'ID_RAZAO_SOCIAL', 'FL_IND_SIMPLES', 'CD_CNAE20_SUBCLASSE', 'QT_VINC_ATIV', 'CD_IBGE_SUBSETOR','CD_MUNICIPIO', 'ID_CEI_VINCULADO', 'CD_NATUREZA_JURIDICA','NR_FUNC_INDIGENA','NR_FUNC_BRANCA','NR_FUNC_PRETA','NR_FUNC_AMARELA','NR_FUNC_PARDA', 'NR_FUNC_NIDENT','NR_FUNC_NDECLARADA','NR_FUNC_MASCULINO','NR_FUNC_FEMININO','NR_FUNC_SEM_INSTRUCAO','NR_FUNC_SABE_LER_ESCREVER'\n",
    "              ,'NR_FUNC_PM_EF_COMPLETO','NR_FUNC_PM_EM_COMPLETO','NR_FUNC_SUPERIO_COMPLETO_MAIS','NR_FUNC_15_A_17ANOS','NR_FUNC_18_A_24ANOS'\n",
    "              ,'NR_FUNC_25_A_29ANOS','NR_FUNC_30_A_39ANOS','NR_FUNC_40_A_49ANOS','NR_FUNC_50_A_64ANOS','NR_FUNC_65_MAIS','NR_FUNC_APRENDIZ'\n",
    "              ,'MASSA_SALARIAL','REMUNERACAO_MEDIA')\n",
    "              .withColumnRenamed('ID_CNPJ_CEI', 'CD_CNPJ'))\n",
    "\n",
    "rais_estab_2017 = (rais_estab\n",
    "              .where((f.col('ANO').isin(2017) & (f.col('QT_VINC_ATIV') > 0) & (f.col('FL_IND_RAIS_NEGAT') == 0)))\n",
    "              .select('ID_CNPJ_CEI', 'ID_RAZAO_SOCIAL', 'FL_IND_SIMPLES', 'CD_CNAE20_SUBCLASSE', 'QT_VINC_ATIV', 'CD_IBGE_SUBSETOR','CD_MUNICIPIO', 'ID_CEI_VINCULADO', 'CD_NATUREZA_JURIDICA','NR_FUNC_INDIGENA','NR_FUNC_BRANCA','NR_FUNC_PRETA','NR_FUNC_AMARELA','NR_FUNC_PARDA', 'NR_FUNC_NIDENT','NR_FUNC_NDECLARADA','NR_FUNC_MASCULINO','NR_FUNC_FEMININO','NR_FUNC_SEM_INSTRUCAO','NR_FUNC_SABE_LER_ESCREVER'\n",
    "              ,'NR_FUNC_PM_EF_COMPLETO','NR_FUNC_PM_EM_COMPLETO','NR_FUNC_SUPERIO_COMPLETO_MAIS','NR_FUNC_15_A_17ANOS','NR_FUNC_18_A_24ANOS'\n",
    "              ,'NR_FUNC_25_A_29ANOS','NR_FUNC_30_A_39ANOS','NR_FUNC_40_A_49ANOS','NR_FUNC_50_A_64ANOS','NR_FUNC_65_MAIS','NR_FUNC_APRENDIZ'\n",
    "              ,'MASSA_SALARIAL','REMUNERACAO_MEDIA')\n",
    "              .withColumnRenamed('ID_CNPJ_CEI', 'CD_CNPJ'))\n",
    "\n",
    "rais_estab_2016 = (rais_estab\n",
    "              .where((f.col('ANO').isin(2016) & (f.col('QT_VINC_ATIV') > 0) & (f.col('FL_IND_RAIS_NEGAT') == 0)))\n",
    "              .select('ID_CNPJ_CEI', 'ID_RAZAO_SOCIAL', 'FL_IND_SIMPLES', 'CD_CNAE20_SUBCLASSE', 'QT_VINC_ATIV', 'CD_IBGE_SUBSETOR','CD_MUNICIPIO', 'ID_CEI_VINCULADO', 'CD_NATUREZA_JURIDICA','NR_FUNC_INDIGENA','NR_FUNC_BRANCA','NR_FUNC_PRETA','NR_FUNC_AMARELA','NR_FUNC_PARDA', 'NR_FUNC_NIDENT','NR_FUNC_NDECLARADA','NR_FUNC_MASCULINO','NR_FUNC_FEMININO','NR_FUNC_SEM_INSTRUCAO','NR_FUNC_SABE_LER_ESCREVER'\n",
    "              ,'NR_FUNC_PM_EF_COMPLETO','NR_FUNC_PM_EM_COMPLETO','NR_FUNC_SUPERIO_COMPLETO_MAIS','NR_FUNC_15_A_17ANOS','NR_FUNC_18_A_24ANOS'\n",
    "              ,'NR_FUNC_25_A_29ANOS','NR_FUNC_30_A_39ANOS','NR_FUNC_40_A_49ANOS','NR_FUNC_50_A_64ANOS','NR_FUNC_65_MAIS','NR_FUNC_APRENDIZ'\n",
    "              ,'MASSA_SALARIAL','REMUNERACAO_MEDIA')\n",
    "              .withColumnRenamed('ID_CNPJ_CEI', 'CD_CNPJ'))"
   ]
  },
  {
   "cell_type": "code",
   "execution_count": 0,
   "metadata": {
    "application/vnd.databricks.v1+cell": {
     "cellMetadata": {
      "byteLimit": 2048000,
      "rowLimit": 10000
     },
     "inputWidgets": {},
     "nuid": "ae2788b8-45d1-400c-9a31-8dc581de550b",
     "showTitle": false,
     "title": ""
    }
   },
   "outputs": [],
   "source": [
    "estbl_cnpj = (cadastro_estbl.select('CD_CNPJ','CD_CNPJ_BASICO'))\n",
    "\n",
    "estbl_cnpj_2018 = (estbl_cnpj.join(rais_estab_2018, 'CD_CNPJ', how='left'))\n",
    "estbl_cnpj_2017 = (estbl_cnpj_2018\n",
    ".where(f.col('CD_CNAE20_SUBCLASSE').isNull())\n",
    ".select('CD_CNPJ','CD_CNPJ_BASICO')\n",
    ".join(rais_estab_2017, 'CD_CNPJ', how='left'))\n",
    "estbl_cnpj_2016 = (estbl_cnpj_2017\n",
    ".where(f.col('CD_CNAE20_SUBCLASSE').isNull())\n",
    ".select('CD_CNPJ','CD_CNPJ_BASICO')\n",
    ".join(rais_estab_2016, 'CD_CNPJ', how='left'))\n",
    "\n",
    "\n",
    "estbl_cnpj_2018 = (estbl_cnpj_2018.where(f.col('CD_CNAE20_SUBCLASSE').isNotNull()).withColumn('ANO_RAIS', f.lit(2018)))\n",
    "estbl_cnpj_2017 = (estbl_cnpj_2017.where(f.col('CD_CNAE20_SUBCLASSE').isNotNull()).withColumn('ANO_RAIS', f.lit(2017)))\n",
    "estbl_cnpj_2016 = (estbl_cnpj_2016.where(f.col('CD_CNAE20_SUBCLASSE').isNotNull()).withColumn('ANO_RAIS', f.lit(2016)))\n",
    "\n",
    "rais_estab_infos = estbl_cnpj_2018.union(estbl_cnpj_2017)\n",
    "rais_estab_infos = rais_estab_infos.union(estbl_cnpj_2016)\n",
    "\n",
    "rais_estab_infos = rais_estab_infos.drop('CD_CNPJ_BASICO')"
   ]
  },
  {
   "cell_type": "code",
   "execution_count": 0,
   "metadata": {
    "application/vnd.databricks.v1+cell": {
     "cellMetadata": {
      "byteLimit": 2048000,
      "rowLimit": 10000
     },
     "inputWidgets": {},
     "nuid": "8917cb82-26a3-4a9a-94c3-b2bb2ea6eaf3",
     "showTitle": false,
     "title": ""
    }
   },
   "outputs": [],
   "source": [
    "rais_porte = (rais_estab\n",
    "              .where((f.col('ANO').isin(2016,2017,2018)) & (f.col('QT_VINC_ATIV') > 0) & (f.col('FL_IND_RAIS_NEGAT') == 0))\n",
    "              .withColumn('CD_CNAE20_DIVISAO',f.substring(f.col('CD_CNAE20_SUBCLASSE'),1,2)))"
   ]
  },
  {
   "cell_type": "code",
   "execution_count": 0,
   "metadata": {
    "application/vnd.databricks.v1+cell": {
     "cellMetadata": {
      "byteLimit": 2048000,
      "rowLimit": 10000
     },
     "inputWidgets": {},
     "nuid": "99bc259e-f51e-4bc8-a634-121da49b2b76",
     "showTitle": false,
     "title": ""
    }
   },
   "outputs": [],
   "source": [
    "duplicados = (rais_porte\n",
    "              .groupby(['ID_CNPJ_CEI', 'ANO'])\n",
    "              .agg(f.count(f.lit(1)).alias('DUPLICADOS'))\n",
    "              .orderBy('DUPLICADOS', ascending=False))\n",
    "#display(duplicados.where(f.col('DUPLICADOS')> 1))"
   ]
  },
  {
   "cell_type": "code",
   "execution_count": 0,
   "metadata": {
    "application/vnd.databricks.v1+cell": {
     "cellMetadata": {
      "byteLimit": 2048000,
      "rowLimit": 10000
     },
     "inputWidgets": {},
     "nuid": "b1bf9ce3-a696-4065-85be-8daf081f4a35",
     "showTitle": false,
     "title": ""
    }
   },
   "outputs": [],
   "source": [
    "rais_porte = rais_porte.join(duplicados, on=['ID_CNPJ_CEI', 'ANO'], how='left')\n",
    "rais_porte = (rais_porte.where(f.col('DUPLICADOS') == f.lit(1)).drop('DUPLICADOS'))"
   ]
  },
  {
   "cell_type": "code",
   "execution_count": 0,
   "metadata": {
    "application/vnd.databricks.v1+cell": {
     "cellMetadata": {
      "byteLimit": 2048000,
      "rowLimit": 10000
     },
     "inputWidgets": {},
     "nuid": "76e791d0-b574-41e6-9ada-eb158bd3bd10",
     "showTitle": false,
     "title": ""
    }
   },
   "outputs": [],
   "source": [
    "rais_porte = rais_porte.withColumn('CD_CNAE20_DIVISAO', rais_porte['CD_CNAE20_DIVISAO'].cast(IntegerType()))"
   ]
  },
  {
   "cell_type": "code",
   "execution_count": 0,
   "metadata": {
    "application/vnd.databricks.v1+cell": {
     "cellMetadata": {
      "byteLimit": 2048000,
      "rowLimit": 10000
     },
     "inputWidgets": {},
     "nuid": "6e1c86fe-316d-4cee-b932-662c4341d66d",
     "showTitle": false,
     "title": ""
    }
   },
   "outputs": [],
   "source": [
    "rais_porte = (rais_porte\n",
    ".withColumn('TIPO_PORTE',\n",
    "f.when((f.col('CD_CNAE20_DIVISAO') >= f.lit(5)) & (f.col('CD_CNAE20_DIVISAO') <= f.lit(43)), f.lit('Industria'))\n",
    ".otherwise(\n",
    "  f.when((f.col('CD_CNAE20_DIVISAO') < f.lit(5)) | (f.col('CD_CNAE20_DIVISAO') > f.lit(43)), f.lit('Comercio_Servicos')))))"
   ]
  },
  {
   "cell_type": "code",
   "execution_count": 0,
   "metadata": {
    "application/vnd.databricks.v1+cell": {
     "cellMetadata": {
      "byteLimit": 2048000,
      "rowLimit": 10000
     },
     "inputWidgets": {},
     "nuid": "9b9845c5-4adc-496d-8e5f-9f43ada3a1d5",
     "showTitle": false,
     "title": ""
    }
   },
   "outputs": [],
   "source": [
    "flg_ano_rais_porte = (rais_porte\n",
    "              .groupby('ID_CNPJ_CEI')\n",
    "              .pivot('ANO')\n",
    "              .agg(f.count(f.lit(1)).alias('ANOS_CNPJ')))"
   ]
  },
  {
   "cell_type": "code",
   "execution_count": 0,
   "metadata": {
    "application/vnd.databricks.v1+cell": {
     "cellMetadata": {
      "byteLimit": 2048000,
      "rowLimit": 10000
     },
     "inputWidgets": {},
     "nuid": "e2d5b62a-5e9f-4c25-aa2d-c8faa9a5f21e",
     "showTitle": false,
     "title": ""
    }
   },
   "outputs": [],
   "source": [
    "rais_porte_16_18 = (rais_porte\n",
    ".select('ID_CNPJ_CEI', 'TIPO_PORTE', 'QT_VINC_ATIV', 'ANO')\n",
    ".join(flg_ano_rais_porte, on = 'ID_CNPJ_CEI', how='left'))"
   ]
  },
  {
   "cell_type": "code",
   "execution_count": 0,
   "metadata": {
    "application/vnd.databricks.v1+cell": {
     "cellMetadata": {
      "byteLimit": 2048000,
      "rowLimit": 10000
     },
     "inputWidgets": {},
     "nuid": "eb77152f-2baa-461d-b304-e55a6357a680",
     "showTitle": false,
     "title": ""
    }
   },
   "outputs": [],
   "source": [
    "#peso 1 2018, 2017 e 2016 - 0.4, 0.3 e 0.3\n",
    "\n",
    "rais_porte_peso = (rais_porte_16_18\n",
    ".where((f.col('2016')==f.lit(1)) & (f.col('2017')==f.lit(1)) & (f.col('2018')==f.lit(1)))\n",
    ".withColumn('QT_VINC_ATIV_peso1', \n",
    "                                 f.when(f.col('ANO') == f.lit(2018), f.lit((f.col('QT_VINC_ATIV') * f.lit(0.4))))\n",
    "                                 .otherwise(\n",
    "                                 f.when(f.col('ANO') == f.lit(2017), f.lit((f.col('QT_VINC_ATIV') * f.lit(0.3))))\n",
    "                                 .otherwise(\n",
    "                                 f.when(f.col('ANO') == f.lit(2016), f.lit((f.col('QT_VINC_ATIV') * f.lit(0.3)))))))\n",
    ".groupby('ID_CNPJ_CEI')\n",
    ".agg(f.round((f.sum('QT_VINC_ATIV_peso1')/(0.4+0.3+0.3)), 2).alias('QT_VINC_ATIV_media_pond')))\n",
    "\n",
    "rais_porte_peso_tp1 = (rais_porte_16_18\n",
    ".where(f.col('ANO')==f.lit(2018))\n",
    ".select('ID_CNPJ_CEI', 'TIPO_PORTE'))\n",
    "\n",
    "rais_porte_peso_tp1 = rais_porte_peso.join(rais_porte_peso_tp1, on = 'ID_CNPJ_CEI', how = 'left')\n"
   ]
  },
  {
   "cell_type": "code",
   "execution_count": 0,
   "metadata": {
    "application/vnd.databricks.v1+cell": {
     "cellMetadata": {
      "byteLimit": 2048000,
      "rowLimit": 10000
     },
     "inputWidgets": {},
     "nuid": "b3f1085c-fa74-4187-80c4-b5be39f147c0",
     "showTitle": false,
     "title": ""
    }
   },
   "outputs": [],
   "source": [
    "#peso 2 2018 e 2017 - 0.6 e 0.4\n",
    "\n",
    "rais_porte_peso = (rais_porte_16_18\n",
    ".where((f.col('2016').isNull()) & (f.col('2017')==1) & (f.col('2018')==1))\n",
    ".withColumn('QT_VINC_ATIV_peso2', \n",
    "                                 f.when(f.col('ANO') == f.lit(2018), f.lit((f.col('QT_VINC_ATIV') * f.lit(0.6))))\n",
    "                                 .otherwise(\n",
    "                                 f.when(f.col('ANO') == f.lit(2017), f.lit((f.col('QT_VINC_ATIV') * f.lit(0.4))))))\n",
    ".groupby('ID_CNPJ_CEI')\n",
    ".agg(f.round((f.sum('QT_VINC_ATIV_peso2')/(0.6+0.4)), 2).alias('QT_VINC_ATIV_media_pond')))\n",
    "\n",
    "rais_porte_peso_tp2 = (rais_porte_16_18\n",
    ".where(f.col('ANO')==f.lit(2018))\n",
    ".select('ID_CNPJ_CEI', 'TIPO_PORTE'))\n",
    "\n",
    "rais_porte_peso_tp2 = rais_porte_peso.join(rais_porte_peso_tp2, on = 'ID_CNPJ_CEI', how = 'left')\n"
   ]
  },
  {
   "cell_type": "code",
   "execution_count": 0,
   "metadata": {
    "application/vnd.databricks.v1+cell": {
     "cellMetadata": {
      "byteLimit": 2048000,
      "rowLimit": 10000
     },
     "inputWidgets": {},
     "nuid": "804e86cf-0235-459e-8157-394bfb28f026",
     "showTitle": false,
     "title": ""
    }
   },
   "outputs": [],
   "source": [
    "#peso 3 2018 e 2016 - 0.8 e 0.2\n",
    "\n",
    "rais_porte_peso = (rais_porte_16_18\n",
    ".where((f.col('2016')==f.lit(1)) & (f.col('2017').isNull()) & (f.col('2018')==f.lit(1)))\n",
    ".withColumn('QT_VINC_ATIV_peso2', \n",
    "                                 f.when(f.col('ANO') == f.lit(2018), f.lit((f.col('QT_VINC_ATIV') * f.lit(0.8))))\n",
    "                                 .otherwise(\n",
    "                                 f.when(f.col('ANO') == f.lit(2016), f.lit((f.col('QT_VINC_ATIV') * f.lit(0.2))))))\n",
    ".groupby('ID_CNPJ_CEI')\n",
    ".agg(f.round((f.sum('QT_VINC_ATIV_peso2')/(0.8+0.2)), 2).alias('QT_VINC_ATIV_media_pond')))\n",
    "\n",
    "rais_porte_peso_tp3 = (rais_porte_16_18\n",
    ".where(f.col('ANO')==f.lit(2018))\n",
    ".select('ID_CNPJ_CEI', 'TIPO_PORTE'))\n",
    "\n",
    "rais_porte_peso_tp3 = rais_porte_peso.join(rais_porte_peso_tp3, on = 'ID_CNPJ_CEI', how = 'left')\n"
   ]
  },
  {
   "cell_type": "code",
   "execution_count": 0,
   "metadata": {
    "application/vnd.databricks.v1+cell": {
     "cellMetadata": {
      "byteLimit": 2048000,
      "rowLimit": 10000
     },
     "inputWidgets": {},
     "nuid": "2cb18649-e53f-44f1-b7c7-50067af9677d",
     "showTitle": false,
     "title": ""
    }
   },
   "outputs": [],
   "source": [
    "#peso 4 2017 e 2016 - 0.6 e 0.4\n",
    "\n",
    "rais_porte_peso = (rais_porte_16_18\n",
    ".where((f.col('2016')==f.lit(1)) & (f.col('2017')==f.lit(1)) & (f.col('2018').isNull()))\n",
    ".withColumn('QT_VINC_ATIV_peso2', \n",
    "                                 f.when(f.col('ANO') == f.lit(2017), f.lit((f.col('QT_VINC_ATIV') * f.lit(0.6))))\n",
    "                                 .otherwise(\n",
    "                                 f.when(f.col('ANO') == f.lit(2016), f.lit((f.col('QT_VINC_ATIV') * f.lit(0.4))))))\n",
    ".groupby('ID_CNPJ_CEI')\n",
    ".agg(f.round((f.sum('QT_VINC_ATIV_peso2')/(0.6+0.4)), 2).alias('QT_VINC_ATIV_media_pond')))\n",
    "\n",
    "rais_porte_peso_tp4 = (rais_porte_16_18\n",
    ".where(f.col('ANO')==f.lit(2017))\n",
    ".select('ID_CNPJ_CEI', 'TIPO_PORTE'))\n",
    "\n",
    "rais_porte_peso_tp4 = rais_porte_peso.join(rais_porte_peso_tp4, on = 'ID_CNPJ_CEI', how = 'left')\n"
   ]
  },
  {
   "cell_type": "code",
   "execution_count": 0,
   "metadata": {
    "application/vnd.databricks.v1+cell": {
     "cellMetadata": {
      "byteLimit": 2048000,
      "rowLimit": 10000
     },
     "inputWidgets": {},
     "nuid": "52953998-5e01-4b0a-9f2e-10433f1b645d",
     "showTitle": false,
     "title": ""
    }
   },
   "outputs": [],
   "source": [
    "#peso 5 dado para apenas um ano \n",
    "\n",
    "rais_porte_peso = (rais_porte_16_18\n",
    ".where(((f.col('2016').isNull()) & (f.col('2017').isNull()) & (f.col('2018')==1)) | ((f.col('2016').isNull()) & (f.col('2017')==1) & (f.col('2018').isNull())) | ((f.col('2016')==1) & (f.col('2017').isNull()) & (f.col('2018').isNull())))\n",
    ".select('ID_CNPJ_CEI'))\n",
    "\n",
    "rais_porte_peso_tp5 = (rais_porte_16_18\n",
    ".select('ID_CNPJ_CEI','QT_VINC_ATIV','TIPO_PORTE')\n",
    ".withColumnRenamed('QT_VINC_ATIV', 'QT_VINC_ATIV_media_pond'))\n",
    "\n",
    "rais_porte_peso_tp5 = rais_porte_peso.join(rais_porte_peso_tp5, on = 'ID_CNPJ_CEI', how = 'left')"
   ]
  },
  {
   "cell_type": "code",
   "execution_count": 0,
   "metadata": {
    "application/vnd.databricks.v1+cell": {
     "cellMetadata": {
      "byteLimit": 2048000,
      "rowLimit": 10000
     },
     "inputWidgets": {},
     "nuid": "ce8cfa4c-d39a-4987-b4cf-3c6b9055c121",
     "showTitle": false,
     "title": ""
    }
   },
   "outputs": [],
   "source": [
    "rais_porte = rais_porte_peso_tp1.union(rais_porte_peso_tp2)\n",
    "rais_porte = rais_porte.union(rais_porte_peso_tp3)\n",
    "rais_porte = rais_porte.union(rais_porte_peso_tp4)\n",
    "rais_porte = rais_porte.union(rais_porte_peso_tp5)"
   ]
  },
  {
   "cell_type": "code",
   "execution_count": 0,
   "metadata": {
    "application/vnd.databricks.v1+cell": {
     "cellMetadata": {
      "byteLimit": 2048000,
      "rowLimit": 10000
     },
     "inputWidgets": {},
     "nuid": "f37754ce-73d7-438c-8156-115f8c7506e1",
     "showTitle": false,
     "title": ""
    }
   },
   "outputs": [],
   "source": [
    "rais_porte = (rais_porte.withColumn('PORTE_SEBRAE', \n",
    "                                 f.when(((f.col('TIPO_PORTE') == f.lit('Comercio_Servicos')) & (f.col('QT_VINC_ATIV_media_pond') <= f.lit(9))) | ((f.col('TIPO_PORTE') == f.lit('Industria')) & (f.col('QT_VINC_ATIV_media_pond') <= f.lit(19))), f.lit('Micro'))\n",
    "                                 .otherwise(\n",
    "                                 f.when(((f.col('TIPO_PORTE') == f.lit('Comercio_Servicos')) & (f.col('QT_VINC_ATIV_media_pond') > f.lit(9)) & (f.col('QT_VINC_ATIV_media_pond') <= f.lit(49))) | ((f.col('TIPO_PORTE') == f.lit('Industria')) & (f.col('QT_VINC_ATIV_media_pond') > f.lit(19)) & (f.col('QT_VINC_ATIV_media_pond') <= f.lit(99))), f.lit('Pequena'))\n",
    "                                 .otherwise(\n",
    "                                 f.when(((f.col('TIPO_PORTE') == f.lit('Comercio_Servicos')) & (f.col('QT_VINC_ATIV_media_pond') > f.lit(49)) & (f.col('QT_VINC_ATIV_media_pond') <= f.lit(99))) | ((f.col('TIPO_PORTE') == f.lit('Industria')) & (f.col('QT_VINC_ATIV_media_pond') > f.lit(99)) & (f.col('QT_VINC_ATIV_media_pond') <= f.lit(499))), f.lit('Media'))\n",
    "                                 .otherwise(\n",
    "                                 f.when(((f.col('TIPO_PORTE') == f.lit('Comercio_Servicos')) & (f.col('QT_VINC_ATIV_media_pond') > f.lit(99))) | ((f.col('TIPO_PORTE') == f.lit('Industria')) & (f.col('QT_VINC_ATIV_media_pond') > f.lit(499))), f.lit('Grande')))))))"
   ]
  },
  {
   "cell_type": "code",
   "execution_count": 0,
   "metadata": {
    "application/vnd.databricks.v1+cell": {
     "cellMetadata": {
      "byteLimit": 2048000,
      "rowLimit": 10000
     },
     "inputWidgets": {},
     "nuid": "ddd47d55-0ff3-4bed-88f8-fe9c7368aa04",
     "showTitle": false,
     "title": ""
    }
   },
   "outputs": [],
   "source": [
    "rais_porte = (rais_porte.withColumn('PORTE_EURO_ESTAT', \n",
    "                                 f.when(f.col('QT_VINC_ATIV_media_pond') < f.lit(10), f.lit('Micro empresa'))\n",
    "                                 .otherwise(\n",
    "                                 f.when((f.col('QT_VINC_ATIV_media_pond') >= f.lit(10)) & (f.col('QT_VINC_ATIV_media_pond') < f.lit(50)), f.lit('Pequena empresa'))\n",
    "                                 .otherwise(\n",
    "                                 f.when((f.col('QT_VINC_ATIV_media_pond') >= f.lit(50)) & (f.col('QT_VINC_ATIV_media_pond') < f.lit(250)), f.lit('Média empresa'))\n",
    "                                 .otherwise(\n",
    "                                 f.when(f.col('QT_VINC_ATIV_media_pond') >= f.lit(250), f.lit('Grande empresa')))))))"
   ]
  },
  {
   "cell_type": "code",
   "execution_count": 0,
   "metadata": {
    "application/vnd.databricks.v1+cell": {
     "cellMetadata": {
      "byteLimit": 2048000,
      "rowLimit": 10000
     },
     "inputWidgets": {},
     "nuid": "7bd5ef33-64a2-4acc-af28-1b890bb504f4",
     "showTitle": false,
     "title": ""
    }
   },
   "outputs": [],
   "source": [
    "rais_estab_final = (rais_estab_infos\n",
    ".withColumnRenamed('CD_CNPJ', 'ID_CNPJ_CEI')\n",
    ".join(rais_porte, 'ID_CNPJ_CEI', how='left'))"
   ]
  },
  {
   "cell_type": "code",
   "execution_count": 0,
   "metadata": {
    "application/vnd.databricks.v1+cell": {
     "cellMetadata": {
      "byteLimit": 2048000,
      "rowLimit": 10000
     },
     "inputWidgets": {},
     "nuid": "5a5b7b2a-2d30-4cdb-b2bd-8ec9c433d83d",
     "showTitle": false,
     "title": ""
    }
   },
   "outputs": [],
   "source": [
    "duplicados = (rais_estab_final\n",
    "        .groupby(['ID_CNPJ_CEI'])\n",
    "        .agg(f.count(f.lit(1)).alias('DUPLICADOS'))\n",
    "        .orderBy('DUPLICADOS', ascending=False))\n",
    "#display(duplicados.where(f.col('DUPLICADOS')> 1))"
   ]
  },
  {
   "cell_type": "code",
   "execution_count": 0,
   "metadata": {
    "application/vnd.databricks.v1+cell": {
     "cellMetadata": {
      "byteLimit": 2048000,
      "rowLimit": 10000
     },
     "inputWidgets": {},
     "nuid": "f449d7ec-14da-47af-93a7-a704046fd9ca",
     "showTitle": false,
     "title": ""
    }
   },
   "outputs": [],
   "source": [
    "rais_estab_final = rais_estab_final.join(duplicados, on='ID_CNPJ_CEI', how='left')\n",
    "rais_estab_final = (rais_estab_final.where(f.col('DUPLICADOS') == f.lit(1)).drop('DUPLICADOS'))"
   ]
  },
  {
   "cell_type": "code",
   "execution_count": 0,
   "metadata": {
    "application/vnd.databricks.v1+cell": {
     "cellMetadata": {
      "byteLimit": 2048000,
      "rowLimit": 10000
     },
     "inputWidgets": {},
     "nuid": "97c7cadb-1ab7-41a2-8112-bfa27f48a63d",
     "showTitle": false,
     "title": ""
    }
   },
   "outputs": [],
   "source": [
    "cadastro_estbl = (cadastro_estbl\n",
    "                  .select('CD_CNPJ', 'CD_CNPJ_BASICO', 'CD_SIT_CADASTRAL', 'CD_CNAE20_SUBCLASSE_PRINCIPAL', 'ANO_SIT_CADASTRAL','DT_SIT_CADASTRAL','ANO_INICIO_ATIV', 'DT_INICIO_ATIV', 'CD_MATRIZ_FILIAL', 'DS_MATRIZ_FILIAL', 'NM_FANTASIA', 'DS_SIT_CADASTRAL', 'CD_MOTIVO_SIT_CADASTRAL', 'CD_CNAE20_SUBCLASSE_SECUNDARIA', 'NM_TIPO_LOGRADOURO', 'NM_LOGRADOURO', 'NM_NUMERO_ESTBL', 'NM_COMPLEMENTO', 'NM_BAIRRO', 'CD_CEP', 'SG_UF', 'CD_MUN', 'NM_DDD_1', 'NM_TELEFONE_1', 'NM_DDD_2', 'NM_TELEFONE_2', 'NM_EMAIL')\n",
    "                  .withColumn('CD_CNAE20_SUBCLASSE_PRINCIPAL',f.lpad(f.col('CD_CNAE20_SUBCLASSE_PRINCIPAL'),7,'0'))\n",
    "                  .withColumn('CD_CNAE20_DIVISAO',f.substring(f.col('CD_CNAE20_SUBCLASSE_PRINCIPAL'),1,2))\n",
    "                  .withColumn('CD_CNAE20_CLASSE',f.substring(f.col('CD_CNAE20_SUBCLASSE_PRINCIPAL'),1,5))\n",
    "                  .withColumnRenamed('CD_CNAE20_SUBCLASSE_PRINCIPAL', 'CD_CNAE20_SUBCLASSE_RFB')\n",
    "                  .withColumnRenamed('CD_MUN', 'CD_MUNICIPIO_SIAFI_RFB'))"
   ]
  },
  {
   "cell_type": "code",
   "execution_count": 0,
   "metadata": {
    "application/vnd.databricks.v1+cell": {
     "cellMetadata": {
      "byteLimit": 2048000,
      "rowLimit": 10000
     },
     "inputWidgets": {},
     "nuid": "34f5c8c5-e4a3-4b46-8bfc-67fb7a944d1f",
     "showTitle": false,
     "title": ""
    }
   },
   "outputs": [],
   "source": [
    "\n",
    "cadastro_simples = (cadastro_simples\n",
    "                    .select('CD_CNPJ_BASICO', 'CD_OPCAO_SIMPLES', 'CD_OPCAO_MEI', 'DT_OPCAO_SIMPLES', 'DT_EXCLUSAO_SIMPLES', 'DT_OPCAO_MEI', 'DT_EXCLUSAO_MEI')\n",
    "                    .withColumnRenamed('CD_OPCAO_SIMPLES', 'CD_OPCAO_SIMPLES_RFB'))\n",
    "                    \n",
    "rais_estab_final = (rais_estab_final\n",
    "                  .withColumnRenamed('ID_CNPJ_CEI', 'CD_CNPJ')\n",
    "                  .withColumnRenamed('FL_IND_SIMPLES', 'FL_IND_SIMPLES_RAIS')\n",
    "                  .withColumnRenamed('CD_CNAE20_SUBCLASSE', 'CD_CNAE20_SUBCLASSE_RAIS')\n",
    "                  .withColumnRenamed('ID_RAZAO_SOCIAL', 'ID_RAZAO_SOCIAL_RAIS')\n",
    "                  .withColumnRenamed('CD_NATUREZA_JURIDICA', 'CD_NATUREZA_JURIDICA_RAIS')\n",
    "                  .withColumnRenamed('CD_MUNICIPIO', 'CD_MUNICIPIO_RAIS'))\n",
    "\n",
    "cadastro_empresa = (cadastro_empresa\n",
    "                  .select('CD_CNPJ_BASICO', 'CD_PORTE_EMPRESA', 'DS_PORTE_EMPRESA', 'NM_RAZAO_SOCIAL', 'CD_QUALIF_RESP',\n",
    "'VL_CAPITAL_SOCIAL','CD_NATUREZA_JURIDICA')\n",
    "                  .withColumnRenamed('NM_RAZAO_SOCIAL', 'NM_RAZAO_SOCIAL_RECEITA_EMPRESA')\n",
    "                  .withColumnRenamed('CD_QUALIF_RESP', 'CD_QUALIF_RESP_EMPRESA')\n",
    "                  .withColumnRenamed('CD_NATUREZA_JURIDICA', 'CD_NATUREZA_JURIDICA_RFB')\n",
    "                  .withColumnRenamed('VL_CAPITAL_SOCIAL', 'VL_CAPITAL_SOCIAL_EMPRESA')\n",
    "                   )"
   ]
  },
  {
   "cell_type": "code",
   "execution_count": 0,
   "metadata": {
    "application/vnd.databricks.v1+cell": {
     "cellMetadata": {
      "byteLimit": 2048000,
      "rowLimit": 10000
     },
     "inputWidgets": {},
     "nuid": "52fd8114-74a5-495f-b97c-498496104af3",
     "showTitle": false,
     "title": ""
    }
   },
   "outputs": [],
   "source": [
    "base_unica_estabelecimento = cadastro_estbl.join(cadastro_simples , 'CD_CNPJ_BASICO', how='left')\n",
    "base_unica_estabelecimento = base_unica_estabelecimento.join(cadastro_empresa , 'CD_CNPJ_BASICO', how='left')\n",
    "base_unica_estabelecimento = base_unica_estabelecimento.join(rais_estab_final, 'CD_CNPJ', how='left')"
   ]
  },
  {
   "cell_type": "code",
   "execution_count": 0,
   "metadata": {
    "application/vnd.databricks.v1+cell": {
     "cellMetadata": {
      "byteLimit": 2048000,
      "rowLimit": 10000
     },
     "inputWidgets": {},
     "nuid": "b423aa55-a38d-4e55-a2d5-e2b9a112c9f8",
     "showTitle": false,
     "title": ""
    }
   },
   "outputs": [
    {
     "output_type": "stream",
     "name": "stdout",
     "output_type": "stream",
     "text": [
      "Out[49]: 23815575"
     ]
    }
   ],
   "source": [
    "#base_unica_estabelecimento.count()"
   ]
  },
  {
   "cell_type": "code",
   "execution_count": 0,
   "metadata": {
    "application/vnd.databricks.v1+cell": {
     "cellMetadata": {
      "byteLimit": 2048000,
      "rowLimit": 10000
     },
     "inputWidgets": {},
     "nuid": "07dcee5f-5d8d-4eae-a918-2d7ddbd7c0e3",
     "showTitle": false,
     "title": ""
    }
   },
   "outputs": [],
   "source": [
    "base_unica_estabelecimento = (base_unica_estabelecimento\n",
    ".withColumn('TIPO_PORTE',\n",
    "f.when((f.col('CD_CNAE20_DIVISAO') >= f.lit(5)) & (f.col('CD_CNAE20_DIVISAO') <= f.lit(43)), f.lit('Industria'))\n",
    ".otherwise(\n",
    "  f.when((f.col('CD_CNAE20_DIVISAO') < f.lit(5)) | (f.col('CD_CNAE20_DIVISAO') > f.lit(43)), f.lit('Comercio_Servicos')))))"
   ]
  },
  {
   "cell_type": "code",
   "execution_count": 0,
   "metadata": {
    "application/vnd.databricks.v1+cell": {
     "cellMetadata": {
      "byteLimit": 2048000,
      "rowLimit": 10000
     },
     "inputWidgets": {},
     "nuid": "dbcc4789-a0fa-4564-ac35-d54dabc99f1c",
     "showTitle": false,
     "title": ""
    }
   },
   "outputs": [],
   "source": [
    "#base_unica_estabelecimento.count()"
   ]
  },
  {
   "cell_type": "code",
   "execution_count": 0,
   "metadata": {
    "application/vnd.databricks.v1+cell": {
     "cellMetadata": {
      "byteLimit": 2048000,
      "rowLimit": 10000
     },
     "inputWidgets": {},
     "nuid": "d8df1f5c-5968-4ff8-b0fd-42de045ba1f8",
     "showTitle": false,
     "title": ""
    }
   },
   "outputs": [],
   "source": [
    "#display(base_unica_estabelecimento.where(f.col('TIPO_PORTE').isNull()))"
   ]
  },
  {
   "cell_type": "code",
   "execution_count": 0,
   "metadata": {
    "application/vnd.databricks.v1+cell": {
     "cellMetadata": {
      "byteLimit": 2048000,
      "rowLimit": 10000
     },
     "inputWidgets": {},
     "nuid": "8f575d2b-e1bc-48e9-bcfd-782b3e967ac5",
     "showTitle": false,
     "title": ""
    }
   },
   "outputs": [],
   "source": [
    "base_unica_estabelecimento = (base_unica_estabelecimento\n",
    "        .withColumn('CD_OPCAO_SIMPLES_RFB',\n",
    "                    f.when((f.col('CD_OPCAO_SIMPLES_RFB')=='S'), f.lit(1))\n",
    "                    .otherwise(\n",
    "                      f.when((f.col('CD_OPCAO_SIMPLES_RFB')=='N'), f.lit(0)))))"
   ]
  },
  {
   "cell_type": "code",
   "execution_count": 0,
   "metadata": {
    "application/vnd.databricks.v1+cell": {
     "cellMetadata": {
      "byteLimit": 2048000,
      "rowLimit": 10000
     },
     "inputWidgets": {},
     "nuid": "59b405a1-f29f-4fd5-8daa-65f87c074964",
     "showTitle": false,
     "title": ""
    }
   },
   "outputs": [],
   "source": [
    "base_unica_estabelecimento = (base_unica_estabelecimento\n",
    "        .withColumn('CD_OPCAO_MEI',\n",
    "                    f.when((f.col('CD_OPCAO_MEI')=='S'), f.lit(1))\n",
    "                    .otherwise(\n",
    "                      f.when((f.col('CD_OPCAO_MEI')=='N'), f.lit(0)))))"
   ]
  },
  {
   "cell_type": "code",
   "execution_count": 0,
   "metadata": {
    "application/vnd.databricks.v1+cell": {
     "cellMetadata": {
      "byteLimit": 2048000,
      "rowLimit": 10000
     },
     "inputWidgets": {},
     "nuid": "f5db963f-86b4-44c8-ad19-ffd2871b1a09",
     "showTitle": false,
     "title": ""
    }
   },
   "outputs": [],
   "source": [
    "#duplicados = (base_unica_estabelecimento.groupby(['CD_CNPJ']).agg(f.count(f.lit(1)).alias('DUPLICADOS')).orderBy('DUPLICADOS', ascending=False))\n",
    "#display(duplicados.where(f.col('DUPLICADOS')> 1))"
   ]
  },
  {
   "cell_type": "code",
   "execution_count": 0,
   "metadata": {
    "application/vnd.databricks.v1+cell": {
     "cellMetadata": {
      "byteLimit": 2048000,
      "rowLimit": 10000
     },
     "inputWidgets": {},
     "nuid": "64d7ca45-9128-4ba9-9ba9-192ef1c0aa87",
     "showTitle": false,
     "title": ""
    }
   },
   "outputs": [],
   "source": [
    "base_unica_estabelecimento = (base_unica_estabelecimento.drop_duplicates(['CD_CNPJ']))\n",
    "#display(base_unica_estabelecimento.count())"
   ]
  },
  {
   "cell_type": "code",
   "execution_count": 0,
   "metadata": {
    "application/vnd.databricks.v1+cell": {
     "cellMetadata": {
      "byteLimit": 2048000,
      "rowLimit": 10000
     },
     "inputWidgets": {},
     "nuid": "895453b1-1db3-41c3-9814-c53b31adee0a",
     "showTitle": false,
     "title": ""
    }
   },
   "outputs": [],
   "source": [
    "base_unica_estabelecimento = (base_unica_estabelecimento\n",
    "                   .withColumn('FL_DADOS_RAIS',\n",
    "                               f.when((f.col('ID_RAZAO_SOCIAL_RAIS').isNull()), f.lit(0))\n",
    "                               .otherwise(\n",
    "                                 f.when((f.col('ID_RAZAO_SOCIAL_RAIS').isNotNull()), f.lit(1))))\n",
    "                 )"
   ]
  },
  {
   "cell_type": "markdown",
   "metadata": {
    "application/vnd.databricks.v1+cell": {
     "cellMetadata": {},
     "inputWidgets": {},
     "nuid": "76b3736c-a731-4d51-8dab-7236a14aa8ec",
     "showTitle": false,
     "title": ""
    }
   },
   "source": [
    "\n",
    "#### Cruzamento SIAFI"
   ]
  },
  {
   "cell_type": "code",
   "execution_count": 0,
   "metadata": {
    "application/vnd.databricks.v1+cell": {
     "cellMetadata": {
      "byteLimit": 2048000,
      "rowLimit": 10000
     },
     "inputWidgets": {},
     "nuid": "3d41fd46-fae2-43cc-ab16-cdcab1144ee0",
     "showTitle": false,
     "title": ""
    }
   },
   "outputs": [],
   "source": [
    "uds_siafi_path = \"{adl_path}{trs}/{file_folder}/\".format(adl_path=var_adls_uri, trs=dls['folders']['trusted'], file_folder=table['uds_siafi_path'])\n",
    "siafi = spark.read.format(\"parquet\").option(\"header\",\"true\").option(\"encoding\", \"ISO-8859-1\").load(uds_siafi_path, mode=\"FAILFAST\")"
   ]
  },
  {
   "cell_type": "code",
   "execution_count": 0,
   "metadata": {
    "application/vnd.databricks.v1+cell": {
     "cellMetadata": {
      "byteLimit": 2048000,
      "rowLimit": 10000
     },
     "inputWidgets": {},
     "nuid": "09451b7a-9313-4636-9bfd-85758f6f1d2f",
     "showTitle": false,
     "title": ""
    }
   },
   "outputs": [],
   "source": [
    "siafi = (siafi\n",
    "          .select('codigo_siafi', 'codigo_ibge')\n",
    "          .withColumnRenamed('codigo_siafi', 'CD_MUNICIPIO_SIAFI_RFB')\n",
    "          .withColumnRenamed('codigo_ibge', 'CD_MUNICIPIO_RFB')\n",
    "          .drop_duplicates())"
   ]
  },
  {
   "cell_type": "code",
   "execution_count": 0,
   "metadata": {
    "application/vnd.databricks.v1+cell": {
     "cellMetadata": {
      "byteLimit": 2048000,
      "rowLimit": 10000
     },
     "inputWidgets": {},
     "nuid": "9d869842-2984-45f7-80a7-55383296b626",
     "showTitle": false,
     "title": ""
    }
   },
   "outputs": [],
   "source": [
    "base_unica_estabelecimento = (base_unica_estabelecimento\n",
    ".withColumn('CD_MUNICIPIO_SIAFI_RFB', base_unica_estabelecimento['CD_MUNICIPIO_SIAFI_RFB'].cast(IntegerType()))\n",
    ".join(siafi, 'CD_MUNICIPIO_SIAFI_RFB', how='left'))"
   ]
  },
  {
   "cell_type": "markdown",
   "metadata": {
    "application/vnd.databricks.v1+cell": {
     "cellMetadata": {},
     "inputWidgets": {},
     "nuid": "c7b7d9fa-848b-4d58-a550-5904c66ad86c",
     "showTitle": false,
     "title": ""
    }
   },
   "source": [
    "\n",
    "#### Cruzamento Empresas Exportadoras"
   ]
  },
  {
   "cell_type": "code",
   "execution_count": 0,
   "metadata": {
    "application/vnd.databricks.v1+cell": {
     "cellMetadata": {
      "byteLimit": 2048000,
      "rowLimit": 10000
     },
     "inputWidgets": {},
     "nuid": "5e33c743-ee7f-4e8d-a6ea-db418d447daa",
     "showTitle": false,
     "title": ""
    }
   },
   "outputs": [],
   "source": [
    "#### CNPJ's Exportadores\n",
    "exportadoras = \"{adl_path}{trs}/{file_folder}/\".format(adl_path=var_adls_uri, trs=dls['folders']['trusted'], file_folder=table['exportadoras'])\n",
    "EXP_CNPJ = spark.read.parquet(exportadoras)"
   ]
  },
  {
   "cell_type": "code",
   "execution_count": 0,
   "metadata": {
    "application/vnd.databricks.v1+cell": {
     "cellMetadata": {
      "byteLimit": 2048000,
      "rowLimit": 10000
     },
     "inputWidgets": {},
     "nuid": "7a556c92-58bf-412a-b604-ab30fa1ed86b",
     "showTitle": false,
     "title": ""
    }
   },
   "outputs": [],
   "source": [
    "#display(EXP_CNPJ)"
   ]
  },
  {
   "cell_type": "code",
   "execution_count": 0,
   "metadata": {
    "application/vnd.databricks.v1+cell": {
     "cellMetadata": {
      "byteLimit": 2048000,
      "rowLimit": 10000
     },
     "inputWidgets": {},
     "nuid": "4a1362c6-d43f-446c-8a83-6f631d893809",
     "showTitle": false,
     "title": ""
    }
   },
   "outputs": [],
   "source": [
    "EXP_CNPJ = (EXP_CNPJ.withColumn('CD_CNPJ',f.lpad(f.col('CNPJ'),14,'0'))\n",
    "                    .withColumn('FL_EMPRESA_EXP', f.lit(1))\n",
    "                    .select('CD_CNPJ', 'FL_EMPRESA_EXP'))"
   ]
  },
  {
   "cell_type": "code",
   "execution_count": 0,
   "metadata": {
    "application/vnd.databricks.v1+cell": {
     "cellMetadata": {
      "byteLimit": 2048000,
      "rowLimit": 10000
     },
     "inputWidgets": {},
     "nuid": "ab846d22-8a7e-4f4b-9483-fbd22f08464a",
     "showTitle": false,
     "title": ""
    }
   },
   "outputs": [],
   "source": [
    "base_unica_estabelecimento = base_unica_estabelecimento.join(EXP_CNPJ, 'CD_CNPJ', how='left')"
   ]
  },
  {
   "cell_type": "code",
   "execution_count": 0,
   "metadata": {
    "application/vnd.databricks.v1+cell": {
     "cellMetadata": {
      "byteLimit": 2048000,
      "rowLimit": 10000
     },
     "inputWidgets": {},
     "nuid": "89e69908-4c25-4963-8f64-e57096281dad",
     "showTitle": false,
     "title": ""
    }
   },
   "outputs": [],
   "source": [
    "base_unica_estabelecimento = (base_unica_estabelecimento\n",
    ".withColumn('FL_EMPRESA_EXP',\n",
    "f.when((f.col('FL_EMPRESA_EXP').isNull()), f.lit(0))\n",
    ".otherwise(\n",
    "f.when((f.col('FL_EMPRESA_EXP').isNotNull()), f.lit(1)))))"
   ]
  },
  {
   "cell_type": "markdown",
   "metadata": {
    "application/vnd.databricks.v1+cell": {
     "cellMetadata": {},
     "inputWidgets": {},
     "nuid": "f80bae55-9876-46d8-bd28-79978b0f6876",
     "showTitle": false,
     "title": ""
    }
   },
   "source": [
    "\n",
    "#### Cruzamento Empresas Importadoras"
   ]
  },
  {
   "cell_type": "code",
   "execution_count": 0,
   "metadata": {
    "application/vnd.databricks.v1+cell": {
     "cellMetadata": {
      "byteLimit": 2048000,
      "rowLimit": 10000
     },
     "inputWidgets": {},
     "nuid": "3cbd0d15-2ddd-4610-9f5f-2cb4b50e6ae5",
     "showTitle": false,
     "title": ""
    }
   },
   "outputs": [],
   "source": [
    "\n",
    "importadoras = \"{adl_path}{trs}/{file_folder}/\".format(adl_path=var_adls_uri, trs=dls['folders']['trusted'], file_folder=table['importadoras'])\n",
    "IMP_CNPJ = spark.read.parquet(importadoras)"
   ]
  },
  {
   "cell_type": "code",
   "execution_count": 0,
   "metadata": {
    "application/vnd.databricks.v1+cell": {
     "cellMetadata": {
      "byteLimit": 2048000,
      "rowLimit": 10000
     },
     "inputWidgets": {},
     "nuid": "41eb093a-03c5-4cbf-8314-ad160f1ae649",
     "showTitle": false,
     "title": ""
    }
   },
   "outputs": [],
   "source": [
    "#display(IMP_CNPJ)"
   ]
  },
  {
   "cell_type": "code",
   "execution_count": 0,
   "metadata": {
    "application/vnd.databricks.v1+cell": {
     "cellMetadata": {
      "byteLimit": 2048000,
      "rowLimit": 10000
     },
     "inputWidgets": {},
     "nuid": "1760c2ab-b876-4f8a-aeea-61adc4ca21a9",
     "showTitle": false,
     "title": ""
    }
   },
   "outputs": [],
   "source": [
    "IMP_CNPJ = (IMP_CNPJ.withColumn('CD_CNPJ',f.lpad(f.col('CNPJ'),14,'0'))\n",
    "                    .withColumn('FL_EMPRESA_IMP', f.lit(1))\n",
    "                    .select('CD_CNPJ', 'FL_EMPRESA_IMP'))"
   ]
  },
  {
   "cell_type": "code",
   "execution_count": 0,
   "metadata": {
    "application/vnd.databricks.v1+cell": {
     "cellMetadata": {
      "byteLimit": 2048000,
      "rowLimit": 10000
     },
     "inputWidgets": {},
     "nuid": "84b8226f-da32-42ad-80a2-62f0785eebd5",
     "showTitle": false,
     "title": ""
    }
   },
   "outputs": [],
   "source": [
    "base_unica_estabelecimento = base_unica_estabelecimento.join(IMP_CNPJ, 'CD_CNPJ', how='left')"
   ]
  },
  {
   "cell_type": "code",
   "execution_count": 0,
   "metadata": {
    "application/vnd.databricks.v1+cell": {
     "cellMetadata": {
      "byteLimit": 2048000,
      "rowLimit": 10000
     },
     "inputWidgets": {},
     "nuid": "b29c87c1-96fb-4490-947e-8a0c4038c268",
     "showTitle": false,
     "title": ""
    }
   },
   "outputs": [],
   "source": [
    "base_unica_estabelecimento = (base_unica_estabelecimento\n",
    ".withColumn('FL_EMPRESA_IMP',\n",
    "f.when((f.col('FL_EMPRESA_IMP').isNull()), f.lit(0))\n",
    ".otherwise(\n",
    "f.when((f.col('FL_EMPRESA_IMP').isNotNull()), f.lit(1)))))"
   ]
  },
  {
   "cell_type": "markdown",
   "metadata": {
    "application/vnd.databricks.v1+cell": {
     "cellMetadata": {},
     "inputWidgets": {},
     "nuid": "6eeec26d-71a5-42b8-a3eb-360a1c9b1809",
     "showTitle": false,
     "title": ""
    }
   },
   "source": [
    "\n",
    "#### Cruzamento Intensidade Tecnológica"
   ]
  },
  {
   "cell_type": "code",
   "execution_count": 0,
   "metadata": {
    "application/vnd.databricks.v1+cell": {
     "cellMetadata": {
      "byteLimit": 2048000,
      "rowLimit": 10000
     },
     "inputWidgets": {},
     "nuid": "bc836e10-4fdf-406a-a80b-2ae6fdf74e25",
     "showTitle": false,
     "title": ""
    }
   },
   "outputs": [],
   "source": [
    "class_inten_tec = \"{adl_path}{trs}/{file_folder}/\".format(adl_path=var_adls_uri, trs=dls['folders']['trusted'], file_folder=table['class_inten_tec'])\n",
    "intensidade_tecnol = spark.read.parquet(class_inten_tec)\n",
    "intensidade_tecnol = intensidade_tecnol.drop('dh_insercao_trs','kv_process_control')"
   ]
  },
  {
   "cell_type": "code",
   "execution_count": 0,
   "metadata": {
    "application/vnd.databricks.v1+cell": {
     "cellMetadata": {
      "byteLimit": 2048000,
      "rowLimit": 10000
     },
     "inputWidgets": {},
     "nuid": "993c4da0-8adf-4fb4-998f-5c34cb0ebcd5",
     "showTitle": false,
     "title": ""
    }
   },
   "outputs": [],
   "source": [
    "#display(intensidade_tecnol)"
   ]
  },
  {
   "cell_type": "code",
   "execution_count": 0,
   "metadata": {
    "application/vnd.databricks.v1+cell": {
     "cellMetadata": {
      "byteLimit": 2048000,
      "rowLimit": 10000
     },
     "inputWidgets": {},
     "nuid": "a2a84cfd-6e3c-4016-a4eb-2f37e1721b67",
     "showTitle": false,
     "title": ""
    }
   },
   "outputs": [],
   "source": [
    "base_unica_estabelecimento = base_unica_estabelecimento.join(intensidade_tecnol , 'CD_CNAE20_DIVISAO', how='left')"
   ]
  },
  {
   "cell_type": "markdown",
   "metadata": {
    "application/vnd.databricks.v1+cell": {
     "cellMetadata": {},
     "inputWidgets": {},
     "nuid": "11d24b39-dce4-492f-b426-451ab95f3545",
     "showTitle": false,
     "title": ""
    }
   },
   "source": [
    "\n",
    "#### Cruzamento CNAE's Contribuintes"
   ]
  },
  {
   "cell_type": "code",
   "execution_count": 0,
   "metadata": {
    "application/vnd.databricks.v1+cell": {
     "cellMetadata": {
      "byteLimit": 2048000,
      "rowLimit": 10000
     },
     "inputWidgets": {},
     "nuid": "0dcb5b9e-651d-4bc7-aa5b-b71f079cec90",
     "showTitle": false,
     "title": ""
    }
   },
   "outputs": [],
   "source": [
    "#### CNAE's Contribuintes\n",
    "var_source_cnaes_contrib = \"{adl_path}{trs}/{file_folder}/\".format(adl_path=var_adls_uri, trs=dls['folders']['trusted'], file_folder=table['cnaes_contrib'])\n",
    "contribuintes = spark.read.parquet(var_source_cnaes_contrib)\n",
    "contribuintes = (contribuintes\n",
    "                 .withColumnRenamed('CD_CNAE20_SUBCLASSE', 'CD_CNAE20_SUBCLASSE_RFB')\n",
    "                 .drop('dh_insercao_trs', 'kv_process_control')\n",
    "                 )"
   ]
  },
  {
   "cell_type": "code",
   "execution_count": 0,
   "metadata": {
    "application/vnd.databricks.v1+cell": {
     "cellMetadata": {
      "byteLimit": 2048000,
      "rowLimit": 10000
     },
     "inputWidgets": {},
     "nuid": "218e0a19-385f-4f63-9dee-c5645b64eded",
     "showTitle": false,
     "title": ""
    }
   },
   "outputs": [],
   "source": [
    "#display(contribuintes)"
   ]
  },
  {
   "cell_type": "code",
   "execution_count": 0,
   "metadata": {
    "application/vnd.databricks.v1+cell": {
     "cellMetadata": {
      "byteLimit": 2048000,
      "rowLimit": 10000
     },
     "inputWidgets": {},
     "nuid": "be84ce9e-b29d-4aec-b0d9-dcae499c9906",
     "showTitle": false,
     "title": ""
    }
   },
   "outputs": [],
   "source": [
    "base_unica_estabelecimento = base_unica_estabelecimento.join(contribuintes, 'CD_CNAE20_SUBCLASSE_RFB', how='left')"
   ]
  },
  {
   "cell_type": "code",
   "execution_count": 0,
   "metadata": {
    "application/vnd.databricks.v1+cell": {
     "cellMetadata": {
      "byteLimit": 2048000,
      "rowLimit": 10000
     },
     "inputWidgets": {},
     "nuid": "73ebdc6b-9c40-4e34-9e32-b2c5a3be37c7",
     "showTitle": false,
     "title": ""
    }
   },
   "outputs": [],
   "source": [
    "base_unica_estabelecimento = (base_unica_estabelecimento\n",
    ".withColumn('FL_CONTRIBUINTE',\n",
    "f.when(((f.col('FL_CONTRIBUINTE').isNull()) | (f.col('CD_OPCAO_SIMPLES_RFB') == 1)) | ((f.col('FL_CONTRIBUINTE').isNull()) & (f.col('CD_OPCAO_SIMPLES_RFB').isNull())), f.lit(0))\n",
    ".otherwise(\n",
    "f.when(((f.col('FL_CONTRIBUINTE').isNotNull()) & (f.col('CD_OPCAO_SIMPLES_RFB') == 0)) | ((f.col('FL_CONTRIBUINTE').isNotNull()) & (f.col('CD_OPCAO_SIMPLES_RFB').isNull())), f.lit(1)))))"
   ]
  },
  {
   "cell_type": "code",
   "execution_count": 0,
   "metadata": {
    "application/vnd.databricks.v1+cell": {
     "cellMetadata": {
      "byteLimit": 2048000,
      "rowLimit": 10000
     },
     "inputWidgets": {},
     "nuid": "74c85e5c-368c-4e6f-bf3a-0f424df115cb",
     "showTitle": false,
     "title": ""
    }
   },
   "outputs": [],
   "source": [
    "#display(base_unica_estabelecimento.where((f.col('FL_CONTRIBUINTE') == 1) & (f.col('CD_OPCAO_SIMPLES_RFB') == 1)))"
   ]
  },
  {
   "cell_type": "code",
   "execution_count": 0,
   "metadata": {
    "application/vnd.databricks.v1+cell": {
     "cellMetadata": {
      "byteLimit": 2048000,
      "rowLimit": 10000
     },
     "inputWidgets": {},
     "nuid": "7aa82b6b-fdc2-4f2f-9e3d-8358b231e257",
     "showTitle": false,
     "title": ""
    }
   },
   "outputs": [],
   "source": [
    "base_unica_estabelecimento = (base_unica_estabelecimento\n",
    ".withColumn('CONTRIBUICAO_SESI',\n",
    "f.when(f.col('FL_CONTRIBUINTE') == 1, f.round(f.col('MASSA_SALARIAL')*f.lit(0.015), 2))\n",
    ".otherwise(\n",
    "f.when(f.col('FL_CONTRIBUINTE') == 0, f.lit(0)))))"
   ]
  },
  {
   "cell_type": "code",
   "execution_count": 0,
   "metadata": {
    "application/vnd.databricks.v1+cell": {
     "cellMetadata": {
      "byteLimit": 2048000,
      "rowLimit": 10000
     },
     "inputWidgets": {},
     "nuid": "6968b36f-76d0-4020-b4e8-9c1a5eba6310",
     "showTitle": false,
     "title": ""
    }
   },
   "outputs": [],
   "source": [
    "base_unica_estabelecimento = (base_unica_estabelecimento\n",
    ".withColumn('CONTRIBUICAO_SENAI',\n",
    "f.when(f.col('FL_CONTRIBUINTE') == 1, f.round(f.col('MASSA_SALARIAL')*f.lit(0.01), 2))\n",
    ".otherwise(\n",
    "f.when(f.col('FL_CONTRIBUINTE') == 0, f.lit(0)))))"
   ]
  },
  {
   "cell_type": "markdown",
   "metadata": {
    "application/vnd.databricks.v1+cell": {
     "cellMetadata": {},
     "inputWidgets": {},
     "nuid": "7254c623-c27a-4e8d-b69a-f71636ce943f",
     "showTitle": false,
     "title": ""
    }
   },
   "source": [
    "\n",
    "#### Cruzamento NCM"
   ]
  },
  {
   "cell_type": "code",
   "execution_count": 0,
   "metadata": {
    "application/vnd.databricks.v1+cell": {
     "cellMetadata": {
      "byteLimit": 2048000,
      "rowLimit": 10000
     },
     "inputWidgets": {},
     "nuid": "3011014e-40e8-466a-ab24-8694b02229cf",
     "showTitle": false,
     "title": ""
    }
   },
   "outputs": [],
   "source": [
    "#### NCM\n",
    "var_source_NCM = \"{adl_path}{trs}/{file_folder}/\".format(adl_path=var_adls_uri, trs=dls['folders']['trusted'], file_folder=table['cnae_ncm'])\n",
    "NCM = spark.read.parquet(var_source_NCM)\n",
    "NCM = NCM.drop('dh_insercao_trs', 'kv_process_control')"
   ]
  },
  {
   "cell_type": "code",
   "execution_count": 0,
   "metadata": {
    "application/vnd.databricks.v1+cell": {
     "cellMetadata": {
      "byteLimit": 2048000,
      "rowLimit": 10000
     },
     "inputWidgets": {},
     "nuid": "acc2599a-3021-4593-8b9d-5d7579928eaf",
     "showTitle": false,
     "title": ""
    }
   },
   "outputs": [],
   "source": [
    "#display(NCM)"
   ]
  },
  {
   "cell_type": "code",
   "execution_count": 0,
   "metadata": {
    "application/vnd.databricks.v1+cell": {
     "cellMetadata": {
      "byteLimit": 2048000,
      "rowLimit": 10000
     },
     "inputWidgets": {},
     "nuid": "3e923403-4e97-4cdd-b652-e0a485e5a5f6",
     "showTitle": false,
     "title": ""
    }
   },
   "outputs": [],
   "source": [
    "base_unica_estabelecimento = base_unica_estabelecimento.join(NCM , 'CD_CNAE20_CLASSE', how='left')"
   ]
  },
  {
   "cell_type": "markdown",
   "metadata": {
    "application/vnd.databricks.v1+cell": {
     "cellMetadata": {},
     "inputWidgets": {},
     "nuid": "60e9d921-5a85-4738-9c43-d509910323ea",
     "showTitle": false,
     "title": ""
    }
   },
   "source": [
    "\n",
    "#### Cruzamento ISIC"
   ]
  },
  {
   "cell_type": "code",
   "execution_count": 0,
   "metadata": {
    "application/vnd.databricks.v1+cell": {
     "cellMetadata": {
      "byteLimit": 2048000,
      "rowLimit": 10000
     },
     "inputWidgets": {},
     "nuid": "55d8beb1-fc91-47ae-a294-1ae701d7de4f",
     "showTitle": false,
     "title": ""
    }
   },
   "outputs": [],
   "source": [
    "#### ISIC\n",
    "var_source_isic = \"{adl_path}{trs}/{file_folder}/\".format(adl_path=var_adls_uri, trs=dls['folders']['trusted'], file_folder=table['cnae_isic'])\n",
    "isic = spark.read.parquet(var_source_isic)\n",
    "isic = isic.drop('dh_insercao_trs', 'kv_process_control')"
   ]
  },
  {
   "cell_type": "code",
   "execution_count": 0,
   "metadata": {
    "application/vnd.databricks.v1+cell": {
     "cellMetadata": {
      "byteLimit": 2048000,
      "rowLimit": 10000
     },
     "inputWidgets": {},
     "nuid": "1a125828-e545-44f4-b606-ae23dda0c1c0",
     "showTitle": false,
     "title": ""
    }
   },
   "outputs": [],
   "source": [
    "#display(isic)"
   ]
  },
  {
   "cell_type": "code",
   "execution_count": 0,
   "metadata": {
    "application/vnd.databricks.v1+cell": {
     "cellMetadata": {
      "byteLimit": 2048000,
      "rowLimit": 10000
     },
     "inputWidgets": {},
     "nuid": "41c9ea3f-922e-4bb7-be99-fc3afad15897",
     "showTitle": false,
     "title": ""
    }
   },
   "outputs": [],
   "source": [
    "base_unica_estabelecimento = base_unica_estabelecimento.join(isic, 'CD_CNAE20_CLASSE', how='left')"
   ]
  },
  {
   "cell_type": "markdown",
   "metadata": {
    "application/vnd.databricks.v1+cell": {
     "cellMetadata": {},
     "inputWidgets": {},
     "nuid": "f2d2a025-2991-40ef-812b-ea74d8143e8f",
     "showTitle": false,
     "title": ""
    }
   },
   "source": [
    "\n",
    "#### Cruzamento Natureza Jurídica"
   ]
  },
  {
   "cell_type": "code",
   "execution_count": 0,
   "metadata": {
    "application/vnd.databricks.v1+cell": {
     "cellMetadata": {
      "byteLimit": 2048000,
      "rowLimit": 10000
     },
     "inputWidgets": {},
     "nuid": "739713ec-1ea0-4353-970a-bdbacf0af550",
     "showTitle": false,
     "title": ""
    }
   },
   "outputs": [],
   "source": [
    "#### ISIC\n",
    "nat_juridica = \"{adl_path}{trs}/{file_folder}/\".format(adl_path=var_adls_uri, trs=dls['folders']['trusted'], file_folder=table['nat_juridica'])\n",
    "nat_juridica = spark.read.parquet(nat_juridica)\n",
    "nat_juridica = nat_juridica.drop('dh_insercao_trs', 'kv_process_control')"
   ]
  },
  {
   "cell_type": "code",
   "execution_count": 0,
   "metadata": {
    "application/vnd.databricks.v1+cell": {
     "cellMetadata": {
      "byteLimit": 2048000,
      "rowLimit": 10000
     },
     "inputWidgets": {},
     "nuid": "3062cef7-8977-4bff-accf-c06e732b19a9",
     "showTitle": false,
     "title": ""
    }
   },
   "outputs": [],
   "source": [
    "#display(nat_juridica)"
   ]
  },
  {
   "cell_type": "code",
   "execution_count": 0,
   "metadata": {
    "application/vnd.databricks.v1+cell": {
     "cellMetadata": {
      "byteLimit": 2048000,
      "rowLimit": 10000
     },
     "inputWidgets": {},
     "nuid": "144fb2f4-999b-4eec-96a4-9a9067366df5",
     "showTitle": false,
     "title": ""
    }
   },
   "outputs": [],
   "source": [
    "nat_juridica_rfb = (nat_juridica\n",
    "        .withColumnRenamed('CD_NAT_JURIDICA', 'CD_NATUREZA_JURIDICA_RFB')\n",
    "        .withColumnRenamed('DS_NAT_JURIDICA', 'DS_NAT_JURIDICA_RFB'))\n",
    "nat_juridica_rais = (nat_juridica\n",
    "        .withColumn('CD_NATUREZA_JURIDICA_RAIS', f.col('CD_NAT_JURIDICA'))\n",
    "        .withColumn('DS_NAT_JURIDICA_RAIS', f.col('DS_NAT_JURIDICA'))\n",
    "        .select('CD_NATUREZA_JURIDICA_RAIS','DS_NAT_JURIDICA_RAIS'))"
   ]
  },
  {
   "cell_type": "code",
   "execution_count": 0,
   "metadata": {
    "application/vnd.databricks.v1+cell": {
     "cellMetadata": {
      "byteLimit": 2048000,
      "rowLimit": 10000
     },
     "inputWidgets": {},
     "nuid": "dcb7a157-9951-4b55-944b-93935de0fb66",
     "showTitle": false,
     "title": ""
    }
   },
   "outputs": [],
   "source": [
    "base_unica_estabelecimento = (base_unica_estabelecimento\n",
    "                              .withColumn(\"CD_NATUREZA_JURIDICA_RAIS\",f.col(\"CD_NATUREZA_JURIDICA_RAIS\").cast(StringType())))"
   ]
  },
  {
   "cell_type": "code",
   "execution_count": 0,
   "metadata": {
    "application/vnd.databricks.v1+cell": {
     "cellMetadata": {
      "byteLimit": 2048000,
      "rowLimit": 10000
     },
     "inputWidgets": {},
     "nuid": "535698b5-7d2f-4efd-ae8f-4d198fe06ec7",
     "showTitle": false,
     "title": ""
    }
   },
   "outputs": [],
   "source": [
    "base_unica_estabelecimento = base_unica_estabelecimento.join(nat_juridica_rfb, 'CD_NATUREZA_JURIDICA_RFB', how='left')"
   ]
  },
  {
   "cell_type": "code",
   "execution_count": 0,
   "metadata": {
    "application/vnd.databricks.v1+cell": {
     "cellMetadata": {
      "byteLimit": 2048000,
      "rowLimit": 10000
     },
     "inputWidgets": {},
     "nuid": "3a855af9-6744-4584-8dd2-11d9231c812a",
     "showTitle": false,
     "title": ""
    }
   },
   "outputs": [],
   "source": [
    "base_unica_estabelecimento = base_unica_estabelecimento.join(nat_juridica_rais, 'CD_NATUREZA_JURIDICA_RAIS', how='left')"
   ]
  },
  {
   "cell_type": "code",
   "execution_count": 0,
   "metadata": {
    "application/vnd.databricks.v1+cell": {
     "cellMetadata": {
      "byteLimit": 2048000,
      "rowLimit": 10000
     },
     "inputWidgets": {},
     "nuid": "dd5f8736-f874-4ec6-a6f1-eb61e7159437",
     "showTitle": false,
     "title": ""
    }
   },
   "outputs": [],
   "source": [
    "#display(base_unica_estabelecimento)"
   ]
  },
  {
   "cell_type": "code",
   "execution_count": 0,
   "metadata": {
    "application/vnd.databricks.v1+cell": {
     "cellMetadata": {
      "byteLimit": 2048000,
      "rowLimit": 10000
     },
     "inputWidgets": {},
     "nuid": "0fd79977-9772-4c7d-824a-db66d1f00f72",
     "showTitle": false,
     "title": ""
    }
   },
   "outputs": [],
   "source": [
    "#display(base_unica_estabelecimento.count())"
   ]
  },
  {
   "cell_type": "code",
   "execution_count": 0,
   "metadata": {
    "application/vnd.databricks.v1+cell": {
     "cellMetadata": {
      "byteLimit": 2048000,
      "rowLimit": 10000
     },
     "inputWidgets": {},
     "nuid": "aa331d4d-58d6-47cb-987c-a169fd4b80aa",
     "showTitle": false,
     "title": ""
    }
   },
   "outputs": [],
   "source": [
    "df = tcf.add_control_fields(base_unica_estabelecimento, adf, layer=\"biz\")\n",
    "\n",
    "var_sink_cnpjs_rfb = \"{adl_path}{biz}/{path_destination}/\".format(adl_path=var_adls_uri, biz=dls['folders']['business'], path_destination=table[\"path_destination\"])\n",
    "#df.write.format('parquet').save(var_sink_cnpjs_rfb_rais, header = True, mode='overwrite')"
   ]
  },
  {
   "cell_type": "code",
   "execution_count": 0,
   "metadata": {
    "application/vnd.databricks.v1+cell": {
     "cellMetadata": {},
     "inputWidgets": {},
     "nuid": "7cd955f4-586e-409a-8987-2fac9716dd6d",
     "showTitle": false,
     "title": ""
    }
   },
   "outputs": [],
   "source": [
    "#df = df.drop(df.columns[-15])"
   ]
  },
  {
   "cell_type": "code",
   "execution_count": 0,
   "metadata": {
    "application/vnd.databricks.v1+cell": {
     "cellMetadata": {
      "byteLimit": 2048000,
      "rowLimit": 10000
     },
     "inputWidgets": {},
     "nuid": "431fb462-7d27-45d9-82b7-b13f1fc712de",
     "showTitle": false,
     "title": ""
    }
   },
   "outputs": [],
   "source": [
    "df.write.format('parquet').save(var_sink_cnpjs_rfb, header = True, mode='overwrite')"
   ]
  },
  {
   "cell_type": "code",
   "execution_count": 0,
   "metadata": {
    "application/vnd.databricks.v1+cell": {
     "cellMetadata": {},
     "inputWidgets": {},
     "nuid": "517bdece-cf6b-4c1a-a331-51921effdccc",
     "showTitle": false,
     "title": ""
    }
   },
   "outputs": [],
   "source": []
  }
 ],
 "metadata": {
  "application/vnd.databricks.v1+notebook": {
   "dashboards": [],
   "language": "python",
   "notebookMetadata": {
    "pythonIndentUnit": 2
   },
   "notebookName": "trs_biz_etl_base_unificada_cnpjs.py",
   "widgets": {}
  }
 },
 "nbformat": 4,
 "nbformat_minor": 0
}
