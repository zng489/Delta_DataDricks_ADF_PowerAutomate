{
 "cells": [
  {
   "cell_type": "code",
   "execution_count": 0,
   "metadata": {
    "application/vnd.databricks.v1+cell": {
     "cellMetadata": {
      "byteLimit": 2048000,
      "rowLimit": 10000
     },
     "inputWidgets": {},
     "nuid": "68732c29-a77f-453b-94da-bf9ce9ecf735",
     "showTitle": false,
     "title": ""
    }
   },
   "outputs": [
    {
     "output_type": "display_data",
     "data": {
      "application/vnd.databricks.v1+bamboolib_hint": "{\"pd.DataFrames\": [], \"version\": \"0.0.1\"}",
      "text/plain": ""
     },
     "metadata": {
      "application/vnd.databricks.v1+output": {
       "addedWidgets": {},
       "arguments": {},
       "data": {
        "application/vnd.databricks.v1+bamboolib_hint": "{\"pd.DataFrames\": [], \"version\": \"0.0.1\"}",
        "text/plain": ""
       },
       "datasetInfos": [],
       "executionCount": null,
       "metadata": {
        "kernelSessionId": "7a40a98c-c271f76cb0151aa6433324ff"
       },
       "removedWidgets": [],
       "type": "mimeBundle"
      }
     },
     "output_type": "display_data"
    }
   ],
   "source": [
    "import json\n",
    "import re\n",
    "import cni_connectors.adls_gen1_connector as connector\n",
    "import pyspark.sql.functions as f\n",
    "import crawler.functions as cf\n",
    "import requests\n",
    "import pandas as pd\n",
    "import numpy as np\n",
    "from datetime import datetime, timedelta\n",
    "from pyspark.sql.types import StructType, StructField, StringType, TimestampType, LongType, DoubleType"
   ]
  },
  {
   "cell_type": "code",
   "execution_count": 0,
   "metadata": {
    "application/vnd.databricks.v1+cell": {
     "cellMetadata": {
      "byteLimit": 2048000,
      "rowLimit": 10000
     },
     "inputWidgets": {},
     "nuid": "86b9e537-ffb6-4e6e-8394-6c7c7081058d",
     "showTitle": false,
     "title": ""
    }
   },
   "outputs": [
    {
     "output_type": "stream",
     "name": "stdout",
     "output_type": "stream",
     "text": [
      "fornecedor_dev\ndev-execution\n"
     ]
    }
   ],
   "source": [
    "var_adls_uri = connector.adls_gen1_connect(spark, dbutils, scope=\"adls_gen2\", dynamic_overwrite=\"dynamic\")"
   ]
  },
  {
   "cell_type": "code",
   "execution_count": 0,
   "metadata": {
    "application/vnd.databricks.v1+cell": {
     "cellMetadata": {
      "byteLimit": 2048000,
      "rowLimit": 10000
     },
     "inputWidgets": {},
     "nuid": "ef7c5296-8670-4c4d-9b91-003bdae9449d",
     "showTitle": false,
     "title": ""
    }
   },
   "outputs": [],
   "source": [
    "#Parametros de entrado do ADF\n",
    "var_file = {'namespace':'API_InGuru',\n",
    "'file_folder':'inguro_vig_acidente_trab',\n",
    "'extension':'csv',\n",
    "'column_delimiter':',',\n",
    "'encoding':'UTF-8',\n",
    "'null_value':''}\n",
    "\n",
    "#Caminho de Dev\n",
    "var_dls = {\n",
    "    \"folders\":{\"landing\":\"/tmp/dev/uld\",\n",
    "    \"error\":\"/tmp/dev/err\",\n",
    "    \"staging\":\"/tmp/dev/stg\",\n",
    "    \"log\":\"/tmp/dev/log\",\n",
    "    \"raw\":\"/tmp/dev/raw\",\n",
    "    \"trusted\":\"/tmp/dev/trs\",\n",
    "    \"business\":\"/tmp/dev/biz\",\n",
    "    \"landing\":\"/tmp/dev/uld\"          }}\n",
    "#Parametros do ADF (Nativo)\n",
    "var_adf = {\n",
    "    \"adf_factory_name\": \"cnibigdatafactory\",\n",
    "    \"adf_pipeline_name\": \"org_raw_vig_acidente_trab\",\n",
    "    \"adf_pipeline_run_id\": \"60ee3485-4a56-4ad1-99ae-666666666\",\n",
    "    \"adf_trigger_id\": \"62bee9e9-acbb-49cc-80f2-666666666\",\n",
    "    \"adf_trigger_name\": \"62bee9e9-acbb-49cc-80f2-66666666\",\n",
    "    \"adf_trigger_time\": \"2020-06-08T01:42:41.5507749Z\",\n",
    "    \"adf_trigger_type\": \"PipelineActivity\"\n",
    "}"
   ]
  },
  {
   "cell_type": "code",
   "execution_count": 0,
   "metadata": {
    "application/vnd.databricks.v1+cell": {
     "cellMetadata": {
      "byteLimit": 2048000,
      "rowLimit": 10000
     },
     "inputWidgets": {},
     "nuid": "5851fb2d-379b-41f1-bb58-20f3c9135923",
     "showTitle": false,
     "title": ""
    }
   },
   "outputs": [],
   "source": [
    "#Acesso ao json do CMD\n",
    "lnd = var_dls['folders']['landing']\n",
    "raw = var_dls['folders']['raw']"
   ]
  },
  {
   "cell_type": "code",
   "execution_count": 0,
   "metadata": {
    "application/vnd.databricks.v1+cell": {
     "cellMetadata": {
      "byteLimit": 2048000,
      "rowLimit": 10000
     },
     "inputWidgets": {},
     "nuid": "a29b3c36-d4d9-4dbf-8f59-269fad34d064",
     "showTitle": false,
     "title": ""
    }
   },
   "outputs": [
    {
     "output_type": "stream",
     "name": "stdout",
     "output_type": "stream",
     "text": [
      "Out[6]: '/tmp/dev/uld/API_InGuru/inguro_vig_acidente_trab/'"
     ]
    }
   ],
   "source": [
    "var_source = \"{lnd}/{namespace}/{file_folder}/\".format(lnd=lnd, namespace=var_file['namespace'], file_folder=var_file['file_folder'])\n",
    "var_source"
   ]
  },
  {
   "cell_type": "code",
   "execution_count": 0,
   "metadata": {
    "application/vnd.databricks.v1+cell": {
     "cellMetadata": {
      "byteLimit": 2048000,
      "rowLimit": 10000
     },
     "inputWidgets": {},
     "nuid": "a41d7315-fc49-42f5-b054-cc3fcc1036f0",
     "showTitle": false,
     "title": ""
    }
   },
   "outputs": [
    {
     "output_type": "stream",
     "name": "stdout",
     "output_type": "stream",
     "text": [
      "Out[7]: '[REDACTED]/tmp/dev/uld/API_InGuru/inguro_vig_acidente_trab'"
     ]
    }
   ],
   "source": [
    "#Origem e destino\n",
    "source_lnd = \"{adl_path}{lnd}/{namespace}/{file_folder}\".format(adl_path=var_adls_uri, lnd=lnd, namespace=var_file[\"namespace\"],file_folder=var_file[\"file_folder\"])\n",
    "source_lnd"
   ]
  },
  {
   "cell_type": "code",
   "execution_count": 0,
   "metadata": {
    "application/vnd.databricks.v1+cell": {
     "cellMetadata": {
      "byteLimit": 2048000,
      "rowLimit": 10000
     },
     "inputWidgets": {},
     "nuid": "0c9ed87a-7026-4833-9d83-dbd2774baf9c",
     "showTitle": false,
     "title": ""
    }
   },
   "outputs": [],
   "source": [
    "azure_path = 'abfss://datalake@cnibigdatadlsgen2.dfs.core.windows.net'\n",
    "outputh_path = '{uri}/uds/uniepro/API_InGuru/inguro_vig_acidente_trab'.format(uri=azure_path)\n",
    "\n",
    "def API_INGURU(url, per_page, start_date, end_date):\n",
    "    headers = {\n",
    "    'User-Agent':'Mozilla/5.0 (Windows NT 10.0; Win64; x64) AppleWebKit/537.36 (KHTML, like Gecko) Chrome/100.0.4896.127 Safari/537.36',\n",
    "    'accept':'application/json',\n",
    "    'authorization': '6f64d6a047fad369d35c3806f8f8e0560475075a432585973f91caae35b4ad74'\n",
    "    } \n",
    "\n",
    "    params = {\n",
    "        'per_page': per_page,\n",
    "        'start_date': start_date,\n",
    "        'end_date': end_date,\n",
    "        'sort': '1'\n",
    "    }\n",
    "    response = requests.get(url, headers=headers, params=params)\n",
    "    return response.json()"
   ]
  },
  {
   "cell_type": "code",
   "execution_count": 0,
   "metadata": {
    "application/vnd.databricks.v1+cell": {
     "cellMetadata": {
      "byteLimit": 2048000,
      "rowLimit": 10000
     },
     "inputWidgets": {},
     "nuid": "8575e3d7-6fd8-4312-aa54-07fd171fa25c",
     "showTitle": false,
     "title": ""
    }
   },
   "outputs": [],
   "source": [
    "def divide_data(data_inicial, data_final):\n",
    "    formato_data = '%d/%m/%Y %H:%M'\n",
    "\n",
    "    data_inicial = datetime.strptime(data_inicial, formato_data)\n",
    "    data_final = datetime.strptime(data_final, formato_data)\n",
    "    intervalo = data_final - data_inicial\n",
    "    data_final = data_inicial + intervalo // 2\n",
    "#     data_final = data_final.replace(hour=23, minute=59, second=59) # define o final como o último segundo do minuto\n",
    "    data_final = data_final.strftime(formato_data)\n",
    "    data_inicial = data_inicial.strftime(formato_data)\n",
    "    return (data_inicial, data_final)"
   ]
  },
  {
   "cell_type": "code",
   "execution_count": 0,
   "metadata": {
    "application/vnd.databricks.v1+cell": {
     "cellMetadata": {
      "byteLimit": 2048000,
      "rowLimit": 10000
     },
     "inputWidgets": {},
     "nuid": "30698ab6-1cbf-416f-9d6b-813b95e8c828",
     "showTitle": false,
     "title": ""
    }
   },
   "outputs": [],
   "source": [
    "def load_big_df(path):\n",
    "  schema = StructType([\n",
    "    StructField(\"id\", LongType(), nullable=True),\n",
    "    StructField(\"domain\", StringType(), nullable=True),\n",
    "    StructField(\"title\", StringType(), nullable=True),\n",
    "    StructField(\"subtitle\", StringType(), nullable=True),\n",
    "    StructField(\"author\", StringType(), nullable=True),\n",
    "    StructField(\"content\", StringType(), nullable=True),\n",
    "    StructField(\"url\", StringType(), nullable=True),\n",
    "    StructField(\"source\", StringType(), nullable=True),\n",
    "    StructField(\"source_country\", StringType(), nullable=True),\n",
    "    StructField(\"source_state\", StringType(), nullable=True),\n",
    "    StructField(\"crawled_date\", StringType(), nullable=True),\n",
    "    StructField(\"published_date\", StringType(), nullable=True),\n",
    "    StructField(\"dh_insertion_raw\", StringType(), nullable=True)\n",
    "  ])\n",
    "\n",
    "  df = spark.read.schema(schema) \\\n",
    "             .option(\"mergeSchema\", \"true\") \\\n",
    "             .option(\"timestampFormat\", \"INT96\") \\\n",
    "             .parquet(path) \\\n",
    "             .withColumn(\"dh_insertion_raw\", f.col(\"dh_insertion_raw\").cast(\"timestamp\"))\\\n",
    "             .withColumn(\"crawled_date\", f.col(\"crawled_date\").cast(\"timestamp\"))\n",
    "  \n",
    "  return df"
   ]
  },
  {
   "cell_type": "code",
   "execution_count": 0,
   "metadata": {
    "application/vnd.databricks.v1+cell": {
     "cellMetadata": {
      "byteLimit": 2048000,
      "rowLimit": 10000
     },
     "inputWidgets": {},
     "nuid": "7362c6af-5a69-4389-b880-98fe18cd409b",
     "showTitle": false,
     "title": ""
    }
   },
   "outputs": [],
   "source": [
    "def get_news(data_inicial, data_final, id):\n",
    "    url = 'https://app.inguru.me/api/v1/taxonomies/nodes/news/'+str(id)\n",
    "\n",
    "    array_dfs = []\n",
    "\n",
    "    getted_news = 0\n",
    "    \n",
    "    total_news = API_INGURU(url, 1, data_inicial, data_final)['pagination']['total']\n",
    "    \n",
    "    if not total_news:\n",
    "      dados = {\n",
    "        'author': np.nan,\n",
    "        'content': np.nan,\n",
    "        'crawled_date': np.nan,\n",
    "        'domain': np.nan,\n",
    "        'id': np.nan,\n",
    "        'published_date': np.nan,\n",
    "        'source': np.nan,\n",
    "        'source_country': np.nan,\n",
    "        'source_state': np.nan,\n",
    "        'subtitle': np.nan,\n",
    "        'title': np.nan,\n",
    "        'url': np.nan,\n",
    "        'dh_insertion_raw': np.nan\n",
    "      }\n",
    "      fail_df = pd.DataFrame(dados, index=[0])\n",
    "      array_dfs.append(fail_df)\n",
    "      parcial_data_inicial = parcial_data_final\n",
    "      parcial_data_final = data_final\n",
    "    else:\n",
    "      \n",
    "      print('Total de notícias: ', total_news)\n",
    "\n",
    "      parcial_data_inicial = data_inicial\n",
    "      parcial_data_final = data_final\n",
    "\n",
    "      while getted_news < total_news:\n",
    "\n",
    "          parcial_news = total_news\n",
    "\n",
    "          while parcial_news > 10000:\n",
    "              print('Parcial de notícias: ', parcial_news)\n",
    "              print('Data inicial: ', parcial_data_inicial)\n",
    "              print('Data final: ', parcial_data_final)\n",
    "              parcial_data_inicial, parcial_data_final = divide_data(parcial_data_inicial, parcial_data_final)\n",
    "              parcial_news = API_INGURU(url, 1, parcial_data_inicial, parcial_data_final)['pagination']['total']\n",
    "\n",
    "          print(\"fazendo requisicao\")\n",
    "          print('Data inicial: ', parcial_data_inicial)\n",
    "          print('Data final: ', parcial_data_final)\n",
    "          news = API_INGURU(url, parcial_news, parcial_data_inicial, parcial_data_final)['data']\n",
    "\n",
    "          #CRIA UM DATAFRAME COM AS NOTICIAS\n",
    "          noticias = pd.DataFrame(news)\n",
    "          #ADICIONA NUM ARRAY DE DATAFRAME\n",
    "          array_dfs.append(noticias)\n",
    "\n",
    "          #corrige as datas\n",
    "\n",
    "          parcial_data_inicial = parcial_data_final\n",
    "          parcial_data_final = data_final\n",
    "\n",
    "          getted_news += parcial_news\n",
    "          \n",
    "\n",
    "    return pd.concat(array_dfs)"
   ]
  },
  {
   "cell_type": "markdown",
   "metadata": {
    "application/vnd.databricks.v1+cell": {
     "cellMetadata": {},
     "inputWidgets": {},
     "nuid": "63d2febf-7a18-41fe-99e3-7ad3a6dd9285",
     "showTitle": false,
     "title": ""
    }
   },
   "source": [
    "### Ingestão de anos anteriores"
   ]
  },
  {
   "cell_type": "markdown",
   "metadata": {
    "application/vnd.databricks.v1+cell": {
     "cellMetadata": {},
     "inputWidgets": {},
     "nuid": "3db10356-4926-423f-9f96-e64973aaba3f",
     "showTitle": false,
     "title": ""
    }
   },
   "source": [
    "Teve de ser criado pois a API não carrega todos os anos por alguma limitação.\n",
    "\n",
    "PRECISA SER RODADO APENAS NA PRIMEIRA VEZ"
   ]
  },
  {
   "cell_type": "code",
   "execution_count": 0,
   "metadata": {
    "application/vnd.databricks.v1+cell": {
     "cellMetadata": {
      "byteLimit": 2048000,
      "rowLimit": 10000
     },
     "inputWidgets": {},
     "nuid": "cf6ad5fb-2174-42b3-a283-3813f6680569",
     "showTitle": false,
     "title": ""
    }
   },
   "outputs": [],
   "source": [
    "def insere_news(data_inicial, data_final, id, path):\n",
    "  p = 0\n",
    "  \n",
    "  perpat = 0\n",
    "  \n",
    "  url = 'https://app.inguru.me/api/v1/taxonomies/nodes/news/'+str(id)\n",
    "\n",
    "  array_dfs = []\n",
    "\n",
    "  getted_news = 0\n",
    "    \n",
    "  total_news = API_INGURU(url, 1, data_inicial, data_final)['pagination']['total']\n",
    "    \n",
    "  if total_news != 0:\n",
    "      \n",
    "    print('Total de notícias: ', total_news)\n",
    "\n",
    "    parcial_data_inicial = data_inicial\n",
    "    parcial_data_final = data_final\n",
    "\n",
    "    while getted_news < total_news:\n",
    "      parte = '_p' + str(p)\n",
    "      parcial_news = total_news\n",
    "\n",
    "      while parcial_news > 10000:\n",
    "        requisicao = API_INGURU(url, 1, parcial_data_inicial, parcial_data_final)\n",
    "        print('Parcial de notícias antes: ', parcial_news)\n",
    "        parcial_data_inicial, parcial_data_final = divide_data(parcial_data_inicial, parcial_data_final)\n",
    "        parcial_news = requisicao['pagination']['total']\n",
    "        print('Parcial de notícias depois: ', parcial_news)\n",
    "        \n",
    "        if parcial_news == 0:\n",
    "          parcial_data_inicial = parcial_data_final\n",
    "          parcial_data_final = data_final\n",
    "          parcial_news = 10001\n",
    "\n",
    "      print(parcial_news)\n",
    "      print('Data inicial: ', parcial_data_inicial)\n",
    "      print('Data final: ', parcial_data_final)\n",
    "      newsget = API_INGURU(url, parcial_news, parcial_data_inicial, parcial_data_final)\n",
    "      \n",
    "\n",
    "      news = newsget['data']\n",
    "\n",
    "      #CRIA UM DATAFRAME COM AS NOTICIAS\n",
    "      noticias = pd.DataFrame(news)\n",
    "      #corrige as datas\n",
    "      parcial_data_inicial = parcial_data_final\n",
    "      parcial_data_final = data_final\n",
    "\n",
    "      getted_news += parcial_news\n",
    "\n",
    "      dh_insertion_raw = var_adf[\"adf_trigger_time\"].split(\".\")[0]\n",
    "\n",
    "      schema = StructType([\n",
    "        StructField(\"id\", LongType(), nullable=True),\n",
    "        StructField(\"domain\", StringType(), nullable=True),\n",
    "        StructField(\"title\", StringType(), nullable=True),\n",
    "        StructField(\"subtitle\", StringType(), nullable=True),\n",
    "        StructField(\"author\", StringType(), nullable=True),\n",
    "        StructField(\"content\", StringType(), nullable=True),\n",
    "        StructField(\"url\", StringType(), nullable=True),\n",
    "        StructField(\"source\", StringType(), nullable=True),\n",
    "        StructField(\"source_country\", StringType(), nullable=True),\n",
    "        StructField(\"source_state\", StringType(), nullable=True),\n",
    "        StructField(\"crawled_date\", StringType(), nullable=True),\n",
    "        StructField(\"published_date\", StringType(), nullable=True)\n",
    "      ])\n",
    "\n",
    "      saveDF = spark.createDataFrame(noticias, schema)\n",
    "      saveDF = saveDF.withColumn(\"dh_insertion_raw\", f.lit(dh_insertion_raw).cast(\"string\"))\n",
    "      saveDF.write.parquet(path + parte, \"append\")\n",
    "      print(\"Total:\", total_news)\n",
    "      print(\"Inseridas:\", getted_news)\n",
    "      perpat += parcial_news\n",
    "      \n",
    "      if perpat >= 1000000:\n",
    "        p += 1\n",
    "        perpat = 0\n",
    "    \n",
    "  else:\n",
    "    print(\"Sem dados\")\n"
   ]
  },
  {
   "cell_type": "code",
   "execution_count": 0,
   "metadata": {
    "application/vnd.databricks.v1+cell": {
     "cellMetadata": {
      "byteLimit": 2048000,
      "rowLimit": 10000
     },
     "inputWidgets": {},
     "nuid": "30289fa1-92f6-4b89-bb58-43ffcea80d83",
     "showTitle": false,
     "title": ""
    }
   },
   "outputs": [
    {
     "output_type": "stream",
     "name": "stdout",
     "output_type": "stream",
     "text": [
      "Total de notícias:  20171717\nParcial de notícias antes:  20171717\nParcial de notícias depois:  20171717\nParcial de notícias antes:  20171717\nParcial de notícias depois:  2192031\nParcial de notícias antes:  2192031\nParcial de notícias depois:  340189\nParcial de notícias antes:  340189\nParcial de notícias depois:  224250\nParcial de notícias antes:  224250\nParcial de notícias depois:  89786\nParcial de notícias antes:  89786\nParcial de notícias depois:  58479\nParcial de notícias antes:  58479\nParcial de notícias depois:  45296\nParcial de notícias antes:  45296\nParcial de notícias depois:  37695\nParcial de notícias antes:  37695\nParcial de notícias depois:  27683\nParcial de notícias antes:  27683\nParcial de notícias depois:  11140\nParcial de notícias antes:  11140\nParcial de notícias depois:  9019\n9019\nData inicial:  26/04/2021 00:00\nData final:  26/04/2021 08:00\nTotal: 20171717\nInseridas: 9019\nParcial de notícias antes:  20171717\nParcial de notícias depois:  20167084\nParcial de notícias antes:  20167084\nParcial de notícias depois:  2191934\nParcial de notícias antes:  2191934\nParcial de notícias depois:  335746\nParcial de notícias antes:  335746\nParcial de notícias depois:  220519\nParcial de notícias antes:  220519\nParcial de notícias depois:  85783\nParcial de notícias antes:  85783\nParcial de notícias depois:  54737\nParcial de notícias antes:  54737\nParcial de notícias depois:  41354\nParcial de notícias antes:  41354\nParcial de notícias depois:  33442\nParcial de notícias antes:  33442\nParcial de notícias depois:  28889\nParcial de notícias antes:  28889\nParcial de notícias depois:  7599\n7599\nData inicial:  26/04/2021 08:00\nData final:  27/04/2021 00:00\nTotal: 20171717\nInseridas: 16618\nParcial de notícias antes:  20171717\nParcial de notícias depois:  20160928\nParcial de notícias antes:  20160928\nParcial de notícias depois:  2191567\nParcial de notícias antes:  2191567\nParcial de notícias depois:  330617\nParcial de notícias antes:  330617\nParcial de notícias depois:  215004\nParcial de notícias antes:  215004\nParcial de notícias depois:  81463\nParcial de notícias antes:  81463\nParcial de notícias depois:  49390\nParcial de notícias antes:  49390\nParcial de notícias depois:  36256\nParcial de notícias antes:  36256\nParcial de notícias depois:  27565\nParcial de notícias antes:  27565\nParcial de notícias depois:  24033\nParcial de notícias antes:  24033\nParcial de notícias depois:  8119\n8119\nData inicial:  27/04/2021 00:00\nData final:  27/04/2021 15:59\nTotal: 20171717\nInseridas: 24737\nParcial de notícias antes:  20171717\nParcial de notícias depois:  20159501\nParcial de notícias antes:  20159501\nParcial de notícias depois:  2201749\nParcial de notícias antes:  2201749\nParcial de notícias depois:  329936\nParcial de notícias antes:  329936\nParcial de notícias depois:  215179\nParcial de notícias antes:  215179\nParcial de notícias depois:  89026\nParcial de notícias antes:  89026\nParcial de notícias depois:  49508\nParcial de notícias antes:  49508\nParcial de notícias depois:  35614\nParcial de notícias antes:  35614\nParcial de notícias depois:  26561\nParcial de notícias antes:  26561\nParcial de notícias depois:  23801\nParcial de notícias antes:  23801\nParcial de notícias depois:  21273\nParcial de notícias antes:  21273\nParcial de notícias depois:  6671\n6671\nData inicial:  27/04/2021 15:59\nData final:  27/04/2021 23:58\nTotal: 20171717\nInseridas: 31408\nParcial de notícias antes:  20171717\nParcial de notícias depois:  20158165\nParcial de notícias antes:  20158165\nParcial de notícias depois:  2205618\nParcial de notícias antes:  2205618\nParcial de notícias depois:  328915\nParcial de notícias antes:  328915\nParcial de notícias depois:  214046\nParcial de notícias antes:  214046\nParcial de notícias depois:  96897\nParcial de notícias antes:  96897\nParcial de notícias depois:  48407\nParcial de notícias antes:  48407\nParcial de notícias depois:  34596\nParcial de notícias antes:  34596\nParcial de notícias depois:  25400\nParcial de notícias antes:  25400\nParcial de notícias depois:  23281\nParcial de notícias antes:  23281\nParcial de notícias depois:  20400\nParcial de notícias antes:  20400\nParcial de notícias depois:  14062\nParcial de notícias antes:  14062\nParcial de notícias depois:  5323\n5323\nData inicial:  27/04/2021 23:58\nData final:  28/04/2021 03:57\nTotal: 20171717\nInseridas: 36731\nParcial de notícias antes:  20171717\nParcial de notícias depois:  20157105\nParcial de notícias antes:  20157105\nParcial de notícias depois:  2206984\nParcial de notícias antes:  2206984\nParcial de notícias depois:  328140\nParcial de notícias antes:  328140\nParcial de notícias depois:  213109\nParcial de notícias antes:  213109\nParcial de notícias depois:  96705\nParcial de notícias antes:  96705\nParcial de notícias depois:  47621\nParcial de notícias antes:  47621\nParcial de notícias depois:  33610\nParcial de notícias antes:  33610\nParcial de notícias depois:  24751\nParcial de notícias antes:  24751\nParcial de notícias depois:  22710\nParcial de notícias antes:  22710\nParcial de notícias depois:  19760\nParcial de notícias antes:  19760\nParcial de notícias depois:  15818\nParcial de notícias antes:  15818\nParcial de notícias depois:  11669\nParcial de notícias antes:  11669\nParcial de notícias depois:  4239\n4239\nData inicial:  28/04/2021 03:57\nData final:  28/04/2021 05:56\nTotal: 20171717\nInseridas: 40970\nParcial de notícias antes:  20171717\nParcial de notícias depois:  20155634\nParcial de notícias antes:  20155634\nParcial de notícias depois:  2206578\nParcial de notícias antes:  2206578\nParcial de notícias depois:  326796\nParcial de notícias antes:  326796\nParcial de notícias depois:  211877\nParcial de notícias antes:  211877\nParcial de notícias depois:  96267\nParcial de notícias antes:  96267\nParcial de notícias depois:  46328\nParcial de notícias antes:  46328\nParcial de notícias depois:  32165\nParcial de notícias antes:  32165\nParcial de notícias depois:  23543\nParcial de notícias antes:  23543\nParcial de notícias depois:  21349\nParcial de notícias antes:  21349\nParcial de notícias depois:  18484\nParcial de notícias antes:  18484\nParcial de notícias depois:  16804\nParcial de notícias antes:  16804\nParcial de notícias depois:  11177\nParcial de notícias antes:  11177\nParcial de notícias depois:  7570\n7570\nData inicial:  28/04/2021 05:56\nData final:  28/04/2021 07:55\nTotal: 20171717\nInseridas: 48540\nParcial de notícias antes:  20171717\nParcial de notícias depois:  20152906\nParcial de notícias antes:  20152906\nParcial de notícias depois:  2204862\nParcial de notícias antes:  2204862\nParcial de notícias depois:  324229\nParcial de notícias antes:  324229\nParcial de notícias depois:  209337\nParcial de notícias antes:  209337\nParcial de notícias depois:  94924\nParcial de notícias antes:  94924\nParcial de notícias depois:  43836\nParcial de notícias antes:  43836\nParcial de notícias depois:  29455\nParcial de notícias antes:  29455\nParcial de notícias depois:  21048\nParcial de notícias antes:  21048\nParcial de notícias depois:  18694\nParcial de notícias antes:  18694\nParcial de notícias depois:  15997\nParcial de notícias antes:  15997\nParcial de notícias depois:  14660\nParcial de notícias antes:  14660\nParcial de notícias depois:  8791\n8791\nData inicial:  28/04/2021 07:55\nData final:  28/04/2021 11:54\nTotal: 20171717\nInseridas: 57331\nParcial de notícias antes:  20171717\nParcial de notícias depois:  20145462\nParcial de notícias antes:  20145462\nParcial de notícias depois:  2199418\nParcial de notícias antes:  2199418\nParcial de notícias depois:  317071\nParcial de notícias antes:  317071\nParcial de notícias depois:  202359\nParcial de notícias antes:  202359\nParcial de notícias depois:  90933\nParcial de notícias antes:  90933\nParcial de notícias depois:  36832\nParcial de notícias antes:  36832\nParcial de notícias depois:  22035\nParcial de notícias antes:  22035\nParcial de notícias depois:  14089\nParcial de notícias antes:  14089\nParcial de notícias depois:  11366\nParcial de notícias antes:  11366\nParcial de notícias depois:  9086\n9086\nData inicial:  28/04/2021 11:54\nData final:  29/04/2021 03:51\nTotal: 20171717\nInseridas: 66417\nParcial de notícias antes:  20171717\nParcial de notícias depois:  20137935\nParcial de notícias antes:  20137935\nParcial de notícias depois:  2205928\nParcial de notícias antes:  2205928\nParcial de notícias depois:  309871\nParcial de notícias antes:  309871\nParcial de notícias depois:  195841\nParcial de notícias antes:  195841\nParcial de notícias depois:  87492\nParcial de notícias antes:  87492\nParcial de notícias depois:  30148\nParcial de notícias antes:  30148\nParcial de notícias depois:  14849\nParcial de notícias antes:  14849\nParcial de notícias depois:  7425\n7425\nData inicial:  29/04/2021 03:51\nData final:  01/05/2021 19:38\nTotal: 20171717\nInseridas: 73842\nParcial de notícias antes:  20171717\nParcial de notícias depois:  20133566\nParcial de notícias antes:  20133566\nParcial de notícias depois:  2298589\nParcial de notícias antes:  2298589\nParcial de notícias depois:  306650\nParcial de notícias antes:  306650\nParcial de notícias depois:  194001\nParcial de notícias antes:  194001\nParcial de notícias depois:  86475\nParcial de notícias antes:  86475\nParcial de notícias depois:  29676\nParcial de notícias antes:  29676\nParcial de notícias depois:  14177\nParcial de notícias antes:  14177\nParcial de notícias depois:  7930\n7930\nData inicial:  01/05/2021 19:38\nData final:  04/05/2021 11:10\nTotal: 20171717\nInseridas: 81772\nParcial de notícias antes:  20171717\nParcial de notícias depois:  20130531\nParcial de notícias antes:  20130531\nParcial de notícias depois:  2378726\nParcial de notícias antes:  2378726\nParcial de notícias depois:  306929\nParcial de notícias antes:  306929\nParcial de notícias depois:  194817\nParcial de notícias antes:  194817\nParcial de notícias depois:  87000\nParcial de notícias antes:  87000\nParcial de notícias depois:  30131\nParcial de notícias antes:  30131\nParcial de notícias depois:  15922\nParcial de notícias antes:  15922\nParcial de notícias depois:  7412\n7412\nData inicial:  04/05/2021 11:10\nData final:  07/05/2021 02:27\nTotal: 20171717\nInseridas: 89184\nParcial de notícias antes:  20171717\nParcial de notícias depois:  20125645\nParcial de notícias antes:  20125645\nParcial de notícias depois:  2450085\nParcial de notícias antes:  2450085\nParcial de notícias depois:  305226\nParcial de notícias antes:  305226\nParcial de notícias depois:  193989\nParcial de notícias antes:  193989\nParcial de notícias depois:  93750\nParcial de notícias antes:  93750\nParcial de notícias depois:  29605\nParcial de notícias antes:  29605\nParcial de notícias depois:  13040\nParcial de notícias antes:  13040\nParcial de notícias depois:  6138\n6138\nData inicial:  07/05/2021 02:27\nData final:  09/05/2021 17:30\nTotal: 20171717\nInseridas: 95322\nParcial de notícias antes:  20171717\nParcial de notícias depois:  20123125\nParcial de notícias antes:  20123125\nParcial de notícias depois:  2517505\nParcial de notícias antes:  2517505\nParcial de notícias depois:  304724\nParcial de notícias antes:  304724\nParcial de notícias depois:  193992\nParcial de notícias antes:  193992\nParcial de notícias depois:  93927\nParcial de notícias antes:  93927\nParcial de notícias depois:  29929\nParcial de notícias antes:  29929\nParcial de notícias depois:  14993\nParcial de notícias antes:  14993\nParcial de notícias depois:  8494\n8494\nData inicial:  09/05/2021 17:30\nData final:  12/05/2021 08:18\nTotal: 20171717\nInseridas: 103816\nParcial de notícias antes:  20171717\nParcial de notícias depois:  20119528\nParcial de notícias antes:  20119528\nParcial de notícias depois:  2549011\nParcial de notícias antes:  2549011\nParcial de notícias depois:  303386\nParcial de notícias antes:  303386\nParcial de notícias depois:  193577\nParcial de notícias antes:  193577\nParcial de notícias depois:  94783\nParcial de notícias antes:  94783\nParcial de notícias depois:  30116\nParcial de notícias antes:  30116\nParcial de notícias depois:  15542\nParcial de notícias antes:  15542\nParcial de notícias depois:  6806\n6806\nData inicial:  12/05/2021 08:18\nData final:  14/05/2021 22:51\nTotal: 20171717\nInseridas: 110622\nParcial de notícias antes:  20171717\nParcial de notícias depois:  20114635\nParcial de notícias antes:  20114635\nParcial de notícias depois:  2614433\nParcial de notícias antes:  2614433\nParcial de notícias depois:  301912\nParcial de notícias antes:  301912\nParcial de notícias depois:  192828\nParcial de notícias antes:  192828\nParcial de notícias depois:  95239\nParcial de notícias antes:  95239\nParcial de notícias depois:  29683\nParcial de notícias antes:  29683\nParcial de notícias depois:  13626\nParcial de notícias antes:  13626\nParcial de notícias depois:  6463\n6463\nData inicial:  14/05/2021 22:51\nData final:  17/05/2021 13:09\nTotal: 20171717\nInseridas: 117085\nParcial de notícias antes:  20171717\nParcial de notícias depois:  20112742\nParcial de notícias antes:  20112742\nParcial de notícias depois:  2701066\nParcial de notícias antes:  2701066\nParcial de notícias depois:  303240\nParcial de notícias antes:  303240\nParcial de notícias depois:  193444\nParcial de notícias antes:  193444\nParcial de notícias depois:  97357\nParcial de notícias antes:  97357\nParcial de notícias depois:  29646\nParcial de notícias antes:  29646\nParcial de notícias depois:  16514\nParcial de notícias antes:  16514\nParcial de notícias depois:  8720\n8720\nData inicial:  17/05/2021 13:09\nData final:  20/05/2021 03:13\nTotal: 20171717\nInseridas: 125805\nParcial de notícias antes:  20171717\nParcial de notícias depois:  20108174\nParcial de notícias antes:  20108174\nParcial de notícias depois:  2776613\nParcial de notícias antes:  2776613\nParcial de notícias depois:  299852\nParcial de notícias antes:  299852\nParcial de notícias depois:  192362\nParcial de notícias antes:  192362\nParcial de notícias depois:  99718\nParcial de notícias antes:  99718\nParcial de notícias depois:  47622\nParcial de notícias antes:  47622\nParcial de notícias depois:  14836\nParcial de notícias antes:  14836\nParcial de notícias depois:  7098\n7098\nData inicial:  20/05/2021 03:13\nData final:  22/05/2021 17:02\nTotal: 20171717\nInseridas: 132903\nParcial de notícias antes:  20171717\nParcial de notícias depois:  20104034\nParcial de notícias antes:  20104034\nParcial de notícias depois:  2813066\nParcial de notícias antes:  2813066\nParcial de notícias depois:  297756\nParcial de notícias antes:  297756\nParcial de notícias depois:  192870\nParcial de notícias antes:  192870\nParcial de notícias depois:  105972\nParcial de notícias antes:  105972\nParcial de notícias depois:  56293\nParcial de notícias antes:  56293\nParcial de notícias depois:  14473\nParcial de notícias antes:  14473\nParcial de notícias depois:  7723\n7723\nData inicial:  22/05/2021 17:02\nData final:  25/05/2021 06:37\nTotal: 20171717\nInseridas: 140626\nParcial de notícias antes:  20171717\nParcial de notícias depois:  20101079\nParcial de notícias antes:  20101079\nParcial de notícias depois:  2844295\nParcial de notícias antes:  2844295\nParcial de notícias depois:  298164\nParcial de notícias antes:  298164\nParcial de notícias depois:  192562\nParcial de notícias antes:  192562\nParcial de notícias depois:  106432\nParcial de notícias antes:  106432\nParcial de notícias depois:  55866\nParcial de notícias antes:  55866\nParcial de notícias depois:  15529\nParcial de notícias antes:  15529\nParcial de notícias depois:  7719\n7719\nData inicial:  25/05/2021 06:37\nData final:  27/05/2021 19:57\nTotal: 20171717\nInseridas: 148345\nParcial de notícias antes:  20171717\nParcial de notícias depois:  20096340\nParcial de notícias antes:  20096340\nParcial de notícias depois:  2897846\nParcial de notícias antes:  2897846\nParcial de notícias depois:  295587\nParcial de notícias antes:  295587\nParcial de notícias depois:  190121\nParcial de notícias antes:  190121\nParcial de notícias depois:  111240\nParcial de notícias antes:  111240\nParcial de notícias depois:  55934\nParcial de notícias antes:  55934\nParcial de notícias depois:  13116\nParcial de notícias antes:  13116\nParcial de notícias depois:  6724\n6724\nData inicial:  27/05/2021 19:57\nData final:  30/05/2021 09:03\nTotal: 20171717\nInseridas: 155069\nParcial de notícias antes:  20171717\nParcial de notícias depois:  20093364\nParcial de notícias antes:  20093364\nParcial de notícias depois:  2970389\nParcial de notícias antes:  2970389\nParcial de notícias depois:  294322\nParcial de notícias antes:  294322\nParcial de notícias depois:  190995\nParcial de notícias antes:  190995\nParcial de notícias depois:  131560\nParcial de notícias antes:  131560\nParcial de notícias depois:  63716\nParcial de notícias antes:  63716\nParcial de notícias depois:  31525\nParcial de notícias antes:  31525\nParcial de notícias depois:  7636\n7636\nData inicial:  30/05/2021 09:03\nData final:  01/06/2021 21:55\nTotal: 20171717\nInseridas: 162705\nParcial de notícias antes:  20171717\nParcial de notícias depois:  20089627\nParcial de notícias antes:  20089627\nParcial de notícias depois:  3038109\nParcial de notícias antes:  3038109\nParcial de notícias depois:  293794\nParcial de notícias antes:  293794\nParcial de notícias depois:  190139\nParcial de notícias antes:  190139\nParcial de notícias depois:  129113\nParcial de notícias antes:  129113\nParcial de notícias depois:  62811\nParcial de notícias antes:  62811\nParcial de notícias depois:  41775\nParcial de notícias antes:  41775\nParcial de notícias depois:  6379\n6379\nData inicial:  01/06/2021 21:55\nData final:  04/06/2021 10:32\nTotal: 20171717\nInseridas: 169084\nParcial de notícias antes:  20171717\nParcial de notícias depois:  20085752\nParcial de notícias antes:  20085752\nParcial de notícias depois:  3094417\nParcial de notícias antes:  3094417\nParcial de notícias depois:  293338\nParcial de notícias antes:  293338\nParcial de notícias depois:  188392\nParcial de notícias antes:  188392\nParcial de notícias depois:  130212\nParcial de notícias antes:  130212\nParcial de notícias depois:  63937\nParcial de notícias antes:  63937\nParcial de notícias depois:  39881\nParcial de notícias antes:  39881\nParcial de notícias depois:  23384\nParcial de notícias antes:  23384\nParcial de notícias depois:  2499\n2499\nData inicial:  04/06/2021 10:32\nData final:  05/06/2021 16:43\nTotal: 20171717\nInseridas: 171583\nParcial de notícias antes:  20171717\nParcial de notícias depois:  20083966\nParcial de notícias antes:  20083966\nParcial de notícias depois:  3123720\nParcial de notícias antes:  3123720\nParcial de notícias depois:  292866\nParcial de notícias antes:  292866\nParcial de notícias depois:  188460\nParcial de notícias antes:  188460\nParcial de notícias depois:  131099\nParcial de notícias antes:  131099\nParcial de notícias depois:  66031\nParcial de notícias antes:  66031\nParcial de notícias depois:  40692\nParcial de notícias antes:  40692\nParcial de notícias depois:  33614\nParcial de notícias antes:  33614\nParcial de notícias depois:  3011\n3011\nData inicial:  05/06/2021 16:43\nData final:  06/06/2021 22:51\nTotal: 20171717\nInseridas: 174594\nParcial de notícias antes:  20171717\nParcial de notícias depois:  20083254\nParcial de notícias antes:  20083254\nParcial de notícias depois:  3143787\nParcial de notícias antes:  3143787\nParcial de notícias depois:  292797\nParcial de notícias antes:  292797\nParcial de notícias depois:  189598\nParcial de notícias antes:  189598\nParcial de notícias depois:  132305\nParcial de notícias antes:  132305\nParcial de notícias depois:  66968\nParcial de notícias antes:  66968\nParcial de notícias depois:  42636\nParcial de notícias antes:  42636\nParcial de notícias depois:  35365\nParcial de notícias antes:  35365\nParcial de notícias depois:  20742\nParcial de notícias antes:  20742\nParcial de notícias depois:  2296\n2296\nData inicial:  06/06/2021 22:51\nData final:  07/06/2021 13:53\nTotal: 20171717\nInseridas: 176890\nParcial de notícias antes:  20171717\nParcial de notícias depois:  20082407\nParcial de notícias antes:  20082407\nParcial de notícias depois:  3149657\nParcial de notícias antes:  3149657\nParcial de notícias depois:  292310\nParcial de notícias antes:  292310\nParcial de notícias depois:  190046\nParcial de notícias antes:  190046\nParcial de notícias depois:  131885\nParcial de notícias antes:  131885\nParcial de notícias depois:  66678\nParcial de notícias antes:  66678\nParcial de notícias depois:  43671\nParcial de notícias antes:  43671\nParcial de notícias depois:  35011\nParcial de notícias antes:  35011\nParcial de notícias depois:  28061\nParcial de notícias antes:  28061\nParcial de notícias depois:  4511\n4511\nData inicial:  07/06/2021 13:53\nData final:  08/06/2021 04:54\nTotal: 20171717\nInseridas: 181401\nParcial de notícias antes:  20171717\nParcial de notícias depois:  20080958\nParcial de notícias antes:  20080958\nParcial de notícias depois:  3154934\nParcial de notícias antes:  3154934\nParcial de notícias depois:  291086\nParcial de notícias antes:  291086\nParcial de notícias depois:  188903\nParcial de notícias antes:  188903\nParcial de notícias depois:  130723\nParcial de notícias antes:  130723\nParcial de notícias depois:  65826\nParcial de notícias antes:  65826\nParcial de notícias depois:  49121\nParcial de notícias antes:  49121\nParcial de notícias depois:  33876\nParcial de notícias antes:  33876\nParcial de notícias depois:  30559\nParcial de notícias antes:  30559\nParcial de notícias depois:  18395\nParcial de notícias antes:  18395\nParcial de notícias depois:  3050\n3050\nData inicial:  08/06/2021 04:54\nData final:  08/06/2021 12:24\nTotal: 20171717\nInseridas: 184451\nParcial de notícias antes:  20171717\nParcial de notícias depois:  20080046\nParcial de notícias antes:  20080046\nParcial de notícias depois:  3159271\nParcial de notícias antes:  3159271\nParcial de notícias depois:  290496\nParcial de notícias antes:  290496\nParcial de notícias depois:  188347\nParcial de notícias antes:  188347\nParcial de notícias depois:  129979\nParcial de notícias antes:  129979\nParcial de notícias depois:  65838\nParcial de notícias antes:  65838\nParcial de notícias depois:  48906\nParcial de notícias antes:  48906\nParcial de notícias depois:  33163\nParcial de notícias antes:  33163\nParcial de notícias depois:  30315\nParcial de notícias antes:  30315\nParcial de notícias depois:  19750\nParcial de notícias antes:  19750\nParcial de notícias depois:  6188\n6188\nData inicial:  08/06/2021 12:24\nData final:  08/06/2021 19:54\nTotal: 20171717\nInseridas: 190639\nParcial de notícias antes:  20171717\nParcial de notícias depois:  20077912\nParcial de notícias antes:  20077912\nParcial de notícias depois:  3162132\nParcial de notícias antes:  3162132\nParcial de notícias depois:  288684\nParcial de notícias antes:  288684\nParcial de notícias depois:  186526\nParcial de notícias antes:  186526\nParcial de notícias depois:  128019\nParcial de notícias antes:  128019\nParcial de notícias depois:  65253\nParcial de notícias antes:  65253\nParcial de notícias depois:  47569\nParcial de notícias antes:  47569\nParcial de notícias depois:  31237\nParcial de notícias antes:  31237\nParcial de notícias depois:  28453\nParcial de notícias antes:  28453\nParcial de notícias depois:  23519\nParcial de notícias antes:  23519\nParcial de notícias depois:  15343\nParcial de notícias antes:  15343\nParcial de notícias depois:  4051\n4051\nData inicial:  08/06/2021 19:54\nData final:  08/06/2021 23:38\nTotal: 20171717\nInseridas: 194690\nParcial de notícias antes:  20171717\nParcial de notícias depois:  20075942\nParcial de notícias antes:  20075942\nParcial de notícias depois:  3162624\nParcial de notícias antes:  3162624\nParcial de notícias depois:  286835\nParcial de notícias antes:  286835\nParcial de notícias depois:  184654\nParcial de notícias antes:  184654\nParcial de notícias depois:  126117\nParcial de notícias antes:  126117\nParcial de notícias depois:  63701\nParcial de notícias antes:  63701\nParcial de notícias depois:  45792\nParcial de notícias antes:  45792\nParcial de notícias depois:  29348\nParcial de notícias antes:  29348\nParcial de notícias depois:  26947\nParcial de notícias antes:  26947\nParcial de notícias depois:  23743\nParcial de notícias antes:  23743\nParcial de notícias depois:  14705\nParcial de notícias antes:  14705\nParcial de notícias depois:  5862\n5862\nData inicial:  08/06/2021 23:38\nData final:  09/06/2021 03:22\nTotal: 20171717\nInseridas: 200552\nParcial de notícias antes:  20171717\nParcial de notícias depois:  20073872\nParcial de notícias antes:  20073872\nParcial de notícias depois:  3162636\nParcial de notícias antes:  3162636\nParcial de notícias depois:  284839\nParcial de notícias antes:  284839\nParcial de notícias depois:  182616\nParcial de notícias antes:  182616\nParcial de notícias depois:  124127\nParcial de notícias antes:  124127\nParcial de notícias depois:  61807\nParcial de notícias antes:  61807\nParcial de notícias depois:  43814\nParcial de notícias antes:  43814\nParcial de notícias depois:  27343\nParcial de notícias antes:  27343\nParcial de notícias depois:  25272\nParcial de notícias antes:  25272\nParcial de notícias depois:  22495\nParcial de notícias antes:  22495\nParcial de notícias depois:\n\n*** WARNING: max output size exceeded, skipping output. ***\n\n\n7146\nData inicial:  06/09/2022 07:56\nData final:  06/09/2022 09:01\nTotal: 20171717\nInseridas: 19986360\nParcial de notícias antes:  20171717\nParcial de notícias depois:  10314857\nParcial de notícias antes:  10314857\nParcial de notícias depois:  4262016\nParcial de notícias antes:  4262016\nParcial de notícias depois:  2048554\nParcial de notícias antes:  2048554\nParcial de notícias depois:  1058463\nParcial de notícias antes:  1058463\nParcial de notícias depois:  530492\nParcial de notícias antes:  530492\nParcial de notícias depois:  247451\nParcial de notícias antes:  247451\nParcial de notícias depois:  150494\nParcial de notícias antes:  150494\nParcial de notícias depois:  79866\nParcial de notícias antes:  79866\nParcial de notícias depois:  46771\nParcial de notícias antes:  46771\nParcial de notícias depois:  30352\nParcial de notícias antes:  30352\nParcial de notícias depois:  15571\nParcial de notícias antes:  15571\nParcial de notícias depois:  7827\n7827\nData inicial:  06/09/2022 09:01\nData final:  06/09/2022 10:06\nTotal: 20171717\nInseridas: 19994187\nParcial de notícias antes:  20171717\nParcial de notícias depois:  10311096\nParcial de notícias antes:  10311096\nParcial de notícias depois:  4259055\nParcial de notícias antes:  4259055\nParcial de notícias depois:  2045769\nParcial de notícias antes:  2045769\nParcial de notícias depois:  1057720\nParcial de notícias antes:  1057720\nParcial de notícias depois:  527565\nParcial de notícias antes:  527565\nParcial de notícias depois:  244563\nParcial de notícias antes:  244563\nParcial de notícias depois:  148663\nParcial de notícias antes:  148663\nParcial de notícias depois:  77534\nParcial de notícias antes:  77534\nParcial de notícias depois:  44182\nParcial de notícias antes:  44182\nParcial de notícias depois:  29998\nParcial de notícias antes:  29998\nParcial de notícias depois:  15581\nParcial de notícias antes:  15581\nParcial de notícias depois:  8071\n8071\nData inicial:  06/09/2022 10:06\nData final:  06/09/2022 11:11\nTotal: 20171717\nInseridas: 20002258\nParcial de notícias antes:  20171717\nParcial de notícias depois:  10307064\nParcial de notícias antes:  10307064\nParcial de notícias depois:  4255702\nParcial de notícias antes:  4255702\nParcial de notícias depois:  2042665\nParcial de notícias antes:  2042665\nParcial de notícias depois:  1056725\nParcial de notícias antes:  1056725\nParcial de notícias depois:  524403\nParcial de notícias antes:  524403\nParcial de notícias depois:  241391\nParcial de notícias antes:  241391\nParcial de notícias depois:  147263\nParcial de notícias antes:  147263\nParcial de notícias depois:  74899\nParcial de notícias antes:  74899\nParcial de notícias depois:  41308\nParcial de notícias antes:  41308\nParcial de notícias depois:  28832\nParcial de notícias antes:  28832\nParcial de notícias depois:  15219\nParcial de notícias antes:  15219\nParcial de notícias depois:  7778\n7778\nData inicial:  06/09/2022 11:11\nData final:  06/09/2022 12:16\nTotal: 20171717\nInseridas: 20010036\nParcial de notícias antes:  20171717\nParcial de notícias depois:  10303054\nParcial de notícias antes:  10303054\nParcial de notícias depois:  4252189\nParcial de notícias antes:  4252189\nParcial de notícias depois:  2039631\nParcial de notícias antes:  2039631\nParcial de notícias depois:  1056083\nParcial de notícias antes:  1056083\nParcial de notícias depois:  521120\nParcial de notícias antes:  521120\nParcial de notícias depois:  238596\nParcial de notícias antes:  238596\nParcial de notícias depois:  146414\nParcial de notícias antes:  146414\nParcial de notícias depois:  72214\nParcial de notícias antes:  72214\nParcial de notícias depois:  38313\nParcial de notícias antes:  38313\nParcial de notícias depois:  27425\nParcial de notícias antes:  27425\nParcial de notícias depois:  14848\nParcial de notícias antes:  14848\nParcial de notícias depois:  7539\n7539\nData inicial:  06/09/2022 12:16\nData final:  06/09/2022 13:21\nTotal: 20171717\nInseridas: 20017575\nParcial de notícias antes:  20171717\nParcial de notícias depois:  10299304\nParcial de notícias antes:  10299304\nParcial de notícias depois:  4248944\nParcial de notícias antes:  4248944\nParcial de notícias depois:  2036960\nParcial de notícias antes:  2036960\nParcial de notícias depois:  1055591\nParcial de notícias antes:  1055591\nParcial de notícias depois:  517974\nParcial de notícias antes:  517974\nParcial de notícias depois:  236700\nParcial de notícias antes:  236700\nParcial de notícias depois:  146156\nParcial de notícias antes:  146156\nParcial de notícias depois:  69763\nParcial de notícias antes:  69763\nParcial de notícias depois:  35760\nParcial de notícias antes:  35760\nParcial de notícias depois:  25694\nParcial de notícias antes:  25694\nParcial de notícias depois:  14760\nParcial de notícias antes:  14760\nParcial de notícias depois:  7459\n7459\nData inicial:  06/09/2022 13:21\nData final:  06/09/2022 14:26\nTotal: 20171717\nInseridas: 20025034\nParcial de notícias antes:  20171717\nParcial de notícias depois:  10295540\nParcial de notícias antes:  10295540\nParcial de notícias depois:  4245676\nParcial de notícias antes:  4245676\nParcial de notícias depois:  2034160\nParcial de notícias antes:  2034160\nParcial de notícias depois:  1054721\nParcial de notícias antes:  1054721\nParcial de notícias depois:  514904\nParcial de notícias antes:  514904\nParcial de notícias depois:  234881\nParcial de notícias antes:  234881\nParcial de notícias depois:  146210\nParcial de notícias antes:  146210\nParcial de notícias depois:  67606\nParcial de notícias antes:  67606\nParcial de notícias depois:  33616\nParcial de notícias antes:  33616\nParcial de notícias depois:  23490\nParcial de notícias antes:  23490\nParcial de notícias depois:  14442\nParcial de notícias antes:  14442\nParcial de notícias depois:  7334\n7334\nData inicial:  06/09/2022 14:26\nData final:  06/09/2022 15:31\nTotal: 20171717\nInseridas: 20032368\nParcial de notícias antes:  20171717\nParcial de notícias depois:  10291873\nParcial de notícias antes:  10291873\nParcial de notícias depois:  4242617\nParcial de notícias antes:  4242617\nParcial de notícias depois:  2031302\nParcial de notícias antes:  2031302\nParcial de notícias depois:  1054346\nParcial de notícias antes:  1054346\nParcial de notícias depois:  511872\nParcial de notícias antes:  511872\nParcial de notícias depois:  233309\nParcial de notícias antes:  233309\nParcial de notícias depois:  145893\nParcial de notícias antes:  145893\nParcial de notícias depois:  65064\nParcial de notícias antes:  65064\nParcial de notícias depois:  32122\nParcial de notícias antes:  32122\nParcial de notícias depois:  21319\nParcial de notícias antes:  21319\nParcial de notícias depois:  13641\nParcial de notícias antes:  13641\nParcial de notícias depois:  7329\n7329\nData inicial:  06/09/2022 15:31\nData final:  06/09/2022 16:36\nTotal: 20171717\nInseridas: 20039697\nParcial de notícias antes:  20171717\nParcial de notícias depois:  10288229\nParcial de notícias antes:  10288229\nParcial de notícias depois:  4239739\nParcial de notícias antes:  4239739\nParcial de notícias depois:  2028458\nParcial de notícias antes:  2028458\nParcial de notícias depois:  1053503\nParcial de notícias antes:  1053503\nParcial de notícias depois:  508869\nParcial de notícias antes:  508869\nParcial de notícias depois:  232071\nParcial de notícias antes:  232071\nParcial de notícias depois:  145696\nParcial de notícias antes:  145696\nParcial de notícias depois:  62229\nParcial de notícias antes:  62229\nParcial de notícias depois:  30968\nParcial de notícias antes:  30968\nParcial de notícias depois:  18974\nParcial de notícias antes:  18974\nParcial de notícias depois:  12600\nParcial de notícias antes:  12600\nParcial de notícias depois:  7131\n7131\nData inicial:  06/09/2022 16:36\nData final:  06/09/2022 17:41\nTotal: 20171717\nInseridas: 20046828\nParcial de notícias antes:  20171717\nParcial de notícias depois:  10284568\nParcial de notícias antes:  10284568\nParcial de notícias depois:  4236513\nParcial de notícias antes:  4236513\nParcial de notícias depois:  2025754\nParcial de notícias antes:  2025754\nParcial de notícias depois:  1052084\nParcial de notícias antes:  1052084\nParcial de notícias depois:  505988\nParcial de notícias antes:  505988\nParcial de notícias depois:  231373\nParcial de notícias antes:  231373\nParcial de notícias depois:  145751\nParcial de notícias antes:  145751\nParcial de notícias depois:  59691\nParcial de notícias antes:  59691\nParcial de notícias depois:  30250\nParcial de notícias antes:  30250\nParcial de notícias depois:  16443\nParcial de notícias antes:  16443\nParcial de notícias depois:  10958\nParcial de notícias antes:  10958\nParcial de notícias depois:  6336\n6336\nData inicial:  06/09/2022 17:41\nData final:  06/09/2022 18:46\nTotal: 20171717\nInseridas: 20053164\nParcial de notícias antes:  20171717\nParcial de notícias depois:  10281113\nParcial de notícias antes:  10281113\nParcial de notícias depois:  4233771\nParcial de notícias antes:  4233771\nParcial de notícias depois:  2022951\nParcial de notícias antes:  2022951\nParcial de notícias depois:  1050471\nParcial de notícias antes:  1050471\nParcial de notícias depois:  503605\nParcial de notícias antes:  503605\nParcial de notícias depois:  230449\nParcial de notícias antes:  230449\nParcial de notícias depois:  145586\nParcial de notícias antes:  145586\nParcial de notícias depois:  57282\nParcial de notícias antes:  57282\nParcial de notícias depois:  29570\nParcial de notícias antes:  29570\nParcial de notícias depois:  14158\nParcial de notícias antes:  14158\nParcial de notícias depois:  9051\n9051\nData inicial:  06/09/2022 18:46\nData final:  06/09/2022 20:55\nTotal: 20171717\nInseridas: 20062215\nParcial de notícias antes:  20171717\nParcial de notícias depois:  10275669\nParcial de notícias antes:  10275669\nParcial de notícias depois:  4229453\nParcial de notícias antes:  4229453\nParcial de notícias depois:  2018538\nParcial de notícias antes:  2018538\nParcial de notícias depois:  1047862\nParcial de notícias antes:  1047862\nParcial de notícias depois:  500635\nParcial de notícias antes:  500635\nParcial de notícias depois:  230849\nParcial de notícias antes:  230849\nParcial de notícias depois:  146667\nParcial de notícias antes:  146667\nParcial de notícias depois:  55303\nParcial de notícias antes:  55303\nParcial de notícias depois:  29194\nParcial de notícias antes:  29194\nParcial de notícias depois:  10907\nParcial de notícias antes:  10907\nParcial de notícias depois:  6358\n6358\nData inicial:  06/09/2022 20:55\nData final:  06/09/2022 23:04\nTotal: 20171717\nInseridas: 20068573\nParcial de notícias antes:  20171717\nParcial de notícias depois:  10272079\nParcial de notícias antes:  10272079\nParcial de notícias depois:  4227704\nParcial de notícias antes:  4227704\nParcial de notícias depois:  2015646\nParcial de notícias antes:  2015646\nParcial de notícias depois:  1046934\nParcial de notícias antes:  1046934\nParcial de notícias depois:  499946\nParcial de notícias antes:  499946\nParcial de notícias depois:  232942\nParcial de notícias antes:  232942\nParcial de notícias depois:  148257\nParcial de notícias antes:  148257\nParcial de notícias depois:  57758\nParcial de notícias antes:  57758\nParcial de notícias depois:  30291\nParcial de notícias antes:  30291\nParcial de notícias depois:  10093\nParcial de notícias antes:  10093\nParcial de notícias depois:  5108\n5108\nData inicial:  06/09/2022 23:04\nData final:  07/09/2022 01:13\nTotal: 20171717\nInseridas: 20073681\nParcial de notícias antes:  20171717\nParcial de notícias depois:  10269332\nParcial de notícias antes:  10269332\nParcial de notícias depois:  4227801\nParcial de notícias antes:  4227801\nParcial de notícias depois:  2013937\nParcial de notícias antes:  2013937\nParcial de notícias depois:  1046090\nParcial de notícias antes:  1046090\nParcial de notícias depois:  499741\nParcial de notícias antes:  499741\nParcial de notícias depois:  235553\nParcial de notícias antes:  235553\nParcial de notícias depois:  149160\nParcial de notícias antes:  149160\nParcial de notícias depois:  63114\nParcial de notícias antes:  63114\nParcial de notícias depois:  32138\nParcial de notícias antes:  32138\nParcial de notícias depois:  11910\nParcial de notícias antes:  11910\nParcial de notícias depois:  4551\n4551\nData inicial:  07/09/2022 01:13\nData final:  07/09/2022 03:22\nTotal: 20171717\nInseridas: 20078232\nParcial de notícias antes:  20171717\nParcial de notícias depois:  10266981\nParcial de notícias antes:  10266981\nParcial de notícias depois:  4228572\nParcial de notícias antes:  4228572\nParcial de notícias depois:  2012406\nParcial de notícias antes:  2012406\nParcial de notícias depois:  1045680\nParcial de notícias antes:  1045680\nParcial de notícias depois:  499884\nParcial de notícias antes:  499884\nParcial de notícias depois:  237383\nParcial de notícias antes:  237383\nParcial de notícias depois:  149405\nParcial de notícias antes:  149405\nParcial de notícias depois:  67555\nParcial de notícias antes:  67555\nParcial de notícias depois:  33186\nParcial de notícias antes:  33186\nParcial de notícias depois:  15207\nParcial de notícias antes:  15207\nParcial de notícias depois:  4945\n4945\nData inicial:  07/09/2022 03:22\nData final:  07/09/2022 05:31\nTotal: 20171717\nInseridas: 20083177\nParcial de notícias antes:  20171717\nParcial de notícias depois:  10264798\nParcial de notícias antes:  10264798\nParcial de notícias depois:  4230149\nParcial de notícias antes:  4230149\nParcial de notícias depois:  2011399\nParcial de notícias antes:  2011399\nParcial de notícias depois:  1046145\nParcial de notícias antes:  1046145\nParcial de notícias depois:  500135\nParcial de notícias antes:  500135\nParcial de notícias depois:  237681\nParcial de notícias antes:  237681\nParcial de notícias depois:  148915\nParcial de notícias antes:  148915\nParcial de notícias depois:  73383\nParcial de notícias antes:  73383\nParcial de notícias depois:  33811\nParcial de notícias antes:  33811\nParcial de notícias depois:  18164\nParcial de notícias antes:  18164\nParcial de notícias depois:  7313\n7313\nData inicial:  07/09/2022 05:31\nData final:  07/09/2022 07:40\nTotal: 20171717\nInseridas: 20090490\nParcial de notícias antes:  20171717\nParcial de notícias depois:  10262084\nParcial de notícias antes:  10262084\nParcial de notícias depois:  4231650\nParcial de notícias antes:  4231650\nParcial de notícias depois:  2010420\nParcial de notícias antes:  2010420\nParcial de notícias depois:  1047110\nParcial de notícias antes:  1047110\nParcial de notícias depois:  499926\nParcial de notícias antes:  499926\nParcial de notícias depois:  237045\nParcial de notícias antes:  237045\nParcial de notícias depois:  148024\nParcial de notícias antes:  148024\nParcial de notícias depois:  77960\nParcial de notícias antes:  77960\nParcial de notícias depois:  33921\nParcial de notícias antes:  33921\nParcial de notícias depois:  20163\nParcial de notícias antes:  20163\nParcial de notícias depois:  10178\nParcial de notícias antes:  10178\nParcial de notícias depois:  4565\n4565\nData inicial:  07/09/2022 07:40\nData final:  07/09/2022 08:44\nTotal: 20171717\nInseridas: 20095055\nParcial de notícias antes:  20171717\nParcial de notícias depois:  10259997\nParcial de notícias antes:  10259997\nParcial de notícias depois:  4231677\nParcial de notícias antes:  4231677\nParcial de notícias depois:  2009278\nParcial de notícias antes:  2009278\nParcial de notícias depois:  1047907\nParcial de notícias antes:  1047907\nParcial de notícias depois:  499278\nParcial de notícias antes:  499278\nParcial de notícias depois:  235889\nParcial de notícias antes:  235889\nParcial de notícias depois:  146707\nParcial de notícias antes:  146707\nParcial de notícias depois:  79132\nParcial de notícias antes:  79132\nParcial de notícias depois:  32994\nParcial de notícias antes:  32994\nParcial de notícias depois:  20277\nParcial de notícias antes:  20277\nParcial de notícias depois:  10805\nParcial de notícias antes:  10805\nParcial de notícias depois:  5203\n5203\nData inicial:  07/09/2022 08:44\nData final:  07/09/2022 09:48\nTotal: 20171717\nInseridas: 20100258\nParcial de notícias antes:  20171717\nParcial de notícias depois:  10257557\nParcial de notícias antes:  10257557\nParcial de notícias depois:  4230865\nParcial de notícias antes:  4230865\nParcial de notícias depois:  2007867\nParcial de notícias antes:  2007867\nParcial de notícias depois:  1048537\nParcial de notícias antes:  1048537\nParcial de notícias depois:  497728\nParcial de notícias antes:  497728\nParcial de notícias depois:  234339\nParcial de notícias antes:  234339\nParcial de notícias depois:  145332\nParcial de notícias antes:  145332\nParcial de notícias depois:  79232\nParcial de notícias antes:  79232\nParcial de notícias depois:  31420\nParcial de notícias antes:  31420\nParcial de notícias depois:  20132\nParcial de notícias antes:  20132\nParcial de notícias depois:  10870\nParcial de notícias antes:  10870\nParcial de notícias depois:  5600\n5600\nData inicial:  07/09/2022 09:48\nData final:  07/09/2022 10:52\nTotal: 20171717\nInseridas: 20105858\nParcial de notícias antes:  20171717\nParcial de notícias depois:  10254839\nParcial de notícias antes:  10254839\nParcial de notícias depois:  4229782\nParcial de notícias antes:  4229782\nParcial de notícias depois:  2006088\nParcial de notícias antes:  2006088\nParcial de notícias depois:  1048762\nParcial de notícias antes:  1048762\nParcial de notícias depois:  495640\nParcial de notícias antes:  495640\nParcial de notícias depois:  233072\nParcial de notícias antes:  233072\nParcial de notícias depois:  143741\nParcial de notícias antes:  143741\nParcial de notícias depois:  78779\nParcial de notícias antes:  78779\nParcial de notícias depois:  29773\nParcial de notícias antes:  29773\nParcial de notícias depois:  19483\nParcial de notícias antes:  19483\nParcial de notícias depois:  10536\nParcial de notícias antes:  10536\nParcial de notícias depois:  5575\n5575\nData inicial:  07/09/2022 10:52\nData final:  07/09/2022 11:56\nTotal: 20171717\nInseridas: 20111433\nParcial de notícias antes:  20171717\nParcial de notícias depois:  10252004\nParcial de notícias antes:  10252004\nParcial de notícias depois:  4228578\nParcial de notícias antes:  4228578\nParcial de notícias depois:  2004329\nParcial de notícias antes:  2004329\nParcial de notícias depois:  1049003\nParcial de notícias antes:  1049003\nParcial de notícias depois:  493371\nParcial de notícias antes:  493371\nParcial de notícias depois:  231581\nParcial de notícias antes:  231581\nParcial de notícias depois:  142500\nParcial de notícias antes:  142500\nParcial de notícias depois:  77630\nParcial de notícias antes:  77630\nParcial de notícias depois:  27990\nParcial de notícias antes:  27990\nParcial de notícias depois:  18114\nParcial de notícias antes:  18114\nParcial de notícias depois:  9935\n9935\nData inicial:  07/09/2022 11:56\nData final:  07/09/2022 14:05\nTotal: 20171717\nInseridas: 20121368\nParcial de notícias antes:  20171717\nParcial de notícias depois:  10246787\nParcial de notícias antes:  10246787\nParcial de notícias depois:  4226909\nParcial de notícias antes:  4226909\nParcial de notícias depois:  2001086\nParcial de notícias antes:  2001086\nParcial de notícias depois:  1049144\nParcial de notícias antes:  1049144\nParcial de notícias depois:  489728\nParcial de notícias antes:  489728\nParcial de notícias depois:  230195\nParcial de notícias antes:  230195\nParcial de notícias depois:  140774\nParcial de notícias antes:  140774\nParcial de notícias depois:  75449\nParcial de notícias antes:  75449\nParcial de notícias depois:  25839\nParcial de notícias antes:  25839\nParcial de notícias depois:  15681\nParcial de notícias antes:  15681\nParcial de notícias depois:  9263\n9263\nData inicial:  07/09/2022 14:05\nData final:  07/09/2022 16:14\nTotal: 20171717\nInseridas: 20130631\nParcial de notícias antes:  20171717\nParcial de notícias depois:  10242082\nParcial de notícias antes:  10242082\nParcial de notícias depois:  4225823\nParcial de notícias antes:  4225823\nParcial de notícias depois:  1998031\nParcial de notícias antes:  1998031\nParcial de notícias depois:  1049458\nParcial de notícias antes:  1049458\nParcial de notícias depois:  486655\nParcial de notícias antes:  486655\nParcial de notícias depois:  231688\nParcial de notícias antes:  231688\nParcial de notícias depois:  139070\nParcial de notícias antes:  139070\nParcial de notícias depois:  73291\nParcial de notícias antes:  73291\nParcial de notícias depois:  27011\nParcial de notícias antes:  27011\nParcial de notícias depois:  13814\nParcial de notícias antes:  13814\nParcial de notícias depois:  8179\n8179\nData inicial:  07/09/2022 16:14\nData final:  07/09/2022 18:23\nTotal: 20171717\nInseridas: 20138810\nParcial de notícias antes:  20171717\nParcial de notícias depois:  10237536\nParcial de notícias antes:  10237536\nParcial de notícias depois:  4224835\nParcial de notícias antes:  4224835\nParcial de notícias depois:  1995298\nParcial de notícias antes:  1995298\nParcial de notícias depois:  1050533\nParcial de notícias antes:  1050533\nParcial de notícias depois:  484358\nParcial de notícias antes:  484358\nParcial de notícias depois:  234583\nParcial de notícias antes:  234583\nParcial de notícias depois:  137470\nParcial de notícias antes:  137470\nParcial de notícias depois:  71132\nParcial de notícias antes:  71132\nParcial de notícias depois:  30602\nParcial de notícias antes:  30602\nParcial de notícias depois:  11313\nParcial de notícias antes:  11313\nParcial de notícias depois:  6413\n6413\nData inicial:  07/09/2022 18:23\nData final:  07/09/2022 20:32\nTotal: 20171717\nInseridas: 20145223\nParcial de notícias antes:  20171717\nParcial de notícias depois:  10233908\nParcial de notícias antes:  10233908\nParcial de notícias depois:  4224853\nParcial de notícias antes:  4224853\nParcial de notícias depois:  1993783\nParcial de notícias antes:  1993783\nParcial de notícias depois:  1051418\nParcial de notícias antes:  1051418\nParcial de notícias depois:  484302\nParcial de notícias antes:  484302\nParcial de notícias depois:  237063\nParcial de notícias antes:  237063\nParcial de notícias depois:  136685\nParcial de notícias antes:  136685\nParcial de notícias depois:  70191\nParcial de notícias antes:  70191\nParcial de notícias depois:  33951\nParcial de notícias antes:  33951\nParcial de notícias depois:  9846\n9846\nData inicial:  07/09/2022 20:32\nData final:  08/09/2022 00:50\nTotal: 20171717\nInseridas: 20155069\nParcial de notícias antes:  20171717\nParcial de notícias depois:  10228277\nParcial de notícias antes:  10228277\nParcial de notícias depois:  4224860\nParcial de notícias antes:  4224860\nParcial de notícias depois:  1991477\nParcial de notícias antes:  1991477\nParcial de notícias depois:  1051339\nParcial de notícias antes:  1051339\nParcial de notícias depois:  491897\nParcial de notícias antes:  491897\nParcial de notícias depois:  245042\nParcial de notícias antes:  245042\nParcial de notícias depois:  135707\nParcial de notícias antes:  135707\nParcial de notícias depois:  76854\nParcial de notícias antes:  76854\nParcial de notícias depois:  43615\nParcial de notícias antes:  43615\nParcial de notícias depois:  13112\nParcial de notícias antes:  13112\nParcial de notícias depois:  4215\n4215\nData inicial:  08/09/2022 00:50\nData final:  08/09/2022 02:59\nTotal: 20171717\nInseridas: 20159284\nParcial de notícias antes:  20171717\nParcial de notícias depois:  10226281\nParcial de notícias antes:  10226281\nParcial de notícias depois:  4224981\nParcial de notícias antes:  4224981\nParcial de notícias depois:  1990711\nParcial de notícias antes:  1990711\nParcial de notícias depois:  1051627\nParcial de notícias antes:  1051627\nParcial de notícias depois:  495718\nParcial de notícias antes:  495718\nParcial de notícias depois:  248478\nParcial de notícias antes:  248478\nParcial de notícias depois:  135379\nParcial de notícias antes:  135379\nParcial de notícias depois:  82050\nParcial de notícias antes:  82050\nParcial de notícias depois:  47632\nParcial de notícias antes:  47632\nParcial de notícias depois:  19214\nParcial de notícias antes:  19214\nParcial de notícias depois:  5195\n5195\nData inicial:  08/09/2022 02:59\nData final:  08/09/2022 05:08\nTotal: 20171717\nInseridas: 20164479\nParcial de notícias antes:  20171717\nParcial de notícias depois:  10224066\nParcial de notícias antes:  10224066\nParcial de notícias depois:  4224274\nParcial de notícias antes:  4224274\nParcial de notícias depois:  1989810\nParcial de notícias antes:  1989810\nParcial de notícias depois:  1050665\nParcial de notícias antes:  1050665\nParcial de notícias depois:  500128\nParcial de notícias antes:  500128\nParcial de notícias depois:  249822\nParcial de notícias antes:  249822\nParcial de notícias depois:  134903\nParcial de notícias antes:  134903\nParcial de notícias depois:  86758\nParcial de notícias antes:  86758\nParcial de notícias depois:  49501\nParcial de notícias antes:  49501\nParcial de notícias depois:  23964\nParcial de notícias antes:  23964\nParcial de notícias depois:  8850\n8850\nData inicial:  08/09/2022 05:08\nData final:  08/09/2022 07:16\nTotal: 20171717\nInseridas: 20173329\nTotal de notícias:  3370\n3370\nData inicial:  26/04/2021 00:00\nData final:  10/03/2023 15:34\n"
     ]
    }
   ],
   "source": [
    "graph_ids = []\n",
    "graph_names = []\n",
    "graph_dfs = []\n",
    "\n",
    "nodeID = '930' #Declaração do ID\n",
    "\n",
    "url_nodeID = 'https://app.inguru.me/api/v1/taxonomies/nodes/'+str(nodeID)\n",
    "IDs = API_INGURU(url = url_nodeID, per_page=1, start_date='', end_date='')['data'][0]\n",
    "graph_ids.append(IDs['id'])\n",
    "graph_names.append(IDs['name'].replace(\" \", \"_\"))\n",
    "\n",
    "#Passa por cada \"filho\" no nó principal, caso não tenha nenhum, nada acontece.\n",
    "for node_children in IDs['children']:\n",
    "  graph_ids.append(node_children['id'])\n",
    "  graph_names.append(node_children['name'].replace(\" \", \"_\"))\n",
    "\n",
    "data_inicial = '26/04/2021 00:00'\n",
    "data_final = datetime.now().strftime(\"%d/%m/%Y %H:%M\")\n",
    "\n",
    "for i, id in enumerate(graph_ids):\n",
    "\n",
    "  path = source_lnd + \"_\" + str(graph_names[i])\n",
    "  insere_news(data_inicial, data_final, id, path)\n"
   ]
  },
  {
   "cell_type": "code",
   "execution_count": 0,
   "metadata": {
    "application/vnd.databricks.v1+cell": {
     "cellMetadata": {
      "byteLimit": 2048000,
      "rowLimit": 10000
     },
     "inputWidgets": {},
     "nuid": "aa489643-6cee-4a31-9eb6-06fa536ad9a0",
     "showTitle": false,
     "title": ""
    }
   },
   "outputs": [
    {
     "output_type": "stream",
     "name": "stdout",
     "output_type": "stream",
     "text": [
      "8785\n8787\n8789\n8786\n8788\n"
     ]
    }
   ],
   "source": [
    "for id in graph_ids:\n",
    "  print(id)"
   ]
  },
  {
   "cell_type": "markdown",
   "metadata": {
    "application/vnd.databricks.v1+cell": {
     "cellMetadata": {},
     "inputWidgets": {},
     "nuid": "f14106f6-e6c4-4141-ae9c-35d0130cab1f",
     "showTitle": false,
     "title": ""
    }
   },
   "source": [
    "### Rotina para últimos 7 dias"
   ]
  },
  {
   "cell_type": "code",
   "execution_count": 0,
   "metadata": {
    "application/vnd.databricks.v1+cell": {
     "cellMetadata": {},
     "inputWidgets": {},
     "nuid": "56039f6a-9980-4183-9d38-b3baa40a72fc",
     "showTitle": false,
     "title": ""
    }
   },
   "outputs": [
    {
     "output_type": "display_data",
     "data": {
      "text/html": [
       "<style scoped>\n  .ansiout {\n    display: block;\n    unicode-bidi: embed;\n    white-space: pre-wrap;\n    word-wrap: break-word;\n    word-break: break-all;\n    font-family: \"Source Code Pro\", \"Menlo\", monospace;;\n    font-size: 13px;\n    color: #555;\n    margin-left: 4px;\n    line-height: 19px;\n  }\n</style>\n<div class=\"ansiout\">Total de notícias:  485995\nParcial de notícias:  485995\nData inicial:  16/02/2023 02:26\nData final:  23/02/2023 02:26\nParcial de notícias:  268280\nData inicial:  16/02/2023 02:26\nData final:  19/02/2023 14:26\nParcial de notícias:  187374\nData inicial:  16/02/2023 02:26\nData final:  17/02/2023 20:26\nParcial de notícias:  99080\nData inicial:  16/02/2023 02:26\nData final:  16/02/2023 23:26\nParcial de notícias:  43352\nData inicial:  16/02/2023 02:26\nData final:  16/02/2023 12:56\nParcial de notícias:  10265\nData inicial:  16/02/2023 02:26\nData final:  16/02/2023 07:41\nfazendo requisicao\nData inicial:  16/02/2023 02:26\nData final:  16/02/2023 05:03\nParcial de notícias:  485995\nData inicial:  16/02/2023 05:03\nData final:  23/02/2023 02:26\nParcial de notícias:  267665\nData inicial:  16/02/2023 05:03\nData final:  19/02/2023 15:44\nParcial de notícias:  189802\nData inicial:  16/02/2023 05:03\nData final:  17/02/2023 22:23\nParcial de notícias:  100466\nData inicial:  16/02/2023 05:03\nData final:  17/02/2023 01:43\nParcial de notícias:  54755\nData inicial:  16/02/2023 05:03\nData final:  16/02/2023 15:23\nParcial de notícias:  21422\nData inicial:  16/02/2023 05:03\nData final:  16/02/2023 10:13\nfazendo requisicao\nData inicial:  16/02/2023 05:03\nData final:  16/02/2023 07:38\nParcial de notícias:  485995\nData inicial:  16/02/2023 07:38\nData final:  23/02/2023 02:26\nParcial de notícias:  264513\nData inicial:  16/02/2023 07:38\nData final:  19/02/2023 17:02\nParcial de notícias:  187733\nData inicial:  16/02/2023 07:38\nData final:  18/02/2023 00:20\nParcial de notícias:  97113\nData inicial:  16/02/2023 07:38\nData final:  17/02/2023 03:59\nParcial de notícias:  63826\nData inicial:  16/02/2023 07:38\nData final:  16/02/2023 17:48\nParcial de notícias:  32132\nData inicial:  16/02/2023 07:38\nData final:  16/02/2023 12:43\nParcial de notícias:  14814\nData inicial:  16/02/2023 07:38\nData final:  16/02/2023 10:10\nfazendo requisicao\nData inicial:  16/02/2023 07:38\nData final:  16/02/2023 08:54\nParcial de notícias:  485995\nData inicial:  16/02/2023 08:54\nData final:  23/02/2023 02:26\nParcial de notícias:  259390\nData inicial:  16/02/2023 08:54\nData final:  19/02/2023 17:40\nParcial de notícias:  182955\nData inicial:  16/02/2023 08:54\nData final:  18/02/2023 01:17\nParcial de notícias:  92511\nData inicial:  16/02/2023 08:54\nData final:  17/02/2023 05:05\nParcial de notícias:  64582\nData inicial:  16/02/2023 08:54\nData final:  16/02/2023 18:59\nParcial de notícias:  32477\nData inicial:  16/02/2023 08:54\nData final:  16/02/2023 13:56\nParcial de notícias:  16833\nData inicial:  16/02/2023 08:54\nData final:  16/02/2023 11:25\nfazendo requisicao\nData inicial:  16/02/2023 08:54\nData final:  16/02/2023 10:09\nParcial de notícias:  485995\nData inicial:  16/02/2023 10:09\nData final:  23/02/2023 02:26\nParcial de notícias:  252676\nData inicial:  16/02/2023 10:09\nData final:  19/02/2023 18:17\nParcial de notícias:  175927\nData inicial:  16/02/2023 10:09\nData final:  18/02/2023 02:13\nParcial de notícias:  86380\nData inicial:  16/02/2023 10:09\nData final:  17/02/2023 06:11\nParcial de notícias:  62933\nData inicial:  16/02/2023 10:09\nData final:  16/02/2023 20:10\nParcial de notícias:  32297\nData inicial:  16/02/2023 10:09\nData final:  16/02/2023 15:09\nParcial de notícias:  17151\nData inicial:  16/02/2023 10:09\nData final:  16/02/2023 12:39\nfazendo requisicao\nData inicial:  16/02/2023 10:09\nData final:  16/02/2023 11:24\nParcial de notícias:  485995\nData inicial:  16/02/2023 11:24\nData final:  23/02/2023 02:26\nParcial de notícias:  245432\nData inicial:  16/02/2023 11:24\nData final:  19/02/2023 18:55\nParcial de notícias:  168197\nData inicial:  16/02/2023 11:24\nData final:  18/02/2023 03:09\nParcial de notícias:  80566\nData inicial:  16/02/2023 11:24\nData final:  17/02/2023 07:16\nParcial de notícias:  59557\nData inicial:  16/02/2023 11:24\nData final:  16/02/2023 21:20\nParcial de notícias:  31783\nData inicial:  16/02/2023 11:24\nData final:  16/02/2023 16:22\nParcial de notícias:  15594\nData inicial:  16/02/2023 11:24\nData final:  16/02/2023 13:53\nfazendo requisicao\nData inicial:  16/02/2023 11:24\nData final:  16/02/2023 12:38\nParcial de notícias:  485995\nData inicial:  16/02/2023 12:38\nData final:  23/02/2023 02:26\nParcial de notícias:  238324\nData inicial:  16/02/2023 12:38\nData final:  19/02/2023 19:32\nParcial de notícias:  160811\nData inicial:  16/02/2023 12:38\nData final:  18/02/2023 04:05\nParcial de notícias:  76427\nData inicial:  16/02/2023 12:38\nData final:  17/02/2023 08:21\nParcial de notícias:  54804\nData inicial:  16/02/2023 12:38\nData final:  16/02/2023 22:29\nParcial de notícias:  30691\nData inicial:  16/02/2023 12:38\nData final:  16/02/2023 17:33\nParcial de notícias:  14878\nData inicial:  16/02/2023 12:38\nData final:  16/02/2023 15:05\nfazendo requisicao\nData inicial:  16/02/2023 12:38\nData final:  16/02/2023 13:51\nParcial de notícias:  485995\nData inicial:  16/02/2023 13:51\nData final:  23/02/2023 02:26\nParcial de notícias:  232589\nData inicial:  16/02/2023 13:51\nData final:  19/02/2023 20:08\nParcial de notícias:  155040\nData inicial:  16/02/2023 13:51\nData final:  18/02/2023 04:59\nParcial de notícias:  75658\nData inicial:  16/02/2023 13:51\nData final:  17/02/2023 09:25\nParcial de notícias:  51165\nData inicial:  16/02/2023 13:51\nData final:  16/02/2023 23:38\nParcial de notícias:  31143\nData inicial:  16/02/2023 13:51\nData final:  16/02/2023 18:44\nParcial de notícias:  15853\nData inicial:  16/02/2023 13:51\nData final:  16/02/2023 16:17\nfazendo requisicao\nData inicial:  16/02/2023 13:51\nData final:  16/02/2023 15:04\nParcial de notícias:  485995\nData inicial:  16/02/2023 15:04\nData final:  23/02/2023 02:26\nParcial de notícias:  225930\nData inicial:  16/02/2023 15:04\nData final:  19/02/2023 20:45\nParcial de notícias:  148103\nData inicial:  16/02/2023 15:04\nData final:  18/02/2023 05:54\nParcial de notícias:  74504\nData inicial:  16/02/2023 15:04\nData final:  17/02/2023 10:29\nParcial de notícias:  46189\nData inicial:  16/02/2023 15:04\nData final:  17/02/2023 00:46\nParcial de notícias:  29569\nData inicial:  16/02/2023 15:04\nData final:  16/02/2023 19:55\nParcial de notícias:  15435\nData inicial:  16/02/2023 15:04\nData final:  16/02/2023 17:29\nfazendo requisicao\nData inicial:  16/02/2023 15:04\nData final:  16/02/2023 16:16\nParcial de notícias:  485995\nData inicial:  16/02/2023 16:16\nData final:  23/02/2023 02:26\nParcial de notícias:  219353\nData inicial:  16/02/2023 16:16\nData final:  19/02/2023 21:21\nParcial de notícias:  141365\nData inicial:  16/02/2023 16:16\nData final:  18/02/2023 06:48\nParcial de notícias:  73799\nData inicial:  16/02/2023 16:16\nData final:  17/02/2023 11:32\nParcial de notícias:  40321\nData inicial:  16/02/2023 16:16\nData final:  17/02/2023 01:54\nParcial de notícias:  27614\nData inicial:  16/02/2023 16:16\nData final:  16/02/2023 21:05\nParcial de notícias:  15112\nData inicial:  16/02/2023 16:16\nData final:  16/02/2023 18:40\nfazendo requisicao\nData inicial:  16/02/2023 16:16\nData final:  16/02/2023 17:28\nParcial de notícias:  485995\nData inicial:  16/02/2023 17:28\nData final:  23/02/2023 02:26\nParcial de notícias:  212855\nData inicial:  16/02/2023 17:28\nData final:  19/02/2023 21:57\nParcial de notícias:  135466\nData inicial:  16/02/2023 17:28\nData final:  18/02/2023 07:42\nParcial de notícias:  73137\nData inicial:  16/02/2023 17:28\nData final:  17/02/2023 12:35\nParcial de notícias:  34403\nData inicial:  16/02/2023 17:28\nData final:  17/02/2023 03:01\nParcial de notícias:  24050\nData inicial:  16/02/2023 17:28\nData final:  16/02/2023 22:14\nParcial de notícias:  13955\nData inicial:  16/02/2023 17:28\nData final:  16/02/2023 19:51\nfazendo requisicao\nData inicial:  16/02/2023 17:28\nData final:  16/02/2023 18:39\nParcial de notícias:  485995\nData inicial:  16/02/2023 18:39\nData final:  23/02/2023 02:26\nParcial de notícias:  206337\nData inicial:  16/02/2023 18:39\nData final:  19/02/2023 22:32\nParcial de notícias:  130076\nData inicial:  16/02/2023 18:39\nData final:  18/02/2023 08:35\nParcial de notícias:  71278\nData inicial:  16/02/2023 18:39\nData final:  17/02/2023 13:37\nParcial de notícias:  28453\nData inicial:  16/02/2023 18:39\nData final:  17/02/2023 04:08\nParcial de notícias:  19731\nData inicial:  16/02/2023 18:39\nData final:  16/02/2023 23:23\nParcial de notícias:  12402\nData inicial:  16/02/2023 18:39\nData final:  16/02/2023 21:01\nfazendo requisicao\nData inicial:  16/02/2023 18:39\nData final:  16/02/2023 19:50\nParcial de notícias:  485995\nData inicial:  16/02/2023 19:50\nData final:  23/02/2023 02:26\nParcial de notícias:  200877\nData inicial:  16/02/2023 19:50\nData final:  19/02/2023 23:08\nParcial de notícias:  126245\nData inicial:  16/02/2023 19:50\nData final:  18/02/2023 09:29\nParcial de notícias:  70711\nData inicial:  16/02/2023 19:50\nData final:  17/02/2023 14:39\nParcial de notícias:  23691\nData inicial:  16/02/2023 19:50\nData final:  17/02/2023 05:14\nParcial de notícias:  16484\nData inicial:  16/02/2023 19:50\nData final:  17/02/2023 00:32\nParcial de notícias:  10093\nData inicial:  16/02/2023 19:50\nData final:  16/02/2023 22:11\nfazendo requisicao\nData inicial:  16/02/2023 19:50\nData final:  16/02/2023 21:00\nParcial de notícias:  485995\nData inicial:  16/02/2023 21:00\nData final:  23/02/2023 02:26\nParcial de notícias:  195859\nData inicial:  16/02/2023 21:00\nData final:  19/02/2023 23:43\nParcial de notícias:  123092\nData inicial:  16/02/2023 21:00\nData final:  18/02/2023 10:21\nParcial de notícias:  71182\nData inicial:  16/02/2023 21:00\nData final:  17/02/2023 15:40\nParcial de notícias:  19959\nData inicial:  16/02/2023 21:00\nData final:  17/02/2023 06:20\nParcial de notícias:  12775\nData inicial:  16/02/2023 21:00\nData final:  17/02/2023 01:40\nfazendo requisicao\nData inicial:  16/02/2023 21:00\nData final:  16/02/2023 23:20\nParcial de notícias:  485995\nData inicial:  16/02/2023 23:20\nData final:  23/02/2023 02:26\nParcial de notícias:  190008\nData inicial:  16/02/2023 23:20\nData final:  20/02/2023 00:53\nParcial de notícias:  121060\nData inicial:  16/02/2023 23:20\nData final:  18/02/2023 12:06\nParcial de notícias:  75837\nData inicial:  16/02/2023 23:20\nData final:  17/02/2023 17:43\nParcial de notícias:  20118\nData inicial:  16/02/2023 23:20\nData final:  17/02/2023 08:31\nfazendo requisicao\nData inicial:  16/02/2023 23:20\nData final:  17/02/2023 03:55\nParcial de notícias:  485995\nData inicial:  17/02/2023 03:55\nData final:  23/02/2023 02:26\nParcial de notícias:  184255\nData inicial:  17/02/2023 03:55\nData final:  20/02/2023 03:10\nParcial de notícias:  122815\nData inicial:  17/02/2023 03:55\nData final:  18/02/2023 15:32\nParcial de notícias:  84614\nData inicial:  17/02/2023 03:55\nData final:  17/02/2023 21:43\nParcial de notícias:  39128\nData inicial:  17/02/2023 03:55\nData final:  17/02/2023 12:49\nParcial de notícias:  11113\nData inicial:  17/02/2023 03:55\nData final:  17/02/2023 08:22\nfazendo requisicao\nData inicial:  17/02/2023 03:55\nData final:  17/02/2023 06:08\nParcial de notícias:  485995\nData inicial:  17/02/2023 06:08\nData final:  23/02/2023 02:26\nParcial de notícias:  181608\nData inicial:  17/02/2023 06:08\nData final:  20/02/2023 04:17\nParcial de notícias:  122566\nData inicial:  17/02/2023 06:08\nData final:  18/02/2023 17:12\nParcial de notícias:  85515\nData inicial:  17/02/2023 06:08\nData final:  17/02/2023 23:40\nParcial de notícias:  46878\nData inicial:  17/02/2023 06:08\nData final:  17/02/2023 14:54\nParcial de notícias:  20284\nData inicial:  17/02/2023 06:08\nData final:  17/02/2023 10:31\nfazendo requisicao\nData inicial:  17/02/2023 06:08\nData final:  17/02/2023 08:19\nParcial de notícias:  485995\nData inicial:  17/02/2023 08:19\nData final:  23/02/2023 02:26\nParcial de notícias:  175768\nData inicial:  17/02/2023 08:19\nData final:  20/02/2023 05:22\nParcial de notícias:  118962\nData inicial:  17/02/2023 08:19\nData final:  18/02/2023 18:50\nParcial de notícias:  81947\nData inicial:  17/02/2023 08:19\nData final:  18/02/2023 01:34\nParcial de notícias:  52236\nData inicial:  17/02/2023 08:19\nData final:  17/02/2023 16:56\nParcial de notícias:  27102\nData inicial:  17/02/2023 08:19\nData final:  17/02/2023 12:37\nParcial de notícias:  12917\nData inicial:  17/02/2023 08:19\nData final:  17/02/2023 10:28\nfazendo requisicao\nData inicial:  17/02/2023 08:19\nData final:  17/02/2023 09:23\nParcial de notícias:  485995\nData inicial:  17/02/2023 09:23\nData final:  23/02/2023 02:26\nParcial de notícias:  170226\nData inicial:  17/02/2023 09:23\nData final:  20/02/2023 05:54\nParcial de notícias:  114645\nData inicial:  17/02/2023 09:23\nData final:  18/02/2023 19:38\nParcial de notícias:  76821\nData inicial:  17/02/2023 09:23\nData final:  18/02/2023 02:30\nParcial de notícias:  51828\nData inicial:  17/02/2023 09:23\nData final:  17/02/2023 17:56\nParcial de notícias:  26671\nData inicial:  17/02/2023 09:23\nData final:  17/02/2023 13:39\nParcial de notícias:  13968\nData inicial:  17/02/2023 09:23\nData final:  17/02/2023 11:31\nfazendo requisicao\nData inicial:  17/02/2023 09:23\nData final:  17/02/2023 10:27\nParcial de notícias:  485995\nData inicial:  17/02/2023 10:27\nData final:  23/02/2023 02:26\nParcial de notícias:  164412\nData inicial:  17/02/2023 10:27\nData final:  20/02/2023 06:26\nParcial de notícias:  109705\nData inicial:  17/02/2023 10:27\nData final:  18/02/2023 20:26\nParcial de notícias:  70921\nData inicial:  17/02/2023 10:27\nData final:  18/02/2023 03:26\nParcial de notícias:  50118\nData inicial:  17/02/2023 10:27\nData final:  17/02/2023 18:56\nParcial de notícias:  25842\nData inicial:  17/02/2023 10:27\nData final:  17/02/2023 14:41\nParcial de notícias:  14091\nData inicial:  17/02/2023 10:27\nData final:  17/02/2023 12:34\nfazendo requisicao\nData inicial:  17/02/2023 10:27\nData final:  17/02/2023 11:30\nParcial de notícias:  485995\nData inicial:  17/02/2023 11:30\nData final:  23/02/2023 02:26\nParcial de notícias:  158072\nData inicial:  17/02/2023 11:30\nData final:  20/02/2023 06:58\nParcial de notícias:  104042\nData inicial:  17/02/2023 11:30\nData final:  18/02/2023 21:14\nParcial de notícias:  65358\nData inicial:  17/02/2023 11:30\nData final:  18/02/2023 04:22\nParcial de notícias:  47566\nData inicial:  17/02/2023 11:30\nData final:  17/02/2023 19:56\nParcial de notícias:  25159\nData inicial:  17/02/2023 11:30\nData final:  17/02/2023 15:43\nParcial de notícias:  12739\nData inicial:  17/02/2023 11:30\nData final:  17/02/2023 13:36\nfazendo requisicao\nData inicial:  17/02/2023 11:30\nData final:  17/02/2023 12:33\nParcial de notícias:  485995\nData inicial:  17/02/2023 12:33\nData final:  23/02/2023 02:26\nParcial de notícias:  152457\nData inicial:  17/02/2023 12:33\nData final:  20/02/2023 07:29\nParcial de notícias:  98388\nData inicial:  17/02/2023 12:33\nData final:  18/02/2023 22:01\nParcial de notícias:  59424\nData inicial:  17/02/2023 12:33\nData final:  18/02/2023 05:17\nParcial de notícias:  44640\nData inicial:  17/02/2023 12:33\nData final:  17/02/2023 20:55\nParcial de notícias:  24430\nData inicial:  17/02/2023 12:33\nData final:  17/02/2023 16:44\nParcial de notícias:  11592\nData inicial:  17/02/2023 12:33\nData final:  17/02/2023 14:38\nfazendo requisicao\nData inicial:  17/02/2023 12:33\nData final:  17/02/2023 13:35\nParcial de notícias:  485995\nData inicial:  17/02/2023 13:35\nData final:  23/02/2023 02:26\nParcial de notícias:  148188\nData inicial:  17/02/2023 13:35\nData final:  20/02/2023 08:00\nParcial de notícias:  93768\nData inicial:  17/02/2023 13:35\nData final:  18/02/2023 22:47\nParcial de notícias:  54627\nData inicial:  17/02/2023 13:35\nData final:  18/02/2023 06:11\nParcial de notícias:  41940\nData inicial:  17/02/2023 13:35\nData final:  17/02/2023 21:53\nParcial de notícias:  24434\nData inicial:  17/02/2023 13:35\nData final:  17/02/2023 17:44\nParcial de notícias:  12103\nData inicial:  17/02/2023 13:35\nData final:  17/02/2023 15:39\nfazendo requisicao\nData inicial:  17/02/2023 13:35\nData final:  17/02/2023 14:37\nParcial de notícias:  485995\nData inicial:  17/02/2023 14:37\nData final:  23/02/2023 02:26\nParcial de notícias:  144190\nData inicial:  17/02/2023 14:37\nData final:  20/02/2023 08:31\nParcial de notícias:  89115\nData inicial:  17/02/2023 14:37\nData final:  18/02/2023 23:34\nParcial de notícias:  50143\nData inicial:  17/02/2023 14:37\nData final:  18/02/2023 07:05\nParcial de notícias:  38635\nData inicial:  17/02/2023 14:37\nData final:  17/02/2023 22:51\nParcial de notícias:  23836\nData inicial:  17/02/2023 14:37\nData final:  17/02/2023 18:44\nParcial de notícias:  12657\nData inicial:  17/02/2023 14:37\nData final:  17/02/2023 16:40\nfazendo requisicao\nData inicial:  17/02/2023 14:37\nData final:  17/02/2023 15:38\nParcial de notícias:  485995\nData inicial:  17/02/2023 15:38\nData final:  23/02/2023 02:26\nParcial de notícias:  139985\nData inicial:  17/02/2023 15:38\nData final:  20/02/2023 09:02\nParcial de notícias:  83877\nData inicial:  17/02/2023 15:38\nData final:  19/02/2023 00:20\nParcial de notícias:  45408\nData inicial:  17/02/2023 15:38\nData final:  18/02/2023 07:59\nParcial de notícias:  34336\nData inicial:  17/02/2023 15:38\nData final:  17/02/2023 23:48\nParcial de notícias:  22095\nData inicial:  17/02/2023 15:38\nData final:  17/02/2023 19:43\nParcial de notícias:  12090\nData inicial:  17/02/2023 15:38\nData final:  17/02/2023 17:40\nfazendo requisicao\nData inicial:  17/02/2023 15:38\nData final:  17/02/2023 16:39\nParcial de notícias:  485995\nData inicial:  17/02/2023 16:39\nData final:  23/02/2023 02:26\nParcial de notícias:  135682\nData inicial:  17/02/2023 16:39\nData final:  20/02/2023 09:32\nParcial de notícias:  78392\nData inicial:  17/02/2023 16:39\nData final:  19/02/2023 01:05\nParcial de notícias:  41529\nData inicial:  17/02/2023 16:39\nData final:  18/02/2023 08:52\nParcial de notícias:  30029\nData inicial:  17/02/2023 16:39\nData final:  18/02/2023 00:45\nParcial de notícias:  19936\nData inicial:  17/02/2023 16:39\nData final:  17/02/2023 20:42\nParcial de notícias:  11107\nData inicial:  17/02/2023 16:39\nData final:  17/02/2023 18:40\nfazendo requisicao\nData inicial:  17/02/2023 16:39\nData final:  17/02/2023 17:39\nParcial de notícias:  485995\nData inicial:  17/02/2023 17:39\nData final:  23/02/2023 02:26\nParcial de notícias:  132170\nData inicial:  17/02/2023 17:39\nData final:  20/02/2023 10:02\nParcial de notícias:  73306\nData inicial:  17/02/2023 17:39\nData final:  19/02/2023 01:50\nParcial de notícias:  38215\nData inicial:  17/02/2023 17:39\nData final:  18/02/2023 09:44\nParcial de notícias:  25750\nData inicial:  17/02/2023 17:39\nData final:  18/02/2023 01:41\nParcial de notícias:  17313\nData inicial:  17/02/2023 17:39\nData final:  17/02/2023 21:40\nfazendo requisicao\nData inicial:  17/02/2023 17:39\nData final:  17/02/2023 19:39\nParcial de notícias:  485995\nData inicial:  17/02/2023 19:39\nData final:  23/02/2023 02:26\nParcial de notícias:  126820\nData inicial:  17/02/2023 19:39\nData final:  20/02/2023 11:02\nParcial de notícias:  64801\nData inicial:  17/02/2023 19:39\nData final:  19/02/2023 03:20\nParcial de notícias:  33805\nData inicial:  17/02/2023 19:39\nData final:  18/02/2023 11:29\nParcial de notícias:  17672\nData inicial:  17/02/2023 19:39\nData final:  18/02/2023 03:34\nParcial de notícias:  12228\nData inicial:  17/02/2023 19:39\nData final:  17/02/2023 23:36\nfazendo requisicao\nData inicial:  17/02/2023 19:39\nData final:  17/02/2023 21:37\nParcial de notícias:  485995\nData inicial:  17/02/2023 21:37\nData final:  23/02/2023 02:26\nParcial de notícias:  123970\nData inicial:  17/02/2023 21:37\nData final:  20/02/2023 12:01\nParcial de notícias:  58721\nData inicial:  17/02/2023 21:37\nData final:  19/02/2023 04:49\nParcial de notícias:  32028\nData inicial:  17/02/2023 21:37\nData final:  18/02/2023 13:13\nParcial de notícias:  12734\nData inicial:  17/02/2023 21:37\nData final:  18/02/2023 05:25\nfazendo requisicao\nData inicial:  17/02/2023 21:37\nData final:  18/02/2023 01:31\nParcial de notícias:  485995\nData inicial:  18/02/2023 01:31\nData final:  23/02/2023 02:26\nParcial de notícias:  123276\nData inicial:  18/02/2023 01:31\nData final:  20/02/2023 13:58\nParcial de notícias:  53013\nData inicial:  18/02/2023 01:31\nData final:  19/02/2023 07:44\nParcial de notícias:  32549\nData inicial:  18/02/2023 01:31\nData final:  18/02/2023 16:37\nParcial de notícias:  11054\nData inicial:  18/02/2023 01:31\nData final:  18/02/2023 09:04\nfazendo requisicao\nData inicial:  18/02/2023 01:31\nData final:  18/02/2023 05:17\nParcial de notícias:  485995\nData inicial:  18/02/2023 05:17\nData final:  23/02/2023 02:26\nParcial de notícias:  126574\nData inicial:  18/02/2023 05:17\nData final:  20/02/2023 15:51\nParcial de notícias:  54677\nData inicial:  18/02/2023 05:17\nData final:  19/02/2023 10:34\nParcial de notícias:  35159\nData inicial:  18/02/2023 05:17\nData final:  18/02/2023 19:55\nParcial de notícias:  17541\nData inicial:  18/02/2023 05:17\nData final:  18/02/2023 12:36\nfazendo requisicao\nData inicial:  18/02/2023 05:17\nData final:  18/02/2023 08:56\nParcial de notícias:  485995\nData inicial:  18/02/2023 08:56\nData final:  23/02/2023 02:26\nParcial de notícias:  127589\nData inicial:  18/02/2023 08:56\nData final:  20/02/2023 17:41\nParcial de notícias:  55210\nData inicial:  18/02/2023 08:56\nData final:  19/02/2023 13:18\nParcial de notícias:  34359\nData inicial:  18/02/2023 08:56\nData final:  18/02/2023 23:07\nParcial de notícias:  20827\nData inicial:  18/02/2023 08:56\nData final:  18/02/2023 16:01\nParcial de notícias:  10962\nData inicial:  18/02/2023 08:56\nData final:  18/02/2023 12:28\nfazendo requisicao\nData inicial:  18/02/2023 08:56\nData final:  18/02/2023 10:42\nParcial de notícias:  485995\nData inicial:  18/02/2023 10:42\nData final:  23/02/2023 02:26\nParcial de notícias:  125460\nData inicial:  18/02/2023 10:42\nData final:  20/02/2023 18:34\nParcial de notícias:  53335\nData inicial:  18/02/2023 10:42\nData final:  19/02/2023 14:38\nParcial de notícias:  31093\nData inicial:  18/02/2023 10:42\nData final:  19/02/2023 00:40\nParcial de notícias:  18986\nData inicial:  18/02/2023 10:42\nData final:  18/02/2023 17:41\nParcial de notícias:  10762\nData inicial:  18/02/2023 10:42\nData final:  18/02/2023 14:11\nfazendo requisicao\nData inicial:  18/02/2023 10:42\nData final:  18/02/2023 12:26\nParcial de notícias:  485995\nData inicial:  18/02/2023 12:26\nData final:  23/02/2023 02:26\nParcial de notícias:  122633\nData inicial:  18/02/2023 12:26\nData final:  20/02/2023 19:26\nParcial de notícias:  50844\nData inicial:  18/02/2023 12:26\nData final:  19/02/2023 15:56\nParcial de notícias:  26904\nData inicial:  18/02/2023 12:26\nData final:  19/02/2023 02:11\nParcial de notícias:  16923\nData inicial:  18/02/2023 12:26\nData final:  18/02/2023 19:18\nfazendo requisicao\nData inicial:  18/02/2023 12:26\nData final:  18/02/2023 15:52\nParcial de notícias:  485995\nData inicial:  18/02/2023 15:52\nData final:  23/02/2023 02:26\nParcial de notícias:  117936\nData inicial:  18/02/2023 15:52\nData final:  20/02/2023 21:09\nParcial de notícias:  47161\nData inicial:  18/02/2023 15:52\nData final:  19/02/2023 18:30\nParcial de notícias:  19825\nData inicial:  18/02/2023 15:52\nData final:  19/02/2023 05:11\nParcial de notícias:  13160\nData inicial:  18/02/2023 15:52\nData final:  18/02/2023 22:31\nfazendo requisicao\nData inicial:  18/02/2023 15:52\nData final:  18/02/2023 19:11\nParcial de notícias:  485995\nData inicial:  18/02/2023 19:11\nData final:  23/02/2023 02:26\nParcial de notícias:  113930\nData inicial:  18/02/2023 19:11\nData final:  20/02/2023 22:48\nParcial de notícias:  45058\nData inicial:  18/02/2023 19:11\nData final:  19/02/2023 20:59\nParcial de notícias:  15745\nData inicial:  18/02/2023 19:11\nData final:  19/02/2023 08:05\nfazendo requisicao\nData inicial:  18/02/2023 19:11\nData final:  19/02/2023 01:38\nParcial de notícias:  485995\nData inicial:  19/02/2023 01:38\nData final:  23/02/2023 02:26\nParcial de notícias:  108899\nData inicial:  19/02/2023 01:38\nData final:  21/02/2023 02:02\nParcial de notícias:  42491\nData inicial:  19/02/2023 01:38\nData final:  20/02/2023 01:50\nParcial de notícias:  19049\nData inicial:  19/02/2023 01:38\nData final:  19/02/2023 13:44\nfazendo requisicao\nData inicial:  19/02/2023 01:38\nData final:  19/02/2023 07:41\nParcial de notícias:  485995\nData inicial:  19/02/2023 07:41\nData final:  23/02/2023 02:26\nParcial de notícias:  107230\nData inicial:  19/02/2023 07:41\nData final:  21/02/2023 05:03\nParcial de notícias:  42352\nData inicial:  19/02/2023 07:41\nData final:  20/02/2023 06:22\nParcial de notícias:  26238\nData inicial:  19/02/2023 07:41\nData final:  19/02/2023 19:01\nParcial de notícias:  12881\nData inicial:  19/02/2023 07:41\nData final:  19/02/2023 13:21\nfazendo requisicao\nData inicial:  19/02/2023 07:41\nData final:  19/02/2023 10:31\nParcial de notícias:  485995\nData inicial:  19/02/2023 10:31\nData final:  23/02/2023 02:26\nParcial de notícias:  103071\nData inicial:  19/02/2023 10:31\nData final:  21/02/2023 06:28\nParcial de notícias:  41451\nData inicial:  19/02/2023 10:31\nData final:  20/02/2023 08:29\nParcial de notícias:  25282\nData inicial:  19/02/2023 10:31\nData final:  19/02/2023 21:30\nParcial de notícias:  13528\nData inicial:  19/02/2023 10:31\nData final:  19/02/2023 16:00\nfazendo requisicao\nData inicial:  19/02/2023 10:31\nData final:  19/02/2023 13:15\nParcial de notícias:  485995\nData inicial:  19/02/2023 13:15\nData final:  23/02/2023 02:26\nParcial de notícias:  99502\nData inicial:  19/02/2023 13:15\nData final:  21/02/2023 07:50\nParcial de notícias:  43318\nData inicial:  19/02/2023 13:15\nData final:  20/02/2023 10:32\nParcial de notícias:  22167\nData inicial:  19/02/2023 13:15\nData final:  19/02/2023 23:53\nParcial de notícias:  12647\nData inicial:  19/02/2023 13:15\nData final:  19/02/2023 18:34\nfazendo requisicao\nData inicial:  19/02/2023 13:15\nData final:  19/02/2023 15:54\nParcial de notícias:  485995\nData inicial:  19/02/2023 15:54\nData final:  23/02/2023 02:26\nParcial de notícias:  97478\nData inicial:  19/02/2023 15:54\nData final:  21/02/2023 09:10\nParcial de notícias:  45728\nData inicial:  19/02/2023 15:54\nData final:  20/02/2023 12:32\nParcial de notícias:  18696\nData inicial:  19/02/2023 15:54\nData final:  20/02/2023 02:13\nParcial de notícias:  11182\nData inicial:  19/02/2023 15:54\nData final:  19/02/2023 21:03\nfazendo requisicao\nData inicial:  19/02/2023 15:54\nData final:  19/02/2023 18:28\nParcial de notícias:  485995\nData inicial:  19/02/2023 18:28\nData final:  23/02/2023 02:26\nParcial de notícias:  96333\nData inicial:  19/02/2023 18:28\nData final:  21/02/2023 10:27\nParcial de notícias:  47369\nData inicial:  19/02/2023 18:28\nData final:  20/02/2023 14:27\nParcial de notícias:  14980\nData inicial:  19/02/2023 18:28\nData final:  20/02/2023 04:27\nfazendo requisicao\nData inicial:  19/02/2023 18:28\nData final:  19/02/2023 23:27\nParcial de notícias:  485995\nData inicial:  19/02/2023 23:27\nData final:  23/02/2023 02:26\nParcial de notícias:  96710\nData inicial:  19/02/2023 23:27\nData final:  21/02/2023 12:56\nParcial de notícias:  52693\nData inicial:  19/02/2023 23:27\nData final:  20/02/2023 18:11\nParcial de notícias:  14475\nData inicial:  19/02/2023 23:27\nData final:  20/02/2023 08:49\nfazendo requisicao\nData inicial:  19/02/2023 23:27\nData final:  20/02/2023 04:08\nParcial de notícias:  485995\nData inicial:  20/02/2023 04:08\nData final:  23/02/2023 02:26\nParcial de notícias:  99392\nData inicial:  20/02/2023 04:08\nData final:  21/02/2023 15:17\nParcial de notícias:  57258\nData inicial:  20/02/2023 04:08\nData final:  20/02/2023 21:42\nParcial de notícias:  26562\nData inicial:  20/02/2023 04:08\nData final:  20/02/2023 12:55\nfazendo requisicao\nData inicial:  20/02/2023 04:08\nData final:  20/02/2023 08:31\nParcial de notícias:  485995\nData inicial:  20/02/2023 08:31\nData final:  23/02/2023 02:26\nParcial de notícias:  98619\nData inicial:  20/02/2023 08:31\nData final:  21/02/2023 17:28\nParcial de notícias:  54847\nData inicial:  20/02/2023 08:31\nData final:  21/02/2023 00:59\nParcial de notícias:  33873\nData inicial:  20/02/2023 08:31\nData final:  20/02/2023 16:45\nParcial de notícias:  17697\nData inicial:  20/02/2023 08:31\nData final:  20/02/2023 12:38\nfazendo requisicao\nData inicial:  20/02/2023 08:31\nData final:  20/02/2023 10:34\nParcial de notícias:  485995\nData inicial:  20/02/2023 10:34\nData final:  23/02/2023 02:26\nParcial de notícias:  93368\nData inicial:  20/02/2023 10:34\nData final:  21/02/2023 18:30\nParcial de notícias:  48079\nData inicial:  20/02/2023 10:34\nData final:  21/02/2023 02:32\nParcial de notícias:  32142\nData inicial:  20/02/2023 10:34\nData final:  20/02/2023 18:33\nParcial de notícias:  16781\nData inicial:  20/02/2023 10:34\nData final:  20/02/2023 14:33\nfazendo requisicao\nData inicial:  20/02/2023 10:34\nData final:  20/02/2023 12:33\nParcial de notícias:  485995\nData inicial:  20/02/2023 12:33\nData final:  23/02/2023 02:26\nParcial de notícias:  87340\nData inicial:  20/02/2023 12:33\nData final:  21/02/2023 19:29\nParcial de notícias:  40987\nData inicial:  20/02/2023 12:33\nData final:  21/02/2023 04:01\nParcial de notícias:  28787\nData inicial:  20/02/2023 12:33\nData final:  20/02/2023 20:17\nParcial de notícias:  15304\nData inicial:  20/02/2023 12:33\nData final:  20/02/2023 16:25\nfazendo requisicao\nData inicial:  20/02/2023 12:33\nData final:  20/02/2023 14:29\nParcial de notícias:  485995\nData inicial:  20/02/2023 14:29\nData final:  23/02/2023 02:26\nParcial de notícias:  82380\nData inicial:  20/02/2023 14:29\nData final:  21/02/2023 20:27\nParcial de notícias:  35154\nData inicial:  20/02/2023 14:29\nData final:  21/02/2023 05:28\nParcial de notícias:  24960\nData inicial:  20/02/2023 14:29\nData final:  20/02/2023 21:58\nParcial de notícias:  14502\nData inicial:  20/02/2023 14:29\nData final:  20/02/2023 18:13\nfazendo requisicao\nData inicial:  20/02/2023 14:29\nData final:  20/02/2023 16:21\nParcial de notícias:  485995\nData inicial:  20/02/2023 16:21\nData final:  23/02/2023 02:26\nParcial de notícias:  77192\nData inicial:  20/02/2023 16:21\nData final:  21/02/2023 21:23\nParcial de notícias:  29743\nData inicial:  20/02/2023 16:21\nData final:  21/02/2023 06:52\nParcial de notícias:  20274\nData inicial:  20/02/2023 16:21\nData final:  20/02/2023 23:36\nParcial de notícias:  12755\nData inicial:  20/02/2023 16:21\nData final:  20/02/2023 19:58\nfazendo requisicao\nData inicial:  20/02/2023 16:21\nData final:  20/02/2023 18:09\nParcial de notícias:  485995\nData inicial:  20/02/2023 18:09\nData final:  23/02/2023 02:26\nParcial de notícias:  72176\nData inicial:  20/02/2023 18:09\nData final:  21/02/2023 22:17\nParcial de notícias:  26595\nData inicial:  20/02/2023 18:09\nData final:  21/02/2023 08:13\nParcial de notícias:  16017\nData inicial:  20/02/2023 18:09\nData final:  21/02/2023 01:11\nParcial de notícias:  10171\nData inicial:  20/02/2023 18:09\nData final:  20/02/2023 21:40\nfazendo requisicao\nData inicial:  20/02/2023 18:09\nData final:  20/02/2023 19:54\nParcial de notícias:  485995\nData inicial:  20/02/2023 19:54\nData final:  23/02/2023 02:26\nParcial de notícias:  67936\nData inicial:  20/02/2023 19:54\nData final:  21/02/2023 23:10\nParcial de notícias:  25400\nData inicial:  20/02/2023 19:54\nData final:  21/02/2023 09:32\nParcial de notícias:  11738\nData inicial:  20/02/2023 19:54\nData final:  21/02/2023 02:43\nfazendo requisicao\nData inicial:  20/02/2023 19:54\nData final:  20/02/2023 23:18\nParcial de notícias:  485995\nData inicial:  20/02/2023 23:18\nData final:  23/02/2023 02:26\nParcial de notícias:  63090\nData inicial:  20/02/2023 23:18\nData final:  22/02/2023 00:52\nParcial de notícias:  28231\nData inicial:  20/02/2023 23:18\nData final:  21/02/2023 12:05\nfazendo requisicao\nData inicial:  20/02/2023 23:18\nData final:  21/02/2023 05:41\nParcial de notícias:  485995\nData inicial:  21/02/2023 05:41\nData final:  23/02/2023 02:26\nParcial de notícias:  58248\nData inicial:  21/02/2023 05:41\nData final:  22/02/2023 04:03\nParcial de notícias:  36400\nData inicial:  21/02/2023 05:41\nData final:  21/02/2023 16:52\nParcial de notícias:  16799\nData inicial:  21/02/2023 05:41\nData final:  21/02/2023 11:16\nfazendo requisicao\nData inicial:  21/02/2023 05:41\nData final:  21/02/2023 08:28\nParcial de notícias:  485995\nData inicial:  21/02/2023 08:28\nData final:  23/02/2023 02:26\nParcial de notícias:  53456\nData inicial:  21/02/2023 08:28\nData final:  22/02/2023 05:27\nParcial de notícias:  36684\nData inicial:  21/02/2023 08:28\nData final:  21/02/2023 18:57\nParcial de notícias:  19503\nData inicial:  21/02/2023 08:28\nData final:  21/02/2023 13:42\nfazendo requisicao\nData inicial:  21/02/2023 08:28\nData final:  21/02/2023 11:05\nParcial de notícias:  485995\nData inicial:  21/02/2023 11:05\nData final:  23/02/2023 02:26\nParcial de notícias:  45540\nData inicial:  21/02/2023 11:05\nData final:  22/02/2023 06:45\nParcial de notícias:  32154\nData inicial:  21/02/2023 11:05\nData final:  21/02/2023 20:55\nParcial de notícias:  17631\nData inicial:  21/02/2023 11:05\nData final:  21/02/2023 16:00\nfazendo requisicao\nData inicial:  21/02/2023 11:05\nData final:  21/02/2023 13:32\nParcial de notícias:  485995\nData inicial:  21/02/2023 13:32\nData final:  23/02/2023 02:26\nParcial de notícias:  39726\nData inicial:  21/02/2023 13:32\nData final:  22/02/2023 07:59\nParcial de notícias:  26873\nData inicial:  21/02/2023 13:32\nData final:  21/02/2023 22:45\nParcial de notícias:  15439\nData inicial:  21/02/2023 13:32\nData final:  21/02/2023 18:08\nfazendo requisicao\nData inicial:  21/02/2023 13:32\nData final:  21/02/2023 15:50\nParcial de notícias:  485995\nData inicial:  21/02/2023 15:50\nData final:  23/02/2023 02:26\nParcial de notícias:  36815\nData inicial:  21/02/2023 15:50\nData final:  22/02/2023 09:08\nParcial de notícias:  21457\nData inicial:  21/02/2023 15:50\nData final:  22/02/2023 00:29\nParcial de notícias:  13197\nData inicial:  21/02/2023 15:50\nData final:  21/02/2023 20:09\nfazendo requisicao\nData inicial:  21/02/2023 15:50\nData final:  21/02/2023 17:59\nParcial de notícias:  485995\nData inicial:  21/02/2023 17:59\nData final:  23/02/2023 02:26\nParcial de notícias:  35294\nData inicial:  21/02/2023 17:59\nData final:  22/02/2023 10:12\nParcial de notícias:  16572\nData inicial:  21/02/2023 17:59\nData final:  22/02/2023 02:05\nParcial de notícias:  10819\nData inicial:  21/02/2023 17:59\nData final:  21/02/2023 22:02\nfazendo requisicao\nData inicial:  21/02/2023 17:59\nData final:  21/02/2023 20:00\nParcial de notícias:  485995\nData inicial:  21/02/2023 20:00\nData final:  23/02/2023 02:26\nParcial de notícias:  34967\nData inicial:  21/02/2023 20:00\nData final:  22/02/2023 11:13\nParcial de notícias:  11819\nData inicial:  21/02/2023 20:00\nData final:  22/02/2023 03:36\nfazendo requisicao\nData inicial:  21/02/2023 20:00\nData final:  21/02/2023 23:48\nParcial de notícias:  485995\nData inicial:  21/02/2023 23:48\nData final:  23/02/2023 02:26\nParcial de notícias:  36859\nData inicial:  21/02/2023 23:48\nData final:  22/02/2023 13:07\nfazendo requisicao\nData inicial:  21/02/2023 23:48\nData final:  22/02/2023 06:27\nParcial de notícias:  485995\nData inicial:  22/02/2023 06:27\nData final:  23/02/2023 02:26\nParcial de notícias:  45204\nData inicial:  22/02/2023 06:27\nData final:  22/02/2023 16:26\nParcial de notícias:  20883\nData inicial:  22/02/2023 06:27\nData final:  22/02/2023 11:26\nfazendo requisicao\nData inicial:  22/02/2023 06:27\nData final:  22/02/2023 08:56\nParcial de notícias:  485995\nData inicial:  22/02/2023 08:56\nData final:  23/02/2023 02:26\nParcial de notícias:  43407\nData inicial:  22/02/2023 08:56\nData final:  22/02/2023 17:41\nParcial de notícias:  22548\nData inicial:  22/02/2023 08:56\nData final:  22/02/2023 13:18\nParcial de notícias:  11472\nData inicial:  22/02/2023 08:56\nData final:  22/02/2023 11:07\nfazendo requisicao\nData inicial:  22/02/2023 08:56\nData final:  22/02/2023 10:01\nParcial de notícias:  485995\nData inicial:  22/02/2023 10:01\nData final:  23/02/2023 02:26\nParcial de notícias:  40142\nData inicial:  22/02/2023 10:01\nData final:  22/02/2023 18:13\nParcial de notícias:  20908\nData inicial:  22/02/2023 10:01\nData final:  22/02/2023 14:07\nParcial de notícias:  11430\nData inicial:  22/02/2023 10:01\nData final:  22/02/2023 12:04\nfazendo requisicao\nData inicial:  22/02/2023 10:01\nData final:  22/02/2023 11:02\nParcial de notícias:  485995\nData inicial:  22/02/2023 11:02\nData final:  23/02/2023 02:26\nParcial de notícias:  36703\nData inicial:  22/02/2023 11:02\nData final:  22/02/2023 18:44\nParcial de notícias:  19362\nData inicial:  22/02/2023 11:02\nData final:  22/02/2023 14:53\nfazendo requisicao\nData inicial:  22/02/2023 11:02\nData final:  22/02/2023 12:57\nParcial de notícias:  485995\nData inicial:  22/02/2023 12:57\nData final:  23/02/2023 02:26\nParcial de notícias:  30069\nData inicial:  22/02/2023 12:57\nData final:  22/02/2023 19:41\nParcial de notícias:  16308\nData inicial:  22/02/2023 12:57\nData final:  22/02/2023 16:19\nfazendo requisicao\nData inicial:  22/02/2023 12:57\nData final:  22/02/2023 14:38\nParcial de notícias:  485995\nData inicial:  22/02/2023 14:38\nData final:  23/02/2023 02:26\nParcial de notícias:  24491\nData inicial:  22/02/2023 14:38\nData final:  22/02/2023 20:32\nParcial de notícias:  14057\nData inicial:  22/02/2023 14:38\nData final:  22/02/2023 17:35\nfazendo requisicao\nData inicial:  22/02/2023 14:38\nData final:  22/02/2023 16:06\nParcial de notícias:  485995\nData inicial:  22/02/2023 16:06\nData final:  23/02/2023 02:26\nParcial de notícias:  18664\nData inicial:  22/02/2023 16:06\nData final:  22/02/2023 21:16\nParcial de notícias:  11284\nData inicial:  22/02/2023 16:06\nData final:  22/02/2023 18:41\nfazendo requisicao\nData inicial:  22/02/2023 16:06\nData final:  22/02/2023 17:23\nParcial de notícias:  485995\nData inicial:  22/02/2023 17:23\nData final:  23/02/2023 02:26\nParcial de notícias:  13455\nData inicial:  22/02/2023 17:23\nData final:  22/02/2023 21:54\nfazendo requisicao\nData inicial:  22/02/2023 17:23\nData final:  22/02/2023 19:38\nParcial de notícias:  485995\nData inicial:  22/02/2023 19:38\nData final:  23/02/2023 02:26\nfazendo requisicao\nData inicial:  22/02/2023 19:38\nData final:  22/02/2023 23:02\nTotal de notícias:  85\nfazendo requisicao\nData inicial:  16/02/2023 02:26\nData final:  23/02/2023 02:26\nTotal de notícias:  89\nfazendo requisicao\nData inicial:  16/02/2023 02:26\nData final:  23/02/2023 02:26\nTotal de notícias:  241\nfazendo requisicao\nData inicial:  16/02/2023 02:26\nData final:  23/02/2023 02:26\nTotal de notícias:  134\nfazendo requisicao\nData inicial:  16/02/2023 02:26\nData final:  23/02/2023 02:26\n</div>"
      ]
     },
     "metadata": {
      "application/vnd.databricks.v1+output": {
       "addedWidgets": {},
       "arguments": {},
       "data": "<div class=\"ansiout\">Total de notícias:  485995\nParcial de notícias:  485995\nData inicial:  16/02/2023 02:26\nData final:  23/02/2023 02:26\nParcial de notícias:  268280\nData inicial:  16/02/2023 02:26\nData final:  19/02/2023 14:26\nParcial de notícias:  187374\nData inicial:  16/02/2023 02:26\nData final:  17/02/2023 20:26\nParcial de notícias:  99080\nData inicial:  16/02/2023 02:26\nData final:  16/02/2023 23:26\nParcial de notícias:  43352\nData inicial:  16/02/2023 02:26\nData final:  16/02/2023 12:56\nParcial de notícias:  10265\nData inicial:  16/02/2023 02:26\nData final:  16/02/2023 07:41\nfazendo requisicao\nData inicial:  16/02/2023 02:26\nData final:  16/02/2023 05:03\nParcial de notícias:  485995\nData inicial:  16/02/2023 05:03\nData final:  23/02/2023 02:26\nParcial de notícias:  267665\nData inicial:  16/02/2023 05:03\nData final:  19/02/2023 15:44\nParcial de notícias:  189802\nData inicial:  16/02/2023 05:03\nData final:  17/02/2023 22:23\nParcial de notícias:  100466\nData inicial:  16/02/2023 05:03\nData final:  17/02/2023 01:43\nParcial de notícias:  54755\nData inicial:  16/02/2023 05:03\nData final:  16/02/2023 15:23\nParcial de notícias:  21422\nData inicial:  16/02/2023 05:03\nData final:  16/02/2023 10:13\nfazendo requisicao\nData inicial:  16/02/2023 05:03\nData final:  16/02/2023 07:38\nParcial de notícias:  485995\nData inicial:  16/02/2023 07:38\nData final:  23/02/2023 02:26\nParcial de notícias:  264513\nData inicial:  16/02/2023 07:38\nData final:  19/02/2023 17:02\nParcial de notícias:  187733\nData inicial:  16/02/2023 07:38\nData final:  18/02/2023 00:20\nParcial de notícias:  97113\nData inicial:  16/02/2023 07:38\nData final:  17/02/2023 03:59\nParcial de notícias:  63826\nData inicial:  16/02/2023 07:38\nData final:  16/02/2023 17:48\nParcial de notícias:  32132\nData inicial:  16/02/2023 07:38\nData final:  16/02/2023 12:43\nParcial de notícias:  14814\nData inicial:  16/02/2023 07:38\nData final:  16/02/2023 10:10\nfazendo requisicao\nData inicial:  16/02/2023 07:38\nData final:  16/02/2023 08:54\nParcial de notícias:  485995\nData inicial:  16/02/2023 08:54\nData final:  23/02/2023 02:26\nParcial de notícias:  259390\nData inicial:  16/02/2023 08:54\nData final:  19/02/2023 17:40\nParcial de notícias:  182955\nData inicial:  16/02/2023 08:54\nData final:  18/02/2023 01:17\nParcial de notícias:  92511\nData inicial:  16/02/2023 08:54\nData final:  17/02/2023 05:05\nParcial de notícias:  64582\nData inicial:  16/02/2023 08:54\nData final:  16/02/2023 18:59\nParcial de notícias:  32477\nData inicial:  16/02/2023 08:54\nData final:  16/02/2023 13:56\nParcial de notícias:  16833\nData inicial:  16/02/2023 08:54\nData final:  16/02/2023 11:25\nfazendo requisicao\nData inicial:  16/02/2023 08:54\nData final:  16/02/2023 10:09\nParcial de notícias:  485995\nData inicial:  16/02/2023 10:09\nData final:  23/02/2023 02:26\nParcial de notícias:  252676\nData inicial:  16/02/2023 10:09\nData final:  19/02/2023 18:17\nParcial de notícias:  175927\nData inicial:  16/02/2023 10:09\nData final:  18/02/2023 02:13\nParcial de notícias:  86380\nData inicial:  16/02/2023 10:09\nData final:  17/02/2023 06:11\nParcial de notícias:  62933\nData inicial:  16/02/2023 10:09\nData final:  16/02/2023 20:10\nParcial de notícias:  32297\nData inicial:  16/02/2023 10:09\nData final:  16/02/2023 15:09\nParcial de notícias:  17151\nData inicial:  16/02/2023 10:09\nData final:  16/02/2023 12:39\nfazendo requisicao\nData inicial:  16/02/2023 10:09\nData final:  16/02/2023 11:24\nParcial de notícias:  485995\nData inicial:  16/02/2023 11:24\nData final:  23/02/2023 02:26\nParcial de notícias:  245432\nData inicial:  16/02/2023 11:24\nData final:  19/02/2023 18:55\nParcial de notícias:  168197\nData inicial:  16/02/2023 11:24\nData final:  18/02/2023 03:09\nParcial de notícias:  80566\nData inicial:  16/02/2023 11:24\nData final:  17/02/2023 07:16\nParcial de notícias:  59557\nData inicial:  16/02/2023 11:24\nData final:  16/02/2023 21:20\nParcial de notícias:  31783\nData inicial:  16/02/2023 11:24\nData final:  16/02/2023 16:22\nParcial de notícias:  15594\nData inicial:  16/02/2023 11:24\nData final:  16/02/2023 13:53\nfazendo requisicao\nData inicial:  16/02/2023 11:24\nData final:  16/02/2023 12:38\nParcial de notícias:  485995\nData inicial:  16/02/2023 12:38\nData final:  23/02/2023 02:26\nParcial de notícias:  238324\nData inicial:  16/02/2023 12:38\nData final:  19/02/2023 19:32\nParcial de notícias:  160811\nData inicial:  16/02/2023 12:38\nData final:  18/02/2023 04:05\nParcial de notícias:  76427\nData inicial:  16/02/2023 12:38\nData final:  17/02/2023 08:21\nParcial de notícias:  54804\nData inicial:  16/02/2023 12:38\nData final:  16/02/2023 22:29\nParcial de notícias:  30691\nData inicial:  16/02/2023 12:38\nData final:  16/02/2023 17:33\nParcial de notícias:  14878\nData inicial:  16/02/2023 12:38\nData final:  16/02/2023 15:05\nfazendo requisicao\nData inicial:  16/02/2023 12:38\nData final:  16/02/2023 13:51\nParcial de notícias:  485995\nData inicial:  16/02/2023 13:51\nData final:  23/02/2023 02:26\nParcial de notícias:  232589\nData inicial:  16/02/2023 13:51\nData final:  19/02/2023 20:08\nParcial de notícias:  155040\nData inicial:  16/02/2023 13:51\nData final:  18/02/2023 04:59\nParcial de notícias:  75658\nData inicial:  16/02/2023 13:51\nData final:  17/02/2023 09:25\nParcial de notícias:  51165\nData inicial:  16/02/2023 13:51\nData final:  16/02/2023 23:38\nParcial de notícias:  31143\nData inicial:  16/02/2023 13:51\nData final:  16/02/2023 18:44\nParcial de notícias:  15853\nData inicial:  16/02/2023 13:51\nData final:  16/02/2023 16:17\nfazendo requisicao\nData inicial:  16/02/2023 13:51\nData final:  16/02/2023 15:04\nParcial de notícias:  485995\nData inicial:  16/02/2023 15:04\nData final:  23/02/2023 02:26\nParcial de notícias:  225930\nData inicial:  16/02/2023 15:04\nData final:  19/02/2023 20:45\nParcial de notícias:  148103\nData inicial:  16/02/2023 15:04\nData final:  18/02/2023 05:54\nParcial de notícias:  74504\nData inicial:  16/02/2023 15:04\nData final:  17/02/2023 10:29\nParcial de notícias:  46189\nData inicial:  16/02/2023 15:04\nData final:  17/02/2023 00:46\nParcial de notícias:  29569\nData inicial:  16/02/2023 15:04\nData final:  16/02/2023 19:55\nParcial de notícias:  15435\nData inicial:  16/02/2023 15:04\nData final:  16/02/2023 17:29\nfazendo requisicao\nData inicial:  16/02/2023 15:04\nData final:  16/02/2023 16:16\nParcial de notícias:  485995\nData inicial:  16/02/2023 16:16\nData final:  23/02/2023 02:26\nParcial de notícias:  219353\nData inicial:  16/02/2023 16:16\nData final:  19/02/2023 21:21\nParcial de notícias:  141365\nData inicial:  16/02/2023 16:16\nData final:  18/02/2023 06:48\nParcial de notícias:  73799\nData inicial:  16/02/2023 16:16\nData final:  17/02/2023 11:32\nParcial de notícias:  40321\nData inicial:  16/02/2023 16:16\nData final:  17/02/2023 01:54\nParcial de notícias:  27614\nData inicial:  16/02/2023 16:16\nData final:  16/02/2023 21:05\nParcial de notícias:  15112\nData inicial:  16/02/2023 16:16\nData final:  16/02/2023 18:40\nfazendo requisicao\nData inicial:  16/02/2023 16:16\nData final:  16/02/2023 17:28\nParcial de notícias:  485995\nData inicial:  16/02/2023 17:28\nData final:  23/02/2023 02:26\nParcial de notícias:  212855\nData inicial:  16/02/2023 17:28\nData final:  19/02/2023 21:57\nParcial de notícias:  135466\nData inicial:  16/02/2023 17:28\nData final:  18/02/2023 07:42\nParcial de notícias:  73137\nData inicial:  16/02/2023 17:28\nData final:  17/02/2023 12:35\nParcial de notícias:  34403\nData inicial:  16/02/2023 17:28\nData final:  17/02/2023 03:01\nParcial de notícias:  24050\nData inicial:  16/02/2023 17:28\nData final:  16/02/2023 22:14\nParcial de notícias:  13955\nData inicial:  16/02/2023 17:28\nData final:  16/02/2023 19:51\nfazendo requisicao\nData inicial:  16/02/2023 17:28\nData final:  16/02/2023 18:39\nParcial de notícias:  485995\nData inicial:  16/02/2023 18:39\nData final:  23/02/2023 02:26\nParcial de notícias:  206337\nData inicial:  16/02/2023 18:39\nData final:  19/02/2023 22:32\nParcial de notícias:  130076\nData inicial:  16/02/2023 18:39\nData final:  18/02/2023 08:35\nParcial de notícias:  71278\nData inicial:  16/02/2023 18:39\nData final:  17/02/2023 13:37\nParcial de notícias:  28453\nData inicial:  16/02/2023 18:39\nData final:  17/02/2023 04:08\nParcial de notícias:  19731\nData inicial:  16/02/2023 18:39\nData final:  16/02/2023 23:23\nParcial de notícias:  12402\nData inicial:  16/02/2023 18:39\nData final:  16/02/2023 21:01\nfazendo requisicao\nData inicial:  16/02/2023 18:39\nData final:  16/02/2023 19:50\nParcial de notícias:  485995\nData inicial:  16/02/2023 19:50\nData final:  23/02/2023 02:26\nParcial de notícias:  200877\nData inicial:  16/02/2023 19:50\nData final:  19/02/2023 23:08\nParcial de notícias:  126245\nData inicial:  16/02/2023 19:50\nData final:  18/02/2023 09:29\nParcial de notícias:  70711\nData inicial:  16/02/2023 19:50\nData final:  17/02/2023 14:39\nParcial de notícias:  23691\nData inicial:  16/02/2023 19:50\nData final:  17/02/2023 05:14\nParcial de notícias:  16484\nData inicial:  16/02/2023 19:50\nData final:  17/02/2023 00:32\nParcial de notícias:  10093\nData inicial:  16/02/2023 19:50\nData final:  16/02/2023 22:11\nfazendo requisicao\nData inicial:  16/02/2023 19:50\nData final:  16/02/2023 21:00\nParcial de notícias:  485995\nData inicial:  16/02/2023 21:00\nData final:  23/02/2023 02:26\nParcial de notícias:  195859\nData inicial:  16/02/2023 21:00\nData final:  19/02/2023 23:43\nParcial de notícias:  123092\nData inicial:  16/02/2023 21:00\nData final:  18/02/2023 10:21\nParcial de notícias:  71182\nData inicial:  16/02/2023 21:00\nData final:  17/02/2023 15:40\nParcial de notícias:  19959\nData inicial:  16/02/2023 21:00\nData final:  17/02/2023 06:20\nParcial de notícias:  12775\nData inicial:  16/02/2023 21:00\nData final:  17/02/2023 01:40\nfazendo requisicao\nData inicial:  16/02/2023 21:00\nData final:  16/02/2023 23:20\nParcial de notícias:  485995\nData inicial:  16/02/2023 23:20\nData final:  23/02/2023 02:26\nParcial de notícias:  190008\nData inicial:  16/02/2023 23:20\nData final:  20/02/2023 00:53\nParcial de notícias:  121060\nData inicial:  16/02/2023 23:20\nData final:  18/02/2023 12:06\nParcial de notícias:  75837\nData inicial:  16/02/2023 23:20\nData final:  17/02/2023 17:43\nParcial de notícias:  20118\nData inicial:  16/02/2023 23:20\nData final:  17/02/2023 08:31\nfazendo requisicao\nData inicial:  16/02/2023 23:20\nData final:  17/02/2023 03:55\nParcial de notícias:  485995\nData inicial:  17/02/2023 03:55\nData final:  23/02/2023 02:26\nParcial de notícias:  184255\nData inicial:  17/02/2023 03:55\nData final:  20/02/2023 03:10\nParcial de notícias:  122815\nData inicial:  17/02/2023 03:55\nData final:  18/02/2023 15:32\nParcial de notícias:  84614\nData inicial:  17/02/2023 03:55\nData final:  17/02/2023 21:43\nParcial de notícias:  39128\nData inicial:  17/02/2023 03:55\nData final:  17/02/2023 12:49\nParcial de notícias:  11113\nData inicial:  17/02/2023 03:55\nData final:  17/02/2023 08:22\nfazendo requisicao\nData inicial:  17/02/2023 03:55\nData final:  17/02/2023 06:08\nParcial de notícias:  485995\nData inicial:  17/02/2023 06:08\nData final:  23/02/2023 02:26\nParcial de notícias:  181608\nData inicial:  17/02/2023 06:08\nData final:  20/02/2023 04:17\nParcial de notícias:  122566\nData inicial:  17/02/2023 06:08\nData final:  18/02/2023 17:12\nParcial de notícias:  85515\nData inicial:  17/02/2023 06:08\nData final:  17/02/2023 23:40\nParcial de notícias:  46878\nData inicial:  17/02/2023 06:08\nData final:  17/02/2023 14:54\nParcial de notícias:  20284\nData inicial:  17/02/2023 06:08\nData final:  17/02/2023 10:31\nfazendo requisicao\nData inicial:  17/02/2023 06:08\nData final:  17/02/2023 08:19\nParcial de notícias:  485995\nData inicial:  17/02/2023 08:19\nData final:  23/02/2023 02:26\nParcial de notícias:  175768\nData inicial:  17/02/2023 08:19\nData final:  20/02/2023 05:22\nParcial de notícias:  118962\nData inicial:  17/02/2023 08:19\nData final:  18/02/2023 18:50\nParcial de notícias:  81947\nData inicial:  17/02/2023 08:19\nData final:  18/02/2023 01:34\nParcial de notícias:  52236\nData inicial:  17/02/2023 08:19\nData final:  17/02/2023 16:56\nParcial de notícias:  27102\nData inicial:  17/02/2023 08:19\nData final:  17/02/2023 12:37\nParcial de notícias:  12917\nData inicial:  17/02/2023 08:19\nData final:  17/02/2023 10:28\nfazendo requisicao\nData inicial:  17/02/2023 08:19\nData final:  17/02/2023 09:23\nParcial de notícias:  485995\nData inicial:  17/02/2023 09:23\nData final:  23/02/2023 02:26\nParcial de notícias:  170226\nData inicial:  17/02/2023 09:23\nData final:  20/02/2023 05:54\nParcial de notícias:  114645\nData inicial:  17/02/2023 09:23\nData final:  18/02/2023 19:38\nParcial de notícias:  76821\nData inicial:  17/02/2023 09:23\nData final:  18/02/2023 02:30\nParcial de notícias:  51828\nData inicial:  17/02/2023 09:23\nData final:  17/02/2023 17:56\nParcial de notícias:  26671\nData inicial:  17/02/2023 09:23\nData final:  17/02/2023 13:39\nParcial de notícias:  13968\nData inicial:  17/02/2023 09:23\nData final:  17/02/2023 11:31\nfazendo requisicao\nData inicial:  17/02/2023 09:23\nData final:  17/02/2023 10:27\nParcial de notícias:  485995\nData inicial:  17/02/2023 10:27\nData final:  23/02/2023 02:26\nParcial de notícias:  164412\nData inicial:  17/02/2023 10:27\nData final:  20/02/2023 06:26\nParcial de notícias:  109705\nData inicial:  17/02/2023 10:27\nData final:  18/02/2023 20:26\nParcial de notícias:  70921\nData inicial:  17/02/2023 10:27\nData final:  18/02/2023 03:26\nParcial de notícias:  50118\nData inicial:  17/02/2023 10:27\nData final:  17/02/2023 18:56\nParcial de notícias:  25842\nData inicial:  17/02/2023 10:27\nData final:  17/02/2023 14:41\nParcial de notícias:  14091\nData inicial:  17/02/2023 10:27\nData final:  17/02/2023 12:34\nfazendo requisicao\nData inicial:  17/02/2023 10:27\nData final:  17/02/2023 11:30\nParcial de notícias:  485995\nData inicial:  17/02/2023 11:30\nData final:  23/02/2023 02:26\nParcial de notícias:  158072\nData inicial:  17/02/2023 11:30\nData final:  20/02/2023 06:58\nParcial de notícias:  104042\nData inicial:  17/02/2023 11:30\nData final:  18/02/2023 21:14\nParcial de notícias:  65358\nData inicial:  17/02/2023 11:30\nData final:  18/02/2023 04:22\nParcial de notícias:  47566\nData inicial:  17/02/2023 11:30\nData final:  17/02/2023 19:56\nParcial de notícias:  25159\nData inicial:  17/02/2023 11:30\nData final:  17/02/2023 15:43\nParcial de notícias:  12739\nData inicial:  17/02/2023 11:30\nData final:  17/02/2023 13:36\nfazendo requisicao\nData inicial:  17/02/2023 11:30\nData final:  17/02/2023 12:33\nParcial de notícias:  485995\nData inicial:  17/02/2023 12:33\nData final:  23/02/2023 02:26\nParcial de notícias:  152457\nData inicial:  17/02/2023 12:33\nData final:  20/02/2023 07:29\nParcial de notícias:  98388\nData inicial:  17/02/2023 12:33\nData final:  18/02/2023 22:01\nParcial de notícias:  59424\nData inicial:  17/02/2023 12:33\nData final:  18/02/2023 05:17\nParcial de notícias:  44640\nData inicial:  17/02/2023 12:33\nData final:  17/02/2023 20:55\nParcial de notícias:  24430\nData inicial:  17/02/2023 12:33\nData final:  17/02/2023 16:44\nParcial de notícias:  11592\nData inicial:  17/02/2023 12:33\nData final:  17/02/2023 14:38\nfazendo requisicao\nData inicial:  17/02/2023 12:33\nData final:  17/02/2023 13:35\nParcial de notícias:  485995\nData inicial:  17/02/2023 13:35\nData final:  23/02/2023 02:26\nParcial de notícias:  148188\nData inicial:  17/02/2023 13:35\nData final:  20/02/2023 08:00\nParcial de notícias:  93768\nData inicial:  17/02/2023 13:35\nData final:  18/02/2023 22:47\nParcial de notícias:  54627\nData inicial:  17/02/2023 13:35\nData final:  18/02/2023 06:11\nParcial de notícias:  41940\nData inicial:  17/02/2023 13:35\nData final:  17/02/2023 21:53\nParcial de notícias:  24434\nData inicial:  17/02/2023 13:35\nData final:  17/02/2023 17:44\nParcial de notícias:  12103\nData inicial:  17/02/2023 13:35\nData final:  17/02/2023 15:39\nfazendo requisicao\nData inicial:  17/02/2023 13:35\nData final:  17/02/2023 14:37\nParcial de notícias:  485995\nData inicial:  17/02/2023 14:37\nData final:  23/02/2023 02:26\nParcial de notícias:  144190\nData inicial:  17/02/2023 14:37\nData final:  20/02/2023 08:31\nParcial de notícias:  89115\nData inicial:  17/02/2023 14:37\nData final:  18/02/2023 23:34\nParcial de notícias:  50143\nData inicial:  17/02/2023 14:37\nData final:  18/02/2023 07:05\nParcial de notícias:  38635\nData inicial:  17/02/2023 14:37\nData final:  17/02/2023 22:51\nParcial de notícias:  23836\nData inicial:  17/02/2023 14:37\nData final:  17/02/2023 18:44\nParcial de notícias:  12657\nData inicial:  17/02/2023 14:37\nData final:  17/02/2023 16:40\nfazendo requisicao\nData inicial:  17/02/2023 14:37\nData final:  17/02/2023 15:38\nParcial de notícias:  485995\nData inicial:  17/02/2023 15:38\nData final:  23/02/2023 02:26\nParcial de notícias:  139985\nData inicial:  17/02/2023 15:38\nData final:  20/02/2023 09:02\nParcial de notícias:  83877\nData inicial:  17/02/2023 15:38\nData final:  19/02/2023 00:20\nParcial de notícias:  45408\nData inicial:  17/02/2023 15:38\nData final:  18/02/2023 07:59\nParcial de notícias:  34336\nData inicial:  17/02/2023 15:38\nData final:  17/02/2023 23:48\nParcial de notícias:  22095\nData inicial:  17/02/2023 15:38\nData final:  17/02/2023 19:43\nParcial de notícias:  12090\nData inicial:  17/02/2023 15:38\nData final:  17/02/2023 17:40\nfazendo requisicao\nData inicial:  17/02/2023 15:38\nData final:  17/02/2023 16:39\nParcial de notícias:  485995\nData inicial:  17/02/2023 16:39\nData final:  23/02/2023 02:26\nParcial de notícias:  135682\nData inicial:  17/02/2023 16:39\nData final:  20/02/2023 09:32\nParcial de notícias:  78392\nData inicial:  17/02/2023 16:39\nData final:  19/02/2023 01:05\nParcial de notícias:  41529\nData inicial:  17/02/2023 16:39\nData final:  18/02/2023 08:52\nParcial de notícias:  30029\nData inicial:  17/02/2023 16:39\nData final:  18/02/2023 00:45\nParcial de notícias:  19936\nData inicial:  17/02/2023 16:39\nData final:  17/02/2023 20:42\nParcial de notícias:  11107\nData inicial:  17/02/2023 16:39\nData final:  17/02/2023 18:40\nfazendo requisicao\nData inicial:  17/02/2023 16:39\nData final:  17/02/2023 17:39\nParcial de notícias:  485995\nData inicial:  17/02/2023 17:39\nData final:  23/02/2023 02:26\nParcial de notícias:  132170\nData inicial:  17/02/2023 17:39\nData final:  20/02/2023 10:02\nParcial de notícias:  73306\nData inicial:  17/02/2023 17:39\nData final:  19/02/2023 01:50\nParcial de notícias:  38215\nData inicial:  17/02/2023 17:39\nData final:  18/02/2023 09:44\nParcial de notícias:  25750\nData inicial:  17/02/2023 17:39\nData final:  18/02/2023 01:41\nParcial de notícias:  17313\nData inicial:  17/02/2023 17:39\nData final:  17/02/2023 21:40\nfazendo requisicao\nData inicial:  17/02/2023 17:39\nData final:  17/02/2023 19:39\nParcial de notícias:  485995\nData inicial:  17/02/2023 19:39\nData final:  23/02/2023 02:26\nParcial de notícias:  126820\nData inicial:  17/02/2023 19:39\nData final:  20/02/2023 11:02\nParcial de notícias:  64801\nData inicial:  17/02/2023 19:39\nData final:  19/02/2023 03:20\nParcial de notícias:  33805\nData inicial:  17/02/2023 19:39\nData final:  18/02/2023 11:29\nParcial de notícias:  17672\nData inicial:  17/02/2023 19:39\nData final:  18/02/2023 03:34\nParcial de notícias:  12228\nData inicial:  17/02/2023 19:39\nData final:  17/02/2023 23:36\nfazendo requisicao\nData inicial:  17/02/2023 19:39\nData final:  17/02/2023 21:37\nParcial de notícias:  485995\nData inicial:  17/02/2023 21:37\nData final:  23/02/2023 02:26\nParcial de notícias:  123970\nData inicial:  17/02/2023 21:37\nData final:  20/02/2023 12:01\nParcial de notícias:  58721\nData inicial:  17/02/2023 21:37\nData final:  19/02/2023 04:49\nParcial de notícias:  32028\nData inicial:  17/02/2023 21:37\nData final:  18/02/2023 13:13\nParcial de notícias:  12734\nData inicial:  17/02/2023 21:37\nData final:  18/02/2023 05:25\nfazendo requisicao\nData inicial:  17/02/2023 21:37\nData final:  18/02/2023 01:31\nParcial de notícias:  485995\nData inicial:  18/02/2023 01:31\nData final:  23/02/2023 02:26\nParcial de notícias:  123276\nData inicial:  18/02/2023 01:31\nData final:  20/02/2023 13:58\nParcial de notícias:  53013\nData inicial:  18/02/2023 01:31\nData final:  19/02/2023 07:44\nParcial de notícias:  32549\nData inicial:  18/02/2023 01:31\nData final:  18/02/2023 16:37\nParcial de notícias:  11054\nData inicial:  18/02/2023 01:31\nData final:  18/02/2023 09:04\nfazendo requisicao\nData inicial:  18/02/2023 01:31\nData final:  18/02/2023 05:17\nParcial de notícias:  485995\nData inicial:  18/02/2023 05:17\nData final:  23/02/2023 02:26\nParcial de notícias:  126574\nData inicial:  18/02/2023 05:17\nData final:  20/02/2023 15:51\nParcial de notícias:  54677\nData inicial:  18/02/2023 05:17\nData final:  19/02/2023 10:34\nParcial de notícias:  35159\nData inicial:  18/02/2023 05:17\nData final:  18/02/2023 19:55\nParcial de notícias:  17541\nData inicial:  18/02/2023 05:17\nData final:  18/02/2023 12:36\nfazendo requisicao\nData inicial:  18/02/2023 05:17\nData final:  18/02/2023 08:56\nParcial de notícias:  485995\nData inicial:  18/02/2023 08:56\nData final:  23/02/2023 02:26\nParcial de notícias:  127589\nData inicial:  18/02/2023 08:56\nData final:  20/02/2023 17:41\nParcial de notícias:  55210\nData inicial:  18/02/2023 08:56\nData final:  19/02/2023 13:18\nParcial de notícias:  34359\nData inicial:  18/02/2023 08:56\nData final:  18/02/2023 23:07\nParcial de notícias:  20827\nData inicial:  18/02/2023 08:56\nData final:  18/02/2023 16:01\nParcial de notícias:  10962\nData inicial:  18/02/2023 08:56\nData final:  18/02/2023 12:28\nfazendo requisicao\nData inicial:  18/02/2023 08:56\nData final:  18/02/2023 10:42\nParcial de notícias:  485995\nData inicial:  18/02/2023 10:42\nData final:  23/02/2023 02:26\nParcial de notícias:  125460\nData inicial:  18/02/2023 10:42\nData final:  20/02/2023 18:34\nParcial de notícias:  53335\nData inicial:  18/02/2023 10:42\nData final:  19/02/2023 14:38\nParcial de notícias:  31093\nData inicial:  18/02/2023 10:42\nData final:  19/02/2023 00:40\nParcial de notícias:  18986\nData inicial:  18/02/2023 10:42\nData final:  18/02/2023 17:41\nParcial de notícias:  10762\nData inicial:  18/02/2023 10:42\nData final:  18/02/2023 14:11\nfazendo requisicao\nData inicial:  18/02/2023 10:42\nData final:  18/02/2023 12:26\nParcial de notícias:  485995\nData inicial:  18/02/2023 12:26\nData final:  23/02/2023 02:26\nParcial de notícias:  122633\nData inicial:  18/02/2023 12:26\nData final:  20/02/2023 19:26\nParcial de notícias:  50844\nData inicial:  18/02/2023 12:26\nData final:  19/02/2023 15:56\nParcial de notícias:  26904\nData inicial:  18/02/2023 12:26\nData final:  19/02/2023 02:11\nParcial de notícias:  16923\nData inicial:  18/02/2023 12:26\nData final:  18/02/2023 19:18\nfazendo requisicao\nData inicial:  18/02/2023 12:26\nData final:  18/02/2023 15:52\nParcial de notícias:  485995\nData inicial:  18/02/2023 15:52\nData final:  23/02/2023 02:26\nParcial de notícias:  117936\nData inicial:  18/02/2023 15:52\nData final:  20/02/2023 21:09\nParcial de notícias:  47161\nData inicial:  18/02/2023 15:52\nData final:  19/02/2023 18:30\nParcial de notícias:  19825\nData inicial:  18/02/2023 15:52\nData final:  19/02/2023 05:11\nParcial de notícias:  13160\nData inicial:  18/02/2023 15:52\nData final:  18/02/2023 22:31\nfazendo requisicao\nData inicial:  18/02/2023 15:52\nData final:  18/02/2023 19:11\nParcial de notícias:  485995\nData inicial:  18/02/2023 19:11\nData final:  23/02/2023 02:26\nParcial de notícias:  113930\nData inicial:  18/02/2023 19:11\nData final:  20/02/2023 22:48\nParcial de notícias:  45058\nData inicial:  18/02/2023 19:11\nData final:  19/02/2023 20:59\nParcial de notícias:  15745\nData inicial:  18/02/2023 19:11\nData final:  19/02/2023 08:05\nfazendo requisicao\nData inicial:  18/02/2023 19:11\nData final:  19/02/2023 01:38\nParcial de notícias:  485995\nData inicial:  19/02/2023 01:38\nData final:  23/02/2023 02:26\nParcial de notícias:  108899\nData inicial:  19/02/2023 01:38\nData final:  21/02/2023 02:02\nParcial de notícias:  42491\nData inicial:  19/02/2023 01:38\nData final:  20/02/2023 01:50\nParcial de notícias:  19049\nData inicial:  19/02/2023 01:38\nData final:  19/02/2023 13:44\nfazendo requisicao\nData inicial:  19/02/2023 01:38\nData final:  19/02/2023 07:41\nParcial de notícias:  485995\nData inicial:  19/02/2023 07:41\nData final:  23/02/2023 02:26\nParcial de notícias:  107230\nData inicial:  19/02/2023 07:41\nData final:  21/02/2023 05:03\nParcial de notícias:  42352\nData inicial:  19/02/2023 07:41\nData final:  20/02/2023 06:22\nParcial de notícias:  26238\nData inicial:  19/02/2023 07:41\nData final:  19/02/2023 19:01\nParcial de notícias:  12881\nData inicial:  19/02/2023 07:41\nData final:  19/02/2023 13:21\nfazendo requisicao\nData inicial:  19/02/2023 07:41\nData final:  19/02/2023 10:31\nParcial de notícias:  485995\nData inicial:  19/02/2023 10:31\nData final:  23/02/2023 02:26\nParcial de notícias:  103071\nData inicial:  19/02/2023 10:31\nData final:  21/02/2023 06:28\nParcial de notícias:  41451\nData inicial:  19/02/2023 10:31\nData final:  20/02/2023 08:29\nParcial de notícias:  25282\nData inicial:  19/02/2023 10:31\nData final:  19/02/2023 21:30\nParcial de notícias:  13528\nData inicial:  19/02/2023 10:31\nData final:  19/02/2023 16:00\nfazendo requisicao\nData inicial:  19/02/2023 10:31\nData final:  19/02/2023 13:15\nParcial de notícias:  485995\nData inicial:  19/02/2023 13:15\nData final:  23/02/2023 02:26\nParcial de notícias:  99502\nData inicial:  19/02/2023 13:15\nData final:  21/02/2023 07:50\nParcial de notícias:  43318\nData inicial:  19/02/2023 13:15\nData final:  20/02/2023 10:32\nParcial de notícias:  22167\nData inicial:  19/02/2023 13:15\nData final:  19/02/2023 23:53\nParcial de notícias:  12647\nData inicial:  19/02/2023 13:15\nData final:  19/02/2023 18:34\nfazendo requisicao\nData inicial:  19/02/2023 13:15\nData final:  19/02/2023 15:54\nParcial de notícias:  485995\nData inicial:  19/02/2023 15:54\nData final:  23/02/2023 02:26\nParcial de notícias:  97478\nData inicial:  19/02/2023 15:54\nData final:  21/02/2023 09:10\nParcial de notícias:  45728\nData inicial:  19/02/2023 15:54\nData final:  20/02/2023 12:32\nParcial de notícias:  18696\nData inicial:  19/02/2023 15:54\nData final:  20/02/2023 02:13\nParcial de notícias:  11182\nData inicial:  19/02/2023 15:54\nData final:  19/02/2023 21:03\nfazendo requisicao\nData inicial:  19/02/2023 15:54\nData final:  19/02/2023 18:28\nParcial de notícias:  485995\nData inicial:  19/02/2023 18:28\nData final:  23/02/2023 02:26\nParcial de notícias:  96333\nData inicial:  19/02/2023 18:28\nData final:  21/02/2023 10:27\nParcial de notícias:  47369\nData inicial:  19/02/2023 18:28\nData final:  20/02/2023 14:27\nParcial de notícias:  14980\nData inicial:  19/02/2023 18:28\nData final:  20/02/2023 04:27\nfazendo requisicao\nData inicial:  19/02/2023 18:28\nData final:  19/02/2023 23:27\nParcial de notícias:  485995\nData inicial:  19/02/2023 23:27\nData final:  23/02/2023 02:26\nParcial de notícias:  96710\nData inicial:  19/02/2023 23:27\nData final:  21/02/2023 12:56\nParcial de notícias:  52693\nData inicial:  19/02/2023 23:27\nData final:  20/02/2023 18:11\nParcial de notícias:  14475\nData inicial:  19/02/2023 23:27\nData final:  20/02/2023 08:49\nfazendo requisicao\nData inicial:  19/02/2023 23:27\nData final:  20/02/2023 04:08\nParcial de notícias:  485995\nData inicial:  20/02/2023 04:08\nData final:  23/02/2023 02:26\nParcial de notícias:  99392\nData inicial:  20/02/2023 04:08\nData final:  21/02/2023 15:17\nParcial de notícias:  57258\nData inicial:  20/02/2023 04:08\nData final:  20/02/2023 21:42\nParcial de notícias:  26562\nData inicial:  20/02/2023 04:08\nData final:  20/02/2023 12:55\nfazendo requisicao\nData inicial:  20/02/2023 04:08\nData final:  20/02/2023 08:31\nParcial de notícias:  485995\nData inicial:  20/02/2023 08:31\nData final:  23/02/2023 02:26\nParcial de notícias:  98619\nData inicial:  20/02/2023 08:31\nData final:  21/02/2023 17:28\nParcial de notícias:  54847\nData inicial:  20/02/2023 08:31\nData final:  21/02/2023 00:59\nParcial de notícias:  33873\nData inicial:  20/02/2023 08:31\nData final:  20/02/2023 16:45\nParcial de notícias:  17697\nData inicial:  20/02/2023 08:31\nData final:  20/02/2023 12:38\nfazendo requisicao\nData inicial:  20/02/2023 08:31\nData final:  20/02/2023 10:34\nParcial de notícias:  485995\nData inicial:  20/02/2023 10:34\nData final:  23/02/2023 02:26\nParcial de notícias:  93368\nData inicial:  20/02/2023 10:34\nData final:  21/02/2023 18:30\nParcial de notícias:  48079\nData inicial:  20/02/2023 10:34\nData final:  21/02/2023 02:32\nParcial de notícias:  32142\nData inicial:  20/02/2023 10:34\nData final:  20/02/2023 18:33\nParcial de notícias:  16781\nData inicial:  20/02/2023 10:34\nData final:  20/02/2023 14:33\nfazendo requisicao\nData inicial:  20/02/2023 10:34\nData final:  20/02/2023 12:33\nParcial de notícias:  485995\nData inicial:  20/02/2023 12:33\nData final:  23/02/2023 02:26\nParcial de notícias:  87340\nData inicial:  20/02/2023 12:33\nData final:  21/02/2023 19:29\nParcial de notícias:  40987\nData inicial:  20/02/2023 12:33\nData final:  21/02/2023 04:01\nParcial de notícias:  28787\nData inicial:  20/02/2023 12:33\nData final:  20/02/2023 20:17\nParcial de notícias:  15304\nData inicial:  20/02/2023 12:33\nData final:  20/02/2023 16:25\nfazendo requisicao\nData inicial:  20/02/2023 12:33\nData final:  20/02/2023 14:29\nParcial de notícias:  485995\nData inicial:  20/02/2023 14:29\nData final:  23/02/2023 02:26\nParcial de notícias:  82380\nData inicial:  20/02/2023 14:29\nData final:  21/02/2023 20:27\nParcial de notícias:  35154\nData inicial:  20/02/2023 14:29\nData final:  21/02/2023 05:28\nParcial de notícias:  24960\nData inicial:  20/02/2023 14:29\nData final:  20/02/2023 21:58\nParcial de notícias:  14502\nData inicial:  20/02/2023 14:29\nData final:  20/02/2023 18:13\nfazendo requisicao\nData inicial:  20/02/2023 14:29\nData final:  20/02/2023 16:21\nParcial de notícias:  485995\nData inicial:  20/02/2023 16:21\nData final:  23/02/2023 02:26\nParcial de notícias:  77192\nData inicial:  20/02/2023 16:21\nData final:  21/02/2023 21:23\nParcial de notícias:  29743\nData inicial:  20/02/2023 16:21\nData final:  21/02/2023 06:52\nParcial de notícias:  20274\nData inicial:  20/02/2023 16:21\nData final:  20/02/2023 23:36\nParcial de notícias:  12755\nData inicial:  20/02/2023 16:21\nData final:  20/02/2023 19:58\nfazendo requisicao\nData inicial:  20/02/2023 16:21\nData final:  20/02/2023 18:09\nParcial de notícias:  485995\nData inicial:  20/02/2023 18:09\nData final:  23/02/2023 02:26\nParcial de notícias:  72176\nData inicial:  20/02/2023 18:09\nData final:  21/02/2023 22:17\nParcial de notícias:  26595\nData inicial:  20/02/2023 18:09\nData final:  21/02/2023 08:13\nParcial de notícias:  16017\nData inicial:  20/02/2023 18:09\nData final:  21/02/2023 01:11\nParcial de notícias:  10171\nData inicial:  20/02/2023 18:09\nData final:  20/02/2023 21:40\nfazendo requisicao\nData inicial:  20/02/2023 18:09\nData final:  20/02/2023 19:54\nParcial de notícias:  485995\nData inicial:  20/02/2023 19:54\nData final:  23/02/2023 02:26\nParcial de notícias:  67936\nData inicial:  20/02/2023 19:54\nData final:  21/02/2023 23:10\nParcial de notícias:  25400\nData inicial:  20/02/2023 19:54\nData final:  21/02/2023 09:32\nParcial de notícias:  11738\nData inicial:  20/02/2023 19:54\nData final:  21/02/2023 02:43\nfazendo requisicao\nData inicial:  20/02/2023 19:54\nData final:  20/02/2023 23:18\nParcial de notícias:  485995\nData inicial:  20/02/2023 23:18\nData final:  23/02/2023 02:26\nParcial de notícias:  63090\nData inicial:  20/02/2023 23:18\nData final:  22/02/2023 00:52\nParcial de notícias:  28231\nData inicial:  20/02/2023 23:18\nData final:  21/02/2023 12:05\nfazendo requisicao\nData inicial:  20/02/2023 23:18\nData final:  21/02/2023 05:41\nParcial de notícias:  485995\nData inicial:  21/02/2023 05:41\nData final:  23/02/2023 02:26\nParcial de notícias:  58248\nData inicial:  21/02/2023 05:41\nData final:  22/02/2023 04:03\nParcial de notícias:  36400\nData inicial:  21/02/2023 05:41\nData final:  21/02/2023 16:52\nParcial de notícias:  16799\nData inicial:  21/02/2023 05:41\nData final:  21/02/2023 11:16\nfazendo requisicao\nData inicial:  21/02/2023 05:41\nData final:  21/02/2023 08:28\nParcial de notícias:  485995\nData inicial:  21/02/2023 08:28\nData final:  23/02/2023 02:26\nParcial de notícias:  53456\nData inicial:  21/02/2023 08:28\nData final:  22/02/2023 05:27\nParcial de notícias:  36684\nData inicial:  21/02/2023 08:28\nData final:  21/02/2023 18:57\nParcial de notícias:  19503\nData inicial:  21/02/2023 08:28\nData final:  21/02/2023 13:42\nfazendo requisicao\nData inicial:  21/02/2023 08:28\nData final:  21/02/2023 11:05\nParcial de notícias:  485995\nData inicial:  21/02/2023 11:05\nData final:  23/02/2023 02:26\nParcial de notícias:  45540\nData inicial:  21/02/2023 11:05\nData final:  22/02/2023 06:45\nParcial de notícias:  32154\nData inicial:  21/02/2023 11:05\nData final:  21/02/2023 20:55\nParcial de notícias:  17631\nData inicial:  21/02/2023 11:05\nData final:  21/02/2023 16:00\nfazendo requisicao\nData inicial:  21/02/2023 11:05\nData final:  21/02/2023 13:32\nParcial de notícias:  485995\nData inicial:  21/02/2023 13:32\nData final:  23/02/2023 02:26\nParcial de notícias:  39726\nData inicial:  21/02/2023 13:32\nData final:  22/02/2023 07:59\nParcial de notícias:  26873\nData inicial:  21/02/2023 13:32\nData final:  21/02/2023 22:45\nParcial de notícias:  15439\nData inicial:  21/02/2023 13:32\nData final:  21/02/2023 18:08\nfazendo requisicao\nData inicial:  21/02/2023 13:32\nData final:  21/02/2023 15:50\nParcial de notícias:  485995\nData inicial:  21/02/2023 15:50\nData final:  23/02/2023 02:26\nParcial de notícias:  36815\nData inicial:  21/02/2023 15:50\nData final:  22/02/2023 09:08\nParcial de notícias:  21457\nData inicial:  21/02/2023 15:50\nData final:  22/02/2023 00:29\nParcial de notícias:  13197\nData inicial:  21/02/2023 15:50\nData final:  21/02/2023 20:09\nfazendo requisicao\nData inicial:  21/02/2023 15:50\nData final:  21/02/2023 17:59\nParcial de notícias:  485995\nData inicial:  21/02/2023 17:59\nData final:  23/02/2023 02:26\nParcial de notícias:  35294\nData inicial:  21/02/2023 17:59\nData final:  22/02/2023 10:12\nParcial de notícias:  16572\nData inicial:  21/02/2023 17:59\nData final:  22/02/2023 02:05\nParcial de notícias:  10819\nData inicial:  21/02/2023 17:59\nData final:  21/02/2023 22:02\nfazendo requisicao\nData inicial:  21/02/2023 17:59\nData final:  21/02/2023 20:00\nParcial de notícias:  485995\nData inicial:  21/02/2023 20:00\nData final:  23/02/2023 02:26\nParcial de notícias:  34967\nData inicial:  21/02/2023 20:00\nData final:  22/02/2023 11:13\nParcial de notícias:  11819\nData inicial:  21/02/2023 20:00\nData final:  22/02/2023 03:36\nfazendo requisicao\nData inicial:  21/02/2023 20:00\nData final:  21/02/2023 23:48\nParcial de notícias:  485995\nData inicial:  21/02/2023 23:48\nData final:  23/02/2023 02:26\nParcial de notícias:  36859\nData inicial:  21/02/2023 23:48\nData final:  22/02/2023 13:07\nfazendo requisicao\nData inicial:  21/02/2023 23:48\nData final:  22/02/2023 06:27\nParcial de notícias:  485995\nData inicial:  22/02/2023 06:27\nData final:  23/02/2023 02:26\nParcial de notícias:  45204\nData inicial:  22/02/2023 06:27\nData final:  22/02/2023 16:26\nParcial de notícias:  20883\nData inicial:  22/02/2023 06:27\nData final:  22/02/2023 11:26\nfazendo requisicao\nData inicial:  22/02/2023 06:27\nData final:  22/02/2023 08:56\nParcial de notícias:  485995\nData inicial:  22/02/2023 08:56\nData final:  23/02/2023 02:26\nParcial de notícias:  43407\nData inicial:  22/02/2023 08:56\nData final:  22/02/2023 17:41\nParcial de notícias:  22548\nData inicial:  22/02/2023 08:56\nData final:  22/02/2023 13:18\nParcial de notícias:  11472\nData inicial:  22/02/2023 08:56\nData final:  22/02/2023 11:07\nfazendo requisicao\nData inicial:  22/02/2023 08:56\nData final:  22/02/2023 10:01\nParcial de notícias:  485995\nData inicial:  22/02/2023 10:01\nData final:  23/02/2023 02:26\nParcial de notícias:  40142\nData inicial:  22/02/2023 10:01\nData final:  22/02/2023 18:13\nParcial de notícias:  20908\nData inicial:  22/02/2023 10:01\nData final:  22/02/2023 14:07\nParcial de notícias:  11430\nData inicial:  22/02/2023 10:01\nData final:  22/02/2023 12:04\nfazendo requisicao\nData inicial:  22/02/2023 10:01\nData final:  22/02/2023 11:02\nParcial de notícias:  485995\nData inicial:  22/02/2023 11:02\nData final:  23/02/2023 02:26\nParcial de notícias:  36703\nData inicial:  22/02/2023 11:02\nData final:  22/02/2023 18:44\nParcial de notícias:  19362\nData inicial:  22/02/2023 11:02\nData final:  22/02/2023 14:53\nfazendo requisicao\nData inicial:  22/02/2023 11:02\nData final:  22/02/2023 12:57\nParcial de notícias:  485995\nData inicial:  22/02/2023 12:57\nData final:  23/02/2023 02:26\nParcial de notícias:  30069\nData inicial:  22/02/2023 12:57\nData final:  22/02/2023 19:41\nParcial de notícias:  16308\nData inicial:  22/02/2023 12:57\nData final:  22/02/2023 16:19\nfazendo requisicao\nData inicial:  22/02/2023 12:57\nData final:  22/02/2023 14:38\nParcial de notícias:  485995\nData inicial:  22/02/2023 14:38\nData final:  23/02/2023 02:26\nParcial de notícias:  24491\nData inicial:  22/02/2023 14:38\nData final:  22/02/2023 20:32\nParcial de notícias:  14057\nData inicial:  22/02/2023 14:38\nData final:  22/02/2023 17:35\nfazendo requisicao\nData inicial:  22/02/2023 14:38\nData final:  22/02/2023 16:06\nParcial de notícias:  485995\nData inicial:  22/02/2023 16:06\nData final:  23/02/2023 02:26\nParcial de notícias:  18664\nData inicial:  22/02/2023 16:06\nData final:  22/02/2023 21:16\nParcial de notícias:  11284\nData inicial:  22/02/2023 16:06\nData final:  22/02/2023 18:41\nfazendo requisicao\nData inicial:  22/02/2023 16:06\nData final:  22/02/2023 17:23\nParcial de notícias:  485995\nData inicial:  22/02/2023 17:23\nData final:  23/02/2023 02:26\nParcial de notícias:  13455\nData inicial:  22/02/2023 17:23\nData final:  22/02/2023 21:54\nfazendo requisicao\nData inicial:  22/02/2023 17:23\nData final:  22/02/2023 19:38\nParcial de notícias:  485995\nData inicial:  22/02/2023 19:38\nData final:  23/02/2023 02:26\nfazendo requisicao\nData inicial:  22/02/2023 19:38\nData final:  22/02/2023 23:02\nTotal de notícias:  85\nfazendo requisicao\nData inicial:  16/02/2023 02:26\nData final:  23/02/2023 02:26\nTotal de notícias:  89\nfazendo requisicao\nData inicial:  16/02/2023 02:26\nData final:  23/02/2023 02:26\nTotal de notícias:  241\nfazendo requisicao\nData inicial:  16/02/2023 02:26\nData final:  23/02/2023 02:26\nTotal de notícias:  134\nfazendo requisicao\nData inicial:  16/02/2023 02:26\nData final:  23/02/2023 02:26\n</div>",
       "datasetInfos": [],
       "metadata": {},
       "removedWidgets": [],
       "type": "html"
      }
     },
     "output_type": "display_data"
    }
   ],
   "source": [
    "#SALVANDO EM: /tmp/dev/uld/API_InGuru/inguro_vig_acidente_trab_NOME_DO_NO\n",
    "# /tmp/dev/uld/API_InGuru/inguro_vig_acidente_trab_NODO_RAIZ\n",
    "# /tmp/dev/uld/API_InGuru/inguro_vig_acidente_trab_Acidentes_de_Trabalho_Judicializados\n",
    "# /tmp/dev/uld/API_I\n",
    "\n",
    "graph_ids = []\n",
    "graph_names = []\n",
    "graph_dfs = []\n",
    "\n",
    "nodeID = '930' #Declaração do ID\n",
    "\n",
    "url_nodeID = 'https://app.inguru.me/api/v1/taxonomies/nodes/'+str(nodeID)\n",
    "IDs = API_INGURU(url = url_nodeID, per_page=1, start_date='', end_date='')['data'][0]\n",
    "graph_ids.append(IDs['id'])\n",
    "graph_names.append(IDs['name'].replace(\" \", \"_\"))\n",
    "\n",
    "#Passa por cada \"filho\" no nó principal, caso não tenha nenhum, nada acontece.\n",
    "for node_children in IDs['children']:\n",
    "  graph_ids.append(node_children['id'])\n",
    "  graph_names.append(node_children['name'].replace(\" \", \"_\"))\n",
    "\n",
    "#Obtém as notícias de cada nó encontrado começando pelo nó principal.\n",
    "#Cria um df com as notícias obtidas e salva em um array de dfs.\n",
    "end_date = datetime.now().strftime(\"%d/%m/%Y %H:%M\")\n",
    "start_date = (datetime.now() - timedelta(days=7)).strftime(\"%d/%m/%Y %H:%M\")\n",
    "for id in graph_ids:\n",
    "  url = 'https://app.inguru.me/api/v1/taxonomies/nodes/news/'+str(id)\n",
    "  temp_df = get_news(start_date,end_date, id).fillna(\"Não informado\")\n",
    "  graph_dfs.append(spark.createDataFrame(temp_df))\n"
   ]
  },
  {
   "cell_type": "code",
   "execution_count": 0,
   "metadata": {
    "application/vnd.databricks.v1+cell": {
     "cellMetadata": {},
     "inputWidgets": {},
     "nuid": "d39d32f4-70ab-4952-9128-4c0ca6c9c654",
     "showTitle": false,
     "title": ""
    }
   },
   "outputs": [
    {
     "output_type": "display_data",
     "data": {
      "text/html": [
       "<style scoped>\n  .ansiout {\n    display: block;\n    unicode-bidi: embed;\n    white-space: pre-wrap;\n    word-wrap: break-word;\n    word-break: break-all;\n    font-family: \"Source Code Pro\", \"Menlo\", monospace;;\n    font-size: 13px;\n    color: #555;\n    margin-left: 4px;\n    line-height: 19px;\n  }\n</style>\n<div class=\"ansiout\"></div>"
      ]
     },
     "metadata": {
      "application/vnd.databricks.v1+output": {
       "addedWidgets": {},
       "arguments": {},
       "data": "<div class=\"ansiout\"></div>",
       "datasetInfos": [],
       "metadata": {},
       "removedWidgets": [],
       "type": "html"
      }
     },
     "output_type": "display_data"
    }
   ],
   "source": [
    "#Inserção de hora nas tabelas.\n",
    "dh_insertion_raw = var_adf[\"adf_trigger_time\"].split(\".\")[0] #Obtendo hora do sistema\n",
    "\n",
    "for i in range(len(graph_dfs)):\n",
    "  graph_dfs[i] = graph_dfs[i].withColumn(\"dh_insertion_raw\", f.lit(dh_insertion_raw).cast(\"string\")) #Gravando hora em cada um dos dataframes"
   ]
  },
  {
   "cell_type": "code",
   "execution_count": 0,
   "metadata": {
    "application/vnd.databricks.v1+cell": {
     "cellMetadata": {},
     "inputWidgets": {},
     "nuid": "04f957fc-d671-4185-a4f0-722a8888317a",
     "showTitle": false,
     "title": ""
    }
   },
   "outputs": [
    {
     "output_type": "display_data",
     "data": {
      "text/html": [
       "<style scoped>\n  .ansiout {\n    display: block;\n    unicode-bidi: embed;\n    white-space: pre-wrap;\n    word-wrap: break-word;\n    word-break: break-all;\n    font-family: \"Source Code Pro\", \"Menlo\", monospace;;\n    font-size: 13px;\n    color: #555;\n    margin-left: 4px;\n    line-height: 19px;\n  }\n</style>"
      ]
     },
     "metadata": {
      "application/vnd.databricks.v1+output": {
       "arguments": {},
       "data": "",
       "errorSummary": "The spark driver has stopped unexpectedly and is restarting. Your notebook will be automatically reattached.",
       "errorTraceType": "html",
       "metadata": {},
       "type": "ipynbError"
      }
     },
     "output_type": "display_data"
    }
   ],
   "source": [
    "path = source_lnd + \"_\" + str(graph_names[0])\n",
    "old_df = load_big_df(path)\n",
    "max_date = old_df.select(f.max(\"crawled_date\")).collect()[0][0]\n",
    "min_date = max_date - timedelta(days=7)\n",
    "print(max_date, min_date)\n",
    "old_df.filter(old_df[\"crawled_date\"] > min_date)\n",
    "diff_df = graph_dfs[0].join(old_df, on='id', how='left_anti')\n",
    "diff_df.write.parquet(path, 'append')"
   ]
  },
  {
   "cell_type": "code",
   "execution_count": 0,
   "metadata": {
    "application/vnd.databricks.v1+cell": {
     "cellMetadata": {},
     "inputWidgets": {},
     "nuid": "c851664a-be95-4dc0-b7a3-eea12d391f5a",
     "showTitle": false,
     "title": ""
    }
   },
   "outputs": [
    {
     "output_type": "display_data",
     "data": {
      "text/html": [
       "<style scoped>\n  .ansiout {\n    display: block;\n    unicode-bidi: embed;\n    white-space: pre-wrap;\n    word-wrap: break-word;\n    word-break: break-all;\n    font-family: \"Source Code Pro\", \"Menlo\", monospace;;\n    font-size: 13px;\n    color: #555;\n    margin-left: 4px;\n    line-height: 19px;\n  }\n</style>"
      ]
     },
     "metadata": {
      "application/vnd.databricks.v1+output": {
       "arguments": {},
       "data": "",
       "errorSummary": "The spark driver has stopped unexpectedly and is restarting. Your notebook will be automatically reattached.",
       "errorTraceType": "html",
       "metadata": {},
       "type": "ipynbError"
      }
     },
     "output_type": "display_data"
    }
   ],
   "source": [
    "#Adição de novos registros\n",
    "\n",
    "for i in range(len(graph_dfs)):\n",
    "  path = source_lnd + \"_\" + str(graph_names[i])\n",
    "  old_df = load_big_df(path)\n",
    "#   old_df = spark.read.parquet(path)\n",
    "  max_date = old_df.select(f.max(\"crawled_date\")).collect()[0][0]\n",
    "  \n",
    "  min_date = max_date - timedelta(days=7)\n",
    "  print(max_date, min_date)\n",
    "  old_df.filter(old_df[\"crawled_date\"] > min_date)\n",
    "  \n",
    "  diff_df = graph_dfs[i].join(old_df, on='id', how='left_anti')\n",
    "  \n",
    "  diff_df.write.parquet(path, 'append')"
   ]
  },
  {
   "cell_type": "code",
   "execution_count": 0,
   "metadata": {
    "application/vnd.databricks.v1+cell": {
     "cellMetadata": {},
     "inputWidgets": {},
     "nuid": "bea1c065-e4a0-47b5-8114-a94330ad4784",
     "showTitle": false,
     "title": ""
    }
   },
   "outputs": [
    {
     "output_type": "display_data",
     "data": {
      "text/html": [
       "<style scoped>\n  .ansiout {\n    display: block;\n    unicode-bidi: embed;\n    white-space: pre-wrap;\n    word-wrap: break-word;\n    word-break: break-all;\n    font-family: \"Source Code Pro\", \"Menlo\", monospace;;\n    font-size: 13px;\n    color: #555;\n    margin-left: 4px;\n    line-height: 19px;\n  }\n</style>\n<div class=\"ansiout\"></div>"
      ]
     },
     "metadata": {
      "application/vnd.databricks.v1+output": {
       "addedWidgets": {},
       "arguments": {},
       "data": "<div class=\"ansiout\"></div>",
       "datasetInfos": [],
       "metadata": {},
       "removedWidgets": [],
       "type": "html"
      }
     },
     "output_type": "display_data"
    },
    {
     "output_type": "display_data",
     "data": {
      "text/html": [
       "<style scoped>\n  .ansiout {\n    display: block;\n    unicode-bidi: embed;\n    white-space: pre-wrap;\n    word-wrap: break-word;\n    word-break: break-all;\n    font-family: \"Source Code Pro\", \"Menlo\", monospace;;\n    font-size: 13px;\n    color: #555;\n    margin-left: 4px;\n    line-height: 19px;\n  }\n</style>"
      ]
     },
     "metadata": {
      "application/vnd.databricks.v1+output": {
       "arguments": {},
       "data": "",
       "errorSummary": "Cancelled",
       "errorTraceType": "html",
       "metadata": {},
       "type": "ipynbError"
      }
     },
     "output_type": "display_data"
    }
   ],
   "source": [
    "# CARREGAMENTO DAS TABELAS PARA VER SE FORAM SALVAS CORRETAMENTE\n",
    "test_dfs = []\n",
    "for i, df in enumerate(graph_dfs):\n",
    "  path = source_lnd + \"_\" + str(graph_names[i])\n",
    "  test_dfs.append(spark.read.parquet(path))\n",
    "  print(path)"
   ]
  },
  {
   "cell_type": "code",
   "execution_count": 0,
   "metadata": {
    "application/vnd.databricks.v1+cell": {
     "cellMetadata": {},
     "inputWidgets": {},
     "nuid": "97dbf97e-f81f-47af-98b7-49a3cac6ce28",
     "showTitle": false,
     "title": ""
    }
   },
   "outputs": [
    {
     "output_type": "display_data",
     "data": {
      "text/html": [
       "<style scoped>\n  .ansiout {\n    display: block;\n    unicode-bidi: embed;\n    white-space: pre-wrap;\n    word-wrap: break-word;\n    word-break: break-all;\n    font-family: \"Source Code Pro\", \"Menlo\", monospace;;\n    font-size: 13px;\n    color: #555;\n    margin-left: 4px;\n    line-height: 19px;\n  }\n</style>\n<div class=\"ansiout\"></div>"
      ]
     },
     "metadata": {
      "application/vnd.databricks.v1+output": {
       "addedWidgets": {},
       "arguments": {},
       "data": "<div class=\"ansiout\"></div>",
       "datasetInfos": [],
       "metadata": {},
       "removedWidgets": [],
       "type": "html"
      }
     },
     "output_type": "display_data"
    },
    {
     "output_type": "display_data",
     "data": {
      "text/html": [
       "<style scoped>\n  .ansiout {\n    display: block;\n    unicode-bidi: embed;\n    white-space: pre-wrap;\n    word-wrap: break-word;\n    word-break: break-all;\n    font-family: \"Source Code Pro\", \"Menlo\", monospace;;\n    font-size: 13px;\n    color: #555;\n    margin-left: 4px;\n    line-height: 19px;\n  }\n</style>"
      ]
     },
     "metadata": {
      "application/vnd.databricks.v1+output": {
       "arguments": {},
       "data": "",
       "errorSummary": "Cancelled",
       "errorTraceType": "html",
       "metadata": {},
       "type": "ipynbError"
      }
     },
     "output_type": "display_data"
    }
   ],
   "source": [
    "print(test_dfs[0].count())"
   ]
  },
  {
   "cell_type": "code",
   "execution_count": 0,
   "metadata": {
    "application/vnd.databricks.v1+cell": {
     "cellMetadata": {
      "byteLimit": 2048000,
      "rowLimit": 10000
     },
     "inputWidgets": {},
     "nuid": "5dc71f36-da64-48d4-92db-2bf521e8caa9",
     "showTitle": false,
     "title": ""
    }
   },
   "outputs": [],
   "source": [
    "#ZERAR A BASE\n",
    "\n",
    "dh_insertion_raw = var_adf[\"adf_trigger_time\"].split(\".\")[0]\n",
    "\n",
    "data = {\n",
    "  'id': 0,\n",
    "  'domain': 'Não informado',\n",
    "  'title': 'Não informado',\n",
    "  'subtitle': 'Não informado',\n",
    "  'author': 'Não informado',\n",
    "  'content': 'Não informado',\n",
    "  'url': 'Não informado',\n",
    "  'source': 'Não informado',\n",
    "  'source_country': 'Não informado',\n",
    "  'source_state': 'Não informado',\n",
    "  'crawled_date': '1900-01-01 00:00:00',\n",
    "  'published_date': '1900-01-01 00:00:00',\n",
    "  'dh_insertion_raw': '2020-06-08T01:42:41.000+0000'\n",
    "}\n",
    "schema = StructType([\n",
    "  StructField(\"id\", LongType(), nullable=True),\n",
    "  StructField(\"domain\", StringType(), nullable=True),\n",
    "  StructField(\"title\", StringType(), nullable=True),\n",
    "  StructField(\"subtitle\", StringType(), nullable=True),\n",
    "  StructField(\"author\", StringType(), nullable=True),\n",
    "  StructField(\"content\", StringType(), nullable=True),\n",
    "  StructField(\"url\", StringType(), nullable=True),\n",
    "  StructField(\"source\", StringType(), nullable=True),\n",
    "  StructField(\"source_country\", StringType(), nullable=True),\n",
    "  StructField(\"source_state\", StringType(), nullable=True),\n",
    "  StructField(\"crawled_date\", StringType(), nullable=True),\n",
    "  StructField(\"published_date\", StringType(), nullable=True),\n",
    "  StructField(\"dh_insertion_raw\", StringType(), nullable=True)\n",
    "  ])\n",
    "\n",
    "data['id'] = int(data['id'])\n",
    "\n",
    "# dfff = pd.DataFrame(data, index=[0])\n",
    "spark_dfff = spark.createDataFrame([tuple(data.values())], schema=schema)\n",
    "for i, df in enumerate(graph_dfs):\n",
    "  path = source_lnd + \"_\" + str(graph_names[i]) + \"_p0\"\n",
    "  spark_dfff.write.parquet(path, mode=\"overwrite\")\n",
    "  "
   ]
  },
  {
   "cell_type": "code",
   "execution_count": 0,
   "metadata": {
    "application/vnd.databricks.v1+cell": {
     "cellMetadata": {
      "byteLimit": 2048000,
      "rowLimit": 10000
     },
     "inputWidgets": {},
     "nuid": "c8b145c3-f427-4b9a-956b-c6307dd1c8a0",
     "showTitle": false,
     "title": ""
    }
   },
   "outputs": [
    {
     "output_type": "display_data",
     "data": {
      "text/plain": [
       "\u001B[0;31m---------------------------------------------------------------------------\u001B[0m\n\u001B[0;31mAnalysisException\u001B[0m                         Traceback (most recent call last)\nFile \u001B[0;32m<command-4243246020355238>:2\u001B[0m\n\u001B[1;32m      1\u001B[0m path \u001B[38;5;241m=\u001B[39m source_lnd \u001B[38;5;241m+\u001B[39m \u001B[38;5;124m\"\u001B[39m\u001B[38;5;124m_\u001B[39m\u001B[38;5;124m\"\u001B[39m \u001B[38;5;241m+\u001B[39m \u001B[38;5;28mstr\u001B[39m(graph_names[\u001B[38;5;241m2\u001B[39m]) \u001B[38;5;241m+\u001B[39m \u001B[38;5;124m\"\u001B[39m\u001B[38;5;124m_p0\u001B[39m\u001B[38;5;124m\"\u001B[39m\n\u001B[0;32m----> 2\u001B[0m old_df \u001B[38;5;241m=\u001B[39m spark\u001B[38;5;241m.\u001B[39mread\u001B[38;5;241m.\u001B[39mparquet(path)\n\nFile \u001B[0;32m/databricks/spark/python/pyspark/instrumentation_utils.py:48\u001B[0m, in \u001B[0;36m_wrap_function.<locals>.wrapper\u001B[0;34m(*args, **kwargs)\u001B[0m\n\u001B[1;32m     46\u001B[0m start \u001B[38;5;241m=\u001B[39m time\u001B[38;5;241m.\u001B[39mperf_counter()\n\u001B[1;32m     47\u001B[0m \u001B[38;5;28;01mtry\u001B[39;00m:\n\u001B[0;32m---> 48\u001B[0m     res \u001B[38;5;241m=\u001B[39m \u001B[43mfunc\u001B[49m\u001B[43m(\u001B[49m\u001B[38;5;241;43m*\u001B[39;49m\u001B[43margs\u001B[49m\u001B[43m,\u001B[49m\u001B[43m \u001B[49m\u001B[38;5;241;43m*\u001B[39;49m\u001B[38;5;241;43m*\u001B[39;49m\u001B[43mkwargs\u001B[49m\u001B[43m)\u001B[49m\n\u001B[1;32m     49\u001B[0m     logger\u001B[38;5;241m.\u001B[39mlog_success(\n\u001B[1;32m     50\u001B[0m         module_name, class_name, function_name, time\u001B[38;5;241m.\u001B[39mperf_counter() \u001B[38;5;241m-\u001B[39m start, signature\n\u001B[1;32m     51\u001B[0m     )\n\u001B[1;32m     52\u001B[0m     \u001B[38;5;28;01mreturn\u001B[39;00m res\n\nFile \u001B[0;32m/databricks/spark/python/pyspark/sql/readwriter.py:458\u001B[0m, in \u001B[0;36mDataFrameReader.parquet\u001B[0;34m(self, *paths, **options)\u001B[0m\n\u001B[1;32m    447\u001B[0m int96RebaseMode \u001B[38;5;241m=\u001B[39m options\u001B[38;5;241m.\u001B[39mget(\u001B[38;5;124m\"\u001B[39m\u001B[38;5;124mint96RebaseMode\u001B[39m\u001B[38;5;124m\"\u001B[39m, \u001B[38;5;28;01mNone\u001B[39;00m)\n\u001B[1;32m    448\u001B[0m \u001B[38;5;28mself\u001B[39m\u001B[38;5;241m.\u001B[39m_set_opts(\n\u001B[1;32m    449\u001B[0m     mergeSchema\u001B[38;5;241m=\u001B[39mmergeSchema,\n\u001B[1;32m    450\u001B[0m     pathGlobFilter\u001B[38;5;241m=\u001B[39mpathGlobFilter,\n\u001B[0;32m   (...)\u001B[0m\n\u001B[1;32m    455\u001B[0m     int96RebaseMode\u001B[38;5;241m=\u001B[39mint96RebaseMode,\n\u001B[1;32m    456\u001B[0m )\n\u001B[0;32m--> 458\u001B[0m \u001B[38;5;28;01mreturn\u001B[39;00m \u001B[38;5;28mself\u001B[39m\u001B[38;5;241m.\u001B[39m_df(\u001B[38;5;28;43mself\u001B[39;49m\u001B[38;5;241;43m.\u001B[39;49m\u001B[43m_jreader\u001B[49m\u001B[38;5;241;43m.\u001B[39;49m\u001B[43mparquet\u001B[49m\u001B[43m(\u001B[49m\u001B[43m_to_seq\u001B[49m\u001B[43m(\u001B[49m\u001B[38;5;28;43mself\u001B[39;49m\u001B[38;5;241;43m.\u001B[39;49m\u001B[43m_spark\u001B[49m\u001B[38;5;241;43m.\u001B[39;49m\u001B[43m_sc\u001B[49m\u001B[43m,\u001B[49m\u001B[43m \u001B[49m\u001B[43mpaths\u001B[49m\u001B[43m)\u001B[49m\u001B[43m)\u001B[49m)\n\nFile \u001B[0;32m/databricks/spark/python/lib/py4j-0.10.9.5-src.zip/py4j/java_gateway.py:1321\u001B[0m, in \u001B[0;36mJavaMember.__call__\u001B[0;34m(self, *args)\u001B[0m\n\u001B[1;32m   1315\u001B[0m command \u001B[38;5;241m=\u001B[39m proto\u001B[38;5;241m.\u001B[39mCALL_COMMAND_NAME \u001B[38;5;241m+\u001B[39m\\\n\u001B[1;32m   1316\u001B[0m     \u001B[38;5;28mself\u001B[39m\u001B[38;5;241m.\u001B[39mcommand_header \u001B[38;5;241m+\u001B[39m\\\n\u001B[1;32m   1317\u001B[0m     args_command \u001B[38;5;241m+\u001B[39m\\\n\u001B[1;32m   1318\u001B[0m     proto\u001B[38;5;241m.\u001B[39mEND_COMMAND_PART\n\u001B[1;32m   1320\u001B[0m answer \u001B[38;5;241m=\u001B[39m \u001B[38;5;28mself\u001B[39m\u001B[38;5;241m.\u001B[39mgateway_client\u001B[38;5;241m.\u001B[39msend_command(command)\n\u001B[0;32m-> 1321\u001B[0m return_value \u001B[38;5;241m=\u001B[39m \u001B[43mget_return_value\u001B[49m\u001B[43m(\u001B[49m\n\u001B[1;32m   1322\u001B[0m \u001B[43m    \u001B[49m\u001B[43manswer\u001B[49m\u001B[43m,\u001B[49m\u001B[43m \u001B[49m\u001B[38;5;28;43mself\u001B[39;49m\u001B[38;5;241;43m.\u001B[39;49m\u001B[43mgateway_client\u001B[49m\u001B[43m,\u001B[49m\u001B[43m \u001B[49m\u001B[38;5;28;43mself\u001B[39;49m\u001B[38;5;241;43m.\u001B[39;49m\u001B[43mtarget_id\u001B[49m\u001B[43m,\u001B[49m\u001B[43m \u001B[49m\u001B[38;5;28;43mself\u001B[39;49m\u001B[38;5;241;43m.\u001B[39;49m\u001B[43mname\u001B[49m\u001B[43m)\u001B[49m\n\u001B[1;32m   1324\u001B[0m \u001B[38;5;28;01mfor\u001B[39;00m temp_arg \u001B[38;5;129;01min\u001B[39;00m temp_args:\n\u001B[1;32m   1325\u001B[0m     temp_arg\u001B[38;5;241m.\u001B[39m_detach()\n\nFile \u001B[0;32m/databricks/spark/python/pyspark/sql/utils.py:215\u001B[0m, in \u001B[0;36mcapture_sql_exception.<locals>.deco\u001B[0;34m(*a, **kw)\u001B[0m\n\u001B[1;32m    211\u001B[0m converted \u001B[38;5;241m=\u001B[39m convert_exception(e\u001B[38;5;241m.\u001B[39mjava_exception)\n\u001B[1;32m    212\u001B[0m \u001B[38;5;28;01mif\u001B[39;00m \u001B[38;5;129;01mnot\u001B[39;00m \u001B[38;5;28misinstance\u001B[39m(converted, UnknownException):\n\u001B[1;32m    213\u001B[0m     \u001B[38;5;66;03m# Hide where the exception came from that shows a non-Pythonic\u001B[39;00m\n\u001B[1;32m    214\u001B[0m     \u001B[38;5;66;03m# JVM exception message.\u001B[39;00m\n\u001B[0;32m--> 215\u001B[0m     \u001B[38;5;28;01mraise\u001B[39;00m converted \u001B[38;5;28;01mfrom\u001B[39;00m \u001B[38;5;28mNone\u001B[39m\n\u001B[1;32m    216\u001B[0m \u001B[38;5;28;01melse\u001B[39;00m:\n\u001B[1;32m    217\u001B[0m     \u001B[38;5;28;01mraise\u001B[39;00m\n\n\u001B[0;31mAnalysisException\u001B[0m: [PATH_NOT_FOUND] Path does not exist: [REDACTED]/tmp/dev/uld/API_InGuru/inguro_vig_acidente_trab_Prevenção_de_Acidentes_de_Trabalho_p0."
      ]
     },
     "metadata": {
      "application/vnd.databricks.v1+output": {
       "arguments": {},
       "data": "\u001B[0;31m---------------------------------------------------------------------------\u001B[0m\n\u001B[0;31mAnalysisException\u001B[0m                         Traceback (most recent call last)\nFile \u001B[0;32m<command-4243246020355238>:2\u001B[0m\n\u001B[1;32m      1\u001B[0m path \u001B[38;5;241m=\u001B[39m source_lnd \u001B[38;5;241m+\u001B[39m \u001B[38;5;124m\"\u001B[39m\u001B[38;5;124m_\u001B[39m\u001B[38;5;124m\"\u001B[39m \u001B[38;5;241m+\u001B[39m \u001B[38;5;28mstr\u001B[39m(graph_names[\u001B[38;5;241m2\u001B[39m]) \u001B[38;5;241m+\u001B[39m \u001B[38;5;124m\"\u001B[39m\u001B[38;5;124m_p0\u001B[39m\u001B[38;5;124m\"\u001B[39m\n\u001B[0;32m----> 2\u001B[0m old_df \u001B[38;5;241m=\u001B[39m spark\u001B[38;5;241m.\u001B[39mread\u001B[38;5;241m.\u001B[39mparquet(path)\n\nFile \u001B[0;32m/databricks/spark/python/pyspark/instrumentation_utils.py:48\u001B[0m, in \u001B[0;36m_wrap_function.<locals>.wrapper\u001B[0;34m(*args, **kwargs)\u001B[0m\n\u001B[1;32m     46\u001B[0m start \u001B[38;5;241m=\u001B[39m time\u001B[38;5;241m.\u001B[39mperf_counter()\n\u001B[1;32m     47\u001B[0m \u001B[38;5;28;01mtry\u001B[39;00m:\n\u001B[0;32m---> 48\u001B[0m     res \u001B[38;5;241m=\u001B[39m \u001B[43mfunc\u001B[49m\u001B[43m(\u001B[49m\u001B[38;5;241;43m*\u001B[39;49m\u001B[43margs\u001B[49m\u001B[43m,\u001B[49m\u001B[43m \u001B[49m\u001B[38;5;241;43m*\u001B[39;49m\u001B[38;5;241;43m*\u001B[39;49m\u001B[43mkwargs\u001B[49m\u001B[43m)\u001B[49m\n\u001B[1;32m     49\u001B[0m     logger\u001B[38;5;241m.\u001B[39mlog_success(\n\u001B[1;32m     50\u001B[0m         module_name, class_name, function_name, time\u001B[38;5;241m.\u001B[39mperf_counter() \u001B[38;5;241m-\u001B[39m start, signature\n\u001B[1;32m     51\u001B[0m     )\n\u001B[1;32m     52\u001B[0m     \u001B[38;5;28;01mreturn\u001B[39;00m res\n\nFile \u001B[0;32m/databricks/spark/python/pyspark/sql/readwriter.py:458\u001B[0m, in \u001B[0;36mDataFrameReader.parquet\u001B[0;34m(self, *paths, **options)\u001B[0m\n\u001B[1;32m    447\u001B[0m int96RebaseMode \u001B[38;5;241m=\u001B[39m options\u001B[38;5;241m.\u001B[39mget(\u001B[38;5;124m\"\u001B[39m\u001B[38;5;124mint96RebaseMode\u001B[39m\u001B[38;5;124m\"\u001B[39m, \u001B[38;5;28;01mNone\u001B[39;00m)\n\u001B[1;32m    448\u001B[0m \u001B[38;5;28mself\u001B[39m\u001B[38;5;241m.\u001B[39m_set_opts(\n\u001B[1;32m    449\u001B[0m     mergeSchema\u001B[38;5;241m=\u001B[39mmergeSchema,\n\u001B[1;32m    450\u001B[0m     pathGlobFilter\u001B[38;5;241m=\u001B[39mpathGlobFilter,\n\u001B[0;32m   (...)\u001B[0m\n\u001B[1;32m    455\u001B[0m     int96RebaseMode\u001B[38;5;241m=\u001B[39mint96RebaseMode,\n\u001B[1;32m    456\u001B[0m )\n\u001B[0;32m--> 458\u001B[0m \u001B[38;5;28;01mreturn\u001B[39;00m \u001B[38;5;28mself\u001B[39m\u001B[38;5;241m.\u001B[39m_df(\u001B[38;5;28;43mself\u001B[39;49m\u001B[38;5;241;43m.\u001B[39;49m\u001B[43m_jreader\u001B[49m\u001B[38;5;241;43m.\u001B[39;49m\u001B[43mparquet\u001B[49m\u001B[43m(\u001B[49m\u001B[43m_to_seq\u001B[49m\u001B[43m(\u001B[49m\u001B[38;5;28;43mself\u001B[39;49m\u001B[38;5;241;43m.\u001B[39;49m\u001B[43m_spark\u001B[49m\u001B[38;5;241;43m.\u001B[39;49m\u001B[43m_sc\u001B[49m\u001B[43m,\u001B[49m\u001B[43m \u001B[49m\u001B[43mpaths\u001B[49m\u001B[43m)\u001B[49m\u001B[43m)\u001B[49m)\n\nFile \u001B[0;32m/databricks/spark/python/lib/py4j-0.10.9.5-src.zip/py4j/java_gateway.py:1321\u001B[0m, in \u001B[0;36mJavaMember.__call__\u001B[0;34m(self, *args)\u001B[0m\n\u001B[1;32m   1315\u001B[0m command \u001B[38;5;241m=\u001B[39m proto\u001B[38;5;241m.\u001B[39mCALL_COMMAND_NAME \u001B[38;5;241m+\u001B[39m\\\n\u001B[1;32m   1316\u001B[0m     \u001B[38;5;28mself\u001B[39m\u001B[38;5;241m.\u001B[39mcommand_header \u001B[38;5;241m+\u001B[39m\\\n\u001B[1;32m   1317\u001B[0m     args_command \u001B[38;5;241m+\u001B[39m\\\n\u001B[1;32m   1318\u001B[0m     proto\u001B[38;5;241m.\u001B[39mEND_COMMAND_PART\n\u001B[1;32m   1320\u001B[0m answer \u001B[38;5;241m=\u001B[39m \u001B[38;5;28mself\u001B[39m\u001B[38;5;241m.\u001B[39mgateway_client\u001B[38;5;241m.\u001B[39msend_command(command)\n\u001B[0;32m-> 1321\u001B[0m return_value \u001B[38;5;241m=\u001B[39m \u001B[43mget_return_value\u001B[49m\u001B[43m(\u001B[49m\n\u001B[1;32m   1322\u001B[0m \u001B[43m    \u001B[49m\u001B[43manswer\u001B[49m\u001B[43m,\u001B[49m\u001B[43m \u001B[49m\u001B[38;5;28;43mself\u001B[39;49m\u001B[38;5;241;43m.\u001B[39;49m\u001B[43mgateway_client\u001B[49m\u001B[43m,\u001B[49m\u001B[43m \u001B[49m\u001B[38;5;28;43mself\u001B[39;49m\u001B[38;5;241;43m.\u001B[39;49m\u001B[43mtarget_id\u001B[49m\u001B[43m,\u001B[49m\u001B[43m \u001B[49m\u001B[38;5;28;43mself\u001B[39;49m\u001B[38;5;241;43m.\u001B[39;49m\u001B[43mname\u001B[49m\u001B[43m)\u001B[49m\n\u001B[1;32m   1324\u001B[0m \u001B[38;5;28;01mfor\u001B[39;00m temp_arg \u001B[38;5;129;01min\u001B[39;00m temp_args:\n\u001B[1;32m   1325\u001B[0m     temp_arg\u001B[38;5;241m.\u001B[39m_detach()\n\nFile \u001B[0;32m/databricks/spark/python/pyspark/sql/utils.py:215\u001B[0m, in \u001B[0;36mcapture_sql_exception.<locals>.deco\u001B[0;34m(*a, **kw)\u001B[0m\n\u001B[1;32m    211\u001B[0m converted \u001B[38;5;241m=\u001B[39m convert_exception(e\u001B[38;5;241m.\u001B[39mjava_exception)\n\u001B[1;32m    212\u001B[0m \u001B[38;5;28;01mif\u001B[39;00m \u001B[38;5;129;01mnot\u001B[39;00m \u001B[38;5;28misinstance\u001B[39m(converted, UnknownException):\n\u001B[1;32m    213\u001B[0m     \u001B[38;5;66;03m# Hide where the exception came from that shows a non-Pythonic\u001B[39;00m\n\u001B[1;32m    214\u001B[0m     \u001B[38;5;66;03m# JVM exception message.\u001B[39;00m\n\u001B[0;32m--> 215\u001B[0m     \u001B[38;5;28;01mraise\u001B[39;00m converted \u001B[38;5;28;01mfrom\u001B[39;00m \u001B[38;5;28mNone\u001B[39m\n\u001B[1;32m    216\u001B[0m \u001B[38;5;28;01melse\u001B[39;00m:\n\u001B[1;32m    217\u001B[0m     \u001B[38;5;28;01mraise\u001B[39;00m\n\n\u001B[0;31mAnalysisException\u001B[0m: [PATH_NOT_FOUND] Path does not exist: [REDACTED]/tmp/dev/uld/API_InGuru/inguro_vig_acidente_trab_Prevenção_de_Acidentes_de_Trabalho_p0.",
       "errorSummary": "<span class='ansi-red-fg'>AnalysisException</span>: [PATH_NOT_FOUND] Path does not exist: [REDACTED]/tmp/dev/uld/API_InGuru/inguro_vig_acidente_trab_Prevenção_de_Acidentes_de_Trabalho_p0.",
       "errorTraceType": "ansi",
       "metadata": {},
       "type": "ipynbError"
      }
     },
     "output_type": "display_data"
    }
   ],
   "source": [
    "path = source_lnd + \"_\" + str(graph_names[2]) + \"_p0\"\n",
    "old_df = spark.read.parquet(path)"
   ]
  },
  {
   "cell_type": "code",
   "execution_count": 0,
   "metadata": {
    "application/vnd.databricks.v1+cell": {
     "cellMetadata": {
      "byteLimit": 2048000,
      "rowLimit": 10000
     },
     "inputWidgets": {},
     "nuid": "c91e7d31-dc5a-4685-b19e-52aba312763d",
     "showTitle": false,
     "title": ""
    }
   },
   "outputs": [
    {
     "output_type": "stream",
     "name": "stdout",
     "output_type": "stream",
     "text": [
      "Out[25]: 1"
     ]
    }
   ],
   "source": [
    "old_df.count()"
   ]
  },
  {
   "cell_type": "code",
   "execution_count": 0,
   "metadata": {
    "application/vnd.databricks.v1+cell": {
     "cellMetadata": {
      "byteLimit": 2048000,
      "rowLimit": 10000
     },
     "inputWidgets": {},
     "nuid": "414cef7f-74c2-419b-af18-f6c6a20403fd",
     "showTitle": false,
     "title": ""
    }
   },
   "outputs": [],
   "source": [
    "spark_dfff.write.parquet(path, mode=\"overwrite\")"
   ]
  },
  {
   "cell_type": "code",
   "execution_count": 0,
   "metadata": {
    "application/vnd.databricks.v1+cell": {
     "cellMetadata": {},
     "inputWidgets": {},
     "nuid": "0c391d63-34ed-4d3f-9890-fb56f947e49c",
     "showTitle": false,
     "title": ""
    }
   },
   "outputs": [],
   "source": []
  }
 ],
 "metadata": {
  "application/vnd.databricks.v1+notebook": {
   "dashboards": [],
   "language": "python",
   "notebookMetadata": {
    "pythonIndentUnit": 2
   },
   "notebookName": "org_raw_inguru_vig_acidente_trab_full",
   "notebookOrigID": 4400946042403978,
   "widgets": {}
  }
 },
 "nbformat": 4,
 "nbformat_minor": 0
}
