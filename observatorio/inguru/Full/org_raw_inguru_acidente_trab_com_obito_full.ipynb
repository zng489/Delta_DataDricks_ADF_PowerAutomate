{
 "cells": [
  {
   "cell_type": "code",
   "execution_count": 0,
   "metadata": {
    "application/vnd.databricks.v1+cell": {
     "cellMetadata": {
      "byteLimit": 2048000,
      "rowLimit": 10000
     },
     "inputWidgets": {},
     "nuid": "7ad4baf4-84a3-4683-a682-f8bae6a72f7a",
     "showTitle": false,
     "title": ""
    }
   },
   "outputs": [],
   "source": [
    "import json\n",
    "import re\n",
    "import cni_connectors.adls_gen1_connector as connector\n",
    "import pyspark.sql.functions as f\n",
    "import crawler.functions as cf\n",
    "import requests\n",
    "import pandas as pd\n",
    "import numpy as np\n",
    "from datetime import datetime, timedelta\n",
    "from pyspark.sql.types import StructType, StructField, StringType, TimestampType, LongType, DoubleType"
   ]
  },
  {
   "cell_type": "code",
   "execution_count": 0,
   "metadata": {
    "application/vnd.databricks.v1+cell": {
     "cellMetadata": {
      "byteLimit": 2048000,
      "rowLimit": 10000
     },
     "inputWidgets": {},
     "nuid": "c82494d1-bb2d-4354-8877-e520296f45e7",
     "showTitle": false,
     "title": ""
    }
   },
   "outputs": [
    {
     "output_type": "stream",
     "name": "stdout",
     "output_type": "stream",
     "text": [
      "fornecedor_dev\ndev-execution\n"
     ]
    }
   ],
   "source": [
    "var_adls_uri = connector.adls_gen1_connect(spark, dbutils, scope=\"adls_gen2\", dynamic_overwrite=\"dynamic\")"
   ]
  },
  {
   "cell_type": "code",
   "execution_count": 0,
   "metadata": {
    "application/vnd.databricks.v1+cell": {
     "cellMetadata": {
      "byteLimit": 2048000,
      "rowLimit": 10000
     },
     "inputWidgets": {},
     "nuid": "863e02ea-92e5-46ab-ba59-6f7e3ef56536",
     "showTitle": false,
     "title": ""
    }
   },
   "outputs": [],
   "source": [
    "#Parametros de entrado do ADF\n",
    "var_file = {'namespace':'API_InGuru',\n",
    "'file_folder':'inguro_acidente_trab_com_obito',\n",
    "'extension':'csv',\n",
    "'column_delimiter':',',\n",
    "'encoding':'UTF-8',\n",
    "'null_value':''}\n",
    "\n",
    "#Caminho de Dev\n",
    "var_dls = {\n",
    "    \"folders\":{\"landing\":\"/tmp/dev/uld\",\n",
    "    \"error\":\"/tmp/dev/err\",\n",
    "    \"staging\":\"/tmp/dev/stg\",\n",
    "    \"log\":\"/tmp/dev/log\",\n",
    "    \"raw\":\"/tmp/dev/raw\",\n",
    "    \"trusted\":\"/tmp/dev/trs\",\n",
    "    \"business\":\"/tmp/dev/biz\",\n",
    "    \"landing\":\"/tmp/dev/uld\"          }}\n",
    "#Parametros do ADF (Nativo)\n",
    "var_adf = {\n",
    "    \"adf_factory_name\": \"cnibigdatafactory\",\n",
    "    \"adf_pipeline_name\": \"org_raw_acidente_trab_com_obito\",\n",
    "    \"adf_pipeline_run_id\": \"60ee3485-4a56-4ad1-99ae-666666666\",\n",
    "    \"adf_trigger_id\": \"62bee9e9-acbb-49cc-80f2-666666666\",\n",
    "    \"adf_trigger_name\": \"62bee9e9-acbb-49cc-80f2-66666666\",\n",
    "    \"adf_trigger_time\": \"2020-06-08T01:42:41.5507749Z\",\n",
    "    \"adf_trigger_type\": \"PipelineActivity\"\n",
    "}"
   ]
  },
  {
   "cell_type": "code",
   "execution_count": 0,
   "metadata": {
    "application/vnd.databricks.v1+cell": {
     "cellMetadata": {
      "byteLimit": 2048000,
      "rowLimit": 10000
     },
     "inputWidgets": {},
     "nuid": "e73120cd-91e8-49e7-b278-47bb7f93ded4",
     "showTitle": false,
     "title": ""
    }
   },
   "outputs": [],
   "source": [
    "#Acesso ao json do CMD\n",
    "lnd = var_dls['folders']['landing']\n",
    "raw = var_dls['folders']['raw']"
   ]
  },
  {
   "cell_type": "code",
   "execution_count": 0,
   "metadata": {
    "application/vnd.databricks.v1+cell": {
     "cellMetadata": {
      "byteLimit": 2048000,
      "rowLimit": 10000
     },
     "inputWidgets": {},
     "nuid": "0f41caa3-e83b-4847-8a8b-9ded9e8d681c",
     "showTitle": false,
     "title": ""
    }
   },
   "outputs": [
    {
     "output_type": "stream",
     "name": "stdout",
     "output_type": "stream",
     "text": [
      "Out[6]: '/tmp/dev/uld/API_InGuru/inguro_acidente_trab_com_obito/'"
     ]
    }
   ],
   "source": [
    "var_source = \"{lnd}/{namespace}/{file_folder}/\".format(lnd=lnd, namespace=var_file['namespace'], file_folder=var_file['file_folder'])\n",
    "var_source"
   ]
  },
  {
   "cell_type": "code",
   "execution_count": 0,
   "metadata": {
    "application/vnd.databricks.v1+cell": {
     "cellMetadata": {
      "byteLimit": 2048000,
      "rowLimit": 10000
     },
     "inputWidgets": {},
     "nuid": "7913c19b-14ac-47c0-a01a-8375fe97c3fe",
     "showTitle": false,
     "title": ""
    }
   },
   "outputs": [
    {
     "output_type": "stream",
     "name": "stdout",
     "output_type": "stream",
     "text": [
      "Out[7]: '[REDACTED]/tmp/dev/uld/API_InGuru/inguro_acidente_trab_com_obito'"
     ]
    }
   ],
   "source": [
    "#Origem e destino\n",
    "source_lnd = \"{adl_path}{lnd}/{namespace}/{file_folder}\".format(adl_path=var_adls_uri, lnd=lnd, namespace=var_file[\"namespace\"],file_folder=var_file[\"file_folder\"])\n",
    "source_lnd"
   ]
  },
  {
   "cell_type": "code",
   "execution_count": 0,
   "metadata": {
    "application/vnd.databricks.v1+cell": {
     "cellMetadata": {
      "byteLimit": 2048000,
      "rowLimit": 10000
     },
     "inputWidgets": {},
     "nuid": "468fe043-24de-41c3-bb59-e763209807ba",
     "showTitle": false,
     "title": ""
    }
   },
   "outputs": [],
   "source": [
    "azure_path = 'abfss://datalake@cnibigdatadlsgen2.dfs.core.windows.net'\n",
    "outputh_path = '{uri}/uds/uniepro/API_InGuru/inguro_vig_acidente_trab'.format(uri=azure_path)\n",
    "\n",
    "def API_INGURU(url, per_page, start_date, end_date):\n",
    "    headers = {\n",
    "    'User-Agent':'Mozilla/5.0 (Windows NT 10.0; Win64; x64) AppleWebKit/537.36 (KHTML, like Gecko) Chrome/100.0.4896.127 Safari/537.36',\n",
    "    'accept':'application/json',\n",
    "    'authorization': '6f64d6a047fad369d35c3806f8f8e0560475075a432585973f91caae35b4ad74'\n",
    "    } \n",
    "\n",
    "    params = {\n",
    "        'per_page': per_page,\n",
    "        'start_date': start_date,\n",
    "        'end_date': end_date,\n",
    "        'sort': '1'\n",
    "    }\n",
    "    response = requests.get(url, headers=headers, params=params)\n",
    "    return response.json()"
   ]
  },
  {
   "cell_type": "code",
   "execution_count": 0,
   "metadata": {
    "application/vnd.databricks.v1+cell": {
     "cellMetadata": {
      "byteLimit": 2048000,
      "rowLimit": 10000
     },
     "inputWidgets": {},
     "nuid": "dc2f48de-0148-4f96-9975-04060c956024",
     "showTitle": false,
     "title": ""
    }
   },
   "outputs": [],
   "source": [
    "def divide_data(data_inicial, data_final):\n",
    "    formato_data = '%d/%m/%Y %H:%M'\n",
    "\n",
    "    data_inicial = datetime.strptime(data_inicial, formato_data)\n",
    "    data_final = datetime.strptime(data_final, formato_data)\n",
    "    intervalo = data_final - data_inicial\n",
    "    data_final = data_inicial + intervalo // 2\n",
    "    data_final = data_final.strftime(formato_data)\n",
    "    data_inicial = data_inicial.strftime(formato_data)\n",
    "    return (data_inicial, data_final)"
   ]
  },
  {
   "cell_type": "code",
   "execution_count": 0,
   "metadata": {
    "application/vnd.databricks.v1+cell": {
     "cellMetadata": {
      "byteLimit": 2048000,
      "rowLimit": 10000
     },
     "inputWidgets": {},
     "nuid": "e1a7746b-f8dd-4fce-ad42-e82e8b8fcaa4",
     "showTitle": false,
     "title": ""
    }
   },
   "outputs": [],
   "source": [
    "def load_big_df(path):\n",
    "  schema = StructType([\n",
    "    StructField(\"id\", LongType(), nullable=True),\n",
    "    StructField(\"domain\", StringType(), nullable=True),\n",
    "    StructField(\"title\", StringType(), nullable=True),\n",
    "    StructField(\"subtitle\", StringType(), nullable=True),\n",
    "    StructField(\"author\", StringType(), nullable=True),\n",
    "    StructField(\"content\", StringType(), nullable=True),\n",
    "    StructField(\"url\", StringType(), nullable=True),\n",
    "    StructField(\"source\", StringType(), nullable=True),\n",
    "    StructField(\"source_country\", StringType(), nullable=True),\n",
    "    StructField(\"source_state\", StringType(), nullable=True),\n",
    "    StructField(\"crawled_date\", StringType(), nullable=True),\n",
    "    StructField(\"published_date\", StringType(), nullable=True),\n",
    "    StructField(\"dh_insertion_raw\", StringType(), nullable=True)\n",
    "  ])\n",
    "\n",
    "  df = spark.read.schema(schema) \\\n",
    "             .option(\"mergeSchema\", \"true\") \\\n",
    "             .option(\"timestampFormat\", \"INT96\") \\\n",
    "             .parquet(path) \\\n",
    "             .withColumn(\"dh_insertion_raw\", f.col(\"dh_insertion_raw\").cast(\"timestamp\"))\\\n",
    "             .withColumn(\"crawled_date\", f.col(\"crawled_date\").cast(\"timestamp\"))\n",
    "  \n",
    "  return df"
   ]
  },
  {
   "cell_type": "code",
   "execution_count": 0,
   "metadata": {
    "application/vnd.databricks.v1+cell": {
     "cellMetadata": {
      "byteLimit": 2048000,
      "rowLimit": 10000
     },
     "inputWidgets": {},
     "nuid": "d70d5737-d9d1-435f-8e4d-89df1616fd35",
     "showTitle": false,
     "title": ""
    }
   },
   "outputs": [],
   "source": [
    "def get_news(data_inicial, data_final, id):\n",
    "    url = 'https://app.inguru.me/api/v1/taxonomies/nodes/news/'+str(id)\n",
    "\n",
    "    array_dfs = []\n",
    "\n",
    "    getted_news = 0\n",
    "    \n",
    "    total_news = API_INGURU(url, 1, data_inicial, data_final)['pagination']['total']\n",
    "\n",
    "    \n",
    "    if not total_news:\n",
    "      parcial_data_inicial = data_inicial\n",
    "      parcial_data_final = data_final\n",
    "      dados = {\n",
    "        'author': np.nan,\n",
    "        'content': np.nan,\n",
    "        'crawled_date': np.nan,\n",
    "        'domain': np.nan,\n",
    "        'id': np.nan,\n",
    "        'published_date': np.nan,\n",
    "        'source': np.nan,\n",
    "        'source_country': np.nan,\n",
    "        'source_state': np.nan,\n",
    "        'subtitle': np.nan,\n",
    "        'title': np.nan,\n",
    "        'url': np.nan,\n",
    "        'dh_insertion_raw': np.nan\n",
    "      }\n",
    "      fail_df = pd.DataFrame(dados, index=[0])\n",
    "      array_dfs.append(fail_df)\n",
    "      parcial_data_inicial = parcial_data_final\n",
    "      parcial_data_final = data_final\n",
    "    else:\n",
    "      \n",
    "      print('Total de notícias: ', total_news)\n",
    "\n",
    "      parcial_data_inicial = data_inicial\n",
    "      parcial_data_final = data_final\n",
    "\n",
    "      while getted_news < total_news:\n",
    "\n",
    "          parcial_news = total_news\n",
    "\n",
    "          while parcial_news > 10000:\n",
    "              print('Parcial de notícias: ', parcial_news)\n",
    "              parcial_data_inicial, parcial_data_final = divide_data(parcial_data_inicial, parcial_data_final)\n",
    "              parcial_news = API_INGURU(url, 1, parcial_data_inicial, parcial_data_final)['pagination']['total']\n",
    "\n",
    "          print(\"fazendo requisicao\")\n",
    "          print('Data inicial: ', parcial_data_inicial)\n",
    "          print('Data final: ', parcial_data_final)\n",
    "          news = API_INGURU(url, parcial_news, parcial_data_inicial, parcial_data_final)['data']\n",
    "\n",
    "          #CRIA UM DATAFRAME COM AS NOTICIAS\n",
    "          noticias = pd.DataFrame(news)\n",
    "          #ADICIONA NUM ARRAY DE DATAFRAME\n",
    "          array_dfs.append(noticias)\n",
    "\n",
    "          #corrige as datas\n",
    "\n",
    "          parcial_data_inicial = parcial_data_final\n",
    "          parcial_data_final = data_final\n",
    "\n",
    "          getted_news += parcial_news\n",
    "          \n",
    "\n",
    "    return pd.concat(array_dfs)"
   ]
  },
  {
   "cell_type": "markdown",
   "metadata": {
    "application/vnd.databricks.v1+cell": {
     "cellMetadata": {},
     "inputWidgets": {},
     "nuid": "5bec7e31-fa57-4b5f-88ee-e2a08d1badcd",
     "showTitle": false,
     "title": ""
    }
   },
   "source": [
    "### Ingestão de anos anteriores"
   ]
  },
  {
   "cell_type": "markdown",
   "metadata": {
    "application/vnd.databricks.v1+cell": {
     "cellMetadata": {},
     "inputWidgets": {},
     "nuid": "7f4636b1-cd3d-4948-a916-38f0a030884e",
     "showTitle": false,
     "title": ""
    }
   },
   "source": [
    "Teve de ser criado pois a API não carrega todos os anos por alguma limitação.\n",
    "\n",
    "PRECISA SER RODADO APENAS NA PRIMEIRA VEZ"
   ]
  },
  {
   "cell_type": "code",
   "execution_count": 0,
   "metadata": {
    "application/vnd.databricks.v1+cell": {
     "cellMetadata": {
      "byteLimit": 2048000,
      "rowLimit": 10000
     },
     "inputWidgets": {},
     "nuid": "afda149b-a79e-430d-a05b-5cbfe5f4ecc9",
     "showTitle": false,
     "title": ""
    }
   },
   "outputs": [],
   "source": [
    "def insere_news(data_inicial, data_final, id, path):\n",
    "  url = 'https://app.inguru.me/api/v1/taxonomies/nodes/news/'+str(id)\n",
    "\n",
    "  array_dfs = []\n",
    "\n",
    "  getted_news = 0\n",
    "    \n",
    "  total_news = API_INGURU(url, 1, data_inicial, data_final)['pagination']['total']\n",
    "    \n",
    "  if total_news:\n",
    "      \n",
    "    print('Total de notícias: ', total_news)\n",
    "\n",
    "    parcial_data_inicial = data_inicial\n",
    "    parcial_data_final = data_final\n",
    "\n",
    "    while getted_news < total_news:\n",
    "\n",
    "      parcial_news = total_news\n",
    "\n",
    "      while parcial_news > 10000:\n",
    "        print('Parcial de notícias: ', parcial_news)\n",
    "        parcial_data_inicial, parcial_data_final = divide_data(parcial_data_inicial, parcial_data_final)\n",
    "        parcial_news = API_INGURU(url, 1, parcial_data_inicial, parcial_data_final)['pagination']['total']\n",
    "\n",
    "      print(\"fazendo requisicao\")\n",
    "      print('Data inicial: ', parcial_data_inicial)\n",
    "      print('Data final: ', parcial_data_final)\n",
    "      news = API_INGURU(url, parcial_news, parcial_data_inicial, parcial_data_final)['data']\n",
    "\n",
    "      #CRIA UM DATAFRAME COM AS NOTICIAS\n",
    "      noticias = pd.DataFrame(news)\n",
    "\n",
    "      #corrige as datas\n",
    "      parcial_data_inicial = parcial_data_final\n",
    "      parcial_data_final = data_final\n",
    "\n",
    "      getted_news += parcial_news\n",
    "\n",
    "      dh_insertion_raw = var_adf[\"adf_trigger_time\"].split(\".\")[0]\n",
    "\n",
    "      schema = StructType([\n",
    "        StructField(\"id\", LongType(), nullable=True),\n",
    "        StructField(\"domain\", StringType(), nullable=True),\n",
    "        StructField(\"title\", StringType(), nullable=True),\n",
    "        StructField(\"subtitle\", StringType(), nullable=True),\n",
    "        StructField(\"author\", StringType(), nullable=True),\n",
    "        StructField(\"content\", StringType(), nullable=True),\n",
    "        StructField(\"url\", StringType(), nullable=True),\n",
    "        StructField(\"source\", StringType(), nullable=True),\n",
    "        StructField(\"source_country\", StringType(), nullable=True),\n",
    "        StructField(\"source_state\", StringType(), nullable=True),\n",
    "        StructField(\"crawled_date\", StringType(), nullable=True),\n",
    "        StructField(\"published_date\", StringType(), nullable=True)\n",
    "      ])\n",
    "\n",
    "      saveDF = spark.createDataFrame(noticias, schema)\n",
    "      saveDF = saveDF.withColumn(\"dh_insertion_raw\", f.lit(dh_insertion_raw).cast(\"string\"))\n",
    "      #saveDF.write.parquet(path, \"append\")\n",
    "      print(\"Total:\", total_news)\n",
    "      print(\"Inseridas:\", getted_news)\n",
    "    \n",
    "  else:\n",
    "    print(\"Sem dados\")\n"
   ]
  },
  {
   "cell_type": "code",
   "execution_count": 0,
   "metadata": {
    "application/vnd.databricks.v1+cell": {
     "cellMetadata": {
      "byteLimit": 2048000,
      "rowLimit": 10000
     },
     "inputWidgets": {},
     "nuid": "076c139b-a501-4b39-8108-8cdd373a5b97",
     "showTitle": false,
     "title": ""
    }
   },
   "outputs": [
    {
     "output_type": "stream",
     "name": "stdout",
     "output_type": "stream",
     "text": [
      "Total de notícias:  693883\nParcial de notícias:  693883\nfazendo requisicao\nData inicial:  01/01/2015 00:00\nData final:  03/02/2019 10:06\nTotal: 693883\nInseridas: 530\nParcial de notícias:  693883\nfazendo requisicao\nData inicial:  03/02/2019 10:06\nData final:  19/02/2021 15:09\nTotal: 693883\nInseridas: 8705\nParcial de notícias:  693883\nParcial de notícias:  28749\nfazendo requisicao\nData inicial:  19/02/2021 15:09\nData final:  25/08/2021 10:25\nTotal: 693883\nInseridas: 17834\nParcial de notícias:  693883\nParcial de notícias:  175966\nfazendo requisicao\nData inicial:  25/08/2021 10:25\nData final:  12/01/2022 12:52\nTotal: 693883\nInseridas: 22531\nParcial de notícias:  693883\nParcial de notícias:  287877\nParcial de notícias:  104779\nParcial de notícias:  16919\nfazendo requisicao\nData inicial:  12/01/2022 12:52\nData final:  07/02/2022 19:19\nTotal: 693883\nInseridas: 23586\nParcial de notícias:  693883\nParcial de notícias:  308970\nParcial de notícias:  140792\nParcial de notícias:  47927\nParcial de notícias:  15835\nfazendo requisicao\nData inicial:  07/02/2022 19:19\nData final:  20/02/2022 02:50\nTotal: 693883\nInseridas: 30534\nParcial de notícias:  693883\nParcial de notícias:  311575\nParcial de notícias:  151786\nParcial de notícias:  62520\nParcial de notícias:  19595\nfazendo requisicao\nData inicial:  20/02/2022 02:50\nData final:  04/03/2022 01:07\nTotal: 693883\nInseridas: 39409\nParcial de notícias:  693883\nParcial de notícias:  312089\nParcial de notícias:  159426\nParcial de notícias:  71336\nParcial de notícias:  29158\nParcial de notícias:  10036\nfazendo requisicao\nData inicial:  04/03/2022 01:07\nData final:  09/03/2022 19:47\nTotal: 693883\nInseridas: 41124\nParcial de notícias:  693883\nParcial de notícias:  315309\nParcial de notícias:  165456\nParcial de notícias:  79018\nParcial de notícias:  37663\nParcial de notícias:  16915\nfazendo requisicao\nData inicial:  09/03/2022 19:47\nData final:  15/03/2022 12:17\nTotal: 693883\nInseridas: 49188\nParcial de notícias:  693883\nParcial de notícias:  311723\nParcial de notícias:  163800\nParcial de notícias:  81369\nParcial de notícias:  40176\nParcial de notícias:  18993\nfazendo requisicao\nData inicial:  15/03/2022 12:17\nData final:  21/03/2022 02:39\nTotal: 693883\nInseridas: 57987\nParcial de notícias:  693883\nParcial de notícias:  306076\nParcial de notícias:  162339\nParcial de notícias:  81682\nParcial de notícias:  40052\nParcial de notícias:  19268\nParcial de notícias:  10032\nfazendo requisicao\nData inicial:  21/03/2022 02:39\nData final:  23/03/2022 20:47\nTotal: 693883\nInseridas: 63792\nParcial de notícias:  693883\n"
     ]
    },
    {
     "output_type": "display_data",
     "data": {
      "text/html": [
       "<style scoped>\n  .ansiout {\n    display: block;\n    unicode-bidi: embed;\n    white-space: pre-wrap;\n    word-wrap: break-word;\n    word-break: break-all;\n    font-family: \"Source Code Pro\", \"Menlo\", monospace;;\n    font-size: 13px;\n    color: #555;\n    margin-left: 4px;\n    line-height: 19px;\n  }\n</style>"
      ]
     },
     "metadata": {
      "application/vnd.databricks.v1+output": {
       "arguments": {},
       "data": "",
       "errorSummary": "Cancelled",
       "errorTraceType": "html",
       "metadata": {},
       "type": "ipynbError"
      }
     },
     "output_type": "display_data"
    }
   ],
   "source": [
    "graph_ids = []\n",
    "graph_names = []\n",
    "graph_dfs = []\n",
    "\n",
    "nodeID = '927' #Declaração do ID\n",
    "\n",
    "url_nodeID = 'https://app.inguru.me/api/v1/taxonomies/nodes/'+str(nodeID)\n",
    "IDs = API_INGURU(url = url_nodeID, per_page=1, start_date='', end_date='')['data'][0]\n",
    "graph_ids.append(IDs['id'])\n",
    "graph_names.append(IDs['name'].replace(\" \", \"_\"))\n",
    "\n",
    "#Passa por cada \"filho\" no nó principal, caso não tenha nenhum, nada acontece.\n",
    "for node_children in IDs['children']:\n",
    "  graph_ids.append(node_children['id'])\n",
    "  graph_names.append(node_children['name'].replace(\" \", \"_\"))\n",
    "\n",
    "data_inicial = '01/01/2015 00:00'\n",
    "data_final = datetime.now().strftime(\"%d/%m/%Y %H:%M\")\n",
    "\n",
    "for i, id in enumerate(graph_ids):\n",
    "  path = source_lnd + \"_\" + str(graph_names[i])\n",
    "  insere_news(data_inicial, data_final, id, path)\n"
   ]
  },
  {
   "cell_type": "markdown",
   "metadata": {
    "application/vnd.databricks.v1+cell": {
     "cellMetadata": {},
     "inputWidgets": {},
     "nuid": "f4cedb42-6c28-4a5e-a113-df72ad72ac9c",
     "showTitle": false,
     "title": ""
    }
   },
   "source": [
    "### Rotina para últimos 7 dias"
   ]
  },
  {
   "cell_type": "code",
   "execution_count": 0,
   "metadata": {
    "application/vnd.databricks.v1+cell": {
     "cellMetadata": {
      "byteLimit": 2048000,
      "rowLimit": 10000
     },
     "inputWidgets": {},
     "nuid": "ece7fa28-edd3-4ab0-b02a-805ef6462292",
     "showTitle": false,
     "title": ""
    }
   },
   "outputs": [
    {
     "output_type": "stream",
     "name": "stdout",
     "output_type": "stream",
     "text": [
      "Total de notícias:  17725\nParcial de notícias:  17725\nfazendo requisicao\nData inicial:  01/03/2023 20:20\nData final:  05/03/2023 08:20\n"
     ]
    },
    {
     "output_type": "display_data",
     "data": {
      "text/html": [
       "<style scoped>\n  .ansiout {\n    display: block;\n    unicode-bidi: embed;\n    white-space: pre-wrap;\n    word-wrap: break-word;\n    word-break: break-all;\n    font-family: \"Source Code Pro\", \"Menlo\", monospace;;\n    font-size: 13px;\n    color: #555;\n    margin-left: 4px;\n    line-height: 19px;\n  }\n</style>"
      ]
     },
     "metadata": {
      "application/vnd.databricks.v1+output": {
       "arguments": {},
       "data": "",
       "errorSummary": "Cancelled",
       "errorTraceType": "html",
       "metadata": {},
       "type": "ipynbError"
      }
     },
     "output_type": "display_data"
    }
   ],
   "source": [
    "#SALVANDO EM: /tmp/dev/uld/API_InGuru/inguro_vig_acidente_trab_NOME_DO_NO\n",
    "# /tmp/dev/uld/API_InGuru/inguro_vig_acidente_trab_NODO_RAIZ\n",
    "# /tmp/dev/uld/API_InGuru/inguro_vig_acidente_trab_Acidentes_de_Trabalho_Judicializados\n",
    "# /tmp/dev/uld/API_I\n",
    "\n",
    "graph_ids = []\n",
    "graph_names = []\n",
    "graph_dfs = []\n",
    "\n",
    "nodeID = '927' #Declaração do ID\n",
    "\n",
    "url_nodeID = 'https://app.inguru.me/api/v1/taxonomies/nodes/'+str(nodeID)\n",
    "IDs = API_INGURU(url = url_nodeID, per_page=1, start_date='', end_date='')['data'][0]\n",
    "graph_ids.append(IDs['id'])\n",
    "graph_names.append(IDs['name'].replace(\" \", \"_\"))\n",
    "\n",
    "#Passa por cada \"filho\" no nó principal, caso não tenha nenhum, nada acontece.\n",
    "for node_children in IDs['children']:\n",
    "  graph_ids.append(node_children['id'])\n",
    "  graph_names.append(node_children['name'].replace(\" \", \"_\"))\n",
    "\n",
    "#Obtém as notícias de cada nó encontrado começando pelo nó principal.\n",
    "#Cria um df com as notícias obtidas e salva em um array de dfs.\n",
    "end_date = datetime.now().strftime(\"%d/%m/%Y %H:%M\")\n",
    "start_date = (datetime.now() - timedelta(days=7)).strftime(\"%d/%m/%Y %H:%M\")\n",
    "for id in graph_ids:\n",
    "  url = 'https://app.inguru.me/api/v1/taxonomies/nodes/news/'+str(id)\n",
    "  temp_df = get_news(start_date,end_date, id).fillna(\"Não informado\")\n",
    "  #graph_dfs.append(spark.createDataFrame(temp_df))\n"
   ]
  },
  {
   "cell_type": "code",
   "execution_count": 0,
   "metadata": {
    "application/vnd.databricks.v1+cell": {
     "cellMetadata": {},
     "inputWidgets": {},
     "nuid": "68c6662f-dac2-467e-81be-f4cbcf9b0c91",
     "showTitle": false,
     "title": ""
    }
   },
   "outputs": [
    {
     "output_type": "display_data",
     "data": {
      "text/html": [
       "<style scoped>\n  .ansiout {\n    display: block;\n    unicode-bidi: embed;\n    white-space: pre-wrap;\n    word-wrap: break-word;\n    word-break: break-all;\n    font-family: \"Source Code Pro\", \"Menlo\", monospace;;\n    font-size: 13px;\n    color: #555;\n    margin-left: 4px;\n    line-height: 19px;\n  }\n</style>\n<div class=\"ansiout\"></div>"
      ]
     },
     "metadata": {
      "application/vnd.databricks.v1+output": {
       "addedWidgets": {},
       "arguments": {},
       "data": "<div class=\"ansiout\"></div>",
       "datasetInfos": [],
       "metadata": {},
       "removedWidgets": [],
       "type": "html"
      }
     },
     "output_type": "display_data"
    }
   ],
   "source": [
    "#Inserção de hora nas tabelas.\n",
    "dh_insertion_raw = var_adf[\"adf_trigger_time\"].split(\".\")[0] #Obtendo hora do sistema\n",
    "\n",
    "for i in range(len(graph_dfs)):\n",
    "  graph_dfs[i] = graph_dfs[i].withColumn(\"dh_insertion_raw\", f.lit(dh_insertion_raw).cast(\"string\")) #Gravando hora em cada um dos dataframes"
   ]
  },
  {
   "cell_type": "code",
   "execution_count": 0,
   "metadata": {
    "application/vnd.databricks.v1+cell": {
     "cellMetadata": {},
     "inputWidgets": {},
     "nuid": "540307ea-11fd-4e51-af59-dbd91c452d14",
     "showTitle": false,
     "title": ""
    }
   },
   "outputs": [
    {
     "output_type": "display_data",
     "data": {
      "text/html": [
       "<style scoped>\n  .ansiout {\n    display: block;\n    unicode-bidi: embed;\n    white-space: pre-wrap;\n    word-wrap: break-word;\n    word-break: break-all;\n    font-family: \"Source Code Pro\", \"Menlo\", monospace;;\n    font-size: 13px;\n    color: #555;\n    margin-left: 4px;\n    line-height: 19px;\n  }\n</style>\n<div class=\"ansiout\">2023-02-21 21:38:53 2023-02-14 21:38:53\n2023-02-21 21:25:24 2023-02-14 21:25:24\n</div>"
      ]
     },
     "metadata": {
      "application/vnd.databricks.v1+output": {
       "addedWidgets": {},
       "arguments": {},
       "data": "<div class=\"ansiout\">2023-02-21 21:38:53 2023-02-14 21:38:53\n2023-02-21 21:25:24 2023-02-14 21:25:24\n</div>",
       "datasetInfos": [],
       "metadata": {},
       "removedWidgets": [],
       "type": "html"
      }
     },
     "output_type": "display_data"
    }
   ],
   "source": [
    "#Adição de novos registros\n",
    "\n",
    "for i in range(len(graph_dfs)):\n",
    "  path = source_lnd + \"_\" + str(graph_names[i])\n",
    "  old_df = load_big_df(path)\n",
    "#   old_df = spark.read.parquet(path)\n",
    "  max_date = old_df.select(f.max(\"crawled_date\")).collect()[0][0]\n",
    "  \n",
    "  min_date = max_date - timedelta(days=7)\n",
    "  print(max_date, min_date)\n",
    "  old_df.filter(old_df[\"crawled_date\"] > min_date)\n",
    "  \n",
    "  diff_df = graph_dfs[i].join(old_df, on='id', how='left_anti')\n",
    "  \n",
    "  diff_df.write.parquet(path, 'append')"
   ]
  },
  {
   "cell_type": "code",
   "execution_count": 0,
   "metadata": {
    "application/vnd.databricks.v1+cell": {
     "cellMetadata": {},
     "inputWidgets": {},
     "nuid": "22aabcd1-6e16-4e3d-895d-0467f46a32ac",
     "showTitle": false,
     "title": ""
    }
   },
   "outputs": [
    {
     "output_type": "display_data",
     "data": {
      "text/html": [
       "<style scoped>\n  .ansiout {\n    display: block;\n    unicode-bidi: embed;\n    white-space: pre-wrap;\n    word-wrap: break-word;\n    word-break: break-all;\n    font-family: \"Source Code Pro\", \"Menlo\", monospace;;\n    font-size: 13px;\n    color: #555;\n    margin-left: 4px;\n    line-height: 19px;\n  }\n</style>\n<div class=\"ansiout\">[REDACTED]/tmp/dev/uld/API_InGuru/inguro_acidente_trab_com_obito_Nodo_Raiz\n[REDACTED]/tmp/dev/uld/API_InGuru/inguro_acidente_trab_com_obito_NODO_ACIDENTES_DE_TRABALHO_COM_ÓBITOS\n</div>"
      ]
     },
     "metadata": {
      "application/vnd.databricks.v1+output": {
       "addedWidgets": {},
       "arguments": {},
       "data": "<div class=\"ansiout\">[REDACTED]/tmp/dev/uld/API_InGuru/inguro_acidente_trab_com_obito_Nodo_Raiz\n[REDACTED]/tmp/dev/uld/API_InGuru/inguro_acidente_trab_com_obito_NODO_ACIDENTES_DE_TRABALHO_COM_ÓBITOS\n</div>",
       "datasetInfos": [],
       "metadata": {},
       "removedWidgets": [],
       "type": "html"
      }
     },
     "output_type": "display_data"
    }
   ],
   "source": [
    "# CARREGAMENTO DAS TABELAS PARA VER SE FORAM SALVAS CORRETAMENTE\n",
    "test_dfs = []\n",
    "for i, df in enumerate(graph_dfs):\n",
    "  path = source_lnd + \"_\" + str(graph_names[i])\n",
    "  test_dfs.append(spark.read.parquet(path))\n",
    "  print(path)"
   ]
  },
  {
   "cell_type": "code",
   "execution_count": 0,
   "metadata": {
    "application/vnd.databricks.v1+cell": {
     "cellMetadata": {},
     "inputWidgets": {},
     "nuid": "a027ecc5-2295-4fb6-87b1-ad9efa138acd",
     "showTitle": false,
     "title": ""
    }
   },
   "outputs": [
    {
     "output_type": "display_data",
     "data": {
      "text/html": [
       "<style scoped>\n  .ansiout {\n    display: block;\n    unicode-bidi: embed;\n    white-space: pre-wrap;\n    word-wrap: break-word;\n    word-break: break-all;\n    font-family: \"Source Code Pro\", \"Menlo\", monospace;;\n    font-size: 13px;\n    color: #555;\n    margin-left: 4px;\n    line-height: 19px;\n  }\n</style>\n<div class=\"ansiout\">5164\n</div>"
      ]
     },
     "metadata": {
      "application/vnd.databricks.v1+output": {
       "addedWidgets": {},
       "arguments": {},
       "data": "<div class=\"ansiout\">5164\n</div>",
       "datasetInfos": [],
       "metadata": {},
       "removedWidgets": [],
       "type": "html"
      }
     },
     "output_type": "display_data"
    }
   ],
   "source": [
    "print(test_dfs[1].count())"
   ]
  },
  {
   "cell_type": "code",
   "execution_count": 0,
   "metadata": {
    "application/vnd.databricks.v1+cell": {
     "cellMetadata": {},
     "inputWidgets": {},
     "nuid": "6b0afec3-2201-4ad3-b7ac-3725d37fd24e",
     "showTitle": false,
     "title": ""
    }
   },
   "outputs": [
    {
     "output_type": "display_data",
     "data": {
      "text/html": [
       "<style scoped>\n  .ansiout {\n    display: block;\n    unicode-bidi: embed;\n    white-space: pre-wrap;\n    word-wrap: break-word;\n    word-break: break-all;\n    font-family: \"Source Code Pro\", \"Menlo\", monospace;;\n    font-size: 13px;\n    color: #555;\n    margin-left: 4px;\n    line-height: 19px;\n  }\n</style>\n<div class=\"ansiout\"></div>"
      ]
     },
     "metadata": {
      "application/vnd.databricks.v1+output": {
       "addedWidgets": {},
       "arguments": {},
       "data": "<div class=\"ansiout\"></div>",
       "datasetInfos": [],
       "metadata": {},
       "removedWidgets": [],
       "type": "html"
      }
     },
     "output_type": "display_data"
    }
   ],
   "source": [
    "# #ZERAR A BASE\n",
    "\n",
    "# dh_insertion_raw = var_adf[\"adf_trigger_time\"].split(\".\")[0]\n",
    "\n",
    "# data = {\n",
    "#   'id': 0,\n",
    "#   'domain': 'Não informado',\n",
    "#   'title': 'Não informado',\n",
    "#   'subtitle': 'Não informado',\n",
    "#   'author': 'Não informado',\n",
    "#   'content': 'Não informado',\n",
    "#   'url': 'Não informado',\n",
    "#   'source': 'Não informado',\n",
    "#   'source_country': 'Não informado',\n",
    "#   'source_state': 'Não informado',\n",
    "#   'crawled_date': '1900-01-01 00:00:00',\n",
    "#   'published_date': '1900-01-01 00:00:00',\n",
    "#   'dh_insertion_raw': '2020-06-08T01:42:41.000+0000'\n",
    "# }\n",
    "# schema = StructType([\n",
    "#   StructField(\"id\", LongType(), nullable=True),\n",
    "#   StructField(\"domain\", StringType(), nullable=True),\n",
    "#   StructField(\"title\", StringType(), nullable=True),\n",
    "#   StructField(\"subtitle\", StringType(), nullable=True),\n",
    "#   StructField(\"author\", StringType(), nullable=True),\n",
    "#   StructField(\"content\", StringType(), nullable=True),\n",
    "#   StructField(\"url\", StringType(), nullable=True),\n",
    "#   StructField(\"source\", StringType(), nullable=True),\n",
    "#   StructField(\"source_country\", StringType(), nullable=True),\n",
    "#   StructField(\"source_state\", StringType(), nullable=True),\n",
    "#   StructField(\"crawled_date\", StringType(), nullable=True),\n",
    "#   StructField(\"published_date\", StringType(), nullable=True),\n",
    "#   StructField(\"dh_insertion_raw\", StringType(), nullable=True)\n",
    "#   ])\n",
    "\n",
    "# data['id'] = int(data['id'])\n",
    "\n",
    "# # dfff = pd.DataFrame(data, index=[0])\n",
    "# spark_dfff = spark.createDataFrame([tuple(data.values())], schema=schema)\n",
    "# for i, df in enumerate(graph_dfs):\n",
    "#   path = source_lnd + \"_\" + str(graph_names[i])\n",
    "#   spark_dfff.write.parquet(path, mode=\"overwrite\")\n",
    "  "
   ]
  }
 ],
 "metadata": {
  "application/vnd.databricks.v1+notebook": {
   "dashboards": [],
   "language": "python",
   "notebookMetadata": {
    "pythonIndentUnit": 2
   },
   "notebookName": "org_raw_inguru_acidente_trab_com_obito_full",
   "notebookOrigID": 2337396011154367,
   "widgets": {}
  }
 },
 "nbformat": 4,
 "nbformat_minor": 0
}
