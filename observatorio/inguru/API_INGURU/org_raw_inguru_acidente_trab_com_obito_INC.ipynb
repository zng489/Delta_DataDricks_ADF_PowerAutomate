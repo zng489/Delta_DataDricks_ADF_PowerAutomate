{
 "cells": [
  {
   "cell_type": "code",
   "execution_count": 0,
   "metadata": {
    "application/vnd.databricks.v1+cell": {
     "cellMetadata": {},
     "inputWidgets": {},
     "nuid": "ab1d9f06-5041-4664-92b5-13e2262b5e92",
     "showTitle": false,
     "title": ""
    }
   },
   "outputs": [],
   "source": [
    "#SALVANDO EM: \n",
    "# /tmp/dev/uld/API_InGuru/inguro_acidente_trab_com_obito_NODO_ACIDENTES_DE_TRABALHO_COM_ÓBITOS                 (base inicial)\n",
    "# /tmp/dev/uld/API_InGuru/inguro_acidente_trab_com_obito_NODO_ACIDENTES_DE_TRABALHO_COM_ÓBITOS_data=ddmmaaa    (incrementais)\n",
    "\n",
    "# /tmp/dev/uld/API_InGuru/inguro_acidente_trab_com_obito_Nodo_Raiz\n",
    "# /tmp/dev/uld/API_InGuru/inguro_acidente_trab_com_obito_Nodo_Raiz_data=ddmmaaaa"
   ]
  },
  {
   "cell_type": "code",
   "execution_count": 0,
   "metadata": {
    "application/vnd.databricks.v1+cell": {
     "cellMetadata": {
      "byteLimit": 2048000,
      "rowLimit": 10000
     },
     "inputWidgets": {},
     "nuid": "5bc11f5a-fdd8-4a4c-8f4d-85896c378491",
     "showTitle": false,
     "title": ""
    }
   },
   "outputs": [
    {
     "output_type": "display_data",
     "data": {
      "text/html": [
       "<style scoped>\n  .ansiout {\n    display: block;\n    unicode-bidi: embed;\n    white-space: pre-wrap;\n    word-wrap: break-word;\n    word-break: break-all;\n    font-family: \"Source Code Pro\", \"Menlo\", monospace;;\n    font-size: 13px;\n    color: #555;\n    margin-left: 4px;\n    line-height: 19px;\n  }\n</style>\n<div class=\"ansiout\"></div>"
      ]
     },
     "metadata": {
      "application/vnd.databricks.v1+output": {
       "addedWidgets": {},
       "arguments": {},
       "data": "<div class=\"ansiout\"></div>",
       "datasetInfos": [],
       "metadata": {},
       "removedWidgets": [],
       "type": "html"
      }
     },
     "output_type": "display_data"
    }
   ],
   "source": [
    "import json\n",
    "import re\n",
    "import cni_connectors.adls_gen1_connector as connector\n",
    "import pyspark.sql.functions as f\n",
    "import crawler.functions as cf\n",
    "import requests\n",
    "import pandas as pd\n",
    "import numpy as np\n",
    "from datetime import datetime, timedelta\n",
    "from pyspark.sql.types import StructType, StructField, StringType, TimestampType, LongType, DoubleType"
   ]
  },
  {
   "cell_type": "code",
   "execution_count": 0,
   "metadata": {
    "application/vnd.databricks.v1+cell": {
     "cellMetadata": {
      "byteLimit": 2048000,
      "rowLimit": 10000
     },
     "inputWidgets": {},
     "nuid": "df41412a-928c-4468-b033-6f048dd9b86a",
     "showTitle": false,
     "title": ""
    }
   },
   "outputs": [
    {
     "output_type": "display_data",
     "data": {
      "text/html": [
       "<style scoped>\n  .ansiout {\n    display: block;\n    unicode-bidi: embed;\n    white-space: pre-wrap;\n    word-wrap: break-word;\n    word-break: break-all;\n    font-family: \"Source Code Pro\", \"Menlo\", monospace;;\n    font-size: 13px;\n    color: #555;\n    margin-left: 4px;\n    line-height: 19px;\n  }\n</style>\n<div class=\"ansiout\">fornecedor_dev\ndev-execution\n</div>"
      ]
     },
     "metadata": {
      "application/vnd.databricks.v1+output": {
       "addedWidgets": {},
       "arguments": {},
       "data": "<div class=\"ansiout\">fornecedor_dev\ndev-execution\n</div>",
       "datasetInfos": [],
       "metadata": {},
       "removedWidgets": [],
       "type": "html"
      }
     },
     "output_type": "display_data"
    }
   ],
   "source": [
    "var_adls_uri = connector.adls_gen1_connect(spark, dbutils, scope=\"adls_gen2\", dynamic_overwrite=\"dynamic\")"
   ]
  },
  {
   "cell_type": "code",
   "execution_count": 0,
   "metadata": {
    "application/vnd.databricks.v1+cell": {
     "cellMetadata": {
      "byteLimit": 2048000,
      "rowLimit": 10000
     },
     "inputWidgets": {},
     "nuid": "481215a7-ab51-4c52-8c51-cbc1bd7e99d9",
     "showTitle": false,
     "title": ""
    }
   },
   "outputs": [
    {
     "output_type": "display_data",
     "data": {
      "text/html": [
       "<style scoped>\n  .ansiout {\n    display: block;\n    unicode-bidi: embed;\n    white-space: pre-wrap;\n    word-wrap: break-word;\n    word-break: break-all;\n    font-family: \"Source Code Pro\", \"Menlo\", monospace;;\n    font-size: 13px;\n    color: #555;\n    margin-left: 4px;\n    line-height: 19px;\n  }\n</style>\n<div class=\"ansiout\"></div>"
      ]
     },
     "metadata": {
      "application/vnd.databricks.v1+output": {
       "addedWidgets": {},
       "arguments": {},
       "data": "<div class=\"ansiout\"></div>",
       "datasetInfos": [],
       "metadata": {},
       "removedWidgets": [],
       "type": "html"
      }
     },
     "output_type": "display_data"
    }
   ],
   "source": [
    "#Parametros de entrado do ADF\n",
    "var_file = {'namespace':'API_InGuru',\n",
    "'file_folder':'inguro_acidente_trab_com_obito',\n",
    "'extension':'csv',\n",
    "'column_delimiter':',',\n",
    "'encoding':'UTF-8',\n",
    "'null_value':''}\n",
    "\n",
    "#Caminho de Dev\n",
    "var_dls = {\n",
    "    \"folders\":{\"landing\":\"/tmp/dev/uld\",\n",
    "    \"error\":\"/tmp/dev/err\",\n",
    "    \"staging\":\"/tmp/dev/stg\",\n",
    "    \"log\":\"/tmp/dev/log\",\n",
    "    \"raw\":\"/tmp/dev/raw\",\n",
    "    \"trusted\":\"/tmp/dev/trs\",\n",
    "    \"business\":\"/tmp/dev/biz\",\n",
    "    \"landing\":\"/tmp/dev/uld\"          }}\n",
    "#Parametros do ADF (Nativo)\n",
    "var_adf = {\n",
    "    \"adf_factory_name\": \"cnibigdatafactory\",\n",
    "    \"adf_pipeline_name\": \"org_raw_acidente_trab_com_obito\",\n",
    "    \"adf_pipeline_run_id\": \"60ee3485-4a56-4ad1-99ae-666666666\",\n",
    "    \"adf_trigger_id\": \"62bee9e9-acbb-49cc-80f2-666666666\",\n",
    "    \"adf_trigger_name\": \"62bee9e9-acbb-49cc-80f2-66666666\",\n",
    "    \"adf_trigger_time\": \"2020-06-08T01:42:41.5507749Z\",\n",
    "    \"adf_trigger_type\": \"PipelineActivity\"\n",
    "}"
   ]
  },
  {
   "cell_type": "code",
   "execution_count": 0,
   "metadata": {
    "application/vnd.databricks.v1+cell": {
     "cellMetadata": {
      "byteLimit": 2048000,
      "rowLimit": 10000
     },
     "inputWidgets": {},
     "nuid": "96ad041b-8099-4e71-afb3-8255e38bb3b1",
     "showTitle": false,
     "title": ""
    }
   },
   "outputs": [
    {
     "output_type": "display_data",
     "data": {
      "text/html": [
       "<style scoped>\n  .ansiout {\n    display: block;\n    unicode-bidi: embed;\n    white-space: pre-wrap;\n    word-wrap: break-word;\n    word-break: break-all;\n    font-family: \"Source Code Pro\", \"Menlo\", monospace;;\n    font-size: 13px;\n    color: #555;\n    margin-left: 4px;\n    line-height: 19px;\n  }\n</style>\n<div class=\"ansiout\"></div>"
      ]
     },
     "metadata": {
      "application/vnd.databricks.v1+output": {
       "addedWidgets": {},
       "arguments": {},
       "data": "<div class=\"ansiout\"></div>",
       "datasetInfos": [],
       "metadata": {},
       "removedWidgets": [],
       "type": "html"
      }
     },
     "output_type": "display_data"
    }
   ],
   "source": [
    "#Acesso ao json do CMD\n",
    "lnd = var_dls['folders']['landing']\n",
    "raw = var_dls['folders']['raw']"
   ]
  },
  {
   "cell_type": "code",
   "execution_count": 0,
   "metadata": {
    "application/vnd.databricks.v1+cell": {
     "cellMetadata": {
      "byteLimit": 2048000,
      "rowLimit": 10000
     },
     "inputWidgets": {},
     "nuid": "5289e2ac-5b6a-4d0f-91f3-814a067b5b28",
     "showTitle": false,
     "title": ""
    }
   },
   "outputs": [
    {
     "output_type": "display_data",
     "data": {
      "text/html": [
       "<style scoped>\n  .ansiout {\n    display: block;\n    unicode-bidi: embed;\n    white-space: pre-wrap;\n    word-wrap: break-word;\n    word-break: break-all;\n    font-family: \"Source Code Pro\", \"Menlo\", monospace;;\n    font-size: 13px;\n    color: #555;\n    margin-left: 4px;\n    line-height: 19px;\n  }\n</style>\n<div class=\"ansiout\">Out[5]: &#39;/tmp/dev/uld/API_InGuru/inguro_acidente_trab_com_obito/&#39;</div>"
      ]
     },
     "metadata": {
      "application/vnd.databricks.v1+output": {
       "addedWidgets": {},
       "arguments": {},
       "data": "<div class=\"ansiout\">Out[5]: &#39;/tmp/dev/uld/API_InGuru/inguro_acidente_trab_com_obito/&#39;</div>",
       "datasetInfos": [],
       "metadata": {},
       "removedWidgets": [],
       "type": "html"
      }
     },
     "output_type": "display_data"
    }
   ],
   "source": [
    "var_source = \"{lnd}/{namespace}/{file_folder}/\".format(lnd=lnd, namespace=var_file['namespace'], file_folder=var_file['file_folder'])\n",
    "var_source"
   ]
  },
  {
   "cell_type": "code",
   "execution_count": 0,
   "metadata": {
    "application/vnd.databricks.v1+cell": {
     "cellMetadata": {
      "byteLimit": 2048000,
      "rowLimit": 10000
     },
     "inputWidgets": {},
     "nuid": "4cb341e9-71f9-44aa-9d07-8742690c89d1",
     "showTitle": false,
     "title": ""
    }
   },
   "outputs": [
    {
     "output_type": "display_data",
     "data": {
      "text/html": [
       "<style scoped>\n  .ansiout {\n    display: block;\n    unicode-bidi: embed;\n    white-space: pre-wrap;\n    word-wrap: break-word;\n    word-break: break-all;\n    font-family: \"Source Code Pro\", \"Menlo\", monospace;;\n    font-size: 13px;\n    color: #555;\n    margin-left: 4px;\n    line-height: 19px;\n  }\n</style>\n<div class=\"ansiout\">Out[6]: &#39;[REDACTED]/tmp/dev/uld/API_InGuru/inguro_acidente_trab_com_obito&#39;</div>"
      ]
     },
     "metadata": {
      "application/vnd.databricks.v1+output": {
       "addedWidgets": {},
       "arguments": {},
       "data": "<div class=\"ansiout\">Out[6]: &#39;[REDACTED]/tmp/dev/uld/API_InGuru/inguro_acidente_trab_com_obito&#39;</div>",
       "datasetInfos": [],
       "metadata": {},
       "removedWidgets": [],
       "type": "html"
      }
     },
     "output_type": "display_data"
    }
   ],
   "source": [
    "#Origem e destino\n",
    "source_lnd = \"{adl_path}{lnd}/{namespace}/{file_folder}\".format(adl_path=var_adls_uri, lnd=lnd, namespace=var_file[\"namespace\"],file_folder=var_file[\"file_folder\"])\n",
    "source_lnd"
   ]
  },
  {
   "cell_type": "code",
   "execution_count": 0,
   "metadata": {
    "application/vnd.databricks.v1+cell": {
     "cellMetadata": {
      "byteLimit": 2048000,
      "rowLimit": 10000
     },
     "inputWidgets": {},
     "nuid": "ac332361-a526-45d3-a6b6-945e4a531f8b",
     "showTitle": false,
     "title": ""
    }
   },
   "outputs": [
    {
     "output_type": "display_data",
     "data": {
      "text/html": [
       "<style scoped>\n  .ansiout {\n    display: block;\n    unicode-bidi: embed;\n    white-space: pre-wrap;\n    word-wrap: break-word;\n    word-break: break-all;\n    font-family: \"Source Code Pro\", \"Menlo\", monospace;;\n    font-size: 13px;\n    color: #555;\n    margin-left: 4px;\n    line-height: 19px;\n  }\n</style>\n<div class=\"ansiout\"></div>"
      ]
     },
     "metadata": {
      "application/vnd.databricks.v1+output": {
       "addedWidgets": {},
       "arguments": {},
       "data": "<div class=\"ansiout\"></div>",
       "datasetInfos": [],
       "metadata": {},
       "removedWidgets": [],
       "type": "html"
      }
     },
     "output_type": "display_data"
    }
   ],
   "source": [
    "azure_path = 'abfss://datalake@cnibigdatadlsgen2.dfs.core.windows.net'\n",
    "outputh_path = '{uri}/uds/uniepro/API_InGuru/inguro_vig_acidente_trab'.format(uri=azure_path)\n",
    "\n",
    "def API_INGURU(url, per_page, start_date, end_date):\n",
    "    headers = {\n",
    "    'User-Agent':'Mozilla/5.0 (Windows NT 10.0; Win64; x64) AppleWebKit/537.36 (KHTML, like Gecko) Chrome/100.0.4896.127 Safari/537.36',\n",
    "    'accept':'application/json',\n",
    "    'authorization': '6f64d6a047fad369d35c3806f8f8e0560475075a432585973f91caae35b4ad74'\n",
    "    } \n",
    "\n",
    "    params = {\n",
    "        'per_page': per_page,\n",
    "        'start_date': start_date,\n",
    "        'end_date': end_date,\n",
    "        'sort': '1'\n",
    "    }\n",
    "    response = requests.get(url, headers=headers, params=params)\n",
    "    return response.json()"
   ]
  },
  {
   "cell_type": "code",
   "execution_count": 0,
   "metadata": {
    "application/vnd.databricks.v1+cell": {
     "cellMetadata": {
      "byteLimit": 2048000,
      "rowLimit": 10000
     },
     "inputWidgets": {},
     "nuid": "cba48263-e6bb-4959-9fc6-8a163da95286",
     "showTitle": false,
     "title": ""
    }
   },
   "outputs": [
    {
     "output_type": "display_data",
     "data": {
      "text/html": [
       "<style scoped>\n  .ansiout {\n    display: block;\n    unicode-bidi: embed;\n    white-space: pre-wrap;\n    word-wrap: break-word;\n    word-break: break-all;\n    font-family: \"Source Code Pro\", \"Menlo\", monospace;;\n    font-size: 13px;\n    color: #555;\n    margin-left: 4px;\n    line-height: 19px;\n  }\n</style>\n<div class=\"ansiout\"></div>"
      ]
     },
     "metadata": {
      "application/vnd.databricks.v1+output": {
       "addedWidgets": {},
       "arguments": {},
       "data": "<div class=\"ansiout\"></div>",
       "datasetInfos": [],
       "metadata": {},
       "removedWidgets": [],
       "type": "html"
      }
     },
     "output_type": "display_data"
    }
   ],
   "source": [
    "def divide_data(data_inicial, data_final):\n",
    "    formato_data = '%d/%m/%Y %H:%M'\n",
    "\n",
    "    data_inicial = datetime.strptime(data_inicial, formato_data)\n",
    "    data_final = datetime.strptime(data_final, formato_data)\n",
    "    intervalo = data_final - data_inicial\n",
    "    data_final = data_inicial + intervalo // 2\n",
    "    data_final = data_final.strftime(formato_data)\n",
    "    data_inicial = data_inicial.strftime(formato_data)\n",
    "    return (data_inicial, data_final)"
   ]
  },
  {
   "cell_type": "code",
   "execution_count": 0,
   "metadata": {
    "application/vnd.databricks.v1+cell": {
     "cellMetadata": {
      "byteLimit": 2048000,
      "rowLimit": 10000
     },
     "inputWidgets": {},
     "nuid": "204feeb1-3fba-4ec1-ab87-61df53efe902",
     "showTitle": false,
     "title": ""
    }
   },
   "outputs": [
    {
     "output_type": "display_data",
     "data": {
      "text/html": [
       "<style scoped>\n  .ansiout {\n    display: block;\n    unicode-bidi: embed;\n    white-space: pre-wrap;\n    word-wrap: break-word;\n    word-break: break-all;\n    font-family: \"Source Code Pro\", \"Menlo\", monospace;;\n    font-size: 13px;\n    color: #555;\n    margin-left: 4px;\n    line-height: 19px;\n  }\n</style>\n<div class=\"ansiout\"></div>"
      ]
     },
     "metadata": {
      "application/vnd.databricks.v1+output": {
       "addedWidgets": {},
       "arguments": {},
       "data": "<div class=\"ansiout\"></div>",
       "datasetInfos": [],
       "metadata": {},
       "removedWidgets": [],
       "type": "html"
      }
     },
     "output_type": "display_data"
    }
   ],
   "source": [
    "def load_big_df(path):\n",
    "  schema = StructType([\n",
    "    StructField(\"id\", LongType(), nullable=True),\n",
    "    StructField(\"domain\", StringType(), nullable=True),\n",
    "    StructField(\"title\", StringType(), nullable=True),\n",
    "    StructField(\"subtitle\", StringType(), nullable=True),\n",
    "    StructField(\"author\", StringType(), nullable=True),\n",
    "    StructField(\"content\", StringType(), nullable=True),\n",
    "    StructField(\"url\", StringType(), nullable=True),\n",
    "    StructField(\"source\", StringType(), nullable=True),\n",
    "    StructField(\"source_country\", StringType(), nullable=True),\n",
    "    StructField(\"source_state\", StringType(), nullable=True),\n",
    "    StructField(\"crawled_date\", StringType(), nullable=True),\n",
    "    StructField(\"published_date\", StringType(), nullable=True),\n",
    "    StructField(\"dh_insertion_raw\", StringType(), nullable=True)\n",
    "  ])\n",
    "\n",
    "  df = spark.read.schema(schema) \\\n",
    "             .option(\"mergeSchema\", \"true\") \\\n",
    "             .option(\"timestampFormat\", \"INT96\") \\\n",
    "             .parquet(path) \\\n",
    "             .withColumn(\"dh_insertion_raw\", f.col(\"dh_insertion_raw\").cast(\"timestamp\"))\\\n",
    "             .withColumn(\"crawled_date\", f.col(\"crawled_date\").cast(\"timestamp\"))\n",
    "  \n",
    "  return df"
   ]
  },
  {
   "cell_type": "code",
   "execution_count": 0,
   "metadata": {
    "application/vnd.databricks.v1+cell": {
     "cellMetadata": {
      "byteLimit": 2048000,
      "rowLimit": 10000
     },
     "inputWidgets": {},
     "nuid": "84f69c0f-dbbe-460a-84af-1cfb7f135caa",
     "showTitle": false,
     "title": ""
    }
   },
   "outputs": [
    {
     "output_type": "display_data",
     "data": {
      "text/html": [
       "<style scoped>\n  .ansiout {\n    display: block;\n    unicode-bidi: embed;\n    white-space: pre-wrap;\n    word-wrap: break-word;\n    word-break: break-all;\n    font-family: \"Source Code Pro\", \"Menlo\", monospace;;\n    font-size: 13px;\n    color: #555;\n    margin-left: 4px;\n    line-height: 19px;\n  }\n</style>\n<div class=\"ansiout\"></div>"
      ]
     },
     "metadata": {
      "application/vnd.databricks.v1+output": {
       "addedWidgets": {},
       "arguments": {},
       "data": "<div class=\"ansiout\"></div>",
       "datasetInfos": [],
       "metadata": {},
       "removedWidgets": [],
       "type": "html"
      }
     },
     "output_type": "display_data"
    }
   ],
   "source": [
    "def get_news(data_inicial, data_final, id):\n",
    "    url = 'https://app.inguru.me/api/v1/taxonomies/nodes/news/'+str(id)\n",
    "\n",
    "    array_dfs = []\n",
    "\n",
    "    getted_news = 0\n",
    "    \n",
    "    total_news = API_INGURU(url, 1, data_inicial, data_final)['pagination']['total']\n",
    "\n",
    "    \n",
    "    if not total_news:\n",
    "      parcial_data_inicial = data_inicial\n",
    "      parcial_data_final = data_final\n",
    "      dados = {\n",
    "        'author': np.nan,\n",
    "        'content': np.nan,\n",
    "        'crawled_date': np.nan,\n",
    "        'domain': np.nan,\n",
    "        'id': np.nan,\n",
    "        'published_date': np.nan,\n",
    "        'source': np.nan,\n",
    "        'source_country': np.nan,\n",
    "        'source_state': np.nan,\n",
    "        'subtitle': np.nan,\n",
    "        'title': np.nan,\n",
    "        'url': np.nan,\n",
    "        'dh_insertion_raw': np.nan\n",
    "      }\n",
    "      fail_df = pd.DataFrame(dados, index=[0])\n",
    "      array_dfs.append(fail_df)\n",
    "      parcial_data_inicial = parcial_data_final\n",
    "      parcial_data_final = data_final\n",
    "    else:\n",
    "      \n",
    "      print('Total de notícias: ', total_news)\n",
    "\n",
    "      parcial_data_inicial = data_inicial\n",
    "      parcial_data_final = data_final\n",
    "\n",
    "      while getted_news < total_news:\n",
    "\n",
    "          parcial_news = total_news\n",
    "\n",
    "          while parcial_news > 10000:\n",
    "              print('Parcial de notícias: ', parcial_news)\n",
    "              parcial_data_inicial, parcial_data_final = divide_data(parcial_data_inicial, parcial_data_final)\n",
    "              parcial_news = API_INGURU(url, 1, parcial_data_inicial, parcial_data_final)['pagination']['total']\n",
    "\n",
    "          print(\"fazendo requisicao\")\n",
    "          print('Data inicial: ', parcial_data_inicial)\n",
    "          print('Data final: ', parcial_data_final)\n",
    "          news = API_INGURU(url, parcial_news, parcial_data_inicial, parcial_data_final)['data']\n",
    "\n",
    "          #CRIA UM DATAFRAME COM AS NOTICIAS\n",
    "          noticias = pd.DataFrame(news)\n",
    "          #ADICIONA NUM ARRAY DE DATAFRAME\n",
    "          array_dfs.append(noticias)\n",
    "\n",
    "          #corrige as datas\n",
    "\n",
    "          parcial_data_inicial = parcial_data_final\n",
    "          parcial_data_final = data_final\n",
    "\n",
    "          getted_news += parcial_news\n",
    "          \n",
    "\n",
    "    return pd.concat(array_dfs)"
   ]
  },
  {
   "cell_type": "code",
   "execution_count": 0,
   "metadata": {
    "application/vnd.databricks.v1+cell": {
     "cellMetadata": {
      "byteLimit": 2048000,
      "rowLimit": 10000
     },
     "inputWidgets": {},
     "nuid": "6027a6b3-a18d-48ca-ad15-54f7703523ff",
     "showTitle": false,
     "title": ""
    }
   },
   "outputs": [
    {
     "output_type": "display_data",
     "data": {
      "text/html": [
       "<style scoped>\n  .ansiout {\n    display: block;\n    unicode-bidi: embed;\n    white-space: pre-wrap;\n    word-wrap: break-word;\n    word-break: break-all;\n    font-family: \"Source Code Pro\", \"Menlo\", monospace;;\n    font-size: 13px;\n    color: #555;\n    margin-left: 4px;\n    line-height: 19px;\n  }\n</style>\n<div class=\"ansiout\">Total de notícias:  19057\nParcial de notícias:  19057\nParcial de notícias:  10825\nfazendo requisicao\nData inicial:  08/03/2023 03:25\nData final:  09/03/2023 21:25\nParcial de notícias:  19057\nfazendo requisicao\nData inicial:  09/03/2023 21:25\nData final:  12/03/2023 12:25\nParcial de notícias:  19057\nfazendo requisicao\nData inicial:  12/03/2023 12:25\nData final:  13/03/2023 19:55\nParcial de notícias:  19057\nfazendo requisicao\nData inicial:  13/03/2023 19:55\nData final:  14/03/2023 11:40\nParcial de notícias:  19057\nfazendo requisicao\nData inicial:  14/03/2023 11:40\nData final:  14/03/2023 19:32\nParcial de notícias:  19057\nfazendo requisicao\nData inicial:  14/03/2023 19:32\nData final:  14/03/2023 23:28\nParcial de notícias:  19057\nfazendo requisicao\nData inicial:  14/03/2023 23:28\nData final:  15/03/2023 01:26\nTotal de notícias:  138\nfazendo requisicao\nData inicial:  08/03/2023 03:25\nData final:  15/03/2023 03:25\n</div>"
      ]
     },
     "metadata": {
      "application/vnd.databricks.v1+output": {
       "addedWidgets": {},
       "arguments": {},
       "data": "<div class=\"ansiout\">Total de notícias:  19057\nParcial de notícias:  19057\nParcial de notícias:  10825\nfazendo requisicao\nData inicial:  08/03/2023 03:25\nData final:  09/03/2023 21:25\nParcial de notícias:  19057\nfazendo requisicao\nData inicial:  09/03/2023 21:25\nData final:  12/03/2023 12:25\nParcial de notícias:  19057\nfazendo requisicao\nData inicial:  12/03/2023 12:25\nData final:  13/03/2023 19:55\nParcial de notícias:  19057\nfazendo requisicao\nData inicial:  13/03/2023 19:55\nData final:  14/03/2023 11:40\nParcial de notícias:  19057\nfazendo requisicao\nData inicial:  14/03/2023 11:40\nData final:  14/03/2023 19:32\nParcial de notícias:  19057\nfazendo requisicao\nData inicial:  14/03/2023 19:32\nData final:  14/03/2023 23:28\nParcial de notícias:  19057\nfazendo requisicao\nData inicial:  14/03/2023 23:28\nData final:  15/03/2023 01:26\nTotal de notícias:  138\nfazendo requisicao\nData inicial:  08/03/2023 03:25\nData final:  15/03/2023 03:25\n</div>",
       "datasetInfos": [],
       "metadata": {},
       "removedWidgets": [],
       "type": "html"
      }
     },
     "output_type": "display_data"
    }
   ],
   "source": [
    "#SALVANDO EM: /tmp/dev/uld/API_InGuru/inguro_vig_acidente_trab_NOME_DO_NO\n",
    "# /tmp/dev/uld/API_InGuru/inguro_vig_acidente_trab_NODO_RAIZ\n",
    "# /tmp/dev/uld/API_InGuru/inguro_vig_acidente_trab_Acidentes_de_Trabalho_Judicializados\n",
    "# /tmp/dev/uld/API_I\n",
    "\n",
    "graph_ids = []\n",
    "graph_names = []\n",
    "graph_dfs = []\n",
    "\n",
    "nodeID = '927' #Declaração do ID\n",
    "\n",
    "url_nodeID = 'https://app.inguru.me/api/v1/taxonomies/nodes/'+str(nodeID)\n",
    "IDs = API_INGURU(url = url_nodeID, per_page=1, start_date='', end_date='')['data'][0]\n",
    "graph_ids.append(IDs['id'])\n",
    "graph_names.append(IDs['name'].replace(\" \", \"_\"))\n",
    "\n",
    "#Passa por cada \"filho\" no nó principal, caso não tenha nenhum, nada acontece.\n",
    "for node_children in IDs['children']:\n",
    "  graph_ids.append(node_children['id'])\n",
    "  graph_names.append(node_children['name'].replace(\" \", \"_\"))\n",
    "\n",
    "#Obtém as notícias de cada nó encontrado começando pelo nó principal.\n",
    "#Cria um df com as notícias obtidas e salva em um array de dfs.\n",
    "end_date = datetime.now().strftime(\"%d/%m/%Y %H:%M\")\n",
    "start_date = (datetime.now() - timedelta(days=7)).strftime(\"%d/%m/%Y %H:%M\")\n",
    "for id in graph_ids:\n",
    "  url = 'https://app.inguru.me/api/v1/taxonomies/nodes/news/'+str(id)\n",
    "  temp_df = get_news(start_date,end_date, id).fillna(\"Não informado\")\n",
    "  graph_dfs.append(spark.createDataFrame(temp_df))\n"
   ]
  },
  {
   "cell_type": "code",
   "execution_count": 0,
   "metadata": {
    "application/vnd.databricks.v1+cell": {
     "cellMetadata": {
      "byteLimit": 2048000,
      "rowLimit": 10000
     },
     "inputWidgets": {},
     "nuid": "ac102f6b-a8d2-4e01-b629-113514ba4011",
     "showTitle": false,
     "title": ""
    }
   },
   "outputs": [
    {
     "output_type": "display_data",
     "data": {
      "text/html": [
       "<style scoped>\n  .ansiout {\n    display: block;\n    unicode-bidi: embed;\n    white-space: pre-wrap;\n    word-wrap: break-word;\n    word-break: break-all;\n    font-family: \"Source Code Pro\", \"Menlo\", monospace;;\n    font-size: 13px;\n    color: #555;\n    margin-left: 4px;\n    line-height: 19px;\n  }\n</style>\n<div class=\"ansiout\"></div>"
      ]
     },
     "metadata": {
      "application/vnd.databricks.v1+output": {
       "addedWidgets": {},
       "arguments": {},
       "data": "<div class=\"ansiout\"></div>",
       "datasetInfos": [],
       "metadata": {},
       "removedWidgets": [],
       "type": "html"
      }
     },
     "output_type": "display_data"
    }
   ],
   "source": [
    "#Inserção de hora nas tabelas.\n",
    "dh_insertion_raw = var_adf[\"adf_trigger_time\"].split(\".\")[0] #Obtendo hora do sistema\n",
    "\n",
    "for i in range(len(graph_dfs)):\n",
    "  graph_dfs[i] = graph_dfs[i].withColumn(\"dh_insertion_raw\", f.lit(dh_insertion_raw).cast(\"string\")) #Gravando hora em cada um dos dataframes"
   ]
  },
  {
   "cell_type": "code",
   "execution_count": 0,
   "metadata": {
    "application/vnd.databricks.v1+cell": {
     "cellMetadata": {
      "byteLimit": 2048000,
      "rowLimit": 10000
     },
     "inputWidgets": {},
     "nuid": "e3f35010-7b90-4470-9255-a6852a1b2555",
     "showTitle": false,
     "title": ""
    }
   },
   "outputs": [
    {
     "output_type": "display_data",
     "data": {
      "text/html": [
       "<style scoped>\n  .ansiout {\n    display: block;\n    unicode-bidi: embed;\n    white-space: pre-wrap;\n    word-wrap: break-word;\n    word-break: break-all;\n    font-family: \"Source Code Pro\", \"Menlo\", monospace;;\n    font-size: 13px;\n    color: #555;\n    margin-left: 4px;\n    line-height: 19px;\n  }\n</style>\n<div class=\"ansiout\">2023-03-10 11:00:51 2023-03-03 11:00:51\n2023-03-09 23:25:01 2023-03-02 23:25:01\n</div>"
      ]
     },
     "metadata": {
      "application/vnd.databricks.v1+output": {
       "addedWidgets": {},
       "arguments": {},
       "data": "<div class=\"ansiout\">2023-03-10 11:00:51 2023-03-03 11:00:51\n2023-03-09 23:25:01 2023-03-02 23:25:01\n</div>",
       "datasetInfos": [],
       "metadata": {},
       "removedWidgets": [],
       "type": "html"
      }
     },
     "output_type": "display_data"
    }
   ],
   "source": [
    "#Adição de novos registros\n",
    "\n",
    "for i in range(len(graph_dfs)):\n",
    "  path = source_lnd + \"_\" + str(graph_names[i])\n",
    "  read_path = path + str(\"*\")\n",
    "  old_df = load_big_df(read_path)\n",
    "  \n",
    "  max_date = old_df.select(f.max(\"crawled_date\")).collect()[0][0]\n",
    "  \n",
    "  min_date = max_date - timedelta(days=7)\n",
    "  print(max_date, min_date)\n",
    "  old_df.filter(old_df[\"crawled_date\"] > min_date)\n",
    "  \n",
    "  diff_df = graph_dfs[i].join(old_df, on='id', how='left_anti')\n",
    "  \n",
    "  date = datetime.today().strftime(\"%d%m%Y\")\n",
    "  write_path = path + str(f\"_data={date}\")\n",
    "  diff_df.write.parquet(write_path, 'append')"
   ]
  },
  {
   "cell_type": "code",
   "execution_count": 0,
   "metadata": {
    "application/vnd.databricks.v1+cell": {
     "cellMetadata": {},
     "inputWidgets": {},
     "nuid": "6144378b-ea71-4d1e-8ae1-2c40bdee29e0",
     "showTitle": false,
     "title": ""
    }
   },
   "outputs": [],
   "source": []
  }
 ],
 "metadata": {
  "application/vnd.databricks.v1+notebook": {
   "dashboards": [],
   "language": "python",
   "notebookMetadata": {
    "pythonIndentUnit": 2
   },
   "notebookName": "org_raw_inguru_acidente_trab_com_obito_INC",
   "notebookOrigID": 2224768916729752,
   "widgets": {}
  }
 },
 "nbformat": 4,
 "nbformat_minor": 0
}
