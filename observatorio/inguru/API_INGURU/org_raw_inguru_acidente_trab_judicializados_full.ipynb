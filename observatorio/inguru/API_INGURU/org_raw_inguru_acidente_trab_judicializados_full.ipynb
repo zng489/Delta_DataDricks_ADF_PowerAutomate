{
 "cells": [
  {
   "cell_type": "code",
   "execution_count": 0,
   "metadata": {
    "application/vnd.databricks.v1+cell": {
     "cellMetadata": {},
     "inputWidgets": {},
     "nuid": "7ad4baf4-84a3-4683-a682-f8bae6a72f7a",
     "showTitle": false,
     "title": ""
    }
   },
   "outputs": [
    {
     "output_type": "display_data",
     "data": {
      "text/html": [
       "<style scoped>\n  .ansiout {\n    display: block;\n    unicode-bidi: embed;\n    white-space: pre-wrap;\n    word-wrap: break-word;\n    word-break: break-all;\n    font-family: \"Source Code Pro\", \"Menlo\", monospace;;\n    font-size: 13px;\n    color: #555;\n    margin-left: 4px;\n    line-height: 19px;\n  }\n</style>\n<div class=\"ansiout\"></div>"
      ]
     },
     "metadata": {
      "application/vnd.databricks.v1+output": {
       "addedWidgets": {},
       "arguments": {},
       "data": "<div class=\"ansiout\"></div>",
       "datasetInfos": [],
       "metadata": {},
       "removedWidgets": [],
       "type": "html"
      }
     },
     "output_type": "display_data"
    }
   ],
   "source": [
    "import json\n",
    "import re\n",
    "import cni_connectors.adls_gen1_connector as connector\n",
    "import pyspark.sql.functions as f\n",
    "import crawler.functions as cf\n",
    "import requests\n",
    "import pandas as pd\n",
    "import numpy as np\n",
    "from datetime import datetime, timedelta\n",
    "from pyspark.sql.types import StructType, StructField, StringType, TimestampType, LongType, DoubleType"
   ]
  },
  {
   "cell_type": "code",
   "execution_count": 0,
   "metadata": {
    "application/vnd.databricks.v1+cell": {
     "cellMetadata": {},
     "inputWidgets": {},
     "nuid": "c82494d1-bb2d-4354-8877-e520296f45e7",
     "showTitle": false,
     "title": ""
    }
   },
   "outputs": [
    {
     "output_type": "display_data",
     "data": {
      "text/html": [
       "<style scoped>\n  .ansiout {\n    display: block;\n    unicode-bidi: embed;\n    white-space: pre-wrap;\n    word-wrap: break-word;\n    word-break: break-all;\n    font-family: \"Source Code Pro\", \"Menlo\", monospace;;\n    font-size: 13px;\n    color: #555;\n    margin-left: 4px;\n    line-height: 19px;\n  }\n</style>\n<div class=\"ansiout\">fornecedor_dev\ndev-execution\n</div>"
      ]
     },
     "metadata": {
      "application/vnd.databricks.v1+output": {
       "addedWidgets": {},
       "arguments": {},
       "data": "<div class=\"ansiout\">fornecedor_dev\ndev-execution\n</div>",
       "datasetInfos": [],
       "metadata": {},
       "removedWidgets": [],
       "type": "html"
      }
     },
     "output_type": "display_data"
    }
   ],
   "source": [
    "var_adls_uri = connector.adls_gen1_connect(spark, dbutils, scope=\"adls_gen2\", dynamic_overwrite=\"dynamic\")"
   ]
  },
  {
   "cell_type": "code",
   "execution_count": 0,
   "metadata": {
    "application/vnd.databricks.v1+cell": {
     "cellMetadata": {},
     "inputWidgets": {},
     "nuid": "863e02ea-92e5-46ab-ba59-6f7e3ef56536",
     "showTitle": false,
     "title": ""
    }
   },
   "outputs": [
    {
     "output_type": "display_data",
     "data": {
      "text/html": [
       "<style scoped>\n  .ansiout {\n    display: block;\n    unicode-bidi: embed;\n    white-space: pre-wrap;\n    word-wrap: break-word;\n    word-break: break-all;\n    font-family: \"Source Code Pro\", \"Menlo\", monospace;;\n    font-size: 13px;\n    color: #555;\n    margin-left: 4px;\n    line-height: 19px;\n  }\n</style>\n<div class=\"ansiout\"></div>"
      ]
     },
     "metadata": {
      "application/vnd.databricks.v1+output": {
       "addedWidgets": {},
       "arguments": {},
       "data": "<div class=\"ansiout\"></div>",
       "datasetInfos": [],
       "metadata": {},
       "removedWidgets": [],
       "type": "html"
      }
     },
     "output_type": "display_data"
    }
   ],
   "source": [
    "#Parametros de entrado do ADF\n",
    "var_file = {'namespace':'API_InGuru',\n",
    "'file_folder':'inguro_acidente_trab_trab_judicializados',\n",
    "'extension':'csv',\n",
    "'column_delimiter':',',\n",
    "'encoding':'UTF-8',\n",
    "'null_value':''}\n",
    "\n",
    "#Caminho de Dev\n",
    "var_dls = {\n",
    "    \"folders\":{\"landing\":\"/tmp/dev/uld\",\n",
    "    \"error\":\"/tmp/dev/err\",\n",
    "    \"staging\":\"/tmp/dev/stg\",\n",
    "    \"log\":\"/tmp/dev/log\",\n",
    "    \"raw\":\"/tmp/dev/raw\",\n",
    "    \"trusted\":\"/tmp/dev/trs\",\n",
    "    \"business\":\"/tmp/dev/biz\",\n",
    "    \"landing\":\"/tmp/dev/uld\"          }}\n",
    "#Parametros do ADF (Nativo)\n",
    "var_adf = {\n",
    "    \"adf_factory_name\": \"cnibigdatafactory\",\n",
    "    \"adf_pipeline_name\": \"org_raw_acidente_trab_judicializados\",\n",
    "    \"adf_pipeline_run_id\": \"60ee3485-4a56-4ad1-99ae-666666666\",\n",
    "    \"adf_trigger_id\": \"62bee9e9-acbb-49cc-80f2-666666666\",\n",
    "    \"adf_trigger_name\": \"62bee9e9-acbb-49cc-80f2-66666666\",\n",
    "    \"adf_trigger_time\": \"2020-06-08T01:42:41.5507749Z\",\n",
    "    \"adf_trigger_type\": \"PipelineActivity\"\n",
    "}"
   ]
  },
  {
   "cell_type": "code",
   "execution_count": 0,
   "metadata": {
    "application/vnd.databricks.v1+cell": {
     "cellMetadata": {},
     "inputWidgets": {},
     "nuid": "e73120cd-91e8-49e7-b278-47bb7f93ded4",
     "showTitle": false,
     "title": ""
    }
   },
   "outputs": [
    {
     "output_type": "display_data",
     "data": {
      "text/html": [
       "<style scoped>\n  .ansiout {\n    display: block;\n    unicode-bidi: embed;\n    white-space: pre-wrap;\n    word-wrap: break-word;\n    word-break: break-all;\n    font-family: \"Source Code Pro\", \"Menlo\", monospace;;\n    font-size: 13px;\n    color: #555;\n    margin-left: 4px;\n    line-height: 19px;\n  }\n</style>\n<div class=\"ansiout\"></div>"
      ]
     },
     "metadata": {
      "application/vnd.databricks.v1+output": {
       "addedWidgets": {},
       "arguments": {},
       "data": "<div class=\"ansiout\"></div>",
       "datasetInfos": [],
       "metadata": {},
       "removedWidgets": [],
       "type": "html"
      }
     },
     "output_type": "display_data"
    }
   ],
   "source": [
    "#Acesso ao json do CMD\n",
    "lnd = var_dls['folders']['landing']\n",
    "raw = var_dls['folders']['raw']"
   ]
  },
  {
   "cell_type": "code",
   "execution_count": 0,
   "metadata": {
    "application/vnd.databricks.v1+cell": {
     "cellMetadata": {},
     "inputWidgets": {},
     "nuid": "0f41caa3-e83b-4847-8a8b-9ded9e8d681c",
     "showTitle": false,
     "title": ""
    }
   },
   "outputs": [
    {
     "output_type": "display_data",
     "data": {
      "text/html": [
       "<style scoped>\n  .ansiout {\n    display: block;\n    unicode-bidi: embed;\n    white-space: pre-wrap;\n    word-wrap: break-word;\n    word-break: break-all;\n    font-family: \"Source Code Pro\", \"Menlo\", monospace;;\n    font-size: 13px;\n    color: #555;\n    margin-left: 4px;\n    line-height: 19px;\n  }\n</style>\n<div class=\"ansiout\">Out[5]: &#39;/tmp/dev/uld/API_InGuru/inguro_acidente_trab_trab_judicializados/&#39;</div>"
      ]
     },
     "metadata": {
      "application/vnd.databricks.v1+output": {
       "addedWidgets": {},
       "arguments": {},
       "data": "<div class=\"ansiout\">Out[5]: &#39;/tmp/dev/uld/API_InGuru/inguro_acidente_trab_trab_judicializados/&#39;</div>",
       "datasetInfos": [],
       "metadata": {},
       "removedWidgets": [],
       "type": "html"
      }
     },
     "output_type": "display_data"
    }
   ],
   "source": [
    "var_source = \"{lnd}/{namespace}/{file_folder}/\".format(lnd=lnd, namespace=var_file['namespace'], file_folder=var_file['file_folder'])\n",
    "var_source"
   ]
  },
  {
   "cell_type": "code",
   "execution_count": 0,
   "metadata": {
    "application/vnd.databricks.v1+cell": {
     "cellMetadata": {},
     "inputWidgets": {},
     "nuid": "7913c19b-14ac-47c0-a01a-8375fe97c3fe",
     "showTitle": false,
     "title": ""
    }
   },
   "outputs": [
    {
     "output_type": "display_data",
     "data": {
      "text/html": [
       "<style scoped>\n  .ansiout {\n    display: block;\n    unicode-bidi: embed;\n    white-space: pre-wrap;\n    word-wrap: break-word;\n    word-break: break-all;\n    font-family: \"Source Code Pro\", \"Menlo\", monospace;;\n    font-size: 13px;\n    color: #555;\n    margin-left: 4px;\n    line-height: 19px;\n  }\n</style>\n<div class=\"ansiout\">Out[6]: &#39;[REDACTED]/tmp/dev/uld/API_InGuru/inguro_acidente_trab_trab_judicializados&#39;</div>"
      ]
     },
     "metadata": {
      "application/vnd.databricks.v1+output": {
       "addedWidgets": {},
       "arguments": {},
       "data": "<div class=\"ansiout\">Out[6]: &#39;[REDACTED]/tmp/dev/uld/API_InGuru/inguro_acidente_trab_trab_judicializados&#39;</div>",
       "datasetInfos": [],
       "metadata": {},
       "removedWidgets": [],
       "type": "html"
      }
     },
     "output_type": "display_data"
    }
   ],
   "source": [
    "#Origem e destino\n",
    "source_lnd = \"{adl_path}{lnd}/{namespace}/{file_folder}\".format(adl_path=var_adls_uri, lnd=lnd, namespace=var_file[\"namespace\"],file_folder=var_file[\"file_folder\"])\n",
    "source_lnd"
   ]
  },
  {
   "cell_type": "code",
   "execution_count": 0,
   "metadata": {
    "application/vnd.databricks.v1+cell": {
     "cellMetadata": {},
     "inputWidgets": {},
     "nuid": "468fe043-24de-41c3-bb59-e763209807ba",
     "showTitle": false,
     "title": ""
    }
   },
   "outputs": [
    {
     "output_type": "display_data",
     "data": {
      "text/html": [
       "<style scoped>\n  .ansiout {\n    display: block;\n    unicode-bidi: embed;\n    white-space: pre-wrap;\n    word-wrap: break-word;\n    word-break: break-all;\n    font-family: \"Source Code Pro\", \"Menlo\", monospace;;\n    font-size: 13px;\n    color: #555;\n    margin-left: 4px;\n    line-height: 19px;\n  }\n</style>\n<div class=\"ansiout\"></div>"
      ]
     },
     "metadata": {
      "application/vnd.databricks.v1+output": {
       "addedWidgets": {},
       "arguments": {},
       "data": "<div class=\"ansiout\"></div>",
       "datasetInfos": [],
       "metadata": {},
       "removedWidgets": [],
       "type": "html"
      }
     },
     "output_type": "display_data"
    }
   ],
   "source": [
    "azure_path = 'abfss://datalake@cnibigdatadlsgen2.dfs.core.windows.net'\n",
    "outputh_path = '{uri}/uds/uniepro/API_InGuru/inguro_vig_acidente_trab'.format(uri=azure_path)\n",
    "\n",
    "def API_INGURU(url, per_page, start_date, end_date):\n",
    "    headers = {\n",
    "    'User-Agent':'Mozilla/5.0 (Windows NT 10.0; Win64; x64) AppleWebKit/537.36 (KHTML, like Gecko) Chrome/100.0.4896.127 Safari/537.36',\n",
    "    'accept':'application/json',\n",
    "    'authorization': '6f64d6a047fad369d35c3806f8f8e0560475075a432585973f91caae35b4ad74'\n",
    "    } \n",
    "\n",
    "    params = {\n",
    "        'per_page': per_page,\n",
    "        'start_date': start_date,\n",
    "        'end_date': end_date,\n",
    "        'sort': '1'\n",
    "    }\n",
    "    response = requests.get(url, headers=headers, params=params)\n",
    "    return response.json()"
   ]
  },
  {
   "cell_type": "code",
   "execution_count": 0,
   "metadata": {
    "application/vnd.databricks.v1+cell": {
     "cellMetadata": {},
     "inputWidgets": {},
     "nuid": "d794e2f2-894f-49ce-9ca2-7d63e3f49541",
     "showTitle": false,
     "title": ""
    }
   },
   "outputs": [
    {
     "output_type": "display_data",
     "data": {
      "text/html": [
       "<style scoped>\n  .ansiout {\n    display: block;\n    unicode-bidi: embed;\n    white-space: pre-wrap;\n    word-wrap: break-word;\n    word-break: break-all;\n    font-family: \"Source Code Pro\", \"Menlo\", monospace;;\n    font-size: 13px;\n    color: #555;\n    margin-left: 4px;\n    line-height: 19px;\n  }\n</style>\n<div class=\"ansiout\"></div>"
      ]
     },
     "metadata": {
      "application/vnd.databricks.v1+output": {
       "addedWidgets": {},
       "arguments": {},
       "data": "<div class=\"ansiout\"></div>",
       "datasetInfos": [],
       "metadata": {},
       "removedWidgets": [],
       "type": "html"
      }
     },
     "output_type": "display_data"
    }
   ],
   "source": [
    "def divide_data(data_inicial, data_final):\n",
    "    formato_data = '%d/%m/%Y %H:%M'\n",
    "\n",
    "    data_inicial = datetime.strptime(data_inicial, formato_data)\n",
    "    data_final = datetime.strptime(data_final, formato_data)\n",
    "    intervalo = data_final - data_inicial\n",
    "    data_final = data_inicial + intervalo // 2\n",
    "    data_final = data_final.replace(hour=23, minute=59, second=59) # define o final como o último segundo do minuto\n",
    "    data_final = data_final.strftime(formato_data)\n",
    "    data_inicial = data_inicial.strftime(formato_data)\n",
    "    return (data_inicial, data_final)"
   ]
  },
  {
   "cell_type": "code",
   "execution_count": 0,
   "metadata": {
    "application/vnd.databricks.v1+cell": {
     "cellMetadata": {},
     "inputWidgets": {},
     "nuid": "c039be03-1114-417e-a0b2-2f868ab2540f",
     "showTitle": false,
     "title": ""
    }
   },
   "outputs": [
    {
     "output_type": "display_data",
     "data": {
      "text/html": [
       "<style scoped>\n  .ansiout {\n    display: block;\n    unicode-bidi: embed;\n    white-space: pre-wrap;\n    word-wrap: break-word;\n    word-break: break-all;\n    font-family: \"Source Code Pro\", \"Menlo\", monospace;;\n    font-size: 13px;\n    color: #555;\n    margin-left: 4px;\n    line-height: 19px;\n  }\n</style>\n<div class=\"ansiout\"></div>"
      ]
     },
     "metadata": {
      "application/vnd.databricks.v1+output": {
       "addedWidgets": {},
       "arguments": {},
       "data": "<div class=\"ansiout\"></div>",
       "datasetInfos": [],
       "metadata": {},
       "removedWidgets": [],
       "type": "html"
      }
     },
     "output_type": "display_data"
    }
   ],
   "source": [
    "def load_big_df(path):\n",
    "  schema = StructType([\n",
    "    StructField(\"id\", LongType(), nullable=True),\n",
    "    StructField(\"domain\", StringType(), nullable=True),\n",
    "    StructField(\"title\", StringType(), nullable=True),\n",
    "    StructField(\"subtitle\", StringType(), nullable=True),\n",
    "    StructField(\"author\", StringType(), nullable=True),\n",
    "    StructField(\"content\", StringType(), nullable=True),\n",
    "    StructField(\"url\", StringType(), nullable=True),\n",
    "    StructField(\"source\", StringType(), nullable=True),\n",
    "    StructField(\"source_country\", StringType(), nullable=True),\n",
    "    StructField(\"source_state\", StringType(), nullable=True),\n",
    "    StructField(\"crawled_date\", StringType(), nullable=True),\n",
    "    StructField(\"published_date\", StringType(), nullable=True),\n",
    "    StructField(\"dh_insertion_raw\", StringType(), nullable=True)\n",
    "  ])\n",
    "\n",
    "  df = spark.read.schema(schema) \\\n",
    "             .option(\"mergeSchema\", \"true\") \\\n",
    "             .option(\"timestampFormat\", \"INT96\") \\\n",
    "             .parquet(path) \\\n",
    "             .withColumn(\"dh_insertion_raw\", f.col(\"dh_insertion_raw\").cast(\"timestamp\"))\\\n",
    "             .withColumn(\"crawled_date\", f.col(\"crawled_date\").cast(\"timestamp\"))\n",
    "  \n",
    "  return df"
   ]
  },
  {
   "cell_type": "code",
   "execution_count": 0,
   "metadata": {
    "application/vnd.databricks.v1+cell": {
     "cellMetadata": {},
     "inputWidgets": {},
     "nuid": "f2201933-782f-4b49-b133-101b708982ec",
     "showTitle": false,
     "title": ""
    }
   },
   "outputs": [
    {
     "output_type": "display_data",
     "data": {
      "text/html": [
       "<style scoped>\n  .ansiout {\n    display: block;\n    unicode-bidi: embed;\n    white-space: pre-wrap;\n    word-wrap: break-word;\n    word-break: break-all;\n    font-family: \"Source Code Pro\", \"Menlo\", monospace;;\n    font-size: 13px;\n    color: #555;\n    margin-left: 4px;\n    line-height: 19px;\n  }\n</style>\n<div class=\"ansiout\"></div>"
      ]
     },
     "metadata": {
      "application/vnd.databricks.v1+output": {
       "addedWidgets": {},
       "arguments": {},
       "data": "<div class=\"ansiout\"></div>",
       "datasetInfos": [],
       "metadata": {},
       "removedWidgets": [],
       "type": "html"
      }
     },
     "output_type": "display_data"
    }
   ],
   "source": [
    "def get_news(data_inicial, data_final, id):\n",
    "    url = 'https://app.inguru.me/api/v1/taxonomies/nodes/news/'+str(id)\n",
    "\n",
    "    array_dfs = []\n",
    "\n",
    "    getted_news = 0\n",
    "    \n",
    "    total_news = API_INGURU(url, 1, data_inicial, data_final)['pagination']['total']\n",
    "    \n",
    "    if not total_news:\n",
    "      dados = {\n",
    "        'author': np.nan,\n",
    "        'content': np.nan,\n",
    "        'crawled_date': np.nan,\n",
    "        'domain': np.nan,\n",
    "        'id': np.nan,\n",
    "        'published_date': np.nan,\n",
    "        'source': np.nan,\n",
    "        'source_country': np.nan,\n",
    "        'source_state': np.nan,\n",
    "        'subtitle': np.nan,\n",
    "        'title': np.nan,\n",
    "        'url': np.nan,\n",
    "        'dh_insertion_raw': np.nan\n",
    "      }\n",
    "      fail_df = pd.DataFrame(dados, index=[0])\n",
    "      array_dfs.append(fail_df)\n",
    "      parcial_data_inicial = parcial_data_final\n",
    "      parcial_data_final = data_final\n",
    "    else:\n",
    "      \n",
    "      print('Total de notícias: ', total_news)\n",
    "\n",
    "      parcial_data_inicial = data_inicial\n",
    "      parcial_data_final = data_final\n",
    "\n",
    "      while getted_news < total_news:\n",
    "\n",
    "          parcial_news = total_news\n",
    "\n",
    "          while parcial_news > 10000:\n",
    "#               print('Parcial de notícias: ', parcial_news)\n",
    "              parcial_data_inicial, parcial_data_final = divide_data(parcial_data_inicial, parcial_data_final)\n",
    "              parcial_news = API_INGURU(url, 1, parcial_data_inicial, parcial_data_final)['pagination']['total']\n",
    "\n",
    "#           print(\"fazendo requisicao\")\n",
    "#           print('Data inicial: ', parcial_data_inicial)\n",
    "#           print('Data final: ', parcial_data_final)\n",
    "          news = API_INGURU(url, parcial_news, parcial_data_inicial, parcial_data_final)['data']\n",
    "\n",
    "          #CRIA UM DATAFRAME COM AS NOTICIAS\n",
    "          noticias = pd.DataFrame(news)\n",
    "          #ADICIONA NUM ARRAY DE DATAFRAME\n",
    "          array_dfs.append(noticias)\n",
    "\n",
    "          #corrige as datas\n",
    "\n",
    "          parcial_data_inicial = parcial_data_final\n",
    "          parcial_data_final = data_final\n",
    "\n",
    "          getted_news += parcial_news\n",
    "          \n",
    "\n",
    "    return pd.concat(array_dfs)"
   ]
  },
  {
   "cell_type": "markdown",
   "metadata": {
    "application/vnd.databricks.v1+cell": {
     "cellMetadata": {},
     "inputWidgets": {},
     "nuid": "990cc1a2-0f31-4e79-9884-979e9215a6de",
     "showTitle": false,
     "title": ""
    }
   },
   "source": [
    "### Ingestão de anos anteriores"
   ]
  },
  {
   "cell_type": "markdown",
   "metadata": {
    "application/vnd.databricks.v1+cell": {
     "cellMetadata": {},
     "inputWidgets": {},
     "nuid": "be5aee70-4f6b-45d4-a534-fcddf7d689f3",
     "showTitle": false,
     "title": ""
    }
   },
   "source": [
    "Teve de ser criado pois a API não carrega todos os anos por alguma limitação.\n",
    "\n",
    "PRECISA SER RODADO APENAS NA PRIMEIRA VEZ"
   ]
  },
  {
   "cell_type": "code",
   "execution_count": 0,
   "metadata": {
    "application/vnd.databricks.v1+cell": {
     "cellMetadata": {},
     "inputWidgets": {},
     "nuid": "41f32db3-dc4e-4499-a8c4-0d8de46dff2c",
     "showTitle": false,
     "title": ""
    }
   },
   "outputs": [
    {
     "output_type": "display_data",
     "data": {
      "text/html": [
       "<style scoped>\n  .ansiout {\n    display: block;\n    unicode-bidi: embed;\n    white-space: pre-wrap;\n    word-wrap: break-word;\n    word-break: break-all;\n    font-family: \"Source Code Pro\", \"Menlo\", monospace;;\n    font-size: 13px;\n    color: #555;\n    margin-left: 4px;\n    line-height: 19px;\n  }\n</style>\n<div class=\"ansiout\"></div>"
      ]
     },
     "metadata": {
      "application/vnd.databricks.v1+output": {
       "addedWidgets": {},
       "arguments": {},
       "data": "<div class=\"ansiout\"></div>",
       "datasetInfos": [],
       "metadata": {},
       "removedWidgets": [],
       "type": "html"
      }
     },
     "output_type": "display_data"
    }
   ],
   "source": [
    "def insere_news(data_inicial, data_final, id, path):\n",
    "  url = 'https://app.inguru.me/api/v1/taxonomies/nodes/news/'+str(id)\n",
    "\n",
    "  array_dfs = []\n",
    "\n",
    "  getted_news = 0\n",
    "    \n",
    "  total_news = API_INGURU(url, 1, data_inicial, data_final)['pagination']['total']\n",
    "    \n",
    "  if total_news:\n",
    "      \n",
    "    print('Total de notícias: ', total_news)\n",
    "\n",
    "    parcial_data_inicial = data_inicial\n",
    "    parcial_data_final = data_final\n",
    "\n",
    "    while getted_news < total_news:\n",
    "\n",
    "      parcial_news = total_news\n",
    "\n",
    "      while parcial_news > 10000:\n",
    "#         print('Parcial de notícias: ', parcial_news)\n",
    "        parcial_data_inicial, parcial_data_final = divide_data(parcial_data_inicial, parcial_data_final)\n",
    "        parcial_news = API_INGURU(url, 1, parcial_data_inicial, parcial_data_final)['pagination']['total']\n",
    "\n",
    "#       print(\"fazendo requisicao\")\n",
    "#       print('Data inicial: ', parcial_data_inicial)\n",
    "#       print('Data final: ', parcial_data_final)\n",
    "      news = API_INGURU(url, parcial_news, parcial_data_inicial, parcial_data_final)['data']\n",
    "\n",
    "      #CRIA UM DATAFRAME COM AS NOTICIAS\n",
    "      noticias = pd.DataFrame(news)\n",
    "\n",
    "      #corrige as datas\n",
    "      parcial_data_inicial = parcial_data_final\n",
    "      parcial_data_final = data_final\n",
    "\n",
    "      getted_news += parcial_news\n",
    "\n",
    "      dh_insertion_raw = var_adf[\"adf_trigger_time\"].split(\".\")[0]\n",
    "\n",
    "      schema = StructType([\n",
    "        StructField(\"id\", LongType(), nullable=True),\n",
    "        StructField(\"domain\", StringType(), nullable=True),\n",
    "        StructField(\"title\", StringType(), nullable=True),\n",
    "        StructField(\"subtitle\", StringType(), nullable=True),\n",
    "        StructField(\"author\", StringType(), nullable=True),\n",
    "        StructField(\"content\", StringType(), nullable=True),\n",
    "        StructField(\"url\", StringType(), nullable=True),\n",
    "        StructField(\"source\", StringType(), nullable=True),\n",
    "        StructField(\"source_country\", StringType(), nullable=True),\n",
    "        StructField(\"source_state\", StringType(), nullable=True),\n",
    "        StructField(\"crawled_date\", StringType(), nullable=True),\n",
    "        StructField(\"published_date\", StringType(), nullable=True)\n",
    "      ])\n",
    "\n",
    "      saveDF = spark.createDataFrame(noticias, schema)\n",
    "      saveDF = saveDF.withColumn(\"dh_insertion_raw\", f.lit(dh_insertion_raw).cast(\"string\"))\n",
    "      saveDF.write.parquet(path, \"append\")\n",
    "      print(\"Total:\", total_news)\n",
    "      print(\"Inseridas:\", getted_news)\n",
    "    \n",
    "  else:\n",
    "    print(\"Sem dados\")\n"
   ]
  },
  {
   "cell_type": "code",
   "execution_count": 0,
   "metadata": {
    "application/vnd.databricks.v1+cell": {
     "cellMetadata": {},
     "inputWidgets": {},
     "nuid": "c0cf7480-4088-44cd-b22e-888bcadc8ad0",
     "showTitle": false,
     "title": ""
    }
   },
   "outputs": [
    {
     "output_type": "display_data",
     "data": {
      "text/html": [
       "<style scoped>\n  .ansiout {\n    display: block;\n    unicode-bidi: embed;\n    white-space: pre-wrap;\n    word-wrap: break-word;\n    word-break: break-all;\n    font-family: \"Source Code Pro\", \"Menlo\", monospace;;\n    font-size: 13px;\n    color: #555;\n    margin-left: 4px;\n    line-height: 19px;\n  }\n</style>\n<div class=\"ansiout\">Total de notícias:  673827\nTotal: 673827\nInseridas: 456\nTotal: 673827\nInseridas: 8547\nTotal: 673827\nInseridas: 17478\nTotal: 673827\nInseridas: 22107\nTotal: 673827\nInseridas: 23172\nTotal: 673827\nInseridas: 23721\nTotal: 673827\nInseridas: 25754\nTotal: 673827\nInseridas: 35135\nTotal: 673827\nInseridas: 45074\nTotal: 673827\nInseridas: 54874\nTotal: 673827\nInseridas: 64387\nTotal: 673827\nInseridas: 69061\nTotal: 673827\nInseridas: 74819\nTotal: 673827\nInseridas: 84543\nTotal: 673827\nInseridas: 93838\nTotal: 673827\nInseridas: 100292\nTotal: 673827\nInseridas: 106552\nTotal: 673827\nInseridas: 112139\nTotal: 673827\nInseridas: 120762\nTotal: 673827\nInseridas: 129437\nTotal: 673827\nInseridas: 138818\nTotal: 673827\nInseridas: 145045\nTotal: 673827\nInseridas: 153552\nTotal: 673827\nInseridas: 160371\nTotal: 673827\nInseridas: 170196\nTotal: 673827\nInseridas: 179508\nTotal: 673827\nInseridas: 189199\nTotal: 673827\nInseridas: 197753\nTotal: 673827\nInseridas: 206578\nTotal: 673827\nInseridas: 213267\nTotal: 673827\nInseridas: 221606\nTotal: 673827\nInseridas: 230665\nTotal: 673827\nInseridas: 237744\nTotal: 673827\nInseridas: 243035\nTotal: 673827\nInseridas: 251302\nTotal: 673827\nInseridas: 257203\nTotal: 673827\nInseridas: 263916\nTotal: 673827\nInseridas: 270118\nTotal: 673827\nInseridas: 276598\nTotal: 673827\nInseridas: 283106\nTotal: 673827\nInseridas: 288634\nTotal: 673827\nInseridas: 296016\nTotal: 673827\nInseridas: 302732\nTotal: 673827\nInseridas: 309778\nTotal: 673827\nInseridas: 315912\nTotal: 673827\nInseridas: 322494\nTotal: 673827\nInseridas: 329631\nTotal: 673827\nInseridas: 335567\nTotal: 673827\nInseridas: 341438\nTotal: 673827\nInseridas: 351369\nTotal: 673827\nInseridas: 360704\nTotal: 673827\nInseridas: 370110\nTotal: 673827\nInseridas: 379727\nTotal: 673827\nInseridas: 388036\nTotal: 673827\nInseridas: 394880\nTotal: 673827\nInseridas: 402087\nTotal: 673827\nInseridas: 409409\nTotal: 673827\nInseridas: 415736\nTotal: 673827\nInseridas: 423504\nTotal: 673827\nInseridas: 429506\nTotal: 673827\nInseridas: 436942\nTotal: 673827\nInseridas: 442411\nTotal: 673827\nInseridas: 448306\nTotal: 673827\nInseridas: 453052\nTotal: 673827\nInseridas: 458645\nTotal: 673827\nInseridas: 464949\nTotal: 673827\nInseridas: 471267\nTotal: 673827\nInseridas: 477659\nTotal: 673827\nInseridas: 485653\nTotal: 673827\nInseridas: 493846\nTotal: 673827\nInseridas: 502057\nTotal: 673827\nInseridas: 508616\nTotal: 673827\nInseridas: 516492\nTotal: 673827\nInseridas: 523499\nTotal: 673827\nInseridas: 528444\nTotal: 673827\nInseridas: 535666\nTotal: 673827\nInseridas: 540775\nTotal: 673827\nInseridas: 548979\nTotal: 673827\nInseridas: 552722\nTotal: 673827\nInseridas: 560015\nTotal: 673827\nInseridas: 566643\nTotal: 673827\nInseridas: 574355\nTotal: 673827\nInseridas: 583981\nTotal: 673827\nInseridas: 590935\nTotal: 673827\nInseridas: 597036\nTotal: 673827\nInseridas: 606933\nTotal: 673827\nInseridas: 614752\nTotal: 673827\nInseridas: 623694\nTotal: 673827\nInseridas: 630978\nTotal: 673827\nInseridas: 637085\nTotal: 673827\nInseridas: 646315\nTotal: 673827\nInseridas: 653328\nTotal: 673827\nInseridas: 660695\nTotal: 673827\nInseridas: 668393\nTotal: 673827\nInseridas: 673839\nTotal de notícias:  5149\nTotal: 5149\nInseridas: 5149\n</div>"
      ]
     },
     "metadata": {
      "application/vnd.databricks.v1+output": {
       "addedWidgets": {},
       "arguments": {},
       "data": "<div class=\"ansiout\">Total de notícias:  673827\nTotal: 673827\nInseridas: 456\nTotal: 673827\nInseridas: 8547\nTotal: 673827\nInseridas: 17478\nTotal: 673827\nInseridas: 22107\nTotal: 673827\nInseridas: 23172\nTotal: 673827\nInseridas: 23721\nTotal: 673827\nInseridas: 25754\nTotal: 673827\nInseridas: 35135\nTotal: 673827\nInseridas: 45074\nTotal: 673827\nInseridas: 54874\nTotal: 673827\nInseridas: 64387\nTotal: 673827\nInseridas: 69061\nTotal: 673827\nInseridas: 74819\nTotal: 673827\nInseridas: 84543\nTotal: 673827\nInseridas: 93838\nTotal: 673827\nInseridas: 100292\nTotal: 673827\nInseridas: 106552\nTotal: 673827\nInseridas: 112139\nTotal: 673827\nInseridas: 120762\nTotal: 673827\nInseridas: 129437\nTotal: 673827\nInseridas: 138818\nTotal: 673827\nInseridas: 145045\nTotal: 673827\nInseridas: 153552\nTotal: 673827\nInseridas: 160371\nTotal: 673827\nInseridas: 170196\nTotal: 673827\nInseridas: 179508\nTotal: 673827\nInseridas: 189199\nTotal: 673827\nInseridas: 197753\nTotal: 673827\nInseridas: 206578\nTotal: 673827\nInseridas: 213267\nTotal: 673827\nInseridas: 221606\nTotal: 673827\nInseridas: 230665\nTotal: 673827\nInseridas: 237744\nTotal: 673827\nInseridas: 243035\nTotal: 673827\nInseridas: 251302\nTotal: 673827\nInseridas: 257203\nTotal: 673827\nInseridas: 263916\nTotal: 673827\nInseridas: 270118\nTotal: 673827\nInseridas: 276598\nTotal: 673827\nInseridas: 283106\nTotal: 673827\nInseridas: 288634\nTotal: 673827\nInseridas: 296016\nTotal: 673827\nInseridas: 302732\nTotal: 673827\nInseridas: 309778\nTotal: 673827\nInseridas: 315912\nTotal: 673827\nInseridas: 322494\nTotal: 673827\nInseridas: 329631\nTotal: 673827\nInseridas: 335567\nTotal: 673827\nInseridas: 341438\nTotal: 673827\nInseridas: 351369\nTotal: 673827\nInseridas: 360704\nTotal: 673827\nInseridas: 370110\nTotal: 673827\nInseridas: 379727\nTotal: 673827\nInseridas: 388036\nTotal: 673827\nInseridas: 394880\nTotal: 673827\nInseridas: 402087\nTotal: 673827\nInseridas: 409409\nTotal: 673827\nInseridas: 415736\nTotal: 673827\nInseridas: 423504\nTotal: 673827\nInseridas: 429506\nTotal: 673827\nInseridas: 436942\nTotal: 673827\nInseridas: 442411\nTotal: 673827\nInseridas: 448306\nTotal: 673827\nInseridas: 453052\nTotal: 673827\nInseridas: 458645\nTotal: 673827\nInseridas: 464949\nTotal: 673827\nInseridas: 471267\nTotal: 673827\nInseridas: 477659\nTotal: 673827\nInseridas: 485653\nTotal: 673827\nInseridas: 493846\nTotal: 673827\nInseridas: 502057\nTotal: 673827\nInseridas: 508616\nTotal: 673827\nInseridas: 516492\nTotal: 673827\nInseridas: 523499\nTotal: 673827\nInseridas: 528444\nTotal: 673827\nInseridas: 535666\nTotal: 673827\nInseridas: 540775\nTotal: 673827\nInseridas: 548979\nTotal: 673827\nInseridas: 552722\nTotal: 673827\nInseridas: 560015\nTotal: 673827\nInseridas: 566643\nTotal: 673827\nInseridas: 574355\nTotal: 673827\nInseridas: 583981\nTotal: 673827\nInseridas: 590935\nTotal: 673827\nInseridas: 597036\nTotal: 673827\nInseridas: 606933\nTotal: 673827\nInseridas: 614752\nTotal: 673827\nInseridas: 623694\nTotal: 673827\nInseridas: 630978\nTotal: 673827\nInseridas: 637085\nTotal: 673827\nInseridas: 646315\nTotal: 673827\nInseridas: 653328\nTotal: 673827\nInseridas: 660695\nTotal: 673827\nInseridas: 668393\nTotal: 673827\nInseridas: 673839\nTotal de notícias:  5149\nTotal: 5149\nInseridas: 5149\n</div>",
       "datasetInfos": [],
       "metadata": {},
       "removedWidgets": [],
       "type": "html"
      }
     },
     "output_type": "display_data"
    }
   ],
   "source": [
    "graph_ids = []\n",
    "graph_names = []\n",
    "graph_dfs = []\n",
    "\n",
    "nodeID = '928' #Declaração do ID\n",
    "\n",
    "url_nodeID = 'https://app.inguru.me/api/v1/taxonomies/nodes/'+str(nodeID)\n",
    "IDs = API_INGURU(url = url_nodeID, per_page=1, start_date='', end_date='')['data'][0]\n",
    "graph_ids.append(IDs['id'])\n",
    "graph_names.append(IDs['name'].replace(\" \", \"_\"))\n",
    "\n",
    "#Passa por cada \"filho\" no nó principal, caso não tenha nenhum, nada acontece.\n",
    "for node_children in IDs['children']:\n",
    "  graph_ids.append(node_children['id'])\n",
    "  graph_names.append(node_children['name'].replace(\" \", \"_\"))\n",
    "\n",
    "data_inicial = '01/01/2015 00:00'\n",
    "data_final = datetime.now().strftime(\"%d/%m/%Y %H:%M\")\n",
    "\n",
    "for i, id in enumerate(graph_ids):\n",
    "  path = source_lnd + \"_\" + str(graph_names[i])\n",
    "  insere_news(data_inicial, data_final, id, path)\n"
   ]
  },
  {
   "cell_type": "code",
   "execution_count": 0,
   "metadata": {
    "application/vnd.databricks.v1+cell": {
     "cellMetadata": {},
     "inputWidgets": {},
     "nuid": "23b858dc-39eb-47b1-8b40-4a88a0d85847",
     "showTitle": false,
     "title": ""
    }
   },
   "outputs": [
    {
     "output_type": "display_data",
     "data": {
      "text/html": [
       "<style scoped>\n  .ansiout {\n    display: block;\n    unicode-bidi: embed;\n    white-space: pre-wrap;\n    word-wrap: break-word;\n    word-break: break-all;\n    font-family: \"Source Code Pro\", \"Menlo\", monospace;;\n    font-size: 13px;\n    color: #555;\n    margin-left: 4px;\n    line-height: 19px;\n  }\n</style>\n<div class=\"ansiout\">Total de notícias:  4224\nTotal: 4224\nInseridas: 4224\n</div>"
      ]
     },
     "metadata": {
      "application/vnd.databricks.v1+output": {
       "addedWidgets": {},
       "arguments": {},
       "data": "<div class=\"ansiout\">Total de notícias:  4224\nTotal: 4224\nInseridas: 4224\n</div>",
       "datasetInfos": [],
       "metadata": {},
       "removedWidgets": [],
       "type": "html"
      }
     },
     "output_type": "display_data"
    }
   ],
   "source": [
    "insere_news(data_inicial, data_final, graph_ids[1], path)"
   ]
  },
  {
   "cell_type": "code",
   "execution_count": 0,
   "metadata": {
    "application/vnd.databricks.v1+cell": {
     "cellMetadata": {},
     "inputWidgets": {},
     "nuid": "4e868f1b-a70c-4e35-aaa4-932b626ebdec",
     "showTitle": false,
     "title": ""
    }
   },
   "outputs": [
    {
     "output_type": "display_data",
     "data": {
      "text/html": [
       "<style scoped>\n  .ansiout {\n    display: block;\n    unicode-bidi: embed;\n    white-space: pre-wrap;\n    word-wrap: break-word;\n    word-break: break-all;\n    font-family: \"Source Code Pro\", \"Menlo\", monospace;;\n    font-size: 13px;\n    color: #555;\n    margin-left: 4px;\n    line-height: 19px;\n  }\n</style>\n<div class=\"ansiout\"></div>"
      ]
     },
     "metadata": {
      "application/vnd.databricks.v1+output": {
       "addedWidgets": {},
       "arguments": {},
       "data": "<div class=\"ansiout\"></div>",
       "datasetInfos": [],
       "metadata": {},
       "removedWidgets": [],
       "type": "html"
      }
     },
     "output_type": "display_data"
    }
   ],
   "source": [
    "# #ZERAR A BASE\n",
    "# #Deve-se rodar a célula 16 antes de executar esta\n",
    "\n",
    "# dh_insertion_raw = var_adf[\"adf_trigger_time\"].split(\".\")[0]\n",
    "\n",
    "# data = {\n",
    "#   'id': 0,\n",
    "#   'domain': 'Não informado',\n",
    "#   'title': 'Não informado',\n",
    "#   'subtitle': 'Não informado',\n",
    "#   'author': 'Não informado',\n",
    "#   'content': 'Não informado',\n",
    "#   'url': 'Não informado',\n",
    "#   'source': 'Não informado',\n",
    "#   'source_country': 'Não informado',\n",
    "#   'source_state': 'Não informado',\n",
    "#   'crawled_date': '1900-01-01 00:00:00',\n",
    "#   'published_date': '1900-01-01 00:00:00',\n",
    "#   'dh_insertion_raw': '2020-06-08T01:42:41.000+0000'\n",
    "# }\n",
    "# schema = StructType([\n",
    "#   StructField(\"id\", LongType(), nullable=True),\n",
    "#   StructField(\"domain\", StringType(), nullable=True),\n",
    "#   StructField(\"title\", StringType(), nullable=True),\n",
    "#   StructField(\"subtitle\", StringType(), nullable=True),\n",
    "#   StructField(\"author\", StringType(), nullable=True),\n",
    "#   StructField(\"content\", StringType(), nullable=True),\n",
    "#   StructField(\"url\", StringType(), nullable=True),\n",
    "#   StructField(\"source\", StringType(), nullable=True),\n",
    "#   StructField(\"source_country\", StringType(), nullable=True),\n",
    "#   StructField(\"source_state\", StringType(), nullable=True),\n",
    "#   StructField(\"crawled_date\", StringType(), nullable=True),\n",
    "#   StructField(\"published_date\", StringType(), nullable=True),\n",
    "#   StructField(\"dh_insertion_raw\", StringType(), nullable=True)\n",
    "#   ])\n",
    "\n",
    "# data['id'] = int(data['id'])\n",
    "\n",
    "\n",
    "# spark_dfff = spark.createDataFrame([tuple(data.values())], schema=schema)\n",
    "# for i, df in enumerate(graph_dfs):\n",
    "#   path = source_lnd + \"_\" + str(graph_names[i])\n",
    "#   spark_dfff.write.parquet(path, mode=\"overwrite\")\n",
    "  "
   ]
  },
  {
   "cell_type": "code",
   "execution_count": 0,
   "metadata": {
    "application/vnd.databricks.v1+cell": {
     "cellMetadata": {},
     "inputWidgets": {},
     "nuid": "58d6113a-0641-4957-bed2-d46d975731bb",
     "showTitle": false,
     "title": ""
    }
   },
   "outputs": [],
   "source": []
  }
 ],
 "metadata": {
  "application/vnd.databricks.v1+notebook": {
   "dashboards": [],
   "language": "python",
   "notebookMetadata": {
    "pythonIndentUnit": 2
   },
   "notebookName": "org_raw_inguru_acidente_trab_judicializados_full",
   "notebookOrigID": 2337396011154387,
   "widgets": {}
  }
 },
 "nbformat": 4,
 "nbformat_minor": 0
}
