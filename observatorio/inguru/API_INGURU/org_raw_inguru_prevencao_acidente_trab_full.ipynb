{
 "cells": [
  {
   "cell_type": "code",
   "execution_count": 0,
   "metadata": {
    "application/vnd.databricks.v1+cell": {
     "cellMetadata": {},
     "inputWidgets": {},
     "nuid": "7ad4baf4-84a3-4683-a682-f8bae6a72f7a",
     "showTitle": false,
     "title": ""
    }
   },
   "outputs": [
    {
     "output_type": "display_data",
     "data": {
      "text/html": [
       "<style scoped>\n  .ansiout {\n    display: block;\n    unicode-bidi: embed;\n    white-space: pre-wrap;\n    word-wrap: break-word;\n    word-break: break-all;\n    font-family: \"Source Code Pro\", \"Menlo\", monospace;;\n    font-size: 13px;\n    color: #555;\n    margin-left: 4px;\n    line-height: 19px;\n  }\n</style>\n<div class=\"ansiout\"></div>"
      ]
     },
     "metadata": {
      "application/vnd.databricks.v1+output": {
       "addedWidgets": {},
       "arguments": {},
       "data": "<div class=\"ansiout\"></div>",
       "datasetInfos": [],
       "metadata": {},
       "removedWidgets": [],
       "type": "html"
      }
     },
     "output_type": "display_data"
    }
   ],
   "source": [
    "import json\n",
    "import re\n",
    "import cni_connectors.adls_gen1_connector as connector\n",
    "import pyspark.sql.functions as f\n",
    "import crawler.functions as cf\n",
    "import requests\n",
    "import pandas as pd\n",
    "import numpy as np\n",
    "from datetime import datetime, timedelta\n",
    "from pyspark.sql.types import StructType, StructField, StringType, TimestampType, LongType, DoubleType"
   ]
  },
  {
   "cell_type": "code",
   "execution_count": 0,
   "metadata": {
    "application/vnd.databricks.v1+cell": {
     "cellMetadata": {},
     "inputWidgets": {},
     "nuid": "c82494d1-bb2d-4354-8877-e520296f45e7",
     "showTitle": false,
     "title": ""
    }
   },
   "outputs": [
    {
     "output_type": "display_data",
     "data": {
      "text/html": [
       "<style scoped>\n  .ansiout {\n    display: block;\n    unicode-bidi: embed;\n    white-space: pre-wrap;\n    word-wrap: break-word;\n    word-break: break-all;\n    font-family: \"Source Code Pro\", \"Menlo\", monospace;;\n    font-size: 13px;\n    color: #555;\n    margin-left: 4px;\n    line-height: 19px;\n  }\n</style>\n<div class=\"ansiout\">fornecedor_dev\ndev-execution\n</div>"
      ]
     },
     "metadata": {
      "application/vnd.databricks.v1+output": {
       "addedWidgets": {},
       "arguments": {},
       "data": "<div class=\"ansiout\">fornecedor_dev\ndev-execution\n</div>",
       "datasetInfos": [],
       "metadata": {},
       "removedWidgets": [],
       "type": "html"
      }
     },
     "output_type": "display_data"
    }
   ],
   "source": [
    "var_adls_uri = connector.adls_gen1_connect(spark, dbutils, scope=\"adls_gen2\", dynamic_overwrite=\"dynamic\")"
   ]
  },
  {
   "cell_type": "code",
   "execution_count": 0,
   "metadata": {
    "application/vnd.databricks.v1+cell": {
     "cellMetadata": {},
     "inputWidgets": {},
     "nuid": "863e02ea-92e5-46ab-ba59-6f7e3ef56536",
     "showTitle": false,
     "title": ""
    }
   },
   "outputs": [
    {
     "output_type": "display_data",
     "data": {
      "text/html": [
       "<style scoped>\n  .ansiout {\n    display: block;\n    unicode-bidi: embed;\n    white-space: pre-wrap;\n    word-wrap: break-word;\n    word-break: break-all;\n    font-family: \"Source Code Pro\", \"Menlo\", monospace;;\n    font-size: 13px;\n    color: #555;\n    margin-left: 4px;\n    line-height: 19px;\n  }\n</style>\n<div class=\"ansiout\"></div>"
      ]
     },
     "metadata": {
      "application/vnd.databricks.v1+output": {
       "addedWidgets": {},
       "arguments": {},
       "data": "<div class=\"ansiout\"></div>",
       "datasetInfos": [],
       "metadata": {},
       "removedWidgets": [],
       "type": "html"
      }
     },
     "output_type": "display_data"
    }
   ],
   "source": [
    "#Parametros de entrado do ADF\n",
    "var_file = {'namespace':'API_InGuru',\n",
    "'file_folder':'inguro_prevencao_acidente_trab',\n",
    "'extension':'csv',\n",
    "'column_delimiter':',',\n",
    "'encoding':'UTF-8',\n",
    "'null_value':''}\n",
    "\n",
    "#Caminho de Dev\n",
    "var_dls = {\n",
    "    \"folders\":{\"landing\":\"/tmp/dev/uld\",\n",
    "    \"error\":\"/tmp/dev/err\",\n",
    "    \"staging\":\"/tmp/dev/stg\",\n",
    "    \"log\":\"/tmp/dev/log\",\n",
    "    \"raw\":\"/tmp/dev/raw\",\n",
    "    \"trusted\":\"/tmp/dev/trs\",\n",
    "    \"business\":\"/tmp/dev/biz\",\n",
    "    \"landing\":\"/tmp/dev/uld\"          }}\n",
    "#Parametros do ADF (Nativo)\n",
    "var_adf = {\n",
    "    \"adf_factory_name\": \"cnibigdatafactory\",\n",
    "    \"adf_pipeline_name\": \"org_raw_prevencao_acidente_trab\",\n",
    "    \"adf_pipeline_run_id\": \"60ee3485-4a56-4ad1-99ae-666666666\",\n",
    "    \"adf_trigger_id\": \"62bee9e9-acbb-49cc-80f2-666666666\",\n",
    "    \"adf_trigger_name\": \"62bee9e9-acbb-49cc-80f2-66666666\",\n",
    "    \"adf_trigger_time\": \"2020-06-08T01:42:41.5507749Z\",\n",
    "    \"adf_trigger_type\": \"PipelineActivity\"\n",
    "}"
   ]
  },
  {
   "cell_type": "code",
   "execution_count": 0,
   "metadata": {
    "application/vnd.databricks.v1+cell": {
     "cellMetadata": {},
     "inputWidgets": {},
     "nuid": "e73120cd-91e8-49e7-b278-47bb7f93ded4",
     "showTitle": false,
     "title": ""
    }
   },
   "outputs": [
    {
     "output_type": "display_data",
     "data": {
      "text/html": [
       "<style scoped>\n  .ansiout {\n    display: block;\n    unicode-bidi: embed;\n    white-space: pre-wrap;\n    word-wrap: break-word;\n    word-break: break-all;\n    font-family: \"Source Code Pro\", \"Menlo\", monospace;;\n    font-size: 13px;\n    color: #555;\n    margin-left: 4px;\n    line-height: 19px;\n  }\n</style>\n<div class=\"ansiout\"></div>"
      ]
     },
     "metadata": {
      "application/vnd.databricks.v1+output": {
       "addedWidgets": {},
       "arguments": {},
       "data": "<div class=\"ansiout\"></div>",
       "datasetInfos": [],
       "metadata": {},
       "removedWidgets": [],
       "type": "html"
      }
     },
     "output_type": "display_data"
    }
   ],
   "source": [
    "#Acesso ao json do CMD\n",
    "lnd = var_dls['folders']['landing']\n",
    "raw = var_dls['folders']['raw']"
   ]
  },
  {
   "cell_type": "code",
   "execution_count": 0,
   "metadata": {
    "application/vnd.databricks.v1+cell": {
     "cellMetadata": {},
     "inputWidgets": {},
     "nuid": "0f41caa3-e83b-4847-8a8b-9ded9e8d681c",
     "showTitle": false,
     "title": ""
    }
   },
   "outputs": [
    {
     "output_type": "display_data",
     "data": {
      "text/html": [
       "<style scoped>\n  .ansiout {\n    display: block;\n    unicode-bidi: embed;\n    white-space: pre-wrap;\n    word-wrap: break-word;\n    word-break: break-all;\n    font-family: \"Source Code Pro\", \"Menlo\", monospace;;\n    font-size: 13px;\n    color: #555;\n    margin-left: 4px;\n    line-height: 19px;\n  }\n</style>\n<div class=\"ansiout\">Out[5]: &#39;/tmp/dev/uld/API_InGuru/inguro_prevencao_acidente_trab/&#39;</div>"
      ]
     },
     "metadata": {
      "application/vnd.databricks.v1+output": {
       "addedWidgets": {},
       "arguments": {},
       "data": "<div class=\"ansiout\">Out[5]: &#39;/tmp/dev/uld/API_InGuru/inguro_prevencao_acidente_trab/&#39;</div>",
       "datasetInfos": [],
       "metadata": {},
       "removedWidgets": [],
       "type": "html"
      }
     },
     "output_type": "display_data"
    }
   ],
   "source": [
    "var_source = \"{lnd}/{namespace}/{file_folder}/\".format(lnd=lnd, namespace=var_file['namespace'], file_folder=var_file['file_folder'])\n",
    "var_source"
   ]
  },
  {
   "cell_type": "code",
   "execution_count": 0,
   "metadata": {
    "application/vnd.databricks.v1+cell": {
     "cellMetadata": {},
     "inputWidgets": {},
     "nuid": "7913c19b-14ac-47c0-a01a-8375fe97c3fe",
     "showTitle": false,
     "title": ""
    }
   },
   "outputs": [
    {
     "output_type": "display_data",
     "data": {
      "text/html": [
       "<style scoped>\n  .ansiout {\n    display: block;\n    unicode-bidi: embed;\n    white-space: pre-wrap;\n    word-wrap: break-word;\n    word-break: break-all;\n    font-family: \"Source Code Pro\", \"Menlo\", monospace;;\n    font-size: 13px;\n    color: #555;\n    margin-left: 4px;\n    line-height: 19px;\n  }\n</style>\n<div class=\"ansiout\">Out[6]: &#39;[REDACTED]/tmp/dev/uld/API_InGuru/inguro_prevencao_acidente_trab&#39;</div>"
      ]
     },
     "metadata": {
      "application/vnd.databricks.v1+output": {
       "addedWidgets": {},
       "arguments": {},
       "data": "<div class=\"ansiout\">Out[6]: &#39;[REDACTED]/tmp/dev/uld/API_InGuru/inguro_prevencao_acidente_trab&#39;</div>",
       "datasetInfos": [],
       "metadata": {},
       "removedWidgets": [],
       "type": "html"
      }
     },
     "output_type": "display_data"
    }
   ],
   "source": [
    "#Origem e destino\n",
    "source_lnd = \"{adl_path}{lnd}/{namespace}/{file_folder}\".format(adl_path=var_adls_uri, lnd=lnd, namespace=var_file[\"namespace\"],file_folder=var_file[\"file_folder\"])\n",
    "source_lnd"
   ]
  },
  {
   "cell_type": "code",
   "execution_count": 0,
   "metadata": {
    "application/vnd.databricks.v1+cell": {
     "cellMetadata": {},
     "inputWidgets": {},
     "nuid": "468fe043-24de-41c3-bb59-e763209807ba",
     "showTitle": false,
     "title": ""
    }
   },
   "outputs": [
    {
     "output_type": "display_data",
     "data": {
      "text/html": [
       "<style scoped>\n  .ansiout {\n    display: block;\n    unicode-bidi: embed;\n    white-space: pre-wrap;\n    word-wrap: break-word;\n    word-break: break-all;\n    font-family: \"Source Code Pro\", \"Menlo\", monospace;;\n    font-size: 13px;\n    color: #555;\n    margin-left: 4px;\n    line-height: 19px;\n  }\n</style>\n<div class=\"ansiout\"></div>"
      ]
     },
     "metadata": {
      "application/vnd.databricks.v1+output": {
       "addedWidgets": {},
       "arguments": {},
       "data": "<div class=\"ansiout\"></div>",
       "datasetInfos": [],
       "metadata": {},
       "removedWidgets": [],
       "type": "html"
      }
     },
     "output_type": "display_data"
    }
   ],
   "source": [
    "azure_path = 'abfss://datalake@cnibigdatadlsgen2.dfs.core.windows.net'\n",
    "outputh_path = '{uri}/uds/uniepro/API_InGuru/inguro_vig_acidente_trab'.format(uri=azure_path)\n",
    "\n",
    "def API_INGURU(url, per_page, start_date, end_date):\n",
    "    headers = {\n",
    "    'User-Agent':'Mozilla/5.0 (Windows NT 10.0; Win64; x64) AppleWebKit/537.36 (KHTML, like Gecko) Chrome/100.0.4896.127 Safari/537.36',\n",
    "    'accept':'application/json',\n",
    "    'authorization': '6f64d6a047fad369d35c3806f8f8e0560475075a432585973f91caae35b4ad74'\n",
    "    } \n",
    "\n",
    "    params = {\n",
    "        'per_page': per_page,\n",
    "        'start_date': start_date,\n",
    "        'end_date': end_date,\n",
    "        'sort': '1'\n",
    "    }\n",
    "    response = requests.get(url, headers=headers, params=params)\n",
    "    return response.json()"
   ]
  },
  {
   "cell_type": "code",
   "execution_count": 0,
   "metadata": {
    "application/vnd.databricks.v1+cell": {
     "cellMetadata": {},
     "inputWidgets": {},
     "nuid": "a1f32126-f7ae-4430-9ebe-2380850c46f4",
     "showTitle": false,
     "title": ""
    }
   },
   "outputs": [
    {
     "output_type": "display_data",
     "data": {
      "text/html": [
       "<style scoped>\n  .ansiout {\n    display: block;\n    unicode-bidi: embed;\n    white-space: pre-wrap;\n    word-wrap: break-word;\n    word-break: break-all;\n    font-family: \"Source Code Pro\", \"Menlo\", monospace;;\n    font-size: 13px;\n    color: #555;\n    margin-left: 4px;\n    line-height: 19px;\n  }\n</style>\n<div class=\"ansiout\"></div>"
      ]
     },
     "metadata": {
      "application/vnd.databricks.v1+output": {
       "addedWidgets": {},
       "arguments": {},
       "data": "<div class=\"ansiout\"></div>",
       "datasetInfos": [],
       "metadata": {},
       "removedWidgets": [],
       "type": "html"
      }
     },
     "output_type": "display_data"
    }
   ],
   "source": [
    "def divide_data(data_inicial, data_final):\n",
    "    formato_data = '%d/%m/%Y %H:%M'\n",
    "\n",
    "    data_inicial = datetime.strptime(data_inicial, formato_data)\n",
    "    data_final = datetime.strptime(data_final, formato_data)\n",
    "    intervalo = data_final - data_inicial\n",
    "    data_final = data_inicial + intervalo // 2\n",
    "    data_final = data_final.replace(hour=23, minute=59, second=59) # define o final como o último segundo do minuto\n",
    "    data_final = data_final.strftime(formato_data)\n",
    "    data_inicial = data_inicial.strftime(formato_data)\n",
    "    return (data_inicial, data_final)"
   ]
  },
  {
   "cell_type": "code",
   "execution_count": 0,
   "metadata": {
    "application/vnd.databricks.v1+cell": {
     "cellMetadata": {},
     "inputWidgets": {},
     "nuid": "6224c3e9-8b80-497b-b212-47b916a8e95c",
     "showTitle": false,
     "title": ""
    }
   },
   "outputs": [
    {
     "output_type": "display_data",
     "data": {
      "text/html": [
       "<style scoped>\n  .ansiout {\n    display: block;\n    unicode-bidi: embed;\n    white-space: pre-wrap;\n    word-wrap: break-word;\n    word-break: break-all;\n    font-family: \"Source Code Pro\", \"Menlo\", monospace;;\n    font-size: 13px;\n    color: #555;\n    margin-left: 4px;\n    line-height: 19px;\n  }\n</style>\n<div class=\"ansiout\"></div>"
      ]
     },
     "metadata": {
      "application/vnd.databricks.v1+output": {
       "addedWidgets": {},
       "arguments": {},
       "data": "<div class=\"ansiout\"></div>",
       "datasetInfos": [],
       "metadata": {},
       "removedWidgets": [],
       "type": "html"
      }
     },
     "output_type": "display_data"
    }
   ],
   "source": [
    "def load_big_df(path):\n",
    "  schema = StructType([\n",
    "    StructField(\"id\", LongType(), nullable=True),\n",
    "    StructField(\"domain\", StringType(), nullable=True),\n",
    "    StructField(\"title\", StringType(), nullable=True),\n",
    "    StructField(\"subtitle\", StringType(), nullable=True),\n",
    "    StructField(\"author\", StringType(), nullable=True),\n",
    "    StructField(\"content\", StringType(), nullable=True),\n",
    "    StructField(\"url\", StringType(), nullable=True),\n",
    "    StructField(\"source\", StringType(), nullable=True),\n",
    "    StructField(\"source_country\", StringType(), nullable=True),\n",
    "    StructField(\"source_state\", StringType(), nullable=True),\n",
    "    StructField(\"crawled_date\", StringType(), nullable=True),\n",
    "    StructField(\"published_date\", StringType(), nullable=True),\n",
    "    StructField(\"dh_insertion_raw\", StringType(), nullable=True)\n",
    "  ])\n",
    "\n",
    "  df = spark.read.schema(schema) \\\n",
    "             .option(\"mergeSchema\", \"true\") \\\n",
    "             .option(\"timestampFormat\", \"INT96\") \\\n",
    "             .parquet(path) \\\n",
    "             .withColumn(\"dh_insertion_raw\", f.col(\"dh_insertion_raw\").cast(\"timestamp\"))\\\n",
    "             .withColumn(\"crawled_date\", f.col(\"crawled_date\").cast(\"timestamp\"))\n",
    "  \n",
    "  return df"
   ]
  },
  {
   "cell_type": "code",
   "execution_count": 0,
   "metadata": {
    "application/vnd.databricks.v1+cell": {
     "cellMetadata": {},
     "inputWidgets": {},
     "nuid": "d3969322-24c2-42db-bd94-3cfa21765aa0",
     "showTitle": false,
     "title": ""
    }
   },
   "outputs": [
    {
     "output_type": "display_data",
     "data": {
      "text/html": [
       "<style scoped>\n  .ansiout {\n    display: block;\n    unicode-bidi: embed;\n    white-space: pre-wrap;\n    word-wrap: break-word;\n    word-break: break-all;\n    font-family: \"Source Code Pro\", \"Menlo\", monospace;;\n    font-size: 13px;\n    color: #555;\n    margin-left: 4px;\n    line-height: 19px;\n  }\n</style>\n<div class=\"ansiout\"></div>"
      ]
     },
     "metadata": {
      "application/vnd.databricks.v1+output": {
       "addedWidgets": {},
       "arguments": {},
       "data": "<div class=\"ansiout\"></div>",
       "datasetInfos": [],
       "metadata": {},
       "removedWidgets": [],
       "type": "html"
      }
     },
     "output_type": "display_data"
    }
   ],
   "source": [
    "def get_news(data_inicial, data_final, id):\n",
    "    url = 'https://app.inguru.me/api/v1/taxonomies/nodes/news/'+str(id)\n",
    "\n",
    "    array_dfs = []\n",
    "\n",
    "    getted_news = 0\n",
    "    \n",
    "    total_news = API_INGURU(url, 1, data_inicial, data_final)['pagination']['total']\n",
    "    \n",
    "    if not total_news:\n",
    "      dados = {\n",
    "        'author': np.nan,\n",
    "        'content': np.nan,\n",
    "        'crawled_date': np.nan,\n",
    "        'domain': np.nan,\n",
    "        'id': np.nan,\n",
    "        'published_date': np.nan,\n",
    "        'source': np.nan,\n",
    "        'source_country': np.nan,\n",
    "        'source_state': np.nan,\n",
    "        'subtitle': np.nan,\n",
    "        'title': np.nan,\n",
    "        'url': np.nan,\n",
    "        'dh_insertion_raw': np.nan\n",
    "      }\n",
    "      fail_df = pd.DataFrame(dados, index=[0])\n",
    "      array_dfs.append(fail_df)\n",
    "      parcial_data_inicial = parcial_data_final\n",
    "      parcial_data_final = data_final\n",
    "    else:\n",
    "      \n",
    "      print('Total de notícias: ', total_news)\n",
    "\n",
    "      parcial_data_inicial = data_inicial\n",
    "      parcial_data_final = data_final\n",
    "\n",
    "      while getted_news < total_news:\n",
    "\n",
    "          parcial_news = total_news\n",
    "\n",
    "          while parcial_news > 10000:\n",
    "              print('Parcial de notícias: ', parcial_news)\n",
    "              parcial_data_inicial, parcial_data_final = divide_data(parcial_data_inicial, parcial_data_final)\n",
    "              parcial_news = API_INGURU(url, 1, parcial_data_inicial, parcial_data_final)['pagination']['total']\n",
    "\n",
    "          print(\"fazendo requisicao\")\n",
    "          print('Data inicial: ', parcial_data_inicial)\n",
    "          print('Data final: ', parcial_data_final)\n",
    "          news = API_INGURU(url, parcial_news, parcial_data_inicial, parcial_data_final)['data']\n",
    "\n",
    "          #CRIA UM DATAFRAME COM AS NOTICIAS\n",
    "          noticias = pd.DataFrame(news)\n",
    "          #ADICIONA NUM ARRAY DE DATAFRAME\n",
    "          array_dfs.append(noticias)\n",
    "\n",
    "          #corrige as datas\n",
    "\n",
    "          parcial_data_inicial = parcial_data_final\n",
    "          parcial_data_final = data_final\n",
    "\n",
    "          getted_news += parcial_news\n",
    "          \n",
    "\n",
    "    return pd.concat(array_dfs)"
   ]
  },
  {
   "cell_type": "markdown",
   "metadata": {
    "application/vnd.databricks.v1+cell": {
     "cellMetadata": {},
     "inputWidgets": {},
     "nuid": "b4fdb018-e021-4f68-a67a-593194b1a793",
     "showTitle": false,
     "title": ""
    }
   },
   "source": [
    "### Ingestão de anos anteriores"
   ]
  },
  {
   "cell_type": "markdown",
   "metadata": {
    "application/vnd.databricks.v1+cell": {
     "cellMetadata": {},
     "inputWidgets": {},
     "nuid": "ba46dc44-ca81-4031-bfa4-c66740f2ee0c",
     "showTitle": false,
     "title": ""
    }
   },
   "source": [
    "Teve de ser criado pois a API não carrega todos os anos por alguma limitação.\n",
    "\n",
    "PRECISA SER RODADO APENAS NA PRIMEIRA VEZ"
   ]
  },
  {
   "cell_type": "code",
   "execution_count": 0,
   "metadata": {
    "application/vnd.databricks.v1+cell": {
     "cellMetadata": {},
     "inputWidgets": {},
     "nuid": "1542e51f-f10c-411e-a50e-842ea0caa614",
     "showTitle": false,
     "title": ""
    }
   },
   "outputs": [
    {
     "output_type": "display_data",
     "data": {
      "text/html": [
       "<style scoped>\n  .ansiout {\n    display: block;\n    unicode-bidi: embed;\n    white-space: pre-wrap;\n    word-wrap: break-word;\n    word-break: break-all;\n    font-family: \"Source Code Pro\", \"Menlo\", monospace;;\n    font-size: 13px;\n    color: #555;\n    margin-left: 4px;\n    line-height: 19px;\n  }\n</style>\n<div class=\"ansiout\"></div>"
      ]
     },
     "metadata": {
      "application/vnd.databricks.v1+output": {
       "addedWidgets": {},
       "arguments": {},
       "data": "<div class=\"ansiout\"></div>",
       "datasetInfos": [],
       "metadata": {},
       "removedWidgets": [],
       "type": "html"
      }
     },
     "output_type": "display_data"
    }
   ],
   "source": [
    "def insere_news(data_inicial, data_final, id, path):\n",
    "  url = 'https://app.inguru.me/api/v1/taxonomies/nodes/news/'+str(id)\n",
    "\n",
    "  array_dfs = []\n",
    "\n",
    "  getted_news = 0\n",
    "    \n",
    "  total_news = API_INGURU(url, 1, data_inicial, data_final)['pagination']['total']\n",
    "    \n",
    "  if total_news:\n",
    "      \n",
    "    \n",
    "\n",
    "    parcial_data_inicial = data_inicial\n",
    "    parcial_data_final = data_final\n",
    "\n",
    "    while getted_news < total_news:\n",
    "\n",
    "      parcial_news = total_news\n",
    "\n",
    "      while parcial_news > 10000:\n",
    "#         print('Parcial de notícias: ', parcial_news)\n",
    "        parcial_data_inicial, parcial_data_final = divide_data(parcial_data_inicial, parcial_data_final)\n",
    "        parcial_news = API_INGURU(url, 1, parcial_data_inicial, parcial_data_final)['pagination']['total']\n",
    "\n",
    "#       print(\"fazendo requisicao\")\n",
    "#       print('Data inicial: ', parcial_data_inicial)\n",
    "#       print('Data final: ', parcial_data_final)\n",
    "      news = API_INGURU(url, parcial_news, parcial_data_inicial, parcial_data_final)['data']\n",
    "\n",
    "      #CRIA UM DATAFRAME COM AS NOTICIAS\n",
    "      noticias = pd.DataFrame(news)\n",
    "\n",
    "      #corrige as datas\n",
    "      parcial_data_inicial = parcial_data_final\n",
    "      parcial_data_final = data_final\n",
    "\n",
    "      getted_news += parcial_news\n",
    "\n",
    "      dh_insertion_raw = var_adf[\"adf_trigger_time\"].split(\".\")[0]\n",
    "\n",
    "      schema = StructType([\n",
    "        StructField(\"id\", LongType(), nullable=True),\n",
    "        StructField(\"domain\", StringType(), nullable=True),\n",
    "        StructField(\"title\", StringType(), nullable=True),\n",
    "        StructField(\"subtitle\", StringType(), nullable=True),\n",
    "        StructField(\"author\", StringType(), nullable=True),\n",
    "        StructField(\"content\", StringType(), nullable=True),\n",
    "        StructField(\"url\", StringType(), nullable=True),\n",
    "        StructField(\"source\", StringType(), nullable=True),\n",
    "        StructField(\"source_country\", StringType(), nullable=True),\n",
    "        StructField(\"source_state\", StringType(), nullable=True),\n",
    "        StructField(\"crawled_date\", StringType(), nullable=True),\n",
    "        StructField(\"published_date\", StringType(), nullable=True)\n",
    "      ])\n",
    "\n",
    "      saveDF = spark.createDataFrame(noticias, schema)\n",
    "      saveDF = saveDF.withColumn(\"dh_insertion_raw\", f.lit(dh_insertion_raw).cast(\"string\"))\n",
    "      saveDF.write.parquet(path, \"append\")\n",
    "      print(\"Total:\", total_news)\n",
    "      print(\"Inseridas:\", getted_news)\n",
    "    \n",
    "  else:\n",
    "    print(\"Sem dados\")\n"
   ]
  },
  {
   "cell_type": "code",
   "execution_count": 0,
   "metadata": {
    "application/vnd.databricks.v1+cell": {
     "cellMetadata": {},
     "inputWidgets": {},
     "nuid": "da044622-3cb3-44dc-9507-0d0fa3cecaf3",
     "showTitle": false,
     "title": ""
    }
   },
   "outputs": [
    {
     "output_type": "display_data",
     "data": {
      "text/html": [
       "<style scoped>\n  .ansiout {\n    display: block;\n    unicode-bidi: embed;\n    white-space: pre-wrap;\n    word-wrap: break-word;\n    word-break: break-all;\n    font-family: \"Source Code Pro\", \"Menlo\", monospace;;\n    font-size: 13px;\n    color: #555;\n    margin-left: 4px;\n    line-height: 19px;\n  }\n</style>\n<div class=\"ansiout\">Total: 673827\nInseridas: 456\nTotal: 673827\nInseridas: 8547\nTotal: 673827\nInseridas: 17478\nTotal: 673827\nInseridas: 22107\nTotal: 673827\nInseridas: 23172\nTotal: 673827\nInseridas: 23721\nTotal: 673827\nInseridas: 25754\nTotal: 673827\nInseridas: 35135\nTotal: 673827\nInseridas: 45074\nTotal: 673827\nInseridas: 54874\nTotal: 673827\nInseridas: 64387\nTotal: 673827\nInseridas: 69061\nTotal: 673827\nInseridas: 74819\nTotal: 673827\nInseridas: 84543\nTotal: 673827\nInseridas: 93838\nTotal: 673827\nInseridas: 100292\nTotal: 673827\nInseridas: 106552\nTotal: 673827\nInseridas: 112139\nTotal: 673827\nInseridas: 120762\nTotal: 673827\nInseridas: 129437\nTotal: 673827\nInseridas: 138818\nTotal: 673827\nInseridas: 145045\nTotal: 673827\nInseridas: 153552\nTotal: 673827\nInseridas: 160371\nTotal: 673827\nInseridas: 170196\nTotal: 673827\nInseridas: 179508\nTotal: 673827\nInseridas: 189199\nTotal: 673827\nInseridas: 197753\nTotal: 673827\nInseridas: 206578\nTotal: 673827\nInseridas: 213267\nTotal: 673827\nInseridas: 221606\nTotal: 673827\nInseridas: 230665\nTotal: 673827\nInseridas: 237744\nTotal: 673827\nInseridas: 243035\nTotal: 673827\nInseridas: 251302\nTotal: 673827\nInseridas: 257203\nTotal: 673827\nInseridas: 263916\nTotal: 673827\nInseridas: 270118\nTotal: 673827\nInseridas: 276598\nTotal: 673827\nInseridas: 283106\nTotal: 673827\nInseridas: 288634\nTotal: 673827\nInseridas: 296016\nTotal: 673827\nInseridas: 302732\nTotal: 673827\nInseridas: 309778\nTotal: 673827\nInseridas: 315912\nTotal: 673827\nInseridas: 322494\nTotal: 673827\nInseridas: 329631\nTotal: 673827\nInseridas: 335567\nTotal: 673827\nInseridas: 341438\nTotal: 673827\nInseridas: 351369\nTotal: 673827\nInseridas: 360704\nTotal: 673827\nInseridas: 370110\nTotal: 673827\nInseridas: 379727\nTotal: 673827\nInseridas: 388036\nTotal: 673827\nInseridas: 394880\nTotal: 673827\nInseridas: 402087\nTotal: 673827\nInseridas: 409409\nTotal: 673827\nInseridas: 415736\nTotal: 673827\nInseridas: 423504\nTotal: 673827\nInseridas: 429506\nTotal: 673827\nInseridas: 436942\nTotal: 673827\nInseridas: 442411\nTotal: 673827\nInseridas: 448306\nTotal: 673827\nInseridas: 453052\nTotal: 673827\nInseridas: 458645\nTotal: 673827\nInseridas: 464949\nTotal: 673827\nInseridas: 471267\nTotal: 673827\nInseridas: 477659\nTotal: 673827\nInseridas: 485653\nTotal: 673827\nInseridas: 493846\nTotal: 673827\nInseridas: 502057\nTotal: 673827\nInseridas: 508616\nTotal: 673827\nInseridas: 516492\nTotal: 673827\nInseridas: 523499\nTotal: 673827\nInseridas: 528444\nTotal: 673827\nInseridas: 535666\nTotal: 673827\nInseridas: 540775\nTotal: 673827\nInseridas: 548979\nTotal: 673827\nInseridas: 552722\nTotal: 673827\nInseridas: 560015\nTotal: 673827\nInseridas: 566643\nTotal: 673827\nInseridas: 574355\nTotal: 673827\nInseridas: 583981\nTotal: 673827\nInseridas: 590935\nTotal: 673827\nInseridas: 597036\nTotal: 673827\nInseridas: 606933\nTotal: 673827\nInseridas: 614752\nTotal: 673827\nInseridas: 623694\nTotal: 673827\nInseridas: 630978\nTotal: 673827\nInseridas: 637085\nTotal: 673827\nInseridas: 646315\nTotal: 673827\nInseridas: 653328\nTotal: 673827\nInseridas: 660695\nTotal: 673827\nInseridas: 668393\nTotal: 673827\nInseridas: 673839\nTotal: 5931\nInseridas: 5931\n</div>"
      ]
     },
     "metadata": {
      "application/vnd.databricks.v1+output": {
       "addedWidgets": {},
       "arguments": {},
       "data": "<div class=\"ansiout\">Total: 673827\nInseridas: 456\nTotal: 673827\nInseridas: 8547\nTotal: 673827\nInseridas: 17478\nTotal: 673827\nInseridas: 22107\nTotal: 673827\nInseridas: 23172\nTotal: 673827\nInseridas: 23721\nTotal: 673827\nInseridas: 25754\nTotal: 673827\nInseridas: 35135\nTotal: 673827\nInseridas: 45074\nTotal: 673827\nInseridas: 54874\nTotal: 673827\nInseridas: 64387\nTotal: 673827\nInseridas: 69061\nTotal: 673827\nInseridas: 74819\nTotal: 673827\nInseridas: 84543\nTotal: 673827\nInseridas: 93838\nTotal: 673827\nInseridas: 100292\nTotal: 673827\nInseridas: 106552\nTotal: 673827\nInseridas: 112139\nTotal: 673827\nInseridas: 120762\nTotal: 673827\nInseridas: 129437\nTotal: 673827\nInseridas: 138818\nTotal: 673827\nInseridas: 145045\nTotal: 673827\nInseridas: 153552\nTotal: 673827\nInseridas: 160371\nTotal: 673827\nInseridas: 170196\nTotal: 673827\nInseridas: 179508\nTotal: 673827\nInseridas: 189199\nTotal: 673827\nInseridas: 197753\nTotal: 673827\nInseridas: 206578\nTotal: 673827\nInseridas: 213267\nTotal: 673827\nInseridas: 221606\nTotal: 673827\nInseridas: 230665\nTotal: 673827\nInseridas: 237744\nTotal: 673827\nInseridas: 243035\nTotal: 673827\nInseridas: 251302\nTotal: 673827\nInseridas: 257203\nTotal: 673827\nInseridas: 263916\nTotal: 673827\nInseridas: 270118\nTotal: 673827\nInseridas: 276598\nTotal: 673827\nInseridas: 283106\nTotal: 673827\nInseridas: 288634\nTotal: 673827\nInseridas: 296016\nTotal: 673827\nInseridas: 302732\nTotal: 673827\nInseridas: 309778\nTotal: 673827\nInseridas: 315912\nTotal: 673827\nInseridas: 322494\nTotal: 673827\nInseridas: 329631\nTotal: 673827\nInseridas: 335567\nTotal: 673827\nInseridas: 341438\nTotal: 673827\nInseridas: 351369\nTotal: 673827\nInseridas: 360704\nTotal: 673827\nInseridas: 370110\nTotal: 673827\nInseridas: 379727\nTotal: 673827\nInseridas: 388036\nTotal: 673827\nInseridas: 394880\nTotal: 673827\nInseridas: 402087\nTotal: 673827\nInseridas: 409409\nTotal: 673827\nInseridas: 415736\nTotal: 673827\nInseridas: 423504\nTotal: 673827\nInseridas: 429506\nTotal: 673827\nInseridas: 436942\nTotal: 673827\nInseridas: 442411\nTotal: 673827\nInseridas: 448306\nTotal: 673827\nInseridas: 453052\nTotal: 673827\nInseridas: 458645\nTotal: 673827\nInseridas: 464949\nTotal: 673827\nInseridas: 471267\nTotal: 673827\nInseridas: 477659\nTotal: 673827\nInseridas: 485653\nTotal: 673827\nInseridas: 493846\nTotal: 673827\nInseridas: 502057\nTotal: 673827\nInseridas: 508616\nTotal: 673827\nInseridas: 516492\nTotal: 673827\nInseridas: 523499\nTotal: 673827\nInseridas: 528444\nTotal: 673827\nInseridas: 535666\nTotal: 673827\nInseridas: 540775\nTotal: 673827\nInseridas: 548979\nTotal: 673827\nInseridas: 552722\nTotal: 673827\nInseridas: 560015\nTotal: 673827\nInseridas: 566643\nTotal: 673827\nInseridas: 574355\nTotal: 673827\nInseridas: 583981\nTotal: 673827\nInseridas: 590935\nTotal: 673827\nInseridas: 597036\nTotal: 673827\nInseridas: 606933\nTotal: 673827\nInseridas: 614752\nTotal: 673827\nInseridas: 623694\nTotal: 673827\nInseridas: 630978\nTotal: 673827\nInseridas: 637085\nTotal: 673827\nInseridas: 646315\nTotal: 673827\nInseridas: 653328\nTotal: 673827\nInseridas: 660695\nTotal: 673827\nInseridas: 668393\nTotal: 673827\nInseridas: 673839\nTotal: 5931\nInseridas: 5931\n</div>",
       "datasetInfos": [],
       "metadata": {},
       "removedWidgets": [],
       "type": "html"
      }
     },
     "output_type": "display_data"
    }
   ],
   "source": [
    "graph_ids = []\n",
    "graph_names = []\n",
    "graph_dfs = []\n",
    "\n",
    "nodeID = '929' #Declaração do ID\n",
    "\n",
    "url_nodeID = 'https://app.inguru.me/api/v1/taxonomies/nodes/'+str(nodeID)\n",
    "IDs = API_INGURU(url = url_nodeID, per_page=1, start_date='', end_date='')['data'][0]\n",
    "graph_ids.append(IDs['id'])\n",
    "graph_names.append(IDs['name'].replace(\" \", \"_\"))\n",
    "\n",
    "#Passa por cada \"filho\" no nó principal, caso não tenha nenhum, nada acontece.\n",
    "for node_children in IDs['children']:\n",
    "  graph_ids.append(node_children['id'])\n",
    "  graph_names.append(node_children['name'].replace(\" \", \"_\"))\n",
    "\n",
    "data_inicial = '01/01/2015 00:00'\n",
    "data_final = datetime.now().strftime(\"%d/%m/%Y %H:%M\")\n",
    "\n",
    "for i, id in enumerate(graph_ids):\n",
    "  path = source_lnd + \"_\" + str(graph_names[i])\n",
    "  insere_news(data_inicial, data_final, id, path)\n"
   ]
  },
  {
   "cell_type": "markdown",
   "metadata": {
    "application/vnd.databricks.v1+cell": {
     "cellMetadata": {},
     "inputWidgets": {},
     "nuid": "3989f3b0-a17f-4a29-8b58-ce5f56127e80",
     "showTitle": false,
     "title": ""
    }
   },
   "source": [
    "### Rotina para últimos 7 dias"
   ]
  },
  {
   "cell_type": "code",
   "execution_count": 0,
   "metadata": {
    "application/vnd.databricks.v1+cell": {
     "cellMetadata": {},
     "inputWidgets": {},
     "nuid": "ece7fa28-edd3-4ab0-b02a-805ef6462292",
     "showTitle": false,
     "title": ""
    }
   },
   "outputs": [
    {
     "output_type": "display_data",
     "data": {
      "text/html": [
       "<style scoped>\n  .ansiout {\n    display: block;\n    unicode-bidi: embed;\n    white-space: pre-wrap;\n    word-wrap: break-word;\n    word-break: break-all;\n    font-family: \"Source Code Pro\", \"Menlo\", monospace;;\n    font-size: 13px;\n    color: #555;\n    margin-left: 4px;\n    line-height: 19px;\n  }\n</style>\n<div class=\"ansiout\">Total de notícias:  19357\nParcial de notícias:  19357\nParcial de notícias:  11289\nfazendo requisicao\nData inicial:  16/02/2023 02:04\nData final:  18/02/2023 23:59\nParcial de notícias:  19357\nfazendo requisicao\nData inicial:  18/02/2023 23:59\nData final:  21/02/2023 23:59\nParcial de notícias:  19357\nfazendo requisicao\nData inicial:  21/02/2023 23:59\nData final:  22/02/2023 23:59\nParcial de notícias:  19357\nfazendo requisicao\nData inicial:  22/02/2023 23:59\nData final:  23/02/2023 23:59\nTotal de notícias:  89\nfazendo requisicao\nData inicial:  16/02/2023 02:04\nData final:  23/02/2023 02:04\n</div>"
      ]
     },
     "metadata": {
      "application/vnd.databricks.v1+output": {
       "addedWidgets": {},
       "arguments": {},
       "data": "<div class=\"ansiout\">Total de notícias:  19357\nParcial de notícias:  19357\nParcial de notícias:  11289\nfazendo requisicao\nData inicial:  16/02/2023 02:04\nData final:  18/02/2023 23:59\nParcial de notícias:  19357\nfazendo requisicao\nData inicial:  18/02/2023 23:59\nData final:  21/02/2023 23:59\nParcial de notícias:  19357\nfazendo requisicao\nData inicial:  21/02/2023 23:59\nData final:  22/02/2023 23:59\nParcial de notícias:  19357\nfazendo requisicao\nData inicial:  22/02/2023 23:59\nData final:  23/02/2023 23:59\nTotal de notícias:  89\nfazendo requisicao\nData inicial:  16/02/2023 02:04\nData final:  23/02/2023 02:04\n</div>",
       "datasetInfos": [],
       "metadata": {},
       "removedWidgets": [],
       "type": "html"
      }
     },
     "output_type": "display_data"
    }
   ],
   "source": [
    "#SALVANDO EM: /tmp/dev/uld/API_InGuru/inguro_vig_acidente_trab_NOME_DO_NO\n",
    "# /tmp/dev/uld/API_InGuru/inguro_vig_acidente_trab_NODO_RAIZ\n",
    "# /tmp/dev/uld/API_InGuru/inguro_vig_acidente_trab_Acidentes_de_Trabalho_Judicializados\n",
    "# /tmp/dev/uld/API_I\n",
    "\n",
    "graph_ids = []\n",
    "graph_names = []\n",
    "graph_dfs = []\n",
    "\n",
    "nodeID = '929' #Declaração do ID\n",
    "\n",
    "url_nodeID = 'https://app.inguru.me/api/v1/taxonomies/nodes/'+str(nodeID)\n",
    "IDs = API_INGURU(url = url_nodeID, per_page=1, start_date='', end_date='')['data'][0]\n",
    "graph_ids.append(IDs['id'])\n",
    "graph_names.append(IDs['name'].replace(\" \", \"_\"))\n",
    "\n",
    "#Passa por cada \"filho\" no nó principal, caso não tenha nenhum, nada acontece.\n",
    "for node_children in IDs['children']:\n",
    "  graph_ids.append(node_children['id'])\n",
    "  graph_names.append(node_children['name'].replace(\" \", \"_\"))\n",
    "\n",
    "#Obtém as notícias de cada nó encontrado começando pelo nó principal.\n",
    "#Cria um df com as notícias obtidas e salva em um array de dfs.\n",
    "end_date = datetime.now().strftime(\"%d/%m/%Y %H:%M\")\n",
    "start_date = (datetime.now() - timedelta(days=7)).strftime(\"%d/%m/%Y %H:%M\")\n",
    "for id in graph_ids:\n",
    "  url = 'https://app.inguru.me/api/v1/taxonomies/nodes/news/'+str(id)\n",
    "  temp_df = get_news(start_date,end_date, id).fillna(\"Não informado\")\n",
    "  graph_dfs.append(spark.createDataFrame(temp_df))\n"
   ]
  },
  {
   "cell_type": "code",
   "execution_count": 0,
   "metadata": {
    "application/vnd.databricks.v1+cell": {
     "cellMetadata": {},
     "inputWidgets": {},
     "nuid": "242a9571-bc9a-4195-a62e-5a4adb3d9a56",
     "showTitle": false,
     "title": ""
    }
   },
   "outputs": [
    {
     "output_type": "display_data",
     "data": {
      "text/html": [
       "<style scoped>\n  .ansiout {\n    display: block;\n    unicode-bidi: embed;\n    white-space: pre-wrap;\n    word-wrap: break-word;\n    word-break: break-all;\n    font-family: \"Source Code Pro\", \"Menlo\", monospace;;\n    font-size: 13px;\n    color: #555;\n    margin-left: 4px;\n    line-height: 19px;\n  }\n</style>\n<div class=\"ansiout\"></div>"
      ]
     },
     "metadata": {
      "application/vnd.databricks.v1+output": {
       "addedWidgets": {},
       "arguments": {},
       "data": "<div class=\"ansiout\"></div>",
       "datasetInfos": [],
       "metadata": {},
       "removedWidgets": [],
       "type": "html"
      }
     },
     "output_type": "display_data"
    }
   ],
   "source": [
    "#Inserção de hora nas tabelas.\n",
    "dh_insertion_raw = var_adf[\"adf_trigger_time\"].split(\".\")[0] #Obtendo hora do sistema\n",
    "\n",
    "for i in range(len(graph_dfs)):\n",
    "  graph_dfs[i] = graph_dfs[i].withColumn(\"dh_insertion_raw\", f.lit(dh_insertion_raw).cast(\"string\")) #Gravando hora em cada um dos dataframes"
   ]
  },
  {
   "cell_type": "code",
   "execution_count": 0,
   "metadata": {
    "application/vnd.databricks.v1+cell": {
     "cellMetadata": {},
     "inputWidgets": {},
     "nuid": "639e14e7-b968-47b6-85ad-28ac5865b315",
     "showTitle": false,
     "title": ""
    }
   },
   "outputs": [
    {
     "output_type": "display_data",
     "data": {
      "text/html": [
       "<style scoped>\n  .ansiout {\n    display: block;\n    unicode-bidi: embed;\n    white-space: pre-wrap;\n    word-wrap: break-word;\n    word-break: break-all;\n    font-family: \"Source Code Pro\", \"Menlo\", monospace;;\n    font-size: 13px;\n    color: #555;\n    margin-left: 4px;\n    line-height: 19px;\n  }\n</style>\n<div class=\"ansiout\">2023-02-21 21:38:53 2023-02-14 21:38:53\n2023-02-21 18:26:50 2023-02-14 18:26:50\n</div>"
      ]
     },
     "metadata": {
      "application/vnd.databricks.v1+output": {
       "addedWidgets": {},
       "arguments": {},
       "data": "<div class=\"ansiout\">2023-02-21 21:38:53 2023-02-14 21:38:53\n2023-02-21 18:26:50 2023-02-14 18:26:50\n</div>",
       "datasetInfos": [],
       "metadata": {},
       "removedWidgets": [],
       "type": "html"
      }
     },
     "output_type": "display_data"
    }
   ],
   "source": [
    "#Adição de novos registros\n",
    "\n",
    "for i in range(len(graph_dfs)):\n",
    "  path = source_lnd + \"_\" + str(graph_names[i])\n",
    "  old_df = load_big_df(path)\n",
    "#   old_df = spark.read.parquet(path)\n",
    "  max_date = old_df.select(f.max(\"crawled_date\")).collect()[0][0]\n",
    "  \n",
    "  min_date = max_date - timedelta(days=7)\n",
    "  print(max_date, min_date)\n",
    "  old_df.filter(old_df[\"crawled_date\"] > min_date)\n",
    "  \n",
    "  diff_df = graph_dfs[i].join(old_df, on='id', how='left_anti')\n",
    "  \n",
    "  diff_df.write.parquet(path, 'append')"
   ]
  },
  {
   "cell_type": "code",
   "execution_count": 0,
   "metadata": {
    "application/vnd.databricks.v1+cell": {
     "cellMetadata": {},
     "inputWidgets": {},
     "nuid": "696ee6ee-b54d-4a9b-8145-295b535b3750",
     "showTitle": false,
     "title": ""
    }
   },
   "outputs": [
    {
     "output_type": "display_data",
     "data": {
      "text/html": [
       "<style scoped>\n  .ansiout {\n    display: block;\n    unicode-bidi: embed;\n    white-space: pre-wrap;\n    word-wrap: break-word;\n    word-break: break-all;\n    font-family: \"Source Code Pro\", \"Menlo\", monospace;;\n    font-size: 13px;\n    color: #555;\n    margin-left: 4px;\n    line-height: 19px;\n  }\n</style>\n<div class=\"ansiout\">[REDACTED]/tmp/dev/uld/API_InGuru/inguro_prevencao_acidente_trab_Nodo_Raiz\n[REDACTED]/tmp/dev/uld/API_InGuru/inguro_prevencao_acidente_trab_ACIDENTES_DE_TRABALHO\n</div>"
      ]
     },
     "metadata": {
      "application/vnd.databricks.v1+output": {
       "addedWidgets": {},
       "arguments": {},
       "data": "<div class=\"ansiout\">[REDACTED]/tmp/dev/uld/API_InGuru/inguro_prevencao_acidente_trab_Nodo_Raiz\n[REDACTED]/tmp/dev/uld/API_InGuru/inguro_prevencao_acidente_trab_ACIDENTES_DE_TRABALHO\n</div>",
       "datasetInfos": [],
       "metadata": {},
       "removedWidgets": [],
       "type": "html"
      }
     },
     "output_type": "display_data"
    }
   ],
   "source": [
    "# CARREGAMENTO DAS TABELAS PARA VER SE FORAM SALVAS CORRETAMENTE\n",
    "test_dfs = []\n",
    "for i, df in enumerate(graph_dfs):\n",
    "  path = source_lnd + \"_\" + str(graph_names[i])\n",
    "  test_dfs.append(spark.read.parquet(path))\n",
    "  print(path)"
   ]
  },
  {
   "cell_type": "code",
   "execution_count": 0,
   "metadata": {
    "application/vnd.databricks.v1+cell": {
     "cellMetadata": {},
     "inputWidgets": {},
     "nuid": "a1888666-ffc4-43e4-bbe0-08d4ac06d3b0",
     "showTitle": false,
     "title": ""
    }
   },
   "outputs": [
    {
     "output_type": "display_data",
     "data": {
      "text/html": [
       "<style scoped>\n  .ansiout {\n    display: block;\n    unicode-bidi: embed;\n    white-space: pre-wrap;\n    word-wrap: break-word;\n    word-break: break-all;\n    font-family: \"Source Code Pro\", \"Menlo\", monospace;;\n    font-size: 13px;\n    color: #555;\n    margin-left: 4px;\n    line-height: 19px;\n  }\n</style>\n<div class=\"ansiout\">5953\n</div>"
      ]
     },
     "metadata": {
      "application/vnd.databricks.v1+output": {
       "addedWidgets": {},
       "arguments": {},
       "data": "<div class=\"ansiout\">5953\n</div>",
       "datasetInfos": [],
       "metadata": {},
       "removedWidgets": [],
       "type": "html"
      }
     },
     "output_type": "display_data"
    }
   ],
   "source": [
    "print(test_dfs[1].count())"
   ]
  },
  {
   "cell_type": "code",
   "execution_count": 0,
   "metadata": {
    "application/vnd.databricks.v1+cell": {
     "cellMetadata": {},
     "inputWidgets": {},
     "nuid": "7e384082-c344-4985-8ce1-1fda66e49074",
     "showTitle": false,
     "title": ""
    }
   },
   "outputs": [
    {
     "output_type": "display_data",
     "data": {
      "text/html": [
       "<style scoped>\n  .ansiout {\n    display: block;\n    unicode-bidi: embed;\n    white-space: pre-wrap;\n    word-wrap: break-word;\n    word-break: break-all;\n    font-family: \"Source Code Pro\", \"Menlo\", monospace;;\n    font-size: 13px;\n    color: #555;\n    margin-left: 4px;\n    line-height: 19px;\n  }\n</style>\n<div class=\"ansiout\"></div>"
      ]
     },
     "metadata": {
      "application/vnd.databricks.v1+output": {
       "addedWidgets": {},
       "arguments": {},
       "data": "<div class=\"ansiout\"></div>",
       "datasetInfos": [],
       "metadata": {},
       "removedWidgets": [],
       "type": "html"
      }
     },
     "output_type": "display_data"
    }
   ],
   "source": [
    "# #ZERAR A BASE\n",
    "\n",
    "# dh_insertion_raw = var_adf[\"adf_trigger_time\"].split(\".\")[0]\n",
    "\n",
    "# data = {\n",
    "#   'id': 0,\n",
    "#   'domain': 'Não informado',\n",
    "#   'title': 'Não informado',\n",
    "#   'subtitle': 'Não informado',\n",
    "#   'author': 'Não informado',\n",
    "#   'content': 'Não informado',\n",
    "#   'url': 'Não informado',\n",
    "#   'source': 'Não informado',\n",
    "#   'source_country': 'Não informado',\n",
    "#   'source_state': 'Não informado',\n",
    "#   'crawled_date': '1900-01-01 00:00:00',\n",
    "#   'published_date': '1900-01-01 00:00:00',\n",
    "#   'dh_insertion_raw': '2020-06-08T01:42:41.000+0000'\n",
    "# }\n",
    "# schema = StructType([\n",
    "#   StructField(\"id\", LongType(), nullable=True),\n",
    "#   StructField(\"domain\", StringType(), nullable=True),\n",
    "#   StructField(\"title\", StringType(), nullable=True),\n",
    "#   StructField(\"subtitle\", StringType(), nullable=True),\n",
    "#   StructField(\"author\", StringType(), nullable=True),\n",
    "#   StructField(\"content\", StringType(), nullable=True),\n",
    "#   StructField(\"url\", StringType(), nullable=True),\n",
    "#   StructField(\"source\", StringType(), nullable=True),\n",
    "#   StructField(\"source_country\", StringType(), nullable=True),\n",
    "#   StructField(\"source_state\", StringType(), nullable=True),\n",
    "#   StructField(\"crawled_date\", StringType(), nullable=True),\n",
    "#   StructField(\"published_date\", StringType(), nullable=True),\n",
    "#   StructField(\"dh_insertion_raw\", StringType(), nullable=True)\n",
    "#   ])\n",
    "\n",
    "# data['id'] = int(data['id'])\n",
    "\n",
    "# # dfff = pd.DataFrame(data, index=[0])\n",
    "# spark_dfff = spark.createDataFrame([tuple(data.values())], schema=schema)\n",
    "# for i, df in enumerate(graph_dfs):\n",
    "#   path = source_lnd + \"_\" + str(graph_names[i])\n",
    "#   spark_dfff.write.parquet(path, mode=\"overwrite\")\n",
    "  "
   ]
  },
  {
   "cell_type": "markdown",
   "metadata": {
    "application/vnd.databricks.v1+cell": {
     "cellMetadata": {},
     "inputWidgets": {},
     "nuid": "15f810cb-6034-4ecc-bdb4-e9c6e8301000",
     "showTitle": false,
     "title": ""
    }
   },
   "source": [
    "--- Fim Leno ----"
   ]
  },
  {
   "cell_type": "code",
   "execution_count": 0,
   "metadata": {
    "application/vnd.databricks.v1+cell": {
     "cellMetadata": {},
     "inputWidgets": {},
     "nuid": "f534c482-5958-4094-a56c-254b84459b10",
     "showTitle": false,
     "title": ""
    }
   },
   "outputs": [
    {
     "output_type": "display_data",
     "data": {
      "text/html": [
       "<style scoped>\n  .ansiout {\n    display: block;\n    unicode-bidi: embed;\n    white-space: pre-wrap;\n    word-wrap: break-word;\n    word-break: break-all;\n    font-family: \"Source Code Pro\", \"Menlo\", monospace;;\n    font-size: 13px;\n    color: #555;\n    margin-left: 4px;\n    line-height: 19px;\n  }\n</style>\n<div class=\"ansiout\"></div>"
      ]
     },
     "metadata": {
      "application/vnd.databricks.v1+output": {
       "addedWidgets": {},
       "arguments": {},
       "data": "<div class=\"ansiout\"></div>",
       "datasetInfos": [],
       "metadata": {},
       "removedWidgets": [],
       "type": "html"
      }
     },
     "output_type": "display_data"
    }
   ],
   "source": [
    "data_you_need=pd.DataFrame()\n",
    "\n",
    "#Obtém as notícias de cada nó encontrado começando pelo nó principal.\n",
    "#Cria um df com as notícias obtidas e salva em um array de dfs.\n",
    "for id in graph_ids:\n",
    "  url = 'https://app.inguru.me/api/v1/taxonomies/nodes/news/'+str(id)\n",
    "  temp_df = pd.DataFrame.from_dict(API_INGURU(url = url)['data']).fillna(\"Não informado\")\n",
    "  #temp_df\n",
    "  data_you_need=data_you_need.append(temp_df,ignore_index=True)\n",
    "  #graph_dfs.append(spark.createDataFrame(temp_df))\n",
    "  #temp_df.append(temp_df)\n",
    "  \n",
    "  \n",
    "  \n",
    "  #data_you_need=pd.DataFrame()\n",
    "#for infile in glob.glob(\"*.xlsx\"):\n",
    "    #data = pandas.read_excel(infile)\n",
    "    #data_you_need=data_you_need.append(data,ignore_index=True)"
   ]
  },
  {
   "cell_type": "code",
   "execution_count": 0,
   "metadata": {
    "application/vnd.databricks.v1+cell": {
     "cellMetadata": {},
     "inputWidgets": {},
     "nuid": "69c2ab40-281c-4cb5-8efa-9ae6f2112ca2",
     "showTitle": false,
     "title": ""
    }
   },
   "outputs": [
    {
     "output_type": "display_data",
     "data": {
      "text/html": [
       "<style scoped>\n  .ansiout {\n    display: block;\n    unicode-bidi: embed;\n    white-space: pre-wrap;\n    word-wrap: break-word;\n    word-break: break-all;\n    font-family: \"Source Code Pro\", \"Menlo\", monospace;;\n    font-size: 13px;\n    color: #555;\n    margin-left: 4px;\n    line-height: 19px;\n  }\n</style>\n<div class=\"ansiout\">Out[12]: </div>"
      ]
     },
     "metadata": {
      "application/vnd.databricks.v1+output": {
       "addedWidgets": {},
       "arguments": {},
       "data": "<div class=\"ansiout\">Out[12]: </div>",
       "datasetInfos": [],
       "metadata": {},
       "removedWidgets": [],
       "type": "html"
      }
     },
     "output_type": "display_data"
    },
    {
     "output_type": "display_data",
     "data": {
      "text/html": [
       "<div>\n<style scoped>\n    .dataframe tbody tr th:only-of-type {\n        vertical-align: middle;\n    }\n\n    .dataframe tbody tr th {\n        vertical-align: top;\n    }\n\n    .dataframe thead th {\n        text-align: right;\n    }\n</style>\n<table border=\"1\" class=\"dataframe\">\n  <thead>\n    <tr style=\"text-align: right;\">\n      <th></th>\n      <th>id</th>\n      <th>domain</th>\n      <th>title</th>\n      <th>subtitle</th>\n      <th>author</th>\n      <th>content</th>\n      <th>url</th>\n      <th>source</th>\n      <th>source_country</th>\n      <th>source_state</th>\n      <th>crawled_date</th>\n      <th>published_date</th>\n    </tr>\n  </thead>\n  <tbody>\n    <tr>\n      <th>0</th>\n      <td>185445173</td>\n      <td>www.novanoticias.com.br</td>\n      <td>Deputado Roberto Hashioka pede duplicação de 3...</td>\n      <td>O parlamentar destacou ainda que, desde a impl...</td>\n      <td>Não informado</td>\n      <td>Na sessão plenária desta quinta-feira, 16, o d...</td>\n      <td>https://www.novanoticias.com.br/noticias/polit...</td>\n      <td>Nova Notícias</td>\n      <td>br</td>\n      <td>Mato Grosso do Sul</td>\n      <td>2023-02-16 11:20:55.676827</td>\n      <td>2023-02-17 14:21:46</td>\n    </tr>\n    <tr>\n      <th>1</th>\n      <td>185316683</td>\n      <td>www.correiodopovo.com.br</td>\n      <td>Freeway deve receber mais de meio milhão de ve...</td>\n      <td>Movimento nas estradas estaduais também será i...</td>\n      <td>Christian Bueller</td>\n      <td>Segundo a previsão da concessionária da BR-290...</td>\n      <td>https://www.correiodopovo.com.br/not%C3%ADcias...</td>\n      <td>Correio do Povo</td>\n      <td>br</td>\n      <td>Rio Grande do Sul</td>\n      <td>2023-02-15 18:15:14</td>\n      <td>2023-02-17 07:00:00</td>\n    </tr>\n    <tr>\n      <th>2</th>\n      <td>185351987</td>\n      <td>gazetadealagoas.com.br</td>\n      <td></td>\n      <td></td>\n      <td>Não informado</td>\n      <td>GAZETA DE ALAGOAS QUINTA-FEIRA, 16 DE FEVEREIR...</td>\n      <td>https://s3.amazonaws.com/static.resources/orig...</td>\n      <td>Gazeta de Alagoas - AL</td>\n      <td>br</td>\n      <td>Alagoas</td>\n      <td>2023-02-15 23:43:15</td>\n      <td>2023-02-16 23:43:15</td>\n    </tr>\n    <tr>\n      <th>3</th>\n      <td>185357022</td>\n      <td>www.portaldecamaqua.com.br</td>\n      <td>Menino de quatro anos fica ferido em acidente ...</td>\n      <td>Acidente envolveu um Toyota Etios, com placas ...</td>\n      <td>Não informado</td>\n      <td>Na tarde desta quarta-feira, dia 15 de feverei...</td>\n      <td>https://www.portaldecamaqua.com.br/noticias/60...</td>\n      <td>Portal de Camaquã</td>\n      <td>br</td>\n      <td></td>\n      <td>2023-02-15 23:35:05</td>\n      <td>2023-02-16 23:35:05</td>\n    </tr>\n    <tr>\n      <th>4</th>\n      <td>185351322</td>\n      <td>drive.google.com</td>\n      <td></td>\n      <td></td>\n      <td>Não informado</td>\n      <td>Poliana Moça\\n\\nTheo oferece\\n\\nDê mais confia...</td>\n      <td>https://s3.amazonaws.com/static.resources/orig...</td>\n      <td>Jornal Guarulhos Hoje - Impresso - Flip</td>\n      <td>br</td>\n      <td>São Paulo</td>\n      <td>2023-02-15 23:01:10</td>\n      <td>2023-02-16 23:01:10</td>\n    </tr>\n    <tr>\n      <th>...</th>\n      <td>...</td>\n      <td>...</td>\n      <td>...</td>\n      <td>...</td>\n      <td>...</td>\n      <td>...</td>\n      <td>...</td>\n      <td>...</td>\n      <td>...</td>\n      <td>...</td>\n      <td>...</td>\n      <td>...</td>\n    </tr>\n    <tr>\n      <th>95</th>\n      <td>184871925</td>\n      <td>acervo.folha.uol.com.br</td>\n      <td></td>\n      <td></td>\n      <td>Não informado</td>\n      <td>FOLHA DE S.PAULO * + *\\nSEGUNDA-FEIRA, 13 DE F...</td>\n      <td>https://s3.amazonaws.com/static.resources/orig...</td>\n      <td>Folha de São Paulo - Impresso - Flip</td>\n      <td>br</td>\n      <td>São Paulo</td>\n      <td>2023-02-12 23:42:28</td>\n      <td>2023-02-13 23:42:28</td>\n    </tr>\n    <tr>\n      <th>96</th>\n      <td>185011670</td>\n      <td>mixvale.com.br</td>\n      <td>Segurados com doenças na coluna podem pedir ap...</td>\n      <td></td>\n      <td>Não informado</td>\n      <td>Segurados com doenças na coluna podem pedir ap...</td>\n      <td>https://mixvale.com.br/2023/02/13/segurados-co...</td>\n      <td>Mix Vale</td>\n      <td>br</td>\n      <td>Minas Gerais</td>\n      <td>2023-02-13 20:59:36</td>\n      <td>2023-02-13 20:59:36</td>\n    </tr>\n    <tr>\n      <th>97</th>\n      <td>184965334</td>\n      <td>folhacapital.com.br</td>\n      <td>Henfil realiza blitz educativa no Hospital e M...</td>\n      <td></td>\n      <td>Não informado</td>\n      <td>PALMAS\\nPublicado em\\n13 de fevereiro de 2023\\...</td>\n      <td>https://folhacapital.com.br/palmas/henfil-real...</td>\n      <td>Folha Capital</td>\n      <td>br</td>\n      <td>Tocantins</td>\n      <td>2023-02-13 15:18:22</td>\n      <td>2023-02-13 17:46:03</td>\n    </tr>\n    <tr>\n      <th>98</th>\n      <td>184989290</td>\n      <td>surgiu.com.br</td>\n      <td>Secretária de Assistência Social e profissiona...</td>\n      <td></td>\n      <td>Não informado</td>\n      <td>A secretária de Assistência Social de Marianóp...</td>\n      <td>https://surgiu.com.br/2023/02/13/secretaria-de...</td>\n      <td>Surgiu</td>\n      <td>br</td>\n      <td>São Paulo</td>\n      <td>2023-02-13 17:45:07</td>\n      <td>2023-02-13 17:45:07</td>\n    </tr>\n    <tr>\n      <th>99</th>\n      <td>185026936</td>\n      <td>correiodecarajas.com.br</td>\n      <td>Acuada por ação na Justiça, Vale vai pagar R$ ...</td>\n      <td></td>\n      <td>Não informado</td>\n      <td>O Ministério Público do Trabalho (MPT), o Sind...</td>\n      <td>https://correiodecarajas.com.br/acuada-por-aca...</td>\n      <td>Correio de Carajás</td>\n      <td>br</td>\n      <td>Pará</td>\n      <td>2023-02-13 23:39:46</td>\n      <td>2023-02-13 17:34:06</td>\n    </tr>\n  </tbody>\n</table>\n<p>100 rows × 12 columns</p>\n</div>"
      ]
     },
     "metadata": {
      "application/vnd.databricks.v1+output": {
       "addedWidgets": {},
       "arguments": {},
       "data": "<div>\n<style scoped>\n    .dataframe tbody tr th:only-of-type {\n        vertical-align: middle;\n    }\n\n    .dataframe tbody tr th {\n        vertical-align: top;\n    }\n\n    .dataframe thead th {\n        text-align: right;\n    }\n</style>\n<table border=\"1\" class=\"dataframe\">\n  <thead>\n    <tr style=\"text-align: right;\">\n      <th></th>\n      <th>id</th>\n      <th>domain</th>\n      <th>title</th>\n      <th>subtitle</th>\n      <th>author</th>\n      <th>content</th>\n      <th>url</th>\n      <th>source</th>\n      <th>source_country</th>\n      <th>source_state</th>\n      <th>crawled_date</th>\n      <th>published_date</th>\n    </tr>\n  </thead>\n  <tbody>\n    <tr>\n      <th>0</th>\n      <td>185445173</td>\n      <td>www.novanoticias.com.br</td>\n      <td>Deputado Roberto Hashioka pede duplicação de 3...</td>\n      <td>O parlamentar destacou ainda que, desde a impl...</td>\n      <td>Não informado</td>\n      <td>Na sessão plenária desta quinta-feira, 16, o d...</td>\n      <td>https://www.novanoticias.com.br/noticias/polit...</td>\n      <td>Nova Notícias</td>\n      <td>br</td>\n      <td>Mato Grosso do Sul</td>\n      <td>2023-02-16 11:20:55.676827</td>\n      <td>2023-02-17 14:21:46</td>\n    </tr>\n    <tr>\n      <th>1</th>\n      <td>185316683</td>\n      <td>www.correiodopovo.com.br</td>\n      <td>Freeway deve receber mais de meio milhão de ve...</td>\n      <td>Movimento nas estradas estaduais também será i...</td>\n      <td>Christian Bueller</td>\n      <td>Segundo a previsão da concessionária da BR-290...</td>\n      <td>https://www.correiodopovo.com.br/not%C3%ADcias...</td>\n      <td>Correio do Povo</td>\n      <td>br</td>\n      <td>Rio Grande do Sul</td>\n      <td>2023-02-15 18:15:14</td>\n      <td>2023-02-17 07:00:00</td>\n    </tr>\n    <tr>\n      <th>2</th>\n      <td>185351987</td>\n      <td>gazetadealagoas.com.br</td>\n      <td></td>\n      <td></td>\n      <td>Não informado</td>\n      <td>GAZETA DE ALAGOAS QUINTA-FEIRA, 16 DE FEVEREIR...</td>\n      <td>https://s3.amazonaws.com/static.resources/orig...</td>\n      <td>Gazeta de Alagoas - AL</td>\n      <td>br</td>\n      <td>Alagoas</td>\n      <td>2023-02-15 23:43:15</td>\n      <td>2023-02-16 23:43:15</td>\n    </tr>\n    <tr>\n      <th>3</th>\n      <td>185357022</td>\n      <td>www.portaldecamaqua.com.br</td>\n      <td>Menino de quatro anos fica ferido em acidente ...</td>\n      <td>Acidente envolveu um Toyota Etios, com placas ...</td>\n      <td>Não informado</td>\n      <td>Na tarde desta quarta-feira, dia 15 de feverei...</td>\n      <td>https://www.portaldecamaqua.com.br/noticias/60...</td>\n      <td>Portal de Camaquã</td>\n      <td>br</td>\n      <td></td>\n      <td>2023-02-15 23:35:05</td>\n      <td>2023-02-16 23:35:05</td>\n    </tr>\n    <tr>\n      <th>4</th>\n      <td>185351322</td>\n      <td>drive.google.com</td>\n      <td></td>\n      <td></td>\n      <td>Não informado</td>\n      <td>Poliana Moça\\n\\nTheo oferece\\n\\nDê mais confia...</td>\n      <td>https://s3.amazonaws.com/static.resources/orig...</td>\n      <td>Jornal Guarulhos Hoje - Impresso - Flip</td>\n      <td>br</td>\n      <td>São Paulo</td>\n      <td>2023-02-15 23:01:10</td>\n      <td>2023-02-16 23:01:10</td>\n    </tr>\n    <tr>\n      <th>...</th>\n      <td>...</td>\n      <td>...</td>\n      <td>...</td>\n      <td>...</td>\n      <td>...</td>\n      <td>...</td>\n      <td>...</td>\n      <td>...</td>\n      <td>...</td>\n      <td>...</td>\n      <td>...</td>\n      <td>...</td>\n    </tr>\n    <tr>\n      <th>95</th>\n      <td>184871925</td>\n      <td>acervo.folha.uol.com.br</td>\n      <td></td>\n      <td></td>\n      <td>Não informado</td>\n      <td>FOLHA DE S.PAULO * + *\\nSEGUNDA-FEIRA, 13 DE F...</td>\n      <td>https://s3.amazonaws.com/static.resources/orig...</td>\n      <td>Folha de São Paulo - Impresso - Flip</td>\n      <td>br</td>\n      <td>São Paulo</td>\n      <td>2023-02-12 23:42:28</td>\n      <td>2023-02-13 23:42:28</td>\n    </tr>\n    <tr>\n      <th>96</th>\n      <td>185011670</td>\n      <td>mixvale.com.br</td>\n      <td>Segurados com doenças na coluna podem pedir ap...</td>\n      <td></td>\n      <td>Não informado</td>\n      <td>Segurados com doenças na coluna podem pedir ap...</td>\n      <td>https://mixvale.com.br/2023/02/13/segurados-co...</td>\n      <td>Mix Vale</td>\n      <td>br</td>\n      <td>Minas Gerais</td>\n      <td>2023-02-13 20:59:36</td>\n      <td>2023-02-13 20:59:36</td>\n    </tr>\n    <tr>\n      <th>97</th>\n      <td>184965334</td>\n      <td>folhacapital.com.br</td>\n      <td>Henfil realiza blitz educativa no Hospital e M...</td>\n      <td></td>\n      <td>Não informado</td>\n      <td>PALMAS\\nPublicado em\\n13 de fevereiro de 2023\\...</td>\n      <td>https://folhacapital.com.br/palmas/henfil-real...</td>\n      <td>Folha Capital</td>\n      <td>br</td>\n      <td>Tocantins</td>\n      <td>2023-02-13 15:18:22</td>\n      <td>2023-02-13 17:46:03</td>\n    </tr>\n    <tr>\n      <th>98</th>\n      <td>184989290</td>\n      <td>surgiu.com.br</td>\n      <td>Secretária de Assistência Social e profissiona...</td>\n      <td></td>\n      <td>Não informado</td>\n      <td>A secretária de Assistência Social de Marianóp...</td>\n      <td>https://surgiu.com.br/2023/02/13/secretaria-de...</td>\n      <td>Surgiu</td>\n      <td>br</td>\n      <td>São Paulo</td>\n      <td>2023-02-13 17:45:07</td>\n      <td>2023-02-13 17:45:07</td>\n    </tr>\n    <tr>\n      <th>99</th>\n      <td>185026936</td>\n      <td>correiodecarajas.com.br</td>\n      <td>Acuada por ação na Justiça, Vale vai pagar R$ ...</td>\n      <td></td>\n      <td>Não informado</td>\n      <td>O Ministério Público do Trabalho (MPT), o Sind...</td>\n      <td>https://correiodecarajas.com.br/acuada-por-aca...</td>\n      <td>Correio de Carajás</td>\n      <td>br</td>\n      <td>Pará</td>\n      <td>2023-02-13 23:39:46</td>\n      <td>2023-02-13 17:34:06</td>\n    </tr>\n  </tbody>\n</table>\n<p>100 rows × 12 columns</p>\n</div>",
       "datasetInfos": [],
       "metadata": {},
       "removedWidgets": [],
       "textData": null,
       "type": "htmlSandbox"
      }
     },
     "output_type": "display_data"
    }
   ],
   "source": [
    "data_you_need"
   ]
  },
  {
   "cell_type": "code",
   "execution_count": 0,
   "metadata": {
    "application/vnd.databricks.v1+cell": {
     "cellMetadata": {},
     "inputWidgets": {},
     "nuid": "c9a53d10-c691-419f-a194-4c7c40dad817",
     "showTitle": false,
     "title": ""
    }
   },
   "outputs": [],
   "source": []
  },
  {
   "cell_type": "code",
   "execution_count": 0,
   "metadata": {
    "application/vnd.databricks.v1+cell": {
     "cellMetadata": {},
     "inputWidgets": {},
     "nuid": "745091d7-05e2-4a7a-a8c9-3688fa4952c8",
     "showTitle": false,
     "title": ""
    }
   },
   "outputs": [],
   "source": [
    "nodeID = '820'        \n",
    "urlNodeID = 'https://app.inguru.me/api/v1/taxonomies/nodes/'+str(nodeID)        \n",
    "newsID = API_INGURU(url = urlNodeID)['data'][0]['id']        \n",
    "time.sleep(5)        \n",
    "url = 'https://app.inguru.me/api/v1/taxonomies/nodes/news/'+str(newsID)        \n",
    "API_INGURU(url = url)        \n",
    "df = pd.DataFrame.from_dict(API_INGURU(url = url)['data'])        \n",
    "time.sleep(5)           \n",
    "df['date'] = pd.to_datetime('today').strftime(\"%d/%m/%Y\")        \n",
    "parquet_output = tmp + 'inguru' + '.parquet'        \n",
    "df.to_parquet(parquet_output, index=False)        \n",
    "print(parquet_output)        \n",
    "__drop_directory(adl, schema, table)        \n",
    "time.sleep(5)        \n",
    "__upload_file(adl, schema, table,year=year,file=parquet_output)"
   ]
  },
  {
   "cell_type": "code",
   "execution_count": 0,
   "metadata": {
    "application/vnd.databricks.v1+cell": {
     "cellMetadata": {},
     "inputWidgets": {},
     "nuid": "68c6662f-dac2-467e-81be-f4cbcf9b0c91",
     "showTitle": false,
     "title": ""
    }
   },
   "outputs": [
    {
     "output_type": "display_data",
     "data": {
      "text/html": [
       "<style scoped>\n  .ansiout {\n    display: block;\n    unicode-bidi: embed;\n    white-space: pre-wrap;\n    word-wrap: break-word;\n    word-break: break-all;\n    font-family: \"Source Code Pro\", \"Menlo\", monospace;;\n    font-size: 13px;\n    color: #555;\n    margin-left: 4px;\n    line-height: 19px;\n  }\n</style>\n<div class=\"ansiout\"></div>"
      ]
     },
     "metadata": {
      "application/vnd.databricks.v1+output": {
       "addedWidgets": {},
       "arguments": {},
       "data": "<div class=\"ansiout\"></div>",
       "datasetInfos": [],
       "metadata": {},
       "removedWidgets": [],
       "type": "html"
      }
     },
     "output_type": "display_data"
    }
   ],
   "source": [
    "#Inserção de hora nas tabelas.\n",
    "dh_insertion_raw = var_adf[\"adf_trigger_time\"].split(\".\")[0] #Obtendo hora do sistema\n",
    "\n",
    "for df in graph_dfs:\n",
    "  df = df.withColumn(\"dh_insertion_raw\", f.lit(dh_insertion_raw).cast(\"timestamp\")) #Gravando hora em cada um dos dataframes"
   ]
  },
  {
   "cell_type": "code",
   "execution_count": 0,
   "metadata": {
    "application/vnd.databricks.v1+cell": {
     "cellMetadata": {},
     "inputWidgets": {},
     "nuid": "c01bbf30-ca3d-463d-b901-6612cc31f14c",
     "showTitle": false,
     "title": ""
    }
   },
   "outputs": [
    {
     "output_type": "display_data",
     "data": {
      "text/html": [
       "<style scoped>\n  .ansiout {\n    display: block;\n    unicode-bidi: embed;\n    white-space: pre-wrap;\n    word-wrap: break-word;\n    word-break: break-all;\n    font-family: \"Source Code Pro\", \"Menlo\", monospace;;\n    font-size: 13px;\n    color: #555;\n    margin-left: 4px;\n    line-height: 19px;\n  }\n</style>\n<div class=\"ansiout\"></div>"
      ]
     },
     "metadata": {
      "application/vnd.databricks.v1+output": {
       "addedWidgets": {},
       "arguments": {},
       "data": "<div class=\"ansiout\"></div>",
       "datasetInfos": [],
       "metadata": {},
       "removedWidgets": [],
       "type": "html"
      }
     },
     "output_type": "display_data"
    }
   ],
   "source": [
    "#Realizando a persistência das tabelas.\n",
    "#Lê se a mesma já existe, caso sim, compara com a nova e adiciona as diferenças.\n",
    "#Caso não, pula para a gravação das tabelas.\n",
    "try:\n",
    "  for i, df in enumerate(graph_dfs):\n",
    "    path = source_lnd + \"_\" + str(graph_names[i])\n",
    "    old_df = spark.read.parquet(path)\n",
    "    diff_df = df.subtract(old_df)\n",
    "    df = df.union(diff_df)\n",
    "except:\n",
    "  pass"
   ]
  },
  {
   "cell_type": "code",
   "execution_count": 0,
   "metadata": {
    "application/vnd.databricks.v1+cell": {
     "cellMetadata": {},
     "inputWidgets": {},
     "nuid": "6b0afec3-2201-4ad3-b7ac-3725d37fd24e",
     "showTitle": false,
     "title": ""
    }
   },
   "outputs": [
    {
     "output_type": "display_data",
     "data": {
      "text/html": [
       "<style scoped>\n  .ansiout {\n    display: block;\n    unicode-bidi: embed;\n    white-space: pre-wrap;\n    word-wrap: break-word;\n    word-break: break-all;\n    font-family: \"Source Code Pro\", \"Menlo\", monospace;;\n    font-size: 13px;\n    color: #555;\n    margin-left: 4px;\n    line-height: 19px;\n  }\n</style>\n<div class=\"ansiout\"></div>"
      ]
     },
     "metadata": {
      "application/vnd.databricks.v1+output": {
       "addedWidgets": {},
       "arguments": {},
       "data": "<div class=\"ansiout\"></div>",
       "datasetInfos": [],
       "metadata": {},
       "removedWidgets": [],
       "type": "html"
      }
     },
     "output_type": "display_data"
    }
   ],
   "source": [
    "#Gravação das tabelas\n",
    "for i, df in enumerate(graph_dfs):\n",
    "  path = source_lnd + \"_\" + str(graph_names[i])\n",
    "  df.write.parquet(path, mode=\"overwrite\")"
   ]
  },
  {
   "cell_type": "code",
   "execution_count": 0,
   "metadata": {
    "application/vnd.databricks.v1+cell": {
     "cellMetadata": {},
     "inputWidgets": {},
     "nuid": "22aabcd1-6e16-4e3d-895d-0467f46a32ac",
     "showTitle": false,
     "title": ""
    }
   },
   "outputs": [
    {
     "output_type": "display_data",
     "data": {
      "text/html": [
       "<style scoped>\n  .ansiout {\n    display: block;\n    unicode-bidi: embed;\n    white-space: pre-wrap;\n    word-wrap: break-word;\n    word-break: break-all;\n    font-family: \"Source Code Pro\", \"Menlo\", monospace;;\n    font-size: 13px;\n    color: #555;\n    margin-left: 4px;\n    line-height: 19px;\n  }\n</style>\n<div class=\"ansiout\">[REDACTED]/tmp/dev/uld/API_InGuru/inguro_prevencao_acidente_trab_Nodo_Raiz\n[REDACTED]/tmp/dev/uld/API_InGuru/inguro_prevencao_acidente_trab_ACIDENTES_DE_TRABALHO\n</div>"
      ]
     },
     "metadata": {
      "application/vnd.databricks.v1+output": {
       "addedWidgets": {},
       "arguments": {},
       "data": "<div class=\"ansiout\">[REDACTED]/tmp/dev/uld/API_InGuru/inguro_prevencao_acidente_trab_Nodo_Raiz\n[REDACTED]/tmp/dev/uld/API_InGuru/inguro_prevencao_acidente_trab_ACIDENTES_DE_TRABALHO\n</div>",
       "datasetInfos": [],
       "metadata": {},
       "removedWidgets": [],
       "type": "html"
      }
     },
     "output_type": "display_data"
    }
   ],
   "source": [
    "# CARREGAMENTO DAS TABELAS PARA VER SE FORAM SALVAS CORRETAMENTE\n",
    "test_dfs = []\n",
    "for i, df in enumerate(graph_dfs):\n",
    "  path = source_lnd + \"_\" + str(graph_names[i])\n",
    "  test_dfs.append(spark.read.parquet(path))\n",
    "  print(path)"
   ]
  },
  {
   "cell_type": "code",
   "execution_count": 0,
   "metadata": {
    "application/vnd.databricks.v1+cell": {
     "cellMetadata": {},
     "inputWidgets": {},
     "nuid": "4e868f1b-a70c-4e35-aaa4-932b626ebdec",
     "showTitle": false,
     "title": ""
    }
   },
   "outputs": [],
   "source": []
  }
 ],
 "metadata": {
  "application/vnd.databricks.v1+notebook": {
   "dashboards": [],
   "language": "python",
   "notebookMetadata": {
    "pythonIndentUnit": 2
   },
   "notebookName": "org_raw_inguru_prevencao_acidente_trab_full",
   "notebookOrigID": 2337396011154401,
   "widgets": {}
  }
 },
 "nbformat": 4,
 "nbformat_minor": 0
}
