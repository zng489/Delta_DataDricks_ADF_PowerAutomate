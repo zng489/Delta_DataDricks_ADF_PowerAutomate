{
 "cells": [
  {
   "cell_type": "code",
   "execution_count": 0,
   "metadata": {
    "application/vnd.databricks.v1+cell": {
     "cellMetadata": {
      "byteLimit": 2048000,
      "rowLimit": 10000
     },
     "inputWidgets": {},
     "nuid": "2a451ea7-ee79-4aec-a5f3-f24ff087ed6b",
     "showTitle": false,
     "title": ""
    }
   },
   "outputs": [],
   "source": [
    "import json\n",
    "import re\n",
    "import cni_connectors.adls_gen1_connector as connector\n",
    "import pyspark.sql.functions as f\n",
    "import crawler.functions as cf\n",
    "import requests\n",
    "import pandas as pd\n",
    "import numpy as np\n",
    "from datetime import datetime, timedelta\n",
    "from pyspark.sql.types import StructType, StructField, StringType, TimestampType, LongType, DoubleType"
   ]
  },
  {
   "cell_type": "code",
   "execution_count": 0,
   "metadata": {
    "application/vnd.databricks.v1+cell": {
     "cellMetadata": {
      "byteLimit": 2048000,
      "rowLimit": 10000
     },
     "inputWidgets": {},
     "nuid": "461c1ba8-c541-40f5-8f62-783fc64fa709",
     "showTitle": false,
     "title": ""
    }
   },
   "outputs": [
    {
     "output_type": "stream",
     "name": "stdout",
     "output_type": "stream",
     "text": [
      "fornecedor_dev\ndev-execution\n"
     ]
    }
   ],
   "source": [
    "var_adls_uri = connector.adls_gen1_connect(spark, dbutils, scope=\"adls_gen2\", dynamic_overwrite=\"dynamic\")"
   ]
  },
  {
   "cell_type": "code",
   "execution_count": 0,
   "metadata": {
    "application/vnd.databricks.v1+cell": {
     "cellMetadata": {
      "byteLimit": 2048000,
      "rowLimit": 10000
     },
     "inputWidgets": {},
     "nuid": "a8fb7c3a-4f0f-4547-a691-70e09114dfe6",
     "showTitle": false,
     "title": ""
    }
   },
   "outputs": [],
   "source": [
    "#Parametros de entrado do ADF\n",
    "var_file = {'namespace':'API_InGuru',\n",
    "'file_folder':'inguro_acidente_trab_sem_obito',\n",
    "'extension':'csv',\n",
    "'column_delimiter':',',\n",
    "'encoding':'UTF-8',\n",
    "'null_value':''}\n",
    "\n",
    "#Caminho de Dev\n",
    "var_dls = {\n",
    "    \"folders\":{\"landing\":\"/tmp/dev/uld\",\n",
    "    \"error\":\"/tmp/dev/err\",\n",
    "    \"staging\":\"/tmp/dev/stg\",\n",
    "    \"log\":\"/tmp/dev/log\",\n",
    "    \"raw\":\"/tmp/dev/raw\",\n",
    "    \"trusted\":\"/tmp/dev/trs\",\n",
    "    \"business\":\"/tmp/dev/biz\",\n",
    "    \"landing\":\"/tmp/dev/uld\"          }}\n",
    "#Parametros do ADF (Nativo)\n",
    "var_adf = {\n",
    "    \"adf_factory_name\": \"cnibigdatafactory\",\n",
    "    \"adf_pipeline_name\": \"org_raw_acidente_trab_sem_obito\",\n",
    "    \"adf_pipeline_run_id\": \"60ee3485-4a56-4ad1-99ae-666666666\",\n",
    "    \"adf_trigger_id\": \"62bee9e9-acbb-49cc-80f2-666666666\",\n",
    "    \"adf_trigger_name\": \"62bee9e9-acbb-49cc-80f2-66666666\",\n",
    "    \"adf_trigger_time\": \"2020-06-08T01:42:41.5507749Z\",\n",
    "    \"adf_trigger_type\": \"PipelineActivity\"\n",
    "}"
   ]
  },
  {
   "cell_type": "code",
   "execution_count": 0,
   "metadata": {
    "application/vnd.databricks.v1+cell": {
     "cellMetadata": {
      "byteLimit": 2048000,
      "rowLimit": 10000
     },
     "inputWidgets": {},
     "nuid": "683221c8-f841-4313-9375-35def44ec47d",
     "showTitle": false,
     "title": ""
    }
   },
   "outputs": [],
   "source": [
    "#Acesso ao json do CMD\n",
    "lnd = var_dls['folders']['landing']\n",
    "raw = var_dls['folders']['raw']"
   ]
  },
  {
   "cell_type": "code",
   "execution_count": 0,
   "metadata": {
    "application/vnd.databricks.v1+cell": {
     "cellMetadata": {
      "byteLimit": 2048000,
      "rowLimit": 10000
     },
     "inputWidgets": {},
     "nuid": "a88d750d-faa9-4c4c-bb00-3d3ddfe1d799",
     "showTitle": false,
     "title": ""
    }
   },
   "outputs": [
    {
     "output_type": "stream",
     "name": "stdout",
     "output_type": "stream",
     "text": [
      "Out[27]: '/tmp/dev/uld/API_InGuru/inguro_acidente_trab_sem_obito/'"
     ]
    }
   ],
   "source": [
    "var_source = \"{lnd}/{namespace}/{file_folder}/\".format(lnd=lnd, namespace=var_file['namespace'], file_folder=var_file['file_folder'])\n",
    "var_source"
   ]
  },
  {
   "cell_type": "code",
   "execution_count": 0,
   "metadata": {
    "application/vnd.databricks.v1+cell": {
     "cellMetadata": {
      "byteLimit": 2048000,
      "rowLimit": 10000
     },
     "inputWidgets": {},
     "nuid": "5a72ae79-0bd9-49a3-8281-232c2b17b8ee",
     "showTitle": false,
     "title": ""
    }
   },
   "outputs": [
    {
     "output_type": "stream",
     "name": "stdout",
     "output_type": "stream",
     "text": [
      "Out[28]: '[REDACTED]/tmp/dev/uld/API_InGuru/inguro_acidente_trab_sem_obito'"
     ]
    }
   ],
   "source": [
    "#Origem e destino\n",
    "source_lnd = \"{adl_path}{lnd}/{namespace}/{file_folder}\".format(adl_path=var_adls_uri, lnd=lnd, namespace=var_file[\"namespace\"],file_folder=var_file[\"file_folder\"])\n",
    "source_lnd"
   ]
  },
  {
   "cell_type": "code",
   "execution_count": 0,
   "metadata": {
    "application/vnd.databricks.v1+cell": {
     "cellMetadata": {
      "byteLimit": 2048000,
      "rowLimit": 10000
     },
     "inputWidgets": {},
     "nuid": "5aa8a97c-d801-4871-98d6-8432bfc6889c",
     "showTitle": false,
     "title": ""
    }
   },
   "outputs": [],
   "source": [
    "azure_path = 'abfss://datalake@cnibigdatadlsgen2.dfs.core.windows.net'\n",
    "outputh_path = '{uri}/uds/uniepro/API_InGuru/inguro_vig_acidente_trab'.format(uri=azure_path)\n",
    "\n",
    "def API_INGURU(url, per_page, start_date, end_date):\n",
    "    headers = {\n",
    "    'User-Agent':'Mozilla/5.0 (Windows NT 10.0; Win64; x64) AppleWebKit/537.36 (KHTML, like Gecko) Chrome/100.0.4896.127 Safari/537.36',\n",
    "    'accept':'application/json',\n",
    "    'authorization': '6f64d6a047fad369d35c3806f8f8e0560475075a432585973f91caae35b4ad74'\n",
    "    } \n",
    "\n",
    "    params = {\n",
    "        'per_page': per_page,\n",
    "        'start_date': start_date,\n",
    "        'end_date': end_date,\n",
    "        'sort': '1'\n",
    "    }\n",
    "    response = requests.get(url, headers=headers, params=params)\n",
    "    return response.json()"
   ]
  },
  {
   "cell_type": "code",
   "execution_count": 0,
   "metadata": {
    "application/vnd.databricks.v1+cell": {
     "cellMetadata": {
      "byteLimit": 2048000,
      "rowLimit": 10000
     },
     "inputWidgets": {},
     "nuid": "0ca80bb2-bf14-4f02-bc90-72a8217beddf",
     "showTitle": false,
     "title": ""
    }
   },
   "outputs": [],
   "source": [
    "def divide_data(data_inicial, data_final):\n",
    "    formato_data = '%d/%m/%Y %H:%M'\n",
    "\n",
    "    data_inicial = datetime.strptime(data_inicial, formato_data)\n",
    "    data_final = datetime.strptime(data_final, formato_data)\n",
    "    intervalo = data_final - data_inicial\n",
    "    data_final = data_inicial + intervalo // 2\n",
    "    data_final = data_final.replace(hour=23, minute=59, second=59) # define o final como o último segundo do minuto\n",
    "    data_final = data_final.strftime(formato_data)\n",
    "    data_inicial = data_inicial.strftime(formato_data)\n",
    "    return (data_inicial, data_final)"
   ]
  },
  {
   "cell_type": "code",
   "execution_count": 0,
   "metadata": {
    "application/vnd.databricks.v1+cell": {
     "cellMetadata": {
      "byteLimit": 2048000,
      "rowLimit": 10000
     },
     "inputWidgets": {},
     "nuid": "cf26b222-54e8-457b-bc6a-88a6385fe14a",
     "showTitle": false,
     "title": ""
    }
   },
   "outputs": [],
   "source": [
    "def load_big_df(path):\n",
    "  schema = StructType([\n",
    "    StructField(\"id\", LongType(), nullable=True),\n",
    "    StructField(\"domain\", StringType(), nullable=True),\n",
    "    StructField(\"title\", StringType(), nullable=True),\n",
    "    StructField(\"subtitle\", StringType(), nullable=True),\n",
    "    StructField(\"author\", StringType(), nullable=True),\n",
    "    StructField(\"content\", StringType(), nullable=True),\n",
    "    StructField(\"url\", StringType(), nullable=True),\n",
    "    StructField(\"source\", StringType(), nullable=True),\n",
    "    StructField(\"source_country\", StringType(), nullable=True),\n",
    "    StructField(\"source_state\", StringType(), nullable=True),\n",
    "    StructField(\"crawled_date\", StringType(), nullable=True),\n",
    "    StructField(\"published_date\", StringType(), nullable=True),\n",
    "    StructField(\"dh_insertion_raw\", StringType(), nullable=True)\n",
    "  ])\n",
    "\n",
    "  df = spark.read.schema(schema) \\\n",
    "             .option(\"mergeSchema\", \"true\") \\\n",
    "             .option(\"timestampFormat\", \"INT96\") \\\n",
    "             .parquet(path) \\\n",
    "             .withColumn(\"dh_insertion_raw\", f.col(\"dh_insertion_raw\").cast(\"timestamp\"))\\\n",
    "             .withColumn(\"crawled_date\", f.col(\"crawled_date\").cast(\"timestamp\"))\n",
    "  \n",
    "  return df"
   ]
  },
  {
   "cell_type": "code",
   "execution_count": 0,
   "metadata": {
    "application/vnd.databricks.v1+cell": {
     "cellMetadata": {
      "byteLimit": 2048000,
      "rowLimit": 10000
     },
     "inputWidgets": {},
     "nuid": "8ef4be5b-f940-46ca-81ab-f6e19a3719e1",
     "showTitle": false,
     "title": ""
    }
   },
   "outputs": [],
   "source": [
    "def get_news(data_inicial, data_final, id):\n",
    "    url = 'https://app.inguru.me/api/v1/taxonomies/nodes/news/'+str(id)\n",
    "\n",
    "    array_dfs = []\n",
    "\n",
    "    getted_news = 0\n",
    "    \n",
    "    total_news = API_INGURU(url, 1, data_inicial, data_final)['pagination']['total']\n",
    "\n",
    "    \n",
    "    if not total_news:\n",
    "      parcial_data_inicial = data_inicial\n",
    "      parcial_data_final = data_final\n",
    "      dados = {\n",
    "        'author': np.nan,\n",
    "        'content': np.nan,\n",
    "        'crawled_date': np.nan,\n",
    "        'domain': np.nan,\n",
    "        'id': np.nan,\n",
    "        'published_date': np.nan,\n",
    "        'source': np.nan,\n",
    "        'source_country': np.nan,\n",
    "        'source_state': np.nan,\n",
    "        'subtitle': np.nan,\n",
    "        'title': np.nan,\n",
    "        'url': np.nan,\n",
    "        'dh_insertion_raw': np.nan\n",
    "      }\n",
    "      fail_df = pd.DataFrame(dados, index=[0])\n",
    "      array_dfs.append(fail_df)\n",
    "      parcial_data_inicial = parcial_data_final\n",
    "      parcial_data_final = data_final\n",
    "    else:\n",
    "      \n",
    "      print('Total de notícias: ', total_news)\n",
    "\n",
    "      parcial_data_inicial = data_inicial\n",
    "      parcial_data_final = data_final\n",
    "\n",
    "      while getted_news < total_news:\n",
    "\n",
    "          parcial_news = total_news\n",
    "\n",
    "          while parcial_news > 10000:\n",
    "              print('Parcial de notícias: ', parcial_news)\n",
    "              parcial_data_inicial, parcial_data_final = divide_data(parcial_data_inicial, parcial_data_final)\n",
    "              parcial_news = API_INGURU(url, 1, parcial_data_inicial, parcial_data_final)['pagination']['total']\n",
    "\n",
    "          print(\"fazendo requisicao\")\n",
    "          print('Data inicial: ', parcial_data_inicial)\n",
    "          print('Data final: ', parcial_data_final)\n",
    "          news = API_INGURU(url, parcial_news, parcial_data_inicial, parcial_data_final)['data']\n",
    "\n",
    "          #CRIA UM DATAFRAME COM AS NOTICIAS\n",
    "          noticias = pd.DataFrame(news)\n",
    "          #ADICIONA NUM ARRAY DE DATAFRAME\n",
    "          array_dfs.append(noticias)\n",
    "\n",
    "          #corrige as datas\n",
    "\n",
    "          parcial_data_inicial = parcial_data_final\n",
    "          parcial_data_final = data_final\n",
    "\n",
    "          getted_news += parcial_news\n",
    "          \n",
    "\n",
    "    return pd.concat(array_dfs)"
   ]
  },
  {
   "cell_type": "markdown",
   "metadata": {
    "application/vnd.databricks.v1+cell": {
     "cellMetadata": {},
     "inputWidgets": {},
     "nuid": "d029b164-14df-4e30-bf8c-73574555d434",
     "showTitle": false,
     "title": ""
    }
   },
   "source": [
    "### Ingestão de anos anteriores"
   ]
  },
  {
   "cell_type": "markdown",
   "metadata": {
    "application/vnd.databricks.v1+cell": {
     "cellMetadata": {},
     "inputWidgets": {},
     "nuid": "229078d0-eb96-4b2a-a8dd-2f410e0530a7",
     "showTitle": false,
     "title": ""
    }
   },
   "source": [
    "Teve de ser criado pois a API não carrega todos os anos por alguma limitação.\n",
    "\n",
    "PRECISA SER RODADO APENAS NA PRIMEIRA VEZ"
   ]
  },
  {
   "cell_type": "code",
   "execution_count": 0,
   "metadata": {
    "application/vnd.databricks.v1+cell": {
     "cellMetadata": {
      "byteLimit": 2048000,
      "rowLimit": 10000
     },
     "inputWidgets": {},
     "nuid": "e70431ee-6ac4-4c01-8f02-4d1a0be375e9",
     "showTitle": false,
     "title": ""
    }
   },
   "outputs": [],
   "source": [
    "def insere_news(data_inicial, data_final, id, path):\n",
    "  url = 'https://app.inguru.me/api/v1/taxonomies/nodes/news/'+str(id)\n",
    "\n",
    "  array_dfs = []\n",
    "\n",
    "  getted_news = 0\n",
    "    \n",
    "  total_news = API_INGURU(url, 1, data_inicial, data_final)['pagination']['total']\n",
    "    \n",
    "  if total_news:\n",
    "      \n",
    "#     print('Total de notícias: ', total_news)\n",
    "\n",
    "    parcial_data_inicial = data_inicial\n",
    "    parcial_data_final = data_final\n",
    "\n",
    "    while getted_news < total_news:\n",
    "\n",
    "      parcial_news = total_news\n",
    "\n",
    "      while parcial_news > 10000:\n",
    "#         print('Parcial de notícias: ', parcial_news)\n",
    "        parcial_data_inicial, parcial_data_final = divide_data(parcial_data_inicial, parcial_data_final)\n",
    "        parcial_news = API_INGURU(url, 1, parcial_data_inicial, parcial_data_final)['pagination']['total']\n",
    "\n",
    "#       print(\"fazendo requisicao\")\n",
    "#       print('Data inicial: ', parcial_data_inicial)\n",
    "#       print('Data final: ', parcial_data_final)\n",
    "      news = API_INGURU(url, parcial_news, parcial_data_inicial, parcial_data_final)['data']\n",
    "\n",
    "      #CRIA UM DATAFRAME COM AS NOTICIAS\n",
    "      noticias = pd.DataFrame(news)\n",
    "\n",
    "      #corrige as datas\n",
    "      parcial_data_inicial = parcial_data_final\n",
    "      parcial_data_final = data_final\n",
    "\n",
    "      getted_news += parcial_news\n",
    "\n",
    "      dh_insertion_raw = var_adf[\"adf_trigger_time\"].split(\".\")[0]\n",
    "\n",
    "      schema = StructType([\n",
    "        StructField(\"id\", LongType(), nullable=True),\n",
    "        StructField(\"domain\", StringType(), nullable=True),\n",
    "        StructField(\"title\", StringType(), nullable=True),\n",
    "        StructField(\"subtitle\", StringType(), nullable=True),\n",
    "        StructField(\"author\", StringType(), nullable=True),\n",
    "        StructField(\"content\", StringType(), nullable=True),\n",
    "        StructField(\"url\", StringType(), nullable=True),\n",
    "        StructField(\"source\", StringType(), nullable=True),\n",
    "        StructField(\"source_country\", StringType(), nullable=True),\n",
    "        StructField(\"source_state\", StringType(), nullable=True),\n",
    "        StructField(\"crawled_date\", StringType(), nullable=True),\n",
    "        StructField(\"published_date\", StringType(), nullable=True)\n",
    "      ])\n",
    "\n",
    "      saveDF = spark.createDataFrame(noticias, schema)\n",
    "      saveDF = saveDF.withColumn(\"dh_insertion_raw\", f.lit(dh_insertion_raw).cast(\"string\"))\n",
    "      saveDF.write.parquet(path, \"append\")\n",
    "      print(\"Total:\", total_news)\n",
    "      print(\"Inseridas:\", getted_news)\n",
    "    \n",
    "  else:\n",
    "    print(\"Sem dados\")\n"
   ]
  },
  {
   "cell_type": "code",
   "execution_count": 0,
   "metadata": {
    "application/vnd.databricks.v1+cell": {
     "cellMetadata": {
      "byteLimit": 2048000,
      "rowLimit": 10000
     },
     "inputWidgets": {},
     "nuid": "ae02e067-ee09-4f75-aef6-fa2692eb51eb",
     "showTitle": false,
     "title": ""
    }
   },
   "outputs": [
    {
     "output_type": "stream",
     "name": "stdout",
     "output_type": "stream",
     "text": [
      "Total: 696086\nInseridas: 537\nTotal: 696086\nInseridas: 8733\nTotal: 696086\nInseridas: 17920\nTotal: 696086\nInseridas: 22655\nTotal: 696086\nInseridas: 23721\nTotal: 696086\nInseridas: 33015\nTotal: 696086\nInseridas: 39495\nTotal: 696086\nInseridas: 43091\nTotal: 696086\nInseridas: 48819\nTotal: 696086\nInseridas: 53625\nTotal: 696086\nInseridas: 58873\nTotal: 696086\nInseridas: 68117\nTotal: 696086\nInseridas: 73709\nTotal: 696086\nInseridas: 79346\nTotal: 696086\nInseridas: 86106\nTotal: 696086\nInseridas: 91100\nTotal: 696086\nInseridas: 96653\nTotal: 696086\nInseridas: 102298\nTotal: 696086\nInseridas: 107228\nTotal: 696086\nInseridas: 112855\nTotal: 696086\nInseridas: 117813\nTotal: 696086\nInseridas: 124897\nTotal: 696086\nInseridas: 134153\nTotal: 696086\nInseridas: 143895\nTotal: 696086\nInseridas: 150141\nTotal: 696086\nInseridas: 158429\nTotal: 696086\nInseridas: 165030\nTotal: 696086\nInseridas: 173475\nTotal: 696086\nInseridas: 183182\nTotal: 696086\nInseridas: 192954\nTotal: 696086\nInseridas: 201457\nTotal: 696086\nInseridas: 209614\nTotal: 696086\nInseridas: 218617\nTotal: 696086\nInseridas: 227295\nTotal: 696086\nInseridas: 235132\nTotal: 696086\nInseridas: 241855\nTotal: 696086\nInseridas: 248062\nTotal: 696086\nInseridas: 254567\nTotal: 696086\nInseridas: 261083\nTotal: 696086\nInseridas: 266617\nTotal: 696086\nInseridas: 274011\nTotal: 696086\nInseridas: 280741\nTotal: 696086\nInseridas: 287797\nTotal: 696086\nInseridas: 293947\nTotal: 696086\nInseridas: 300539\nTotal: 696086\nInseridas: 307688\nTotal: 696086\nInseridas: 313646\nTotal: 696086\nInseridas: 321458\nTotal: 696086\nInseridas: 327782\nTotal: 696086\nInseridas: 334303\nTotal: 696086\nInseridas: 340741\nTotal: 696086\nInseridas: 350237\nTotal: 696086\nInseridas: 358687\nTotal: 696086\nInseridas: 367139\nTotal: 696086\nInseridas: 376441\nTotal: 696086\nInseridas: 385369\nTotal: 696086\nInseridas: 392470\nTotal: 696086\nInseridas: 399862\nTotal: 696086\nInseridas: 407033\nTotal: 696086\nInseridas: 413820\nTotal: 696086\nInseridas: 420827\nTotal: 696086\nInseridas: 427682\nTotal: 696086\nInseridas: 434814\nTotal: 696086\nInseridas: 440451\nTotal: 696086\nInseridas: 446328\nTotal: 696086\nInseridas: 453008\nTotal: 696086\nInseridas: 457997\nTotal: 696086\nInseridas: 467267\nTotal: 696086\nInseridas: 474068\nTotal: 696086\nInseridas: 483796\nTotal: 696086\nInseridas: 492012\nTotal: 696086\nInseridas: 500496\nTotal: 696086\nInseridas: 507086\nTotal: 696086\nInseridas: 515723\nTotal: 696086\nInseridas: 523703\nTotal: 696086\nInseridas: 531449\nTotal: 696086\nInseridas: 541297\nTotal: 696086\nInseridas: 545409\nTotal: 696086\nInseridas: 553140\nTotal: 696086\nInseridas: 560033\nTotal: 696086\nInseridas: 569798\nTotal: 696086\nInseridas: 579172\nTotal: 696086\nInseridas: 585864\nTotal: 696086\nInseridas: 593727\nTotal: 696086\nInseridas: 602724\nTotal: 696086\nInseridas: 610042\nTotal: 696086\nInseridas: 616174\nTotal: 696086\nInseridas: 625452\nTotal: 696086\nInseridas: 632501\nTotal: 696086\nInseridas: 639923\nTotal: 696086\nInseridas: 647676\nTotal: 696086\nInseridas: 656359\nTotal: 696086\nInseridas: 663677\nTotal: 696086\nInseridas: 671454\nTotal: 696086\nInseridas: 678753\nTotal: 696086\nInseridas: 682484\nTotal: 696086\nInseridas: 692184\nTotal: 696086\nInseridas: 695398\nTotal: 696086\nInseridas: 696183\nTotal: 304\nInseridas: 304\nTotal: 15075\nInseridas: 74\nTotal: 15075\nInseridas: 781\nTotal: 15075\nInseridas: 1834\nTotal: 15075\nInseridas: 8392\nTotal: 15075\nInseridas: 11359\nTotal: 15075\nInseridas: 12735\nTotal: 15075\nInseridas: 13904\nTotal: 15075\nInseridas: 14506\nTotal: 15075\nInseridas: 14852\nTotal: 15075\nInseridas: 14979\nTotal: 15075\nInseridas: 15063\nTotal: 15075\nInseridas: 15076\n"
     ]
    }
   ],
   "source": [
    "graph_ids = []\n",
    "graph_names = []\n",
    "graph_dfs = []\n",
    "\n",
    "nodeID = '926' #Declaração do ID\n",
    "\n",
    "url_nodeID = 'https://app.inguru.me/api/v1/taxonomies/nodes/'+str(nodeID)\n",
    "IDs = API_INGURU(url = url_nodeID, per_page=1, start_date='', end_date='')['data'][0]\n",
    "graph_ids.append(IDs['id'])\n",
    "graph_names.append(IDs['name'].replace(\" \", \"_\"))\n",
    "\n",
    "#Passa por cada \"filho\" no nó principal, caso não tenha nenhum, nada acontece.\n",
    "for node_children in IDs['children']:\n",
    "  graph_ids.append(node_children['id'])\n",
    "  graph_names.append(node_children['name'].replace(\" \", \"_\"))\n",
    "\n",
    "data_inicial = '01/01/2015 00:00'\n",
    "data_final = datetime.now().strftime(\"%d/%m/%Y %H:%M\")\n",
    "\n",
    "for i, id in enumerate(graph_ids):\n",
    "  path = source_lnd + \"_\" + str(graph_names[i])\n",
    "  insere_news(data_inicial, data_final, id, path)\n"
   ]
  },
  {
   "cell_type": "code",
   "execution_count": 0,
   "metadata": {
    "application/vnd.databricks.v1+cell": {
     "cellMetadata": {
      "byteLimit": 2048000,
      "rowLimit": 10000
     },
     "inputWidgets": {},
     "nuid": "be1326f0-51c6-4b89-b62f-82fbfeb6d75a",
     "showTitle": false,
     "title": ""
    }
   },
   "outputs": [],
   "source": [
    "# CARREGAMENTO DAS TABELAS PARA VER SE FORAM SALVAS CORRETAMENTE\n",
    "test_dfs = []\n",
    "for i, df in enumerate(graph_dfs):\n",
    "  path = source_lnd + \"_\" + str(graph_names[i])\n",
    "  test_dfs.append(load_big_df(path))\n",
    "  print(path)"
   ]
  },
  {
   "cell_type": "code",
   "execution_count": 0,
   "metadata": {
    "application/vnd.databricks.v1+cell": {
     "cellMetadata": {},
     "inputWidgets": {},
     "nuid": "71bf9209-9f64-48ba-acac-77382a1f0516",
     "showTitle": false,
     "title": ""
    }
   },
   "outputs": [
    {
     "output_type": "display_data",
     "data": {
      "text/html": [
       "<style scoped>\n  .ansiout {\n    display: block;\n    unicode-bidi: embed;\n    white-space: pre-wrap;\n    word-wrap: break-word;\n    word-break: break-all;\n    font-family: \"Source Code Pro\", \"Menlo\", monospace;;\n    font-size: 13px;\n    color: #555;\n    margin-left: 4px;\n    line-height: 19px;\n  }\n</style>\n<div class=\"ansiout\">282\n</div>"
      ]
     },
     "metadata": {
      "application/vnd.databricks.v1+output": {
       "addedWidgets": {},
       "arguments": {},
       "data": "<div class=\"ansiout\">282\n</div>",
       "datasetInfos": [],
       "metadata": {},
       "removedWidgets": [],
       "type": "html"
      }
     },
     "output_type": "display_data"
    }
   ],
   "source": [
    "print(test_dfs[1].count())"
   ]
  },
  {
   "cell_type": "code",
   "execution_count": 0,
   "metadata": {
    "application/vnd.databricks.v1+cell": {
     "cellMetadata": {
      "byteLimit": 2048000,
      "rowLimit": 10000
     },
     "inputWidgets": {},
     "nuid": "d5484e04-1c38-4c5a-9c9a-0f03c99ac283",
     "showTitle": false,
     "title": ""
    }
   },
   "outputs": [
    {
     "output_type": "stream",
     "name": "stdout",
     "output_type": "stream",
     "text": [
      "Nodo_Raiz\nCASOS\nACIDENTES_DE_TRABALHO\n"
     ]
    }
   ],
   "source": [
    "#ZERAR A BASE\n",
    "\n",
    "dh_insertion_raw = var_adf[\"adf_trigger_time\"].split(\".\")[0]\n",
    "\n",
    "data = {\n",
    "  'id': 0,\n",
    "  'domain': 'Não informado',\n",
    "  'title': 'Não informado',\n",
    "  'subtitle': 'Não informado',\n",
    "  'author': 'Não informado',\n",
    "  'content': 'Não informado',\n",
    "  'url': 'Não informado',\n",
    "  'source': 'Não informado',\n",
    "  'source_country': 'Não informado',\n",
    "  'source_state': 'Não informado',\n",
    "  'crawled_date': '1900-01-01 00:00:00',\n",
    "  'published_date': '1900-01-01 00:00:00',\n",
    "  'dh_insertion_raw': '2020-06-08T01:42:41.000+0000'\n",
    "}\n",
    "schema = StructType([\n",
    "  StructField(\"id\", LongType(), nullable=True),\n",
    "  StructField(\"domain\", StringType(), nullable=True),\n",
    "  StructField(\"title\", StringType(), nullable=True),\n",
    "  StructField(\"subtitle\", StringType(), nullable=True),\n",
    "  StructField(\"author\", StringType(), nullable=True),\n",
    "  StructField(\"content\", StringType(), nullable=True),\n",
    "  StructField(\"url\", StringType(), nullable=True),\n",
    "  StructField(\"source\", StringType(), nullable=True),\n",
    "  StructField(\"source_country\", StringType(), nullable=True),\n",
    "  StructField(\"source_state\", StringType(), nullable=True),\n",
    "  StructField(\"crawled_date\", StringType(), nullable=True),\n",
    "  StructField(\"published_date\", StringType(), nullable=True),\n",
    "  StructField(\"dh_insertion_raw\", StringType(), nullable=True)\n",
    "  ])\n",
    "\n",
    "data['id'] = int(data['id'])\n",
    "\n",
    "# dfff = pd.DataFrame(data, index=[0])\n",
    "spark_dfff = spark.createDataFrame([tuple(data.values())], schema=schema)\n",
    "for i, df in enumerate(graph_ids):\n",
    "  print(graph_names[i])\n",
    "  path = source_lnd + \"_\" + str(graph_names[i])\n",
    "  spark_dfff.write.parquet(path, mode=\"overwrite\")\n",
    "  "
   ]
  },
  {
   "cell_type": "code",
   "execution_count": 0,
   "metadata": {
    "application/vnd.databricks.v1+cell": {
     "cellMetadata": {
      "byteLimit": 2048000,
      "rowLimit": 10000
     },
     "inputWidgets": {},
     "nuid": "ebb4e78c-8eca-4f6c-90c9-7174f8245ba7",
     "showTitle": false,
     "title": ""
    }
   },
   "outputs": [
    {
     "output_type": "display_data",
     "data": {
      "text/html": [
       "<style scoped>\n  .table-result-container {\n    max-height: 300px;\n    overflow: auto;\n  }\n  table, th, td {\n    border: 1px solid black;\n    border-collapse: collapse;\n  }\n  th, td {\n    padding: 5px;\n  }\n  th {\n    text-align: left;\n  }\n</style><div class='table-result-container'><table class='table-result'><thead style='background-color: white'><tr><th>id</th><th>domain</th><th>title</th><th>subtitle</th><th>author</th><th>content</th><th>url</th><th>source</th><th>source_country</th><th>source_state</th><th>crawled_date</th><th>published_date</th><th>dh_insertion_raw</th></tr></thead><tbody><tr><td>0</td><td>Não informado</td><td>Não informado</td><td>Não informado</td><td>Não informado</td><td>Não informado</td><td>Não informado</td><td>Não informado</td><td>Não informado</td><td>Não informado</td><td>1900-01-01 00:00:00</td><td>1900-01-01 00:00:00</td><td>2020-06-08T01:42:41.000+0000</td></tr></tbody></table></div>"
      ]
     },
     "metadata": {
      "application/vnd.databricks.v1+output": {
       "addedWidgets": {},
       "aggData": [],
       "aggError": "",
       "aggOverflow": false,
       "aggSchema": [],
       "aggSeriesLimitReached": false,
       "aggType": "",
       "arguments": {},
       "columnCustomDisplayInfos": {},
       "data": [
        [
         0,
         "Não informado",
         "Não informado",
         "Não informado",
         "Não informado",
         "Não informado",
         "Não informado",
         "Não informado",
         "Não informado",
         "Não informado",
         "1900-01-01 00:00:00",
         "1900-01-01 00:00:00",
         "2020-06-08T01:42:41.000+0000"
        ]
       ],
       "datasetInfos": [],
       "dbfsResultPath": null,
       "isJsonSchema": true,
       "metadata": {},
       "overflow": false,
       "plotOptions": {
        "customPlotOptions": {},
        "displayType": "table",
        "pivotAggregation": null,
        "pivotColumns": null,
        "xColumns": null,
        "yColumns": null
       },
       "removedWidgets": [],
       "schema": [
        {
         "metadata": "{}",
         "name": "id",
         "type": "\"long\""
        },
        {
         "metadata": "{}",
         "name": "domain",
         "type": "\"string\""
        },
        {
         "metadata": "{}",
         "name": "title",
         "type": "\"string\""
        },
        {
         "metadata": "{}",
         "name": "subtitle",
         "type": "\"string\""
        },
        {
         "metadata": "{}",
         "name": "author",
         "type": "\"string\""
        },
        {
         "metadata": "{}",
         "name": "content",
         "type": "\"string\""
        },
        {
         "metadata": "{}",
         "name": "url",
         "type": "\"string\""
        },
        {
         "metadata": "{}",
         "name": "source",
         "type": "\"string\""
        },
        {
         "metadata": "{}",
         "name": "source_country",
         "type": "\"string\""
        },
        {
         "metadata": "{}",
         "name": "source_state",
         "type": "\"string\""
        },
        {
         "metadata": "{}",
         "name": "crawled_date",
         "type": "\"string\""
        },
        {
         "metadata": "{}",
         "name": "published_date",
         "type": "\"string\""
        },
        {
         "metadata": "{}",
         "name": "dh_insertion_raw",
         "type": "\"string\""
        }
       ],
       "type": "table"
      }
     },
     "output_type": "display_data"
    }
   ],
   "source": [
    "display(spark.read.parquet(path))"
   ]
  },
  {
   "cell_type": "code",
   "execution_count": 0,
   "metadata": {
    "application/vnd.databricks.v1+cell": {
     "cellMetadata": {},
     "inputWidgets": {},
     "nuid": "c5b63546-8436-4c37-90ba-4adf7fdb186a",
     "showTitle": false,
     "title": ""
    }
   },
   "outputs": [],
   "source": []
  }
 ],
 "metadata": {
  "application/vnd.databricks.v1+notebook": {
   "dashboards": [],
   "language": "python",
   "notebookMetadata": {
    "pythonIndentUnit": 2
   },
   "notebookName": "org_raw_inguru_acidente_trab_sem_obito_full",
   "notebookOrigID": 2337396011154353,
   "widgets": {}
  }
 },
 "nbformat": 4,
 "nbformat_minor": 0
}
